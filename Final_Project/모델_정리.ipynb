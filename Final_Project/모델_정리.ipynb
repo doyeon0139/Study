{
 "cells": [
  {
   "cell_type": "code",
   "execution_count": 1,
   "id": "2fdb3675",
   "metadata": {},
   "outputs": [],
   "source": [
    "import pandas as pd\n",
    "import numpy as np\n",
    "import matplotlib.pyplot as plt\n",
    "import seaborn as sns\n",
    "import os\n",
    "import pickle\n",
    "from collections import defaultdict\n",
    "\n",
    "import matplotlib\n",
    "\n",
    "matplotlib.rcParams['font.family'] ='Malgun Gothic'\n",
    "\n",
    "matplotlib.rcParams['axes.unicode_minus'] =False"
   ]
  },
  {
   "cell_type": "code",
   "execution_count": 3,
   "id": "fd32f5a5",
   "metadata": {},
   "outputs": [],
   "source": [
    "from sklearn.ensemble import RandomForestClassifier\n",
    "from sklearn.svm import SVC\n",
    "from sklearn.linear_model import LogisticRegression\n",
    "from xgboost import XGBClassifier\n",
    "from lightgbm import LGBMClassifier\n",
    "from sklearn.ensemble import GradientBoostingClassifier\n",
    "\n",
    "from sklearn.model_selection import cross_val_score\n",
    "from sklearn.model_selection import KFold\n",
    "from sklearn.model_selection import train_test_split\n",
    "\n",
    "from sklearn.metrics import classification_report, roc_auc_score, confusion_matrix, f1_score, accuracy_score, precision_score\n",
    "import matplotlib.pyplot as plt\n",
    "\n",
    "import warnings\n",
    "warnings.filterwarnings('ignore')\n",
    "\n",
    "import tensorflow as tf\n",
    "from tensorflow.keras.models import load_model\n",
    "import h5py"
   ]
  },
  {
   "cell_type": "code",
   "execution_count": 11,
   "id": "6ca48bca",
   "metadata": {},
   "outputs": [],
   "source": [
    "import datetime\n",
    "\n",
    "import pymysql\n",
    "import MySQLdb\n",
    "\n",
    "import FinanceDataReader as fdr\n",
    "\n",
    "from sklearn.preprocessing import MinMaxScaler\n",
    "from tqdm import tqdm\n",
    "\n",
    "import fbprophet\n",
    "from fbprophet import Prophet\n",
    "from fbprophet.plot import plot_plotly, plot_components_plotly"
   ]
  },
  {
   "cell_type": "markdown",
   "id": "ed1dcc04",
   "metadata": {},
   "source": [
    "# 수익률정리"
   ]
  },
  {
   "cell_type": "code",
   "execution_count": 344,
   "id": "6093df3f",
   "metadata": {},
   "outputs": [],
   "source": [
    "files = os.listdir('c:/Users/bitcamp/Desktop/final_data/머신러닝_재무데이터/머신러닝_train_test/3개월/train/')\n",
    "name_df = pd.read_csv('c:/Users/bitcamp/Desktop/final_data/kospi_목록_코드_종목코드.csv',index_col=0)\n",
    "code_li = []\n",
    "for code in name_df.stock_code:\n",
    "    code_li.append(f'{code:06}')\n",
    "name_df.stock_code = code_li"
   ]
  },
  {
   "cell_type": "code",
   "execution_count": 365,
   "id": "093229d5",
   "metadata": {},
   "outputs": [],
   "source": [
    "precision_li = []\n",
    "roc_auc_li = []\n",
    "f1_score_li = []\n",
    "accuracy_li = []\n",
    "name_li = []\n",
    "stockcode_li = []\n",
    "\n",
    "test_files = os.listdir('c:/Users/bitcamp/Desktop/final_data/머신러닝_재무데이터/머신러닝_train_test/3개월/test/')\n",
    "\n",
    "fail_li = []\n",
    "\n",
    "for test in test_files:\n",
    "    \n",
    "    test_df = pd.read_csv(f'c:/Users/bitcamp/Desktop/final_data/머신러닝_재무데이터/머신러닝_train_test/3개월/test/{test}',index_col=0)\n",
    "    y_test = test_df['15per']\n",
    "    x_test = test_df.dropna().drop(['date','등락률','수익률','종목명','quarter','5per','10per','15per'], axis=1)\n",
    "\n",
    "    with open(f'c:/Users/bitcamp/Desktop/final_data/머신러닝_모델/3개월_15per/Randomforest/{test[:6]}.pkl','rb') as f:\n",
    "        rfc = pickle.load(f)\n",
    "\n",
    "    pred = rfc.predict(x_test)  \n",
    "    prob = rfc.predict_proba(x_test)\n",
    "\n",
    "    stock_name = str(name_df[name_df.stock_code == test[:6]]['corp_name'].values)\n",
    "    name_li.append(stock_name)\n",
    "    stockcode_li.append(test[:6])\n",
    "    # print(stock_name, ' : ',test[:6])\n",
    "    \n",
    "    try:\n",
    "        roc_auc_li.append(roc_auc_score(y_test, prob[:,1]))\n",
    "        precision_li.append(precision_score(y_test, pred))\n",
    "        f1_score_li.append(f1_score(y_test, pred))\n",
    "        accuracy_li.append(accuracy_score(y_test, pred))\n",
    "        \n",
    "    except:  \n",
    "        fail_li.append(test[:6])\n",
    "        precision_li.append(precision_score(y_test, pred))\n",
    "        roc_auc_li.append(np.nan)\n",
    "        f1_score_li.append(f1_score(y_test, pred))\n",
    "        accuracy_li.append(accuracy_score(y_test, pred))\n",
    "    # print('-'*100)"
   ]
  },
  {
   "cell_type": "code",
   "execution_count": 366,
   "id": "580497d6",
   "metadata": {},
   "outputs": [
    {
     "data": {
      "text/plain": [
       "491"
      ]
     },
     "execution_count": 366,
     "metadata": {},
     "output_type": "execute_result"
    }
   ],
   "source": [
    "len(precision_li)"
   ]
  },
  {
   "cell_type": "code",
   "execution_count": 367,
   "id": "68179c70",
   "metadata": {},
   "outputs": [
    {
     "data": {
      "text/html": [
       "<div>\n",
       "<style scoped>\n",
       "    .dataframe tbody tr th:only-of-type {\n",
       "        vertical-align: middle;\n",
       "    }\n",
       "\n",
       "    .dataframe tbody tr th {\n",
       "        vertical-align: top;\n",
       "    }\n",
       "\n",
       "    .dataframe thead th {\n",
       "        text-align: right;\n",
       "    }\n",
       "</style>\n",
       "<table border=\"1\" class=\"dataframe\">\n",
       "  <thead>\n",
       "    <tr style=\"text-align: right;\">\n",
       "      <th></th>\n",
       "      <th>code</th>\n",
       "      <th>name</th>\n",
       "      <th>precision</th>\n",
       "      <th>f1_score</th>\n",
       "      <th>accuracy</th>\n",
       "      <th>roc_auc</th>\n",
       "    </tr>\n",
       "  </thead>\n",
       "  <tbody>\n",
       "    <tr>\n",
       "      <th>0</th>\n",
       "      <td>000040</td>\n",
       "      <td>['KR모터스']</td>\n",
       "      <td>0.0</td>\n",
       "      <td>0.0</td>\n",
       "      <td>0.991935</td>\n",
       "      <td>NaN</td>\n",
       "    </tr>\n",
       "    <tr>\n",
       "      <th>1</th>\n",
       "      <td>000050</td>\n",
       "      <td>['경방']</td>\n",
       "      <td>0.0</td>\n",
       "      <td>0.0</td>\n",
       "      <td>0.991935</td>\n",
       "      <td>0.508130</td>\n",
       "    </tr>\n",
       "    <tr>\n",
       "      <th>2</th>\n",
       "      <td>000080</td>\n",
       "      <td>['하이트진로']</td>\n",
       "      <td>0.0</td>\n",
       "      <td>0.0</td>\n",
       "      <td>0.822581</td>\n",
       "      <td>0.899287</td>\n",
       "    </tr>\n",
       "    <tr>\n",
       "      <th>3</th>\n",
       "      <td>000100</td>\n",
       "      <td>['유한양행']</td>\n",
       "      <td>0.0</td>\n",
       "      <td>0.0</td>\n",
       "      <td>0.975806</td>\n",
       "      <td>NaN</td>\n",
       "    </tr>\n",
       "    <tr>\n",
       "      <th>4</th>\n",
       "      <td>000120</td>\n",
       "      <td>['CJ대한통운']</td>\n",
       "      <td>0.0</td>\n",
       "      <td>0.0</td>\n",
       "      <td>1.000000</td>\n",
       "      <td>NaN</td>\n",
       "    </tr>\n",
       "    <tr>\n",
       "      <th>...</th>\n",
       "      <td>...</td>\n",
       "      <td>...</td>\n",
       "      <td>...</td>\n",
       "      <td>...</td>\n",
       "      <td>...</td>\n",
       "      <td>...</td>\n",
       "    </tr>\n",
       "    <tr>\n",
       "      <th>486</th>\n",
       "      <td>214320</td>\n",
       "      <td>['이노션']</td>\n",
       "      <td>0.0</td>\n",
       "      <td>0.0</td>\n",
       "      <td>1.000000</td>\n",
       "      <td>NaN</td>\n",
       "    </tr>\n",
       "    <tr>\n",
       "      <th>487</th>\n",
       "      <td>214330</td>\n",
       "      <td>['금호에이치티']</td>\n",
       "      <td>0.0</td>\n",
       "      <td>0.0</td>\n",
       "      <td>0.967742</td>\n",
       "      <td>0.817073</td>\n",
       "    </tr>\n",
       "    <tr>\n",
       "      <th>488</th>\n",
       "      <td>214420</td>\n",
       "      <td>['토니모리']</td>\n",
       "      <td>0.0</td>\n",
       "      <td>0.0</td>\n",
       "      <td>0.346774</td>\n",
       "      <td>NaN</td>\n",
       "    </tr>\n",
       "    <tr>\n",
       "      <th>489</th>\n",
       "      <td>226320</td>\n",
       "      <td>['잇츠한불']</td>\n",
       "      <td>0.0</td>\n",
       "      <td>0.0</td>\n",
       "      <td>0.919355</td>\n",
       "      <td>0.922368</td>\n",
       "    </tr>\n",
       "    <tr>\n",
       "      <th>490</th>\n",
       "      <td>900140</td>\n",
       "      <td>['엘브이엠씨']</td>\n",
       "      <td>0.0</td>\n",
       "      <td>0.0</td>\n",
       "      <td>0.959677</td>\n",
       "      <td>0.861345</td>\n",
       "    </tr>\n",
       "  </tbody>\n",
       "</table>\n",
       "<p>491 rows × 6 columns</p>\n",
       "</div>"
      ],
      "text/plain": [
       "       code        name  precision  f1_score  accuracy   roc_auc\n",
       "0    000040   ['KR모터스']        0.0       0.0  0.991935       NaN\n",
       "1    000050      ['경방']        0.0       0.0  0.991935  0.508130\n",
       "2    000080   ['하이트진로']        0.0       0.0  0.822581  0.899287\n",
       "3    000100    ['유한양행']        0.0       0.0  0.975806       NaN\n",
       "4    000120  ['CJ대한통운']        0.0       0.0  1.000000       NaN\n",
       "..      ...         ...        ...       ...       ...       ...\n",
       "486  214320     ['이노션']        0.0       0.0  1.000000       NaN\n",
       "487  214330  ['금호에이치티']        0.0       0.0  0.967742  0.817073\n",
       "488  214420    ['토니모리']        0.0       0.0  0.346774       NaN\n",
       "489  226320    ['잇츠한불']        0.0       0.0  0.919355  0.922368\n",
       "490  900140   ['엘브이엠씨']        0.0       0.0  0.959677  0.861345\n",
       "\n",
       "[491 rows x 6 columns]"
      ]
     },
     "execution_count": 367,
     "metadata": {},
     "output_type": "execute_result"
    }
   ],
   "source": [
    "rfc_3m = pd.DataFrame({'code':stockcode_li,\n",
    "                        'name': name_li,\n",
    "                        'precision': precision_li,\n",
    "                        'f1_score': f1_score_li,\n",
    "                        'accuracy': accuracy_li,\n",
    "                        'roc_auc': roc_auc_li})\n",
    "rfc_3m"
   ]
  },
  {
   "cell_type": "code",
   "execution_count": 368,
   "id": "24d98d72",
   "metadata": {},
   "outputs": [],
   "source": [
    "rfc_3m.to_csv('c:/Users/bitcamp/Desktop/final_data/모델정리/종목별_머신러닝/전처리전/rfc_3m_15.csv')"
   ]
  },
  {
   "cell_type": "code",
   "execution_count": 369,
   "id": "73d8d1a9",
   "metadata": {},
   "outputs": [],
   "source": [
    "rfc_3m['precision'] = rfc_3m['precision'].apply(lambda x: np.nan if x == 1 else x)\n",
    "rfc_3m['f1_score'] = rfc_3m['f1_score'].apply(lambda x: np.nan if x == 1 else x)\n",
    "rfc_3m['accuracy'] = rfc_3m['accuracy'].apply(lambda x: np.nan if x == 1 else x)\n",
    "rfc_3m['roc_auc'] = rfc_3m['roc_auc'].apply(lambda x: np.nan if x == 1 else x)"
   ]
  },
  {
   "cell_type": "code",
   "execution_count": 370,
   "id": "c9178612",
   "metadata": {},
   "outputs": [],
   "source": [
    "rfc_3m['precision'] = rfc_3m['precision'].apply(lambda x: np.nan if x == 0 else x)\n",
    "rfc_3m['f1_score'] = rfc_3m['f1_score'].apply(lambda x: np.nan if x == 0 else x)"
   ]
  },
  {
   "cell_type": "code",
   "execution_count": 371,
   "id": "8e7d0f4f",
   "metadata": {},
   "outputs": [],
   "source": [
    "rfc_3m.dropna(inplace=True)"
   ]
  },
  {
   "cell_type": "code",
   "execution_count": 372,
   "id": "7fd2bdd5",
   "metadata": {
    "scrolled": true
   },
   "outputs": [
    {
     "data": {
      "text/html": [
       "<div>\n",
       "<style scoped>\n",
       "    .dataframe tbody tr th:only-of-type {\n",
       "        vertical-align: middle;\n",
       "    }\n",
       "\n",
       "    .dataframe tbody tr th {\n",
       "        vertical-align: top;\n",
       "    }\n",
       "\n",
       "    .dataframe thead th {\n",
       "        text-align: right;\n",
       "    }\n",
       "</style>\n",
       "<table border=\"1\" class=\"dataframe\">\n",
       "  <thead>\n",
       "    <tr style=\"text-align: right;\">\n",
       "      <th></th>\n",
       "      <th>code</th>\n",
       "      <th>name</th>\n",
       "      <th>precision</th>\n",
       "      <th>f1_score</th>\n",
       "      <th>accuracy</th>\n",
       "      <th>roc_auc</th>\n",
       "    </tr>\n",
       "  </thead>\n",
       "  <tbody>\n",
       "    <tr>\n",
       "      <th>219</th>\n",
       "      <td>009810</td>\n",
       "      <td>['플레이그램']</td>\n",
       "      <td>0.963636</td>\n",
       "      <td>0.762590</td>\n",
       "      <td>0.733871</td>\n",
       "      <td>0.855506</td>\n",
       "    </tr>\n",
       "    <tr>\n",
       "      <th>222</th>\n",
       "      <td>010060</td>\n",
       "      <td>['OCI']</td>\n",
       "      <td>0.916667</td>\n",
       "      <td>0.733333</td>\n",
       "      <td>0.935484</td>\n",
       "      <td>0.760482</td>\n",
       "    </tr>\n",
       "    <tr>\n",
       "      <th>184</th>\n",
       "      <td>007340</td>\n",
       "      <td>['디티알오토모티브']</td>\n",
       "      <td>0.880000</td>\n",
       "      <td>0.354839</td>\n",
       "      <td>0.354839</td>\n",
       "      <td>0.657374</td>\n",
       "    </tr>\n",
       "    <tr>\n",
       "      <th>408</th>\n",
       "      <td>074610</td>\n",
       "      <td>['이엔플러스']</td>\n",
       "      <td>0.848485</td>\n",
       "      <td>0.767123</td>\n",
       "      <td>0.862903</td>\n",
       "      <td>0.932143</td>\n",
       "    </tr>\n",
       "    <tr>\n",
       "      <th>420</th>\n",
       "      <td>084010</td>\n",
       "      <td>['대한제강']</td>\n",
       "      <td>0.837209</td>\n",
       "      <td>0.911392</td>\n",
       "      <td>0.943548</td>\n",
       "      <td>0.971749</td>\n",
       "    </tr>\n",
       "    <tr>\n",
       "      <th>...</th>\n",
       "      <td>...</td>\n",
       "      <td>...</td>\n",
       "      <td>...</td>\n",
       "      <td>...</td>\n",
       "      <td>...</td>\n",
       "      <td>...</td>\n",
       "    </tr>\n",
       "    <tr>\n",
       "      <th>460</th>\n",
       "      <td>123700</td>\n",
       "      <td>['에스제이엠']</td>\n",
       "      <td>0.012821</td>\n",
       "      <td>0.025316</td>\n",
       "      <td>0.379032</td>\n",
       "      <td>0.971545</td>\n",
       "    </tr>\n",
       "    <tr>\n",
       "      <th>469</th>\n",
       "      <td>145210</td>\n",
       "      <td>['다이나믹디자인']</td>\n",
       "      <td>0.011905</td>\n",
       "      <td>0.023529</td>\n",
       "      <td>0.330645</td>\n",
       "      <td>0.967480</td>\n",
       "    </tr>\n",
       "    <tr>\n",
       "      <th>370</th>\n",
       "      <td>042660</td>\n",
       "      <td>['대우조선해양']</td>\n",
       "      <td>0.011494</td>\n",
       "      <td>0.022727</td>\n",
       "      <td>0.306452</td>\n",
       "      <td>0.898374</td>\n",
       "    </tr>\n",
       "    <tr>\n",
       "      <th>455</th>\n",
       "      <td>115390</td>\n",
       "      <td>['락앤락']</td>\n",
       "      <td>0.011364</td>\n",
       "      <td>0.022472</td>\n",
       "      <td>0.298387</td>\n",
       "      <td>0.589431</td>\n",
       "    </tr>\n",
       "    <tr>\n",
       "      <th>249</th>\n",
       "      <td>011810</td>\n",
       "      <td>['STX']</td>\n",
       "      <td>0.010989</td>\n",
       "      <td>0.021739</td>\n",
       "      <td>0.274194</td>\n",
       "      <td>0.731707</td>\n",
       "    </tr>\n",
       "  </tbody>\n",
       "</table>\n",
       "<p>75 rows × 6 columns</p>\n",
       "</div>"
      ],
      "text/plain": [
       "       code          name  precision  f1_score  accuracy   roc_auc\n",
       "219  009810     ['플레이그램']   0.963636  0.762590  0.733871  0.855506\n",
       "222  010060       ['OCI']   0.916667  0.733333  0.935484  0.760482\n",
       "184  007340  ['디티알오토모티브']   0.880000  0.354839  0.354839  0.657374\n",
       "408  074610     ['이엔플러스']   0.848485  0.767123  0.862903  0.932143\n",
       "420  084010      ['대한제강']   0.837209  0.911392  0.943548  0.971749\n",
       "..      ...           ...        ...       ...       ...       ...\n",
       "460  123700     ['에스제이엠']   0.012821  0.025316  0.379032  0.971545\n",
       "469  145210   ['다이나믹디자인']   0.011905  0.023529  0.330645  0.967480\n",
       "370  042660    ['대우조선해양']   0.011494  0.022727  0.306452  0.898374\n",
       "455  115390       ['락앤락']   0.011364  0.022472  0.298387  0.589431\n",
       "249  011810       ['STX']   0.010989  0.021739  0.274194  0.731707\n",
       "\n",
       "[75 rows x 6 columns]"
      ]
     },
     "execution_count": 372,
     "metadata": {},
     "output_type": "execute_result"
    }
   ],
   "source": [
    "rfc_3m.sort_values('precision', ascending=False)"
   ]
  },
  {
   "cell_type": "code",
   "execution_count": 373,
   "id": "c44d9f00",
   "metadata": {},
   "outputs": [],
   "source": [
    "rfc_3m = rfc_3m.sort_values('precision', ascending=False)"
   ]
  },
  {
   "cell_type": "code",
   "execution_count": 374,
   "id": "6c377d3e",
   "metadata": {},
   "outputs": [],
   "source": [
    "rfc_3m.to_csv('c:/Users/bitcamp/Desktop/final_data/모델정리/종목별_머신러닝/시연용/rfc_3m_15.csv')"
   ]
  },
  {
   "cell_type": "code",
   "execution_count": 8,
   "id": "5f06fb15",
   "metadata": {},
   "outputs": [
    {
     "data": {
      "text/html": [
       "<div>\n",
       "<style scoped>\n",
       "    .dataframe tbody tr th:only-of-type {\n",
       "        vertical-align: middle;\n",
       "    }\n",
       "\n",
       "    .dataframe tbody tr th {\n",
       "        vertical-align: top;\n",
       "    }\n",
       "\n",
       "    .dataframe thead th {\n",
       "        text-align: right;\n",
       "    }\n",
       "</style>\n",
       "<table border=\"1\" class=\"dataframe\">\n",
       "  <thead>\n",
       "    <tr style=\"text-align: right;\">\n",
       "      <th></th>\n",
       "      <th>code</th>\n",
       "      <th>name</th>\n",
       "      <th>precision</th>\n",
       "      <th>f1_score</th>\n",
       "      <th>accuracy</th>\n",
       "      <th>roc_auc</th>\n",
       "    </tr>\n",
       "  </thead>\n",
       "  <tbody>\n",
       "    <tr>\n",
       "      <th>75</th>\n",
       "      <td>2710</td>\n",
       "      <td>['TCC스틸']</td>\n",
       "      <td>0.978495</td>\n",
       "      <td>0.866667</td>\n",
       "      <td>0.779528</td>\n",
       "      <td>0.827778</td>\n",
       "    </tr>\n",
       "    <tr>\n",
       "      <th>230</th>\n",
       "      <td>10770</td>\n",
       "      <td>['평화홀딩스']</td>\n",
       "      <td>0.952381</td>\n",
       "      <td>0.851064</td>\n",
       "      <td>0.944882</td>\n",
       "      <td>0.988385</td>\n",
       "    </tr>\n",
       "    <tr>\n",
       "      <th>312</th>\n",
       "      <td>23150</td>\n",
       "      <td>['MH에탄올']</td>\n",
       "      <td>0.950000</td>\n",
       "      <td>0.904762</td>\n",
       "      <td>0.968504</td>\n",
       "      <td>0.904978</td>\n",
       "    </tr>\n",
       "    <tr>\n",
       "      <th>277</th>\n",
       "      <td>14990</td>\n",
       "      <td>['인디에프']</td>\n",
       "      <td>0.944444</td>\n",
       "      <td>0.790698</td>\n",
       "      <td>0.929134</td>\n",
       "      <td>0.830784</td>\n",
       "    </tr>\n",
       "    <tr>\n",
       "      <th>106</th>\n",
       "      <td>3780</td>\n",
       "      <td>['진양산업']</td>\n",
       "      <td>0.942029</td>\n",
       "      <td>0.726257</td>\n",
       "      <td>0.614173</td>\n",
       "      <td>0.720588</td>\n",
       "    </tr>\n",
       "    <tr>\n",
       "      <th>...</th>\n",
       "      <td>...</td>\n",
       "      <td>...</td>\n",
       "      <td>...</td>\n",
       "      <td>...</td>\n",
       "      <td>...</td>\n",
       "      <td>...</td>\n",
       "    </tr>\n",
       "    <tr>\n",
       "      <th>372</th>\n",
       "      <td>42700</td>\n",
       "      <td>['한미반도체']</td>\n",
       "      <td>0.023622</td>\n",
       "      <td>0.046154</td>\n",
       "      <td>0.023622</td>\n",
       "      <td>0.690860</td>\n",
       "    </tr>\n",
       "    <tr>\n",
       "      <th>190</th>\n",
       "      <td>7690</td>\n",
       "      <td>['국도화학']</td>\n",
       "      <td>0.015748</td>\n",
       "      <td>0.031008</td>\n",
       "      <td>0.015748</td>\n",
       "      <td>0.992000</td>\n",
       "    </tr>\n",
       "    <tr>\n",
       "      <th>411</th>\n",
       "      <td>77500</td>\n",
       "      <td>['유니퀘스트']</td>\n",
       "      <td>0.010753</td>\n",
       "      <td>0.021277</td>\n",
       "      <td>0.275591</td>\n",
       "      <td>0.992063</td>\n",
       "    </tr>\n",
       "    <tr>\n",
       "      <th>322</th>\n",
       "      <td>25530</td>\n",
       "      <td>['에스제이엠홀딩스']</td>\n",
       "      <td>0.008000</td>\n",
       "      <td>0.015873</td>\n",
       "      <td>0.023622</td>\n",
       "      <td>0.015873</td>\n",
       "    </tr>\n",
       "    <tr>\n",
       "      <th>460</th>\n",
       "      <td>123700</td>\n",
       "      <td>['에스제이엠']</td>\n",
       "      <td>0.007874</td>\n",
       "      <td>0.015625</td>\n",
       "      <td>0.007874</td>\n",
       "      <td>0.853175</td>\n",
       "    </tr>\n",
       "  </tbody>\n",
       "</table>\n",
       "<p>124 rows × 6 columns</p>\n",
       "</div>"
      ],
      "text/plain": [
       "       code          name  precision  f1_score  accuracy   roc_auc\n",
       "75     2710     ['TCC스틸']   0.978495  0.866667  0.779528  0.827778\n",
       "230   10770     ['평화홀딩스']   0.952381  0.851064  0.944882  0.988385\n",
       "312   23150     ['MH에탄올']   0.950000  0.904762  0.968504  0.904978\n",
       "277   14990      ['인디에프']   0.944444  0.790698  0.929134  0.830784\n",
       "106    3780      ['진양산업']   0.942029  0.726257  0.614173  0.720588\n",
       "..      ...           ...        ...       ...       ...       ...\n",
       "372   42700     ['한미반도체']   0.023622  0.046154  0.023622  0.690860\n",
       "190    7690      ['국도화학']   0.015748  0.031008  0.015748  0.992000\n",
       "411   77500     ['유니퀘스트']   0.010753  0.021277  0.275591  0.992063\n",
       "322   25530  ['에스제이엠홀딩스']   0.008000  0.015873  0.023622  0.015873\n",
       "460  123700     ['에스제이엠']   0.007874  0.015625  0.007874  0.853175\n",
       "\n",
       "[124 rows x 6 columns]"
      ]
     },
     "execution_count": 8,
     "metadata": {},
     "output_type": "execute_result"
    }
   ],
   "source": [
    "pd.read_csv('c:/Users/bitcamp/Desktop/final_data/모델정리/종목별_머신러닝/시연용/rfc_6개월_15.csv', index_col=0)"
   ]
  },
  {
   "cell_type": "markdown",
   "id": "0304ff75",
   "metadata": {},
   "source": [
    "# chatbot+모델"
   ]
  },
  {
   "cell_type": "markdown",
   "id": "54c247e5",
   "metadata": {},
   "source": [
    "## DB정보 출력"
   ]
  },
  {
   "cell_type": "code",
   "execution_count": null,
   "id": "0ad664a1",
   "metadata": {},
   "outputs": [],
   "source": [
    "# 삼성전자"
   ]
  },
  {
   "cell_type": "code",
   "execution_count": 467,
   "id": "63ec7c24",
   "metadata": {},
   "outputs": [],
   "source": [
    "def DB_close(name):\n",
    "    end_point = \"chatbot-db.c9x08hbiunuu.ap-northeast-2.rds.amazonaws.com\"\n",
    "    port =3306\n",
    "    user_name = 'root'\n",
    "    pw ='123123123'\n",
    "\n",
    "    conn = pymysql.connect(\n",
    "        host = end_point,\n",
    "        user = user_name,\n",
    "        password = pw,\n",
    "    #     db = db,\n",
    "        charset='utf8'\n",
    "\n",
    "    )\n",
    "    cursor = conn.cursor()\n",
    "\n",
    "    sql = 'use Chatbot_DB;'\n",
    "    cursor.execute(sql)\n",
    "\n",
    "    sql = 'select * from stock_table;'\n",
    "\n",
    "    stock_table = pd.read_sql(sql, conn)\n",
    "    stock_df = stock_table[stock_table.name == name]\n",
    "    stock_df['날짜'] = stock_df['날짜'].astype('datetime64')\n",
    "\n",
    "    close = str(stock_df[stock_df['날짜'] == '2022-03-30']['종가'].values).strip('[]').strip(\"''\")\n",
    "\n",
    "    print(f'{name}의 종가는 {close}원 입니다')"
   ]
  },
  {
   "cell_type": "code",
   "execution_count": 480,
   "id": "d19468a4",
   "metadata": {},
   "outputs": [],
   "source": [
    "def DB_start(name):\n",
    "    end_point = \"chatbot-db.c9x08hbiunuu.ap-northeast-2.rds.amazonaws.com\"\n",
    "    port =3306\n",
    "    user_name = 'root'\n",
    "    pw ='123123123'\n",
    "\n",
    "    conn = pymysql.connect(\n",
    "        host = end_point,\n",
    "        user = user_name,\n",
    "        password = pw,\n",
    "    #     db = db,\n",
    "        charset='utf8'\n",
    "\n",
    "    )\n",
    "    cursor = conn.cursor()\n",
    "\n",
    "    sql = 'use Chatbot_DB;'\n",
    "    cursor.execute(sql)\n",
    "\n",
    "    sql = 'select * from stock_table;'\n",
    "\n",
    "    stock_table = pd.read_sql(sql, conn)\n",
    "    stock_df = stock_table[stock_table.name == name]\n",
    "    stock_df['날짜'] = stock_df['날짜'].astype('datetime64')\n",
    "\n",
    "    val = str(stock_df[stock_df['날짜'] == '2022-03-30']['시가'].values).strip('[]').strip(\"''\")\n",
    "\n",
    "    print(f'{name}의 시가는 {val}원 입니다')"
   ]
  },
  {
   "cell_type": "code",
   "execution_count": 477,
   "id": "a7a1cfda",
   "metadata": {},
   "outputs": [],
   "source": [
    "def DB_close_yesterday(name):\n",
    "    end_point = \"chatbot-db.c9x08hbiunuu.ap-northeast-2.rds.amazonaws.com\"\n",
    "    port =3306\n",
    "    user_name = 'root'\n",
    "    pw ='123123123'\n",
    "\n",
    "    conn = pymysql.connect(\n",
    "        host = end_point,\n",
    "        user = user_name,\n",
    "        password = pw,\n",
    "    #     db = db,\n",
    "        charset='utf8'\n",
    "\n",
    "    )\n",
    "    cursor = conn.cursor()\n",
    "\n",
    "    sql = 'use Chatbot_DB;'\n",
    "    cursor.execute(sql)\n",
    "\n",
    "    sql = 'select * from stock_table;'\n",
    "\n",
    "    stock_table = pd.read_sql(sql, conn)\n",
    "    stock_df = stock_table[stock_table.name == name]\n",
    "    stock_df['날짜'] = stock_df['날짜'].astype('datetime64')\n",
    "\n",
    "    close = str(stock_df[stock_df['날짜'] == '2022-03-29']['종가'].values).strip('[]').strip(\"''\")\n",
    "\n",
    "    print(f'{name}의 종가는 {close}원 입니다')"
   ]
  },
  {
   "cell_type": "code",
   "execution_count": 473,
   "id": "f11526c3",
   "metadata": {},
   "outputs": [],
   "source": [
    "def DB_PER(name):\n",
    "    end_point = \"chatbot-db.c9x08hbiunuu.ap-northeast-2.rds.amazonaws.com\"\n",
    "    port =3306\n",
    "    user_name = 'root'\n",
    "    pw ='123123123'\n",
    "\n",
    "    conn = pymysql.connect(\n",
    "        host = end_point,\n",
    "        user = user_name,\n",
    "        password = pw,\n",
    "    #     db = db,\n",
    "        charset='utf8'\n",
    "\n",
    "    )\n",
    "    cursor = conn.cursor()\n",
    "\n",
    "    sql = 'use Chatbot_DB;'\n",
    "    cursor.execute(sql)\n",
    "\n",
    "    sql = 'select * from stock_table;'\n",
    "\n",
    "    stock_table = pd.read_sql(sql, conn)\n",
    "    stock_df = stock_table[stock_table.name == name]\n",
    "    stock_df['날짜'] = stock_df['날짜'].astype('datetime64')\n",
    "\n",
    "    val = str(stock_df[stock_df['날짜'] == '2022-03-30']['PER'].values).strip('[]').strip(\"''\")\n",
    "\n",
    "    print(f'{name}의 PER은 {val}배 입니다')"
   ]
  },
  {
   "cell_type": "code",
   "execution_count": 474,
   "id": "abfcb886",
   "metadata": {},
   "outputs": [],
   "source": [
    "def DB_benefit(name):\n",
    "    end_point = \"chatbot-db.c9x08hbiunuu.ap-northeast-2.rds.amazonaws.com\"\n",
    "    port =3306\n",
    "    user_name = 'root'\n",
    "    pw ='123123123'\n",
    "\n",
    "    conn = pymysql.connect(\n",
    "        host = end_point,\n",
    "        user = user_name,\n",
    "        password = pw,\n",
    "    #     db = db,\n",
    "        charset='utf8'\n",
    "\n",
    "    )\n",
    "    cursor = conn.cursor()\n",
    "\n",
    "    sql = 'use Chatbot_DB;'\n",
    "    cursor.execute(sql)\n",
    "\n",
    "    sql = 'select * from stock_table;'\n",
    "\n",
    "    stock_table = pd.read_sql(sql, conn)\n",
    "    stock_df = stock_table[stock_table.name == name]\n",
    "    stock_df['날짜'] = stock_df['날짜'].astype('datetime64')\n",
    "\n",
    "    val = str(stock_df[stock_df['날짜'] == '2022-03-30']['영업이익'].values).strip('[]').strip(\"''\")\n",
    "\n",
    "    print(f'{name}의 영업이익은 {val}원 입니다')"
   ]
  },
  {
   "cell_type": "code",
   "execution_count": 470,
   "id": "93bbc439",
   "metadata": {},
   "outputs": [
    {
     "name": "stdout",
     "output_type": "stream",
     "text": [
      "삼성전자의 종가는 69900원 입니다\n"
     ]
    }
   ],
   "source": [
    "DB_close('삼성전자')"
   ]
  },
  {
   "cell_type": "code",
   "execution_count": 475,
   "id": "be5cc233",
   "metadata": {},
   "outputs": [
    {
     "name": "stdout",
     "output_type": "stream",
     "text": [
      "삼성전자의 PER은 18.2배 입니다\n"
     ]
    }
   ],
   "source": [
    "DB_PER('삼성전자')"
   ]
  },
  {
   "cell_type": "code",
   "execution_count": 476,
   "id": "55103f56",
   "metadata": {},
   "outputs": [
    {
     "name": "stdout",
     "output_type": "stream",
     "text": [
      "삼성전자의 영업이익은 14121409000000.0원 입니다\n"
     ]
    }
   ],
   "source": [
    "DB_benefit('삼성전자')"
   ]
  },
  {
   "cell_type": "code",
   "execution_count": 478,
   "id": "5e3c0d8b",
   "metadata": {},
   "outputs": [
    {
     "name": "stdout",
     "output_type": "stream",
     "text": [
      "삼성전자의 종가는 70200원 입니다\n"
     ]
    }
   ],
   "source": [
    "DB_close_yesterday('삼성전자')"
   ]
  },
  {
   "cell_type": "code",
   "execution_count": 481,
   "id": "c0835722",
   "metadata": {
    "scrolled": true
   },
   "outputs": [
    {
     "name": "stdout",
     "output_type": "stream",
     "text": [
      "삼성전자의 시가는 70300원 입니다\n"
     ]
    }
   ],
   "source": [
    "DB_start('삼성전자')"
   ]
  },
  {
   "cell_type": "markdown",
   "id": "987a750a",
   "metadata": {},
   "source": [
    "## 수익모델 예측"
   ]
  },
  {
   "cell_type": "code",
   "execution_count": 499,
   "id": "c29bd5bc",
   "metadata": {},
   "outputs": [],
   "source": [
    "def company_recomend(date):\n",
    "    end_point = \"chatbot-db.c9x08hbiunuu.ap-northeast-2.rds.amazonaws.com\"\n",
    "    port =3306\n",
    "    user_name = 'root'\n",
    "    pw ='123123123'\n",
    "\n",
    "    conn = pymysql.connect(\n",
    "        host = end_point,\n",
    "        user = user_name,\n",
    "        password = pw,\n",
    "    #     db = db,\n",
    "        charset='utf8'\n",
    "\n",
    "    )\n",
    "    cursor = conn.cursor()\n",
    "\n",
    "    sql = 'use Chatbot_DB;'\n",
    "    cursor.execute(sql)\n",
    "\n",
    "    sql = 'select * from stock_table;'\n",
    "\n",
    "    stock_table = pd.read_sql(sql, conn)\n",
    "    \n",
    "    \n",
    "    stock_table['날짜'] = stock_table['날짜'].astype('datetime64')\n",
    "    stock_df = stock_table[stock_table['날짜'] == date]\n",
    "    stock_df = stock_df.drop(['BPS', 'PER', 'PBR', 'EPS', 'DIV_', 'DPS', 'quarter','날짜','등락률','name'], axis=1)\n",
    "    stock_df = stock_df.astype(str).apply(lambda col : col.apply(lambda x: np.nan if x == 'nan' else x))\n",
    "    stock_df.dropna(inplace=True)\n",
    "\n",
    "    hoho = defaultdict(list)\n",
    "    plus_df = pd.DataFrame()\n",
    "    hoit_df = pd.DataFrame()\n",
    "    fail_li = []\n",
    "    code_li = []\n",
    "    month_li = ['30일','3개월','6개월']\n",
    "    per_li = ['5per','10per','15per']\n",
    "\n",
    "    for code in stock_df['code'][:]:\n",
    "        try:\n",
    "\n",
    "            df = pd.read_csv(f'c:/Users/bitcamp/Desktop/final_data/머신러닝_재무데이터/머신러닝_train_test/{month}/test/{code}.csv', index_col=0)\n",
    "            df.drop(['date','등락률','종목명','수익률','quarter','5per','10per','15per'], axis=1, inplace=True)\n",
    "            df.rename(columns={'법인세차감전 순이익':'법인세차감전_순이익'}, inplace=True)\n",
    "\n",
    "            ya_df = pd.concat([stock_df[['code']],stock_df[list(df.columns)]], axis=1)\n",
    "            x_test = ya_df[ya_df.code == code].iloc[0,1:]\n",
    "\n",
    "            for monmon in month_li[:]:\n",
    "                for per in per_li[:]:\n",
    "\n",
    "                        with open(f'c:/Users/bitcamp/Desktop/final_data/머신러닝_모델/{monmon}_{per}/Randomforest/{code}.pkl','rb') as f:\n",
    "                                rfc = pickle.load(f)\n",
    "\n",
    "                        pred = rfc.predict([x_test])\n",
    "\n",
    "                        col = monmon+'_'+per\n",
    "\n",
    "                        hoho[col].append(pred[0])\n",
    "            code_li.append(code)\n",
    "\n",
    "        except:\n",
    "#             print(code)\n",
    "            pass\n",
    "\n",
    "    plus_df = pd.DataFrame({'code':code_li})\n",
    "\n",
    "    for col,val in hoho.items():\n",
    "        plus_df[col] = val\n",
    "    \n",
    "#     print(plus_df.head())\n",
    "    \n",
    "    max_plus_df = plus_df[plus_df['30일_15per']== 1]\n",
    "    max_plus_df.reset_index(drop=True, inplace=True)\n",
    "\n",
    "    pre_df = pd.read_csv('c:/Users/bitcamp/Desktop/final_data/모델정리/종목별_머신러닝/시연용/rfc_30_15.csv', index_col=0)\n",
    "    pre_df.code = pre_df.code.apply(lambda x:f'{x:06}')\n",
    "\n",
    "    company_li = []\n",
    "    for pre in range(len(pre_df)):\n",
    "        for coco in range(len(max_plus_df)):\n",
    "            if max_plus_df.iloc[coco, 0] == pre_df.iloc[pre, 0]:\n",
    "                company_li.append(pre_df.iloc[pre,1])\n",
    "\n",
    "    return company_li[1].strip('[]').strip(\"''\"), company_li[2].strip('[]').strip(\"''\"), company_li[3].strip('[]').strip(\"''\")"
   ]
  },
  {
   "cell_type": "code",
   "execution_count": 500,
   "id": "75e74a7d",
   "metadata": {},
   "outputs": [
    {
     "data": {
      "text/plain": [
       "('에스엘', '태경케미컬', '흥아해운')"
      ]
     },
     "execution_count": 500,
     "metadata": {},
     "output_type": "execute_result"
    }
   ],
   "source": [
    "company_recomend('2022-03-30')"
   ]
  },
  {
   "cell_type": "markdown",
   "id": "5bd53639",
   "metadata": {},
   "source": [
    "## 추세예측"
   ]
  },
  {
   "cell_type": "code",
   "execution_count": 484,
   "id": "7bd0b9a9",
   "metadata": {},
   "outputs": [],
   "source": [
    "def companyy_predict(name, date):\n",
    "    \n",
    "    end_point = \"chatbot-db.c9x08hbiunuu.ap-northeast-2.rds.amazonaws.com\"\n",
    "    port =3306\n",
    "    user_name = 'root'\n",
    "    pw ='123123123'\n",
    "    \n",
    "    conn = pymysql.connect(\n",
    "    host = end_point,\n",
    "    user = user_name,\n",
    "    password = pw,\n",
    "#     db = db,\n",
    "    charset='utf8'\n",
    "    \n",
    "    )\n",
    "    cursor = conn.cursor()\n",
    "    \n",
    "    sql = 'use Name_Code_DB;'\n",
    "    cursor.execute(sql)\n",
    "    \n",
    "    sql = 'select * from name_table;'\n",
    "\n",
    "    name_df = pd.read_sql(sql, conn)\n",
    "    \n",
    "    for na in range(len(name_df)):\n",
    "        if name == name_df.iloc[na,1]:\n",
    "            code = name_df.iloc[na,0]\n",
    "    \n",
    "    autoencoder = load_model(f'c:/Users/bitcamp/Desktop/final_data/autoencoder/Conv_2/auto_conv_{code}.h5')\n",
    "\n",
    "    company_df = fdr.DataReader(code)\n",
    "    stock_close = company_df[['Close']]\n",
    "\n",
    "    stock_close.columns = ['price']\n",
    "    stock_close['pct_change'] = stock_close.price.pct_change()\n",
    "    stock_close['log_ret'] = np.log(com_close.price) - np.log(stock_close.price.shift(1))\n",
    "    stock_close.dropna(inplace=True)\n",
    "\n",
    "    x_test = stock_close[stock_close.index == date]\n",
    "\n",
    "    window_length = 10\n",
    "    scaler = MinMaxScaler()\n",
    "    x_test_nonscaled = np.array([stock_close['log_ret'].values[i-window_length:i].reshape(-1, 1) for i in tqdm(range(window_length+1,len(stock_close['log_ret'])))])\n",
    "    x_test = np.array([scaler.fit_transform(stock_close['log_ret'].values[i-window_length:i].reshape(-1, 1)) for i in tqdm(range(window_length+1,len(stock_close['log_ret'])))])\n",
    "\n",
    "    y_predict = autoencoder.predict(x_test)\n",
    "    labels = [1,0]\n",
    "\n",
    "    label = labels[y_predict[0].argmax()]\n",
    "    confidence = y_predict[0][y_predict[0].argmax()]\n",
    "    # print('{} {:.2f}%'.format(label, confidence * 100))\n",
    "\n",
    "    if label == 1:\n",
    "        print(f'{name}는 상승할 예정입니다.')\n",
    "    else:\n",
    "        print(f'{name}는 하락할 예정입니다.')"
   ]
  },
  {
   "cell_type": "code",
   "execution_count": 489,
   "id": "65e4c9fe",
   "metadata": {},
   "outputs": [
    {
     "name": "stderr",
     "output_type": "stream",
     "text": [
      "100%|██████████████████████████████████████████████████████████████████████████| 5988/5988 [00:00<00:00, 399482.94it/s]\n",
      "100%|████████████████████████████████████████████████████████████████████████████| 5988/5988 [00:00<00:00, 8600.59it/s]\n"
     ]
    },
    {
     "name": "stdout",
     "output_type": "stream",
     "text": [
      "삼성전자는 상승할 예정입니다.\n"
     ]
    }
   ],
   "source": [
    "companyy_predict('삼성전자','2022-03-30')"
   ]
  },
  {
   "cell_type": "markdown",
   "id": "72079bc9",
   "metadata": {},
   "source": [
    "## 업종추천"
   ]
  },
  {
   "cell_type": "code",
   "execution_count": 303,
   "id": "48c43ba3",
   "metadata": {},
   "outputs": [],
   "source": [
    "def kospi_kind_recomend():\n",
    "    kospi_df = pd.read_csv('c:/Users/bitcamp/Desktop/final_data/업종별/월봉_21_8.csv')\n",
    "\n",
    "    kospi_corr_df = kospi_df.corr()\n",
    "    kospi_corr_df = kospi_corr_df[['코스피_5']]\n",
    "\n",
    "    kospi_corr_df.reset_index(drop=False, inplace=True)\n",
    "    kospi_corr_df.columns = ['업종', 'kospi']\n",
    "\n",
    "    # kospi_corr_df.sort_values(by=['kospi'], ascending=False)\n",
    "    kospi_kind_df = kospi_corr_df.sort_values(by=['kospi'])\n",
    "    kind_recomend = kospi_kind_df.iloc[0,0]\n",
    "    return kind_recomend.split('_')[0]"
   ]
  },
  {
   "cell_type": "code",
   "execution_count": 304,
   "id": "b03fa99c",
   "metadata": {},
   "outputs": [
    {
     "data": {
      "text/plain": [
       "'섬유의복'"
      ]
     },
     "execution_count": 304,
     "metadata": {},
     "output_type": "execute_result"
    }
   ],
   "source": [
    "kospi_kind_recomend()"
   ]
  },
  {
   "cell_type": "markdown",
   "id": "6a232f2a",
   "metadata": {},
   "source": [
    "## 코스피 예측"
   ]
  },
  {
   "cell_type": "code",
   "execution_count": 12,
   "id": "e5725955",
   "metadata": {},
   "outputs": [],
   "source": [
    "def kospi_predict(date):\n",
    "    kospi = fdr.DataReader('KS11')\n",
    "    kospi_df = kospi[['Close']]\n",
    "\n",
    "    stock = pd.DataFrame()\n",
    "    stock['y'] = kospi_df[['Close']]\n",
    "    stock['ds'] = kospi_df.index\n",
    "\n",
    "    stock.reset_index(drop=True, inplace=True)\n",
    "\n",
    "    train = stock[stock.ds < '2021-01']\n",
    "    test = stock[stock.ds > '2021-01']\n",
    "\n",
    "    df_prophet = Prophet(changepoint_prior_scale=0.15, daily_seasonality=True)\n",
    "    df_prophet.fit(train)\n",
    "\n",
    "    fcast_time = 100\n",
    "    df_forecast = df_prophet.make_future_dataframe(periods=fcast_time, freq='D')\n",
    "    # df_forecast.tail(50)\n",
    "    df_forecast = df_prophet.predict(df_forecast)\n",
    "\n",
    "    kospi_updow_df = df_forecast[['ds','yhat','yhat_lower','yhat_upper']]\n",
    "#     kospi_updow_df['ds'] = kospi_updow_df['ds'].astype('datetime64')\n",
    "\n",
    "    kospi_1 = str(kospi_updow_df[kospi_updow_df['ds'] == date]['yhat_upper'].values)\n",
    "    kospi_1 = kospi_1.strip('[]')[:4]\n",
    "\n",
    "    kospi_2 = str(kospi_updow_df[kospi_updow_df['ds'] == date]['yhat_upper'].values)\n",
    "    kospi_2 = kospi_2.strip('[]')[:4]\n",
    "\n",
    "    n = int(kospi_2) - int(kospi_1)\n",
    "\n",
    "    if n > 0:\n",
    "        print('코스피지수가 상승할 예정입니다.')\n",
    "    else :\n",
    "        print('코스피지수가 하락할 예정입니다.')"
   ]
  },
  {
   "cell_type": "code",
   "execution_count": 13,
   "id": "72eebb0c",
   "metadata": {},
   "outputs": [
    {
     "name": "stdout",
     "output_type": "stream",
     "text": [
      "코스피지수가 하락할 예정입니다.\n"
     ]
    }
   ],
   "source": [
    "kospi_predict('2021-03-30')"
   ]
  },
  {
   "cell_type": "code",
   "execution_count": null,
   "id": "0c5082c4",
   "metadata": {},
   "outputs": [],
   "source": []
  }
 ],
 "metadata": {
  "kernelspec": {
   "display_name": "Python 3 (ipykernel)",
   "language": "python",
   "name": "python3"
  },
  "language_info": {
   "codemirror_mode": {
    "name": "ipython",
    "version": 3
   },
   "file_extension": ".py",
   "mimetype": "text/x-python",
   "name": "python",
   "nbconvert_exporter": "python",
   "pygments_lexer": "ipython3",
   "version": "3.9.7"
  },
  "toc": {
   "base_numbering": 1,
   "nav_menu": {},
   "number_sections": true,
   "sideBar": true,
   "skip_h1_title": false,
   "title_cell": "Table of Contents",
   "title_sidebar": "Contents",
   "toc_cell": false,
   "toc_position": {},
   "toc_section_display": true,
   "toc_window_display": true
  },
  "varInspector": {
   "cols": {
    "lenName": 16,
    "lenType": 16,
    "lenVar": 40
   },
   "kernels_config": {
    "python": {
     "delete_cmd_postfix": "",
     "delete_cmd_prefix": "del ",
     "library": "var_list.py",
     "varRefreshCmd": "print(var_dic_list())"
    },
    "r": {
     "delete_cmd_postfix": ") ",
     "delete_cmd_prefix": "rm(",
     "library": "var_list.r",
     "varRefreshCmd": "cat(var_dic_list()) "
    }
   },
   "types_to_exclude": [
    "module",
    "function",
    "builtin_function_or_method",
    "instance",
    "_Feature"
   ],
   "window_display": false
  }
 },
 "nbformat": 4,
 "nbformat_minor": 5
}
