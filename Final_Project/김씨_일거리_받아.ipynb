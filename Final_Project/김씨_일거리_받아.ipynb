{
 "cells": [
  {
   "cell_type": "code",
   "execution_count": 9,
   "id": "3d47cff7",
   "metadata": {},
   "outputs": [],
   "source": [
    "import pandas as pd\n",
    "import numpy as np\n",
    "import matplotlib.pyplot as plt\n",
    "import seaborn as sns\n",
    "import os\n",
    "\n",
    "import pymysql\n",
    "import MySQLdb\n",
    "\n",
    "import warnings\n",
    "warnings.filterwarnings('ignore')"
   ]
  },
  {
   "cell_type": "code",
   "execution_count": 10,
   "id": "e966c3bd",
   "metadata": {},
   "outputs": [],
   "source": [
    "def DB_close(name, date):\n",
    "    end_point = \"chatbot-db.c9x08hbiunuu.ap-northeast-2.rds.amazonaws.com\"\n",
    "    port =3306\n",
    "    user_name = 'root'\n",
    "    pw ='123123123'\n",
    "\n",
    "    conn = pymysql.connect(\n",
    "        host = end_point,\n",
    "        user = user_name,\n",
    "        password = pw,\n",
    "    #     db = db,\n",
    "        charset='utf8'\n",
    "\n",
    "    )\n",
    "    cursor = conn.cursor()\n",
    "\n",
    "    sql = 'use Chatbot_DB;'\n",
    "    cursor.execute(sql)\n",
    "\n",
    "    sql = 'select * from stock_table;'\n",
    "\n",
    "    stock_table = pd.read_sql(sql, conn)\n",
    "    stock_df = stock_table[stock_table.name == name]\n",
    "    stock_df['날짜'] = stock_df['날짜'].astype('datetime64')\n",
    "\n",
    "    close = str(stock_df[stock_df['날짜'] == date]['종가'].values).strip('[]').strip(\"''\")\n",
    "\n",
    "    print(f'{name}의 종가는 {close}원 입니다')\n",
    "    \n",
    "def DB_start(name, date):\n",
    "    end_point = \"chatbot-db.c9x08hbiunuu.ap-northeast-2.rds.amazonaws.com\"\n",
    "    port =3306\n",
    "    user_name = 'root'\n",
    "    pw ='123123123'\n",
    "\n",
    "    conn = pymysql.connect(\n",
    "        host = end_point,\n",
    "        user = user_name,\n",
    "        password = pw,\n",
    "    #     db = db,\n",
    "        charset='utf8'\n",
    "\n",
    "    )\n",
    "    cursor = conn.cursor()\n",
    "\n",
    "    sql = 'use Chatbot_DB;'\n",
    "    cursor.execute(sql)\n",
    "\n",
    "    sql = 'select * from stock_table;'\n",
    "\n",
    "    stock_table = pd.read_sql(sql, conn)\n",
    "    stock_df = stock_table[stock_table.name == name]\n",
    "    stock_df['날짜'] = stock_df['날짜'].astype('datetime64')\n",
    "\n",
    "    val = str(stock_df[stock_df['날짜'] == date]['시가'].values).strip('[]').strip(\"''\")\n",
    "\n",
    "    print(f'{name}의 시가는 {val}원 입니다')\n",
    "    \n",
    "def DB_close_yesterday(name, date):\n",
    "    end_point = \"chatbot-db.c9x08hbiunuu.ap-northeast-2.rds.amazonaws.com\"\n",
    "    port =3306\n",
    "    user_name = 'root'\n",
    "    pw ='123123123'\n",
    "\n",
    "    conn = pymysql.connect(\n",
    "        host = end_point,\n",
    "        user = user_name,\n",
    "        password = pw,\n",
    "    #     db = db,\n",
    "        charset='utf8'\n",
    "\n",
    "    )\n",
    "    cursor = conn.cursor()\n",
    "\n",
    "    sql = 'use Chatbot_DB;'\n",
    "    cursor.execute(sql)\n",
    "\n",
    "    sql = 'select * from stock_table;'\n",
    "\n",
    "    stock_table = pd.read_sql(sql, conn)\n",
    "    stock_df = stock_table[stock_table.name == name]\n",
    "    stock_df['날짜'] = stock_df['날짜'].astype('datetime64')\n",
    "\n",
    "    close = str(stock_df[stock_df['날짜'] == date]['종가'].values).strip('[]').strip(\"''\")\n",
    "\n",
    "    print(f'{name}의 종가는 {close}원 입니다')\n",
    "    \n",
    "\n",
    "def DB_PER(name, date):\n",
    "    end_point = \"chatbot-db.c9x08hbiunuu.ap-northeast-2.rds.amazonaws.com\"\n",
    "    port =3306\n",
    "    user_name = 'root'\n",
    "    pw ='123123123'\n",
    "\n",
    "    conn = pymysql.connect(\n",
    "        host = end_point,\n",
    "        user = user_name,\n",
    "        password = pw,\n",
    "    #     db = db,\n",
    "        charset='utf8'\n",
    "\n",
    "    )\n",
    "    cursor = conn.cursor()\n",
    "\n",
    "    sql = 'use Chatbot_DB;'\n",
    "    cursor.execute(sql)\n",
    "\n",
    "    sql = 'select * from stock_table;'\n",
    "\n",
    "    stock_table = pd.read_sql(sql, conn)\n",
    "    stock_df = stock_table[stock_table.name == name]\n",
    "    stock_df['날짜'] = stock_df['날짜'].astype('datetime64')\n",
    "\n",
    "    val = str(stock_df[stock_df['날짜'] == date]['PER'].values).strip('[]').strip(\"''\")\n",
    "\n",
    "    print(f'{name}의 PER은 {val}배 입니다')\n",
    "    \n",
    "def DB_benefit(name, date):\n",
    "    end_point = \"chatbot-db.c9x08hbiunuu.ap-northeast-2.rds.amazonaws.com\"\n",
    "    port =3306\n",
    "    user_name = 'root'\n",
    "    pw ='123123123'\n",
    "\n",
    "    conn = pymysql.connect(\n",
    "        host = end_point,\n",
    "        user = user_name,\n",
    "        password = pw,\n",
    "    #     db = db,\n",
    "        charset='utf8'\n",
    "\n",
    "    )\n",
    "    cursor = conn.cursor()\n",
    "\n",
    "    sql = 'use Chatbot_DB;'\n",
    "    cursor.execute(sql)\n",
    "\n",
    "    sql = 'select * from stock_table;'\n",
    "\n",
    "    stock_table = pd.read_sql(sql, conn)\n",
    "    stock_df = stock_table[stock_table.name == name]\n",
    "    stock_df['날짜'] = stock_df['날짜'].astype('datetime64')\n",
    "\n",
    "    val = str(stock_df[stock_df['날짜'] == date]['영업이익'].values).strip('[]').strip(\"''\")\n",
    "\n",
    "    print(f'{name}의 영업이익은 {val}원 입니다')"
   ]
  },
  {
   "cell_type": "code",
   "execution_count": 15,
   "id": "a43dda6d",
   "metadata": {},
   "outputs": [
    {
     "name": "stdout",
     "output_type": "stream",
     "text": [
      "삼성전자의 종가는 69900원 입니다\n"
     ]
    }
   ],
   "source": [
    "DB_close('삼성전자','2022-03-30')"
   ]
  },
  {
   "cell_type": "code",
   "execution_count": 16,
   "id": "c8a36eb1",
   "metadata": {},
   "outputs": [
    {
     "name": "stdout",
     "output_type": "stream",
     "text": [
      "삼성전자의 PER은 18.2배 입니다\n"
     ]
    }
   ],
   "source": [
    "DB_PER('삼성전자','2022-03-30')"
   ]
  },
  {
   "cell_type": "code",
   "execution_count": 17,
   "id": "bcd2099b",
   "metadata": {},
   "outputs": [
    {
     "name": "stdout",
     "output_type": "stream",
     "text": [
      "삼성전자의 영업이익은 14121409000000.0원 입니다\n"
     ]
    }
   ],
   "source": [
    "DB_benefit('삼성전자','2022-03-30')"
   ]
  },
  {
   "cell_type": "code",
   "execution_count": 18,
   "id": "290d2c81",
   "metadata": {},
   "outputs": [
    {
     "name": "stdout",
     "output_type": "stream",
     "text": [
      "삼성전자의 종가는 70200원 입니다\n"
     ]
    }
   ],
   "source": [
    "DB_close_yesterday('삼성전자','2022-03-29')"
   ]
  },
  {
   "cell_type": "code",
   "execution_count": 19,
   "id": "2f4cd45b",
   "metadata": {},
   "outputs": [
    {
     "name": "stdout",
     "output_type": "stream",
     "text": [
      "삼성전자의 시가는 70300원 입니다\n"
     ]
    }
   ],
   "source": [
    "DB_start('삼성전자','2022-03-30')"
   ]
  }
 ],
 "metadata": {
  "kernelspec": {
   "display_name": "Python 3 (ipykernel)",
   "language": "python",
   "name": "python3"
  },
  "language_info": {
   "codemirror_mode": {
    "name": "ipython",
    "version": 3
   },
   "file_extension": ".py",
   "mimetype": "text/x-python",
   "name": "python",
   "nbconvert_exporter": "python",
   "pygments_lexer": "ipython3",
   "version": "3.9.7"
  },
  "toc": {
   "base_numbering": 1,
   "nav_menu": {},
   "number_sections": true,
   "sideBar": true,
   "skip_h1_title": false,
   "title_cell": "Table of Contents",
   "title_sidebar": "Contents",
   "toc_cell": false,
   "toc_position": {},
   "toc_section_display": true,
   "toc_window_display": false
  },
  "varInspector": {
   "cols": {
    "lenName": 16,
    "lenType": 16,
    "lenVar": 40
   },
   "kernels_config": {
    "python": {
     "delete_cmd_postfix": "",
     "delete_cmd_prefix": "del ",
     "library": "var_list.py",
     "varRefreshCmd": "print(var_dic_list())"
    },
    "r": {
     "delete_cmd_postfix": ") ",
     "delete_cmd_prefix": "rm(",
     "library": "var_list.r",
     "varRefreshCmd": "cat(var_dic_list()) "
    }
   },
   "types_to_exclude": [
    "module",
    "function",
    "builtin_function_or_method",
    "instance",
    "_Feature"
   ],
   "window_display": false
  }
 },
 "nbformat": 4,
 "nbformat_minor": 5
}
