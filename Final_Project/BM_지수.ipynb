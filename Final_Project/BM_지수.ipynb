{
 "cells": [
  {
   "cell_type": "code",
   "execution_count": 1,
   "id": "e80960fc",
   "metadata": {},
   "outputs": [],
   "source": [
    "import pandas as pd\n",
    "import numpy as np\n",
    "import math\n",
    "import os\n",
    "import pickle\n",
    "from collections import defaultdict"
   ]
  },
  {
   "cell_type": "code",
   "execution_count": 2,
   "id": "f74ee7e6",
   "metadata": {},
   "outputs": [],
   "source": [
    "from sklearn.model_selection import train_test_split\n",
    "from sklearn.metrics import confusion_matrix, r2_score\n",
    "\n",
    "import matplotlib.pyplot as plt\n",
    "import seaborn as sns\n",
    "\n",
    "import matplotlib as mpl\n",
    "import matplotlib.font_manager as fm\n",
    "\n",
    "mpl.rcParams['axes.unicode_minus'] = False\n",
    "\n",
    "path = 'C:/Windows/Fonts/malgun.ttf'\n",
    "font_name = fm.FontProperties(fname=path, size=50).get_name()\n",
    "plt.rc('font', family=font_name)\n",
    "\n",
    "import statsmodels.api as sm\n",
    "from statsmodels.graphics.tsaplots import plot_acf, plot_pacf\n",
    "from statsmodels.tsa.arima_model import ARIMA\n",
    "from statsmodels.tsa.statespace.sarimax import SARIMAX\n",
    "from pmdarima.arima import auto_arima\n",
    "\n",
    "plt.style.use('seaborn-whitegrid')\n",
    "%matplotlib inline\n",
    "\n",
    "import itertools\n",
    "\n",
    "import warnings\n",
    "warnings.filterwarnings(action='ignore')"
   ]
  },
  {
   "cell_type": "code",
   "execution_count": 3,
   "id": "5868064f",
   "metadata": {},
   "outputs": [],
   "source": [
    "import matplotlib\n",
    "\n",
    "matplotlib.rcParams['font.family'] ='Malgun Gothic'\n",
    "\n",
    "matplotlib.rcParams['axes.unicode_minus'] =False"
   ]
  },
  {
   "cell_type": "code",
   "execution_count": 4,
   "id": "149c5919",
   "metadata": {},
   "outputs": [],
   "source": [
    "import datetime\n",
    "\n",
    "import pymysql\n",
    "import MySQLdb\n",
    "\n",
    "import FinanceDataReader as fdr\n"
   ]
  },
  {
   "cell_type": "markdown",
   "id": "239f59f6",
   "metadata": {},
   "source": [
    "# 추천회사"
   ]
  },
  {
   "cell_type": "code",
   "execution_count": 5,
   "id": "439a60c4",
   "metadata": {},
   "outputs": [],
   "source": [
    "def company_recomend(date):\n",
    "    end_point = \"chatbot-db.c9x08hbiunuu.ap-northeast-2.rds.amazonaws.com\"\n",
    "    port =3306\n",
    "    user_name = 'root'\n",
    "    pw ='123123123'\n",
    "\n",
    "    conn = pymysql.connect(\n",
    "        host = end_point,\n",
    "        user = user_name,\n",
    "        password = pw,\n",
    "    #     db = db,\n",
    "        charset='utf8'\n",
    "\n",
    "    )\n",
    "    cursor = conn.cursor()\n",
    "\n",
    "    sql = 'use Chatbot_DB;'\n",
    "    cursor.execute(sql)\n",
    "\n",
    "    sql = 'select * from stock_table;'\n",
    "\n",
    "    stock_table = pd.read_sql(sql, conn)\n",
    "    \n",
    "    \n",
    "    stock_table['날짜'] = stock_table['날짜'].astype('datetime64')\n",
    "    stock_df = stock_table[stock_table['날짜'] == date]\n",
    "    stock_df = stock_df.drop(['BPS', 'PER', 'PBR', 'EPS', 'DIV_', 'DPS', 'quarter','날짜','등락률','name'], axis=1)\n",
    "    stock_df = stock_df.astype(str).apply(lambda col : col.apply(lambda x: np.nan if x == 'nan' else x))\n",
    "    stock_df.dropna(inplace=True)\n",
    "\n",
    "    hoho = defaultdict(list)\n",
    "    plus_df = pd.DataFrame()\n",
    "    hoit_df = pd.DataFrame()\n",
    "    fail_li = []\n",
    "    code_li = []\n",
    "    month_li = ['30일','3개월','6개월']\n",
    "    per_li = ['5per','10per','15per']\n",
    "\n",
    "    for code in stock_df['code'][:]:\n",
    "        try:\n",
    "            df = pd.read_csv(f'c:/Users/bitcamp/Desktop/final_data/머신러닝_재무데이터/머신러닝_train_test/6개월/test/{code}.csv', index_col=0)\n",
    "            df.drop(['date','등락률','종목명','수익률','quarter','5per','10per','15per'], axis=1, inplace=True)\n",
    "            df.rename(columns={'법인세차감전 순이익':'법인세차감전_순이익'}, inplace=True)\n",
    "\n",
    "            ya_df = pd.concat([stock_df[['code']],stock_df[list(df.columns)]], axis=1)\n",
    "            x_test = ya_df[ya_df.code == code].iloc[0,1:]\n",
    "\n",
    "            for monmon in month_li[:]:\n",
    "                for per in per_li[:]:\n",
    "                        with open(f'c:/Users/bitcamp/Desktop/final_data/머신러닝_모델/{monmon}_{per}/Randomforest/{code}.pkl','rb') as f:\n",
    "                                rfc = pickle.load(f)\n",
    "\n",
    "                        pred = rfc.predict([x_test])\n",
    "\n",
    "                        col = monmon+'_'+per\n",
    "\n",
    "                        hoho[col].append(pred[0])\n",
    "            code_li.append(code)\n",
    "\n",
    "        except:\n",
    "#             print(code)\n",
    "            pass\n",
    "\n",
    "    plus_df = pd.DataFrame({'code':code_li})\n",
    "\n",
    "    for col,val in hoho.items():\n",
    "        plus_df[col] = val\n",
    "    \n",
    "#     print(plus_df.head())\n",
    "    \n",
    "    mon_1 = ['30일','3개월','6개월']\n",
    "    hoit_li_1 = []\n",
    "    hoit_li_2 = []\n",
    "    hoit_com_1 = []\n",
    "    hoit_com_2 = []\n",
    "    hoit_com_3 = []\n",
    "    \n",
    "    for mon_n in mon_1:\n",
    "        max_plus_df = plus_df[plus_df[f'{mon_n}_15per']== 1]\n",
    "        max_plus_df.reset_index(drop=True, inplace=True)\n",
    "\n",
    "        pre_df = pd.read_csv(f'c:/Users/bitcamp/Desktop/final_data/모델정리/종목별_머신러닝/시연용/rfc_{mon_n}_15.csv', index_col=0)\n",
    "        pre_df.code = pre_df.code.apply(lambda x:f'{x:06}')\n",
    "\n",
    "        company_li = []\n",
    "        com_code_li = []\n",
    "        for pre in range(len(pre_df)):\n",
    "            for coco in range(len(max_plus_df)):\n",
    "                if max_plus_df.iloc[coco, 0] == pre_df.iloc[pre, 0]:\n",
    "                    company_li.append(pre_df.iloc[pre,1])\n",
    "                    com_code_li.append(pre_df.iloc[pre,0])\n",
    "                    \n",
    "        hoit_li_1.append(mon_n)\n",
    "#         hoit_li_2.append([company_li[0].strip('[]').strip(\"''\"), company_li[1].strip('[]').strip(\"''\"), company_li[2].strip('[]').strip(\"''\")])\n",
    "        hoit_com_1.append(com_code_li[0].strip('[]').strip(\"''\"))\n",
    "        hoit_com_2.append(com_code_li[1].strip('[]').strip(\"''\"))\n",
    "        hoit_com_3.append(com_code_li[2].strip('[]').strip(\"''\"))\n",
    "#         hoit = pd.DataFrame({'기간':hoit_li_1, '추천회사':hoit_li_2})\n",
    "        hoit = pd.DataFrame({'기간':hoit_li_1, '추천회사_1':hoit_com_1, '추천회사_2':hoit_com_2, '추천회사_3':hoit_com_3})\n",
    "        \n",
    "    return hoit"
   ]
  },
  {
   "cell_type": "code",
   "execution_count": 6,
   "id": "3f9837be",
   "metadata": {},
   "outputs": [
    {
     "data": {
      "text/html": [
       "<div>\n",
       "<style scoped>\n",
       "    .dataframe tbody tr th:only-of-type {\n",
       "        vertical-align: middle;\n",
       "    }\n",
       "\n",
       "    .dataframe tbody tr th {\n",
       "        vertical-align: top;\n",
       "    }\n",
       "\n",
       "    .dataframe thead th {\n",
       "        text-align: right;\n",
       "    }\n",
       "</style>\n",
       "<table border=\"1\" class=\"dataframe\">\n",
       "  <thead>\n",
       "    <tr style=\"text-align: right;\">\n",
       "      <th></th>\n",
       "      <th>기간</th>\n",
       "      <th>추천회사_1</th>\n",
       "      <th>추천회사_2</th>\n",
       "      <th>추천회사_3</th>\n",
       "    </tr>\n",
       "  </thead>\n",
       "  <tbody>\n",
       "    <tr>\n",
       "      <th>0</th>\n",
       "      <td>30일</td>\n",
       "      <td>092200</td>\n",
       "      <td>005850</td>\n",
       "      <td>032350</td>\n",
       "    </tr>\n",
       "    <tr>\n",
       "      <th>1</th>\n",
       "      <td>3개월</td>\n",
       "      <td>004250</td>\n",
       "      <td>161000</td>\n",
       "      <td>020150</td>\n",
       "    </tr>\n",
       "    <tr>\n",
       "      <th>2</th>\n",
       "      <td>6개월</td>\n",
       "      <td>010770</td>\n",
       "      <td>014990</td>\n",
       "      <td>018670</td>\n",
       "    </tr>\n",
       "  </tbody>\n",
       "</table>\n",
       "</div>"
      ],
      "text/plain": [
       "    기간  추천회사_1  추천회사_2  추천회사_3\n",
       "0  30일  092200  005850  032350\n",
       "1  3개월  004250  161000  020150\n",
       "2  6개월  010770  014990  018670"
      ]
     },
     "execution_count": 6,
     "metadata": {},
     "output_type": "execute_result"
    }
   ],
   "source": [
    "hoit = company_recomend('2022-03-02')\n",
    "hoit"
   ]
  },
  {
   "cell_type": "code",
   "execution_count": 7,
   "id": "75b84a7c",
   "metadata": {},
   "outputs": [
    {
     "data": {
      "text/html": [
       "<div>\n",
       "<style scoped>\n",
       "    .dataframe tbody tr th:only-of-type {\n",
       "        vertical-align: middle;\n",
       "    }\n",
       "\n",
       "    .dataframe tbody tr th {\n",
       "        vertical-align: top;\n",
       "    }\n",
       "\n",
       "    .dataframe thead th {\n",
       "        text-align: right;\n",
       "    }\n",
       "</style>\n",
       "<table border=\"1\" class=\"dataframe\">\n",
       "  <thead>\n",
       "    <tr style=\"text-align: right;\">\n",
       "      <th></th>\n",
       "      <th>기간</th>\n",
       "      <th>추천회사_1</th>\n",
       "      <th>추천회사_2</th>\n",
       "      <th>추천회사_3</th>\n",
       "    </tr>\n",
       "  </thead>\n",
       "  <tbody>\n",
       "    <tr>\n",
       "      <th>0</th>\n",
       "      <td>30일</td>\n",
       "      <td>013580</td>\n",
       "      <td>042660</td>\n",
       "      <td>032350</td>\n",
       "    </tr>\n",
       "    <tr>\n",
       "      <th>1</th>\n",
       "      <td>3개월</td>\n",
       "      <td>084010</td>\n",
       "      <td>002140</td>\n",
       "      <td>004250</td>\n",
       "    </tr>\n",
       "    <tr>\n",
       "      <th>2</th>\n",
       "      <td>6개월</td>\n",
       "      <td>014990</td>\n",
       "      <td>018670</td>\n",
       "      <td>003280</td>\n",
       "    </tr>\n",
       "  </tbody>\n",
       "</table>\n",
       "</div>"
      ],
      "text/plain": [
       "    기간  추천회사_1  추천회사_2  추천회사_3\n",
       "0  30일  013580  042660  032350\n",
       "1  3개월  084010  002140  004250\n",
       "2  6개월  014990  018670  003280"
      ]
     },
     "execution_count": 7,
     "metadata": {},
     "output_type": "execute_result"
    }
   ],
   "source": [
    "hoit = company_recomend('2022-01-03')\n",
    "hoit"
   ]
  },
  {
   "cell_type": "code",
   "execution_count": 8,
   "id": "f5b102c6",
   "metadata": {},
   "outputs": [
    {
     "data": {
      "text/html": [
       "<div>\n",
       "<style scoped>\n",
       "    .dataframe tbody tr th:only-of-type {\n",
       "        vertical-align: middle;\n",
       "    }\n",
       "\n",
       "    .dataframe tbody tr th {\n",
       "        vertical-align: top;\n",
       "    }\n",
       "\n",
       "    .dataframe thead th {\n",
       "        text-align: right;\n",
       "    }\n",
       "</style>\n",
       "<table border=\"1\" class=\"dataframe\">\n",
       "  <thead>\n",
       "    <tr style=\"text-align: right;\">\n",
       "      <th></th>\n",
       "      <th>기간</th>\n",
       "      <th>추천회사_1</th>\n",
       "      <th>추천회사_2</th>\n",
       "      <th>추천회사_3</th>\n",
       "    </tr>\n",
       "  </thead>\n",
       "  <tbody>\n",
       "    <tr>\n",
       "      <th>0</th>\n",
       "      <td>30일</td>\n",
       "      <td>092200</td>\n",
       "      <td>005850</td>\n",
       "      <td>032350</td>\n",
       "    </tr>\n",
       "    <tr>\n",
       "      <th>1</th>\n",
       "      <td>3개월</td>\n",
       "      <td>004250</td>\n",
       "      <td>161000</td>\n",
       "      <td>020150</td>\n",
       "    </tr>\n",
       "    <tr>\n",
       "      <th>2</th>\n",
       "      <td>6개월</td>\n",
       "      <td>010770</td>\n",
       "      <td>014990</td>\n",
       "      <td>018670</td>\n",
       "    </tr>\n",
       "  </tbody>\n",
       "</table>\n",
       "</div>"
      ],
      "text/plain": [
       "    기간  추천회사_1  추천회사_2  추천회사_3\n",
       "0  30일  092200  005850  032350\n",
       "1  3개월  004250  161000  020150\n",
       "2  6개월  010770  014990  018670"
      ]
     },
     "execution_count": 8,
     "metadata": {},
     "output_type": "execute_result"
    }
   ],
   "source": [
    "hoit = company_recomend('2021-10-01')\n",
    "hoit"
   ]
  },
  {
   "cell_type": "markdown",
   "id": "3fd9243f",
   "metadata": {},
   "source": [
    "# 1개월 코스피 비교"
   ]
  },
  {
   "cell_type": "code",
   "execution_count": 5,
   "id": "52e8fa3c",
   "metadata": {},
   "outputs": [
    {
     "name": "stdout",
     "output_type": "stream",
     "text": [
      "모델 수익률 :  4.07\n",
      "코스피 수익률 :  2.0\n",
      "BM대비 수익률 :  2.07\n"
     ]
    }
   ],
   "source": [
    "bm_df = fdr.DataReader('092200','2022-03-02','2022-03-31')\n",
    "bm_1 = round((bm_df.iloc[-1,3] - bm_df.iloc[0,3])/bm_df.iloc[0,3]*100, 2)\n",
    "\n",
    "kospi_df = pd.read_csv('c:/Users/bitcamp/Desktop/final_data/fdr_kospi.csv')\n",
    "kospi = kospi_df[['Date','Close']]\n",
    "kospi = kospi['2022-03-01'< kospi['Date']]\n",
    "kospi = kospi[kospi['Date'] <'2022-04-01']\n",
    "\n",
    "kospi_bm = round((kospi.iloc[-1,1] - kospi.iloc[0,1])/kospi.iloc[0,1]*100, 2)\n",
    "\n",
    "print('모델 수익률 : ', bm_1)\n",
    "print('코스피 수익률 : ', kospi_bm)\n",
    "print('BM대비 수익률 : ', round(bm_1-kospi_bm, 2))"
   ]
  },
  {
   "cell_type": "code",
   "execution_count": 6,
   "id": "97f89d23",
   "metadata": {},
   "outputs": [
    {
     "name": "stdout",
     "output_type": "stream",
     "text": [
      "모델 수익률 :  4.65\n",
      "코스피 수익률 :  2.0\n",
      "BM대비 수익률 :  2.65\n"
     ]
    }
   ],
   "source": [
    "bm_df = fdr.DataReader('005850','2022-03-02','2022-03-31')\n",
    "bm_1 = round((bm_df.iloc[-1,3] - bm_df.iloc[0,3])/bm_df.iloc[0,3]*100, 2)\n",
    "\n",
    "kospi_df = pd.read_csv('c:/Users/bitcamp/Desktop/final_data/fdr_kospi.csv')\n",
    "kospi = kospi_df[['Date','Close']]\n",
    "kospi = kospi['2022-03-01'< kospi['Date']]\n",
    "kospi = kospi[kospi['Date'] <'2022-04-01']\n",
    "\n",
    "kospi_bm = round((kospi.iloc[-1,1] - kospi.iloc[0,1])/kospi.iloc[0,1]*100, 2)\n",
    "\n",
    "print('모델 수익률 : ', bm_1)\n",
    "print('코스피 수익률 : ', kospi_bm)\n",
    "print('BM대비 수익률 : ', round(bm_1-kospi_bm, 2))"
   ]
  },
  {
   "cell_type": "code",
   "execution_count": 9,
   "id": "2aad59e0",
   "metadata": {},
   "outputs": [
    {
     "name": "stdout",
     "output_type": "stream",
     "text": [
      "모델 수익률 :  0.28\n",
      "코스피 수익률 :  2.0\n",
      "BM대비 수익률 :  -1.72\n"
     ]
    }
   ],
   "source": [
    "bm_df = fdr.DataReader('032350','2022-03-02','2022-03-31')\n",
    "bm_1 = round((bm_df.iloc[-1,3] - bm_df.iloc[0,3])/bm_df.iloc[0,3]*100, 2)\n",
    "\n",
    "kospi_df = pd.read_csv('c:/Users/bitcamp/Desktop/final_data/fdr_kospi.csv')\n",
    "kospi = kospi_df[['Date','Close']]\n",
    "kospi = kospi['2022-03-01'< kospi['Date']]\n",
    "kospi = kospi[kospi['Date'] <'2022-04-01']\n",
    "\n",
    "kospi_bm = round((kospi.iloc[-1,1] - kospi.iloc[0,1])/kospi.iloc[0,1]*100, 2)\n",
    "\n",
    "print('모델 수익률 : ', bm_1)\n",
    "print('코스피 수익률 : ', kospi_bm)\n",
    "print('BM대비 수익률 : ', round(bm_1-kospi_bm, 2))"
   ]
  },
  {
   "cell_type": "markdown",
   "id": "2b5982a4",
   "metadata": {},
   "source": [
    "# 3개월 코스피 비교"
   ]
  },
  {
   "cell_type": "code",
   "execution_count": 10,
   "id": "8783a115",
   "metadata": {},
   "outputs": [
    {
     "name": "stdout",
     "output_type": "stream",
     "text": [
      "모델 수익률 :  29.87\n",
      "코스피 수익률 :  -7.73\n",
      "BM대비 수익률 :  37.6\n"
     ]
    }
   ],
   "source": [
    "bm_df = fdr.DataReader('084010','2022-01-03','2022-03-31')\n",
    "bm_1 = round((bm_df.iloc[-1,3] - bm_df.iloc[0,3])/bm_df.iloc[0,3]*100, 2)\n",
    "\n",
    "kospi_df = pd.read_csv('c:/Users/bitcamp/Desktop/final_data/fdr_kospi.csv')\n",
    "kospi = kospi_df[['Date','Close']]\n",
    "kospi = kospi['2022-01-02'< kospi['Date']]\n",
    "kospi = kospi[kospi['Date'] <'2022-04-01']\n",
    "\n",
    "kospi_bm = round((kospi.iloc[-1,1] - kospi.iloc[0,1])/kospi.iloc[0,1]*100, 2)\n",
    "\n",
    "print('모델 수익률 : ', bm_1)\n",
    "print('코스피 수익률 : ', kospi_bm)\n",
    "print('BM대비 수익률 : ', round(bm_1-kospi_bm, 2))"
   ]
  },
  {
   "cell_type": "code",
   "execution_count": 11,
   "id": "3be863e9",
   "metadata": {},
   "outputs": [
    {
     "name": "stdout",
     "output_type": "stream",
     "text": [
      "모델 수익률 :  25.21\n",
      "코스피 수익률 :  -7.73\n",
      "BM대비 수익률 :  32.94\n"
     ]
    }
   ],
   "source": [
    "bm_df = fdr.DataReader('002140','2022-01-03','2022-03-31')\n",
    "bm_1 = round((bm_df.iloc[-1,3] - bm_df.iloc[0,3])/bm_df.iloc[0,3]*100, 2)\n",
    "\n",
    "kospi_df = pd.read_csv('c:/Users/bitcamp/Desktop/final_data/fdr_kospi.csv')\n",
    "kospi = kospi_df[['Date','Close']]\n",
    "kospi = kospi['2022-01-02'< kospi['Date']]\n",
    "kospi = kospi[kospi['Date'] <'2022-04-01']\n",
    "\n",
    "kospi_bm = round((kospi.iloc[-1,1] - kospi.iloc[0,1])/kospi.iloc[0,1]*100, 2)\n",
    "\n",
    "print('모델 수익률 : ', bm_1)\n",
    "print('코스피 수익률 : ', kospi_bm)\n",
    "print('BM대비 수익률 : ', round(bm_1-kospi_bm, 2))"
   ]
  },
  {
   "cell_type": "code",
   "execution_count": 12,
   "id": "b48fea4d",
   "metadata": {},
   "outputs": [
    {
     "name": "stdout",
     "output_type": "stream",
     "text": [
      "모델 수익률 :  -15.49\n",
      "코스피 수익률 :  -7.75\n",
      "BM대비 수익률 :  -7.74\n"
     ]
    }
   ],
   "source": [
    "bm_df = fdr.DataReader('004250','2022-01-03','2022-03-31')\n",
    "bm_1 = round((bm_df.iloc[-1,3] - bm_df.iloc[0,3])/bm_df.iloc[0,3]*100, 2)\n",
    "\n",
    "kospi_df = pd.read_csv('c:/Users/bitcamp/Desktop/final_data/fdr_kospi.csv')\n",
    "kospi = kospi_df[['Date','Close']]\n",
    "kospi = kospi['2022-01-03'< kospi['Date']]\n",
    "kospi = kospi[kospi['Date'] <'2022-04-01']\n",
    "\n",
    "kospi_bm = round((kospi.iloc[-1,1] - kospi.iloc[0,1])/kospi.iloc[0,1]*100, 2)\n",
    "\n",
    "print('모델 수익률 : ', bm_1)\n",
    "print('코스피 수익률 : ', kospi_bm)\n",
    "print('BM대비 수익률 : ', round(bm_1-kospi_bm, 2))"
   ]
  },
  {
   "cell_type": "markdown",
   "id": "614d09f3",
   "metadata": {},
   "source": [
    "# 6개월 코스피 비교"
   ]
  },
  {
   "cell_type": "code",
   "execution_count": 13,
   "id": "0141d1dd",
   "metadata": {},
   "outputs": [
    {
     "name": "stdout",
     "output_type": "stream",
     "text": [
      "모델 수익률 :  -17.69\n",
      "코스피 수익률 :  -6.9\n",
      "BM대비 수익률 :  -10.79\n"
     ]
    }
   ],
   "source": [
    "bm_df = fdr.DataReader('010770','2021-10-01','2022-03-31')\n",
    "bm_1 = round((bm_df.iloc[-1,3] - bm_df.iloc[0,3])/bm_df.iloc[0,3]*100, 2)\n",
    "\n",
    "kospi_df = pd.read_csv('c:/Users/bitcamp/Desktop/final_data/fdr_kospi.csv')\n",
    "kospi = kospi_df[['Date','Close']]\n",
    "kospi = kospi['2021-10-01'< kospi['Date']]\n",
    "kospi = kospi[kospi['Date'] <'2022-04-01']\n",
    "\n",
    "kospi_bm = round((kospi.iloc[-1,1] - kospi.iloc[0,1])/kospi.iloc[0,1]*100, 2)\n",
    "\n",
    "print('모델 수익률 : ', bm_1)\n",
    "print('코스피 수익률 : ', kospi_bm)\n",
    "print('BM대비 수익률 : ', round(bm_1-kospi_bm, 2))"
   ]
  },
  {
   "cell_type": "code",
   "execution_count": 14,
   "id": "4d1c83d0",
   "metadata": {},
   "outputs": [
    {
     "name": "stdout",
     "output_type": "stream",
     "text": [
      "모델 수익률 :  -50.42\n",
      "코스피 수익률 :  -6.9\n",
      "BM대비 수익률 :  -43.52\n"
     ]
    }
   ],
   "source": [
    "bm_df = fdr.DataReader('014990','2021-10-01','2022-03-31')\n",
    "bm_1 = round((bm_df.iloc[-1,3] - bm_df.iloc[0,3])/bm_df.iloc[0,3]*100, 2)\n",
    "\n",
    "kospi_df = pd.read_csv('c:/Users/bitcamp/Desktop/final_data/fdr_kospi.csv')\n",
    "kospi = kospi_df[['Date','Close']]\n",
    "kospi = kospi['2021-10-01'< kospi['Date']]\n",
    "kospi = kospi[kospi['Date'] <'2022-04-01']\n",
    "\n",
    "kospi_bm = round((kospi.iloc[-1,1] - kospi.iloc[0,1])/kospi.iloc[0,1]*100, 2)\n",
    "\n",
    "print('모델 수익률 : ', bm_1)\n",
    "print('코스피 수익률 : ', kospi_bm)\n",
    "print('BM대비 수익률 : ', round(bm_1-kospi_bm, 2))"
   ]
  },
  {
   "cell_type": "code",
   "execution_count": 15,
   "id": "b386b66e",
   "metadata": {},
   "outputs": [
    {
     "name": "stdout",
     "output_type": "stream",
     "text": [
      "모델 수익률 :  -25.57\n",
      "코스피 수익률 :  -6.9\n",
      "BM대비 수익률 :  -18.67\n"
     ]
    }
   ],
   "source": [
    "bm_df = fdr.DataReader('018670','2021-10-01','2022-03-31')\n",
    "bm_1 = round((bm_df.iloc[-1,3] - bm_df.iloc[0,3])/bm_df.iloc[0,3]*100, 2)\n",
    "\n",
    "kospi_df = pd.read_csv('c:/Users/bitcamp/Desktop/final_data/fdr_kospi.csv')\n",
    "kospi = kospi_df[['Date','Close']]\n",
    "kospi = kospi['2021-10-01'< kospi['Date']]\n",
    "kospi = kospi[kospi['Date'] <'2022-04-01']\n",
    "\n",
    "kospi_bm = round((kospi.iloc[-1,1] - kospi.iloc[0,1])/kospi.iloc[0,1]*100, 2)\n",
    "\n",
    "print('모델 수익률 : ', bm_1)\n",
    "print('코스피 수익률 : ', kospi_bm)\n",
    "print('BM대비 수익률 : ', round(bm_1-kospi_bm, 2))"
   ]
  },
  {
   "cell_type": "markdown",
   "id": "3dcfc26f",
   "metadata": {},
   "source": [
    "# 2022-01-02"
   ]
  },
  {
   "cell_type": "code",
   "execution_count": 5,
   "id": "e8ae5fe9",
   "metadata": {},
   "outputs": [],
   "source": [
    "def company_recomend(date):\n",
    "    end_point = \"chatbot-db.c9x08hbiunuu.ap-northeast-2.rds.amazonaws.com\"\n",
    "    port =3306\n",
    "    user_name = 'root'\n",
    "    pw ='123123123'\n",
    "\n",
    "    conn = pymysql.connect(\n",
    "        host = end_point,\n",
    "        user = user_name,\n",
    "        password = pw,\n",
    "    #     db = db,\n",
    "        charset='utf8'\n",
    "\n",
    "    )\n",
    "    cursor = conn.cursor()\n",
    "\n",
    "    sql = 'use Chatbot_DB;'\n",
    "    cursor.execute(sql)\n",
    "\n",
    "    sql = 'select * from stock_table;'\n",
    "\n",
    "    stock_table = pd.read_sql(sql, conn)\n",
    "    \n",
    "    \n",
    "    stock_table['날짜'] = stock_table['날짜'].astype('datetime64')\n",
    "    stock_df = stock_table[stock_table['날짜'] == date]\n",
    "    stock_df = stock_df.drop(['BPS', 'PER', 'PBR', 'EPS', 'DIV_', 'DPS', 'quarter','날짜','등락률','name'], axis=1)\n",
    "    stock_df = stock_df.astype(str).apply(lambda col : col.apply(lambda x: np.nan if x == 'nan' else x))\n",
    "    stock_df.dropna(inplace=True)\n",
    "\n",
    "    hoho = defaultdict(list)\n",
    "    plus_df = pd.DataFrame()\n",
    "    hoit_df = pd.DataFrame()\n",
    "    fail_li = []\n",
    "    code_li = []\n",
    "    month_li = ['30일','3개월','6개월']\n",
    "    per_li = ['5per','10per','15per']\n",
    "\n",
    "    for code in stock_df['code'][:]:\n",
    "        try:\n",
    "            df = pd.read_csv(f'c:/Users/bitcamp/Desktop/final_data/머신러닝_재무데이터/머신러닝_train_test/6개월/test/{code}.csv', index_col=0)\n",
    "            df.drop(['date','등락률','종목명','수익률','quarter','5per','10per','15per'], axis=1, inplace=True)\n",
    "            df.rename(columns={'법인세차감전 순이익':'법인세차감전_순이익'}, inplace=True)\n",
    "\n",
    "            ya_df = pd.concat([stock_df[['code']],stock_df[list(df.columns)]], axis=1)\n",
    "            x_test = ya_df[ya_df.code == code].iloc[0,1:]\n",
    "\n",
    "            for monmon in month_li[:]:\n",
    "                for per in per_li[:]:\n",
    "                        with open(f'c:/Users/bitcamp/Desktop/final_data/머신러닝_모델/{monmon}_{per}/Randomforest/{code}.pkl','rb') as f:\n",
    "                                rfc = pickle.load(f)\n",
    "\n",
    "                        pred = rfc.predict([x_test])\n",
    "\n",
    "                        col = monmon+'_'+per\n",
    "\n",
    "                        hoho[col].append(pred[0])\n",
    "            code_li.append(code)\n",
    "\n",
    "        except:\n",
    "#             print(code)\n",
    "            pass\n",
    "\n",
    "    plus_df = pd.DataFrame({'code':code_li})\n",
    "\n",
    "    for col,val in hoho.items():\n",
    "        plus_df[col] = val\n",
    "    \n",
    "#     print(plus_df.head())\n",
    "    \n",
    "    mon_1 = ['30일','3개월','6개월']\n",
    "    hoit_li_1 = []\n",
    "    hoit_li_2 = []\n",
    "    hoit_com_1 = []\n",
    "    hoit_com_2 = []\n",
    "    hoit_com_3 = []\n",
    "    \n",
    "    for mon_n in mon_1:\n",
    "        max_plus_df = plus_df[plus_df[f'{mon_n}_15per']== 1]\n",
    "        max_plus_df.reset_index(drop=True, inplace=True)\n",
    "\n",
    "        pre_df = pd.read_csv(f'c:/Users/bitcamp/Desktop/final_data/모델정리/종목별_머신러닝/시연용/rfc_{mon_n}_15.csv', index_col=0)\n",
    "        pre_df.code = pre_df.code.apply(lambda x:f'{x:06}')\n",
    "\n",
    "        company_li = []\n",
    "        com_code_li = []\n",
    "        for pre in range(len(pre_df)):\n",
    "            for coco in range(len(max_plus_df)):\n",
    "                if max_plus_df.iloc[coco, 0] == pre_df.iloc[pre, 0]:\n",
    "                    company_li.append(pre_df.iloc[pre,1])\n",
    "                    com_code_li.append(pre_df.iloc[pre,0])\n",
    "                    \n",
    "        hoit_li_1.append(mon_n)\n",
    "#         hoit_li_2.append([company_li[0].strip('[]').strip(\"''\"), company_li[1].strip('[]').strip(\"''\"), company_li[2].strip('[]').strip(\"''\")])\n",
    "        hoit_com_1.append(com_code_li[0].strip('[]').strip(\"''\"))\n",
    "        hoit_com_2.append(com_code_li[1].strip('[]').strip(\"''\"))\n",
    "        hoit_com_3.append(com_code_li[2].strip('[]').strip(\"''\"))\n",
    "#         hoit = pd.DataFrame({'기간':hoit_li_1, '추천회사':hoit_li_2})\n",
    "        hoit = pd.DataFrame({'기간':hoit_li_1, '추천회사_1':hoit_com_1, '추천회사_2':hoit_com_2, '추천회사_3':hoit_com_3})\n",
    "        \n",
    "    return hoit"
   ]
  },
  {
   "cell_type": "code",
   "execution_count": 6,
   "id": "de050b7a",
   "metadata": {},
   "outputs": [
    {
     "data": {
      "text/html": [
       "<div>\n",
       "<style scoped>\n",
       "    .dataframe tbody tr th:only-of-type {\n",
       "        vertical-align: middle;\n",
       "    }\n",
       "\n",
       "    .dataframe tbody tr th {\n",
       "        vertical-align: top;\n",
       "    }\n",
       "\n",
       "    .dataframe thead th {\n",
       "        text-align: right;\n",
       "    }\n",
       "</style>\n",
       "<table border=\"1\" class=\"dataframe\">\n",
       "  <thead>\n",
       "    <tr style=\"text-align: right;\">\n",
       "      <th></th>\n",
       "      <th>기간</th>\n",
       "      <th>추천회사_1</th>\n",
       "      <th>추천회사_2</th>\n",
       "      <th>추천회사_3</th>\n",
       "    </tr>\n",
       "  </thead>\n",
       "  <tbody>\n",
       "    <tr>\n",
       "      <th>0</th>\n",
       "      <td>30일</td>\n",
       "      <td>013580</td>\n",
       "      <td>042660</td>\n",
       "      <td>032350</td>\n",
       "    </tr>\n",
       "    <tr>\n",
       "      <th>1</th>\n",
       "      <td>3개월</td>\n",
       "      <td>084010</td>\n",
       "      <td>002140</td>\n",
       "      <td>004250</td>\n",
       "    </tr>\n",
       "    <tr>\n",
       "      <th>2</th>\n",
       "      <td>6개월</td>\n",
       "      <td>014990</td>\n",
       "      <td>018670</td>\n",
       "      <td>003280</td>\n",
       "    </tr>\n",
       "  </tbody>\n",
       "</table>\n",
       "</div>"
      ],
      "text/plain": [
       "    기간  추천회사_1  추천회사_2  추천회사_3\n",
       "0  30일  013580  042660  032350\n",
       "1  3개월  084010  002140  004250\n",
       "2  6개월  014990  018670  003280"
      ]
     },
     "execution_count": 6,
     "metadata": {},
     "output_type": "execute_result"
    }
   ],
   "source": [
    "hoit = company_recomend('2022-01-03')\n",
    "hoit"
   ]
  },
  {
   "cell_type": "markdown",
   "id": "783f27b3",
   "metadata": {},
   "source": [
    "## 1개월 비교"
   ]
  },
  {
   "cell_type": "code",
   "execution_count": 16,
   "id": "3c492403",
   "metadata": {},
   "outputs": [
    {
     "name": "stdout",
     "output_type": "stream",
     "text": [
      "모델 수익률 :  -6.5\n",
      "코스피 수익률 :  -10.89\n",
      "BM대비 수익률 :  4.39\n"
     ]
    }
   ],
   "source": [
    "bm_df = fdr.DataReader('013580','2022-01-02','2022-01-31')\n",
    "bm_1 = round((bm_df.iloc[-1,3] - bm_df.iloc[0,3])/bm_df.iloc[0,3]*100, 2)\n",
    "\n",
    "kospi_df = pd.read_csv('c:/Users/bitcamp/Desktop/final_data/fdr_kospi.csv')\n",
    "kospi = kospi_df[['Date','Close']]\n",
    "kospi = kospi['2022-01-01'< kospi['Date']]\n",
    "kospi = kospi[kospi['Date'] <'2022-02-01']\n",
    "\n",
    "kospi_bm = round((kospi.iloc[-1,1] - kospi.iloc[0,1])/kospi.iloc[0,1]*100, 2)\n",
    "\n",
    "print('모델 수익률 : ', bm_1)\n",
    "print('코스피 수익률 : ', kospi_bm)\n",
    "print('BM대비 수익률 : ', round(bm_1-kospi_bm, 2))"
   ]
  },
  {
   "cell_type": "code",
   "execution_count": 17,
   "id": "088c3b6a",
   "metadata": {},
   "outputs": [
    {
     "name": "stdout",
     "output_type": "stream",
     "text": [
      "모델 수익률 :  -13.94\n",
      "코스피 수익률 :  -10.89\n",
      "BM대비 수익률 :  -3.05\n"
     ]
    }
   ],
   "source": [
    "bm_df = fdr.DataReader('042660','2022-01-02','2022-01-31')\n",
    "bm_1 = round((bm_df.iloc[-1,3] - bm_df.iloc[0,3])/bm_df.iloc[0,3]*100, 2)\n",
    "\n",
    "kospi_df = pd.read_csv('c:/Users/bitcamp/Desktop/final_data/fdr_kospi.csv')\n",
    "kospi = kospi_df[['Date','Close']]\n",
    "kospi = kospi['2022-01-01'< kospi['Date']]\n",
    "kospi = kospi[kospi['Date'] <'2022-02-01']\n",
    "\n",
    "kospi_bm = round((kospi.iloc[-1,1] - kospi.iloc[0,1])/kospi.iloc[0,1]*100, 2)\n",
    "\n",
    "print('모델 수익률 : ', bm_1)\n",
    "print('코스피 수익률 : ', kospi_bm)\n",
    "print('BM대비 수익률 : ', round(bm_1-kospi_bm, 2))"
   ]
  },
  {
   "cell_type": "code",
   "execution_count": 18,
   "id": "1cfc8afe",
   "metadata": {},
   "outputs": [
    {
     "name": "stdout",
     "output_type": "stream",
     "text": [
      "모델 수익률 :  -17.18\n",
      "코스피 수익률 :  -10.89\n",
      "BM대비 수익률 :  -6.29\n"
     ]
    }
   ],
   "source": [
    "bm_df = fdr.DataReader('032350','2022-01-02','2022-01-31')\n",
    "bm_1 = round((bm_df.iloc[-1,3] - bm_df.iloc[0,3])/bm_df.iloc[0,3]*100, 2)\n",
    "\n",
    "kospi_df = pd.read_csv('c:/Users/bitcamp/Desktop/final_data/fdr_kospi.csv')\n",
    "kospi = kospi_df[['Date','Close']]\n",
    "kospi = kospi['2022-01-01'< kospi['Date']]\n",
    "kospi = kospi[kospi['Date'] <'2022-02-01']\n",
    "\n",
    "kospi_bm = round((kospi.iloc[-1,1] - kospi.iloc[0,1])/kospi.iloc[0,1]*100, 2)\n",
    "\n",
    "print('모델 수익률 : ', bm_1)\n",
    "print('코스피 수익률 : ', kospi_bm)\n",
    "print('BM대비 수익률 : ', round(bm_1-kospi_bm, 2))"
   ]
  },
  {
   "cell_type": "markdown",
   "id": "a2ac3a23",
   "metadata": {},
   "source": [
    "## 3개월 비교"
   ]
  },
  {
   "cell_type": "code",
   "execution_count": 19,
   "id": "d8df41c8",
   "metadata": {},
   "outputs": [
    {
     "name": "stdout",
     "output_type": "stream",
     "text": [
      "모델 수익률 :  29.87\n",
      "코스피 수익률 :  -7.73\n",
      "BM대비 수익률 :  37.6\n"
     ]
    }
   ],
   "source": [
    "bm_df = fdr.DataReader('084010','2022-01-02','2022-03-31')\n",
    "bm_3 = round((bm_df.iloc[-1,3] - bm_df.iloc[0,3])/bm_df.iloc[0,3]*100, 2)\n",
    "\n",
    "kospi_df = pd.read_csv('c:/Users/bitcamp/Desktop/final_data/fdr_kospi.csv')\n",
    "kospi = kospi_df[['Date','Close']]\n",
    "kospi = kospi['2022-01-01'< kospi['Date']]\n",
    "kospi = kospi[kospi['Date'] <'2022-04-01']\n",
    "\n",
    "kospi_bm = round((kospi.iloc[-1,1] - kospi.iloc[0,1])/kospi.iloc[0,1]*100, 2)\n",
    "\n",
    "print('모델 수익률 : ', bm_3)\n",
    "print('코스피 수익률 : ', kospi_bm)\n",
    "print('BM대비 수익률 : ', round(bm_3-kospi_bm, 2))"
   ]
  },
  {
   "cell_type": "code",
   "execution_count": 20,
   "id": "284d97bf",
   "metadata": {},
   "outputs": [
    {
     "name": "stdout",
     "output_type": "stream",
     "text": [
      "모델 수익률 :  25.21\n",
      "코스피 수익률 :  -7.73\n",
      "BM대비 수익률 :  32.94\n"
     ]
    }
   ],
   "source": [
    "bm_df = fdr.DataReader('002140','2022-01-02','2022-03-31')\n",
    "bm_3 = round((bm_df.iloc[-1,3] - bm_df.iloc[0,3])/bm_df.iloc[0,3]*100, 2)\n",
    "\n",
    "kospi_df = pd.read_csv('c:/Users/bitcamp/Desktop/final_data/fdr_kospi.csv')\n",
    "kospi = kospi_df[['Date','Close']]\n",
    "kospi = kospi['2022-01-01'< kospi['Date']]\n",
    "kospi = kospi[kospi['Date'] <'2022-04-01']\n",
    "\n",
    "kospi_bm = round((kospi.iloc[-1,1] - kospi.iloc[0,1])/kospi.iloc[0,1]*100, 2)\n",
    "\n",
    "print('모델 수익률 : ', bm_3)\n",
    "print('코스피 수익률 : ', kospi_bm)\n",
    "print('BM대비 수익률 : ', round(bm_3-kospi_bm, 2))"
   ]
  },
  {
   "cell_type": "code",
   "execution_count": 21,
   "id": "ce16055d",
   "metadata": {},
   "outputs": [
    {
     "name": "stdout",
     "output_type": "stream",
     "text": [
      "모델 수익률 :  -15.49\n",
      "코스피 수익률 :  -7.73\n",
      "BM대비 수익률 :  -7.76\n"
     ]
    }
   ],
   "source": [
    "bm_df = fdr.DataReader('004250','2022-01-02','2022-03-31')\n",
    "bm_3 = round((bm_df.iloc[-1,3] - bm_df.iloc[0,3])/bm_df.iloc[0,3]*100, 2)\n",
    "\n",
    "kospi_df = pd.read_csv('c:/Users/bitcamp/Desktop/final_data/fdr_kospi.csv')\n",
    "kospi = kospi_df[['Date','Close']]\n",
    "kospi = kospi['2022-01-01'< kospi['Date']]\n",
    "kospi = kospi[kospi['Date'] <'2022-04-01']\n",
    "\n",
    "kospi_bm = round((kospi.iloc[-1,1] - kospi.iloc[0,1])/kospi.iloc[0,1]*100, 2)\n",
    "\n",
    "print('모델 수익률 : ', bm_3)\n",
    "print('코스피 수익률 : ', kospi_bm)\n",
    "print('BM대비 수익률 : ', round(bm_3-kospi_bm, 2))"
   ]
  },
  {
   "cell_type": "markdown",
   "id": "b94656c5",
   "metadata": {},
   "source": [
    "## 6개월 비교"
   ]
  },
  {
   "cell_type": "code",
   "execution_count": 23,
   "id": "09db4590",
   "metadata": {},
   "outputs": [
    {
     "name": "stdout",
     "output_type": "stream",
     "text": [
      "모델 수익률 :  -37.88\n",
      "코스피 수익률 :  -22.42\n",
      "BM대비 수익률 :  -15.46\n"
     ]
    }
   ],
   "source": [
    "bm_df = fdr.DataReader('014990','2022-01-02')\n",
    "bm_6 = round((bm_df.iloc[-1,3] - bm_df.iloc[0,3])/bm_df.iloc[0,3]*100, 2)\n",
    "\n",
    "kospi_df = pd.read_csv('c:/Users/bitcamp/Desktop/final_data/fdr_kospi.csv')\n",
    "kospi = kospi_df[['Date','Close']]\n",
    "kospi = kospi['2022-01-01'< kospi['Date']]\n",
    "# kospi = kospi[kospi['Date'] <'2022-04-01']\n",
    "\n",
    "kospi_bm = round((kospi.iloc[-1,1] - kospi.iloc[0,1])/kospi.iloc[0,1]*100, 2)\n",
    "\n",
    "print('모델 수익률 : ', bm_6)\n",
    "print('코스피 수익률 : ', kospi_bm)\n",
    "print('BM대비 수익률 : ', round(bm_6-kospi_bm, 2))"
   ]
  },
  {
   "cell_type": "code",
   "execution_count": 24,
   "id": "5c7990cd",
   "metadata": {},
   "outputs": [
    {
     "name": "stdout",
     "output_type": "stream",
     "text": [
      "모델 수익률 :  -2.01\n",
      "코스피 수익률 :  -22.42\n",
      "BM대비 수익률 :  20.41\n"
     ]
    }
   ],
   "source": [
    "bm_df = fdr.DataReader('018670','2022-01-02')\n",
    "bm_6 = round((bm_df.iloc[-1,3] - bm_df.iloc[0,3])/bm_df.iloc[0,3]*100, 2)\n",
    "\n",
    "kospi_df = pd.read_csv('c:/Users/bitcamp/Desktop/final_data/fdr_kospi.csv')\n",
    "kospi = kospi_df[['Date','Close']]\n",
    "kospi = kospi['2022-01-01'< kospi['Date']]\n",
    "# kospi = kospi[kospi['Date'] <'2022-04-01']\n",
    "\n",
    "kospi_bm = round((kospi.iloc[-1,1] - kospi.iloc[0,1])/kospi.iloc[0,1]*100, 2)\n",
    "\n",
    "print('모델 수익률 : ', bm_6)\n",
    "print('코스피 수익률 : ', kospi_bm)\n",
    "print('BM대비 수익률 : ', round(bm_6-kospi_bm, 2))"
   ]
  },
  {
   "cell_type": "code",
   "execution_count": 25,
   "id": "ba537bd4",
   "metadata": {},
   "outputs": [
    {
     "name": "stdout",
     "output_type": "stream",
     "text": [
      "모델 수익률 :  -24.04\n",
      "코스피 수익률 :  -22.42\n",
      "BM대비 수익률 :  -1.62\n"
     ]
    }
   ],
   "source": [
    "bm_df = fdr.DataReader('003280','2022-01-02')\n",
    "bm_6 = round((bm_df.iloc[-1,3] - bm_df.iloc[0,3])/bm_df.iloc[0,3]*100, 2)\n",
    "\n",
    "kospi_df = pd.read_csv('c:/Users/bitcamp/Desktop/final_data/fdr_kospi.csv')\n",
    "kospi = kospi_df[['Date','Close']]\n",
    "kospi = kospi['2022-01-01'< kospi['Date']]\n",
    "# kospi = kospi[kospi['Date'] <'2022-04-01']\n",
    "\n",
    "kospi_bm = round((kospi.iloc[-1,1] - kospi.iloc[0,1])/kospi.iloc[0,1]*100, 2)\n",
    "\n",
    "print('모델 수익률 : ', bm_6)\n",
    "print('코스피 수익률 : ', kospi_bm)\n",
    "print('BM대비 수익률 : ', round(bm_6-kospi_bm, 2))"
   ]
  },
  {
   "cell_type": "code",
   "execution_count": null,
   "id": "50ab1f90",
   "metadata": {},
   "outputs": [],
   "source": []
  }
 ],
 "metadata": {
  "kernelspec": {
   "display_name": "Python 3 (ipykernel)",
   "language": "python",
   "name": "python3"
  },
  "language_info": {
   "codemirror_mode": {
    "name": "ipython",
    "version": 3
   },
   "file_extension": ".py",
   "mimetype": "text/x-python",
   "name": "python",
   "nbconvert_exporter": "python",
   "pygments_lexer": "ipython3",
   "version": "3.9.7"
  },
  "toc": {
   "base_numbering": 1,
   "nav_menu": {},
   "number_sections": true,
   "sideBar": true,
   "skip_h1_title": false,
   "title_cell": "Table of Contents",
   "title_sidebar": "Contents",
   "toc_cell": false,
   "toc_position": {},
   "toc_section_display": true,
   "toc_window_display": true
  },
  "varInspector": {
   "cols": {
    "lenName": 16,
    "lenType": 16,
    "lenVar": 40
   },
   "kernels_config": {
    "python": {
     "delete_cmd_postfix": "",
     "delete_cmd_prefix": "del ",
     "library": "var_list.py",
     "varRefreshCmd": "print(var_dic_list())"
    },
    "r": {
     "delete_cmd_postfix": ") ",
     "delete_cmd_prefix": "rm(",
     "library": "var_list.r",
     "varRefreshCmd": "cat(var_dic_list()) "
    }
   },
   "types_to_exclude": [
    "module",
    "function",
    "builtin_function_or_method",
    "instance",
    "_Feature"
   ],
   "window_display": false
  }
 },
 "nbformat": 4,
 "nbformat_minor": 5
}
