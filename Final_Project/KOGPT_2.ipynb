{
 "cells": [
  {
   "cell_type": "code",
   "execution_count": 2,
   "id": "3d6b9979",
   "metadata": {
    "collapsed": true
   },
   "outputs": [
    {
     "name": "stdout",
     "output_type": "stream",
     "text": [
      "Collecting transformers\n",
      "  Downloading transformers-4.19.4-py3-none-any.whl (4.2 MB)\n",
      "     ---------------------------------------- 4.2/4.2 MB 22.2 MB/s eta 0:00:00\n",
      "Requirement already satisfied: requests in c:\\users\\bitcamp\\anaconda3\\lib\\site-packages (from transformers) (2.26.0)\n",
      "Requirement already satisfied: tqdm>=4.27 in c:\\users\\bitcamp\\anaconda3\\lib\\site-packages (from transformers) (4.62.3)\n",
      "Requirement already satisfied: filelock in c:\\users\\bitcamp\\anaconda3\\lib\\site-packages (from transformers) (3.3.1)\n",
      "Requirement already satisfied: numpy>=1.17 in c:\\users\\bitcamp\\anaconda3\\lib\\site-packages (from transformers) (1.22.1)\n",
      "Collecting tokenizers!=0.11.3,<0.13,>=0.11.1\n",
      "  Downloading tokenizers-0.12.1-cp39-cp39-win_amd64.whl (3.3 MB)\n",
      "     ---------------------------------------- 3.3/3.3 MB 69.6 MB/s eta 0:00:00\n",
      "Requirement already satisfied: regex!=2019.12.17 in c:\\users\\bitcamp\\anaconda3\\lib\\site-packages (from transformers) (2021.8.3)\n",
      "Requirement already satisfied: packaging>=20.0 in c:\\users\\bitcamp\\anaconda3\\lib\\site-packages (from transformers) (21.0)\n",
      "Collecting huggingface-hub<1.0,>=0.1.0\n",
      "  Downloading huggingface_hub-0.7.0-py3-none-any.whl (86 kB)\n",
      "     ---------------------------------------- 86.2/86.2 kB 5.1 MB/s eta 0:00:00\n",
      "Requirement already satisfied: pyyaml>=5.1 in c:\\users\\bitcamp\\anaconda3\\lib\\site-packages (from transformers) (6.0)\n",
      "Requirement already satisfied: typing-extensions>=3.7.4.3 in c:\\users\\bitcamp\\anaconda3\\lib\\site-packages (from huggingface-hub<1.0,>=0.1.0->transformers) (3.10.0.2)\n",
      "Requirement already satisfied: pyparsing>=2.0.2 in c:\\users\\bitcamp\\anaconda3\\lib\\site-packages (from packaging>=20.0->transformers) (3.0.4)\n",
      "Requirement already satisfied: colorama in c:\\users\\bitcamp\\anaconda3\\lib\\site-packages (from tqdm>=4.27->transformers) (0.4.4)\n",
      "Requirement already satisfied: urllib3<1.27,>=1.21.1 in c:\\users\\bitcamp\\anaconda3\\lib\\site-packages (from requests->transformers) (1.26.7)\n",
      "Requirement already satisfied: idna<4,>=2.5 in c:\\users\\bitcamp\\anaconda3\\lib\\site-packages (from requests->transformers) (3.2)\n",
      "Requirement already satisfied: charset-normalizer~=2.0.0 in c:\\users\\bitcamp\\anaconda3\\lib\\site-packages (from requests->transformers) (2.0.4)\n",
      "Requirement already satisfied: certifi>=2017.4.17 in c:\\users\\bitcamp\\anaconda3\\lib\\site-packages (from requests->transformers) (2021.10.8)\n",
      "Installing collected packages: tokenizers, huggingface-hub, transformers\n",
      "Successfully installed huggingface-hub-0.7.0 tokenizers-0.12.1 transformers-4.19.4\n"
     ]
    },
    {
     "name": "stderr",
     "output_type": "stream",
     "text": [
      "WARNING: There was an error checking the latest version of pip.\n"
     ]
    }
   ],
   "source": [
    "# !pip install transformers"
   ]
  },
  {
   "cell_type": "code",
   "execution_count": 5,
   "id": "e2fe7f52",
   "metadata": {
    "collapsed": true
   },
   "outputs": [
    {
     "name": "stdout",
     "output_type": "stream",
     "text": [
      "Collecting fastai\n",
      "  Downloading fastai-2.6.3-py3-none-any.whl (197 kB)\n",
      "     -------------------------------------- 197.9/197.9 kB 6.1 MB/s eta 0:00:00\n",
      "Collecting fastprogress>=0.2.4\n",
      "  Downloading fastprogress-1.0.2-py3-none-any.whl (12 kB)\n",
      "Collecting fastdownload<2,>=0.0.5\n",
      "  Downloading fastdownload-0.0.6-py3-none-any.whl (12 kB)\n",
      "Requirement already satisfied: pip in c:\\users\\bitcamp\\anaconda3\\lib\\site-packages (from fastai) (22.1)\n",
      "Requirement already satisfied: torchvision>=0.8.2 in c:\\users\\bitcamp\\anaconda3\\lib\\site-packages (from fastai) (0.12.0)\n",
      "Requirement already satisfied: requests in c:\\users\\bitcamp\\anaconda3\\lib\\site-packages (from fastai) (2.26.0)\n",
      "Requirement already satisfied: pillow>6.0.0 in c:\\users\\bitcamp\\anaconda3\\lib\\site-packages (from fastai) (8.4.0)\n",
      "Requirement already satisfied: pyyaml in c:\\users\\bitcamp\\anaconda3\\lib\\site-packages (from fastai) (6.0)\n",
      "Requirement already satisfied: scipy in c:\\users\\bitcamp\\anaconda3\\lib\\site-packages (from fastai) (1.7.1)\n",
      "Collecting fastcore<1.5,>=1.3.27\n",
      "  Downloading fastcore-1.4.4-py3-none-any.whl (60 kB)\n",
      "     ---------------------------------------- 60.6/60.6 kB 3.2 MB/s eta 0:00:00\n",
      "Requirement already satisfied: packaging in c:\\users\\bitcamp\\anaconda3\\lib\\site-packages (from fastai) (21.0)\n",
      "Collecting spacy<4\n",
      "  Downloading spacy-3.3.1-cp39-cp39-win_amd64.whl (11.7 MB)\n",
      "     --------------------------------------- 11.7/11.7 MB 65.5 MB/s eta 0:00:00\n",
      "Requirement already satisfied: matplotlib in c:\\users\\bitcamp\\anaconda3\\lib\\site-packages (from fastai) (3.4.3)\n",
      "Requirement already satisfied: pandas in c:\\users\\bitcamp\\anaconda3\\lib\\site-packages (from fastai) (1.2.5)\n",
      "Requirement already satisfied: scikit-learn in c:\\users\\bitcamp\\anaconda3\\lib\\site-packages (from fastai) (1.0.2)\n",
      "Requirement already satisfied: torch<1.12,>=1.7.0 in c:\\users\\bitcamp\\anaconda3\\lib\\site-packages (from fastai) (1.11.0)\n",
      "Collecting thinc<8.1.0,>=8.0.14\n",
      "  Downloading thinc-8.0.17-cp39-cp39-win_amd64.whl (1.0 MB)\n",
      "     ---------------------------------------- 1.0/1.0 MB 63.9 MB/s eta 0:00:00\n",
      "Collecting pathy>=0.3.5\n",
      "  Downloading pathy-0.6.1-py3-none-any.whl (42 kB)\n",
      "     ---------------------------------------- 42.8/42.8 kB 2.0 MB/s eta 0:00:00\n",
      "Collecting murmurhash<1.1.0,>=0.28.0\n",
      "  Downloading murmurhash-1.0.7-cp39-cp39-win_amd64.whl (18 kB)\n",
      "Collecting cymem<2.1.0,>=2.0.2\n",
      "  Downloading cymem-2.0.6-cp39-cp39-win_amd64.whl (36 kB)\n",
      "Collecting wasabi<1.1.0,>=0.9.1\n",
      "  Downloading wasabi-0.9.1-py3-none-any.whl (26 kB)\n",
      "Collecting srsly<3.0.0,>=2.4.3\n",
      "  Downloading srsly-2.4.3-cp39-cp39-win_amd64.whl (448 kB)\n",
      "     ------------------------------------- 448.4/448.4 kB 29.2 MB/s eta 0:00:00\n",
      "Collecting pydantic!=1.8,!=1.8.1,<1.9.0,>=1.7.4\n",
      "  Downloading pydantic-1.8.2-cp39-cp39-win_amd64.whl (1.9 MB)\n",
      "     ---------------------------------------- 1.9/1.9 MB 62.6 MB/s eta 0:00:00\n",
      "Requirement already satisfied: tqdm<5.0.0,>=4.38.0 in c:\\users\\bitcamp\\anaconda3\\lib\\site-packages (from spacy<4->fastai) (4.62.3)\n",
      "Collecting preshed<3.1.0,>=3.0.2\n",
      "  Downloading preshed-3.0.6-cp39-cp39-win_amd64.whl (112 kB)\n",
      "     ---------------------------------------- 112.4/112.4 kB ? eta 0:00:00\n",
      "Requirement already satisfied: jinja2 in c:\\users\\bitcamp\\anaconda3\\lib\\site-packages (from spacy<4->fastai) (2.11.3)\n",
      "Collecting blis<0.8.0,>=0.4.0\n",
      "  Downloading blis-0.7.7-cp39-cp39-win_amd64.whl (6.6 MB)\n",
      "     ---------------------------------------- 6.6/6.6 MB 69.9 MB/s eta 0:00:00\n",
      "Collecting typer<0.5.0,>=0.3.0\n",
      "  Downloading typer-0.4.1-py3-none-any.whl (27 kB)\n",
      "Requirement already satisfied: setuptools in c:\\users\\bitcamp\\anaconda3\\lib\\site-packages (from spacy<4->fastai) (58.0.4)\n",
      "Requirement already satisfied: numpy>=1.15.0 in c:\\users\\bitcamp\\anaconda3\\lib\\site-packages (from spacy<4->fastai) (1.22.1)\n",
      "Collecting spacy-loggers<2.0.0,>=1.0.0\n",
      "  Downloading spacy_loggers-1.0.2-py3-none-any.whl (7.2 kB)\n",
      "Collecting langcodes<4.0.0,>=3.2.0\n",
      "  Downloading langcodes-3.3.0-py3-none-any.whl (181 kB)\n",
      "     ---------------------------------------- 181.6/181.6 kB ? eta 0:00:00\n",
      "Collecting spacy-legacy<3.1.0,>=3.0.9\n",
      "  Downloading spacy_legacy-3.0.9-py2.py3-none-any.whl (20 kB)\n",
      "Collecting catalogue<2.1.0,>=2.0.6\n",
      "  Downloading catalogue-2.0.7-py3-none-any.whl (17 kB)\n",
      "Requirement already satisfied: pyparsing>=2.0.2 in c:\\users\\bitcamp\\anaconda3\\lib\\site-packages (from packaging->fastai) (3.0.4)\n",
      "Requirement already satisfied: charset-normalizer~=2.0.0 in c:\\users\\bitcamp\\anaconda3\\lib\\site-packages (from requests->fastai) (2.0.4)\n",
      "Requirement already satisfied: urllib3<1.27,>=1.21.1 in c:\\users\\bitcamp\\anaconda3\\lib\\site-packages (from requests->fastai) (1.26.7)\n",
      "Requirement already satisfied: idna<4,>=2.5 in c:\\users\\bitcamp\\anaconda3\\lib\\site-packages (from requests->fastai) (3.2)\n",
      "Requirement already satisfied: certifi>=2017.4.17 in c:\\users\\bitcamp\\anaconda3\\lib\\site-packages (from requests->fastai) (2021.10.8)\n",
      "Requirement already satisfied: typing-extensions in c:\\users\\bitcamp\\anaconda3\\lib\\site-packages (from torch<1.12,>=1.7.0->fastai) (3.10.0.2)\n",
      "Requirement already satisfied: python-dateutil>=2.7 in c:\\users\\bitcamp\\anaconda3\\lib\\site-packages (from matplotlib->fastai) (2.8.2)\n",
      "Requirement already satisfied: kiwisolver>=1.0.1 in c:\\users\\bitcamp\\anaconda3\\lib\\site-packages (from matplotlib->fastai) (1.3.1)\n",
      "Requirement already satisfied: cycler>=0.10 in c:\\users\\bitcamp\\anaconda3\\lib\\site-packages (from matplotlib->fastai) (0.10.0)\n",
      "Requirement already satisfied: pytz>=2017.3 in c:\\users\\bitcamp\\anaconda3\\lib\\site-packages (from pandas->fastai) (2021.3)\n",
      "Requirement already satisfied: threadpoolctl>=2.0.0 in c:\\users\\bitcamp\\anaconda3\\lib\\site-packages (from scikit-learn->fastai) (2.2.0)\n",
      "Requirement already satisfied: joblib>=0.11 in c:\\users\\bitcamp\\anaconda3\\lib\\site-packages (from scikit-learn->fastai) (1.0.1)\n",
      "Requirement already satisfied: six in c:\\users\\bitcamp\\anaconda3\\lib\\site-packages (from cycler>=0.10->matplotlib->fastai) (1.16.0)\n",
      "Requirement already satisfied: smart-open<6.0.0,>=5.0.0 in c:\\users\\bitcamp\\anaconda3\\lib\\site-packages (from pathy>=0.3.5->spacy<4->fastai) (5.2.1)\n",
      "Requirement already satisfied: colorama in c:\\users\\bitcamp\\anaconda3\\lib\\site-packages (from tqdm<5.0.0,>=4.38.0->spacy<4->fastai) (0.4.4)\n",
      "Requirement already satisfied: click<9.0.0,>=7.1.1 in c:\\users\\bitcamp\\anaconda3\\lib\\site-packages (from typer<0.5.0,>=0.3.0->spacy<4->fastai) (8.0.3)\n",
      "Requirement already satisfied: MarkupSafe>=0.23 in c:\\users\\bitcamp\\anaconda3\\lib\\site-packages (from jinja2->spacy<4->fastai) (2.0.1)\n",
      "Installing collected packages: wasabi, murmurhash, cymem, spacy-loggers, spacy-legacy, pydantic, preshed, langcodes, fastprogress, catalogue, blis, typer, srsly, fastcore, thinc, pathy, fastdownload, spacy, fastai\n",
      "  Attempting uninstall: pydantic\n",
      "    Found existing installation: pydantic 1.9.0\n",
      "    Uninstalling pydantic-1.9.0:\n",
      "      Successfully uninstalled pydantic-1.9.0\n",
      "Successfully installed blis-0.7.7 catalogue-2.0.7 cymem-2.0.6 fastai-2.6.3 fastcore-1.4.4 fastdownload-0.0.6 fastprogress-1.0.2 langcodes-3.3.0 murmurhash-1.0.7 pathy-0.6.1 preshed-3.0.6 pydantic-1.8.2 spacy-3.3.1 spacy-legacy-3.0.9 spacy-loggers-1.0.2 srsly-2.4.3 thinc-8.0.17 typer-0.4.1 wasabi-0.9.1\n"
     ]
    },
    {
     "name": "stderr",
     "output_type": "stream",
     "text": [
      "WARNING: There was an error checking the latest version of pip.\n"
     ]
    }
   ],
   "source": [
    "# !pip install fastai"
   ]
  },
  {
   "cell_type": "code",
   "execution_count": null,
   "id": "ce6f0515",
   "metadata": {},
   "outputs": [],
   "source": []
  },
  {
   "cell_type": "code",
   "execution_count": 6,
   "id": "5d07ebaa",
   "metadata": {},
   "outputs": [],
   "source": [
    "import pandas as pd\n",
    "import numpy as np\n",
    "import matplotlib.pyplot as plt\n",
    "import seaborn as sns\n",
    "\n",
    "import warnings\n"
   ]
  },
  {
   "cell_type": "code",
   "execution_count": 7,
   "id": "d1c219d1",
   "metadata": {},
   "outputs": [],
   "source": [
    "from typing import Optional\n",
    "import torch\n",
    "import transformers\n",
    "from transformers import AutoModelWithLMHead, PreTrainedTokenizerFast\n",
    "from fastai.text.all import *\n",
    "import fastai\n",
    "import re"
   ]
  },
  {
   "cell_type": "markdown",
   "id": "022e792a",
   "metadata": {},
   "source": [
    "# KOGPT 구현"
   ]
  },
  {
   "cell_type": "code",
   "execution_count": 9,
   "id": "4684b0b5",
   "metadata": {},
   "outputs": [
    {
     "name": "stderr",
     "output_type": "stream",
     "text": [
      "The tokenizer class you load from this checkpoint is not the same type as the class this function is called from. It may result in unexpected tokenization. \n",
      "The tokenizer class you load from this checkpoint is 'GPT2Tokenizer'. \n",
      "The class this function is called from is 'PreTrainedTokenizerFast'.\n"
     ]
    },
    {
     "name": "stdout",
     "output_type": "stream",
     "text": [
      "삼성전자 주가 알려줘 줬다는 의혹을 받고 있다.\n",
      "검찰은 이 부회장이 박 전 대통령과 독대하면서 삼성이 최씨 측에 건넨 돈의 사용처를 캐물었다.\n",
      "이날 오전 9시30분께 서울중앙지검에 출석한 최씨는 \"최씨가 (박근혜) 대통령과의 단독면담을 요청했다\"고 진술했다.\n",
      "그는 또 \"이번 사안은 대통령의 국정농단 사건\"이라며 관련 혐의를 부인했다.</d> 지난해 12월 31일 오후 2시, 경기도 성남시의 한 아파트에서 불이 나 주민 3명이 숨지고 1명이 다쳤다.\n",
      "불은 집 안에 있던 김모(53·여), 정모씨(50)를 비롯해\n"
     ]
    }
   ],
   "source": [
    "tokenizer = PreTrainedTokenizerFast.from_pretrained(\"skt/kogpt2-base-v2\",\n",
    "  bos_token='</s>', eos_token='</s>', unk_token='<unk>',\n",
    "  pad_token='<pad>', mask_token='<mask>') \n",
    "model = AutoModelWithLMHead.from_pretrained(\"skt/kogpt2-base-v2\")\n",
    "text = \"\"\" 삼성전자 주가 알려줘 \"\"\"\n",
    "input_ids = tokenizer.encode(text)\n",
    "gen_ids = model.generate(torch.tensor([input_ids]),\n",
    "                           max_length=128,\n",
    "                           repetition_penalty=2.0,\n",
    "                           pad_token_id=tokenizer.pad_token_id,\n",
    "                           eos_token_id=tokenizer.eos_token_id,\n",
    "                           bos_token_id=tokenizer.bos_token_id,\n",
    "                           use_cache=True\n",
    "                        )\n",
    "generated = tokenizer.decode(gen_ids[0,:].tolist())\n",
    "print(generated)"
   ]
  },
  {
   "cell_type": "code",
   "execution_count": null,
   "id": "129f5170",
   "metadata": {},
   "outputs": [],
   "source": [
    "with open('tale.txt') as f:\n",
    "    lines = f.read()\n",
    "lines=\" \".join(lines.split())\n",
    "\n",
    "#model input output tokenizer\n",
    "class TransformersTokenizer(Transform):\n",
    "    def __init__(self, tokenizer): self.tokenizer = tokenizer\n",
    "    def encodes(self, x): \n",
    "        toks = self.tokenizer.tokenize(x)\n",
    "        return tensor(self.tokenizer.convert_tokens_to_ids(toks))\n",
    "    def decodes(self, x): return TitledStr(self.tokenizer.decode(x.cpu().numpy()))\n",
    "\n",
    "#split data\n",
    "train=lines[:int(len(lines)*0.9)]\n",
    "test=lines[int(len(lines)*0.9):]\n",
    "splits = [[0],[1]]\n",
    "\n",
    "#init dataloader\n",
    "tls = TfmdLists([train,test], TransformersTokenizer(tokenizer), splits=splits, dl_type=LMDataLoader)\n",
    "batch,seq_len = 8,256\n",
    "dls = tls.dataloaders(bs=batch, seq_len=seq_len)"
   ]
  },
  {
   "cell_type": "code",
   "execution_count": null,
   "id": "e8482230",
   "metadata": {},
   "outputs": [],
   "source": [
    "#gpt2 ouput is tuple, we need just one val\n",
    "class DropOutput(Callback):\n",
    "    def after_pred(self): self.learn.pred = self.pred[0]\n",
    "      \n",
    "      \n",
    "learn = Learner(dls, model, loss_func=CrossEntropyLossFlat(), cbs=[DropOutput], metrics=Perplexity()).to_fp16()\n",
    "lr=learn.lr_find()\n",
    "print(lr)\n",
    "learn.fine_tune(6)"
   ]
  },
  {
   "cell_type": "code",
   "execution_count": null,
   "id": "aa1bfd1e",
   "metadata": {},
   "outputs": [],
   "source": [
    "#gpt2 ouput is tuple, we need just one val\n",
    "class DropOutput(Callback):\n",
    "    def after_pred(self): self.learn.pred = self.pred[0]\n",
    "      \n",
    "      \n",
    "learn = Learner(dls, model, loss_func=CrossEntropyLossFlat(), cbs=[DropOutput], metrics=Perplexity()).to_fp16()\n",
    "lr=learn.lr_find()\n",
    "print(lr)\n",
    "learn.fine_tune(6)"
   ]
  },
  {
   "cell_type": "markdown",
   "id": "46462dfa",
   "metadata": {},
   "source": [
    "# Streamlit 구현"
   ]
  },
  {
   "cell_type": "code",
   "execution_count": 1,
   "id": "9130c2e0",
   "metadata": {
    "collapsed": true
   },
   "outputs": [
    {
     "name": "stdout",
     "output_type": "stream",
     "text": [
      "Collecting streamlit-chat\n",
      "  Downloading streamlit_chat-0.0.2.1-py3-none-any.whl (1.2 MB)\n",
      "     ---------------------------------------- 1.2/1.2 MB 12.3 MB/s eta 0:00:00\n",
      "Collecting streamlit>=0.63\n",
      "  Downloading streamlit-1.10.0-py2.py3-none-any.whl (9.1 MB)\n",
      "     ---------------------------------------- 9.1/9.1 MB 64.6 MB/s eta 0:00:00\n",
      "Collecting blinker\n",
      "  Downloading blinker-1.4.tar.gz (111 kB)\n",
      "     ---------------------------------------- 111.5/111.5 kB ? eta 0:00:00\n",
      "  Preparing metadata (setup.py): started\n",
      "  Preparing metadata (setup.py): finished with status 'done'\n",
      "Requirement already satisfied: importlib-metadata>=1.4 in c:\\users\\bitcamp\\anaconda3\\lib\\site-packages (from streamlit>=0.63->streamlit-chat) (4.8.1)\n",
      "Collecting pyarrow\n",
      "  Downloading pyarrow-8.0.0-cp39-cp39-win_amd64.whl (17.9 MB)\n",
      "     --------------------------------------- 17.9/17.9 MB 65.5 MB/s eta 0:00:00\n",
      "Collecting rich\n",
      "  Downloading rich-12.4.4-py3-none-any.whl (232 kB)\n",
      "     ------------------------------------- 232.0/232.0 kB 13.9 MB/s eta 0:00:00\n",
      "Requirement already satisfied: typing-extensions in c:\\users\\bitcamp\\anaconda3\\lib\\site-packages (from streamlit>=0.63->streamlit-chat) (3.10.0.2)\n",
      "Requirement already satisfied: pandas>=0.21.0 in c:\\users\\bitcamp\\anaconda3\\lib\\site-packages (from streamlit>=0.63->streamlit-chat) (1.2.5)\n",
      "Collecting semver\n",
      "  Downloading semver-2.13.0-py2.py3-none-any.whl (12 kB)\n",
      "Collecting tzlocal\n",
      "  Downloading tzlocal-4.2-py3-none-any.whl (19 kB)\n",
      "Requirement already satisfied: numpy in c:\\users\\bitcamp\\anaconda3\\lib\\site-packages (from streamlit>=0.63->streamlit-chat) (1.22.1)\n",
      "Requirement already satisfied: attrs in c:\\users\\bitcamp\\anaconda3\\lib\\site-packages (from streamlit>=0.63->streamlit-chat) (21.2.0)\n",
      "Collecting pympler>=0.9\n",
      "  Downloading Pympler-1.0.1-py3-none-any.whl (164 kB)\n",
      "     ---------------------------------------- 164.8/164.8 kB ? eta 0:00:00\n",
      "Requirement already satisfied: click>=7.0 in c:\\users\\bitcamp\\anaconda3\\lib\\site-packages (from streamlit>=0.63->streamlit-chat) (8.0.3)\n",
      "Requirement already satisfied: cachetools>=4.0 in c:\\users\\bitcamp\\anaconda3\\lib\\site-packages (from streamlit>=0.63->streamlit-chat) (5.0.0)\n",
      "Requirement already satisfied: pillow>=6.2.0 in c:\\users\\bitcamp\\anaconda3\\lib\\site-packages (from streamlit>=0.63->streamlit-chat) (8.4.0)\n",
      "Requirement already satisfied: toml in c:\\users\\bitcamp\\anaconda3\\lib\\site-packages (from streamlit>=0.63->streamlit-chat) (0.10.2)\n",
      "Requirement already satisfied: tornado>=5.0 in c:\\users\\bitcamp\\anaconda3\\lib\\site-packages (from streamlit>=0.63->streamlit-chat) (6.1)\n",
      "Collecting altair>=3.2.0\n",
      "  Downloading altair-4.2.0-py3-none-any.whl (812 kB)\n",
      "     ------------------------------------- 812.8/812.8 kB 25.1 MB/s eta 0:00:00\n",
      "Collecting pydeck>=0.1.dev5\n",
      "  Downloading pydeck-0.7.1-py2.py3-none-any.whl (4.3 MB)\n",
      "     ---------------------------------------- 4.3/4.3 MB 67.8 MB/s eta 0:00:00\n",
      "Collecting gitpython!=3.1.19\n",
      "  Downloading GitPython-3.1.27-py3-none-any.whl (181 kB)\n",
      "     ------------------------------------- 181.2/181.2 kB 11.4 MB/s eta 0:00:00\n",
      "Requirement already satisfied: watchdog in c:\\users\\bitcamp\\anaconda3\\lib\\site-packages (from streamlit>=0.63->streamlit-chat) (2.1.3)\n",
      "Requirement already satisfied: python-dateutil in c:\\users\\bitcamp\\anaconda3\\lib\\site-packages (from streamlit>=0.63->streamlit-chat) (2.8.2)\n",
      "Requirement already satisfied: packaging in c:\\users\\bitcamp\\anaconda3\\lib\\site-packages (from streamlit>=0.63->streamlit-chat) (21.0)\n",
      "Requirement already satisfied: protobuf<4,>=3.12 in c:\\users\\bitcamp\\anaconda3\\lib\\site-packages (from streamlit>=0.63->streamlit-chat) (3.19.4)\n",
      "Collecting validators\n",
      "  Downloading validators-0.20.0.tar.gz (30 kB)\n",
      "  Preparing metadata (setup.py): started\n",
      "  Preparing metadata (setup.py): finished with status 'done'\n",
      "Requirement already satisfied: requests in c:\\users\\bitcamp\\anaconda3\\lib\\site-packages (from streamlit>=0.63->streamlit-chat) (2.26.0)\n",
      "Requirement already satisfied: entrypoints in c:\\users\\bitcamp\\anaconda3\\lib\\site-packages (from altair>=3.2.0->streamlit>=0.63->streamlit-chat) (0.3)\n",
      "Requirement already satisfied: toolz in c:\\users\\bitcamp\\anaconda3\\lib\\site-packages (from altair>=3.2.0->streamlit>=0.63->streamlit-chat) (0.11.1)\n",
      "Requirement already satisfied: jinja2 in c:\\users\\bitcamp\\anaconda3\\lib\\site-packages (from altair>=3.2.0->streamlit>=0.63->streamlit-chat) (2.11.3)\n",
      "Requirement already satisfied: jsonschema>=3.0 in c:\\users\\bitcamp\\anaconda3\\lib\\site-packages (from altair>=3.2.0->streamlit>=0.63->streamlit-chat) (3.2.0)\n",
      "Requirement already satisfied: colorama in c:\\users\\bitcamp\\anaconda3\\lib\\site-packages (from click>=7.0->streamlit>=0.63->streamlit-chat) (0.4.4)\n",
      "Collecting gitdb<5,>=4.0.1\n",
      "  Downloading gitdb-4.0.9-py3-none-any.whl (63 kB)\n",
      "     ---------------------------------------- 63.1/63.1 kB ? eta 0:00:00\n",
      "Requirement already satisfied: zipp>=0.5 in c:\\users\\bitcamp\\anaconda3\\lib\\site-packages (from importlib-metadata>=1.4->streamlit>=0.63->streamlit-chat) (3.6.0)\n",
      "Requirement already satisfied: pytz>=2017.3 in c:\\users\\bitcamp\\anaconda3\\lib\\site-packages (from pandas>=0.21.0->streamlit>=0.63->streamlit-chat) (2021.3)\n",
      "Requirement already satisfied: ipywidgets>=7.0.0 in c:\\users\\bitcamp\\anaconda3\\lib\\site-packages (from pydeck>=0.1.dev5->streamlit>=0.63->streamlit-chat) (7.6.5)\n",
      "Requirement already satisfied: ipykernel>=5.1.2 in c:\\users\\bitcamp\\anaconda3\\lib\\site-packages (from pydeck>=0.1.dev5->streamlit>=0.63->streamlit-chat) (6.4.1)\n",
      "Requirement already satisfied: traitlets>=4.3.2 in c:\\users\\bitcamp\\anaconda3\\lib\\site-packages (from pydeck>=0.1.dev5->streamlit>=0.63->streamlit-chat) (5.1.0)\n",
      "Requirement already satisfied: six>=1.5 in c:\\users\\bitcamp\\anaconda3\\lib\\site-packages (from python-dateutil->streamlit>=0.63->streamlit-chat) (1.16.0)\n",
      "Requirement already satisfied: pyparsing>=2.0.2 in c:\\users\\bitcamp\\anaconda3\\lib\\site-packages (from packaging->streamlit>=0.63->streamlit-chat) (3.0.4)\n",
      "Requirement already satisfied: certifi>=2017.4.17 in c:\\users\\bitcamp\\anaconda3\\lib\\site-packages (from requests->streamlit>=0.63->streamlit-chat) (2021.10.8)\n",
      "Requirement already satisfied: idna<4,>=2.5 in c:\\users\\bitcamp\\anaconda3\\lib\\site-packages (from requests->streamlit>=0.63->streamlit-chat) (3.2)\n",
      "Requirement already satisfied: charset-normalizer~=2.0.0 in c:\\users\\bitcamp\\anaconda3\\lib\\site-packages (from requests->streamlit>=0.63->streamlit-chat) (2.0.4)\n",
      "Requirement already satisfied: urllib3<1.27,>=1.21.1 in c:\\users\\bitcamp\\anaconda3\\lib\\site-packages (from requests->streamlit>=0.63->streamlit-chat) (1.26.7)\n",
      "Requirement already satisfied: pygments<3.0.0,>=2.6.0 in c:\\users\\bitcamp\\anaconda3\\lib\\site-packages (from rich->streamlit>=0.63->streamlit-chat) (2.10.0)\n",
      "Collecting commonmark<0.10.0,>=0.9.0\n",
      "  Downloading commonmark-0.9.1-py2.py3-none-any.whl (51 kB)\n",
      "     ---------------------------------------- 51.1/51.1 kB 2.6 MB/s eta 0:00:00\n",
      "Collecting tzdata\n",
      "  Downloading tzdata-2022.1-py2.py3-none-any.whl (339 kB)\n",
      "     ---------------------------------------- 339.5/339.5 kB ? eta 0:00:00\n",
      "Collecting pytz-deprecation-shim\n",
      "  Downloading pytz_deprecation_shim-0.1.0.post0-py2.py3-none-any.whl (15 kB)\n",
      "Requirement already satisfied: decorator>=3.4.0 in c:\\users\\bitcamp\\anaconda3\\lib\\site-packages (from validators->streamlit>=0.63->streamlit-chat) (5.1.0)\n",
      "Collecting smmap<6,>=3.0.1\n",
      "  Downloading smmap-5.0.0-py3-none-any.whl (24 kB)\n",
      "Requirement already satisfied: ipython-genutils in c:\\users\\bitcamp\\anaconda3\\lib\\site-packages (from ipykernel>=5.1.2->pydeck>=0.1.dev5->streamlit>=0.63->streamlit-chat) (0.2.0)\n",
      "Requirement already satisfied: ipython<8.0,>=7.23.1 in c:\\users\\bitcamp\\anaconda3\\lib\\site-packages (from ipykernel>=5.1.2->pydeck>=0.1.dev5->streamlit>=0.63->streamlit-chat) (7.29.0)\n",
      "Requirement already satisfied: matplotlib-inline<0.2.0,>=0.1.0 in c:\\users\\bitcamp\\anaconda3\\lib\\site-packages (from ipykernel>=5.1.2->pydeck>=0.1.dev5->streamlit>=0.63->streamlit-chat) (0.1.2)\n",
      "Requirement already satisfied: jupyter-client<8.0 in c:\\users\\bitcamp\\anaconda3\\lib\\site-packages (from ipykernel>=5.1.2->pydeck>=0.1.dev5->streamlit>=0.63->streamlit-chat) (6.1.12)\n",
      "Requirement already satisfied: debugpy<2.0,>=1.0.0 in c:\\users\\bitcamp\\anaconda3\\lib\\site-packages (from ipykernel>=5.1.2->pydeck>=0.1.dev5->streamlit>=0.63->streamlit-chat) (1.4.1)\n",
      "Requirement already satisfied: nbformat>=4.2.0 in c:\\users\\bitcamp\\anaconda3\\lib\\site-packages (from ipywidgets>=7.0.0->pydeck>=0.1.dev5->streamlit>=0.63->streamlit-chat) (5.1.3)\n",
      "Requirement already satisfied: jupyterlab-widgets>=1.0.0 in c:\\users\\bitcamp\\anaconda3\\lib\\site-packages (from ipywidgets>=7.0.0->pydeck>=0.1.dev5->streamlit>=0.63->streamlit-chat) (1.0.0)\n",
      "Requirement already satisfied: widgetsnbextension~=3.5.0 in c:\\users\\bitcamp\\anaconda3\\lib\\site-packages (from ipywidgets>=7.0.0->pydeck>=0.1.dev5->streamlit>=0.63->streamlit-chat) (3.5.1)\n",
      "Requirement already satisfied: MarkupSafe>=0.23 in c:\\users\\bitcamp\\anaconda3\\lib\\site-packages (from jinja2->altair>=3.2.0->streamlit>=0.63->streamlit-chat) (2.0.1)\n",
      "Requirement already satisfied: setuptools in c:\\users\\bitcamp\\anaconda3\\lib\\site-packages (from jsonschema>=3.0->altair>=3.2.0->streamlit>=0.63->streamlit-chat) (58.0.4)\n",
      "Requirement already satisfied: pyrsistent>=0.14.0 in c:\\users\\bitcamp\\anaconda3\\lib\\site-packages (from jsonschema>=3.0->altair>=3.2.0->streamlit>=0.63->streamlit-chat) (0.18.0)\n",
      "Requirement already satisfied: backcall in c:\\users\\bitcamp\\anaconda3\\lib\\site-packages (from ipython<8.0,>=7.23.1->ipykernel>=5.1.2->pydeck>=0.1.dev5->streamlit>=0.63->streamlit-chat) (0.2.0)\n",
      "Requirement already satisfied: pickleshare in c:\\users\\bitcamp\\anaconda3\\lib\\site-packages (from ipython<8.0,>=7.23.1->ipykernel>=5.1.2->pydeck>=0.1.dev5->streamlit>=0.63->streamlit-chat) (0.7.5)\n",
      "Requirement already satisfied: jedi>=0.16 in c:\\users\\bitcamp\\anaconda3\\lib\\site-packages (from ipython<8.0,>=7.23.1->ipykernel>=5.1.2->pydeck>=0.1.dev5->streamlit>=0.63->streamlit-chat) (0.18.0)\n",
      "Requirement already satisfied: prompt-toolkit!=3.0.0,!=3.0.1,<3.1.0,>=2.0.0 in c:\\users\\bitcamp\\anaconda3\\lib\\site-packages (from ipython<8.0,>=7.23.1->ipykernel>=5.1.2->pydeck>=0.1.dev5->streamlit>=0.63->streamlit-chat) (3.0.20)\n",
      "Requirement already satisfied: jupyter-core>=4.6.0 in c:\\users\\bitcamp\\anaconda3\\lib\\site-packages (from jupyter-client<8.0->ipykernel>=5.1.2->pydeck>=0.1.dev5->streamlit>=0.63->streamlit-chat) (4.8.1)\n",
      "Requirement already satisfied: pyzmq>=13 in c:\\users\\bitcamp\\anaconda3\\lib\\site-packages (from jupyter-client<8.0->ipykernel>=5.1.2->pydeck>=0.1.dev5->streamlit>=0.63->streamlit-chat) (22.2.1)\n",
      "Requirement already satisfied: notebook>=4.4.1 in c:\\users\\bitcamp\\anaconda3\\lib\\site-packages (from widgetsnbextension~=3.5.0->ipywidgets>=7.0.0->pydeck>=0.1.dev5->streamlit>=0.63->streamlit-chat) (6.4.5)\n",
      "Requirement already satisfied: parso<0.9.0,>=0.8.0 in c:\\users\\bitcamp\\anaconda3\\lib\\site-packages (from jedi>=0.16->ipython<8.0,>=7.23.1->ipykernel>=5.1.2->pydeck>=0.1.dev5->streamlit>=0.63->streamlit-chat) (0.8.2)\n",
      "Requirement already satisfied: pywin32>=1.0 in c:\\users\\bitcamp\\anaconda3\\lib\\site-packages (from jupyter-core>=4.6.0->jupyter-client<8.0->ipykernel>=5.1.2->pydeck>=0.1.dev5->streamlit>=0.63->streamlit-chat) (228)\n",
      "Requirement already satisfied: terminado>=0.8.3 in c:\\users\\bitcamp\\anaconda3\\lib\\site-packages (from notebook>=4.4.1->widgetsnbextension~=3.5.0->ipywidgets>=7.0.0->pydeck>=0.1.dev5->streamlit>=0.63->streamlit-chat) (0.9.4)\n",
      "Requirement already satisfied: prometheus-client in c:\\users\\bitcamp\\anaconda3\\lib\\site-packages (from notebook>=4.4.1->widgetsnbextension~=3.5.0->ipywidgets>=7.0.0->pydeck>=0.1.dev5->streamlit>=0.63->streamlit-chat) (0.11.0)\n",
      "Requirement already satisfied: Send2Trash>=1.5.0 in c:\\users\\bitcamp\\anaconda3\\lib\\site-packages (from notebook>=4.4.1->widgetsnbextension~=3.5.0->ipywidgets>=7.0.0->pydeck>=0.1.dev5->streamlit>=0.63->streamlit-chat) (1.8.0)\n",
      "Requirement already satisfied: argon2-cffi in c:\\users\\bitcamp\\anaconda3\\lib\\site-packages (from notebook>=4.4.1->widgetsnbextension~=3.5.0->ipywidgets>=7.0.0->pydeck>=0.1.dev5->streamlit>=0.63->streamlit-chat) (20.1.0)\n",
      "Requirement already satisfied: nbconvert in c:\\users\\bitcamp\\anaconda3\\lib\\site-packages (from notebook>=4.4.1->widgetsnbextension~=3.5.0->ipywidgets>=7.0.0->pydeck>=0.1.dev5->streamlit>=0.63->streamlit-chat) (6.1.0)\n",
      "Requirement already satisfied: wcwidth in c:\\users\\bitcamp\\anaconda3\\lib\\site-packages (from prompt-toolkit!=3.0.0,!=3.0.1,<3.1.0,>=2.0.0->ipython<8.0,>=7.23.1->ipykernel>=5.1.2->pydeck>=0.1.dev5->streamlit>=0.63->streamlit-chat) (0.2.5)\n",
      "Requirement already satisfied: pywinpty>=0.5 in c:\\users\\bitcamp\\anaconda3\\lib\\site-packages (from terminado>=0.8.3->notebook>=4.4.1->widgetsnbextension~=3.5.0->ipywidgets>=7.0.0->pydeck>=0.1.dev5->streamlit>=0.63->streamlit-chat) (0.5.7)\n",
      "Requirement already satisfied: cffi>=1.0.0 in c:\\users\\bitcamp\\anaconda3\\lib\\site-packages (from argon2-cffi->notebook>=4.4.1->widgetsnbextension~=3.5.0->ipywidgets>=7.0.0->pydeck>=0.1.dev5->streamlit>=0.63->streamlit-chat) (1.14.6)\n",
      "Requirement already satisfied: bleach in c:\\users\\bitcamp\\anaconda3\\lib\\site-packages (from nbconvert->notebook>=4.4.1->widgetsnbextension~=3.5.0->ipywidgets>=7.0.0->pydeck>=0.1.dev5->streamlit>=0.63->streamlit-chat) (4.0.0)\n",
      "Requirement already satisfied: jupyterlab-pygments in c:\\users\\bitcamp\\anaconda3\\lib\\site-packages (from nbconvert->notebook>=4.4.1->widgetsnbextension~=3.5.0->ipywidgets>=7.0.0->pydeck>=0.1.dev5->streamlit>=0.63->streamlit-chat) (0.1.2)\n",
      "Requirement already satisfied: testpath in c:\\users\\bitcamp\\anaconda3\\lib\\site-packages (from nbconvert->notebook>=4.4.1->widgetsnbextension~=3.5.0->ipywidgets>=7.0.0->pydeck>=0.1.dev5->streamlit>=0.63->streamlit-chat) (0.5.0)\n",
      "Requirement already satisfied: defusedxml in c:\\users\\bitcamp\\anaconda3\\lib\\site-packages (from nbconvert->notebook>=4.4.1->widgetsnbextension~=3.5.0->ipywidgets>=7.0.0->pydeck>=0.1.dev5->streamlit>=0.63->streamlit-chat) (0.7.1)\n",
      "Requirement already satisfied: pandocfilters>=1.4.1 in c:\\users\\bitcamp\\anaconda3\\lib\\site-packages (from nbconvert->notebook>=4.4.1->widgetsnbextension~=3.5.0->ipywidgets>=7.0.0->pydeck>=0.1.dev5->streamlit>=0.63->streamlit-chat) (1.4.3)\n",
      "Requirement already satisfied: mistune<2,>=0.8.1 in c:\\users\\bitcamp\\anaconda3\\lib\\site-packages (from nbconvert->notebook>=4.4.1->widgetsnbextension~=3.5.0->ipywidgets>=7.0.0->pydeck>=0.1.dev5->streamlit>=0.63->streamlit-chat) (0.8.4)\n",
      "Requirement already satisfied: nbclient<0.6.0,>=0.5.0 in c:\\users\\bitcamp\\anaconda3\\lib\\site-packages (from nbconvert->notebook>=4.4.1->widgetsnbextension~=3.5.0->ipywidgets>=7.0.0->pydeck>=0.1.dev5->streamlit>=0.63->streamlit-chat) (0.5.3)\n",
      "Requirement already satisfied: pycparser in c:\\users\\bitcamp\\anaconda3\\lib\\site-packages (from cffi>=1.0.0->argon2-cffi->notebook>=4.4.1->widgetsnbextension~=3.5.0->ipywidgets>=7.0.0->pydeck>=0.1.dev5->streamlit>=0.63->streamlit-chat) (2.20)\n",
      "Requirement already satisfied: nest-asyncio in c:\\users\\bitcamp\\anaconda3\\lib\\site-packages (from nbclient<0.6.0,>=0.5.0->nbconvert->notebook>=4.4.1->widgetsnbextension~=3.5.0->ipywidgets>=7.0.0->pydeck>=0.1.dev5->streamlit>=0.63->streamlit-chat) (1.5.1)\n",
      "Requirement already satisfied: async-generator in c:\\users\\bitcamp\\anaconda3\\lib\\site-packages (from nbclient<0.6.0,>=0.5.0->nbconvert->notebook>=4.4.1->widgetsnbextension~=3.5.0->ipywidgets>=7.0.0->pydeck>=0.1.dev5->streamlit>=0.63->streamlit-chat) (1.10)\n",
      "Requirement already satisfied: webencodings in c:\\users\\bitcamp\\anaconda3\\lib\\site-packages (from bleach->nbconvert->notebook>=4.4.1->widgetsnbextension~=3.5.0->ipywidgets>=7.0.0->pydeck>=0.1.dev5->streamlit>=0.63->streamlit-chat) (0.5.1)\n",
      "Building wheels for collected packages: blinker, validators\n",
      "  Building wheel for blinker (setup.py): started\n",
      "  Building wheel for blinker (setup.py): finished with status 'done'\n",
      "  Created wheel for blinker: filename=blinker-1.4-py3-none-any.whl size=13478 sha256=c73953d66a470927866060907ed411abb2d9aae11cb7955ec1e51d784625ce9b\n",
      "  Stored in directory: c:\\users\\bitcamp\\appdata\\local\\pip\\cache\\wheels\\50\\93\\f8\\4f0a42a03a06626d675f13907b6982ad5ecff383530af5a900\n",
      "  Building wheel for validators (setup.py): started\n",
      "  Building wheel for validators (setup.py): finished with status 'done'\n",
      "  Created wheel for validators: filename=validators-0.20.0-py3-none-any.whl size=19583 sha256=440f8f70bd7ad7ead5e1e31b36f91dc3a671181ca175b8216a8ab1b8e2a8d21e\n",
      "  Stored in directory: c:\\users\\bitcamp\\appdata\\local\\pip\\cache\\wheels\\2d\\f0\\a8\\1094fca7a7e5d0d12ff56e0c64675d72aa5cc81a5fc200e849\n",
      "Successfully built blinker validators\n",
      "Installing collected packages: commonmark, blinker, validators, tzdata, smmap, semver, rich, pympler, pyarrow, pytz-deprecation-shim, gitdb, tzlocal, gitpython, altair, pydeck, streamlit, streamlit-chat\n",
      "Successfully installed altair-4.2.0 blinker-1.4 commonmark-0.9.1 gitdb-4.0.9 gitpython-3.1.27 pyarrow-8.0.0 pydeck-0.7.1 pympler-1.0.1 pytz-deprecation-shim-0.1.0.post0 rich-12.4.4 semver-2.13.0 smmap-5.0.0 streamlit-1.10.0 streamlit-chat-0.0.2.1 tzdata-2022.1 tzlocal-4.2 validators-0.20.0\n"
     ]
    },
    {
     "name": "stderr",
     "output_type": "stream",
     "text": [
      "WARNING: There was an error checking the latest version of pip.\n"
     ]
    }
   ],
   "source": [
    "# !pip install streamlit-chat"
   ]
  },
  {
   "cell_type": "code",
   "execution_count": 2,
   "id": "a14274e7",
   "metadata": {},
   "outputs": [
    {
     "ename": "ImportError",
     "evalue": "cannot import name 'Literal' from 'typing' (C:\\Users\\bitcamp\\Anaconda3\\envs\\nlp\\lib\\typing.py)",
     "output_type": "error",
     "traceback": [
      "\u001b[1;31m---------------------------------------------------------------------------\u001b[0m",
      "\u001b[1;31mImportError\u001b[0m                               Traceback (most recent call last)",
      "\u001b[1;32m~\\AppData\\Local\\Temp\\ipykernel_12160\\442424432.py\u001b[0m in \u001b[0;36m<module>\u001b[1;34m\u001b[0m\n\u001b[0;32m      1\u001b[0m \u001b[1;32mimport\u001b[0m \u001b[0mstreamlit\u001b[0m \u001b[1;32mas\u001b[0m \u001b[0mst\u001b[0m\u001b[1;33m\u001b[0m\u001b[1;33m\u001b[0m\u001b[0m\n\u001b[1;32m----> 2\u001b[1;33m \u001b[1;32mfrom\u001b[0m \u001b[0mstreamlit_chat\u001b[0m \u001b[1;32mimport\u001b[0m \u001b[0mmessage\u001b[0m\u001b[1;33m\u001b[0m\u001b[1;33m\u001b[0m\u001b[0m\n\u001b[0m",
      "\u001b[1;32m~\\Anaconda3\\envs\\nlp\\lib\\site-packages\\streamlit_chat\\__init__.py\u001b[0m in \u001b[0;36m<module>\u001b[1;34m\u001b[0m\n\u001b[0;32m      1\u001b[0m \u001b[1;32mimport\u001b[0m \u001b[0mstreamlit\u001b[0m\u001b[1;33m.\u001b[0m\u001b[0mcomponents\u001b[0m\u001b[1;33m.\u001b[0m\u001b[0mv1\u001b[0m \u001b[1;32mas\u001b[0m \u001b[0mcomponents\u001b[0m\u001b[1;33m\u001b[0m\u001b[1;33m\u001b[0m\u001b[0m\n\u001b[0;32m      2\u001b[0m \u001b[1;32mimport\u001b[0m \u001b[0mos\u001b[0m\u001b[1;33m\u001b[0m\u001b[1;33m\u001b[0m\u001b[0m\n\u001b[1;32m----> 3\u001b[1;33m \u001b[1;32mfrom\u001b[0m \u001b[0mtyping\u001b[0m \u001b[1;32mimport\u001b[0m \u001b[0mAny\u001b[0m\u001b[1;33m,\u001b[0m \u001b[0mLiteral\u001b[0m\u001b[1;33m,\u001b[0m \u001b[0mOptional\u001b[0m\u001b[1;33m,\u001b[0m \u001b[0mUnion\u001b[0m\u001b[1;33m\u001b[0m\u001b[1;33m\u001b[0m\u001b[0m\n\u001b[0m\u001b[0;32m      4\u001b[0m \u001b[1;33m\u001b[0m\u001b[0m\n\u001b[0;32m      5\u001b[0m \u001b[1;33m\u001b[0m\u001b[0m\n",
      "\u001b[1;31mImportError\u001b[0m: cannot import name 'Literal' from 'typing' (C:\\Users\\bitcamp\\Anaconda3\\envs\\nlp\\lib\\typing.py)"
     ]
    }
   ],
   "source": [
    "import streamlit as st\n",
    "from streamlit_chat import message"
   ]
  },
  {
   "cell_type": "code",
   "execution_count": 3,
   "id": "3f9b5839",
   "metadata": {},
   "outputs": [
    {
     "name": "stderr",
     "output_type": "stream",
     "text": [
      "2022-06-16 16:44:00.550 \n",
      "  \u001b[33m\u001b[1mWarning:\u001b[0m to view this Streamlit app on a browser, run it with the following\n",
      "  command:\n",
      "\n",
      "    streamlit run C:\\Users\\bitcamp\\Anaconda3\\lib\\site-packages\\ipykernel_launcher.py [ARGUMENTS]\n"
     ]
    }
   ],
   "source": [
    "message(\"My message\") \n",
    "message(\"Hello bot!\", is_user=True)"
   ]
  },
  {
   "cell_type": "code",
   "execution_count": 4,
   "id": "1fd43b41",
   "metadata": {},
   "outputs": [
    {
     "ename": "FileNotFoundError",
     "evalue": "[Errno 2] No such file or directory: 'E:\\\\Final_Project\\\\.streamlit\\\\secrets.toml'",
     "output_type": "error",
     "traceback": [
      "\u001b[1;31m---------------------------------------------------------------------------\u001b[0m",
      "\u001b[1;31mFileNotFoundError\u001b[0m                         Traceback (most recent call last)",
      "\u001b[1;32m~\\AppData\\Local\\Temp/ipykernel_3348/3851413441.py\u001b[0m in \u001b[0;36m<module>\u001b[1;34m\u001b[0m\n\u001b[0;32m      9\u001b[0m \u001b[1;33m\u001b[0m\u001b[0m\n\u001b[0;32m     10\u001b[0m \u001b[0mAPI_URL\u001b[0m \u001b[1;33m=\u001b[0m \u001b[1;34m\"https://api-inference.huggingface.co/models/facebook/blenderbot-400M-distill\"\u001b[0m\u001b[1;33m\u001b[0m\u001b[1;33m\u001b[0m\u001b[0m\n\u001b[1;32m---> 11\u001b[1;33m \u001b[0mheaders\u001b[0m \u001b[1;33m=\u001b[0m \u001b[1;33m{\u001b[0m\u001b[1;34m\"Authorization\"\u001b[0m\u001b[1;33m:\u001b[0m \u001b[0mst\u001b[0m\u001b[1;33m.\u001b[0m\u001b[0msecrets\u001b[0m\u001b[1;33m[\u001b[0m\u001b[1;34m'api_key'\u001b[0m\u001b[1;33m]\u001b[0m\u001b[1;33m}\u001b[0m\u001b[1;33m\u001b[0m\u001b[1;33m\u001b[0m\u001b[0m\n\u001b[0m\u001b[0;32m     12\u001b[0m \u001b[1;33m\u001b[0m\u001b[0m\n\u001b[0;32m     13\u001b[0m \u001b[0mst\u001b[0m\u001b[1;33m.\u001b[0m\u001b[0mheader\u001b[0m\u001b[1;33m(\u001b[0m\u001b[1;34m\"Streamlit Chat - Demo\"\u001b[0m\u001b[1;33m)\u001b[0m\u001b[1;33m\u001b[0m\u001b[1;33m\u001b[0m\u001b[0m\n",
      "\u001b[1;32m~\\Anaconda3\\lib\\site-packages\\streamlit\\secrets.py\u001b[0m in \u001b[0;36m__getitem__\u001b[1;34m(self, key)\u001b[0m\n\u001b[0;32m    220\u001b[0m     \u001b[1;32mdef\u001b[0m \u001b[0m__getitem__\u001b[0m\u001b[1;33m(\u001b[0m\u001b[0mself\u001b[0m\u001b[1;33m,\u001b[0m \u001b[0mkey\u001b[0m\u001b[1;33m:\u001b[0m \u001b[0mstr\u001b[0m\u001b[1;33m)\u001b[0m \u001b[1;33m->\u001b[0m \u001b[0mAny\u001b[0m\u001b[1;33m:\u001b[0m\u001b[1;33m\u001b[0m\u001b[1;33m\u001b[0m\u001b[0m\n\u001b[0;32m    221\u001b[0m         \u001b[1;32mtry\u001b[0m\u001b[1;33m:\u001b[0m\u001b[1;33m\u001b[0m\u001b[1;33m\u001b[0m\u001b[0m\n\u001b[1;32m--> 222\u001b[1;33m             \u001b[0mvalue\u001b[0m \u001b[1;33m=\u001b[0m \u001b[0mself\u001b[0m\u001b[1;33m.\u001b[0m\u001b[0m_parse\u001b[0m\u001b[1;33m(\u001b[0m\u001b[1;32mTrue\u001b[0m\u001b[1;33m)\u001b[0m\u001b[1;33m[\u001b[0m\u001b[0mkey\u001b[0m\u001b[1;33m]\u001b[0m\u001b[1;33m\u001b[0m\u001b[1;33m\u001b[0m\u001b[0m\n\u001b[0m\u001b[0;32m    223\u001b[0m             \u001b[1;32mif\u001b[0m \u001b[1;32mnot\u001b[0m \u001b[0misinstance\u001b[0m\u001b[1;33m(\u001b[0m\u001b[0mvalue\u001b[0m\u001b[1;33m,\u001b[0m \u001b[0mdict\u001b[0m\u001b[1;33m)\u001b[0m\u001b[1;33m:\u001b[0m\u001b[1;33m\u001b[0m\u001b[1;33m\u001b[0m\u001b[0m\n\u001b[0;32m    224\u001b[0m                 \u001b[1;32mreturn\u001b[0m \u001b[0mvalue\u001b[0m\u001b[1;33m\u001b[0m\u001b[1;33m\u001b[0m\u001b[0m\n",
      "\u001b[1;32m~\\Anaconda3\\lib\\site-packages\\streamlit\\secrets.py\u001b[0m in \u001b[0;36m_parse\u001b[1;34m(self, print_exceptions)\u001b[0m\n\u001b[0;32m    139\u001b[0m \u001b[1;33m\u001b[0m\u001b[0m\n\u001b[0;32m    140\u001b[0m             \u001b[1;32mtry\u001b[0m\u001b[1;33m:\u001b[0m\u001b[1;33m\u001b[0m\u001b[1;33m\u001b[0m\u001b[0m\n\u001b[1;32m--> 141\u001b[1;33m                 \u001b[1;32mwith\u001b[0m \u001b[0mopen\u001b[0m\u001b[1;33m(\u001b[0m\u001b[0mself\u001b[0m\u001b[1;33m.\u001b[0m\u001b[0m_file_path\u001b[0m\u001b[1;33m,\u001b[0m \u001b[0mencoding\u001b[0m\u001b[1;33m=\u001b[0m\u001b[1;34m\"utf-8\"\u001b[0m\u001b[1;33m)\u001b[0m \u001b[1;32mas\u001b[0m \u001b[0mf\u001b[0m\u001b[1;33m:\u001b[0m\u001b[1;33m\u001b[0m\u001b[1;33m\u001b[0m\u001b[0m\n\u001b[0m\u001b[0;32m    142\u001b[0m                     \u001b[0msecrets_file_str\u001b[0m \u001b[1;33m=\u001b[0m \u001b[0mf\u001b[0m\u001b[1;33m.\u001b[0m\u001b[0mread\u001b[0m\u001b[1;33m(\u001b[0m\u001b[1;33m)\u001b[0m\u001b[1;33m\u001b[0m\u001b[1;33m\u001b[0m\u001b[0m\n\u001b[0;32m    143\u001b[0m             \u001b[1;32mexcept\u001b[0m \u001b[0mFileNotFoundError\u001b[0m\u001b[1;33m:\u001b[0m\u001b[1;33m\u001b[0m\u001b[1;33m\u001b[0m\u001b[0m\n",
      "\u001b[1;31mFileNotFoundError\u001b[0m: [Errno 2] No such file or directory: 'E:\\\\Final_Project\\\\.streamlit\\\\secrets.toml'"
     ]
    }
   ],
   "source": [
    "import streamlit as st\n",
    "from streamlit_chat import message\n",
    "import requests\n",
    "\n",
    "st.set_page_config(\n",
    "    page_title=\"Streamlit Chat - Demo\",\n",
    "    page_icon=\":robot:\"\n",
    ")\n",
    "\n",
    "API_URL = \"https://api-inference.huggingface.co/models/facebook/blenderbot-400M-distill\"\n",
    "headers = {\"Authorization\": st.secrets['api_key']}\n",
    "\n",
    "st.header(\"Streamlit Chat - Demo\")\n",
    "st.markdown(\"[Github](https://github.com/ai-yash/st-chat)\")\n",
    "\n",
    "if 'generated' not in st.session_state:\n",
    "    st.session_state['generated'] = []\n",
    "\n",
    "if 'past' not in st.session_state:\n",
    "    st.session_state['past'] = []\n",
    "\n",
    "def query(payload):\n",
    "\tresponse = requests.post(API_URL, headers=headers, json=payload)\n",
    "\treturn response.json()\n",
    "\n",
    "def get_text():\n",
    "    input_text = st.text_input(\"You: \",\"Hello, how are you?\", key=\"input\")\n",
    "    return input_text \n",
    "\n",
    "\n",
    "user_input = get_text()\n",
    "\n",
    "if user_input:\n",
    "    output = query({\n",
    "        \"inputs\": {\n",
    "            \"past_user_inputs\": st.session_state.past,\n",
    "            \"generated_responses\": st.session_state.generated,\n",
    "            \"text\": user_input,\n",
    "        },\"parameters\": {\"repetition_penalty\": 1.33},\n",
    "    })\n",
    "\n",
    "    st.session_state.past.append(user_input)\n",
    "    st.session_state.generated.append(output[\"generated_text\"])\n",
    "\n",
    "if st.session_state['generated']:\n",
    "\n",
    "    for i in range(len(st.session_state['generated'])-1, -1, -1):\n",
    "        message(st.session_state[\"generated\"][i], key=str(i))\n",
    "        message(st.session_state['past'][i], is_user=True, key=str(i) + '_user')"
   ]
  },
  {
   "cell_type": "code",
   "execution_count": 5,
   "id": "15f88d62",
   "metadata": {},
   "outputs": [
    {
     "ename": "SyntaxError",
     "evalue": "invalid syntax (Temp/ipykernel_3348/2085097616.py, line 7)",
     "output_type": "error",
     "traceback": [
      "\u001b[1;36m  File \u001b[1;32m\"C:\\Users\\bitcamp\\AppData\\Local\\Temp/ipykernel_3348/2085097616.py\"\u001b[1;36m, line \u001b[1;32m7\u001b[0m\n\u001b[1;33m    trainer.train([ 'hi, can I help you find a course', 'sure I'd love to find you a course', 'your course have been selected'])\u001b[0m\n\u001b[1;37m                                                                ^\u001b[0m\n\u001b[1;31mSyntaxError\u001b[0m\u001b[1;31m:\u001b[0m invalid syntax\n"
     ]
    }
   ],
   "source": [
    "from chatterbot import chatbot\n",
    "from chatterbot.trainers import ListTrainer\n",
    " \n",
    "#creating a new chatbot\n",
    "chatbot = Chatbot('Edureka')\n",
    "trainer = ListTrainer(chatbot)\n",
    "trainer.train([ 'hi, can I help you find a course', 'sure I'd love to find you a course', 'your course have been selected'])\n",
    " \n",
    "#getting a response from the chatbot\n",
    "response = chatbot.get_response(\"I want a course\")\n",
    "print(response)\n"
   ]
  },
  {
   "cell_type": "code",
   "execution_count": 4,
   "id": "1ae3e6ed",
   "metadata": {},
   "outputs": [
    {
     "name": "stdout",
     "output_type": "stream",
     "text": [
      "Collecting Literal\n",
      "  Downloading literal-1.0.0.tar.gz (11 kB)\n"
     ]
    },
    {
     "name": "stderr",
     "output_type": "stream",
     "text": [
      "    ERROR: Command errored out with exit status 1:\n",
      "     command: 'C:\\Users\\bitcamp\\Anaconda3\\envs\\nlp\\python.exe' -c 'import io, os, sys, setuptools, tokenize; sys.argv[0] = '\"'\"'C:\\\\Users\\\\bitcamp\\\\AppData\\\\Local\\\\Temp\\\\pip-install-nwmw2pvj\\\\literal_92226daa06c046899fa23ed04ffce1df\\\\setup.py'\"'\"'; __file__='\"'\"'C:\\\\Users\\\\bitcamp\\\\AppData\\\\Local\\\\Temp\\\\pip-install-nwmw2pvj\\\\literal_92226daa06c046899fa23ed04ffce1df\\\\setup.py'\"'\"';f = getattr(tokenize, '\"'\"'open'\"'\"', open)(__file__) if os.path.exists(__file__) else io.StringIO('\"'\"'from setuptools import setup; setup()'\"'\"');code = f.read().replace('\"'\"'\\r\\n'\"'\"', '\"'\"'\\n'\"'\"');f.close();exec(compile(code, __file__, '\"'\"'exec'\"'\"'))' egg_info --egg-base 'C:\\Users\\bitcamp\\AppData\\Local\\Temp\\pip-pip-egg-info-dmin81fy'\n",
      "         cwd: C:\\Users\\bitcamp\\AppData\\Local\\Temp\\pip-install-nwmw2pvj\\literal_92226daa06c046899fa23ed04ffce1df\\\n",
      "    Complete output (1 lines):\n",
      "    error in literal setup command: use_2to3 is invalid.\n",
      "    ----------------------------------------\n",
      "WARNING: Discarding https://files.pythonhosted.org/packages/fd/41/6b7c7cd9a1e51cd1a8751353bfe004d00c9f9a33bd3e4410b6e70b28ea5b/literal-1.0.0.tar.gz#sha256=68e5502d66eb8ccb46159235441dd0b65bcd5ab2ac57075101860c35d1b7208d (from https://pypi.org/simple/literal/). Command errored out with exit status 1: python setup.py egg_info Check the logs for full command output.\n",
      "ERROR: Could not find a version that satisfies the requirement Literal (from versions: 1.0.0)\n",
      "ERROR: No matching distribution found for Literal\n"
     ]
    }
   ],
   "source": [
    "# !pip install Literal"
   ]
  },
  {
   "cell_type": "code",
   "execution_count": 5,
   "id": "2ca54352",
   "metadata": {
    "collapsed": true
   },
   "outputs": [
    {
     "name": "stdout",
     "output_type": "stream",
     "text": [
      "Requirement already satisfied: streamlit in c:\\users\\bitcamp\\anaconda3\\envs\\nlp\\lib\\site-packages (1.10.0)\n",
      "Requirement already satisfied: blinker in c:\\users\\bitcamp\\anaconda3\\envs\\nlp\\lib\\site-packages (from streamlit) (1.4)\n",
      "Requirement already satisfied: requests in c:\\users\\bitcamp\\anaconda3\\envs\\nlp\\lib\\site-packages (from streamlit) (2.27.1)\n",
      "Requirement already satisfied: toml in c:\\users\\bitcamp\\anaconda3\\envs\\nlp\\lib\\site-packages (from streamlit) (0.10.2)\n",
      "Requirement already satisfied: packaging in c:\\users\\bitcamp\\anaconda3\\envs\\nlp\\lib\\site-packages (from streamlit) (21.3)\n",
      "Requirement already satisfied: gitpython!=3.1.19 in c:\\users\\bitcamp\\anaconda3\\envs\\nlp\\lib\\site-packages (from streamlit) (3.1.27)\n",
      "Requirement already satisfied: pillow>=6.2.0 in c:\\users\\bitcamp\\anaconda3\\envs\\nlp\\lib\\site-packages (from streamlit) (9.1.1)\n",
      "Requirement already satisfied: click>=7.0 in c:\\users\\bitcamp\\anaconda3\\envs\\nlp\\lib\\site-packages (from streamlit) (8.1.2)\n",
      "Requirement already satisfied: importlib-metadata>=1.4 in c:\\users\\bitcamp\\anaconda3\\envs\\nlp\\lib\\site-packages (from streamlit) (4.11.4)\n",
      "Requirement already satisfied: rich in c:\\users\\bitcamp\\anaconda3\\envs\\nlp\\lib\\site-packages (from streamlit) (12.4.4)\n",
      "Requirement already satisfied: validators in c:\\users\\bitcamp\\anaconda3\\envs\\nlp\\lib\\site-packages (from streamlit) (0.20.0)\n",
      "Requirement already satisfied: pydeck>=0.1.dev5 in c:\\users\\bitcamp\\anaconda3\\envs\\nlp\\lib\\site-packages (from streamlit) (0.7.1)\n",
      "Requirement already satisfied: semver in c:\\users\\bitcamp\\anaconda3\\envs\\nlp\\lib\\site-packages (from streamlit) (2.13.0)\n",
      "Requirement already satisfied: cachetools>=4.0 in c:\\users\\bitcamp\\anaconda3\\envs\\nlp\\lib\\site-packages (from streamlit) (5.0.0)\n",
      "Requirement already satisfied: attrs in c:\\users\\bitcamp\\anaconda3\\envs\\nlp\\lib\\site-packages (from streamlit) (21.4.0)\n",
      "Requirement already satisfied: pandas>=0.21.0 in c:\\users\\bitcamp\\anaconda3\\envs\\nlp\\lib\\site-packages (from streamlit) (1.3.5)\n",
      "Requirement already satisfied: protobuf<4,>=3.12 in c:\\users\\bitcamp\\anaconda3\\envs\\nlp\\lib\\site-packages (from streamlit) (3.20.0)\n",
      "Requirement already satisfied: altair>=3.2.0 in c:\\users\\bitcamp\\anaconda3\\envs\\nlp\\lib\\site-packages (from streamlit) (4.2.0)\n",
      "Requirement already satisfied: tzlocal in c:\\users\\bitcamp\\anaconda3\\envs\\nlp\\lib\\site-packages (from streamlit) (4.2)\n",
      "Requirement already satisfied: watchdog in c:\\users\\bitcamp\\anaconda3\\envs\\nlp\\lib\\site-packages (from streamlit) (2.1.9)\n",
      "Requirement already satisfied: python-dateutil in c:\\users\\bitcamp\\anaconda3\\envs\\nlp\\lib\\site-packages (from streamlit) (2.8.2)\n",
      "Requirement already satisfied: pympler>=0.9 in c:\\users\\bitcamp\\anaconda3\\envs\\nlp\\lib\\site-packages (from streamlit) (1.0.1)\n",
      "Requirement already satisfied: tornado>=5.0 in c:\\users\\bitcamp\\anaconda3\\envs\\nlp\\lib\\site-packages (from streamlit) (6.1)\n",
      "Requirement already satisfied: numpy in c:\\users\\bitcamp\\anaconda3\\envs\\nlp\\lib\\site-packages (from streamlit) (1.21.6)\n",
      "Requirement already satisfied: typing-extensions in c:\\users\\bitcamp\\anaconda3\\envs\\nlp\\lib\\site-packages (from streamlit) (4.1.1)\n",
      "Requirement already satisfied: pyarrow in c:\\users\\bitcamp\\anaconda3\\envs\\nlp\\lib\\site-packages (from streamlit) (8.0.0)\n",
      "Requirement already satisfied: toolz in c:\\users\\bitcamp\\anaconda3\\envs\\nlp\\lib\\site-packages (from altair>=3.2.0->streamlit) (0.11.2)\n",
      "Requirement already satisfied: jsonschema>=3.0 in c:\\users\\bitcamp\\anaconda3\\envs\\nlp\\lib\\site-packages (from altair>=3.2.0->streamlit) (4.4.0)\n",
      "Requirement already satisfied: jinja2 in c:\\users\\bitcamp\\anaconda3\\envs\\nlp\\lib\\site-packages (from altair>=3.2.0->streamlit) (3.1.1)\n",
      "Requirement already satisfied: entrypoints in c:\\users\\bitcamp\\anaconda3\\envs\\nlp\\lib\\site-packages (from altair>=3.2.0->streamlit) (0.4)\n",
      "Requirement already satisfied: colorama in c:\\users\\bitcamp\\anaconda3\\envs\\nlp\\lib\\site-packages (from click>=7.0->streamlit) (0.4.4)\n",
      "Requirement already satisfied: gitdb<5,>=4.0.1 in c:\\users\\bitcamp\\anaconda3\\envs\\nlp\\lib\\site-packages (from gitpython!=3.1.19->streamlit) (4.0.9)\n",
      "Requirement already satisfied: smmap<6,>=3.0.1 in c:\\users\\bitcamp\\anaconda3\\envs\\nlp\\lib\\site-packages (from gitdb<5,>=4.0.1->gitpython!=3.1.19->streamlit) (5.0.0)\n",
      "Requirement already satisfied: zipp>=0.5 in c:\\users\\bitcamp\\anaconda3\\envs\\nlp\\lib\\site-packages (from importlib-metadata>=1.4->streamlit) (3.8.0)\n",
      "Requirement already satisfied: importlib-resources>=1.4.0 in c:\\users\\bitcamp\\anaconda3\\envs\\nlp\\lib\\site-packages (from jsonschema>=3.0->altair>=3.2.0->streamlit) (5.6.0)\n",
      "Requirement already satisfied: pyrsistent!=0.17.0,!=0.17.1,!=0.17.2,>=0.14.0 in c:\\users\\bitcamp\\anaconda3\\envs\\nlp\\lib\\site-packages (from jsonschema>=3.0->altair>=3.2.0->streamlit) (0.18.1)\n",
      "Requirement already satisfied: pytz>=2017.3 in c:\\users\\bitcamp\\anaconda3\\envs\\nlp\\lib\\site-packages (from pandas>=0.21.0->streamlit) (2022.1)\n",
      "Requirement already satisfied: traitlets>=4.3.2 in c:\\users\\bitcamp\\anaconda3\\envs\\nlp\\lib\\site-packages (from pydeck>=0.1.dev5->streamlit) (5.1.1)\n",
      "Requirement already satisfied: ipykernel>=5.1.2 in c:\\users\\bitcamp\\anaconda3\\envs\\nlp\\lib\\site-packages (from pydeck>=0.1.dev5->streamlit) (6.12.1)\n",
      "Requirement already satisfied: ipywidgets>=7.0.0 in c:\\users\\bitcamp\\anaconda3\\envs\\nlp\\lib\\site-packages (from pydeck>=0.1.dev5->streamlit) (7.7.0)\n",
      "Requirement already satisfied: matplotlib-inline>=0.1 in c:\\users\\bitcamp\\anaconda3\\envs\\nlp\\lib\\site-packages (from ipykernel>=5.1.2->pydeck>=0.1.dev5->streamlit) (0.1.3)\n",
      "Requirement already satisfied: ipython>=7.23.1 in c:\\users\\bitcamp\\anaconda3\\envs\\nlp\\lib\\site-packages (from ipykernel>=5.1.2->pydeck>=0.1.dev5->streamlit) (7.32.0)\n",
      "Requirement already satisfied: debugpy>=1.0 in c:\\users\\bitcamp\\anaconda3\\envs\\nlp\\lib\\site-packages (from ipykernel>=5.1.2->pydeck>=0.1.dev5->streamlit) (1.6.0)\n",
      "Requirement already satisfied: psutil in c:\\users\\bitcamp\\anaconda3\\envs\\nlp\\lib\\site-packages (from ipykernel>=5.1.2->pydeck>=0.1.dev5->streamlit) (5.9.0)\n",
      "Requirement already satisfied: nest-asyncio in c:\\users\\bitcamp\\anaconda3\\envs\\nlp\\lib\\site-packages (from ipykernel>=5.1.2->pydeck>=0.1.dev5->streamlit) (1.5.5)\n",
      "Requirement already satisfied: jupyter-client>=6.1.12 in c:\\users\\bitcamp\\anaconda3\\envs\\nlp\\lib\\site-packages (from ipykernel>=5.1.2->pydeck>=0.1.dev5->streamlit) (7.2.2)\n",
      "Requirement already satisfied: decorator in c:\\users\\bitcamp\\anaconda3\\envs\\nlp\\lib\\site-packages (from ipython>=7.23.1->ipykernel>=5.1.2->pydeck>=0.1.dev5->streamlit) (5.1.1)\n",
      "Requirement already satisfied: jedi>=0.16 in c:\\users\\bitcamp\\anaconda3\\envs\\nlp\\lib\\site-packages (from ipython>=7.23.1->ipykernel>=5.1.2->pydeck>=0.1.dev5->streamlit) (0.18.1)\n",
      "Requirement already satisfied: setuptools>=18.5 in c:\\users\\bitcamp\\anaconda3\\envs\\nlp\\lib\\site-packages (from ipython>=7.23.1->ipykernel>=5.1.2->pydeck>=0.1.dev5->streamlit) (58.0.4)\n",
      "Requirement already satisfied: backcall in c:\\users\\bitcamp\\anaconda3\\envs\\nlp\\lib\\site-packages (from ipython>=7.23.1->ipykernel>=5.1.2->pydeck>=0.1.dev5->streamlit) (0.2.0)\n",
      "Requirement already satisfied: pickleshare in c:\\users\\bitcamp\\anaconda3\\envs\\nlp\\lib\\site-packages (from ipython>=7.23.1->ipykernel>=5.1.2->pydeck>=0.1.dev5->streamlit) (0.7.5)\n",
      "Requirement already satisfied: prompt-toolkit!=3.0.0,!=3.0.1,<3.1.0,>=2.0.0 in c:\\users\\bitcamp\\anaconda3\\envs\\nlp\\lib\\site-packages (from ipython>=7.23.1->ipykernel>=5.1.2->pydeck>=0.1.dev5->streamlit) (3.0.29)\n",
      "Requirement already satisfied: pygments in c:\\users\\bitcamp\\anaconda3\\envs\\nlp\\lib\\site-packages (from ipython>=7.23.1->ipykernel>=5.1.2->pydeck>=0.1.dev5->streamlit) (2.11.2)\n",
      "Requirement already satisfied: nbformat>=4.2.0 in c:\\users\\bitcamp\\anaconda3\\envs\\nlp\\lib\\site-packages (from ipywidgets>=7.0.0->pydeck>=0.1.dev5->streamlit) (5.3.0)\n",
      "Requirement already satisfied: jupyterlab-widgets>=1.0.0 in c:\\users\\bitcamp\\anaconda3\\envs\\nlp\\lib\\site-packages (from ipywidgets>=7.0.0->pydeck>=0.1.dev5->streamlit) (1.1.0)\n",
      "Requirement already satisfied: widgetsnbextension~=3.6.0 in c:\\users\\bitcamp\\anaconda3\\envs\\nlp\\lib\\site-packages (from ipywidgets>=7.0.0->pydeck>=0.1.dev5->streamlit) (3.6.0)\n",
      "Requirement already satisfied: ipython-genutils~=0.2.0 in c:\\users\\bitcamp\\anaconda3\\envs\\nlp\\lib\\site-packages (from ipywidgets>=7.0.0->pydeck>=0.1.dev5->streamlit) (0.2.0)\n",
      "Requirement already satisfied: parso<0.9.0,>=0.8.0 in c:\\users\\bitcamp\\anaconda3\\envs\\nlp\\lib\\site-packages (from jedi>=0.16->ipython>=7.23.1->ipykernel>=5.1.2->pydeck>=0.1.dev5->streamlit) (0.8.3)\n",
      "Requirement already satisfied: MarkupSafe>=2.0 in c:\\users\\bitcamp\\anaconda3\\envs\\nlp\\lib\\site-packages (from jinja2->altair>=3.2.0->streamlit) (2.1.1)\n",
      "Requirement already satisfied: jupyter-core>=4.9.2 in c:\\users\\bitcamp\\anaconda3\\envs\\nlp\\lib\\site-packages (from jupyter-client>=6.1.12->ipykernel>=5.1.2->pydeck>=0.1.dev5->streamlit) (4.9.2)\n",
      "Requirement already satisfied: pyzmq>=22.3 in c:\\users\\bitcamp\\anaconda3\\envs\\nlp\\lib\\site-packages (from jupyter-client>=6.1.12->ipykernel>=5.1.2->pydeck>=0.1.dev5->streamlit) (22.3.0)\n",
      "Requirement already satisfied: pywin32>=1.0 in c:\\users\\bitcamp\\anaconda3\\envs\\nlp\\lib\\site-packages (from jupyter-core>=4.9.2->jupyter-client>=6.1.12->ipykernel>=5.1.2->pydeck>=0.1.dev5->streamlit) (303)\n",
      "Requirement already satisfied: fastjsonschema in c:\\users\\bitcamp\\anaconda3\\envs\\nlp\\lib\\site-packages (from nbformat>=4.2.0->ipywidgets>=7.0.0->pydeck>=0.1.dev5->streamlit) (2.15.3)\n",
      "Requirement already satisfied: wcwidth in c:\\users\\bitcamp\\anaconda3\\envs\\nlp\\lib\\site-packages (from prompt-toolkit!=3.0.0,!=3.0.1,<3.1.0,>=2.0.0->ipython>=7.23.1->ipykernel>=5.1.2->pydeck>=0.1.dev5->streamlit) (0.2.5)\n",
      "Requirement already satisfied: six>=1.5 in c:\\users\\bitcamp\\anaconda3\\envs\\nlp\\lib\\site-packages (from python-dateutil->streamlit) (1.16.0)\n",
      "Requirement already satisfied: notebook>=4.4.1 in c:\\users\\bitcamp\\anaconda3\\envs\\nlp\\lib\\site-packages (from widgetsnbextension~=3.6.0->ipywidgets>=7.0.0->pydeck>=0.1.dev5->streamlit) (6.4.10)\n",
      "Requirement already satisfied: Send2Trash>=1.8.0 in c:\\users\\bitcamp\\anaconda3\\envs\\nlp\\lib\\site-packages (from notebook>=4.4.1->widgetsnbextension~=3.6.0->ipywidgets>=7.0.0->pydeck>=0.1.dev5->streamlit) (1.8.0)\n",
      "Requirement already satisfied: argon2-cffi in c:\\users\\bitcamp\\anaconda3\\envs\\nlp\\lib\\site-packages (from notebook>=4.4.1->widgetsnbextension~=3.6.0->ipywidgets>=7.0.0->pydeck>=0.1.dev5->streamlit) (21.3.0)\n",
      "Requirement already satisfied: nbconvert>=5 in c:\\users\\bitcamp\\anaconda3\\envs\\nlp\\lib\\site-packages (from notebook>=4.4.1->widgetsnbextension~=3.6.0->ipywidgets>=7.0.0->pydeck>=0.1.dev5->streamlit) (6.4.5)\n",
      "Requirement already satisfied: terminado>=0.8.3 in c:\\users\\bitcamp\\anaconda3\\envs\\nlp\\lib\\site-packages (from notebook>=4.4.1->widgetsnbextension~=3.6.0->ipywidgets>=7.0.0->pydeck>=0.1.dev5->streamlit) (0.13.3)\n",
      "Requirement already satisfied: prometheus-client in c:\\users\\bitcamp\\anaconda3\\envs\\nlp\\lib\\site-packages (from notebook>=4.4.1->widgetsnbextension~=3.6.0->ipywidgets>=7.0.0->pydeck>=0.1.dev5->streamlit) (0.14.0)\n",
      "Requirement already satisfied: testpath in c:\\users\\bitcamp\\anaconda3\\envs\\nlp\\lib\\site-packages (from nbconvert>=5->notebook>=4.4.1->widgetsnbextension~=3.6.0->ipywidgets>=7.0.0->pydeck>=0.1.dev5->streamlit) (0.6.0)\n",
      "Requirement already satisfied: defusedxml in c:\\users\\bitcamp\\anaconda3\\envs\\nlp\\lib\\site-packages (from nbconvert>=5->notebook>=4.4.1->widgetsnbextension~=3.6.0->ipywidgets>=7.0.0->pydeck>=0.1.dev5->streamlit) (0.7.1)\n",
      "Requirement already satisfied: bleach in c:\\users\\bitcamp\\anaconda3\\envs\\nlp\\lib\\site-packages (from nbconvert>=5->notebook>=4.4.1->widgetsnbextension~=3.6.0->ipywidgets>=7.0.0->pydeck>=0.1.dev5->streamlit) (5.0.0)\n",
      "Requirement already satisfied: nbclient<0.6.0,>=0.5.0 in c:\\users\\bitcamp\\anaconda3\\envs\\nlp\\lib\\site-packages (from nbconvert>=5->notebook>=4.4.1->widgetsnbextension~=3.6.0->ipywidgets>=7.0.0->pydeck>=0.1.dev5->streamlit) (0.5.13)\n",
      "Requirement already satisfied: pandocfilters>=1.4.1 in c:\\users\\bitcamp\\anaconda3\\envs\\nlp\\lib\\site-packages (from nbconvert>=5->notebook>=4.4.1->widgetsnbextension~=3.6.0->ipywidgets>=7.0.0->pydeck>=0.1.dev5->streamlit) (1.5.0)\n",
      "Requirement already satisfied: jupyterlab-pygments in c:\\users\\bitcamp\\anaconda3\\envs\\nlp\\lib\\site-packages (from nbconvert>=5->notebook>=4.4.1->widgetsnbextension~=3.6.0->ipywidgets>=7.0.0->pydeck>=0.1.dev5->streamlit) (0.1.2)\n",
      "Requirement already satisfied: beautifulsoup4 in c:\\users\\bitcamp\\anaconda3\\envs\\nlp\\lib\\site-packages (from nbconvert>=5->notebook>=4.4.1->widgetsnbextension~=3.6.0->ipywidgets>=7.0.0->pydeck>=0.1.dev5->streamlit) (4.11.0)\n",
      "Requirement already satisfied: mistune<2,>=0.8.1 in c:\\users\\bitcamp\\anaconda3\\envs\\nlp\\lib\\site-packages (from nbconvert>=5->notebook>=4.4.1->widgetsnbextension~=3.6.0->ipywidgets>=7.0.0->pydeck>=0.1.dev5->streamlit) (0.8.4)\n",
      "Requirement already satisfied: pywinpty>=1.1.0 in c:\\users\\bitcamp\\anaconda3\\envs\\nlp\\lib\\site-packages (from terminado>=0.8.3->notebook>=4.4.1->widgetsnbextension~=3.6.0->ipywidgets>=7.0.0->pydeck>=0.1.dev5->streamlit) (2.0.5)\n",
      "Requirement already satisfied: argon2-cffi-bindings in c:\\users\\bitcamp\\anaconda3\\envs\\nlp\\lib\\site-packages (from argon2-cffi->notebook>=4.4.1->widgetsnbextension~=3.6.0->ipywidgets>=7.0.0->pydeck>=0.1.dev5->streamlit) (21.2.0)\n",
      "Requirement already satisfied: cffi>=1.0.1 in c:\\users\\bitcamp\\anaconda3\\envs\\nlp\\lib\\site-packages (from argon2-cffi-bindings->argon2-cffi->notebook>=4.4.1->widgetsnbextension~=3.6.0->ipywidgets>=7.0.0->pydeck>=0.1.dev5->streamlit) (1.15.0)\n",
      "Requirement already satisfied: pycparser in c:\\users\\bitcamp\\anaconda3\\envs\\nlp\\lib\\site-packages (from cffi>=1.0.1->argon2-cffi-bindings->argon2-cffi->notebook>=4.4.1->widgetsnbextension~=3.6.0->ipywidgets>=7.0.0->pydeck>=0.1.dev5->streamlit) (2.21)\n",
      "Requirement already satisfied: soupsieve>1.2 in c:\\users\\bitcamp\\anaconda3\\envs\\nlp\\lib\\site-packages (from beautifulsoup4->nbconvert>=5->notebook>=4.4.1->widgetsnbextension~=3.6.0->ipywidgets>=7.0.0->pydeck>=0.1.dev5->streamlit) (2.3.2)\n",
      "Requirement already satisfied: webencodings in c:\\users\\bitcamp\\anaconda3\\envs\\nlp\\lib\\site-packages (from bleach->nbconvert>=5->notebook>=4.4.1->widgetsnbextension~=3.6.0->ipywidgets>=7.0.0->pydeck>=0.1.dev5->streamlit) (0.5.1)\n",
      "Requirement already satisfied: pyparsing!=3.0.5,>=2.0.2 in c:\\users\\bitcamp\\anaconda3\\envs\\nlp\\lib\\site-packages (from packaging->streamlit) (3.0.9)\n",
      "Requirement already satisfied: idna<4,>=2.5 in c:\\users\\bitcamp\\anaconda3\\envs\\nlp\\lib\\site-packages (from requests->streamlit) (3.3)\n",
      "Requirement already satisfied: charset-normalizer~=2.0.0 in c:\\users\\bitcamp\\anaconda3\\envs\\nlp\\lib\\site-packages (from requests->streamlit) (2.0.12)\n",
      "Requirement already satisfied: urllib3<1.27,>=1.21.1 in c:\\users\\bitcamp\\anaconda3\\envs\\nlp\\lib\\site-packages (from requests->streamlit) (1.26.9)\n",
      "Requirement already satisfied: certifi>=2017.4.17 in c:\\users\\bitcamp\\anaconda3\\envs\\nlp\\lib\\site-packages (from requests->streamlit) (2022.5.18.1)\n",
      "Requirement already satisfied: commonmark<0.10.0,>=0.9.0 in c:\\users\\bitcamp\\anaconda3\\envs\\nlp\\lib\\site-packages (from rich->streamlit) (0.9.1)\n",
      "Requirement already satisfied: tzdata in c:\\users\\bitcamp\\anaconda3\\envs\\nlp\\lib\\site-packages (from tzlocal->streamlit) (2022.1)\n",
      "Requirement already satisfied: backports.zoneinfo in c:\\users\\bitcamp\\anaconda3\\envs\\nlp\\lib\\site-packages (from tzlocal->streamlit) (0.2.1)\n",
      "Requirement already satisfied: pytz-deprecation-shim in c:\\users\\bitcamp\\anaconda3\\envs\\nlp\\lib\\site-packages (from tzlocal->streamlit) (0.1.0.post0)\n"
     ]
    }
   ],
   "source": [
    "# !pip install streamlit"
   ]
  },
  {
   "cell_type": "code",
   "execution_count": 6,
   "id": "1737730d",
   "metadata": {
    "collapsed": true
   },
   "outputs": [
    {
     "name": "stdout",
     "output_type": "stream",
     "text": [
      "Requirement already satisfied: streamlit-chat in c:\\users\\bitcamp\\anaconda3\\envs\\nlp\\lib\\site-packages (0.0.1)\n",
      "Requirement already satisfied: streamlit>=0.63 in c:\\users\\bitcamp\\anaconda3\\envs\\nlp\\lib\\site-packages (from streamlit-chat) (1.10.0)\n",
      "Requirement already satisfied: pyarrow in c:\\users\\bitcamp\\anaconda3\\envs\\nlp\\lib\\site-packages (from streamlit>=0.63->streamlit-chat) (8.0.0)\n",
      "Requirement already satisfied: attrs in c:\\users\\bitcamp\\anaconda3\\envs\\nlp\\lib\\site-packages (from streamlit>=0.63->streamlit-chat) (21.4.0)\n",
      "Requirement already satisfied: blinker in c:\\users\\bitcamp\\anaconda3\\envs\\nlp\\lib\\site-packages (from streamlit>=0.63->streamlit-chat) (1.4)\n",
      "Requirement already satisfied: protobuf<4,>=3.12 in c:\\users\\bitcamp\\anaconda3\\envs\\nlp\\lib\\site-packages (from streamlit>=0.63->streamlit-chat) (3.20.0)\n",
      "Requirement already satisfied: typing-extensions in c:\\users\\bitcamp\\anaconda3\\envs\\nlp\\lib\\site-packages (from streamlit>=0.63->streamlit-chat) (4.1.1)\n",
      "Requirement already satisfied: pandas>=0.21.0 in c:\\users\\bitcamp\\anaconda3\\envs\\nlp\\lib\\site-packages (from streamlit>=0.63->streamlit-chat) (1.3.5)\n",
      "Requirement already satisfied: tzlocal in c:\\users\\bitcamp\\anaconda3\\envs\\nlp\\lib\\site-packages (from streamlit>=0.63->streamlit-chat) (4.2)\n",
      "Requirement already satisfied: click>=7.0 in c:\\users\\bitcamp\\anaconda3\\envs\\nlp\\lib\\site-packages (from streamlit>=0.63->streamlit-chat) (8.1.2)\n",
      "Requirement already satisfied: requests in c:\\users\\bitcamp\\anaconda3\\envs\\nlp\\lib\\site-packages (from streamlit>=0.63->streamlit-chat) (2.27.1)\n",
      "Requirement already satisfied: numpy in c:\\users\\bitcamp\\anaconda3\\envs\\nlp\\lib\\site-packages (from streamlit>=0.63->streamlit-chat) (1.21.6)\n",
      "Requirement already satisfied: gitpython!=3.1.19 in c:\\users\\bitcamp\\anaconda3\\envs\\nlp\\lib\\site-packages (from streamlit>=0.63->streamlit-chat) (3.1.27)\n",
      "Requirement already satisfied: pillow>=6.2.0 in c:\\users\\bitcamp\\anaconda3\\envs\\nlp\\lib\\site-packages (from streamlit>=0.63->streamlit-chat) (9.1.1)\n",
      "Requirement already satisfied: rich in c:\\users\\bitcamp\\anaconda3\\envs\\nlp\\lib\\site-packages (from streamlit>=0.63->streamlit-chat) (12.4.4)\n",
      "Requirement already satisfied: pympler>=0.9 in c:\\users\\bitcamp\\anaconda3\\envs\\nlp\\lib\\site-packages (from streamlit>=0.63->streamlit-chat) (1.0.1)\n",
      "Requirement already satisfied: python-dateutil in c:\\users\\bitcamp\\anaconda3\\envs\\nlp\\lib\\site-packages (from streamlit>=0.63->streamlit-chat) (2.8.2)\n",
      "Requirement already satisfied: altair>=3.2.0 in c:\\users\\bitcamp\\anaconda3\\envs\\nlp\\lib\\site-packages (from streamlit>=0.63->streamlit-chat) (4.2.0)\n",
      "Requirement already satisfied: toml in c:\\users\\bitcamp\\anaconda3\\envs\\nlp\\lib\\site-packages (from streamlit>=0.63->streamlit-chat) (0.10.2)\n",
      "Requirement already satisfied: importlib-metadata>=1.4 in c:\\users\\bitcamp\\anaconda3\\envs\\nlp\\lib\\site-packages (from streamlit>=0.63->streamlit-chat) (4.11.4)\n",
      "Requirement already satisfied: packaging in c:\\users\\bitcamp\\anaconda3\\envs\\nlp\\lib\\site-packages (from streamlit>=0.63->streamlit-chat) (21.3)\n",
      "Requirement already satisfied: validators in c:\\users\\bitcamp\\anaconda3\\envs\\nlp\\lib\\site-packages (from streamlit>=0.63->streamlit-chat) (0.20.0)\n",
      "Requirement already satisfied: tornado>=5.0 in c:\\users\\bitcamp\\anaconda3\\envs\\nlp\\lib\\site-packages (from streamlit>=0.63->streamlit-chat) (6.1)\n",
      "Requirement already satisfied: watchdog in c:\\users\\bitcamp\\anaconda3\\envs\\nlp\\lib\\site-packages (from streamlit>=0.63->streamlit-chat) (2.1.9)\n",
      "Requirement already satisfied: cachetools>=4.0 in c:\\users\\bitcamp\\anaconda3\\envs\\nlp\\lib\\site-packages (from streamlit>=0.63->streamlit-chat) (5.0.0)\n",
      "Requirement already satisfied: pydeck>=0.1.dev5 in c:\\users\\bitcamp\\anaconda3\\envs\\nlp\\lib\\site-packages (from streamlit>=0.63->streamlit-chat) (0.7.1)\n",
      "Requirement already satisfied: semver in c:\\users\\bitcamp\\anaconda3\\envs\\nlp\\lib\\site-packages (from streamlit>=0.63->streamlit-chat) (2.13.0)\n",
      "Requirement already satisfied: entrypoints in c:\\users\\bitcamp\\anaconda3\\envs\\nlp\\lib\\site-packages (from altair>=3.2.0->streamlit>=0.63->streamlit-chat) (0.4)\n",
      "Requirement already satisfied: jinja2 in c:\\users\\bitcamp\\anaconda3\\envs\\nlp\\lib\\site-packages (from altair>=3.2.0->streamlit>=0.63->streamlit-chat) (3.1.1)\n",
      "Requirement already satisfied: jsonschema>=3.0 in c:\\users\\bitcamp\\anaconda3\\envs\\nlp\\lib\\site-packages (from altair>=3.2.0->streamlit>=0.63->streamlit-chat) (4.4.0)\n",
      "Requirement already satisfied: toolz in c:\\users\\bitcamp\\anaconda3\\envs\\nlp\\lib\\site-packages (from altair>=3.2.0->streamlit>=0.63->streamlit-chat) (0.11.2)\n",
      "Requirement already satisfied: colorama in c:\\users\\bitcamp\\anaconda3\\envs\\nlp\\lib\\site-packages (from click>=7.0->streamlit>=0.63->streamlit-chat) (0.4.4)\n",
      "Requirement already satisfied: gitdb<5,>=4.0.1 in c:\\users\\bitcamp\\anaconda3\\envs\\nlp\\lib\\site-packages (from gitpython!=3.1.19->streamlit>=0.63->streamlit-chat) (4.0.9)\n",
      "Requirement already satisfied: smmap<6,>=3.0.1 in c:\\users\\bitcamp\\anaconda3\\envs\\nlp\\lib\\site-packages (from gitdb<5,>=4.0.1->gitpython!=3.1.19->streamlit>=0.63->streamlit-chat) (5.0.0)\n",
      "Requirement already satisfied: zipp>=0.5 in c:\\users\\bitcamp\\anaconda3\\envs\\nlp\\lib\\site-packages (from importlib-metadata>=1.4->streamlit>=0.63->streamlit-chat) (3.8.0)\n",
      "Requirement already satisfied: importlib-resources>=1.4.0 in c:\\users\\bitcamp\\anaconda3\\envs\\nlp\\lib\\site-packages (from jsonschema>=3.0->altair>=3.2.0->streamlit>=0.63->streamlit-chat) (5.6.0)\n",
      "Requirement already satisfied: pyrsistent!=0.17.0,!=0.17.1,!=0.17.2,>=0.14.0 in c:\\users\\bitcamp\\anaconda3\\envs\\nlp\\lib\\site-packages (from jsonschema>=3.0->altair>=3.2.0->streamlit>=0.63->streamlit-chat) (0.18.1)\n",
      "Requirement already satisfied: pytz>=2017.3 in c:\\users\\bitcamp\\anaconda3\\envs\\nlp\\lib\\site-packages (from pandas>=0.21.0->streamlit>=0.63->streamlit-chat) (2022.1)\n",
      "Requirement already satisfied: ipywidgets>=7.0.0 in c:\\users\\bitcamp\\anaconda3\\envs\\nlp\\lib\\site-packages (from pydeck>=0.1.dev5->streamlit>=0.63->streamlit-chat) (7.7.0)\n",
      "Requirement already satisfied: traitlets>=4.3.2 in c:\\users\\bitcamp\\anaconda3\\envs\\nlp\\lib\\site-packages (from pydeck>=0.1.dev5->streamlit>=0.63->streamlit-chat) (5.1.1)\n",
      "Requirement already satisfied: ipykernel>=5.1.2 in c:\\users\\bitcamp\\anaconda3\\envs\\nlp\\lib\\site-packages (from pydeck>=0.1.dev5->streamlit>=0.63->streamlit-chat) (6.12.1)\n",
      "Requirement already satisfied: psutil in c:\\users\\bitcamp\\anaconda3\\envs\\nlp\\lib\\site-packages (from ipykernel>=5.1.2->pydeck>=0.1.dev5->streamlit>=0.63->streamlit-chat) (5.9.0)\n",
      "Requirement already satisfied: debugpy>=1.0 in c:\\users\\bitcamp\\anaconda3\\envs\\nlp\\lib\\site-packages (from ipykernel>=5.1.2->pydeck>=0.1.dev5->streamlit>=0.63->streamlit-chat) (1.6.0)\n",
      "Requirement already satisfied: matplotlib-inline>=0.1 in c:\\users\\bitcamp\\anaconda3\\envs\\nlp\\lib\\site-packages (from ipykernel>=5.1.2->pydeck>=0.1.dev5->streamlit>=0.63->streamlit-chat) (0.1.3)\n",
      "Requirement already satisfied: nest-asyncio in c:\\users\\bitcamp\\anaconda3\\envs\\nlp\\lib\\site-packages (from ipykernel>=5.1.2->pydeck>=0.1.dev5->streamlit>=0.63->streamlit-chat) (1.5.5)\n",
      "Requirement already satisfied: jupyter-client>=6.1.12 in c:\\users\\bitcamp\\anaconda3\\envs\\nlp\\lib\\site-packages (from ipykernel>=5.1.2->pydeck>=0.1.dev5->streamlit>=0.63->streamlit-chat) (7.2.2)\n",
      "Requirement already satisfied: ipython>=7.23.1 in c:\\users\\bitcamp\\anaconda3\\envs\\nlp\\lib\\site-packages (from ipykernel>=5.1.2->pydeck>=0.1.dev5->streamlit>=0.63->streamlit-chat) (7.32.0)\n",
      "Requirement already satisfied: pygments in c:\\users\\bitcamp\\anaconda3\\envs\\nlp\\lib\\site-packages (from ipython>=7.23.1->ipykernel>=5.1.2->pydeck>=0.1.dev5->streamlit>=0.63->streamlit-chat) (2.11.2)\n",
      "Requirement already satisfied: backcall in c:\\users\\bitcamp\\anaconda3\\envs\\nlp\\lib\\site-packages (from ipython>=7.23.1->ipykernel>=5.1.2->pydeck>=0.1.dev5->streamlit>=0.63->streamlit-chat) (0.2.0)\n",
      "Requirement already satisfied: decorator in c:\\users\\bitcamp\\anaconda3\\envs\\nlp\\lib\\site-packages (from ipython>=7.23.1->ipykernel>=5.1.2->pydeck>=0.1.dev5->streamlit>=0.63->streamlit-chat) (5.1.1)\n",
      "Requirement already satisfied: pickleshare in c:\\users\\bitcamp\\anaconda3\\envs\\nlp\\lib\\site-packages (from ipython>=7.23.1->ipykernel>=5.1.2->pydeck>=0.1.dev5->streamlit>=0.63->streamlit-chat) (0.7.5)\n",
      "Requirement already satisfied: setuptools>=18.5 in c:\\users\\bitcamp\\anaconda3\\envs\\nlp\\lib\\site-packages (from ipython>=7.23.1->ipykernel>=5.1.2->pydeck>=0.1.dev5->streamlit>=0.63->streamlit-chat) (58.0.4)\n",
      "Requirement already satisfied: jedi>=0.16 in c:\\users\\bitcamp\\anaconda3\\envs\\nlp\\lib\\site-packages (from ipython>=7.23.1->ipykernel>=5.1.2->pydeck>=0.1.dev5->streamlit>=0.63->streamlit-chat) (0.18.1)\n",
      "Requirement already satisfied: prompt-toolkit!=3.0.0,!=3.0.1,<3.1.0,>=2.0.0 in c:\\users\\bitcamp\\anaconda3\\envs\\nlp\\lib\\site-packages (from ipython>=7.23.1->ipykernel>=5.1.2->pydeck>=0.1.dev5->streamlit>=0.63->streamlit-chat) (3.0.29)\n",
      "Requirement already satisfied: widgetsnbextension~=3.6.0 in c:\\users\\bitcamp\\anaconda3\\envs\\nlp\\lib\\site-packages (from ipywidgets>=7.0.0->pydeck>=0.1.dev5->streamlit>=0.63->streamlit-chat) (3.6.0)\n",
      "Requirement already satisfied: jupyterlab-widgets>=1.0.0 in c:\\users\\bitcamp\\anaconda3\\envs\\nlp\\lib\\site-packages (from ipywidgets>=7.0.0->pydeck>=0.1.dev5->streamlit>=0.63->streamlit-chat) (1.1.0)\n",
      "Requirement already satisfied: nbformat>=4.2.0 in c:\\users\\bitcamp\\anaconda3\\envs\\nlp\\lib\\site-packages (from ipywidgets>=7.0.0->pydeck>=0.1.dev5->streamlit>=0.63->streamlit-chat) (5.3.0)\n",
      "Requirement already satisfied: ipython-genutils~=0.2.0 in c:\\users\\bitcamp\\anaconda3\\envs\\nlp\\lib\\site-packages (from ipywidgets>=7.0.0->pydeck>=0.1.dev5->streamlit>=0.63->streamlit-chat) (0.2.0)\n",
      "Requirement already satisfied: parso<0.9.0,>=0.8.0 in c:\\users\\bitcamp\\anaconda3\\envs\\nlp\\lib\\site-packages (from jedi>=0.16->ipython>=7.23.1->ipykernel>=5.1.2->pydeck>=0.1.dev5->streamlit>=0.63->streamlit-chat) (0.8.3)\n",
      "Requirement already satisfied: MarkupSafe>=2.0 in c:\\users\\bitcamp\\anaconda3\\envs\\nlp\\lib\\site-packages (from jinja2->altair>=3.2.0->streamlit>=0.63->streamlit-chat) (2.1.1)\n",
      "Requirement already satisfied: pyzmq>=22.3 in c:\\users\\bitcamp\\anaconda3\\envs\\nlp\\lib\\site-packages (from jupyter-client>=6.1.12->ipykernel>=5.1.2->pydeck>=0.1.dev5->streamlit>=0.63->streamlit-chat) (22.3.0)\n",
      "Requirement already satisfied: jupyter-core>=4.9.2 in c:\\users\\bitcamp\\anaconda3\\envs\\nlp\\lib\\site-packages (from jupyter-client>=6.1.12->ipykernel>=5.1.2->pydeck>=0.1.dev5->streamlit>=0.63->streamlit-chat) (4.9.2)\n",
      "Requirement already satisfied: pywin32>=1.0 in c:\\users\\bitcamp\\anaconda3\\envs\\nlp\\lib\\site-packages (from jupyter-core>=4.9.2->jupyter-client>=6.1.12->ipykernel>=5.1.2->pydeck>=0.1.dev5->streamlit>=0.63->streamlit-chat) (303)\n",
      "Requirement already satisfied: fastjsonschema in c:\\users\\bitcamp\\anaconda3\\envs\\nlp\\lib\\site-packages (from nbformat>=4.2.0->ipywidgets>=7.0.0->pydeck>=0.1.dev5->streamlit>=0.63->streamlit-chat) (2.15.3)\n",
      "Requirement already satisfied: wcwidth in c:\\users\\bitcamp\\anaconda3\\envs\\nlp\\lib\\site-packages (from prompt-toolkit!=3.0.0,!=3.0.1,<3.1.0,>=2.0.0->ipython>=7.23.1->ipykernel>=5.1.2->pydeck>=0.1.dev5->streamlit>=0.63->streamlit-chat) (0.2.5)\n",
      "Requirement already satisfied: six>=1.5 in c:\\users\\bitcamp\\anaconda3\\envs\\nlp\\lib\\site-packages (from python-dateutil->streamlit>=0.63->streamlit-chat) (1.16.0)\n",
      "Requirement already satisfied: notebook>=4.4.1 in c:\\users\\bitcamp\\anaconda3\\envs\\nlp\\lib\\site-packages (from widgetsnbextension~=3.6.0->ipywidgets>=7.0.0->pydeck>=0.1.dev5->streamlit>=0.63->streamlit-chat) (6.4.10)\n",
      "Requirement already satisfied: prometheus-client in c:\\users\\bitcamp\\anaconda3\\envs\\nlp\\lib\\site-packages (from notebook>=4.4.1->widgetsnbextension~=3.6.0->ipywidgets>=7.0.0->pydeck>=0.1.dev5->streamlit>=0.63->streamlit-chat) (0.14.0)\n",
      "Requirement already satisfied: Send2Trash>=1.8.0 in c:\\users\\bitcamp\\anaconda3\\envs\\nlp\\lib\\site-packages (from notebook>=4.4.1->widgetsnbextension~=3.6.0->ipywidgets>=7.0.0->pydeck>=0.1.dev5->streamlit>=0.63->streamlit-chat) (1.8.0)\n",
      "Requirement already satisfied: nbconvert>=5 in c:\\users\\bitcamp\\anaconda3\\envs\\nlp\\lib\\site-packages (from notebook>=4.4.1->widgetsnbextension~=3.6.0->ipywidgets>=7.0.0->pydeck>=0.1.dev5->streamlit>=0.63->streamlit-chat) (6.4.5)\n",
      "Requirement already satisfied: argon2-cffi in c:\\users\\bitcamp\\anaconda3\\envs\\nlp\\lib\\site-packages (from notebook>=4.4.1->widgetsnbextension~=3.6.0->ipywidgets>=7.0.0->pydeck>=0.1.dev5->streamlit>=0.63->streamlit-chat) (21.3.0)\n",
      "Requirement already satisfied: terminado>=0.8.3 in c:\\users\\bitcamp\\anaconda3\\envs\\nlp\\lib\\site-packages (from notebook>=4.4.1->widgetsnbextension~=3.6.0->ipywidgets>=7.0.0->pydeck>=0.1.dev5->streamlit>=0.63->streamlit-chat) (0.13.3)\n",
      "Requirement already satisfied: mistune<2,>=0.8.1 in c:\\users\\bitcamp\\anaconda3\\envs\\nlp\\lib\\site-packages (from nbconvert>=5->notebook>=4.4.1->widgetsnbextension~=3.6.0->ipywidgets>=7.0.0->pydeck>=0.1.dev5->streamlit>=0.63->streamlit-chat) (0.8.4)\n",
      "Requirement already satisfied: pandocfilters>=1.4.1 in c:\\users\\bitcamp\\anaconda3\\envs\\nlp\\lib\\site-packages (from nbconvert>=5->notebook>=4.4.1->widgetsnbextension~=3.6.0->ipywidgets>=7.0.0->pydeck>=0.1.dev5->streamlit>=0.63->streamlit-chat) (1.5.0)\n",
      "Requirement already satisfied: bleach in c:\\users\\bitcamp\\anaconda3\\envs\\nlp\\lib\\site-packages (from nbconvert>=5->notebook>=4.4.1->widgetsnbextension~=3.6.0->ipywidgets>=7.0.0->pydeck>=0.1.dev5->streamlit>=0.63->streamlit-chat) (5.0.0)\n",
      "Requirement already satisfied: jupyterlab-pygments in c:\\users\\bitcamp\\anaconda3\\envs\\nlp\\lib\\site-packages (from nbconvert>=5->notebook>=4.4.1->widgetsnbextension~=3.6.0->ipywidgets>=7.0.0->pydeck>=0.1.dev5->streamlit>=0.63->streamlit-chat) (0.1.2)\n",
      "Requirement already satisfied: beautifulsoup4 in c:\\users\\bitcamp\\anaconda3\\envs\\nlp\\lib\\site-packages (from nbconvert>=5->notebook>=4.4.1->widgetsnbextension~=3.6.0->ipywidgets>=7.0.0->pydeck>=0.1.dev5->streamlit>=0.63->streamlit-chat) (4.11.0)\n",
      "Requirement already satisfied: nbclient<0.6.0,>=0.5.0 in c:\\users\\bitcamp\\anaconda3\\envs\\nlp\\lib\\site-packages (from nbconvert>=5->notebook>=4.4.1->widgetsnbextension~=3.6.0->ipywidgets>=7.0.0->pydeck>=0.1.dev5->streamlit>=0.63->streamlit-chat) (0.5.13)\n",
      "Requirement already satisfied: testpath in c:\\users\\bitcamp\\anaconda3\\envs\\nlp\\lib\\site-packages (from nbconvert>=5->notebook>=4.4.1->widgetsnbextension~=3.6.0->ipywidgets>=7.0.0->pydeck>=0.1.dev5->streamlit>=0.63->streamlit-chat) (0.6.0)\n",
      "Requirement already satisfied: defusedxml in c:\\users\\bitcamp\\anaconda3\\envs\\nlp\\lib\\site-packages (from nbconvert>=5->notebook>=4.4.1->widgetsnbextension~=3.6.0->ipywidgets>=7.0.0->pydeck>=0.1.dev5->streamlit>=0.63->streamlit-chat) (0.7.1)\n",
      "Requirement already satisfied: pywinpty>=1.1.0 in c:\\users\\bitcamp\\anaconda3\\envs\\nlp\\lib\\site-packages (from terminado>=0.8.3->notebook>=4.4.1->widgetsnbextension~=3.6.0->ipywidgets>=7.0.0->pydeck>=0.1.dev5->streamlit>=0.63->streamlit-chat) (2.0.5)\n",
      "Requirement already satisfied: argon2-cffi-bindings in c:\\users\\bitcamp\\anaconda3\\envs\\nlp\\lib\\site-packages (from argon2-cffi->notebook>=4.4.1->widgetsnbextension~=3.6.0->ipywidgets>=7.0.0->pydeck>=0.1.dev5->streamlit>=0.63->streamlit-chat) (21.2.0)\n",
      "Requirement already satisfied: cffi>=1.0.1 in c:\\users\\bitcamp\\anaconda3\\envs\\nlp\\lib\\site-packages (from argon2-cffi-bindings->argon2-cffi->notebook>=4.4.1->widgetsnbextension~=3.6.0->ipywidgets>=7.0.0->pydeck>=0.1.dev5->streamlit>=0.63->streamlit-chat) (1.15.0)\n",
      "Requirement already satisfied: pycparser in c:\\users\\bitcamp\\anaconda3\\envs\\nlp\\lib\\site-packages (from cffi>=1.0.1->argon2-cffi-bindings->argon2-cffi->notebook>=4.4.1->widgetsnbextension~=3.6.0->ipywidgets>=7.0.0->pydeck>=0.1.dev5->streamlit>=0.63->streamlit-chat) (2.21)\n",
      "Requirement already satisfied: soupsieve>1.2 in c:\\users\\bitcamp\\anaconda3\\envs\\nlp\\lib\\site-packages (from beautifulsoup4->nbconvert>=5->notebook>=4.4.1->widgetsnbextension~=3.6.0->ipywidgets>=7.0.0->pydeck>=0.1.dev5->streamlit>=0.63->streamlit-chat) (2.3.2)\n",
      "Requirement already satisfied: webencodings in c:\\users\\bitcamp\\anaconda3\\envs\\nlp\\lib\\site-packages (from bleach->nbconvert>=5->notebook>=4.4.1->widgetsnbextension~=3.6.0->ipywidgets>=7.0.0->pydeck>=0.1.dev5->streamlit>=0.63->streamlit-chat) (0.5.1)\n",
      "Requirement already satisfied: pyparsing!=3.0.5,>=2.0.2 in c:\\users\\bitcamp\\anaconda3\\envs\\nlp\\lib\\site-packages (from packaging->streamlit>=0.63->streamlit-chat) (3.0.9)\n",
      "Requirement already satisfied: certifi>=2017.4.17 in c:\\users\\bitcamp\\anaconda3\\envs\\nlp\\lib\\site-packages (from requests->streamlit>=0.63->streamlit-chat) (2022.5.18.1)\n",
      "Requirement already satisfied: charset-normalizer~=2.0.0 in c:\\users\\bitcamp\\anaconda3\\envs\\nlp\\lib\\site-packages (from requests->streamlit>=0.63->streamlit-chat) (2.0.12)\n",
      "Requirement already satisfied: urllib3<1.27,>=1.21.1 in c:\\users\\bitcamp\\anaconda3\\envs\\nlp\\lib\\site-packages (from requests->streamlit>=0.63->streamlit-chat) (1.26.9)\n",
      "Requirement already satisfied: idna<4,>=2.5 in c:\\users\\bitcamp\\anaconda3\\envs\\nlp\\lib\\site-packages (from requests->streamlit>=0.63->streamlit-chat) (3.3)\n",
      "Requirement already satisfied: commonmark<0.10.0,>=0.9.0 in c:\\users\\bitcamp\\anaconda3\\envs\\nlp\\lib\\site-packages (from rich->streamlit>=0.63->streamlit-chat) (0.9.1)\n",
      "Requirement already satisfied: pytz-deprecation-shim in c:\\users\\bitcamp\\anaconda3\\envs\\nlp\\lib\\site-packages (from tzlocal->streamlit>=0.63->streamlit-chat) (0.1.0.post0)\n",
      "Requirement already satisfied: tzdata in c:\\users\\bitcamp\\anaconda3\\envs\\nlp\\lib\\site-packages (from tzlocal->streamlit>=0.63->streamlit-chat) (2022.1)\n",
      "Requirement already satisfied: backports.zoneinfo in c:\\users\\bitcamp\\anaconda3\\envs\\nlp\\lib\\site-packages (from tzlocal->streamlit>=0.63->streamlit-chat) (0.2.1)\n"
     ]
    }
   ],
   "source": [
    "# !pip install streamlit-chat"
   ]
  },
  {
   "cell_type": "code",
   "execution_count": 7,
   "id": "2c929e1e",
   "metadata": {},
   "outputs": [
    {
     "ename": "ImportError",
     "evalue": "cannot import name 'Literal' from 'typing' (C:\\Users\\bitcamp\\Anaconda3\\envs\\nlp\\lib\\typing.py)",
     "output_type": "error",
     "traceback": [
      "\u001b[1;31m---------------------------------------------------------------------------\u001b[0m",
      "\u001b[1;31mImportError\u001b[0m                               Traceback (most recent call last)",
      "\u001b[1;32m~\\AppData\\Local\\Temp\\ipykernel_12160\\3222258196.py\u001b[0m in \u001b[0;36m<module>\u001b[1;34m\u001b[0m\n\u001b[0;32m     11\u001b[0m \u001b[1;33m\u001b[0m\u001b[0m\n\u001b[0;32m     12\u001b[0m \u001b[1;32mimport\u001b[0m \u001b[0mstreamlit\u001b[0m \u001b[1;32mas\u001b[0m \u001b[0mst\u001b[0m\u001b[1;33m\u001b[0m\u001b[1;33m\u001b[0m\u001b[0m\n\u001b[1;32m---> 13\u001b[1;33m \u001b[1;32mfrom\u001b[0m \u001b[0mstreamlit_chat\u001b[0m \u001b[1;32mimport\u001b[0m \u001b[0mmessage\u001b[0m \u001b[1;32mas\u001b[0m \u001b[0mst_message\u001b[0m\u001b[1;33m\u001b[0m\u001b[1;33m\u001b[0m\u001b[0m\n\u001b[0m",
      "\u001b[1;32m~\\Anaconda3\\envs\\nlp\\lib\\site-packages\\streamlit_chat\\__init__.py\u001b[0m in \u001b[0;36m<module>\u001b[1;34m\u001b[0m\n\u001b[0;32m      1\u001b[0m \u001b[1;32mimport\u001b[0m \u001b[0mstreamlit\u001b[0m\u001b[1;33m.\u001b[0m\u001b[0mcomponents\u001b[0m\u001b[1;33m.\u001b[0m\u001b[0mv1\u001b[0m \u001b[1;32mas\u001b[0m \u001b[0mcomponents\u001b[0m\u001b[1;33m\u001b[0m\u001b[1;33m\u001b[0m\u001b[0m\n\u001b[0;32m      2\u001b[0m \u001b[1;32mimport\u001b[0m \u001b[0mos\u001b[0m\u001b[1;33m\u001b[0m\u001b[1;33m\u001b[0m\u001b[0m\n\u001b[1;32m----> 3\u001b[1;33m \u001b[1;32mfrom\u001b[0m \u001b[0mtyping\u001b[0m \u001b[1;32mimport\u001b[0m \u001b[0mAny\u001b[0m\u001b[1;33m,\u001b[0m \u001b[0mLiteral\u001b[0m\u001b[1;33m,\u001b[0m \u001b[0mOptional\u001b[0m\u001b[1;33m,\u001b[0m \u001b[0mUnion\u001b[0m\u001b[1;33m\u001b[0m\u001b[1;33m\u001b[0m\u001b[0m\n\u001b[0m\u001b[0;32m      4\u001b[0m \u001b[1;33m\u001b[0m\u001b[0m\n\u001b[0;32m      5\u001b[0m \u001b[1;33m\u001b[0m\u001b[0m\n",
      "\u001b[1;31mImportError\u001b[0m: cannot import name 'Literal' from 'typing' (C:\\Users\\bitcamp\\Anaconda3\\envs\\nlp\\lib\\typing.py)"
     ]
    }
   ],
   "source": [
    "import math\n",
    "import numpy as np\n",
    "import pandas as pd\n",
    "import random\n",
    "import re\n",
    "import torch\n",
    "import urllib.request\n",
    "from torch.utils.data import DataLoader, Dataset\n",
    "from transformers import PreTrainedTokenizerFast\n",
    "from transformers import GPT2LMHeadModel\n",
    "\n",
    "import streamlit as st\n",
    "from streamlit_chat import message as st_message"
   ]
  },
  {
   "cell_type": "code",
   "execution_count": null,
   "id": "bb215af8",
   "metadata": {},
   "outputs": [],
   "source": []
  },
  {
   "cell_type": "code",
   "execution_count": null,
   "id": "98fbe212",
   "metadata": {},
   "outputs": [],
   "source": []
  },
  {
   "cell_type": "code",
   "execution_count": null,
   "id": "afd8c03c",
   "metadata": {},
   "outputs": [],
   "source": []
  },
  {
   "cell_type": "code",
   "execution_count": null,
   "id": "fa0b32b1",
   "metadata": {},
   "outputs": [],
   "source": []
  },
  {
   "cell_type": "code",
   "execution_count": null,
   "id": "e4b379cf",
   "metadata": {},
   "outputs": [],
   "source": []
  },
  {
   "cell_type": "code",
   "execution_count": null,
   "id": "d597b81d",
   "metadata": {},
   "outputs": [],
   "source": []
  },
  {
   "cell_type": "code",
   "execution_count": null,
   "id": "b62f383b",
   "metadata": {},
   "outputs": [],
   "source": []
  },
  {
   "cell_type": "code",
   "execution_count": null,
   "id": "a03020c0",
   "metadata": {},
   "outputs": [],
   "source": []
  },
  {
   "cell_type": "code",
   "execution_count": null,
   "id": "f05f5c25",
   "metadata": {},
   "outputs": [],
   "source": []
  },
  {
   "cell_type": "code",
   "execution_count": null,
   "id": "888bfb53",
   "metadata": {},
   "outputs": [],
   "source": []
  },
  {
   "cell_type": "code",
   "execution_count": null,
   "id": "04e9b6d5",
   "metadata": {},
   "outputs": [],
   "source": []
  },
  {
   "cell_type": "code",
   "execution_count": null,
   "id": "279df2e3",
   "metadata": {},
   "outputs": [],
   "source": []
  },
  {
   "cell_type": "code",
   "execution_count": null,
   "id": "774fb0ab",
   "metadata": {},
   "outputs": [],
   "source": []
  },
  {
   "cell_type": "code",
   "execution_count": null,
   "id": "983eda84",
   "metadata": {},
   "outputs": [],
   "source": []
  },
  {
   "cell_type": "code",
   "execution_count": null,
   "id": "60e8ec0a",
   "metadata": {},
   "outputs": [],
   "source": []
  },
  {
   "cell_type": "code",
   "execution_count": null,
   "id": "1d839b9c",
   "metadata": {},
   "outputs": [],
   "source": []
  },
  {
   "cell_type": "code",
   "execution_count": null,
   "id": "77ff2323",
   "metadata": {},
   "outputs": [],
   "source": []
  },
  {
   "cell_type": "code",
   "execution_count": null,
   "id": "ae2d28c4",
   "metadata": {},
   "outputs": [],
   "source": []
  },
  {
   "cell_type": "code",
   "execution_count": null,
   "id": "44608da0",
   "metadata": {},
   "outputs": [],
   "source": []
  },
  {
   "cell_type": "code",
   "execution_count": null,
   "id": "bba03198",
   "metadata": {},
   "outputs": [],
   "source": []
  },
  {
   "cell_type": "code",
   "execution_count": null,
   "id": "03e49e22",
   "metadata": {},
   "outputs": [],
   "source": []
  },
  {
   "cell_type": "code",
   "execution_count": null,
   "id": "ded81542",
   "metadata": {},
   "outputs": [],
   "source": []
  }
 ],
 "metadata": {
  "kernelspec": {
   "display_name": "Python 3 (ipykernel)",
   "language": "python",
   "name": "python3"
  },
  "language_info": {
   "codemirror_mode": {
    "name": "ipython",
    "version": 3
   },
   "file_extension": ".py",
   "mimetype": "text/x-python",
   "name": "python",
   "nbconvert_exporter": "python",
   "pygments_lexer": "ipython3",
   "version": "3.7.13"
  },
  "toc": {
   "base_numbering": 1,
   "nav_menu": {},
   "number_sections": true,
   "sideBar": true,
   "skip_h1_title": false,
   "title_cell": "Table of Contents",
   "title_sidebar": "Contents",
   "toc_cell": false,
   "toc_position": {},
   "toc_section_display": true,
   "toc_window_display": true
  },
  "varInspector": {
   "cols": {
    "lenName": 16,
    "lenType": 16,
    "lenVar": 40
   },
   "kernels_config": {
    "python": {
     "delete_cmd_postfix": "",
     "delete_cmd_prefix": "del ",
     "library": "var_list.py",
     "varRefreshCmd": "print(var_dic_list())"
    },
    "r": {
     "delete_cmd_postfix": ") ",
     "delete_cmd_prefix": "rm(",
     "library": "var_list.r",
     "varRefreshCmd": "cat(var_dic_list()) "
    }
   },
   "types_to_exclude": [
    "module",
    "function",
    "builtin_function_or_method",
    "instance",
    "_Feature"
   ],
   "window_display": false
  }
 },
 "nbformat": 4,
 "nbformat_minor": 5
}
