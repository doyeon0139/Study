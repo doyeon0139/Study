{
 "cells": [
  {
   "cell_type": "code",
   "execution_count": 1,
   "id": "59d42e1a",
   "metadata": {
    "collapsed": true
   },
   "outputs": [
    {
     "name": "stdout",
     "output_type": "stream",
     "text": [
      "Collecting chatbot\n",
      "  Downloading chatbot-1.5.2b.tar.gz (3.9 kB)\n",
      "  Preparing metadata (setup.py): started\n",
      "  Preparing metadata (setup.py): finished with status 'done'\n",
      "Building wheels for collected packages: chatbot\n",
      "  Building wheel for chatbot (setup.py): started\n",
      "  Building wheel for chatbot (setup.py): finished with status 'done'\n",
      "  Created wheel for chatbot: filename=chatbot-1.5.2b0-py3-none-any.whl size=4289 sha256=26cba23753638b06f4369be719a42b0c6ea8271568859b555ff111c2f776f46e\n",
      "  Stored in directory: c:\\users\\bitcamp\\appdata\\local\\pip\\cache\\wheels\\34\\e6\\4a\\dc5d4c1c371bb2144e4c1337dfecea8fa475790891f66d3864\n",
      "Successfully built chatbot\n",
      "Installing collected packages: chatbot\n",
      "Successfully installed chatbot-1.5.2b0\n"
     ]
    },
    {
     "name": "stderr",
     "output_type": "stream",
     "text": [
      "WARNING: There was an error checking the latest version of pip.\n"
     ]
    }
   ],
   "source": [
    "# !pip install chatbot"
   ]
  },
  {
   "cell_type": "code",
   "execution_count": 9,
   "id": "5b7c833d",
   "metadata": {},
   "outputs": [
    {
     "name": "stderr",
     "output_type": "stream",
     "text": [
      "ERROR: Could not find a version that satisfies the requirement git (from versions: none)\n",
      "ERROR: No matching distribution found for git\n",
      "WARNING: There was an error checking the latest version of pip.\n"
     ]
    }
   ],
   "source": [
    "# !pip install git"
   ]
  },
  {
   "cell_type": "code",
   "execution_count": 11,
   "id": "fd430de6",
   "metadata": {},
   "outputs": [],
   "source": [
    "# git clone https://github.com/gunthercox/ChatterBot.git"
   ]
  },
  {
   "cell_type": "code",
   "execution_count": 45,
   "id": "79c8e901",
   "metadata": {
    "collapsed": true
   },
   "outputs": [
    {
     "name": "stdout",
     "output_type": "stream",
     "text": [
      "Requirement already satisfied: chatterbot in c:\\users\\bitcamp\\anaconda3\\envs\\nlp\\lib\\site-packages (1.1.0a7)\n",
      "Requirement already satisfied: pytz in c:\\users\\bitcamp\\anaconda3\\envs\\nlp\\lib\\site-packages (from chatterbot) (2022.1)\n",
      "Requirement already satisfied: sqlalchemy<1.4,>=1.3 in c:\\users\\bitcamp\\anaconda3\\envs\\nlp\\lib\\site-packages (from chatterbot) (1.3.24)\n",
      "Requirement already satisfied: mathparse<0.2,>=0.1 in c:\\users\\bitcamp\\anaconda3\\envs\\nlp\\lib\\site-packages (from chatterbot) (0.1.2)\n",
      "Requirement already satisfied: python-dateutil<2.9,>=2.8 in c:\\users\\bitcamp\\anaconda3\\envs\\nlp\\lib\\site-packages (from chatterbot) (2.8.2)\n",
      "Requirement already satisfied: six>=1.5 in c:\\users\\bitcamp\\anaconda3\\envs\\nlp\\lib\\site-packages (from python-dateutil<2.9,>=2.8->chatterbot) (1.16.0)\n"
     ]
    }
   ],
   "source": [
    "# !pip install chatterbot"
   ]
  },
  {
   "cell_type": "code",
   "execution_count": 39,
   "id": "927e112f",
   "metadata": {
    "collapsed": true
   },
   "outputs": [
    {
     "name": "stdout",
     "output_type": "stream",
     "text": [
      "Processing e:\\final_project\\chatterbot\n",
      "Requirement already satisfied: mathparse<0.2,>=0.1 in c:\\users\\bitcamp\\anaconda3\\envs\\nlp\\lib\\site-packages (from ChatterBot==1.1.0a7) (0.1.2)\n",
      "Requirement already satisfied: python-dateutil<2.9,>=2.8 in c:\\users\\bitcamp\\anaconda3\\envs\\nlp\\lib\\site-packages (from ChatterBot==1.1.0a7) (2.8.2)\n",
      "Requirement already satisfied: sqlalchemy<1.4,>=1.3 in c:\\users\\bitcamp\\anaconda3\\envs\\nlp\\lib\\site-packages (from ChatterBot==1.1.0a7) (1.3.24)\n",
      "Requirement already satisfied: pytz in c:\\users\\bitcamp\\anaconda3\\envs\\nlp\\lib\\site-packages (from ChatterBot==1.1.0a7) (2022.1)\n",
      "Requirement already satisfied: six>=1.5 in c:\\users\\bitcamp\\anaconda3\\envs\\nlp\\lib\\site-packages (from python-dateutil<2.9,>=2.8->ChatterBot==1.1.0a7) (1.16.0)\n",
      "Building wheels for collected packages: ChatterBot\n",
      "  Building wheel for ChatterBot (setup.py): started\n",
      "  Building wheel for ChatterBot (setup.py): finished with status 'done'\n",
      "  Created wheel for ChatterBot: filename=ChatterBot-1.1.0a7-py2.py3-none-any.whl size=64220 sha256=2f7e55ed583fec6787a384257e2cd53d783e8aad3ef8827e31866ae07f81429f\n",
      "  Stored in directory: C:\\Users\\bitcamp\\AppData\\Local\\Temp\\pip-ephem-wheel-cache-4dl342s_\\wheels\\8a\\46\\5b\\aaad8c22287191b3d172ce5399175ecddeae025f590ed019ff\n",
      "Successfully built ChatterBot\n",
      "Installing collected packages: ChatterBot\n",
      "  Attempting uninstall: ChatterBot\n",
      "    Found existing installation: ChatterBot 1.1.0a7\n",
      "    Uninstalling ChatterBot-1.1.0a7:\n",
      "      Successfully uninstalled ChatterBot-1.1.0a7\n",
      "Successfully installed ChatterBot-1.1.0a7\n"
     ]
    },
    {
     "name": "stderr",
     "output_type": "stream",
     "text": [
      "  DEPRECATION: A future pip version will change local packages to be built in-place without first copying to a temporary directory. We recommend you use --use-feature=in-tree-build to test your packages with this new behavior before it becomes the default.\n",
      "   pip 21.3 will remove support for this functionality. You can find discussion regarding this at https://github.com/pypa/pip/issues/7555.\n"
     ]
    }
   ],
   "source": [
    "# !pip install ./ChatterBot"
   ]
  },
  {
   "cell_type": "code",
   "execution_count": 26,
   "id": "3f661f90",
   "metadata": {
    "collapsed": true
   },
   "outputs": [
    {
     "name": "stdout",
     "output_type": "stream",
     "text": [
      "Requirement already satisfied: chatterbot_corpus in c:\\users\\bitcamp\\anaconda3\\envs\\nlp\\lib\\site-packages (1.2.0)\n",
      "Requirement already satisfied: korean in c:\\users\\bitcamp\\anaconda3\\envs\\nlp\\lib\\site-packages (0.1.3)\n",
      "Collecting korean\n",
      "  Using cached korean-0.1.8.tar.gz (12 kB)\n",
      "  Using cached korean-0.1.7.tar.gz (12 kB)\n",
      "  Using cached korean-0.1.5.tar.gz (10 kB)\n",
      "  Using cached korean-0.1.4.tar.gz (9.7 kB)\n",
      "Requirement already satisfied: PyYAML<4.0,>=3.12 in c:\\users\\bitcamp\\anaconda3\\envs\\nlp\\lib\\site-packages (from chatterbot_corpus) (3.13)\n"
     ]
    },
    {
     "name": "stderr",
     "output_type": "stream",
     "text": [
      "    ERROR: Command errored out with exit status 1:\n",
      "     command: 'C:\\Users\\bitcamp\\Anaconda3\\envs\\nlp\\python.exe' -c 'import io, os, sys, setuptools, tokenize; sys.argv[0] = '\"'\"'C:\\\\Users\\\\bitcamp\\\\AppData\\\\Local\\\\Temp\\\\pip-install-e7j6sxhf\\\\korean_2969dd7880a848afa3b2ba4bcd8d2d14\\\\setup.py'\"'\"'; __file__='\"'\"'C:\\\\Users\\\\bitcamp\\\\AppData\\\\Local\\\\Temp\\\\pip-install-e7j6sxhf\\\\korean_2969dd7880a848afa3b2ba4bcd8d2d14\\\\setup.py'\"'\"';f = getattr(tokenize, '\"'\"'open'\"'\"', open)(__file__) if os.path.exists(__file__) else io.StringIO('\"'\"'from setuptools import setup; setup()'\"'\"');code = f.read().replace('\"'\"'\\r\\n'\"'\"', '\"'\"'\\n'\"'\"');f.close();exec(compile(code, __file__, '\"'\"'exec'\"'\"'))' egg_info --egg-base 'C:\\Users\\bitcamp\\AppData\\Local\\Temp\\pip-pip-egg-info-fx6cc6a5'\n",
      "         cwd: C:\\Users\\bitcamp\\AppData\\Local\\Temp\\pip-install-e7j6sxhf\\korean_2969dd7880a848afa3b2ba4bcd8d2d14\\\n",
      "    Complete output (1 lines):\n",
      "    error in korean setup command: use_2to3 is invalid.\n",
      "    ----------------------------------------\n",
      "WARNING: Discarding https://files.pythonhosted.org/packages/f3/b8/5e194486595bfb437914b5f19808ec83bd9e9b90942019ddca9a6b7f817e/korean-0.1.8.tar.gz#sha256=a6dbfa3f91fe2b155a3687e63a2bc0857b690d78d90d9f63fd32321b197876ef (from https://pypi.org/simple/korean/). Command errored out with exit status 1: python setup.py egg_info Check the logs for full command output.\n",
      "    ERROR: Command errored out with exit status 1:\n",
      "     command: 'C:\\Users\\bitcamp\\Anaconda3\\envs\\nlp\\python.exe' -c 'import io, os, sys, setuptools, tokenize; sys.argv[0] = '\"'\"'C:\\\\Users\\\\bitcamp\\\\AppData\\\\Local\\\\Temp\\\\pip-install-e7j6sxhf\\\\korean_1c3ef9dc6e43458aa4d88ecc13f2188c\\\\setup.py'\"'\"'; __file__='\"'\"'C:\\\\Users\\\\bitcamp\\\\AppData\\\\Local\\\\Temp\\\\pip-install-e7j6sxhf\\\\korean_1c3ef9dc6e43458aa4d88ecc13f2188c\\\\setup.py'\"'\"';f = getattr(tokenize, '\"'\"'open'\"'\"', open)(__file__) if os.path.exists(__file__) else io.StringIO('\"'\"'from setuptools import setup; setup()'\"'\"');code = f.read().replace('\"'\"'\\r\\n'\"'\"', '\"'\"'\\n'\"'\"');f.close();exec(compile(code, __file__, '\"'\"'exec'\"'\"'))' egg_info --egg-base 'C:\\Users\\bitcamp\\AppData\\Local\\Temp\\pip-pip-egg-info-aai60lb7'\n",
      "         cwd: C:\\Users\\bitcamp\\AppData\\Local\\Temp\\pip-install-e7j6sxhf\\korean_1c3ef9dc6e43458aa4d88ecc13f2188c\\\n",
      "    Complete output (1 lines):\n",
      "    error in korean setup command: use_2to3 is invalid.\n",
      "    ----------------------------------------\n",
      "WARNING: Discarding https://files.pythonhosted.org/packages/6d/bc/d473c2e38f6872b62b6cdf6d19b265805846417e240a7e5864c75a88fb0d/korean-0.1.7.tar.gz#sha256=f1de1deec93f3a641d80eabc3a3f54014ff73504a04aaaf9b64675be7d9527a7 (from https://pypi.org/simple/korean/). Command errored out with exit status 1: python setup.py egg_info Check the logs for full command output.\n",
      "    ERROR: Command errored out with exit status 1:\n",
      "     command: 'C:\\Users\\bitcamp\\Anaconda3\\envs\\nlp\\python.exe' -c 'import io, os, sys, setuptools, tokenize; sys.argv[0] = '\"'\"'C:\\\\Users\\\\bitcamp\\\\AppData\\\\Local\\\\Temp\\\\pip-install-e7j6sxhf\\\\korean_40eb097f58df4f5f956be0296d01f68b\\\\setup.py'\"'\"'; __file__='\"'\"'C:\\\\Users\\\\bitcamp\\\\AppData\\\\Local\\\\Temp\\\\pip-install-e7j6sxhf\\\\korean_40eb097f58df4f5f956be0296d01f68b\\\\setup.py'\"'\"';f = getattr(tokenize, '\"'\"'open'\"'\"', open)(__file__) if os.path.exists(__file__) else io.StringIO('\"'\"'from setuptools import setup; setup()'\"'\"');code = f.read().replace('\"'\"'\\r\\n'\"'\"', '\"'\"'\\n'\"'\"');f.close();exec(compile(code, __file__, '\"'\"'exec'\"'\"'))' egg_info --egg-base 'C:\\Users\\bitcamp\\AppData\\Local\\Temp\\pip-pip-egg-info-3idmxnba'\n",
      "         cwd: C:\\Users\\bitcamp\\AppData\\Local\\Temp\\pip-install-e7j6sxhf\\korean_40eb097f58df4f5f956be0296d01f68b\\\n",
      "    Complete output (1 lines):\n",
      "    error in korean setup command: use_2to3 is invalid.\n",
      "    ----------------------------------------\n",
      "WARNING: Discarding https://files.pythonhosted.org/packages/2e/7b/5e00b6a9e9030b09ef279c01afdda04806cbddbc96cb322b15e203993e84/korean-0.1.5.tar.gz#sha256=164647961ebebf117df059eaba25d6b74ac445eddeb439977fd982f89f3a7964 (from https://pypi.org/simple/korean/). Command errored out with exit status 1: python setup.py egg_info Check the logs for full command output.\n",
      "    ERROR: Command errored out with exit status 1:\n",
      "     command: 'C:\\Users\\bitcamp\\Anaconda3\\envs\\nlp\\python.exe' -c 'import io, os, sys, setuptools, tokenize; sys.argv[0] = '\"'\"'C:\\\\Users\\\\bitcamp\\\\AppData\\\\Local\\\\Temp\\\\pip-install-e7j6sxhf\\\\korean_ce4b6b28a4cf4d3497e98d90a716afee\\\\setup.py'\"'\"'; __file__='\"'\"'C:\\\\Users\\\\bitcamp\\\\AppData\\\\Local\\\\Temp\\\\pip-install-e7j6sxhf\\\\korean_ce4b6b28a4cf4d3497e98d90a716afee\\\\setup.py'\"'\"';f = getattr(tokenize, '\"'\"'open'\"'\"', open)(__file__) if os.path.exists(__file__) else io.StringIO('\"'\"'from setuptools import setup; setup()'\"'\"');code = f.read().replace('\"'\"'\\r\\n'\"'\"', '\"'\"'\\n'\"'\"');f.close();exec(compile(code, __file__, '\"'\"'exec'\"'\"'))' egg_info --egg-base 'C:\\Users\\bitcamp\\AppData\\Local\\Temp\\pip-pip-egg-info-shvhpy1p'\n",
      "         cwd: C:\\Users\\bitcamp\\AppData\\Local\\Temp\\pip-install-e7j6sxhf\\korean_ce4b6b28a4cf4d3497e98d90a716afee\\\n",
      "    Complete output (9 lines):\n",
      "    Traceback (most recent call last):\n",
      "      File \"<string>\", line 1, in <module>\n",
      "      File \"C:\\Users\\bitcamp\\AppData\\Local\\Temp\\pip-install-e7j6sxhf\\korean_ce4b6b28a4cf4d3497e98d90a716afee\\setup.py\", line 33, in <module>\n",
      "        import korean\n",
      "      File \"C:\\Users\\bitcamp\\AppData\\Local\\Temp\\pip-install-e7j6sxhf\\korean_ce4b6b28a4cf4d3497e98d90a716afee\\korean\\__init__.py\", line 13, in <module>\n",
      "        from . import hangul, l10n, morphology\n",
      "      File \"C:\\Users\\bitcamp\\AppData\\Local\\Temp\\pip-install-e7j6sxhf\\korean_ce4b6b28a4cf4d3497e98d90a716afee\\korean\\hangul.py\", line 32, in <module>\n",
      "        HANGUL_RANGE = xrange(ord(u'가'), ord(u'힣') + 1)\n",
      "    NameError: name 'xrange' is not defined\n",
      "    ----------------------------------------\n",
      "WARNING: Discarding https://files.pythonhosted.org/packages/23/e0/78e20a336187076972f589cdd7d8aa49a99706a0d461d8b49741c3fe884a/korean-0.1.4.tar.gz#sha256=d660a1f9c4a916596a4d10455a3503fe1bad5734a860bd7ca63e044fef7399f1 (from https://pypi.org/simple/korean/). Command errored out with exit status 1: python setup.py egg_info Check the logs for full command output.\n"
     ]
    }
   ],
   "source": [
    "# !pip install --upgrade chatterbot_corpus korean"
   ]
  },
  {
   "cell_type": "code",
   "execution_count": 47,
   "id": "607c4e4f",
   "metadata": {
    "collapsed": true
   },
   "outputs": [
    {
     "name": "stdout",
     "output_type": "stream",
     "text": [
      "Requirement already satisfied: spacy in c:\\users\\bitcamp\\anaconda3\\envs\\nlp\\lib\\site-packages (3.3.1)\n",
      "Requirement already satisfied: typer<0.5.0,>=0.3.0 in c:\\users\\bitcamp\\anaconda3\\envs\\nlp\\lib\\site-packages (from spacy) (0.4.1)\n",
      "Requirement already satisfied: jinja2 in c:\\users\\bitcamp\\anaconda3\\envs\\nlp\\lib\\site-packages (from spacy) (3.1.1)\n",
      "Requirement already satisfied: langcodes<4.0.0,>=3.2.0 in c:\\users\\bitcamp\\anaconda3\\envs\\nlp\\lib\\site-packages (from spacy) (3.3.0)\n",
      "Requirement already satisfied: spacy-loggers<2.0.0,>=1.0.0 in c:\\users\\bitcamp\\anaconda3\\envs\\nlp\\lib\\site-packages (from spacy) (1.0.2)\n",
      "Requirement already satisfied: setuptools in c:\\users\\bitcamp\\anaconda3\\envs\\nlp\\lib\\site-packages (from spacy) (58.0.4)\n",
      "Requirement already satisfied: cymem<2.1.0,>=2.0.2 in c:\\users\\bitcamp\\anaconda3\\envs\\nlp\\lib\\site-packages (from spacy) (2.0.6)\n",
      "Requirement already satisfied: typing-extensions<4.2.0,>=3.7.4 in c:\\users\\bitcamp\\anaconda3\\envs\\nlp\\lib\\site-packages (from spacy) (4.1.1)\n",
      "Requirement already satisfied: pathy>=0.3.5 in c:\\users\\bitcamp\\anaconda3\\envs\\nlp\\lib\\site-packages (from spacy) (0.6.1)\n",
      "Requirement already satisfied: numpy>=1.15.0 in c:\\users\\bitcamp\\anaconda3\\envs\\nlp\\lib\\site-packages (from spacy) (1.21.6)\n",
      "Requirement already satisfied: murmurhash<1.1.0,>=0.28.0 in c:\\users\\bitcamp\\anaconda3\\envs\\nlp\\lib\\site-packages (from spacy) (1.0.7)\n",
      "Requirement already satisfied: pydantic!=1.8,!=1.8.1,<1.9.0,>=1.7.4 in c:\\users\\bitcamp\\anaconda3\\envs\\nlp\\lib\\site-packages (from spacy) (1.8.2)\n",
      "Requirement already satisfied: tqdm<5.0.0,>=4.38.0 in c:\\users\\bitcamp\\anaconda3\\envs\\nlp\\lib\\site-packages (from spacy) (4.64.0)\n",
      "Requirement already satisfied: preshed<3.1.0,>=3.0.2 in c:\\users\\bitcamp\\anaconda3\\envs\\nlp\\lib\\site-packages (from spacy) (3.0.6)\n",
      "Requirement already satisfied: requests<3.0.0,>=2.13.0 in c:\\users\\bitcamp\\anaconda3\\envs\\nlp\\lib\\site-packages (from spacy) (2.27.1)\n",
      "Requirement already satisfied: thinc<8.1.0,>=8.0.14 in c:\\users\\bitcamp\\anaconda3\\envs\\nlp\\lib\\site-packages (from spacy) (8.0.17)\n",
      "Requirement already satisfied: catalogue<2.1.0,>=2.0.6 in c:\\users\\bitcamp\\anaconda3\\envs\\nlp\\lib\\site-packages (from spacy) (2.0.7)\n",
      "Requirement already satisfied: packaging>=20.0 in c:\\users\\bitcamp\\anaconda3\\envs\\nlp\\lib\\site-packages (from spacy) (21.3)\n",
      "Requirement already satisfied: blis<0.8.0,>=0.4.0 in c:\\users\\bitcamp\\anaconda3\\envs\\nlp\\lib\\site-packages (from spacy) (0.7.7)\n",
      "Requirement already satisfied: spacy-legacy<3.1.0,>=3.0.9 in c:\\users\\bitcamp\\anaconda3\\envs\\nlp\\lib\\site-packages (from spacy) (3.0.9)\n",
      "Requirement already satisfied: wasabi<1.1.0,>=0.9.1 in c:\\users\\bitcamp\\anaconda3\\envs\\nlp\\lib\\site-packages (from spacy) (0.9.1)\n",
      "Requirement already satisfied: srsly<3.0.0,>=2.4.3 in c:\\users\\bitcamp\\anaconda3\\envs\\nlp\\lib\\site-packages (from spacy) (2.4.3)\n",
      "Requirement already satisfied: zipp>=0.5 in c:\\users\\bitcamp\\anaconda3\\envs\\nlp\\lib\\site-packages (from catalogue<2.1.0,>=2.0.6->spacy) (3.8.0)\n",
      "Requirement already satisfied: pyparsing!=3.0.5,>=2.0.2 in c:\\users\\bitcamp\\anaconda3\\envs\\nlp\\lib\\site-packages (from packaging>=20.0->spacy) (3.0.9)\n",
      "Requirement already satisfied: smart-open<6.0.0,>=5.0.0 in c:\\users\\bitcamp\\anaconda3\\envs\\nlp\\lib\\site-packages (from pathy>=0.3.5->spacy) (5.2.1)\n",
      "Requirement already satisfied: urllib3<1.27,>=1.21.1 in c:\\users\\bitcamp\\anaconda3\\envs\\nlp\\lib\\site-packages (from requests<3.0.0,>=2.13.0->spacy) (1.26.9)\n",
      "Requirement already satisfied: idna<4,>=2.5 in c:\\users\\bitcamp\\anaconda3\\envs\\nlp\\lib\\site-packages (from requests<3.0.0,>=2.13.0->spacy) (3.3)\n",
      "Requirement already satisfied: certifi>=2017.4.17 in c:\\users\\bitcamp\\anaconda3\\envs\\nlp\\lib\\site-packages (from requests<3.0.0,>=2.13.0->spacy) (2022.5.18.1)\n",
      "Requirement already satisfied: charset-normalizer~=2.0.0 in c:\\users\\bitcamp\\anaconda3\\envs\\nlp\\lib\\site-packages (from requests<3.0.0,>=2.13.0->spacy) (2.0.12)\n",
      "Requirement already satisfied: colorama in c:\\users\\bitcamp\\anaconda3\\envs\\nlp\\lib\\site-packages (from tqdm<5.0.0,>=4.38.0->spacy) (0.4.4)\n",
      "Requirement already satisfied: click<9.0.0,>=7.1.1 in c:\\users\\bitcamp\\anaconda3\\envs\\nlp\\lib\\site-packages (from typer<0.5.0,>=0.3.0->spacy) (8.1.2)\n",
      "Requirement already satisfied: importlib-metadata in c:\\users\\bitcamp\\anaconda3\\envs\\nlp\\lib\\site-packages (from click<9.0.0,>=7.1.1->typer<0.5.0,>=0.3.0->spacy) (4.11.4)\n",
      "Requirement already satisfied: MarkupSafe>=2.0 in c:\\users\\bitcamp\\anaconda3\\envs\\nlp\\lib\\site-packages (from jinja2->spacy) (2.1.1)\n"
     ]
    }
   ],
   "source": [
    "# !pip install spacy"
   ]
  },
  {
   "cell_type": "code",
   "execution_count": 27,
   "id": "46087f60",
   "metadata": {
    "collapsed": true
   },
   "outputs": [
    {
     "name": "stdout",
     "output_type": "stream",
     "text": [
      "Collecting streamlit-chat\n",
      "  Downloading streamlit_chat-0.0.1-py3-none-any.whl (654 kB)\n",
      "Collecting streamlit>=0.63\n",
      "  Using cached streamlit-1.10.0-py2.py3-none-any.whl (9.1 MB)\n",
      "Collecting blinker\n",
      "  Using cached blinker-1.4.tar.gz (111 kB)\n",
      "Requirement already satisfied: importlib-metadata>=1.4 in c:\\users\\bitcamp\\anaconda3\\envs\\nlp\\lib\\site-packages (from streamlit>=0.63->streamlit-chat) (4.11.4)\n",
      "Collecting toml\n",
      "  Downloading toml-0.10.2-py2.py3-none-any.whl (16 kB)\n",
      "Requirement already satisfied: tornado>=5.0 in c:\\users\\bitcamp\\anaconda3\\envs\\nlp\\lib\\site-packages (from streamlit>=0.63->streamlit-chat) (6.1)\n",
      "Collecting validators\n",
      "  Using cached validators-0.20.0.tar.gz (30 kB)\n",
      "Requirement already satisfied: packaging in c:\\users\\bitcamp\\anaconda3\\envs\\nlp\\lib\\site-packages (from streamlit>=0.63->streamlit-chat) (21.3)\n",
      "Collecting pyarrow\n",
      "  Downloading pyarrow-8.0.0-cp37-cp37m-win_amd64.whl (17.8 MB)\n",
      "Collecting gitpython!=3.1.19\n",
      "  Using cached GitPython-3.1.27-py3-none-any.whl (181 kB)\n",
      "Requirement already satisfied: protobuf<4,>=3.12 in c:\\users\\bitcamp\\anaconda3\\envs\\nlp\\lib\\site-packages (from streamlit>=0.63->streamlit-chat) (3.20.0)\n",
      "Collecting watchdog\n",
      "  Downloading watchdog-2.1.9-py3-none-win_amd64.whl (78 kB)\n",
      "Requirement already satisfied: pandas>=0.21.0 in c:\\users\\bitcamp\\anaconda3\\envs\\nlp\\lib\\site-packages (from streamlit>=0.63->streamlit-chat) (1.3.5)\n",
      "Collecting semver\n",
      "  Using cached semver-2.13.0-py2.py3-none-any.whl (12 kB)\n",
      "Collecting rich\n",
      "  Using cached rich-12.4.4-py3-none-any.whl (232 kB)\n",
      "Requirement already satisfied: requests in c:\\users\\bitcamp\\anaconda3\\envs\\nlp\\lib\\site-packages (from streamlit>=0.63->streamlit-chat) (2.27.1)\n",
      "Collecting altair>=3.2.0\n",
      "  Using cached altair-4.2.0-py3-none-any.whl (812 kB)\n",
      "Requirement already satisfied: click>=7.0 in c:\\users\\bitcamp\\anaconda3\\envs\\nlp\\lib\\site-packages (from streamlit>=0.63->streamlit-chat) (8.1.2)\n",
      "Requirement already satisfied: typing-extensions in c:\\users\\bitcamp\\anaconda3\\envs\\nlp\\lib\\site-packages (from streamlit>=0.63->streamlit-chat) (4.1.1)\n",
      "Requirement already satisfied: numpy in c:\\users\\bitcamp\\anaconda3\\envs\\nlp\\lib\\site-packages (from streamlit>=0.63->streamlit-chat) (1.21.6)\n",
      "Collecting pympler>=0.9\n",
      "  Using cached Pympler-1.0.1-py3-none-any.whl (164 kB)\n",
      "Requirement already satisfied: python-dateutil in c:\\users\\bitcamp\\anaconda3\\envs\\nlp\\lib\\site-packages (from streamlit>=0.63->streamlit-chat) (2.8.2)\n",
      "Collecting tzlocal\n",
      "  Using cached tzlocal-4.2-py3-none-any.whl (19 kB)\n",
      "Requirement already satisfied: cachetools>=4.0 in c:\\users\\bitcamp\\anaconda3\\envs\\nlp\\lib\\site-packages (from streamlit>=0.63->streamlit-chat) (5.0.0)\n",
      "Collecting pydeck>=0.1.dev5\n",
      "  Using cached pydeck-0.7.1-py2.py3-none-any.whl (4.3 MB)\n",
      "Requirement already satisfied: attrs in c:\\users\\bitcamp\\anaconda3\\envs\\nlp\\lib\\site-packages (from streamlit>=0.63->streamlit-chat) (21.4.0)\n",
      "Requirement already satisfied: pillow>=6.2.0 in c:\\users\\bitcamp\\anaconda3\\envs\\nlp\\lib\\site-packages (from streamlit>=0.63->streamlit-chat) (9.1.1)\n",
      "Requirement already satisfied: jsonschema>=3.0 in c:\\users\\bitcamp\\anaconda3\\envs\\nlp\\lib\\site-packages (from altair>=3.2.0->streamlit>=0.63->streamlit-chat) (4.4.0)\n",
      "Collecting toolz\n",
      "  Downloading toolz-0.11.2-py3-none-any.whl (55 kB)\n",
      "Requirement already satisfied: entrypoints in c:\\users\\bitcamp\\anaconda3\\envs\\nlp\\lib\\site-packages (from altair>=3.2.0->streamlit>=0.63->streamlit-chat) (0.4)\n",
      "Requirement already satisfied: jinja2 in c:\\users\\bitcamp\\anaconda3\\envs\\nlp\\lib\\site-packages (from altair>=3.2.0->streamlit>=0.63->streamlit-chat) (3.1.1)\n",
      "Requirement already satisfied: colorama in c:\\users\\bitcamp\\anaconda3\\envs\\nlp\\lib\\site-packages (from click>=7.0->streamlit>=0.63->streamlit-chat) (0.4.4)\n",
      "Collecting gitdb<5,>=4.0.1\n",
      "  Using cached gitdb-4.0.9-py3-none-any.whl (63 kB)\n",
      "Collecting smmap<6,>=3.0.1\n",
      "  Using cached smmap-5.0.0-py3-none-any.whl (24 kB)\n",
      "Requirement already satisfied: zipp>=0.5 in c:\\users\\bitcamp\\anaconda3\\envs\\nlp\\lib\\site-packages (from importlib-metadata>=1.4->streamlit>=0.63->streamlit-chat) (3.8.0)\n",
      "Requirement already satisfied: pyrsistent!=0.17.0,!=0.17.1,!=0.17.2,>=0.14.0 in c:\\users\\bitcamp\\anaconda3\\envs\\nlp\\lib\\site-packages (from jsonschema>=3.0->altair>=3.2.0->streamlit>=0.63->streamlit-chat) (0.18.1)\n",
      "Requirement already satisfied: importlib-resources>=1.4.0 in c:\\users\\bitcamp\\anaconda3\\envs\\nlp\\lib\\site-packages (from jsonschema>=3.0->altair>=3.2.0->streamlit>=0.63->streamlit-chat) (5.6.0)\n",
      "Requirement already satisfied: pytz>=2017.3 in c:\\users\\bitcamp\\anaconda3\\envs\\nlp\\lib\\site-packages (from pandas>=0.21.0->streamlit>=0.63->streamlit-chat) (2022.1)\n",
      "Requirement already satisfied: ipykernel>=5.1.2 in c:\\users\\bitcamp\\anaconda3\\envs\\nlp\\lib\\site-packages (from pydeck>=0.1.dev5->streamlit>=0.63->streamlit-chat) (6.12.1)\n",
      "Requirement already satisfied: ipywidgets>=7.0.0 in c:\\users\\bitcamp\\anaconda3\\envs\\nlp\\lib\\site-packages (from pydeck>=0.1.dev5->streamlit>=0.63->streamlit-chat) (7.7.0)\n",
      "Requirement already satisfied: traitlets>=4.3.2 in c:\\users\\bitcamp\\anaconda3\\envs\\nlp\\lib\\site-packages (from pydeck>=0.1.dev5->streamlit>=0.63->streamlit-chat) (5.1.1)\n",
      "Requirement already satisfied: matplotlib-inline>=0.1 in c:\\users\\bitcamp\\anaconda3\\envs\\nlp\\lib\\site-packages (from ipykernel>=5.1.2->pydeck>=0.1.dev5->streamlit>=0.63->streamlit-chat) (0.1.3)\n",
      "Requirement already satisfied: psutil in c:\\users\\bitcamp\\anaconda3\\envs\\nlp\\lib\\site-packages (from ipykernel>=5.1.2->pydeck>=0.1.dev5->streamlit>=0.63->streamlit-chat) (5.9.0)\n",
      "Requirement already satisfied: debugpy>=1.0 in c:\\users\\bitcamp\\anaconda3\\envs\\nlp\\lib\\site-packages (from ipykernel>=5.1.2->pydeck>=0.1.dev5->streamlit>=0.63->streamlit-chat) (1.6.0)\n",
      "Requirement already satisfied: jupyter-client>=6.1.12 in c:\\users\\bitcamp\\anaconda3\\envs\\nlp\\lib\\site-packages (from ipykernel>=5.1.2->pydeck>=0.1.dev5->streamlit>=0.63->streamlit-chat) (7.2.2)\n",
      "Requirement already satisfied: nest-asyncio in c:\\users\\bitcamp\\anaconda3\\envs\\nlp\\lib\\site-packages (from ipykernel>=5.1.2->pydeck>=0.1.dev5->streamlit>=0.63->streamlit-chat) (1.5.5)\n",
      "Requirement already satisfied: ipython>=7.23.1 in c:\\users\\bitcamp\\anaconda3\\envs\\nlp\\lib\\site-packages (from ipykernel>=5.1.2->pydeck>=0.1.dev5->streamlit>=0.63->streamlit-chat) (7.32.0)\n",
      "Requirement already satisfied: decorator in c:\\users\\bitcamp\\anaconda3\\envs\\nlp\\lib\\site-packages (from ipython>=7.23.1->ipykernel>=5.1.2->pydeck>=0.1.dev5->streamlit>=0.63->streamlit-chat) (5.1.1)\n",
      "Requirement already satisfied: setuptools>=18.5 in c:\\users\\bitcamp\\anaconda3\\envs\\nlp\\lib\\site-packages (from ipython>=7.23.1->ipykernel>=5.1.2->pydeck>=0.1.dev5->streamlit>=0.63->streamlit-chat) (58.0.4)\n",
      "Requirement already satisfied: pickleshare in c:\\users\\bitcamp\\anaconda3\\envs\\nlp\\lib\\site-packages (from ipython>=7.23.1->ipykernel>=5.1.2->pydeck>=0.1.dev5->streamlit>=0.63->streamlit-chat) (0.7.5)\n",
      "Requirement already satisfied: pygments in c:\\users\\bitcamp\\anaconda3\\envs\\nlp\\lib\\site-packages (from ipython>=7.23.1->ipykernel>=5.1.2->pydeck>=0.1.dev5->streamlit>=0.63->streamlit-chat) (2.11.2)\n",
      "Requirement already satisfied: jedi>=0.16 in c:\\users\\bitcamp\\anaconda3\\envs\\nlp\\lib\\site-packages (from ipython>=7.23.1->ipykernel>=5.1.2->pydeck>=0.1.dev5->streamlit>=0.63->streamlit-chat) (0.18.1)\n",
      "Requirement already satisfied: prompt-toolkit!=3.0.0,!=3.0.1,<3.1.0,>=2.0.0 in c:\\users\\bitcamp\\anaconda3\\envs\\nlp\\lib\\site-packages (from ipython>=7.23.1->ipykernel>=5.1.2->pydeck>=0.1.dev5->streamlit>=0.63->streamlit-chat) (3.0.29)\n",
      "Requirement already satisfied: backcall in c:\\users\\bitcamp\\anaconda3\\envs\\nlp\\lib\\site-packages (from ipython>=7.23.1->ipykernel>=5.1.2->pydeck>=0.1.dev5->streamlit>=0.63->streamlit-chat) (0.2.0)\n",
      "Requirement already satisfied: ipython-genutils~=0.2.0 in c:\\users\\bitcamp\\anaconda3\\envs\\nlp\\lib\\site-packages (from ipywidgets>=7.0.0->pydeck>=0.1.dev5->streamlit>=0.63->streamlit-chat) (0.2.0)\n",
      "Requirement already satisfied: jupyterlab-widgets>=1.0.0 in c:\\users\\bitcamp\\anaconda3\\envs\\nlp\\lib\\site-packages (from ipywidgets>=7.0.0->pydeck>=0.1.dev5->streamlit>=0.63->streamlit-chat) (1.1.0)\n",
      "Requirement already satisfied: widgetsnbextension~=3.6.0 in c:\\users\\bitcamp\\anaconda3\\envs\\nlp\\lib\\site-packages (from ipywidgets>=7.0.0->pydeck>=0.1.dev5->streamlit>=0.63->streamlit-chat) (3.6.0)\n",
      "Requirement already satisfied: nbformat>=4.2.0 in c:\\users\\bitcamp\\anaconda3\\envs\\nlp\\lib\\site-packages (from ipywidgets>=7.0.0->pydeck>=0.1.dev5->streamlit>=0.63->streamlit-chat) (5.3.0)\n",
      "Requirement already satisfied: parso<0.9.0,>=0.8.0 in c:\\users\\bitcamp\\anaconda3\\envs\\nlp\\lib\\site-packages (from jedi>=0.16->ipython>=7.23.1->ipykernel>=5.1.2->pydeck>=0.1.dev5->streamlit>=0.63->streamlit-chat) (0.8.3)\n",
      "Requirement already satisfied: MarkupSafe>=2.0 in c:\\users\\bitcamp\\anaconda3\\envs\\nlp\\lib\\site-packages (from jinja2->altair>=3.2.0->streamlit>=0.63->streamlit-chat) (2.1.1)\n",
      "Requirement already satisfied: jupyter-core>=4.9.2 in c:\\users\\bitcamp\\anaconda3\\envs\\nlp\\lib\\site-packages (from jupyter-client>=6.1.12->ipykernel>=5.1.2->pydeck>=0.1.dev5->streamlit>=0.63->streamlit-chat) (4.9.2)\n",
      "Requirement already satisfied: pyzmq>=22.3 in c:\\users\\bitcamp\\anaconda3\\envs\\nlp\\lib\\site-packages (from jupyter-client>=6.1.12->ipykernel>=5.1.2->pydeck>=0.1.dev5->streamlit>=0.63->streamlit-chat) (22.3.0)\n",
      "Requirement already satisfied: pywin32>=1.0 in c:\\users\\bitcamp\\anaconda3\\envs\\nlp\\lib\\site-packages (from jupyter-core>=4.9.2->jupyter-client>=6.1.12->ipykernel>=5.1.2->pydeck>=0.1.dev5->streamlit>=0.63->streamlit-chat) (303)\n",
      "Requirement already satisfied: fastjsonschema in c:\\users\\bitcamp\\anaconda3\\envs\\nlp\\lib\\site-packages (from nbformat>=4.2.0->ipywidgets>=7.0.0->pydeck>=0.1.dev5->streamlit>=0.63->streamlit-chat) (2.15.3)\n",
      "Requirement already satisfied: wcwidth in c:\\users\\bitcamp\\anaconda3\\envs\\nlp\\lib\\site-packages (from prompt-toolkit!=3.0.0,!=3.0.1,<3.1.0,>=2.0.0->ipython>=7.23.1->ipykernel>=5.1.2->pydeck>=0.1.dev5->streamlit>=0.63->streamlit-chat) (0.2.5)\n",
      "Requirement already satisfied: six>=1.5 in c:\\users\\bitcamp\\anaconda3\\envs\\nlp\\lib\\site-packages (from python-dateutil->streamlit>=0.63->streamlit-chat) (1.16.0)\n",
      "Requirement already satisfied: notebook>=4.4.1 in c:\\users\\bitcamp\\anaconda3\\envs\\nlp\\lib\\site-packages (from widgetsnbextension~=3.6.0->ipywidgets>=7.0.0->pydeck>=0.1.dev5->streamlit>=0.63->streamlit-chat) (6.4.10)\n",
      "Requirement already satisfied: terminado>=0.8.3 in c:\\users\\bitcamp\\anaconda3\\envs\\nlp\\lib\\site-packages (from notebook>=4.4.1->widgetsnbextension~=3.6.0->ipywidgets>=7.0.0->pydeck>=0.1.dev5->streamlit>=0.63->streamlit-chat) (0.13.3)\n",
      "Requirement already satisfied: argon2-cffi in c:\\users\\bitcamp\\anaconda3\\envs\\nlp\\lib\\site-packages (from notebook>=4.4.1->widgetsnbextension~=3.6.0->ipywidgets>=7.0.0->pydeck>=0.1.dev5->streamlit>=0.63->streamlit-chat) (21.3.0)\n",
      "Requirement already satisfied: Send2Trash>=1.8.0 in c:\\users\\bitcamp\\anaconda3\\envs\\nlp\\lib\\site-packages (from notebook>=4.4.1->widgetsnbextension~=3.6.0->ipywidgets>=7.0.0->pydeck>=0.1.dev5->streamlit>=0.63->streamlit-chat) (1.8.0)\n",
      "Requirement already satisfied: nbconvert>=5 in c:\\users\\bitcamp\\anaconda3\\envs\\nlp\\lib\\site-packages (from notebook>=4.4.1->widgetsnbextension~=3.6.0->ipywidgets>=7.0.0->pydeck>=0.1.dev5->streamlit>=0.63->streamlit-chat) (6.4.5)\n",
      "Requirement already satisfied: prometheus-client in c:\\users\\bitcamp\\anaconda3\\envs\\nlp\\lib\\site-packages (from notebook>=4.4.1->widgetsnbextension~=3.6.0->ipywidgets>=7.0.0->pydeck>=0.1.dev5->streamlit>=0.63->streamlit-chat) (0.14.0)\n",
      "Requirement already satisfied: defusedxml in c:\\users\\bitcamp\\anaconda3\\envs\\nlp\\lib\\site-packages (from nbconvert>=5->notebook>=4.4.1->widgetsnbextension~=3.6.0->ipywidgets>=7.0.0->pydeck>=0.1.dev5->streamlit>=0.63->streamlit-chat) (0.7.1)\n",
      "Requirement already satisfied: beautifulsoup4 in c:\\users\\bitcamp\\anaconda3\\envs\\nlp\\lib\\site-packages (from nbconvert>=5->notebook>=4.4.1->widgetsnbextension~=3.6.0->ipywidgets>=7.0.0->pydeck>=0.1.dev5->streamlit>=0.63->streamlit-chat) (4.11.0)\n",
      "Requirement already satisfied: bleach in c:\\users\\bitcamp\\anaconda3\\envs\\nlp\\lib\\site-packages (from nbconvert>=5->notebook>=4.4.1->widgetsnbextension~=3.6.0->ipywidgets>=7.0.0->pydeck>=0.1.dev5->streamlit>=0.63->streamlit-chat) (5.0.0)\n",
      "Requirement already satisfied: nbclient<0.6.0,>=0.5.0 in c:\\users\\bitcamp\\anaconda3\\envs\\nlp\\lib\\site-packages (from nbconvert>=5->notebook>=4.4.1->widgetsnbextension~=3.6.0->ipywidgets>=7.0.0->pydeck>=0.1.dev5->streamlit>=0.63->streamlit-chat) (0.5.13)\n",
      "Requirement already satisfied: jupyterlab-pygments in c:\\users\\bitcamp\\anaconda3\\envs\\nlp\\lib\\site-packages (from nbconvert>=5->notebook>=4.4.1->widgetsnbextension~=3.6.0->ipywidgets>=7.0.0->pydeck>=0.1.dev5->streamlit>=0.63->streamlit-chat) (0.1.2)\n",
      "Requirement already satisfied: testpath in c:\\users\\bitcamp\\anaconda3\\envs\\nlp\\lib\\site-packages (from nbconvert>=5->notebook>=4.4.1->widgetsnbextension~=3.6.0->ipywidgets>=7.0.0->pydeck>=0.1.dev5->streamlit>=0.63->streamlit-chat) (0.6.0)\n",
      "Requirement already satisfied: pandocfilters>=1.4.1 in c:\\users\\bitcamp\\anaconda3\\envs\\nlp\\lib\\site-packages (from nbconvert>=5->notebook>=4.4.1->widgetsnbextension~=3.6.0->ipywidgets>=7.0.0->pydeck>=0.1.dev5->streamlit>=0.63->streamlit-chat) (1.5.0)\n",
      "Requirement already satisfied: mistune<2,>=0.8.1 in c:\\users\\bitcamp\\anaconda3\\envs\\nlp\\lib\\site-packages (from nbconvert>=5->notebook>=4.4.1->widgetsnbextension~=3.6.0->ipywidgets>=7.0.0->pydeck>=0.1.dev5->streamlit>=0.63->streamlit-chat) (0.8.4)\n",
      "Requirement already satisfied: pywinpty>=1.1.0 in c:\\users\\bitcamp\\anaconda3\\envs\\nlp\\lib\\site-packages (from terminado>=0.8.3->notebook>=4.4.1->widgetsnbextension~=3.6.0->ipywidgets>=7.0.0->pydeck>=0.1.dev5->streamlit>=0.63->streamlit-chat) (2.0.5)\n",
      "Requirement already satisfied: argon2-cffi-bindings in c:\\users\\bitcamp\\anaconda3\\envs\\nlp\\lib\\site-packages (from argon2-cffi->notebook>=4.4.1->widgetsnbextension~=3.6.0->ipywidgets>=7.0.0->pydeck>=0.1.dev5->streamlit>=0.63->streamlit-chat) (21.2.0)\n",
      "Requirement already satisfied: cffi>=1.0.1 in c:\\users\\bitcamp\\anaconda3\\envs\\nlp\\lib\\site-packages (from argon2-cffi-bindings->argon2-cffi->notebook>=4.4.1->widgetsnbextension~=3.6.0->ipywidgets>=7.0.0->pydeck>=0.1.dev5->streamlit>=0.63->streamlit-chat) (1.15.0)\n",
      "Requirement already satisfied: pycparser in c:\\users\\bitcamp\\anaconda3\\envs\\nlp\\lib\\site-packages (from cffi>=1.0.1->argon2-cffi-bindings->argon2-cffi->notebook>=4.4.1->widgetsnbextension~=3.6.0->ipywidgets>=7.0.0->pydeck>=0.1.dev5->streamlit>=0.63->streamlit-chat) (2.21)\n",
      "Requirement already satisfied: soupsieve>1.2 in c:\\users\\bitcamp\\anaconda3\\envs\\nlp\\lib\\site-packages (from beautifulsoup4->nbconvert>=5->notebook>=4.4.1->widgetsnbextension~=3.6.0->ipywidgets>=7.0.0->pydeck>=0.1.dev5->streamlit>=0.63->streamlit-chat) (2.3.2)\n",
      "Requirement already satisfied: webencodings in c:\\users\\bitcamp\\anaconda3\\envs\\nlp\\lib\\site-packages (from bleach->nbconvert>=5->notebook>=4.4.1->widgetsnbextension~=3.6.0->ipywidgets>=7.0.0->pydeck>=0.1.dev5->streamlit>=0.63->streamlit-chat) (0.5.1)\n",
      "Requirement already satisfied: pyparsing!=3.0.5,>=2.0.2 in c:\\users\\bitcamp\\anaconda3\\envs\\nlp\\lib\\site-packages (from packaging->streamlit>=0.63->streamlit-chat) (3.0.9)\n",
      "Requirement already satisfied: certifi>=2017.4.17 in c:\\users\\bitcamp\\anaconda3\\envs\\nlp\\lib\\site-packages (from requests->streamlit>=0.63->streamlit-chat) (2022.5.18.1)\n",
      "Requirement already satisfied: charset-normalizer~=2.0.0 in c:\\users\\bitcamp\\anaconda3\\envs\\nlp\\lib\\site-packages (from requests->streamlit>=0.63->streamlit-chat) (2.0.12)\n",
      "Requirement already satisfied: urllib3<1.27,>=1.21.1 in c:\\users\\bitcamp\\anaconda3\\envs\\nlp\\lib\\site-packages (from requests->streamlit>=0.63->streamlit-chat) (1.26.9)\n",
      "Requirement already satisfied: idna<4,>=2.5 in c:\\users\\bitcamp\\anaconda3\\envs\\nlp\\lib\\site-packages (from requests->streamlit>=0.63->streamlit-chat) (3.3)\n",
      "Collecting commonmark<0.10.0,>=0.9.0\n",
      "  Using cached commonmark-0.9.1-py2.py3-none-any.whl (51 kB)\n",
      "Collecting tzdata\n",
      "  Using cached tzdata-2022.1-py2.py3-none-any.whl (339 kB)\n",
      "Collecting pytz-deprecation-shim\n",
      "  Using cached pytz_deprecation_shim-0.1.0.post0-py2.py3-none-any.whl (15 kB)\n",
      "Collecting backports.zoneinfo\n",
      "  Downloading backports.zoneinfo-0.2.1-cp37-cp37m-win_amd64.whl (38 kB)\n",
      "Building wheels for collected packages: blinker, validators\n",
      "  Building wheel for blinker (setup.py): started\n",
      "  Building wheel for blinker (setup.py): finished with status 'done'\n",
      "  Created wheel for blinker: filename=blinker-1.4-py3-none-any.whl size=13478 sha256=1f76b5259ae94289af19d3e64754f9dc9cacd9c59e611e38db15d9fb25ddb45b\n",
      "  Stored in directory: c:\\users\\bitcamp\\appdata\\local\\pip\\cache\\wheels\\22\\f5\\18\\df711b66eb25b21325c132757d4314db9ac5e8dabeaf196eab\n",
      "  Building wheel for validators (setup.py): started\n",
      "  Building wheel for validators (setup.py): finished with status 'done'\n",
      "  Created wheel for validators: filename=validators-0.20.0-py3-none-any.whl size=19582 sha256=33105e8e7036fac0b5cc24240cd5ba98e281dc712e9a0896dc6bee4ceb6e789c\n",
      "  Stored in directory: c:\\users\\bitcamp\\appdata\\local\\pip\\cache\\wheels\\5f\\55\\ab\\36a76989f7f88d9ca7b1f68da6d94252bb6a8d6ad4f18e04e9\n",
      "Successfully built blinker validators\n",
      "Installing collected packages: tzdata, smmap, backports.zoneinfo, toolz, pytz-deprecation-shim, gitdb, commonmark, watchdog, validators, tzlocal, toml, semver, rich, pympler, pydeck, pyarrow, gitpython, blinker, altair, streamlit, streamlit-chat\n",
      "Successfully installed altair-4.2.0 backports.zoneinfo-0.2.1 blinker-1.4 commonmark-0.9.1 gitdb-4.0.9 gitpython-3.1.27 pyarrow-8.0.0 pydeck-0.7.1 pympler-1.0.1 pytz-deprecation-shim-0.1.0.post0 rich-12.4.4 semver-2.13.0 smmap-5.0.0 streamlit-1.10.0 streamlit-chat-0.0.1 toml-0.10.2 toolz-0.11.2 tzdata-2022.1 tzlocal-4.2 validators-0.20.0 watchdog-2.1.9\n"
     ]
    }
   ],
   "source": [
    "# !pip install streamlit-chat"
   ]
  },
  {
   "cell_type": "code",
   "execution_count": 38,
   "id": "a641a301",
   "metadata": {},
   "outputs": [
    {
     "name": "stderr",
     "output_type": "stream",
     "text": [
      "Cloning into 'ChatterBot'...\n"
     ]
    }
   ],
   "source": [
    "# !git clone https://github.com/gunthercox/ChatterBot.git"
   ]
  },
  {
   "cell_type": "code",
   "execution_count": 44,
   "id": "02209769",
   "metadata": {
    "collapsed": true
   },
   "outputs": [
    {
     "name": "stdout",
     "output_type": "stream",
     "text": [
      "Requirement already satisfied: chatterbot in c:\\users\\bitcamp\\anaconda3\\envs\\nlp\\lib\\site-packages (1.1.0a7)\n",
      "Requirement already satisfied: python-dateutil<2.9,>=2.8 in c:\\users\\bitcamp\\anaconda3\\envs\\nlp\\lib\\site-packages (from chatterbot) (2.8.2)\n",
      "Requirement already satisfied: mathparse<0.2,>=0.1 in c:\\users\\bitcamp\\anaconda3\\envs\\nlp\\lib\\site-packages (from chatterbot) (0.1.2)\n",
      "Requirement already satisfied: pytz in c:\\users\\bitcamp\\anaconda3\\envs\\nlp\\lib\\site-packages (from chatterbot) (2022.1)\n",
      "Requirement already satisfied: sqlalchemy<1.4,>=1.3 in c:\\users\\bitcamp\\anaconda3\\envs\\nlp\\lib\\site-packages (from chatterbot) (1.3.24)\n",
      "Requirement already satisfied: six>=1.5 in c:\\users\\bitcamp\\anaconda3\\envs\\nlp\\lib\\site-packages (from python-dateutil<2.9,>=2.8->chatterbot) (1.16.0)\n"
     ]
    }
   ],
   "source": [
    "# !pip install chatterbot --upgrade"
   ]
  },
  {
   "cell_type": "code",
   "execution_count": 54,
   "id": "3b6e0283",
   "metadata": {},
   "outputs": [
    {
     "name": "stdout",
     "output_type": "stream",
     "text": [
      "Requirement already satisfied: chatterbot_corpus in c:\\users\\bitcamp\\anaconda3\\envs\\nlp\\lib\\site-packages (1.2.0)\n",
      "Requirement already satisfied: PyYAML<4.0,>=3.12 in c:\\users\\bitcamp\\anaconda3\\envs\\nlp\\lib\\site-packages (from chatterbot_corpus) (3.13)\n"
     ]
    }
   ],
   "source": [
    "# !pip install chatterbot_corpus"
   ]
  },
  {
   "cell_type": "code",
   "execution_count": 55,
   "id": "c213cdc5",
   "metadata": {},
   "outputs": [
    {
     "name": "stdout",
     "output_type": "stream",
     "text": [
      "Requirement already satisfied: chatterbot_corpus in c:\\users\\bitcamp\\anaconda3\\envs\\nlp\\lib\\site-packages (1.2.0)\n",
      "Requirement already satisfied: PyYAML<4.0,>=3.12 in c:\\users\\bitcamp\\anaconda3\\envs\\nlp\\lib\\site-packages (from chatterbot_corpus) (3.13)\n"
     ]
    }
   ],
   "source": [
    "# !pip install chatterbot_corpus"
   ]
  },
  {
   "cell_type": "code",
   "execution_count": 52,
   "id": "4cb852f4",
   "metadata": {},
   "outputs": [
    {
     "ename": "OSError",
     "evalue": "[E050] Can't find model 'en_core_web_sm'. It doesn't seem to be a Python package or a valid path to a data directory.",
     "output_type": "error",
     "traceback": [
      "\u001b[1;31m---------------------------------------------------------------------------\u001b[0m",
      "\u001b[1;31mOSError\u001b[0m                                   Traceback (most recent call last)",
      "\u001b[1;32m~\\AppData\\Local\\Temp\\ipykernel_7176\\2168351347.py\u001b[0m in \u001b[0;36m<module>\u001b[1;34m\u001b[0m\n\u001b[0;32m      1\u001b[0m \u001b[1;32mfrom\u001b[0m \u001b[0mchatterbot\u001b[0m \u001b[1;32mimport\u001b[0m \u001b[0mChatBot\u001b[0m\u001b[1;33m\u001b[0m\u001b[1;33m\u001b[0m\u001b[0m\n\u001b[0;32m      2\u001b[0m \u001b[1;32mimport\u001b[0m \u001b[0mspacy\u001b[0m\u001b[1;33m\u001b[0m\u001b[1;33m\u001b[0m\u001b[0m\n\u001b[1;32m----> 3\u001b[1;33m \u001b[0mnlp\u001b[0m \u001b[1;33m=\u001b[0m \u001b[0mspacy\u001b[0m\u001b[1;33m.\u001b[0m\u001b[0mload\u001b[0m\u001b[1;33m(\u001b[0m\u001b[1;34m\"en_core_web_sm\"\u001b[0m\u001b[1;33m)\u001b[0m\u001b[1;33m\u001b[0m\u001b[1;33m\u001b[0m\u001b[0m\n\u001b[0m\u001b[0;32m      4\u001b[0m \u001b[1;31m# chatbot = ChatBot(\"Ron Obvious\")\u001b[0m\u001b[1;33m\u001b[0m\u001b[1;33m\u001b[0m\u001b[1;33m\u001b[0m\u001b[0m\n",
      "\u001b[1;32m~\\Anaconda3\\envs\\nlp\\lib\\site-packages\\spacy\\__init__.py\u001b[0m in \u001b[0;36mload\u001b[1;34m(name, vocab, disable, exclude, config)\u001b[0m\n\u001b[0;32m     50\u001b[0m     \"\"\"\n\u001b[0;32m     51\u001b[0m     return util.load_model(\n\u001b[1;32m---> 52\u001b[1;33m         \u001b[0mname\u001b[0m\u001b[1;33m,\u001b[0m \u001b[0mvocab\u001b[0m\u001b[1;33m=\u001b[0m\u001b[0mvocab\u001b[0m\u001b[1;33m,\u001b[0m \u001b[0mdisable\u001b[0m\u001b[1;33m=\u001b[0m\u001b[0mdisable\u001b[0m\u001b[1;33m,\u001b[0m \u001b[0mexclude\u001b[0m\u001b[1;33m=\u001b[0m\u001b[0mexclude\u001b[0m\u001b[1;33m,\u001b[0m \u001b[0mconfig\u001b[0m\u001b[1;33m=\u001b[0m\u001b[0mconfig\u001b[0m\u001b[1;33m\u001b[0m\u001b[1;33m\u001b[0m\u001b[0m\n\u001b[0m\u001b[0;32m     53\u001b[0m     )\n\u001b[0;32m     54\u001b[0m \u001b[1;33m\u001b[0m\u001b[0m\n",
      "\u001b[1;32m~\\Anaconda3\\envs\\nlp\\lib\\site-packages\\spacy\\util.py\u001b[0m in \u001b[0;36mload_model\u001b[1;34m(name, vocab, disable, exclude, config)\u001b[0m\n\u001b[0;32m    425\u001b[0m     \u001b[1;32mif\u001b[0m \u001b[0mname\u001b[0m \u001b[1;32min\u001b[0m \u001b[0mOLD_MODEL_SHORTCUTS\u001b[0m\u001b[1;33m:\u001b[0m\u001b[1;33m\u001b[0m\u001b[1;33m\u001b[0m\u001b[0m\n\u001b[0;32m    426\u001b[0m         \u001b[1;32mraise\u001b[0m \u001b[0mIOError\u001b[0m\u001b[1;33m(\u001b[0m\u001b[0mErrors\u001b[0m\u001b[1;33m.\u001b[0m\u001b[0mE941\u001b[0m\u001b[1;33m.\u001b[0m\u001b[0mformat\u001b[0m\u001b[1;33m(\u001b[0m\u001b[0mname\u001b[0m\u001b[1;33m=\u001b[0m\u001b[0mname\u001b[0m\u001b[1;33m,\u001b[0m \u001b[0mfull\u001b[0m\u001b[1;33m=\u001b[0m\u001b[0mOLD_MODEL_SHORTCUTS\u001b[0m\u001b[1;33m[\u001b[0m\u001b[0mname\u001b[0m\u001b[1;33m]\u001b[0m\u001b[1;33m)\u001b[0m\u001b[1;33m)\u001b[0m  \u001b[1;31m# type: ignore[index]\u001b[0m\u001b[1;33m\u001b[0m\u001b[1;33m\u001b[0m\u001b[0m\n\u001b[1;32m--> 427\u001b[1;33m     \u001b[1;32mraise\u001b[0m \u001b[0mIOError\u001b[0m\u001b[1;33m(\u001b[0m\u001b[0mErrors\u001b[0m\u001b[1;33m.\u001b[0m\u001b[0mE050\u001b[0m\u001b[1;33m.\u001b[0m\u001b[0mformat\u001b[0m\u001b[1;33m(\u001b[0m\u001b[0mname\u001b[0m\u001b[1;33m=\u001b[0m\u001b[0mname\u001b[0m\u001b[1;33m)\u001b[0m\u001b[1;33m)\u001b[0m\u001b[1;33m\u001b[0m\u001b[1;33m\u001b[0m\u001b[0m\n\u001b[0m\u001b[0;32m    428\u001b[0m \u001b[1;33m\u001b[0m\u001b[0m\n\u001b[0;32m    429\u001b[0m \u001b[1;33m\u001b[0m\u001b[0m\n",
      "\u001b[1;31mOSError\u001b[0m: [E050] Can't find model 'en_core_web_sm'. It doesn't seem to be a Python package or a valid path to a data directory."
     ]
    }
   ],
   "source": [
    "from chatterbot import ChatBot\n",
    "import spacy\n",
    "nlp = spacy.load(\"en_core_web_sm\")\n",
    "# chatbot = ChatBot(\"Ron Obvious\")"
   ]
  },
  {
   "cell_type": "code",
   "execution_count": 53,
   "id": "995d6836",
   "metadata": {},
   "outputs": [
    {
     "ename": "NameError",
     "evalue": "name 'Chatbot' is not defined",
     "output_type": "error",
     "traceback": [
      "\u001b[1;31m---------------------------------------------------------------------------\u001b[0m",
      "\u001b[1;31mNameError\u001b[0m                                 Traceback (most recent call last)",
      "\u001b[1;32m~\\AppData\\Local\\Temp\\ipykernel_7176\\1259361544.py\u001b[0m in \u001b[0;36m<module>\u001b[1;34m\u001b[0m\n\u001b[0;32m      3\u001b[0m \u001b[1;33m\u001b[0m\u001b[0m\n\u001b[0;32m      4\u001b[0m \u001b[1;31m#creating a new chatbot\u001b[0m\u001b[1;33m\u001b[0m\u001b[1;33m\u001b[0m\u001b[1;33m\u001b[0m\u001b[0m\n\u001b[1;32m----> 5\u001b[1;33m \u001b[0mchatbot\u001b[0m \u001b[1;33m=\u001b[0m \u001b[0mChatbot\u001b[0m\u001b[1;33m(\u001b[0m\u001b[1;34m'Edureka'\u001b[0m\u001b[1;33m)\u001b[0m\u001b[1;33m\u001b[0m\u001b[1;33m\u001b[0m\u001b[0m\n\u001b[0m\u001b[0;32m      6\u001b[0m \u001b[0mtrainer\u001b[0m \u001b[1;33m=\u001b[0m \u001b[0mListTrainer\u001b[0m\u001b[1;33m(\u001b[0m\u001b[0mchatbot\u001b[0m\u001b[1;33m)\u001b[0m\u001b[1;33m\u001b[0m\u001b[1;33m\u001b[0m\u001b[0m\n\u001b[0;32m      7\u001b[0m \u001b[0mtrainer\u001b[0m\u001b[1;33m.\u001b[0m\u001b[0mtrain\u001b[0m\u001b[1;33m(\u001b[0m\u001b[1;33m[\u001b[0m \u001b[1;34m'hi, can I help you find a course'\u001b[0m\u001b[1;33m,\u001b[0m \u001b[1;34m\"sure I'd love to find you a course\"\u001b[0m\u001b[1;33m,\u001b[0m \u001b[1;34m'your course have been selected'\u001b[0m\u001b[1;33m]\u001b[0m\u001b[1;33m)\u001b[0m\u001b[1;33m\u001b[0m\u001b[1;33m\u001b[0m\u001b[0m\n",
      "\u001b[1;31mNameError\u001b[0m: name 'Chatbot' is not defined"
     ]
    }
   ],
   "source": [
    "from chatterbot import ChatBot\n",
    "from chatterbot.trainers import ListTrainer\n",
    " \n",
    "#creating a new chatbot\n",
    "chatbot = Chatbot('Edureka')\n",
    "trainer = ListTrainer(chatbot)\n",
    "trainer.train([ 'hi, can I help you find a course', \"sure I'd love to find you a course\", 'your course have been selected'])\n",
    " \n",
    "#getting a response from the chatbot\n",
    "response = chatbot.get_response(\"I want a course\")\n",
    "print(response)"
   ]
  },
  {
   "cell_type": "code",
   "execution_count": 43,
   "id": "aaacfd17",
   "metadata": {},
   "outputs": [
    {
     "ename": "OSError",
     "evalue": "[E941] Can't find model 'en'. It looks like you're trying to load a model from a shortcut, which is obsolete as of spaCy v3.0. To load the model, use its full name instead:\n\nnlp = spacy.load(\"en_core_web_sm\")\n\nFor more details on the available models, see the models directory: https://spacy.io/models. If you want to create a blank model, use spacy.blank: nlp = spacy.blank(\"en\")",
     "output_type": "error",
     "traceback": [
      "\u001b[1;31m---------------------------------------------------------------------------\u001b[0m",
      "\u001b[1;31mOSError\u001b[0m                                   Traceback (most recent call last)",
      "\u001b[1;32m~\\AppData\\Local\\Temp\\ipykernel_7176\\3564313430.py\u001b[0m in \u001b[0;36m<module>\u001b[1;34m\u001b[0m\n\u001b[0;32m     16\u001b[0m \u001b[1;33m\u001b[0m\u001b[0m\n\u001b[0;32m     17\u001b[0m \u001b[1;31m# Create a new chat bot named Charlie\u001b[0m\u001b[1;33m\u001b[0m\u001b[1;33m\u001b[0m\u001b[1;33m\u001b[0m\u001b[0m\n\u001b[1;32m---> 18\u001b[1;33m \u001b[0mchatbot\u001b[0m \u001b[1;33m=\u001b[0m \u001b[0mChatBot\u001b[0m\u001b[1;33m(\u001b[0m\u001b[1;34m'Charlie'\u001b[0m\u001b[1;33m)\u001b[0m\u001b[1;33m\u001b[0m\u001b[1;33m\u001b[0m\u001b[0m\n\u001b[0m\u001b[0;32m     19\u001b[0m \u001b[1;31m# Create a new Trainer\u001b[0m\u001b[1;33m\u001b[0m\u001b[1;33m\u001b[0m\u001b[1;33m\u001b[0m\u001b[0m\n\u001b[0;32m     20\u001b[0m \u001b[0mtrainer\u001b[0m \u001b[1;33m=\u001b[0m \u001b[0mListTrainer\u001b[0m\u001b[1;33m(\u001b[0m\u001b[0mchatbot\u001b[0m\u001b[1;33m)\u001b[0m\u001b[1;33m\u001b[0m\u001b[1;33m\u001b[0m\u001b[0m\n",
      "\u001b[1;32m~\\Anaconda3\\envs\\nlp\\lib\\site-packages\\chatterbot\\chatterbot.py\u001b[0m in \u001b[0;36m__init__\u001b[1;34m(self, name, **kwargs)\u001b[0m\n\u001b[0;32m     26\u001b[0m         \u001b[0mself\u001b[0m\u001b[1;33m.\u001b[0m\u001b[0mlogic_adapters\u001b[0m \u001b[1;33m=\u001b[0m \u001b[1;33m[\u001b[0m\u001b[1;33m]\u001b[0m\u001b[1;33m\u001b[0m\u001b[1;33m\u001b[0m\u001b[0m\n\u001b[0;32m     27\u001b[0m \u001b[1;33m\u001b[0m\u001b[0m\n\u001b[1;32m---> 28\u001b[1;33m         \u001b[0mself\u001b[0m\u001b[1;33m.\u001b[0m\u001b[0mstorage\u001b[0m \u001b[1;33m=\u001b[0m \u001b[0mutils\u001b[0m\u001b[1;33m.\u001b[0m\u001b[0minitialize_class\u001b[0m\u001b[1;33m(\u001b[0m\u001b[0mstorage_adapter\u001b[0m\u001b[1;33m,\u001b[0m \u001b[1;33m**\u001b[0m\u001b[0mkwargs\u001b[0m\u001b[1;33m)\u001b[0m\u001b[1;33m\u001b[0m\u001b[1;33m\u001b[0m\u001b[0m\n\u001b[0m\u001b[0;32m     29\u001b[0m \u001b[1;33m\u001b[0m\u001b[0m\n\u001b[0;32m     30\u001b[0m         \u001b[0mprimary_search_algorithm\u001b[0m \u001b[1;33m=\u001b[0m \u001b[0mIndexedTextSearch\u001b[0m\u001b[1;33m(\u001b[0m\u001b[0mself\u001b[0m\u001b[1;33m,\u001b[0m \u001b[1;33m**\u001b[0m\u001b[0mkwargs\u001b[0m\u001b[1;33m)\u001b[0m\u001b[1;33m\u001b[0m\u001b[1;33m\u001b[0m\u001b[0m\n",
      "\u001b[1;32m~\\Anaconda3\\envs\\nlp\\lib\\site-packages\\chatterbot\\utils.py\u001b[0m in \u001b[0;36minitialize_class\u001b[1;34m(data, *args, **kwargs)\u001b[0m\n\u001b[0;32m     31\u001b[0m         \u001b[0mClass\u001b[0m \u001b[1;33m=\u001b[0m \u001b[0mimport_module\u001b[0m\u001b[1;33m(\u001b[0m\u001b[0mdata\u001b[0m\u001b[1;33m)\u001b[0m\u001b[1;33m\u001b[0m\u001b[1;33m\u001b[0m\u001b[0m\n\u001b[0;32m     32\u001b[0m \u001b[1;33m\u001b[0m\u001b[0m\n\u001b[1;32m---> 33\u001b[1;33m         \u001b[1;32mreturn\u001b[0m \u001b[0mClass\u001b[0m\u001b[1;33m(\u001b[0m\u001b[1;33m*\u001b[0m\u001b[0margs\u001b[0m\u001b[1;33m,\u001b[0m \u001b[1;33m**\u001b[0m\u001b[0mkwargs\u001b[0m\u001b[1;33m)\u001b[0m\u001b[1;33m\u001b[0m\u001b[1;33m\u001b[0m\u001b[0m\n\u001b[0m\u001b[0;32m     34\u001b[0m \u001b[1;33m\u001b[0m\u001b[0m\n\u001b[0;32m     35\u001b[0m \u001b[1;33m\u001b[0m\u001b[0m\n",
      "\u001b[1;32m~\\Anaconda3\\envs\\nlp\\lib\\site-packages\\chatterbot\\storage\\sql_storage.py\u001b[0m in \u001b[0;36m__init__\u001b[1;34m(self, **kwargs)\u001b[0m\n\u001b[0;32m     18\u001b[0m \u001b[1;33m\u001b[0m\u001b[0m\n\u001b[0;32m     19\u001b[0m     \u001b[1;32mdef\u001b[0m \u001b[0m__init__\u001b[0m\u001b[1;33m(\u001b[0m\u001b[0mself\u001b[0m\u001b[1;33m,\u001b[0m \u001b[1;33m**\u001b[0m\u001b[0mkwargs\u001b[0m\u001b[1;33m)\u001b[0m\u001b[1;33m:\u001b[0m\u001b[1;33m\u001b[0m\u001b[1;33m\u001b[0m\u001b[0m\n\u001b[1;32m---> 20\u001b[1;33m         \u001b[0msuper\u001b[0m\u001b[1;33m(\u001b[0m\u001b[1;33m)\u001b[0m\u001b[1;33m.\u001b[0m\u001b[0m__init__\u001b[0m\u001b[1;33m(\u001b[0m\u001b[1;33m**\u001b[0m\u001b[0mkwargs\u001b[0m\u001b[1;33m)\u001b[0m\u001b[1;33m\u001b[0m\u001b[1;33m\u001b[0m\u001b[0m\n\u001b[0m\u001b[0;32m     21\u001b[0m \u001b[1;33m\u001b[0m\u001b[0m\n\u001b[0;32m     22\u001b[0m         \u001b[1;32mfrom\u001b[0m \u001b[0msqlalchemy\u001b[0m \u001b[1;32mimport\u001b[0m \u001b[0mcreate_engine\u001b[0m\u001b[1;33m\u001b[0m\u001b[1;33m\u001b[0m\u001b[0m\n",
      "\u001b[1;32m~\\Anaconda3\\envs\\nlp\\lib\\site-packages\\chatterbot\\storage\\storage_adapter.py\u001b[0m in \u001b[0;36m__init__\u001b[1;34m(self, *args, **kwargs)\u001b[0m\n\u001b[0;32m     21\u001b[0m \u001b[1;33m\u001b[0m\u001b[0m\n\u001b[0;32m     22\u001b[0m         self.tagger = Tagger(language=kwargs.get(\n\u001b[1;32m---> 23\u001b[1;33m             \u001b[1;34m'tagger_language'\u001b[0m\u001b[1;33m,\u001b[0m \u001b[0mlanguages\u001b[0m\u001b[1;33m.\u001b[0m\u001b[0mENG\u001b[0m\u001b[1;33m\u001b[0m\u001b[1;33m\u001b[0m\u001b[0m\n\u001b[0m\u001b[0;32m     24\u001b[0m         ))\n\u001b[0;32m     25\u001b[0m \u001b[1;33m\u001b[0m\u001b[0m\n",
      "\u001b[1;32m~\\Anaconda3\\envs\\nlp\\lib\\site-packages\\chatterbot\\tagging.py\u001b[0m in \u001b[0;36m__init__\u001b[1;34m(self, language)\u001b[0m\n\u001b[0;32m     24\u001b[0m         \u001b[0mself\u001b[0m\u001b[1;33m.\u001b[0m\u001b[0mpunctuation_table\u001b[0m \u001b[1;33m=\u001b[0m \u001b[0mstr\u001b[0m\u001b[1;33m.\u001b[0m\u001b[0mmaketrans\u001b[0m\u001b[1;33m(\u001b[0m\u001b[0mdict\u001b[0m\u001b[1;33m.\u001b[0m\u001b[0mfromkeys\u001b[0m\u001b[1;33m(\u001b[0m\u001b[0mstring\u001b[0m\u001b[1;33m.\u001b[0m\u001b[0mpunctuation\u001b[0m\u001b[1;33m)\u001b[0m\u001b[1;33m)\u001b[0m\u001b[1;33m\u001b[0m\u001b[1;33m\u001b[0m\u001b[0m\n\u001b[0;32m     25\u001b[0m \u001b[1;33m\u001b[0m\u001b[0m\n\u001b[1;32m---> 26\u001b[1;33m         \u001b[0mself\u001b[0m\u001b[1;33m.\u001b[0m\u001b[0mnlp\u001b[0m \u001b[1;33m=\u001b[0m \u001b[0mspacy\u001b[0m\u001b[1;33m.\u001b[0m\u001b[0mload\u001b[0m\u001b[1;33m(\u001b[0m\u001b[0mself\u001b[0m\u001b[1;33m.\u001b[0m\u001b[0mlanguage\u001b[0m\u001b[1;33m.\u001b[0m\u001b[0mISO_639_1\u001b[0m\u001b[1;33m.\u001b[0m\u001b[0mlower\u001b[0m\u001b[1;33m(\u001b[0m\u001b[1;33m)\u001b[0m\u001b[1;33m)\u001b[0m\u001b[1;33m\u001b[0m\u001b[1;33m\u001b[0m\u001b[0m\n\u001b[0m\u001b[0;32m     27\u001b[0m \u001b[1;33m\u001b[0m\u001b[0m\n\u001b[0;32m     28\u001b[0m     \u001b[1;32mdef\u001b[0m \u001b[0mget_text_index_string\u001b[0m\u001b[1;33m(\u001b[0m\u001b[0mself\u001b[0m\u001b[1;33m,\u001b[0m \u001b[0mtext\u001b[0m\u001b[1;33m)\u001b[0m\u001b[1;33m:\u001b[0m\u001b[1;33m\u001b[0m\u001b[1;33m\u001b[0m\u001b[0m\n",
      "\u001b[1;32m~\\Anaconda3\\envs\\nlp\\lib\\site-packages\\spacy\\__init__.py\u001b[0m in \u001b[0;36mload\u001b[1;34m(name, vocab, disable, exclude, config)\u001b[0m\n\u001b[0;32m     50\u001b[0m     \"\"\"\n\u001b[0;32m     51\u001b[0m     return util.load_model(\n\u001b[1;32m---> 52\u001b[1;33m         \u001b[0mname\u001b[0m\u001b[1;33m,\u001b[0m \u001b[0mvocab\u001b[0m\u001b[1;33m=\u001b[0m\u001b[0mvocab\u001b[0m\u001b[1;33m,\u001b[0m \u001b[0mdisable\u001b[0m\u001b[1;33m=\u001b[0m\u001b[0mdisable\u001b[0m\u001b[1;33m,\u001b[0m \u001b[0mexclude\u001b[0m\u001b[1;33m=\u001b[0m\u001b[0mexclude\u001b[0m\u001b[1;33m,\u001b[0m \u001b[0mconfig\u001b[0m\u001b[1;33m=\u001b[0m\u001b[0mconfig\u001b[0m\u001b[1;33m\u001b[0m\u001b[1;33m\u001b[0m\u001b[0m\n\u001b[0m\u001b[0;32m     53\u001b[0m     )\n\u001b[0;32m     54\u001b[0m \u001b[1;33m\u001b[0m\u001b[0m\n",
      "\u001b[1;32m~\\Anaconda3\\envs\\nlp\\lib\\site-packages\\spacy\\util.py\u001b[0m in \u001b[0;36mload_model\u001b[1;34m(name, vocab, disable, exclude, config)\u001b[0m\n\u001b[0;32m    424\u001b[0m         \u001b[1;32mreturn\u001b[0m \u001b[0mload_model_from_path\u001b[0m\u001b[1;33m(\u001b[0m\u001b[0mname\u001b[0m\u001b[1;33m,\u001b[0m \u001b[1;33m**\u001b[0m\u001b[0mkwargs\u001b[0m\u001b[1;33m)\u001b[0m  \u001b[1;31m# type: ignore[arg-type]\u001b[0m\u001b[1;33m\u001b[0m\u001b[1;33m\u001b[0m\u001b[0m\n\u001b[0;32m    425\u001b[0m     \u001b[1;32mif\u001b[0m \u001b[0mname\u001b[0m \u001b[1;32min\u001b[0m \u001b[0mOLD_MODEL_SHORTCUTS\u001b[0m\u001b[1;33m:\u001b[0m\u001b[1;33m\u001b[0m\u001b[1;33m\u001b[0m\u001b[0m\n\u001b[1;32m--> 426\u001b[1;33m         \u001b[1;32mraise\u001b[0m \u001b[0mIOError\u001b[0m\u001b[1;33m(\u001b[0m\u001b[0mErrors\u001b[0m\u001b[1;33m.\u001b[0m\u001b[0mE941\u001b[0m\u001b[1;33m.\u001b[0m\u001b[0mformat\u001b[0m\u001b[1;33m(\u001b[0m\u001b[0mname\u001b[0m\u001b[1;33m=\u001b[0m\u001b[0mname\u001b[0m\u001b[1;33m,\u001b[0m \u001b[0mfull\u001b[0m\u001b[1;33m=\u001b[0m\u001b[0mOLD_MODEL_SHORTCUTS\u001b[0m\u001b[1;33m[\u001b[0m\u001b[0mname\u001b[0m\u001b[1;33m]\u001b[0m\u001b[1;33m)\u001b[0m\u001b[1;33m)\u001b[0m  \u001b[1;31m# type: ignore[index]\u001b[0m\u001b[1;33m\u001b[0m\u001b[1;33m\u001b[0m\u001b[0m\n\u001b[0m\u001b[0;32m    427\u001b[0m     \u001b[1;32mraise\u001b[0m \u001b[0mIOError\u001b[0m\u001b[1;33m(\u001b[0m\u001b[0mErrors\u001b[0m\u001b[1;33m.\u001b[0m\u001b[0mE050\u001b[0m\u001b[1;33m.\u001b[0m\u001b[0mformat\u001b[0m\u001b[1;33m(\u001b[0m\u001b[0mname\u001b[0m\u001b[1;33m=\u001b[0m\u001b[0mname\u001b[0m\u001b[1;33m)\u001b[0m\u001b[1;33m)\u001b[0m\u001b[1;33m\u001b[0m\u001b[1;33m\u001b[0m\u001b[0m\n\u001b[0;32m    428\u001b[0m \u001b[1;33m\u001b[0m\u001b[0m\n",
      "\u001b[1;31mOSError\u001b[0m: [E941] Can't find model 'en'. It looks like you're trying to load a model from a shortcut, which is obsolete as of spaCy v3.0. To load the model, use its full name instead:\n\nnlp = spacy.load(\"en_core_web_sm\")\n\nFor more details on the available models, see the models directory: https://spacy.io/models. If you want to create a blank model, use spacy.blank: nlp = spacy.blank(\"en\")"
     ]
    }
   ],
   "source": [
    "from chatterbot import ChatBot\n",
    "from chatterbot.trainers import ListTrainer\n",
    "\n",
    "conversation = [\n",
    "     \"Hello\",\n",
    "     \"Hi there!\",\n",
    "     \"How are you doing?\",\n",
    "     \"I'm doing great.\",\n",
    "     \"That is good to hear\",\n",
    "     \"Thank you.\",\n",
    "     \"You're welcome.\",\n",
    "     \"Hi, can I help you?\",\n",
    "     \"Sure, I'd like to book a flight to Iceland.\",\n",
    "     \"Your flight has been booked.\"\n",
    " ]\n",
    "\n",
    "# Create a new chat bot named Charlie\n",
    "chatbot = ChatBot('Charlie')\n",
    "# Create a new Trainer\n",
    "trainer = ListTrainer(chatbot)\n",
    "\n",
    "trainer.train(conversation)\n",
    "# Get a response to the input text 'Good morning.'\n",
    "response = chatbot.get_response(\"Good morning!\")\n",
    "print(response)\n",
    "# Get a response to the input text 'I would like to book a flight.'\n",
    "response = chatbot.get_response('I would like to book a flight.')\n",
    "print(response)"
   ]
  },
  {
   "cell_type": "code",
   "execution_count": null,
   "id": "625c12a0",
   "metadata": {},
   "outputs": [],
   "source": []
  },
  {
   "cell_type": "code",
   "execution_count": null,
   "id": "7784d641",
   "metadata": {},
   "outputs": [],
   "source": []
  },
  {
   "cell_type": "code",
   "execution_count": null,
   "id": "ae8ae271",
   "metadata": {},
   "outputs": [],
   "source": []
  },
  {
   "cell_type": "code",
   "execution_count": null,
   "id": "002240cf",
   "metadata": {},
   "outputs": [],
   "source": []
  },
  {
   "cell_type": "code",
   "execution_count": null,
   "id": "8c6065e5",
   "metadata": {},
   "outputs": [],
   "source": []
  },
  {
   "cell_type": "code",
   "execution_count": null,
   "id": "8c7e638f",
   "metadata": {},
   "outputs": [],
   "source": []
  },
  {
   "cell_type": "code",
   "execution_count": null,
   "id": "6cb4cc66",
   "metadata": {},
   "outputs": [],
   "source": []
  },
  {
   "cell_type": "code",
   "execution_count": null,
   "id": "e55e03ca",
   "metadata": {},
   "outputs": [],
   "source": []
  },
  {
   "cell_type": "code",
   "execution_count": null,
   "id": "fc38fdcf",
   "metadata": {},
   "outputs": [],
   "source": []
  },
  {
   "cell_type": "code",
   "execution_count": null,
   "id": "870d0d89",
   "metadata": {},
   "outputs": [],
   "source": []
  },
  {
   "cell_type": "code",
   "execution_count": null,
   "id": "6782ed19",
   "metadata": {},
   "outputs": [],
   "source": []
  },
  {
   "cell_type": "code",
   "execution_count": null,
   "id": "859159fa",
   "metadata": {},
   "outputs": [],
   "source": []
  },
  {
   "cell_type": "code",
   "execution_count": null,
   "id": "1f92282a",
   "metadata": {},
   "outputs": [],
   "source": []
  }
 ],
 "metadata": {
  "kernelspec": {
   "display_name": "Python 3 (ipykernel)",
   "language": "python",
   "name": "python3"
  },
  "language_info": {
   "codemirror_mode": {
    "name": "ipython",
    "version": 3
   },
   "file_extension": ".py",
   "mimetype": "text/x-python",
   "name": "python",
   "nbconvert_exporter": "python",
   "pygments_lexer": "ipython3",
   "version": "3.7.13"
  },
  "toc": {
   "base_numbering": 1,
   "nav_menu": {},
   "number_sections": true,
   "sideBar": true,
   "skip_h1_title": false,
   "title_cell": "Table of Contents",
   "title_sidebar": "Contents",
   "toc_cell": false,
   "toc_position": {},
   "toc_section_display": true,
   "toc_window_display": false
  },
  "varInspector": {
   "cols": {
    "lenName": 16,
    "lenType": 16,
    "lenVar": 40
   },
   "kernels_config": {
    "python": {
     "delete_cmd_postfix": "",
     "delete_cmd_prefix": "del ",
     "library": "var_list.py",
     "varRefreshCmd": "print(var_dic_list())"
    },
    "r": {
     "delete_cmd_postfix": ") ",
     "delete_cmd_prefix": "rm(",
     "library": "var_list.r",
     "varRefreshCmd": "cat(var_dic_list()) "
    }
   },
   "types_to_exclude": [
    "module",
    "function",
    "builtin_function_or_method",
    "instance",
    "_Feature"
   ],
   "window_display": false
  }
 },
 "nbformat": 4,
 "nbformat_minor": 5
}
