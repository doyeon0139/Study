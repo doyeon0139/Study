{
 "cells": [
  {
   "cell_type": "code",
   "execution_count": null,
   "id": "a480e862",
   "metadata": {},
   "outputs": [],
   "source": [
    "# seoul_weather.csv\n",
    "# 8월의 최고기온을 추출해서 라인그래프로 그리시오\n",
    "# 매년 8월 중에 최고기온 하나를 뽑아서 라인 차트로 그리시오 \n",
    "# 지구온난화 여부확인을 위해 매년 평균기온의 line차트를 그리시오\n",
    "# 1~12월 사이 각 월의 일평균기온의 bax chart를 그리시오\n"
   ]
  },
  {
   "cell_type": "code",
   "execution_count": null,
   "id": "777642b7",
   "metadata": {},
   "outputs": [],
   "source": [
    "# 01. CCTV_in_Seoul.csv\n",
    "# CCTV 수를 기준으로 구를 정렬하시오\n",
    "# 2016년도에 cctv 수 증가율이 높은 상위 5개 구 출력\n",
    "# 인구당 cctv 수가 가장 높은 구 상위 5개 출력\n",
    "# 인구수, 외국인비율, 고령자 비율 중에서 인구당 cctv 수에 가장 큰 영향을 미치는 요소는 무엇인가\n"
   ]
  },
  {
   "cell_type": "code",
   "execution_count": null,
   "id": "b9426c0d",
   "metadata": {},
   "outputs": [],
   "source": [
    "# data_study/subwaytime.csv\n",
    "# 출근시간에 승차인원이 가장 많은 역과 하차인원이 가장 많은 역을 출력하시오? ( 7시 ~ 9시)\n",
    "# 전체 시간에서 승차 인원이 가장 많은 역은?\n",
    "# 퇴근 시간에 하차인원이 가장 많은 역.. (pm 7:00 ~ 10:00)\n",
    "# 신림역의 퇴근시간 이용자 수?"
   ]
  },
  {
   "cell_type": "code",
   "execution_count": 1,
   "id": "9e1957a7",
   "metadata": {},
   "outputs": [],
   "source": [
    "import pandas as pd\n",
    "import numpy as np\n",
    "from datetime import datetime, timedelta\n",
    "\n",
    "import pandas as pd\n",
    "import numpy as np\n",
    "import matplotlib.pyplot as plt\n",
    "import seaborn as sns\n",
    "\n",
    "import warnings\n",
    "warnings.filterwarnings(action='ignore')\n",
    "\n",
    "import matplotlib as mpl\n",
    "import matplotlib.font_manager as fm\n",
    "\n",
    "mpl.rcParams['axes.unicode_minus'] = False\n",
    "\n",
    "path = 'C:/Windows/Fonts/malgun.ttf'\n",
    "font_name = fm.FontProperties(fname=path, size=50).get_name()\n",
    "plt.rc('font', family=font_name)"
   ]
  },
  {
   "cell_type": "code",
   "execution_count": 4,
   "id": "bdd9984c",
   "metadata": {},
   "outputs": [],
   "source": [
    "# seoul_weather.csv\n",
    "tt = pd.read_csv('./data_study/seoul_weather.csv', encoding='cp949', skiprows=11)\n",
    "tt = pd.DataFrame(tt)"
   ]
  },
  {
   "cell_type": "code",
   "execution_count": 6,
   "id": "adf61c13",
   "metadata": {},
   "outputs": [
    {
     "data": {
      "text/html": [
       "<div>\n",
       "<style scoped>\n",
       "    .dataframe tbody tr th:only-of-type {\n",
       "        vertical-align: middle;\n",
       "    }\n",
       "\n",
       "    .dataframe tbody tr th {\n",
       "        vertical-align: top;\n",
       "    }\n",
       "\n",
       "    .dataframe thead th {\n",
       "        text-align: right;\n",
       "    }\n",
       "</style>\n",
       "<table border=\"1\" class=\"dataframe\">\n",
       "  <thead>\n",
       "    <tr style=\"text-align: right;\">\n",
       "      <th></th>\n",
       "      <th>\\t\\t지점번호</th>\n",
       "      <th>지점명</th>\n",
       "      <th>일시</th>\n",
       "      <th>평균기온(℃)</th>\n",
       "      <th>최고기온(℃)</th>\n",
       "      <th>\\t최고기온시각</th>\n",
       "      <th>최저기온(℃)</th>\n",
       "      <th>최저기온시각</th>\n",
       "    </tr>\n",
       "  </thead>\n",
       "  <tbody>\n",
       "    <tr>\n",
       "      <th>0</th>\n",
       "      <td>108</td>\n",
       "      <td>서울</td>\n",
       "      <td>1907-10-01</td>\n",
       "      <td>13.5</td>\n",
       "      <td>20.7</td>\n",
       "      <td>NaN</td>\n",
       "      <td>7.9</td>\n",
       "      <td>NaN</td>\n",
       "    </tr>\n",
       "    <tr>\n",
       "      <th>1</th>\n",
       "      <td>108</td>\n",
       "      <td>서울</td>\n",
       "      <td>1907-10-02</td>\n",
       "      <td>16.2</td>\n",
       "      <td>22.0</td>\n",
       "      <td>NaN</td>\n",
       "      <td>7.9</td>\n",
       "      <td>NaN</td>\n",
       "    </tr>\n",
       "    <tr>\n",
       "      <th>2</th>\n",
       "      <td>108</td>\n",
       "      <td>서울</td>\n",
       "      <td>1907-10-03</td>\n",
       "      <td>16.2</td>\n",
       "      <td>21.3</td>\n",
       "      <td>NaN</td>\n",
       "      <td>13.1</td>\n",
       "      <td>NaN</td>\n",
       "    </tr>\n",
       "  </tbody>\n",
       "</table>\n",
       "</div>"
      ],
      "text/plain": [
       "   \\t\\t지점번호 지점명          일시  평균기온(℃)  최고기온(℃) \\t최고기온시각  최저기온(℃) 최저기온시각\n",
       "0       108  서울  1907-10-01     13.5     20.7      NaN      7.9    NaN\n",
       "1       108  서울  1907-10-02     16.2     22.0      NaN      7.9    NaN\n",
       "2       108  서울  1907-10-03     16.2     21.3      NaN     13.1    NaN"
      ]
     },
     "execution_count": 6,
     "metadata": {},
     "output_type": "execute_result"
    }
   ],
   "source": [
    "tt.head(3)"
   ]
  },
  {
   "cell_type": "code",
   "execution_count": 13,
   "id": "9c53cbde",
   "metadata": {
    "collapsed": true
   },
   "outputs": [
    {
     "data": {
      "text/html": [
       "<div>\n",
       "<style scoped>\n",
       "    .dataframe tbody tr th:only-of-type {\n",
       "        vertical-align: middle;\n",
       "    }\n",
       "\n",
       "    .dataframe tbody tr th {\n",
       "        vertical-align: top;\n",
       "    }\n",
       "\n",
       "    .dataframe thead th {\n",
       "        text-align: right;\n",
       "    }\n",
       "</style>\n",
       "<table border=\"1\" class=\"dataframe\">\n",
       "  <thead>\n",
       "    <tr style=\"text-align: right;\">\n",
       "      <th></th>\n",
       "      <th>\\t\\t지점번호</th>\n",
       "      <th>지점명</th>\n",
       "      <th>일시</th>\n",
       "      <th>평균기온(℃)</th>\n",
       "      <th>최고기온(℃)</th>\n",
       "      <th>최저기온(℃)</th>\n",
       "    </tr>\n",
       "  </thead>\n",
       "  <tbody>\n",
       "    <tr>\n",
       "      <th>0</th>\n",
       "      <td>108</td>\n",
       "      <td>서울</td>\n",
       "      <td>1907-10-01</td>\n",
       "      <td>13.5</td>\n",
       "      <td>20.7</td>\n",
       "      <td>7.9</td>\n",
       "    </tr>\n",
       "    <tr>\n",
       "      <th>1</th>\n",
       "      <td>108</td>\n",
       "      <td>서울</td>\n",
       "      <td>1907-10-02</td>\n",
       "      <td>16.2</td>\n",
       "      <td>22.0</td>\n",
       "      <td>7.9</td>\n",
       "    </tr>\n",
       "    <tr>\n",
       "      <th>2</th>\n",
       "      <td>108</td>\n",
       "      <td>서울</td>\n",
       "      <td>1907-10-03</td>\n",
       "      <td>16.2</td>\n",
       "      <td>21.3</td>\n",
       "      <td>13.1</td>\n",
       "    </tr>\n",
       "  </tbody>\n",
       "</table>\n",
       "</div>"
      ],
      "text/plain": [
       "   \\t\\t지점번호 지점명          일시  평균기온(℃)  최고기온(℃)  최저기온(℃)\n",
       "0       108  서울  1907-10-01     13.5     20.7      7.9\n",
       "1       108  서울  1907-10-02     16.2     22.0      7.9\n",
       "2       108  서울  1907-10-03     16.2     21.3     13.1"
      ]
     },
     "execution_count": 13,
     "metadata": {},
     "output_type": "execute_result"
    }
   ],
   "source": [
    "tt.drop(['\\t최고기온시각','최저기온시각'], axis=1, inplace=True)\n",
    "tt.head(3)"
   ]
  },
  {
   "cell_type": "code",
   "execution_count": 14,
   "id": "f46b44bc",
   "metadata": {
    "collapsed": true
   },
   "outputs": [
    {
     "data": {
      "text/html": [
       "<div>\n",
       "<style scoped>\n",
       "    .dataframe tbody tr th:only-of-type {\n",
       "        vertical-align: middle;\n",
       "    }\n",
       "\n",
       "    .dataframe tbody tr th {\n",
       "        vertical-align: top;\n",
       "    }\n",
       "\n",
       "    .dataframe thead th {\n",
       "        text-align: right;\n",
       "    }\n",
       "</style>\n",
       "<table border=\"1\" class=\"dataframe\">\n",
       "  <thead>\n",
       "    <tr style=\"text-align: right;\">\n",
       "      <th></th>\n",
       "      <th>지점번호</th>\n",
       "      <th>지점명</th>\n",
       "      <th>일시</th>\n",
       "      <th>평온</th>\n",
       "      <th>고온</th>\n",
       "      <th>저온</th>\n",
       "    </tr>\n",
       "  </thead>\n",
       "  <tbody>\n",
       "    <tr>\n",
       "      <th>0</th>\n",
       "      <td>108</td>\n",
       "      <td>서울</td>\n",
       "      <td>1907-10-01</td>\n",
       "      <td>13.5</td>\n",
       "      <td>20.7</td>\n",
       "      <td>7.9</td>\n",
       "    </tr>\n",
       "    <tr>\n",
       "      <th>1</th>\n",
       "      <td>108</td>\n",
       "      <td>서울</td>\n",
       "      <td>1907-10-02</td>\n",
       "      <td>16.2</td>\n",
       "      <td>22.0</td>\n",
       "      <td>7.9</td>\n",
       "    </tr>\n",
       "    <tr>\n",
       "      <th>2</th>\n",
       "      <td>108</td>\n",
       "      <td>서울</td>\n",
       "      <td>1907-10-03</td>\n",
       "      <td>16.2</td>\n",
       "      <td>21.3</td>\n",
       "      <td>13.1</td>\n",
       "    </tr>\n",
       "  </tbody>\n",
       "</table>\n",
       "</div>"
      ],
      "text/plain": [
       "   지점번호 지점명          일시    평온    고온    저온\n",
       "0   108  서울  1907-10-01  13.5  20.7   7.9\n",
       "1   108  서울  1907-10-02  16.2  22.0   7.9\n",
       "2   108  서울  1907-10-03  16.2  21.3  13.1"
      ]
     },
     "execution_count": 14,
     "metadata": {},
     "output_type": "execute_result"
    }
   ],
   "source": [
    "tt.columns='지점번호','지점명','일시','평온','고온','저온'\n",
    "tt.head(3)"
   ]
  },
  {
   "cell_type": "code",
   "execution_count": 16,
   "id": "f6a4d400",
   "metadata": {},
   "outputs": [],
   "source": [
    "tt.drop('지점번호', axis=1, inplace=True)"
   ]
  },
  {
   "cell_type": "code",
   "execution_count": 17,
   "id": "023d186f",
   "metadata": {},
   "outputs": [
    {
     "data": {
      "text/html": [
       "<div>\n",
       "<style scoped>\n",
       "    .dataframe tbody tr th:only-of-type {\n",
       "        vertical-align: middle;\n",
       "    }\n",
       "\n",
       "    .dataframe tbody tr th {\n",
       "        vertical-align: top;\n",
       "    }\n",
       "\n",
       "    .dataframe thead th {\n",
       "        text-align: right;\n",
       "    }\n",
       "</style>\n",
       "<table border=\"1\" class=\"dataframe\">\n",
       "  <thead>\n",
       "    <tr style=\"text-align: right;\">\n",
       "      <th></th>\n",
       "      <th>지점명</th>\n",
       "      <th>일시</th>\n",
       "      <th>평온</th>\n",
       "      <th>고온</th>\n",
       "      <th>저온</th>\n",
       "    </tr>\n",
       "  </thead>\n",
       "  <tbody>\n",
       "    <tr>\n",
       "      <th>0</th>\n",
       "      <td>서울</td>\n",
       "      <td>1907-10-01</td>\n",
       "      <td>13.5</td>\n",
       "      <td>20.7</td>\n",
       "      <td>7.9</td>\n",
       "    </tr>\n",
       "    <tr>\n",
       "      <th>1</th>\n",
       "      <td>서울</td>\n",
       "      <td>1907-10-02</td>\n",
       "      <td>16.2</td>\n",
       "      <td>22.0</td>\n",
       "      <td>7.9</td>\n",
       "    </tr>\n",
       "    <tr>\n",
       "      <th>2</th>\n",
       "      <td>서울</td>\n",
       "      <td>1907-10-03</td>\n",
       "      <td>16.2</td>\n",
       "      <td>21.3</td>\n",
       "      <td>13.1</td>\n",
       "    </tr>\n",
       "  </tbody>\n",
       "</table>\n",
       "</div>"
      ],
      "text/plain": [
       "  지점명          일시    평온    고온    저온\n",
       "0  서울  1907-10-01  13.5  20.7   7.9\n",
       "1  서울  1907-10-02  16.2  22.0   7.9\n",
       "2  서울  1907-10-03  16.2  21.3  13.1"
      ]
     },
     "execution_count": 17,
     "metadata": {},
     "output_type": "execute_result"
    }
   ],
   "source": [
    "tt.head(3)"
   ]
  },
  {
   "cell_type": "code",
   "execution_count": 18,
   "id": "5d8bcbaf",
   "metadata": {
    "collapsed": true
   },
   "outputs": [
    {
     "name": "stdout",
     "output_type": "stream",
     "text": [
      "<class 'pandas.core.frame.DataFrame'>\n",
      "RangeIndex: 40488 entries, 0 to 40487\n",
      "Data columns (total 5 columns):\n",
      " #   Column  Non-Null Count  Dtype         \n",
      "---  ------  --------------  -----         \n",
      " 0   지점명     40488 non-null  object        \n",
      " 1   일시      40488 non-null  datetime64[ns]\n",
      " 2   평온      39732 non-null  float64       \n",
      " 3   고온      39730 non-null  float64       \n",
      " 4   저온      39731 non-null  float64       \n",
      "dtypes: datetime64[ns](1), float64(3), object(1)\n",
      "memory usage: 1.5+ MB\n"
     ]
    }
   ],
   "source": [
    "tt['일시']=pd.to_datetime(tt['일시'])\n",
    "tt.info()"
   ]
  },
  {
   "cell_type": "code",
   "execution_count": 21,
   "id": "13b1a731",
   "metadata": {
    "collapsed": true
   },
   "outputs": [
    {
     "data": {
      "text/plain": [
       "0         1\n",
       "1         2\n",
       "2         3\n",
       "3         4\n",
       "4         5\n",
       "         ..\n",
       "40483     7\n",
       "40484     8\n",
       "40485     9\n",
       "40486    10\n",
       "40487    11\n",
       "Name: 일시, Length: 40488, dtype: int64"
      ]
     },
     "execution_count": 21,
     "metadata": {},
     "output_type": "execute_result"
    }
   ],
   "source": [
    "tt['일시'].dt.day"
   ]
  },
  {
   "cell_type": "code",
   "execution_count": 32,
   "id": "041324f9",
   "metadata": {},
   "outputs": [
    {
     "data": {
      "text/plain": [
       "<AxesSubplot:>"
      ]
     },
     "execution_count": 32,
     "metadata": {},
     "output_type": "execute_result"
    },
    {
     "data": {
      "image/png": "[encoded data removed]",
      "text/plain": [
       "<Figure size 1080x216 with 1 Axes>"
      ]
     },
     "metadata": {
      "needs_background": "light"
     },
     "output_type": "display_data"
    }
   ],
   "source": [
    "# 8월의 최고기온을 추출해서 라인그래프로 그리시오\n",
    "tt[tt['일시'].dt.month==8]['고온'].plot(figsize=(15,3))"
   ]
  },
  {
   "cell_type": "code",
   "execution_count": 33,
   "id": "44640724",
   "metadata": {},
   "outputs": [
    {
     "data": {
      "text/plain": [
       "<AxesSubplot:ylabel='Frequency'>"
      ]
     },
     "execution_count": 33,
     "metadata": {},
     "output_type": "execute_result"
    },
    {
     "data": {
      "image/png": "[encoded data removed]",
      "text/plain": [
       "<Figure size 1080x216 with 1 Axes>"
      ]
     },
     "metadata": {
      "needs_background": "light"
     },
     "output_type": "display_data"
    }
   ],
   "source": [
    "tt[tt['일시'].dt.month==8]['고온'].plot(kind='hist', bins=30, figsize=(15,3))"
   ]
  },
  {
   "cell_type": "code",
   "execution_count": 34,
   "id": "64a4daa7",
   "metadata": {},
   "outputs": [
    {
     "data": {
      "text/html": [
       "<div>\n",
       "<style scoped>\n",
       "    .dataframe tbody tr th:only-of-type {\n",
       "        vertical-align: middle;\n",
       "    }\n",
       "\n",
       "    .dataframe tbody tr th {\n",
       "        vertical-align: top;\n",
       "    }\n",
       "\n",
       "    .dataframe thead th {\n",
       "        text-align: right;\n",
       "    }\n",
       "</style>\n",
       "<table border=\"1\" class=\"dataframe\">\n",
       "  <thead>\n",
       "    <tr style=\"text-align: right;\">\n",
       "      <th></th>\n",
       "      <th>지점명</th>\n",
       "      <th>일시</th>\n",
       "      <th>평온</th>\n",
       "      <th>고온</th>\n",
       "      <th>저온</th>\n",
       "      <th>year</th>\n",
       "    </tr>\n",
       "  </thead>\n",
       "  <tbody>\n",
       "    <tr>\n",
       "      <th>0</th>\n",
       "      <td>서울</td>\n",
       "      <td>1907-10-01</td>\n",
       "      <td>13.5</td>\n",
       "      <td>20.7</td>\n",
       "      <td>7.9</td>\n",
       "      <td>1907</td>\n",
       "    </tr>\n",
       "    <tr>\n",
       "      <th>1</th>\n",
       "      <td>서울</td>\n",
       "      <td>1907-10-02</td>\n",
       "      <td>16.2</td>\n",
       "      <td>22.0</td>\n",
       "      <td>7.9</td>\n",
       "      <td>1907</td>\n",
       "    </tr>\n",
       "    <tr>\n",
       "      <th>2</th>\n",
       "      <td>서울</td>\n",
       "      <td>1907-10-03</td>\n",
       "      <td>16.2</td>\n",
       "      <td>21.3</td>\n",
       "      <td>13.1</td>\n",
       "      <td>1907</td>\n",
       "    </tr>\n",
       "  </tbody>\n",
       "</table>\n",
       "</div>"
      ],
      "text/plain": [
       "  지점명         일시    평온    고온    저온  year\n",
       "0  서울 1907-10-01  13.5  20.7   7.9  1907\n",
       "1  서울 1907-10-02  16.2  22.0   7.9  1907\n",
       "2  서울 1907-10-03  16.2  21.3  13.1  1907"
      ]
     },
     "execution_count": 34,
     "metadata": {},
     "output_type": "execute_result"
    }
   ],
   "source": [
    "# 매년 8월 중에 최고기온 하나를 뽑아서 라인 차트로 그리시오 \n",
    "tt['year'] = tt['일시'].dt.year\n",
    "tt.head(3)"
   ]
  },
  {
   "cell_type": "code",
   "execution_count": 38,
   "id": "74ee0e9d",
   "metadata": {},
   "outputs": [
    {
     "data": {
      "text/plain": [
       "<AxesSubplot:xlabel='year'>"
      ]
     },
     "execution_count": 38,
     "metadata": {},
     "output_type": "execute_result"
    },
    {
     "data": {
      "image/png": "[encoded data removed]",
      "text/plain": [
       "<Figure size 432x288 with 1 Axes>"
      ]
     },
     "metadata": {
      "needs_background": "light"
     },
     "output_type": "display_data"
    }
   ],
   "source": [
    "tt[tt['일시'].dt.month==8].groupby('year')['고온'].max().plot()"
   ]
  },
  {
   "cell_type": "code",
   "execution_count": 43,
   "id": "579d96ca",
   "metadata": {},
   "outputs": [
    {
     "data": {
      "text/plain": [
       "<AxesSubplot:xlabel='year'>"
      ]
     },
     "execution_count": 43,
     "metadata": {},
     "output_type": "execute_result"
    },
    {
     "data": {
      "image/png": "[encoded data removed]",
      "text/plain": [
       "<Figure size 432x288 with 1 Axes>"
      ]
     },
     "metadata": {
      "needs_background": "light"
     },
     "output_type": "display_data"
    }
   ],
   "source": [
    "# 지구온난화 여부확인을 위해 매년 평균기온의 line차트를 그리시오\n",
    "tt.groupby('year')['평온'].mean().plot()"
   ]
  },
  {
   "cell_type": "code",
   "execution_count": 44,
   "id": "9611391c",
   "metadata": {},
   "outputs": [],
   "source": [
    "# 1~12월 사이 각 월의 일평균기온의 bax chart를 그리시오\n",
    "tt['month']= tt['일시'].dt.month"
   ]
  },
  {
   "cell_type": "code",
   "execution_count": 45,
   "id": "5eda6a67",
   "metadata": {},
   "outputs": [
    {
     "data": {
      "text/html": [
       "<div>\n",
       "<style scoped>\n",
       "    .dataframe tbody tr th:only-of-type {\n",
       "        vertical-align: middle;\n",
       "    }\n",
       "\n",
       "    .dataframe tbody tr th {\n",
       "        vertical-align: top;\n",
       "    }\n",
       "\n",
       "    .dataframe thead th {\n",
       "        text-align: right;\n",
       "    }\n",
       "</style>\n",
       "<table border=\"1\" class=\"dataframe\">\n",
       "  <thead>\n",
       "    <tr style=\"text-align: right;\">\n",
       "      <th></th>\n",
       "      <th>지점명</th>\n",
       "      <th>일시</th>\n",
       "      <th>평온</th>\n",
       "      <th>고온</th>\n",
       "      <th>저온</th>\n",
       "      <th>year</th>\n",
       "      <th>month</th>\n",
       "    </tr>\n",
       "  </thead>\n",
       "  <tbody>\n",
       "    <tr>\n",
       "      <th>0</th>\n",
       "      <td>서울</td>\n",
       "      <td>1907-10-01</td>\n",
       "      <td>13.5</td>\n",
       "      <td>20.7</td>\n",
       "      <td>7.9</td>\n",
       "      <td>1907</td>\n",
       "      <td>10</td>\n",
       "    </tr>\n",
       "    <tr>\n",
       "      <th>1</th>\n",
       "      <td>서울</td>\n",
       "      <td>1907-10-02</td>\n",
       "      <td>16.2</td>\n",
       "      <td>22.0</td>\n",
       "      <td>7.9</td>\n",
       "      <td>1907</td>\n",
       "      <td>10</td>\n",
       "    </tr>\n",
       "    <tr>\n",
       "      <th>2</th>\n",
       "      <td>서울</td>\n",
       "      <td>1907-10-03</td>\n",
       "      <td>16.2</td>\n",
       "      <td>21.3</td>\n",
       "      <td>13.1</td>\n",
       "      <td>1907</td>\n",
       "      <td>10</td>\n",
       "    </tr>\n",
       "  </tbody>\n",
       "</table>\n",
       "</div>"
      ],
      "text/plain": [
       "  지점명         일시    평온    고온    저온  year  month\n",
       "0  서울 1907-10-01  13.5  20.7   7.9  1907     10\n",
       "1  서울 1907-10-02  16.2  22.0   7.9  1907     10\n",
       "2  서울 1907-10-03  16.2  21.3  13.1  1907     10"
      ]
     },
     "execution_count": 45,
     "metadata": {},
     "output_type": "execute_result"
    }
   ],
   "source": [
    "tt.head(3)"
   ]
  },
  {
   "cell_type": "code",
   "execution_count": 49,
   "id": "f1868eaa",
   "metadata": {},
   "outputs": [
    {
     "data": {
      "text/plain": [
       "<AxesSubplot:xlabel='month'>"
      ]
     },
     "execution_count": 49,
     "metadata": {},
     "output_type": "execute_result"
    },
    {
     "data": {
      "image/png": "[encoded data removed]",
      "text/plain": [
       "<Figure size 432x288 with 1 Axes>"
      ]
     },
     "metadata": {
      "needs_background": "light"
     },
     "output_type": "display_data"
    }
   ],
   "source": [
    "tt.groupby('month')['평온'].mean().plot(kind='bar')"
   ]
  },
  {
   "cell_type": "code",
   "execution_count": 51,
   "id": "ac9a33ee",
   "metadata": {},
   "outputs": [
    {
     "data": {
      "text/html": [
       "<div>\n",
       "<style scoped>\n",
       "    .dataframe tbody tr th:only-of-type {\n",
       "        vertical-align: middle;\n",
       "    }\n",
       "\n",
       "    .dataframe tbody tr th {\n",
       "        vertical-align: top;\n",
       "    }\n",
       "\n",
       "    .dataframe thead th {\n",
       "        text-align: right;\n",
       "    }\n",
       "</style>\n",
       "<table border=\"1\" class=\"dataframe\">\n",
       "  <thead>\n",
       "    <tr style=\"text-align: right;\">\n",
       "      <th></th>\n",
       "      <th>기관명</th>\n",
       "      <th>소계</th>\n",
       "      <th>2013년도 이전</th>\n",
       "      <th>2014년</th>\n",
       "      <th>2015년</th>\n",
       "      <th>2016년</th>\n",
       "    </tr>\n",
       "  </thead>\n",
       "  <tbody>\n",
       "    <tr>\n",
       "      <th>0</th>\n",
       "      <td>강남구</td>\n",
       "      <td>2780</td>\n",
       "      <td>1292</td>\n",
       "      <td>430</td>\n",
       "      <td>584</td>\n",
       "      <td>932</td>\n",
       "    </tr>\n",
       "    <tr>\n",
       "      <th>1</th>\n",
       "      <td>강동구</td>\n",
       "      <td>773</td>\n",
       "      <td>379</td>\n",
       "      <td>99</td>\n",
       "      <td>155</td>\n",
       "      <td>377</td>\n",
       "    </tr>\n",
       "    <tr>\n",
       "      <th>2</th>\n",
       "      <td>강북구</td>\n",
       "      <td>748</td>\n",
       "      <td>369</td>\n",
       "      <td>120</td>\n",
       "      <td>138</td>\n",
       "      <td>204</td>\n",
       "    </tr>\n",
       "  </tbody>\n",
       "</table>\n",
       "</div>"
      ],
      "text/plain": [
       "   기관명    소계  2013년도 이전  2014년  2015년  2016년\n",
       "0  강남구  2780       1292    430    584    932\n",
       "1  강동구   773        379     99    155    377\n",
       "2  강북구   748        369    120    138    204"
      ]
     },
     "execution_count": 51,
     "metadata": {},
     "output_type": "execute_result"
    }
   ],
   "source": [
    "# 01. CCTV_in_Seoul.csv\n",
    "ff=pd.read_csv('./data_study/CCTV_in_Seoul.csv')\n",
    "ff=pd.DataFrame(ff)\n",
    "ff.head(3)"
   ]
  },
  {
   "cell_type": "code",
   "execution_count": 62,
   "id": "97d8d416",
   "metadata": {
    "collapsed": true
   },
   "outputs": [
    {
     "data": {
      "text/plain": [
       "0      강남구\n",
       "18     양천구\n",
       "14     서초구\n",
       "21     은평구\n",
       "20     용산구\n",
       "6      구로구\n",
       "4      관악구\n",
       "16     성북구\n",
       "10    동대문구\n",
       "8      노원구\n",
       "11     동작구\n",
       "15     성동구\n",
       "7      금천구\n",
       "22     종로구\n",
       "13    서대문구\n",
       "19    영등포구\n",
       "3      강서구\n",
       "1      강동구\n",
       "2      강북구\n",
       "5      광진구\n",
       "23      중구\n",
       "24     중랑구\n",
       "17     송파구\n",
       "12     마포구\n",
       "9      도봉구\n",
       "Name: 기관명, dtype: object"
      ]
     },
     "execution_count": 62,
     "metadata": {},
     "output_type": "execute_result"
    }
   ],
   "source": [
    "# CCTV 수를 기준으로 구를 정렬하시오\n",
    "ff.sort_values('소계', ascending=False)['기관명']"
   ]
  },
  {
   "cell_type": "code",
   "execution_count": 80,
   "id": "7a6ea377",
   "metadata": {},
   "outputs": [],
   "source": [
    "# 2016년도에 cctv 수 증가율이 높은 상위 5개 구 출력\n",
    "ff['증가율'] = ff['2016년']-ff['2015년']"
   ]
  },
  {
   "cell_type": "code",
   "execution_count": 87,
   "id": "448ed822",
   "metadata": {},
   "outputs": [
    {
     "data": {
      "text/plain": [
       "array(['양천구', '종로구', '송파구', '동대문구', '강남구'], dtype=object)"
      ]
     },
     "execution_count": 87,
     "metadata": {},
     "output_type": "execute_result"
    }
   ],
   "source": [
    "ff.sort_values('증가율', ascending=False)['기관명'].head(5).values"
   ]
  },
  {
   "cell_type": "code",
   "execution_count": 88,
   "id": "22402572",
   "metadata": {
    "scrolled": true
   },
   "outputs": [
    {
     "data": {
      "text/html": [
       "<div>\n",
       "<style scoped>\n",
       "    .dataframe tbody tr th:only-of-type {\n",
       "        vertical-align: middle;\n",
       "    }\n",
       "\n",
       "    .dataframe tbody tr th {\n",
       "        vertical-align: top;\n",
       "    }\n",
       "\n",
       "    .dataframe thead th {\n",
       "        text-align: right;\n",
       "    }\n",
       "</style>\n",
       "<table border=\"1\" class=\"dataframe\">\n",
       "  <thead>\n",
       "    <tr style=\"text-align: right;\">\n",
       "      <th></th>\n",
       "      <th>자치구</th>\n",
       "      <th>계</th>\n",
       "      <th>계.1</th>\n",
       "      <th>계.2</th>\n",
       "      <th>65세이상고령자</th>\n",
       "    </tr>\n",
       "  </thead>\n",
       "  <tbody>\n",
       "    <tr>\n",
       "      <th>0</th>\n",
       "      <td>합계</td>\n",
       "      <td>10197604.0</td>\n",
       "      <td>9926968.0</td>\n",
       "      <td>270636.0</td>\n",
       "      <td>1321458.0</td>\n",
       "    </tr>\n",
       "    <tr>\n",
       "      <th>1</th>\n",
       "      <td>종로구</td>\n",
       "      <td>162820.0</td>\n",
       "      <td>153589.0</td>\n",
       "      <td>9231.0</td>\n",
       "      <td>25425.0</td>\n",
       "    </tr>\n",
       "    <tr>\n",
       "      <th>2</th>\n",
       "      <td>중구</td>\n",
       "      <td>133240.0</td>\n",
       "      <td>124312.0</td>\n",
       "      <td>8928.0</td>\n",
       "      <td>20764.0</td>\n",
       "    </tr>\n",
       "    <tr>\n",
       "      <th>3</th>\n",
       "      <td>용산구</td>\n",
       "      <td>244203.0</td>\n",
       "      <td>229456.0</td>\n",
       "      <td>14747.0</td>\n",
       "      <td>36231.0</td>\n",
       "    </tr>\n",
       "    <tr>\n",
       "      <th>4</th>\n",
       "      <td>성동구</td>\n",
       "      <td>311244.0</td>\n",
       "      <td>303380.0</td>\n",
       "      <td>7864.0</td>\n",
       "      <td>39997.0</td>\n",
       "    </tr>\n",
       "  </tbody>\n",
       "</table>\n",
       "</div>"
      ],
      "text/plain": [
       "   자치구           계        계.1       계.2   65세이상고령자\n",
       "0   합계  10197604.0  9926968.0  270636.0  1321458.0\n",
       "1  종로구    162820.0   153589.0    9231.0    25425.0\n",
       "2   중구    133240.0   124312.0    8928.0    20764.0\n",
       "3  용산구    244203.0   229456.0   14747.0    36231.0\n",
       "4  성동구    311244.0   303380.0    7864.0    39997.0"
      ]
     },
     "execution_count": 88,
     "metadata": {},
     "output_type": "execute_result"
    }
   ],
   "source": [
    "pop = pd.read_excel('./data_study/01. population_in_seoul.xls', header=2, usecols = [1,3,6,9,13])\n",
    "pop.head()"
   ]
  },
  {
   "cell_type": "code",
   "execution_count": 90,
   "id": "3c2dde8a",
   "metadata": {},
   "outputs": [],
   "source": [
    "pop.columns='자치구','인구수','한국인','외국인','고령자'"
   ]
  },
  {
   "cell_type": "code",
   "execution_count": 96,
   "id": "0cfbc57d",
   "metadata": {
    "collapsed": true
   },
   "outputs": [
    {
     "data": {
      "text/html": [
       "<div>\n",
       "<style scoped>\n",
       "    .dataframe tbody tr th:only-of-type {\n",
       "        vertical-align: middle;\n",
       "    }\n",
       "\n",
       "    .dataframe tbody tr th {\n",
       "        vertical-align: top;\n",
       "    }\n",
       "\n",
       "    .dataframe thead th {\n",
       "        text-align: right;\n",
       "    }\n",
       "</style>\n",
       "<table border=\"1\" class=\"dataframe\">\n",
       "  <thead>\n",
       "    <tr style=\"text-align: right;\">\n",
       "      <th></th>\n",
       "      <th>기관명</th>\n",
       "      <th>소계</th>\n",
       "      <th>2013년도 이전</th>\n",
       "      <th>2014년</th>\n",
       "      <th>2015년</th>\n",
       "      <th>2016년</th>\n",
       "      <th>증가율</th>\n",
       "      <th>자치구</th>\n",
       "      <th>인구수</th>\n",
       "      <th>한국인</th>\n",
       "      <th>외국인</th>\n",
       "      <th>고령자</th>\n",
       "    </tr>\n",
       "  </thead>\n",
       "  <tbody>\n",
       "    <tr>\n",
       "      <th>0</th>\n",
       "      <td>강남구</td>\n",
       "      <td>2780</td>\n",
       "      <td>1292</td>\n",
       "      <td>430</td>\n",
       "      <td>584</td>\n",
       "      <td>932</td>\n",
       "      <td>348</td>\n",
       "      <td>강남구</td>\n",
       "      <td>570500.0</td>\n",
       "      <td>565550.0</td>\n",
       "      <td>4950.0</td>\n",
       "      <td>63167.0</td>\n",
       "    </tr>\n",
       "    <tr>\n",
       "      <th>1</th>\n",
       "      <td>강동구</td>\n",
       "      <td>773</td>\n",
       "      <td>379</td>\n",
       "      <td>99</td>\n",
       "      <td>155</td>\n",
       "      <td>377</td>\n",
       "      <td>222</td>\n",
       "      <td>강동구</td>\n",
       "      <td>453233.0</td>\n",
       "      <td>449019.0</td>\n",
       "      <td>4214.0</td>\n",
       "      <td>54622.0</td>\n",
       "    </tr>\n",
       "    <tr>\n",
       "      <th>2</th>\n",
       "      <td>강북구</td>\n",
       "      <td>748</td>\n",
       "      <td>369</td>\n",
       "      <td>120</td>\n",
       "      <td>138</td>\n",
       "      <td>204</td>\n",
       "      <td>66</td>\n",
       "      <td>강북구</td>\n",
       "      <td>330192.0</td>\n",
       "      <td>326686.0</td>\n",
       "      <td>3506.0</td>\n",
       "      <td>54813.0</td>\n",
       "    </tr>\n",
       "  </tbody>\n",
       "</table>\n",
       "</div>"
      ],
      "text/plain": [
       "   기관명    소계  2013년도 이전  2014년  2015년  2016년  증가율  자치구       인구수       한국인  \\\n",
       "0  강남구  2780       1292    430    584    932  348  강남구  570500.0  565550.0   \n",
       "1  강동구   773        379     99    155    377  222  강동구  453233.0  449019.0   \n",
       "2  강북구   748        369    120    138    204   66  강북구  330192.0  326686.0   \n",
       "\n",
       "      외국인      고령자  \n",
       "0  4950.0  63167.0  \n",
       "1  4214.0  54622.0  \n",
       "2  3506.0  54813.0  "
      ]
     },
     "execution_count": 96,
     "metadata": {},
     "output_type": "execute_result"
    }
   ],
   "source": [
    "# 인구당 cctv 수가 가장 높은 구 상위 5개 출력\n",
    "# tt = pd.merge(tt,pop, left_on= '기관명', right_on='자치구')\n",
    "ff = pd.merge(ff,pop, left_on= '기관명', right_on='자치구')\n",
    "ff.head(3)"
   ]
  },
  {
   "cell_type": "code",
   "execution_count": 97,
   "id": "2a627e6f",
   "metadata": {},
   "outputs": [
    {
     "data": {
      "text/html": [
       "<div>\n",
       "<style scoped>\n",
       "    .dataframe tbody tr th:only-of-type {\n",
       "        vertical-align: middle;\n",
       "    }\n",
       "\n",
       "    .dataframe tbody tr th {\n",
       "        vertical-align: top;\n",
       "    }\n",
       "\n",
       "    .dataframe thead th {\n",
       "        text-align: right;\n",
       "    }\n",
       "</style>\n",
       "<table border=\"1\" class=\"dataframe\">\n",
       "  <thead>\n",
       "    <tr style=\"text-align: right;\">\n",
       "      <th></th>\n",
       "      <th>기관명</th>\n",
       "      <th>소계</th>\n",
       "      <th>2013년도 이전</th>\n",
       "      <th>2014년</th>\n",
       "      <th>2015년</th>\n",
       "      <th>2016년</th>\n",
       "      <th>증가율</th>\n",
       "      <th>자치구</th>\n",
       "      <th>인구수</th>\n",
       "      <th>한국인</th>\n",
       "      <th>외국인</th>\n",
       "      <th>고령자</th>\n",
       "      <th>인구비례</th>\n",
       "    </tr>\n",
       "  </thead>\n",
       "  <tbody>\n",
       "    <tr>\n",
       "      <th>0</th>\n",
       "      <td>강남구</td>\n",
       "      <td>2780</td>\n",
       "      <td>1292</td>\n",
       "      <td>430</td>\n",
       "      <td>584</td>\n",
       "      <td>932</td>\n",
       "      <td>348</td>\n",
       "      <td>강남구</td>\n",
       "      <td>570500.0</td>\n",
       "      <td>565550.0</td>\n",
       "      <td>4950.0</td>\n",
       "      <td>63167.0</td>\n",
       "      <td>0.004873</td>\n",
       "    </tr>\n",
       "    <tr>\n",
       "      <th>1</th>\n",
       "      <td>강동구</td>\n",
       "      <td>773</td>\n",
       "      <td>379</td>\n",
       "      <td>99</td>\n",
       "      <td>155</td>\n",
       "      <td>377</td>\n",
       "      <td>222</td>\n",
       "      <td>강동구</td>\n",
       "      <td>453233.0</td>\n",
       "      <td>449019.0</td>\n",
       "      <td>4214.0</td>\n",
       "      <td>54622.0</td>\n",
       "      <td>0.001706</td>\n",
       "    </tr>\n",
       "    <tr>\n",
       "      <th>2</th>\n",
       "      <td>강북구</td>\n",
       "      <td>748</td>\n",
       "      <td>369</td>\n",
       "      <td>120</td>\n",
       "      <td>138</td>\n",
       "      <td>204</td>\n",
       "      <td>66</td>\n",
       "      <td>강북구</td>\n",
       "      <td>330192.0</td>\n",
       "      <td>326686.0</td>\n",
       "      <td>3506.0</td>\n",
       "      <td>54813.0</td>\n",
       "      <td>0.002265</td>\n",
       "    </tr>\n",
       "  </tbody>\n",
       "</table>\n",
       "</div>"
      ],
      "text/plain": [
       "   기관명    소계  2013년도 이전  2014년  2015년  2016년  증가율  자치구       인구수       한국인  \\\n",
       "0  강남구  2780       1292    430    584    932  348  강남구  570500.0  565550.0   \n",
       "1  강동구   773        379     99    155    377  222  강동구  453233.0  449019.0   \n",
       "2  강북구   748        369    120    138    204   66  강북구  330192.0  326686.0   \n",
       "\n",
       "      외국인      고령자      인구비례  \n",
       "0  4950.0  63167.0  0.004873  \n",
       "1  4214.0  54622.0  0.001706  \n",
       "2  3506.0  54813.0  0.002265  "
      ]
     },
     "execution_count": 97,
     "metadata": {},
     "output_type": "execute_result"
    }
   ],
   "source": [
    "ff['인구비례']=ff['소계']/ff['인구수']\n",
    "ff.head(3)"
   ]
  },
  {
   "cell_type": "code",
   "execution_count": 101,
   "id": "da23fe74",
   "metadata": {},
   "outputs": [
    {
     "data": {
      "text/plain": [
       "array(['용산구', '종로구', '중구', '강남구', '서초구'], dtype=object)"
      ]
     },
     "execution_count": 101,
     "metadata": {},
     "output_type": "execute_result"
    }
   ],
   "source": [
    "ff.sort_values('인구비례', ascending=False)['기관명'].iloc[:5].values"
   ]
  },
  {
   "cell_type": "code",
   "execution_count": 102,
   "id": "951ea2c2",
   "metadata": {},
   "outputs": [],
   "source": [
    "# 인구수, 외국인비율, 고령자 비율 중에서 인구당 cctv 수에 가장 큰 영향을 미치는 요소는 무엇인가\n",
    "ff_a = pd.DataFrame()"
   ]
  },
  {
   "cell_type": "code",
   "execution_count": 105,
   "id": "d872b74f",
   "metadata": {},
   "outputs": [
    {
     "data": {
      "text/html": [
       "<div>\n",
       "<style scoped>\n",
       "    .dataframe tbody tr th:only-of-type {\n",
       "        vertical-align: middle;\n",
       "    }\n",
       "\n",
       "    .dataframe tbody tr th {\n",
       "        vertical-align: top;\n",
       "    }\n",
       "\n",
       "    .dataframe thead th {\n",
       "        text-align: right;\n",
       "    }\n",
       "</style>\n",
       "<table border=\"1\" class=\"dataframe\">\n",
       "  <thead>\n",
       "    <tr style=\"text-align: right;\">\n",
       "      <th></th>\n",
       "      <th>기관명</th>\n",
       "      <th>인구수</th>\n",
       "      <th>외국인</th>\n",
       "      <th>고령자</th>\n",
       "      <th>인구비례</th>\n",
       "    </tr>\n",
       "  </thead>\n",
       "  <tbody>\n",
       "    <tr>\n",
       "      <th>0</th>\n",
       "      <td>강남구</td>\n",
       "      <td>570500.0</td>\n",
       "      <td>4950.0</td>\n",
       "      <td>63167.0</td>\n",
       "      <td>0.004873</td>\n",
       "    </tr>\n",
       "    <tr>\n",
       "      <th>1</th>\n",
       "      <td>강동구</td>\n",
       "      <td>453233.0</td>\n",
       "      <td>4214.0</td>\n",
       "      <td>54622.0</td>\n",
       "      <td>0.001706</td>\n",
       "    </tr>\n",
       "    <tr>\n",
       "      <th>2</th>\n",
       "      <td>강북구</td>\n",
       "      <td>330192.0</td>\n",
       "      <td>3506.0</td>\n",
       "      <td>54813.0</td>\n",
       "      <td>0.002265</td>\n",
       "    </tr>\n",
       "    <tr>\n",
       "      <th>3</th>\n",
       "      <td>강서구</td>\n",
       "      <td>603772.0</td>\n",
       "      <td>6524.0</td>\n",
       "      <td>72548.0</td>\n",
       "      <td>0.001464</td>\n",
       "    </tr>\n",
       "    <tr>\n",
       "      <th>4</th>\n",
       "      <td>관악구</td>\n",
       "      <td>525515.0</td>\n",
       "      <td>18312.0</td>\n",
       "      <td>68082.0</td>\n",
       "      <td>0.002847</td>\n",
       "    </tr>\n",
       "  </tbody>\n",
       "</table>\n",
       "</div>"
      ],
      "text/plain": [
       "   기관명       인구수      외국인      고령자      인구비례\n",
       "0  강남구  570500.0   4950.0  63167.0  0.004873\n",
       "1  강동구  453233.0   4214.0  54622.0  0.001706\n",
       "2  강북구  330192.0   3506.0  54813.0  0.002265\n",
       "3  강서구  603772.0   6524.0  72548.0  0.001464\n",
       "4  관악구  525515.0  18312.0  68082.0  0.002847"
      ]
     },
     "execution_count": 105,
     "metadata": {},
     "output_type": "execute_result"
    }
   ],
   "source": [
    "ff_a = ff[['기관명','인구수','외국인','고령자','인구비례']]\n",
    "ff_a.head()"
   ]
  },
  {
   "cell_type": "code",
   "execution_count": 110,
   "id": "a1666d12",
   "metadata": {},
   "outputs": [
    {
     "data": {
      "text/plain": [
       "<AxesSubplot:>"
      ]
     },
     "execution_count": 110,
     "metadata": {},
     "output_type": "execute_result"
    },
    {
     "data": {
      "image/png": "[encoded data removed]",
      "text/plain": [
       "<Figure size 432x288 with 2 Axes>"
      ]
     },
     "metadata": {
      "needs_background": "light"
     },
     "output_type": "display_data"
    }
   ],
   "source": [
    "sns.heatmap(ff_a.corr(), cmap=plt.cm.rainbow)"
   ]
  },
  {
   "cell_type": "code",
   "execution_count": 111,
   "id": "760869c2",
   "metadata": {},
   "outputs": [
    {
     "data": {
      "text/html": [
       "<div>\n",
       "<style scoped>\n",
       "    .dataframe tbody tr th:only-of-type {\n",
       "        vertical-align: middle;\n",
       "    }\n",
       "\n",
       "    .dataframe tbody tr th {\n",
       "        vertical-align: top;\n",
       "    }\n",
       "\n",
       "    .dataframe thead th {\n",
       "        text-align: right;\n",
       "    }\n",
       "</style>\n",
       "<table border=\"1\" class=\"dataframe\">\n",
       "  <thead>\n",
       "    <tr style=\"text-align: right;\">\n",
       "      <th></th>\n",
       "      <th>인구수</th>\n",
       "      <th>외국인</th>\n",
       "      <th>고령자</th>\n",
       "      <th>인구비례</th>\n",
       "    </tr>\n",
       "  </thead>\n",
       "  <tbody>\n",
       "    <tr>\n",
       "      <th>인구수</th>\n",
       "      <td>1.000000</td>\n",
       "      <td>-0.153371</td>\n",
       "      <td>0.932667</td>\n",
       "      <td>-0.514143</td>\n",
       "    </tr>\n",
       "    <tr>\n",
       "      <th>외국인</th>\n",
       "      <td>-0.153371</td>\n",
       "      <td>1.000000</td>\n",
       "      <td>-0.155381</td>\n",
       "      <td>0.079211</td>\n",
       "    </tr>\n",
       "    <tr>\n",
       "      <th>고령자</th>\n",
       "      <td>0.932667</td>\n",
       "      <td>-0.155381</td>\n",
       "      <td>1.000000</td>\n",
       "      <td>-0.541024</td>\n",
       "    </tr>\n",
       "    <tr>\n",
       "      <th>인구비례</th>\n",
       "      <td>-0.514143</td>\n",
       "      <td>0.079211</td>\n",
       "      <td>-0.541024</td>\n",
       "      <td>1.000000</td>\n",
       "    </tr>\n",
       "  </tbody>\n",
       "</table>\n",
       "</div>"
      ],
      "text/plain": [
       "           인구수       외국인       고령자      인구비례\n",
       "인구수   1.000000 -0.153371  0.932667 -0.514143\n",
       "외국인  -0.153371  1.000000 -0.155381  0.079211\n",
       "고령자   0.932667 -0.155381  1.000000 -0.541024\n",
       "인구비례 -0.514143  0.079211 -0.541024  1.000000"
      ]
     },
     "execution_count": 111,
     "metadata": {},
     "output_type": "execute_result"
    }
   ],
   "source": [
    "ff_a.corr()"
   ]
  },
  {
   "cell_type": "code",
   "execution_count": 113,
   "id": "e1a60466",
   "metadata": {},
   "outputs": [],
   "source": [
    "# data_study/subwaytime.csv\n",
    "dd=pd.read_csv('./data_study/subwaytime.csv', encoding='cp949')\n",
    "dd=pd.DataFrame(dd)"
   ]
  },
  {
   "cell_type": "code",
   "execution_count": 114,
   "id": "ba647374",
   "metadata": {},
   "outputs": [
    {
     "data": {
      "text/html": [
       "<div>\n",
       "<style scoped>\n",
       "    .dataframe tbody tr th:only-of-type {\n",
       "        vertical-align: middle;\n",
       "    }\n",
       "\n",
       "    .dataframe tbody tr th {\n",
       "        vertical-align: top;\n",
       "    }\n",
       "\n",
       "    .dataframe thead th {\n",
       "        text-align: right;\n",
       "    }\n",
       "</style>\n",
       "<table border=\"1\" class=\"dataframe\">\n",
       "  <thead>\n",
       "    <tr style=\"text-align: right;\">\n",
       "      <th></th>\n",
       "      <th>사용월</th>\n",
       "      <th>호선명</th>\n",
       "      <th>역ID</th>\n",
       "      <th>지하철역</th>\n",
       "      <th>04:00:00~04:59:59</th>\n",
       "      <th>Unnamed: 5</th>\n",
       "      <th>05:00:00~05:59:59</th>\n",
       "      <th>Unnamed: 7</th>\n",
       "      <th>06:00:00~06:59:59</th>\n",
       "      <th>Unnamed: 9</th>\n",
       "      <th>...</th>\n",
       "      <th>23:00:00~23:59:59</th>\n",
       "      <th>Unnamed: 43</th>\n",
       "      <th>00:00:00~00:59:59</th>\n",
       "      <th>Unnamed: 45</th>\n",
       "      <th>01:00:00~01:59:59</th>\n",
       "      <th>Unnamed: 47</th>\n",
       "      <th>02:00:00~02:59:59</th>\n",
       "      <th>Unnamed: 49</th>\n",
       "      <th>03:00:00~03:59:59</th>\n",
       "      <th>Unnamed: 51</th>\n",
       "    </tr>\n",
       "  </thead>\n",
       "  <tbody>\n",
       "    <tr>\n",
       "      <th>0</th>\n",
       "      <td>NaN</td>\n",
       "      <td>NaN</td>\n",
       "      <td>NaN</td>\n",
       "      <td>NaN</td>\n",
       "      <td>승차</td>\n",
       "      <td>하차</td>\n",
       "      <td>승차</td>\n",
       "      <td>하차</td>\n",
       "      <td>승차</td>\n",
       "      <td>하차</td>\n",
       "      <td>...</td>\n",
       "      <td>승차</td>\n",
       "      <td>하차</td>\n",
       "      <td>승차</td>\n",
       "      <td>하차</td>\n",
       "      <td>승차</td>\n",
       "      <td>하차</td>\n",
       "      <td>승차</td>\n",
       "      <td>하차</td>\n",
       "      <td>승차</td>\n",
       "      <td>하차</td>\n",
       "    </tr>\n",
       "    <tr>\n",
       "      <th>1</th>\n",
       "      <td>2019-01</td>\n",
       "      <td>1호선</td>\n",
       "      <td>150.0</td>\n",
       "      <td>서울역</td>\n",
       "      <td>927</td>\n",
       "      <td>22</td>\n",
       "      <td>10682</td>\n",
       "      <td>8774</td>\n",
       "      <td>13504</td>\n",
       "      <td>45545</td>\n",
       "      <td>...</td>\n",
       "      <td>33149</td>\n",
       "      <td>19442</td>\n",
       "      <td>3612</td>\n",
       "      <td>7167</td>\n",
       "      <td>0</td>\n",
       "      <td>410</td>\n",
       "      <td>0</td>\n",
       "      <td>0</td>\n",
       "      <td>0</td>\n",
       "      <td>0</td>\n",
       "    </tr>\n",
       "    <tr>\n",
       "      <th>2</th>\n",
       "      <td>2019-01</td>\n",
       "      <td>1호선</td>\n",
       "      <td>151.0</td>\n",
       "      <td>시청</td>\n",
       "      <td>74</td>\n",
       "      <td>0</td>\n",
       "      <td>2409</td>\n",
       "      <td>4049</td>\n",
       "      <td>3532</td>\n",
       "      <td>19241</td>\n",
       "      <td>...</td>\n",
       "      <td>14478</td>\n",
       "      <td>4079</td>\n",
       "      <td>981</td>\n",
       "      <td>1256</td>\n",
       "      <td>3</td>\n",
       "      <td>29</td>\n",
       "      <td>0</td>\n",
       "      <td>0</td>\n",
       "      <td>0</td>\n",
       "      <td>0</td>\n",
       "    </tr>\n",
       "  </tbody>\n",
       "</table>\n",
       "<p>3 rows × 52 columns</p>\n",
       "</div>"
      ],
      "text/plain": [
       "       사용월  호선명    역ID 지하철역 04:00:00~04:59:59 Unnamed: 5 05:00:00~05:59:59  \\\n",
       "0      NaN  NaN    NaN  NaN                승차         하차                승차   \n",
       "1  2019-01  1호선  150.0  서울역               927         22             10682   \n",
       "2  2019-01  1호선  151.0   시청                74          0              2409   \n",
       "\n",
       "  Unnamed: 7 06:00:00~06:59:59 Unnamed: 9  ... 23:00:00~23:59:59 Unnamed: 43  \\\n",
       "0         하차                승차         하차  ...                승차          하차   \n",
       "1       8774             13504      45545  ...             33149       19442   \n",
       "2       4049              3532      19241  ...             14478        4079   \n",
       "\n",
       "  00:00:00~00:59:59 Unnamed: 45 01:00:00~01:59:59 Unnamed: 47  \\\n",
       "0                승차          하차                승차          하차   \n",
       "1              3612        7167                 0         410   \n",
       "2               981        1256                 3          29   \n",
       "\n",
       "  02:00:00~02:59:59 Unnamed: 49 03:00:00~03:59:59 Unnamed: 51  \n",
       "0                승차          하차                승차          하차  \n",
       "1                 0           0                 0           0  \n",
       "2                 0           0                 0           0  \n",
       "\n",
       "[3 rows x 52 columns]"
      ]
     },
     "execution_count": 114,
     "metadata": {},
     "output_type": "execute_result"
    }
   ],
   "source": [
    "dd.head(3)"
   ]
  },
  {
   "cell_type": "code",
   "execution_count": 118,
   "id": "310afe21",
   "metadata": {
    "collapsed": true
   },
   "outputs": [
    {
     "name": "stdout",
     "output_type": "stream",
     "text": [
      "<class 'pandas.core.frame.DataFrame'>\n",
      "RangeIndex: 599 entries, 0 to 598\n",
      "Data columns (total 49 columns):\n",
      " #   Column             Non-Null Count  Dtype \n",
      "---  ------             --------------  ----- \n",
      " 0   지하철역               598 non-null    object\n",
      " 1   04:00:00~04:59:59  599 non-null    object\n",
      " 2   Unnamed: 5         599 non-null    object\n",
      " 3   05:00:00~05:59:59  599 non-null    object\n",
      " 4   Unnamed: 7         599 non-null    object\n",
      " 5   06:00:00~06:59:59  599 non-null    object\n",
      " 6   Unnamed: 9         599 non-null    object\n",
      " 7   07:00:00~07:59:59  599 non-null    object\n",
      " 8   Unnamed: 11        599 non-null    object\n",
      " 9   08:00:00~08:59:59  599 non-null    object\n",
      " 10  Unnamed: 13        599 non-null    object\n",
      " 11  09:00:00~09:59:59  599 non-null    object\n",
      " 12  Unnamed: 15        599 non-null    object\n",
      " 13  10:00:00~10:59:59  599 non-null    object\n",
      " 14  Unnamed: 17        599 non-null    object\n",
      " 15  11:00:00~11:59:59  599 non-null    object\n",
      " 16  Unnamed: 19        599 non-null    object\n",
      " 17  12:00:00~12:59:59  599 non-null    object\n",
      " 18  Unnamed: 21        599 non-null    object\n",
      " 19  13:00:00~13:59:59  599 non-null    object\n",
      " 20  Unnamed: 23        599 non-null    object\n",
      " 21  14:00:00~14:59:59  599 non-null    object\n",
      " 22  Unnamed: 25        599 non-null    object\n",
      " 23  15:00:00~15:59:59  599 non-null    object\n",
      " 24  Unnamed: 27        599 non-null    object\n",
      " 25  16:00:00~16:59:59  599 non-null    object\n",
      " 26  Unnamed: 29        599 non-null    object\n",
      " 27  17:00:00~17:59:59  599 non-null    object\n",
      " 28  Unnamed: 31        599 non-null    object\n",
      " 29  18:00:00~18:59:59  599 non-null    object\n",
      " 30  Unnamed: 33        599 non-null    object\n",
      " 31  19:00:00~19:59:59  599 non-null    object\n",
      " 32  Unnamed: 35        599 non-null    object\n",
      " 33  20:00:00~20:59:59  599 non-null    object\n",
      " 34  Unnamed: 37        599 non-null    object\n",
      " 35  21:00:00~21:59:59  599 non-null    object\n",
      " 36  Unnamed: 39        599 non-null    object\n",
      " 37  22:00:00~22:59:59  599 non-null    object\n",
      " 38  Unnamed: 41        599 non-null    object\n",
      " 39  23:00:00~23:59:59  599 non-null    object\n",
      " 40  Unnamed: 43        599 non-null    object\n",
      " 41  00:00:00~00:59:59  599 non-null    object\n",
      " 42  Unnamed: 45        599 non-null    object\n",
      " 43  01:00:00~01:59:59  599 non-null    object\n",
      " 44  Unnamed: 47        599 non-null    object\n",
      " 45  02:00:00~02:59:59  599 non-null    object\n",
      " 46  Unnamed: 49        599 non-null    object\n",
      " 47  03:00:00~03:59:59  599 non-null    object\n",
      " 48  Unnamed: 51        599 non-null    object\n",
      "dtypes: object(49)\n",
      "memory usage: 229.4+ KB\n"
     ]
    }
   ],
   "source": [
    "dd.drop(['사용월','호선명','역ID'], axis=1, inplace=True)\n",
    "dd.info()"
   ]
  },
  {
   "cell_type": "code",
   "execution_count": 122,
   "id": "5831df13",
   "metadata": {},
   "outputs": [],
   "source": [
    "dd.drop(0, axis=0, inplace=True)"
   ]
  },
  {
   "cell_type": "code",
   "execution_count": 123,
   "id": "3b59c1d5",
   "metadata": {},
   "outputs": [
    {
     "data": {
      "text/html": [
       "<div>\n",
       "<style scoped>\n",
       "    .dataframe tbody tr th:only-of-type {\n",
       "        vertical-align: middle;\n",
       "    }\n",
       "\n",
       "    .dataframe tbody tr th {\n",
       "        vertical-align: top;\n",
       "    }\n",
       "\n",
       "    .dataframe thead th {\n",
       "        text-align: right;\n",
       "    }\n",
       "</style>\n",
       "<table border=\"1\" class=\"dataframe\">\n",
       "  <thead>\n",
       "    <tr style=\"text-align: right;\">\n",
       "      <th></th>\n",
       "      <th>지하철역</th>\n",
       "      <th>04:00:00~04:59:59</th>\n",
       "      <th>Unnamed: 5</th>\n",
       "      <th>05:00:00~05:59:59</th>\n",
       "      <th>Unnamed: 7</th>\n",
       "      <th>06:00:00~06:59:59</th>\n",
       "      <th>Unnamed: 9</th>\n",
       "      <th>07:00:00~07:59:59</th>\n",
       "      <th>Unnamed: 11</th>\n",
       "      <th>08:00:00~08:59:59</th>\n",
       "      <th>...</th>\n",
       "      <th>23:00:00~23:59:59</th>\n",
       "      <th>Unnamed: 43</th>\n",
       "      <th>00:00:00~00:59:59</th>\n",
       "      <th>Unnamed: 45</th>\n",
       "      <th>01:00:00~01:59:59</th>\n",
       "      <th>Unnamed: 47</th>\n",
       "      <th>02:00:00~02:59:59</th>\n",
       "      <th>Unnamed: 49</th>\n",
       "      <th>03:00:00~03:59:59</th>\n",
       "      <th>Unnamed: 51</th>\n",
       "    </tr>\n",
       "  </thead>\n",
       "  <tbody>\n",
       "    <tr>\n",
       "      <th>1</th>\n",
       "      <td>서울역</td>\n",
       "      <td>927</td>\n",
       "      <td>22</td>\n",
       "      <td>10682</td>\n",
       "      <td>8774</td>\n",
       "      <td>13504</td>\n",
       "      <td>45545</td>\n",
       "      <td>39110</td>\n",
       "      <td>103863</td>\n",
       "      <td>80492</td>\n",
       "      <td>...</td>\n",
       "      <td>33149</td>\n",
       "      <td>19442</td>\n",
       "      <td>3612</td>\n",
       "      <td>7167</td>\n",
       "      <td>0</td>\n",
       "      <td>410</td>\n",
       "      <td>0</td>\n",
       "      <td>0</td>\n",
       "      <td>0</td>\n",
       "      <td>0</td>\n",
       "    </tr>\n",
       "    <tr>\n",
       "      <th>2</th>\n",
       "      <td>시청</td>\n",
       "      <td>74</td>\n",
       "      <td>0</td>\n",
       "      <td>2409</td>\n",
       "      <td>4049</td>\n",
       "      <td>3532</td>\n",
       "      <td>19241</td>\n",
       "      <td>7703</td>\n",
       "      <td>66876</td>\n",
       "      <td>9978</td>\n",
       "      <td>...</td>\n",
       "      <td>14478</td>\n",
       "      <td>4079</td>\n",
       "      <td>981</td>\n",
       "      <td>1256</td>\n",
       "      <td>3</td>\n",
       "      <td>29</td>\n",
       "      <td>0</td>\n",
       "      <td>0</td>\n",
       "      <td>0</td>\n",
       "      <td>0</td>\n",
       "    </tr>\n",
       "    <tr>\n",
       "      <th>3</th>\n",
       "      <td>종각</td>\n",
       "      <td>100</td>\n",
       "      <td>8</td>\n",
       "      <td>4409</td>\n",
       "      <td>5105</td>\n",
       "      <td>4593</td>\n",
       "      <td>26969</td>\n",
       "      <td>6733</td>\n",
       "      <td>104259</td>\n",
       "      <td>11028</td>\n",
       "      <td>...</td>\n",
       "      <td>54264</td>\n",
       "      <td>5560</td>\n",
       "      <td>4886</td>\n",
       "      <td>1722</td>\n",
       "      <td>0</td>\n",
       "      <td>0</td>\n",
       "      <td>0</td>\n",
       "      <td>0</td>\n",
       "      <td>0</td>\n",
       "      <td>0</td>\n",
       "    </tr>\n",
       "  </tbody>\n",
       "</table>\n",
       "<p>3 rows × 49 columns</p>\n",
       "</div>"
      ],
      "text/plain": [
       "  지하철역 04:00:00~04:59:59 Unnamed: 5 05:00:00~05:59:59 Unnamed: 7  \\\n",
       "1  서울역               927         22             10682       8774   \n",
       "2   시청                74          0              2409       4049   \n",
       "3   종각               100          8              4409       5105   \n",
       "\n",
       "  06:00:00~06:59:59 Unnamed: 9 07:00:00~07:59:59 Unnamed: 11  \\\n",
       "1             13504      45545             39110      103863   \n",
       "2              3532      19241              7703       66876   \n",
       "3              4593      26969              6733      104259   \n",
       "\n",
       "  08:00:00~08:59:59  ... 23:00:00~23:59:59 Unnamed: 43 00:00:00~00:59:59  \\\n",
       "1             80492  ...             33149       19442              3612   \n",
       "2              9978  ...             14478        4079               981   \n",
       "3             11028  ...             54264        5560              4886   \n",
       "\n",
       "  Unnamed: 45 01:00:00~01:59:59 Unnamed: 47 02:00:00~02:59:59 Unnamed: 49  \\\n",
       "1        7167                 0         410                 0           0   \n",
       "2        1256                 3          29                 0           0   \n",
       "3        1722                 0           0                 0           0   \n",
       "\n",
       "  03:00:00~03:59:59 Unnamed: 51  \n",
       "1                 0           0  \n",
       "2                 0           0  \n",
       "3                 0           0  \n",
       "\n",
       "[3 rows x 49 columns]"
      ]
     },
     "execution_count": 123,
     "metadata": {},
     "output_type": "execute_result"
    }
   ],
   "source": [
    "dd.head(3)"
   ]
  },
  {
   "cell_type": "code",
   "execution_count": 143,
   "id": "9ab30575",
   "metadata": {},
   "outputs": [
    {
     "name": "stdout",
     "output_type": "stream",
     "text": [
      "['4승', '4하', '5승', '5하', '6승', '6하', '7승', '7하', '8승', '8하', '9승', '9하', '10승', '10하', '11승', '11하', '12승', '12하', '13승', '13하', '14승', '14하', '15승', '15하', '16승', '16하', '17승', '17하', '18승', '18하', '19승', '19하', '20승', '20하', '21승', '21하', '22승', '22하', '23승', '23하', '24승', '24하', '25승', '25하', '26승', '26하', '27승', '27하']\n"
     ]
    }
   ],
   "source": [
    "li=[]\n",
    "a=4\n",
    "for i in range(1,25):\n",
    "    li.append(str(a)+'승')\n",
    "    li.append(str(a)+'하')\n",
    "    a = int(a)\n",
    "    a+=1\n",
    "print(li)"
   ]
  },
  {
   "cell_type": "code",
   "execution_count": 149,
   "id": "83c67a25",
   "metadata": {},
   "outputs": [],
   "source": [
    "dd.columns=['지하철역']+li"
   ]
  },
  {
   "cell_type": "code",
   "execution_count": 150,
   "id": "18becc68",
   "metadata": {},
   "outputs": [
    {
     "data": {
      "text/html": [
       "<div>\n",
       "<style scoped>\n",
       "    .dataframe tbody tr th:only-of-type {\n",
       "        vertical-align: middle;\n",
       "    }\n",
       "\n",
       "    .dataframe tbody tr th {\n",
       "        vertical-align: top;\n",
       "    }\n",
       "\n",
       "    .dataframe thead th {\n",
       "        text-align: right;\n",
       "    }\n",
       "</style>\n",
       "<table border=\"1\" class=\"dataframe\">\n",
       "  <thead>\n",
       "    <tr style=\"text-align: right;\">\n",
       "      <th></th>\n",
       "      <th>지하철역</th>\n",
       "      <th>4승</th>\n",
       "      <th>4하</th>\n",
       "      <th>5승</th>\n",
       "      <th>5하</th>\n",
       "      <th>6승</th>\n",
       "      <th>6하</th>\n",
       "      <th>7승</th>\n",
       "      <th>7하</th>\n",
       "      <th>8승</th>\n",
       "      <th>...</th>\n",
       "      <th>23승</th>\n",
       "      <th>23하</th>\n",
       "      <th>24승</th>\n",
       "      <th>24하</th>\n",
       "      <th>25승</th>\n",
       "      <th>25하</th>\n",
       "      <th>26승</th>\n",
       "      <th>26하</th>\n",
       "      <th>27승</th>\n",
       "      <th>27하</th>\n",
       "    </tr>\n",
       "  </thead>\n",
       "  <tbody>\n",
       "    <tr>\n",
       "      <th>1</th>\n",
       "      <td>서울역</td>\n",
       "      <td>927</td>\n",
       "      <td>22</td>\n",
       "      <td>10682</td>\n",
       "      <td>8774</td>\n",
       "      <td>13504</td>\n",
       "      <td>45545</td>\n",
       "      <td>39110</td>\n",
       "      <td>103863</td>\n",
       "      <td>80492</td>\n",
       "      <td>...</td>\n",
       "      <td>33149</td>\n",
       "      <td>19442</td>\n",
       "      <td>3612</td>\n",
       "      <td>7167</td>\n",
       "      <td>0</td>\n",
       "      <td>410</td>\n",
       "      <td>0</td>\n",
       "      <td>0</td>\n",
       "      <td>0</td>\n",
       "      <td>0</td>\n",
       "    </tr>\n",
       "    <tr>\n",
       "      <th>2</th>\n",
       "      <td>시청</td>\n",
       "      <td>74</td>\n",
       "      <td>0</td>\n",
       "      <td>2409</td>\n",
       "      <td>4049</td>\n",
       "      <td>3532</td>\n",
       "      <td>19241</td>\n",
       "      <td>7703</td>\n",
       "      <td>66876</td>\n",
       "      <td>9978</td>\n",
       "      <td>...</td>\n",
       "      <td>14478</td>\n",
       "      <td>4079</td>\n",
       "      <td>981</td>\n",
       "      <td>1256</td>\n",
       "      <td>3</td>\n",
       "      <td>29</td>\n",
       "      <td>0</td>\n",
       "      <td>0</td>\n",
       "      <td>0</td>\n",
       "      <td>0</td>\n",
       "    </tr>\n",
       "    <tr>\n",
       "      <th>3</th>\n",
       "      <td>종각</td>\n",
       "      <td>100</td>\n",
       "      <td>8</td>\n",
       "      <td>4409</td>\n",
       "      <td>5105</td>\n",
       "      <td>4593</td>\n",
       "      <td>26969</td>\n",
       "      <td>6733</td>\n",
       "      <td>104259</td>\n",
       "      <td>11028</td>\n",
       "      <td>...</td>\n",
       "      <td>54264</td>\n",
       "      <td>5560</td>\n",
       "      <td>4886</td>\n",
       "      <td>1722</td>\n",
       "      <td>0</td>\n",
       "      <td>0</td>\n",
       "      <td>0</td>\n",
       "      <td>0</td>\n",
       "      <td>0</td>\n",
       "      <td>0</td>\n",
       "    </tr>\n",
       "    <tr>\n",
       "      <th>4</th>\n",
       "      <td>종로3가</td>\n",
       "      <td>122</td>\n",
       "      <td>4</td>\n",
       "      <td>5061</td>\n",
       "      <td>2520</td>\n",
       "      <td>3876</td>\n",
       "      <td>12832</td>\n",
       "      <td>6066</td>\n",
       "      <td>29381</td>\n",
       "      <td>9735</td>\n",
       "      <td>...</td>\n",
       "      <td>25970</td>\n",
       "      <td>5503</td>\n",
       "      <td>3214</td>\n",
       "      <td>2471</td>\n",
       "      <td>0</td>\n",
       "      <td>52</td>\n",
       "      <td>0</td>\n",
       "      <td>0</td>\n",
       "      <td>0</td>\n",
       "      <td>0</td>\n",
       "    </tr>\n",
       "    <tr>\n",
       "      <th>5</th>\n",
       "      <td>종로5가</td>\n",
       "      <td>43</td>\n",
       "      <td>2</td>\n",
       "      <td>1934</td>\n",
       "      <td>3590</td>\n",
       "      <td>2935</td>\n",
       "      <td>14991</td>\n",
       "      <td>5143</td>\n",
       "      <td>40376</td>\n",
       "      <td>8509</td>\n",
       "      <td>...</td>\n",
       "      <td>12013</td>\n",
       "      <td>3450</td>\n",
       "      <td>785</td>\n",
       "      <td>980</td>\n",
       "      <td>1</td>\n",
       "      <td>3</td>\n",
       "      <td>0</td>\n",
       "      <td>0</td>\n",
       "      <td>0</td>\n",
       "      <td>0</td>\n",
       "    </tr>\n",
       "  </tbody>\n",
       "</table>\n",
       "<p>5 rows × 49 columns</p>\n",
       "</div>"
      ],
      "text/plain": [
       "   지하철역   4승  4하     5승    5하     6승     6하     7승      7하     8승  ...    23승  \\\n",
       "1   서울역  927  22  10682  8774  13504  45545  39110  103863  80492  ...  33149   \n",
       "2    시청   74   0   2409  4049   3532  19241   7703   66876   9978  ...  14478   \n",
       "3    종각  100   8   4409  5105   4593  26969   6733  104259  11028  ...  54264   \n",
       "4  종로3가  122   4   5061  2520   3876  12832   6066   29381   9735  ...  25970   \n",
       "5  종로5가   43   2   1934  3590   2935  14991   5143   40376   8509  ...  12013   \n",
       "\n",
       "     23하   24승   24하 25승  25하 26승 26하 27승 27하  \n",
       "1  19442  3612  7167   0  410   0   0   0   0  \n",
       "2   4079   981  1256   3   29   0   0   0   0  \n",
       "3   5560  4886  1722   0    0   0   0   0   0  \n",
       "4   5503  3214  2471   0   52   0   0   0   0  \n",
       "5   3450   785   980   1    3   0   0   0   0  \n",
       "\n",
       "[5 rows x 49 columns]"
      ]
     },
     "execution_count": 150,
     "metadata": {},
     "output_type": "execute_result"
    }
   ],
   "source": [
    "dd.head()"
   ]
  },
  {
   "cell_type": "code",
   "execution_count": 166,
   "id": "ba5b9a27",
   "metadata": {
    "collapsed": true
   },
   "outputs": [
    {
     "name": "stdout",
     "output_type": "stream",
     "text": [
      "<class 'pandas.core.frame.DataFrame'>\n",
      "Int64Index: 598 entries, 1 to 598\n",
      "Data columns (total 49 columns):\n",
      " #   Column  Non-Null Count  Dtype \n",
      "---  ------  --------------  ----- \n",
      " 0   지하철역    598 non-null    object\n",
      " 1   4승      598 non-null    object\n",
      " 2   4하      598 non-null    object\n",
      " 3   5승      598 non-null    object\n",
      " 4   5하      598 non-null    object\n",
      " 5   6승      598 non-null    object\n",
      " 6   6하      598 non-null    object\n",
      " 7   7승      598 non-null    int32 \n",
      " 8   7하      598 non-null    int32 \n",
      " 9   8승      598 non-null    int32 \n",
      " 10  8하      598 non-null    int32 \n",
      " 11  9승      598 non-null    object\n",
      " 12  9하      598 non-null    object\n",
      " 13  10승     598 non-null    object\n",
      " 14  10하     598 non-null    object\n",
      " 15  11승     598 non-null    object\n",
      " 16  11하     598 non-null    object\n",
      " 17  12승     598 non-null    object\n",
      " 18  12하     598 non-null    object\n",
      " 19  13승     598 non-null    object\n",
      " 20  13하     598 non-null    object\n",
      " 21  14승     598 non-null    object\n",
      " 22  14하     598 non-null    object\n",
      " 23  15승     598 non-null    object\n",
      " 24  15하     598 non-null    object\n",
      " 25  16승     598 non-null    object\n",
      " 26  16하     598 non-null    object\n",
      " 27  17승     598 non-null    object\n",
      " 28  17하     598 non-null    object\n",
      " 29  18승     598 non-null    object\n",
      " 30  18하     598 non-null    object\n",
      " 31  19승     598 non-null    object\n",
      " 32  19하     598 non-null    object\n",
      " 33  20승     598 non-null    object\n",
      " 34  20하     598 non-null    object\n",
      " 35  21승     598 non-null    object\n",
      " 36  21하     598 non-null    object\n",
      " 37  22승     598 non-null    object\n",
      " 38  22하     598 non-null    object\n",
      " 39  23승     598 non-null    object\n",
      " 40  23하     598 non-null    object\n",
      " 41  24승     598 non-null    object\n",
      " 42  24하     598 non-null    object\n",
      " 43  25승     598 non-null    object\n",
      " 44  25하     598 non-null    object\n",
      " 45  26승     598 non-null    object\n",
      " 46  26하     598 non-null    object\n",
      " 47  27승     598 non-null    object\n",
      " 48  27하     598 non-null    object\n",
      "dtypes: int32(4), object(45)\n",
      "memory usage: 224.2+ KB\n"
     ]
    }
   ],
   "source": [
    "# 출근시간에 승차인원이 가장 많은 역과 하차인원이 가장 많은 역을 출력하시오? ( 7시 ~ 9시)\n",
    "dd['8하'] = dd['8하'].astype('int')\n",
    "dd.info()\n",
    "\n"
   ]
  },
  {
   "cell_type": "code",
   "execution_count": 182,
   "id": "6bd18f09",
   "metadata": {},
   "outputs": [
    {
     "data": {
      "text/html": [
       "<div>\n",
       "<style scoped>\n",
       "    .dataframe tbody tr th:only-of-type {\n",
       "        vertical-align: middle;\n",
       "    }\n",
       "\n",
       "    .dataframe tbody tr th {\n",
       "        vertical-align: top;\n",
       "    }\n",
       "\n",
       "    .dataframe thead th {\n",
       "        text-align: right;\n",
       "    }\n",
       "</style>\n",
       "<table border=\"1\" class=\"dataframe\">\n",
       "  <thead>\n",
       "    <tr style=\"text-align: right;\">\n",
       "      <th></th>\n",
       "      <th>지하철역</th>\n",
       "      <th>4승</th>\n",
       "      <th>4하</th>\n",
       "      <th>5승</th>\n",
       "      <th>5하</th>\n",
       "      <th>6승</th>\n",
       "      <th>6하</th>\n",
       "      <th>7승</th>\n",
       "      <th>7하</th>\n",
       "      <th>8승</th>\n",
       "      <th>...</th>\n",
       "      <th>24승</th>\n",
       "      <th>24하</th>\n",
       "      <th>25승</th>\n",
       "      <th>25하</th>\n",
       "      <th>26승</th>\n",
       "      <th>26하</th>\n",
       "      <th>27승</th>\n",
       "      <th>27하</th>\n",
       "      <th>출_승</th>\n",
       "      <th>출_하</th>\n",
       "    </tr>\n",
       "  </thead>\n",
       "  <tbody>\n",
       "    <tr>\n",
       "      <th>1</th>\n",
       "      <td>서울역</td>\n",
       "      <td>927</td>\n",
       "      <td>22</td>\n",
       "      <td>10682</td>\n",
       "      <td>8774</td>\n",
       "      <td>13504</td>\n",
       "      <td>45545</td>\n",
       "      <td>39110</td>\n",
       "      <td>103863</td>\n",
       "      <td>80492</td>\n",
       "      <td>...</td>\n",
       "      <td>3612</td>\n",
       "      <td>7167</td>\n",
       "      <td>0</td>\n",
       "      <td>410</td>\n",
       "      <td>0</td>\n",
       "      <td>0</td>\n",
       "      <td>0</td>\n",
       "      <td>0</td>\n",
       "      <td>119602</td>\n",
       "      <td>340610</td>\n",
       "    </tr>\n",
       "    <tr>\n",
       "      <th>2</th>\n",
       "      <td>시청</td>\n",
       "      <td>74</td>\n",
       "      <td>0</td>\n",
       "      <td>2409</td>\n",
       "      <td>4049</td>\n",
       "      <td>3532</td>\n",
       "      <td>19241</td>\n",
       "      <td>7703</td>\n",
       "      <td>66876</td>\n",
       "      <td>9978</td>\n",
       "      <td>...</td>\n",
       "      <td>981</td>\n",
       "      <td>1256</td>\n",
       "      <td>3</td>\n",
       "      <td>29</td>\n",
       "      <td>0</td>\n",
       "      <td>0</td>\n",
       "      <td>0</td>\n",
       "      <td>0</td>\n",
       "      <td>17681</td>\n",
       "      <td>276225</td>\n",
       "    </tr>\n",
       "  </tbody>\n",
       "</table>\n",
       "<p>2 rows × 51 columns</p>\n",
       "</div>"
      ],
      "text/plain": [
       "  지하철역   4승  4하     5승    5하     6승     6하     7승      7하     8승  ...   24승  \\\n",
       "1  서울역  927  22  10682  8774  13504  45545  39110  103863  80492  ...  3612   \n",
       "2   시청   74   0   2409  4049   3532  19241   7703   66876   9978  ...   981   \n",
       "\n",
       "    24하 25승  25하 26승 26하 27승 27하     출_승     출_하  \n",
       "1  7167   0  410   0   0   0   0  119602  340610  \n",
       "2  1256   3   29   0   0   0   0   17681  276225  \n",
       "\n",
       "[2 rows x 51 columns]"
      ]
     },
     "execution_count": 182,
     "metadata": {},
     "output_type": "execute_result"
    }
   ],
   "source": [
    "dd['출_승']=dd['7승']+dd['8승']\n",
    "dd['출_하']=dd['7하']+dd['8하']\n",
    "dd.head(2)"
   ]
  },
  {
   "cell_type": "code",
   "execution_count": 188,
   "id": "1fa35a3a",
   "metadata": {},
   "outputs": [
    {
     "data": {
      "text/plain": [
       "40    신림\n",
       "Name: 지하철역, dtype: object"
      ]
     },
     "execution_count": 188,
     "metadata": {},
     "output_type": "execute_result"
    }
   ],
   "source": [
    "dd.sort_values('출_승', ascending=False)['지하철역'].head(1)"
   ]
  },
  {
   "cell_type": "code",
   "execution_count": 189,
   "id": "d65b6725",
   "metadata": {},
   "outputs": [
    {
     "data": {
      "text/plain": [
       "32    강남\n",
       "Name: 지하철역, dtype: object"
      ]
     },
     "execution_count": 189,
     "metadata": {},
     "output_type": "execute_result"
    }
   ],
   "source": [
    "dd.sort_values('출_하', ascending=False)['지하철역'].head(1)"
   ]
  },
  {
   "cell_type": "code",
   "execution_count": 219,
   "id": "799f9cc3",
   "metadata": {},
   "outputs": [
    {
     "data": {
      "text/plain": [
       "40    1537412\n",
       "dtype: int64"
      ]
     },
     "execution_count": 219,
     "metadata": {},
     "output_type": "execute_result"
    }
   ],
   "source": [
    "# 전체 시간에서 승차 인원이 가장 많은 역은?\n",
    "dd.iloc[:, 1: 25: 2].sum(axis=1).sort_values(ascending=False).iloc[:1]"
   ]
  },
  {
   "cell_type": "code",
   "execution_count": 217,
   "id": "215457b7",
   "metadata": {},
   "outputs": [],
   "source": [
    "for c in dd.columns[1:]:\n",
    "    dd[c] = dd[c].astype('int')"
   ]
  },
  {
   "cell_type": "code",
   "execution_count": 218,
   "id": "8e3935e1",
   "metadata": {
    "collapsed": true
   },
   "outputs": [
    {
     "name": "stdout",
     "output_type": "stream",
     "text": [
      "<class 'pandas.core.frame.DataFrame'>\n",
      "Int64Index: 598 entries, 1 to 598\n",
      "Data columns (total 51 columns):\n",
      " #   Column  Non-Null Count  Dtype \n",
      "---  ------  --------------  ----- \n",
      " 0   지하철역    598 non-null    object\n",
      " 1   4승      598 non-null    int32 \n",
      " 2   4하      598 non-null    int32 \n",
      " 3   5승      598 non-null    int32 \n",
      " 4   5하      598 non-null    int32 \n",
      " 5   6승      598 non-null    int32 \n",
      " 6   6하      598 non-null    int32 \n",
      " 7   7승      598 non-null    int32 \n",
      " 8   7하      598 non-null    int32 \n",
      " 9   8승      598 non-null    int32 \n",
      " 10  8하      598 non-null    int32 \n",
      " 11  9승      598 non-null    int32 \n",
      " 12  9하      598 non-null    int32 \n",
      " 13  10승     598 non-null    int32 \n",
      " 14  10하     598 non-null    int32 \n",
      " 15  11승     598 non-null    int32 \n",
      " 16  11하     598 non-null    int32 \n",
      " 17  12승     598 non-null    int32 \n",
      " 18  12하     598 non-null    int32 \n",
      " 19  13승     598 non-null    int32 \n",
      " 20  13하     598 non-null    int32 \n",
      " 21  14승     598 non-null    int32 \n",
      " 22  14하     598 non-null    int32 \n",
      " 23  15승     598 non-null    int32 \n",
      " 24  15하     598 non-null    int32 \n",
      " 25  16승     598 non-null    int32 \n",
      " 26  16하     598 non-null    int32 \n",
      " 27  17승     598 non-null    int32 \n",
      " 28  17하     598 non-null    int32 \n",
      " 29  18승     598 non-null    int32 \n",
      " 30  18하     598 non-null    int32 \n",
      " 31  19승     598 non-null    int32 \n",
      " 32  19하     598 non-null    int32 \n",
      " 33  20승     598 non-null    int32 \n",
      " 34  20하     598 non-null    int32 \n",
      " 35  21승     598 non-null    int32 \n",
      " 36  21하     598 non-null    int32 \n",
      " 37  22승     598 non-null    int32 \n",
      " 38  22하     598 non-null    int32 \n",
      " 39  23승     598 non-null    int32 \n",
      " 40  23하     598 non-null    int32 \n",
      " 41  24승     598 non-null    int32 \n",
      " 42  24하     598 non-null    int32 \n",
      " 43  25승     598 non-null    int32 \n",
      " 44  25하     598 non-null    int32 \n",
      " 45  26승     598 non-null    int32 \n",
      " 46  26하     598 non-null    int32 \n",
      " 47  27승     598 non-null    int32 \n",
      " 48  27하     598 non-null    int32 \n",
      " 49  출_승     598 non-null    int32 \n",
      " 50  출_하     598 non-null    int32 \n",
      "dtypes: int32(50), object(1)\n",
      "memory usage: 126.1+ KB\n"
     ]
    }
   ],
   "source": [
    "dd.info()"
   ]
  },
  {
   "cell_type": "code",
   "execution_count": 227,
   "id": "6c11b24b",
   "metadata": {
    "collapsed": true
   },
   "outputs": [
    {
     "ename": "TypeError",
     "evalue": "sum() takes at most 2 arguments (3 given)",
     "output_type": "error",
     "traceback": [
      "\u001b[1;31m---------------------------------------------------------------------------\u001b[0m",
      "\u001b[1;31mTypeError\u001b[0m                                 Traceback (most recent call last)",
      "\u001b[1;32m~\\AppData\\Local\\Temp/ipykernel_12244/1301881505.py\u001b[0m in \u001b[0;36m<module>\u001b[1;34m\u001b[0m\n\u001b[0;32m      1\u001b[0m \u001b[1;31m# 퇴근 시간에 하차인원이 가장 많은 역.. (pm 7:00 ~ 10:00)\u001b[0m\u001b[1;33m\u001b[0m\u001b[1;33m\u001b[0m\u001b[0m\n\u001b[0;32m      2\u001b[0m \u001b[1;31m# dd['퇴근시간'] = dd['7하']+dd['8하']+dd['9하']\u001b[0m\u001b[1;33m\u001b[0m\u001b[1;33m\u001b[0m\u001b[0m\n\u001b[1;32m----> 3\u001b[1;33m \u001b[0mdd\u001b[0m\u001b[1;33m[\u001b[0m\u001b[1;34m'퇴근시간'\u001b[0m\u001b[1;33m]\u001b[0m \u001b[1;33m=\u001b[0m \u001b[0msum\u001b[0m\u001b[1;33m(\u001b[0m\u001b[0mdd\u001b[0m\u001b[1;33m[\u001b[0m\u001b[1;34m'7하'\u001b[0m\u001b[1;33m]\u001b[0m\u001b[1;33m,\u001b[0m\u001b[0mdd\u001b[0m\u001b[1;33m[\u001b[0m\u001b[1;34m'8하'\u001b[0m\u001b[1;33m]\u001b[0m\u001b[1;33m,\u001b[0m\u001b[0mdd\u001b[0m\u001b[1;33m[\u001b[0m\u001b[1;34m'9하'\u001b[0m\u001b[1;33m]\u001b[0m\u001b[1;33m)\u001b[0m\u001b[1;33m\u001b[0m\u001b[1;33m\u001b[0m\u001b[0m\n\u001b[0m",
      "\u001b[1;31mTypeError\u001b[0m: sum() takes at most 2 arguments (3 given)"
     ]
    }
   ],
   "source": [
    "# 퇴근 시간에 하차인원이 가장 많은 역.. (pm 7:00 ~ 10:00)\n",
    "dd['퇴근시간'] = dd['7하']+dd['8하']+dd['9하']"
   ]
  },
  {
   "cell_type": "code",
   "execution_count": 233,
   "id": "fd839274",
   "metadata": {},
   "outputs": [
    {
     "data": {
      "text/plain": [
       "32    강남\n",
       "Name: 지하철역, dtype: object"
      ]
     },
     "execution_count": 233,
     "metadata": {},
     "output_type": "execute_result"
    }
   ],
   "source": [
    "dd.sort_values('퇴근시간',ascending=False)['지하철역'].head(1)"
   ]
  },
  {
   "cell_type": "code",
   "execution_count": null,
   "id": "716fcfab",
   "metadata": {},
   "outputs": [],
   "source": []
  },
  {
   "cell_type": "code",
   "execution_count": 251,
   "id": "3f41d4bf",
   "metadata": {},
   "outputs": [
    {
     "data": {
      "text/plain": [
       "40    167308\n",
       "Name: 퇴근시간, dtype: int32"
      ]
     },
     "execution_count": 251,
     "metadata": {},
     "output_type": "execute_result"
    }
   ],
   "source": [
    "# 신림역의 퇴근시간 이용자 수?\n",
    "dd[dd['지하철역']=='신림']['퇴근시간']"
   ]
  },
  {
   "cell_type": "code",
   "execution_count": null,
   "id": "e691a170",
   "metadata": {},
   "outputs": [],
   "source": []
  },
  {
   "cell_type": "code",
   "execution_count": null,
   "id": "93097c31",
   "metadata": {},
   "outputs": [],
   "source": []
  },
  {
   "cell_type": "code",
   "execution_count": null,
   "id": "afc1a78e",
   "metadata": {},
   "outputs": [],
   "source": []
  },
  {
   "cell_type": "code",
   "execution_count": null,
   "id": "68283a30",
   "metadata": {},
   "outputs": [],
   "source": []
  },
  {
   "cell_type": "code",
   "execution_count": null,
   "id": "5a45063f",
   "metadata": {},
   "outputs": [],
   "source": []
  },
  {
   "cell_type": "code",
   "execution_count": null,
   "id": "374db849",
   "metadata": {},
   "outputs": [],
   "source": []
  },
  {
   "cell_type": "code",
   "execution_count": null,
   "id": "85c98b74",
   "metadata": {},
   "outputs": [],
   "source": []
  },
  {
   "cell_type": "code",
   "execution_count": null,
   "id": "3320cd54",
   "metadata": {},
   "outputs": [],
   "source": []
  },
  {
   "cell_type": "code",
   "execution_count": null,
   "id": "cdf3940a",
   "metadata": {},
   "outputs": [],
   "source": []
  }
 ],
 "metadata": {
  "kernelspec": {
   "display_name": "Python 3 (ipykernel)",
   "language": "python",
   "name": "python3"
  },
  "language_info": {
   "codemirror_mode": {
    "name": "ipython",
    "version": 3
   },
   "file_extension": ".py",
   "mimetype": "text/x-python",
   "name": "python",
   "nbconvert_exporter": "python",
   "pygments_lexer": "ipython3",
   "version": "3.9.7"
  }
 },
 "nbformat": 4,
 "nbformat_minor": 5
}
