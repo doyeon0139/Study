{
 "cells": [
  {
   "cell_type": "code",
   "execution_count": 1,
   "id": "bf646f9c",
   "metadata": {},
   "outputs": [],
   "source": [
    "# df = pd.read_csv('./data_t/주택도시보증공사_전국 신규 민간아파트 분양가격 동향_20211031.csv', encoding='euckr')\n",
    "# df.head()\n",
    "# 지역별 평당 분양가격\n",
    "# 2021년도의 지역별 분양가 평균\n",
    "# 2015 ~ 2021년 사이 지역별 분양가 변화를 line chart로 그리시오..\n",
    "# 각 년도에 월별 분양가 box chart로 그리시오..\n"
   ]
  },
  {
   "cell_type": "code",
   "execution_count": null,
   "id": "ccb8bf82",
   "metadata": {},
   "outputs": [],
   "source": []
  },
  {
   "cell_type": "code",
   "execution_count": 2,
   "id": "0fb98a8e",
   "metadata": {},
   "outputs": [],
   "source": [
    "import pandas as pd\n",
    "import numpy as np\n",
    "import matplotlib.pyplot as plt\n",
    "import seaborn as sns\n",
    "\n",
    "import warnings\n",
    "warnings.filterwarnings(action='ignore')\n",
    "\n",
    "import matplotlib as mpl\n",
    "import matplotlib.font_manager as fm\n",
    "\n",
    "mpl.rcParams['axes.unicode_minus'] = False\n",
    "\n",
    "path = 'C:/Windows/Fonts/malgun.ttf'\n",
    "font_name = fm.FontProperties(fname=path, size=50).get_name()\n",
    "plt.rc('font', family=font_name)"
   ]
  },
  {
   "cell_type": "code",
   "execution_count": 16,
   "id": "3906e674",
   "metadata": {
    "collapsed": true
   },
   "outputs": [
    {
     "data": {
      "text/html": [
       "<div>\n",
       "<style scoped>\n",
       "    .dataframe tbody tr th:only-of-type {\n",
       "        vertical-align: middle;\n",
       "    }\n",
       "\n",
       "    .dataframe tbody tr th {\n",
       "        vertical-align: top;\n",
       "    }\n",
       "\n",
       "    .dataframe thead th {\n",
       "        text-align: right;\n",
       "    }\n",
       "</style>\n",
       "<table border=\"1\" class=\"dataframe\">\n",
       "  <thead>\n",
       "    <tr style=\"text-align: right;\">\n",
       "      <th></th>\n",
       "      <th>상가업소번호</th>\n",
       "      <th>상호명</th>\n",
       "      <th>지점명</th>\n",
       "      <th>상권업종대분류코드</th>\n",
       "      <th>상권업종대분류명</th>\n",
       "      <th>상권업종중분류코드</th>\n",
       "      <th>상권업종중분류명</th>\n",
       "      <th>상권업종소분류코드</th>\n",
       "      <th>상권업종소분류명</th>\n",
       "      <th>표준산업분류코드</th>\n",
       "      <th>...</th>\n",
       "      <th>건물관리번호</th>\n",
       "      <th>건물명</th>\n",
       "      <th>도로명주소</th>\n",
       "      <th>구우편번호</th>\n",
       "      <th>신우편번호</th>\n",
       "      <th>동정보</th>\n",
       "      <th>층정보</th>\n",
       "      <th>호정보</th>\n",
       "      <th>경도</th>\n",
       "      <th>위도</th>\n",
       "    </tr>\n",
       "  </thead>\n",
       "  <tbody>\n",
       "    <tr>\n",
       "      <th>0</th>\n",
       "      <td>23324279</td>\n",
       "      <td>제중건강원</td>\n",
       "      <td>NaN</td>\n",
       "      <td>D</td>\n",
       "      <td>소매</td>\n",
       "      <td>D10</td>\n",
       "      <td>건강/미용식품</td>\n",
       "      <td>D10A07</td>\n",
       "      <td>건강원</td>\n",
       "      <td>G47216</td>\n",
       "      <td>...</td>\n",
       "      <td>1156010600100410002034626</td>\n",
       "      <td>NaN</td>\n",
       "      <td>서울특별시 영등포구 영중로14길 11-17</td>\n",
       "      <td>150035</td>\n",
       "      <td>7250.0</td>\n",
       "      <td>NaN</td>\n",
       "      <td>1</td>\n",
       "      <td>NaN</td>\n",
       "      <td>126.907168</td>\n",
       "      <td>37.520613</td>\n",
       "    </tr>\n",
       "    <tr>\n",
       "      <th>1</th>\n",
       "      <td>24525909</td>\n",
       "      <td>민속악기사</td>\n",
       "      <td>NaN</td>\n",
       "      <td>D</td>\n",
       "      <td>소매</td>\n",
       "      <td>D04</td>\n",
       "      <td>취미/오락관련소매</td>\n",
       "      <td>D04A09</td>\n",
       "      <td>악기판매</td>\n",
       "      <td>G47593</td>\n",
       "      <td>...</td>\n",
       "      <td>1120012200101420011000227</td>\n",
       "      <td>NaN</td>\n",
       "      <td>서울특별시 성동구 용답5길 2</td>\n",
       "      <td>133849</td>\n",
       "      <td>4803.0</td>\n",
       "      <td>NaN</td>\n",
       "      <td>NaN</td>\n",
       "      <td>NaN</td>\n",
       "      <td>127.049018</td>\n",
       "      <td>37.566857</td>\n",
       "    </tr>\n",
       "  </tbody>\n",
       "</table>\n",
       "<p>2 rows × 39 columns</p>\n",
       "</div>"
      ],
      "text/plain": [
       "     상가업소번호    상호명  지점명 상권업종대분류코드 상권업종대분류명 상권업종중분류코드   상권업종중분류명 상권업종소분류코드  \\\n",
       "0  23324279  제중건강원  NaN         D       소매       D10    건강/미용식품    D10A07   \n",
       "1  24525909  민속악기사  NaN         D       소매       D04  취미/오락관련소매    D04A09   \n",
       "\n",
       "  상권업종소분류명 표준산업분류코드  ...                     건물관리번호  건물명  \\\n",
       "0      건강원   G47216  ...  1156010600100410002034626  NaN   \n",
       "1     악기판매   G47593  ...  1120012200101420011000227  NaN   \n",
       "\n",
       "                     도로명주소   구우편번호   신우편번호  동정보  층정보  호정보          경도  \\\n",
       "0  서울특별시 영등포구 영중로14길 11-17  150035  7250.0  NaN    1  NaN  126.907168   \n",
       "1         서울특별시 성동구 용답5길 2  133849  4803.0  NaN  NaN  NaN  127.049018   \n",
       "\n",
       "          위도  \n",
       "0  37.520613  \n",
       "1  37.566857  \n",
       "\n",
       "[2 rows x 39 columns]"
      ]
     },
     "execution_count": 16,
     "metadata": {},
     "output_type": "execute_result"
    }
   ],
   "source": [
    "tt = pd.read_csv('./data_study/소상공인시장진흥공단_상가(상권)정보_서울_202112.csv')\n",
    "tt.head(2)"
   ]
  },
  {
   "cell_type": "code",
   "execution_count": 9,
   "id": "b8b84a7d",
   "metadata": {},
   "outputs": [],
   "source": []
  },
  {
   "cell_type": "code",
   "execution_count": 17,
   "id": "b7b4816b",
   "metadata": {
    "collapsed": true
   },
   "outputs": [
    {
     "data": {
      "text/html": [
       "<div>\n",
       "<style scoped>\n",
       "    .dataframe tbody tr th:only-of-type {\n",
       "        vertical-align: middle;\n",
       "    }\n",
       "\n",
       "    .dataframe tbody tr th {\n",
       "        vertical-align: top;\n",
       "    }\n",
       "\n",
       "    .dataframe thead th {\n",
       "        text-align: right;\n",
       "    }\n",
       "</style>\n",
       "<table border=\"1\" class=\"dataframe\">\n",
       "  <thead>\n",
       "    <tr style=\"text-align: right;\">\n",
       "      <th></th>\n",
       "      <th>상가업소번호</th>\n",
       "      <th>상호명</th>\n",
       "      <th>지점명</th>\n",
       "      <th>상권업종대분류코드</th>\n",
       "      <th>상권업종대분류명</th>\n",
       "      <th>상권업종중분류코드</th>\n",
       "      <th>상권업종중분류명</th>\n",
       "      <th>상권업종소분류코드</th>\n",
       "      <th>상권업종소분류명</th>\n",
       "      <th>표준산업분류코드</th>\n",
       "      <th>...</th>\n",
       "      <th>건물관리번호</th>\n",
       "      <th>건물명</th>\n",
       "      <th>도로명주소</th>\n",
       "      <th>구우편번호</th>\n",
       "      <th>신우편번호</th>\n",
       "      <th>동정보</th>\n",
       "      <th>층정보</th>\n",
       "      <th>호정보</th>\n",
       "      <th>경도</th>\n",
       "      <th>위도</th>\n",
       "    </tr>\n",
       "  </thead>\n",
       "  <tbody>\n",
       "    <tr>\n",
       "      <th>0</th>\n",
       "      <td>23324279</td>\n",
       "      <td>제중건강원</td>\n",
       "      <td>NaN</td>\n",
       "      <td>D</td>\n",
       "      <td>소매</td>\n",
       "      <td>D10</td>\n",
       "      <td>건강/미용식품</td>\n",
       "      <td>D10A07</td>\n",
       "      <td>건강원</td>\n",
       "      <td>G47216</td>\n",
       "      <td>...</td>\n",
       "      <td>1156010600100410002034626</td>\n",
       "      <td>NaN</td>\n",
       "      <td>서울특별시 영등포구 영중로14길 11-17</td>\n",
       "      <td>150035</td>\n",
       "      <td>7250.0</td>\n",
       "      <td>NaN</td>\n",
       "      <td>1</td>\n",
       "      <td>NaN</td>\n",
       "      <td>126.907168</td>\n",
       "      <td>37.520613</td>\n",
       "    </tr>\n",
       "    <tr>\n",
       "      <th>1</th>\n",
       "      <td>24525909</td>\n",
       "      <td>민속악기사</td>\n",
       "      <td>NaN</td>\n",
       "      <td>D</td>\n",
       "      <td>소매</td>\n",
       "      <td>D04</td>\n",
       "      <td>취미/오락관련소매</td>\n",
       "      <td>D04A09</td>\n",
       "      <td>악기판매</td>\n",
       "      <td>G47593</td>\n",
       "      <td>...</td>\n",
       "      <td>1120012200101420011000227</td>\n",
       "      <td>NaN</td>\n",
       "      <td>서울특별시 성동구 용답5길 2</td>\n",
       "      <td>133849</td>\n",
       "      <td>4803.0</td>\n",
       "      <td>NaN</td>\n",
       "      <td>NaN</td>\n",
       "      <td>NaN</td>\n",
       "      <td>127.049018</td>\n",
       "      <td>37.566857</td>\n",
       "    </tr>\n",
       "    <tr>\n",
       "      <th>2</th>\n",
       "      <td>24715368</td>\n",
       "      <td>태평양진주</td>\n",
       "      <td>NaN</td>\n",
       "      <td>D</td>\n",
       "      <td>소매</td>\n",
       "      <td>D26</td>\n",
       "      <td>시계/귀금속소매</td>\n",
       "      <td>D26A01</td>\n",
       "      <td>시계/귀금속</td>\n",
       "      <td>G47830</td>\n",
       "      <td>...</td>\n",
       "      <td>1111015200100440000000001</td>\n",
       "      <td>금사랑투빌딩</td>\n",
       "      <td>서울특별시 종로구 서순라길 17-10</td>\n",
       "      <td>110390</td>\n",
       "      <td>3138.0</td>\n",
       "      <td>NaN</td>\n",
       "      <td>NaN</td>\n",
       "      <td>NaN</td>\n",
       "      <td>126.993530</td>\n",
       "      <td>37.571848</td>\n",
       "    </tr>\n",
       "  </tbody>\n",
       "</table>\n",
       "<p>3 rows × 39 columns</p>\n",
       "</div>"
      ],
      "text/plain": [
       "     상가업소번호    상호명  지점명 상권업종대분류코드 상권업종대분류명 상권업종중분류코드   상권업종중분류명 상권업종소분류코드  \\\n",
       "0  23324279  제중건강원  NaN         D       소매       D10    건강/미용식품    D10A07   \n",
       "1  24525909  민속악기사  NaN         D       소매       D04  취미/오락관련소매    D04A09   \n",
       "2  24715368  태평양진주  NaN         D       소매       D26   시계/귀금속소매    D26A01   \n",
       "\n",
       "  상권업종소분류명 표준산업분류코드  ...                     건물관리번호     건물명  \\\n",
       "0      건강원   G47216  ...  1156010600100410002034626     NaN   \n",
       "1     악기판매   G47593  ...  1120012200101420011000227     NaN   \n",
       "2   시계/귀금속   G47830  ...  1111015200100440000000001  금사랑투빌딩   \n",
       "\n",
       "                     도로명주소   구우편번호   신우편번호  동정보  층정보  호정보          경도  \\\n",
       "0  서울특별시 영등포구 영중로14길 11-17  150035  7250.0  NaN    1  NaN  126.907168   \n",
       "1         서울특별시 성동구 용답5길 2  133849  4803.0  NaN  NaN  NaN  127.049018   \n",
       "2     서울특별시 종로구 서순라길 17-10  110390  3138.0  NaN  NaN  NaN  126.993530   \n",
       "\n",
       "          위도  \n",
       "0  37.520613  \n",
       "1  37.566857  \n",
       "2  37.571848  \n",
       "\n",
       "[3 rows x 39 columns]"
      ]
     },
     "execution_count": 17,
     "metadata": {},
     "output_type": "execute_result"
    }
   ],
   "source": [
    "tt.head(3)"
   ]
  },
  {
   "cell_type": "code",
   "execution_count": 20,
   "id": "11fc4a76",
   "metadata": {
    "collapsed": true
   },
   "outputs": [
    {
     "data": {
      "text/plain": [
       "상가업소번호        True\n",
       "상호명           True\n",
       "지점명          False\n",
       "상권업종대분류코드     True\n",
       "상권업종대분류명      True\n",
       "상권업종중분류코드     True\n",
       "상권업종중분류명      True\n",
       "상권업종소분류코드     True\n",
       "상권업종소분류명      True\n",
       "표준산업분류코드     False\n",
       "표준산업분류명      False\n",
       "시도코드          True\n",
       "시도명           True\n",
       "시군구코드         True\n",
       "시군구명          True\n",
       "행정동코드         True\n",
       "행정동명          True\n",
       "법정동코드         True\n",
       "법정동명          True\n",
       "지번코드          True\n",
       "대지구분코드        True\n",
       "대지구분명         True\n",
       "지번본번지         True\n",
       "지번부번지        False\n",
       "지번주소          True\n",
       "도로명코드         True\n",
       "도로명           True\n",
       "건물본번지         True\n",
       "건물부번지        False\n",
       "건물관리번호        True\n",
       "건물명          False\n",
       "도로명주소         True\n",
       "구우편번호         True\n",
       "신우편번호         True\n",
       "동정보          False\n",
       "층정보          False\n",
       "호정보          False\n",
       "경도            True\n",
       "위도            True\n",
       "dtype: bool"
      ]
     },
     "execution_count": 20,
     "metadata": {},
     "output_type": "execute_result"
    }
   ],
   "source": [
    "tt_c=tt.isna().sum()<1000\n",
    "tt_c"
   ]
  },
  {
   "cell_type": "code",
   "execution_count": 21,
   "id": "00e3f652",
   "metadata": {},
   "outputs": [],
   "source": [
    "tt_cc=tt_c[tt_c].index"
   ]
  },
  {
   "cell_type": "code",
   "execution_count": 22,
   "id": "0f3a95fe",
   "metadata": {},
   "outputs": [
    {
     "data": {
      "text/plain": [
       "Index(['상가업소번호', '상호명', '상권업종대분류코드', '상권업종대분류명', '상권업종중분류코드', '상권업종중분류명',\n",
       "       '상권업종소분류코드', '상권업종소분류명', '시도코드', '시도명', '시군구코드', '시군구명', '행정동코드',\n",
       "       '행정동명', '법정동코드', '법정동명', '지번코드', '대지구분코드', '대지구분명', '지번본번지', '지번주소',\n",
       "       '도로명코드', '도로명', '건물본번지', '건물관리번호', '도로명주소', '구우편번호', '신우편번호', '경도',\n",
       "       '위도'],\n",
       "      dtype='object')"
      ]
     },
     "execution_count": 22,
     "metadata": {},
     "output_type": "execute_result"
    }
   ],
   "source": [
    "tt_cc"
   ]
  },
  {
   "cell_type": "code",
   "execution_count": 26,
   "id": "2f9e28ad",
   "metadata": {},
   "outputs": [],
   "source": [
    "tt_11 = tt[tt_cc]"
   ]
  },
  {
   "cell_type": "code",
   "execution_count": 27,
   "id": "b12b8fa8",
   "metadata": {
    "collapsed": true
   },
   "outputs": [
    {
     "data": {
      "text/plain": [
       "상가업소번호        0\n",
       "상호명           1\n",
       "상권업종대분류코드     0\n",
       "상권업종대분류명      0\n",
       "상권업종중분류코드     0\n",
       "상권업종중분류명      0\n",
       "상권업종소분류코드     0\n",
       "상권업종소분류명      0\n",
       "시도코드          0\n",
       "시도명           0\n",
       "시군구코드         0\n",
       "시군구명          0\n",
       "행정동코드         0\n",
       "행정동명          5\n",
       "법정동코드         0\n",
       "법정동명          0\n",
       "지번코드          0\n",
       "대지구분코드        0\n",
       "대지구분명         0\n",
       "지번본번지         0\n",
       "지번주소          0\n",
       "도로명코드         0\n",
       "도로명           0\n",
       "건물본번지         0\n",
       "건물관리번호        0\n",
       "도로명주소         0\n",
       "구우편번호         0\n",
       "신우편번호        50\n",
       "경도            0\n",
       "위도            0\n",
       "dtype: int64"
      ]
     },
     "execution_count": 27,
     "metadata": {},
     "output_type": "execute_result"
    }
   ],
   "source": [
    "tt_11.isna().sum()"
   ]
  },
  {
   "cell_type": "code",
   "execution_count": 28,
   "id": "dfacd157",
   "metadata": {},
   "outputs": [],
   "source": [
    "tt_11.dropna(inplace=True)"
   ]
  },
  {
   "cell_type": "code",
   "execution_count": 29,
   "id": "f0a2c3a0",
   "metadata": {
    "collapsed": true
   },
   "outputs": [
    {
     "name": "stdout",
     "output_type": "stream",
     "text": [
      "<class 'pandas.core.frame.DataFrame'>\n",
      "Int64Index: 315238 entries, 0 to 315293\n",
      "Data columns (total 30 columns):\n",
      " #   Column     Non-Null Count   Dtype  \n",
      "---  ------     --------------   -----  \n",
      " 0   상가업소번호     315238 non-null  int64  \n",
      " 1   상호명        315238 non-null  object \n",
      " 2   상권업종대분류코드  315238 non-null  object \n",
      " 3   상권업종대분류명   315238 non-null  object \n",
      " 4   상권업종중분류코드  315238 non-null  object \n",
      " 5   상권업종중분류명   315238 non-null  object \n",
      " 6   상권업종소분류코드  315238 non-null  object \n",
      " 7   상권업종소분류명   315238 non-null  object \n",
      " 8   시도코드       315238 non-null  int64  \n",
      " 9   시도명        315238 non-null  object \n",
      " 10  시군구코드      315238 non-null  int64  \n",
      " 11  시군구명       315238 non-null  object \n",
      " 12  행정동코드      315238 non-null  int64  \n",
      " 13  행정동명       315238 non-null  object \n",
      " 14  법정동코드      315238 non-null  int64  \n",
      " 15  법정동명       315238 non-null  object \n",
      " 16  지번코드       315238 non-null  int64  \n",
      " 17  대지구분코드     315238 non-null  int64  \n",
      " 18  대지구분명      315238 non-null  object \n",
      " 19  지번본번지      315238 non-null  int64  \n",
      " 20  지번주소       315238 non-null  object \n",
      " 21  도로명코드      315238 non-null  int64  \n",
      " 22  도로명        315238 non-null  object \n",
      " 23  건물본번지      315238 non-null  int64  \n",
      " 24  건물관리번호     315238 non-null  object \n",
      " 25  도로명주소      315238 non-null  object \n",
      " 26  구우편번호      315238 non-null  int64  \n",
      " 27  신우편번호      315238 non-null  float64\n",
      " 28  경도         315238 non-null  float64\n",
      " 29  위도         315238 non-null  float64\n",
      "dtypes: float64(3), int64(11), object(16)\n",
      "memory usage: 74.6+ MB\n"
     ]
    }
   ],
   "source": [
    "tt_11.info()"
   ]
  },
  {
   "cell_type": "code",
   "execution_count": 30,
   "id": "1c22d917",
   "metadata": {
    "collapsed": true
   },
   "outputs": [
    {
     "data": {
      "text/html": [
       "<div>\n",
       "<style scoped>\n",
       "    .dataframe tbody tr th:only-of-type {\n",
       "        vertical-align: middle;\n",
       "    }\n",
       "\n",
       "    .dataframe tbody tr th {\n",
       "        vertical-align: top;\n",
       "    }\n",
       "\n",
       "    .dataframe thead th {\n",
       "        text-align: right;\n",
       "    }\n",
       "</style>\n",
       "<table border=\"1\" class=\"dataframe\">\n",
       "  <thead>\n",
       "    <tr style=\"text-align: right;\">\n",
       "      <th></th>\n",
       "      <th>상가업소번호</th>\n",
       "      <th>상호명</th>\n",
       "      <th>상권업종대분류코드</th>\n",
       "      <th>상권업종대분류명</th>\n",
       "      <th>상권업종중분류코드</th>\n",
       "      <th>상권업종중분류명</th>\n",
       "      <th>상권업종소분류코드</th>\n",
       "      <th>상권업종소분류명</th>\n",
       "      <th>시도코드</th>\n",
       "      <th>시도명</th>\n",
       "      <th>...</th>\n",
       "      <th>지번주소</th>\n",
       "      <th>도로명코드</th>\n",
       "      <th>도로명</th>\n",
       "      <th>건물본번지</th>\n",
       "      <th>건물관리번호</th>\n",
       "      <th>도로명주소</th>\n",
       "      <th>구우편번호</th>\n",
       "      <th>신우편번호</th>\n",
       "      <th>경도</th>\n",
       "      <th>위도</th>\n",
       "    </tr>\n",
       "  </thead>\n",
       "  <tbody>\n",
       "    <tr>\n",
       "      <th>0</th>\n",
       "      <td>23324279</td>\n",
       "      <td>제중건강원</td>\n",
       "      <td>D</td>\n",
       "      <td>소매</td>\n",
       "      <td>D10</td>\n",
       "      <td>건강/미용식품</td>\n",
       "      <td>D10A07</td>\n",
       "      <td>건강원</td>\n",
       "      <td>11</td>\n",
       "      <td>서울특별시</td>\n",
       "      <td>...</td>\n",
       "      <td>서울특별시 영등포구 영등포동5가 41-1</td>\n",
       "      <td>115604154799</td>\n",
       "      <td>서울특별시 영등포구 영중로14길</td>\n",
       "      <td>11</td>\n",
       "      <td>1156010600100410002034626</td>\n",
       "      <td>서울특별시 영등포구 영중로14길 11-17</td>\n",
       "      <td>150035</td>\n",
       "      <td>7250.0</td>\n",
       "      <td>126.907168</td>\n",
       "      <td>37.520613</td>\n",
       "    </tr>\n",
       "    <tr>\n",
       "      <th>1</th>\n",
       "      <td>24525909</td>\n",
       "      <td>민속악기사</td>\n",
       "      <td>D</td>\n",
       "      <td>소매</td>\n",
       "      <td>D04</td>\n",
       "      <td>취미/오락관련소매</td>\n",
       "      <td>D04A09</td>\n",
       "      <td>악기판매</td>\n",
       "      <td>11</td>\n",
       "      <td>서울특별시</td>\n",
       "      <td>...</td>\n",
       "      <td>서울특별시 성동구 용답동 142-11</td>\n",
       "      <td>112004109480</td>\n",
       "      <td>서울특별시 성동구 용답5길</td>\n",
       "      <td>2</td>\n",
       "      <td>1120012200101420011000227</td>\n",
       "      <td>서울특별시 성동구 용답5길 2</td>\n",
       "      <td>133849</td>\n",
       "      <td>4803.0</td>\n",
       "      <td>127.049018</td>\n",
       "      <td>37.566857</td>\n",
       "    </tr>\n",
       "  </tbody>\n",
       "</table>\n",
       "<p>2 rows × 30 columns</p>\n",
       "</div>"
      ],
      "text/plain": [
       "     상가업소번호    상호명 상권업종대분류코드 상권업종대분류명 상권업종중분류코드   상권업종중분류명 상권업종소분류코드 상권업종소분류명  \\\n",
       "0  23324279  제중건강원         D       소매       D10    건강/미용식품    D10A07      건강원   \n",
       "1  24525909  민속악기사         D       소매       D04  취미/오락관련소매    D04A09     악기판매   \n",
       "\n",
       "   시도코드    시도명  ...                    지번주소         도로명코드                도로명  \\\n",
       "0    11  서울특별시  ...  서울특별시 영등포구 영등포동5가 41-1  115604154799  서울특별시 영등포구 영중로14길   \n",
       "1    11  서울특별시  ...    서울특별시 성동구 용답동 142-11  112004109480     서울특별시 성동구 용답5길   \n",
       "\n",
       "  건물본번지                     건물관리번호                    도로명주소   구우편번호   신우편번호  \\\n",
       "0    11  1156010600100410002034626  서울특별시 영등포구 영중로14길 11-17  150035  7250.0   \n",
       "1     2  1120012200101420011000227         서울특별시 성동구 용답5길 2  133849  4803.0   \n",
       "\n",
       "           경도         위도  \n",
       "0  126.907168  37.520613  \n",
       "1  127.049018  37.566857  \n",
       "\n",
       "[2 rows x 30 columns]"
      ]
     },
     "execution_count": 30,
     "metadata": {},
     "output_type": "execute_result"
    }
   ],
   "source": [
    "tt_11.head(2)"
   ]
  },
  {
   "cell_type": "code",
   "execution_count": 31,
   "id": "2b78f91f",
   "metadata": {},
   "outputs": [],
   "source": [
    "tt_11['상호명']=tt_11['상호명'].apply(lambda x:x.lower())"
   ]
  },
  {
   "cell_type": "code",
   "execution_count": 32,
   "id": "963c09f5",
   "metadata": {},
   "outputs": [],
   "source": [
    "tt31 = tt_11[tt_11['상호명'].str.contains('(베|배)스킨라빈스|baskinrobbins')]"
   ]
  },
  {
   "cell_type": "code",
   "execution_count": 35,
   "id": "928cd9f4",
   "metadata": {},
   "outputs": [
    {
     "data": {
      "text/plain": [
       "array(['배스킨라빈스공릉점', '배스킨라빈스강남중앙', '배스킨라빈스31', '배스킨라빈스31상봉역점',\n",
       "       '배스킨라빈스31서초점', '배스킨라빈스31응암역점', '배스킨라빈스31반포삼호가든점', '배스킨라빈스31오금역점',\n",
       "       '배스킨라빈스31신정네거리점', '배스킨라빈스31중계점', '배스킨라빈스', '배스킨라빈스31미아역점',\n",
       "       '배스킨라빈스31신림점', '배스킨라빈스31영등포구청점', '베스킨라빈스신림포도몰', '베스킨라빈스송파',\n",
       "       '배스킨라빈스31난곡점', '배스킨라빈스31망우우림점', '베스킨라빈스마들역점', '배스킨라빈스31신당점',\n",
       "       '배스킨라빈스서울베이비키즈페어임시부스', '베스킨라빈스', '배스킨라빈스31개봉중앙점',\n",
       "       '배스킨라빈스31남부터미널역점', '배스킨라빈스31북가좌점', '배스킨라빈스31신정점', '배스킨라빈스31방배역점',\n",
       "       '배스킨라빈스31응암2호점', '배스킨라빈스31금천홈플러스점', '배스킨라빈스31포이점', '배스킨라빈스31전농동아점',\n",
       "       '배스킨라빈스31청담2호점', '배스킨라빈스31중계은행점', '배스킨라빈스31이태원점',\n",
       "       '배스킨라빈스31신내홈플러스점', '배스킨라빈스31노량진점', '배스킨라빈스31은평뉴타운점', '배스킨라빈스31응암점',\n",
       "       '배스킨라빈스31망원역점', '배스킨라빈스31양재매헌점', '배스킨라빈스31까치산역점', '배스킨라빈스31구의역점',\n",
       "       '베스킨라빈스신도림테크노마트', '배스킨라빈스31이수역점', '배스킨라빈스31연신내점', '배스킨라빈스31수락산역점',\n",
       "       '배스킨라빈스31남구로점', '배스킨라빈스31쌍문점', '배스킨라빈스31상암홈플러스점', '배스킨라빈스31구로고척점',\n",
       "       '용산역이마트배스킨라빈스', '배스킨라빈스31안암점', '배스킨라빈스31아차산역점', '배스킨라빈스31방화동점',\n",
       "       '배스킨라빈스31cafe31신촌점', '배스킨라빈스31둔촌역점', '배스킨라빈스31중랑구청점',\n",
       "       '베스킨라빈스월계이마트', '배스킨라빈스31동묘역점', '배스킨라빈스31건대역점', '배스킨라빈스31둔촌푸르지오점',\n",
       "       '배스킨라빈스신방화역점', '배스킨라빈스31한양대점', '배스킨라빈스31중곡역점', '배스킨라빈스31광운대역점',\n",
       "       '써티원베스킨라빈스', '배스킨라빈스31명일역점', '배스킨라빈스31도화점', '배스킨라빈스31당산역점',\n",
       "       '배스킨라빈스성동금호점', '배스킨라빈스31면목역점', '베스킨라빈스남부터미널역점', '배스킨라빈스31신도림홈플러스점',\n",
       "       '배스킨라빈스31개봉푸르지오점', '배스킨라빈스31중앙대점', '배스킨라빈스31방학역점', '베스킨라빈스은행나무점',\n",
       "       '배스킨라빈스위례아이파크점', '배스킨라빈스31굽은다리역점', '배스킨라빈스31중랑역점', '베스킨라빈스아이스크림',\n",
       "       '배스킨라빈스31서울숲점', '베스킨라빈스가락본동점', '배스킨라빈스동대문홈플러스', '배스킨라빈스교대점',\n",
       "       '베스킨라빈스목동2단지점', '배스킨라빈스신풍역', '베스킨라빈스롯데몰', '배스킨라빈스31선유도역',\n",
       "       '배스킨라빈스31마포용강점', '배스킨라빈스31홍은동점', '배스킨라빈스31신도림테크노마트점',\n",
       "       '배스킨라빈스31미아삼거리점', '배스킨라빈스31선릉점', '배스킨라빈스31안국역점', '배스킨라빈스31화양삼거리점',\n",
       "       '배스킨라빈스31보라매공원점', '배스킨라빈스31수색이마트점', '배스킨라빈스31월곡홈플러스점',\n",
       "       '배스킨라빈스31길음뉴타운점', '배스킨라빈스31성신여대점', '배스킨라빈스31성수이마트점',\n",
       "       '배스킨라빈스31홍대상상마당점', '배스킨라빈스31답십리역점', '배스킨라빈스31강서구청점',\n",
       "       '배스킨라빈스31서울대입구역점', '배스킨라빈스31한성대입구역점', '베스킨라빈스삼전점', '배스킨라빈스31구로구청점',\n",
       "       '비알코리아베스킨라빈스양', '배스킨라빈스31대림성모점', '배스킨라빈스31숙명여대점', '베스킨라빈스성수역점',\n",
       "       '베스킨라빈스강남', '배스킨라빈스31구로오류동', '배스킨라빈스방이역점', '배스킨라빈스31신월신곡점',\n",
       "       '베스킨라빈스이마트점', '베스킨라빈스쌍문점', '베스킨라빈스중계은행', '베스킨라빈스31아이스크림',\n",
       "       '배스킨라빈스노원세이브존', '베스킨라빈스장안점', '베스킨라빈스신월', '배스킨라빈스남성역점',\n",
       "       '배스킨라빈스브라운청담점', '배스킨라빈스청량리역사점', '베스킨라빈스미아역점', '베스킨라빈스중곡역',\n",
       "       '배스킨라빈스서울역2호'], dtype=object)"
      ]
     },
     "execution_count": 35,
     "metadata": {},
     "output_type": "execute_result"
    }
   ],
   "source": [
    "tt31.상호명.unique()"
   ]
  },
  {
   "cell_type": "code",
   "execution_count": 87,
   "id": "735c2e0c",
   "metadata": {},
   "outputs": [
    {
     "data": {
      "text/html": [
       "<div>\n",
       "<style scoped>\n",
       "    .dataframe tbody tr th:only-of-type {\n",
       "        vertical-align: middle;\n",
       "    }\n",
       "\n",
       "    .dataframe tbody tr th {\n",
       "        vertical-align: top;\n",
       "    }\n",
       "\n",
       "    .dataframe thead th {\n",
       "        text-align: right;\n",
       "    }\n",
       "</style>\n",
       "<table border=\"1\" class=\"dataframe\">\n",
       "  <thead>\n",
       "    <tr style=\"text-align: right;\">\n",
       "      <th></th>\n",
       "      <th>지역명</th>\n",
       "      <th>규모구분</th>\n",
       "      <th>연도</th>\n",
       "      <th>월</th>\n",
       "      <th>분양가격(제곱미터)</th>\n",
       "    </tr>\n",
       "  </thead>\n",
       "  <tbody>\n",
       "    <tr>\n",
       "      <th>0</th>\n",
       "      <td>서울</td>\n",
       "      <td>모든면적</td>\n",
       "      <td>2015</td>\n",
       "      <td>10</td>\n",
       "      <td>5841</td>\n",
       "    </tr>\n",
       "    <tr>\n",
       "      <th>1</th>\n",
       "      <td>서울</td>\n",
       "      <td>전용면적 60제곱미터이하</td>\n",
       "      <td>2015</td>\n",
       "      <td>10</td>\n",
       "      <td>5652</td>\n",
       "    </tr>\n",
       "    <tr>\n",
       "      <th>2</th>\n",
       "      <td>서울</td>\n",
       "      <td>전용면적 60제곱미터초과 85제곱미터이하</td>\n",
       "      <td>2015</td>\n",
       "      <td>10</td>\n",
       "      <td>5882</td>\n",
       "    </tr>\n",
       "    <tr>\n",
       "      <th>3</th>\n",
       "      <td>서울</td>\n",
       "      <td>전용면적 85제곱미터초과 102제곱미터이하</td>\n",
       "      <td>2015</td>\n",
       "      <td>10</td>\n",
       "      <td>5721</td>\n",
       "    </tr>\n",
       "    <tr>\n",
       "      <th>4</th>\n",
       "      <td>서울</td>\n",
       "      <td>전용면적 102제곱미터초과</td>\n",
       "      <td>2015</td>\n",
       "      <td>10</td>\n",
       "      <td>5879</td>\n",
       "    </tr>\n",
       "  </tbody>\n",
       "</table>\n",
       "</div>"
      ],
      "text/plain": [
       "  지역명                     규모구분    연도   월 분양가격(제곱미터)\n",
       "0  서울                     모든면적  2015  10       5841\n",
       "1  서울            전용면적 60제곱미터이하  2015  10       5652\n",
       "2  서울   전용면적 60제곱미터초과 85제곱미터이하  2015  10       5882\n",
       "3  서울  전용면적 85제곱미터초과 102제곱미터이하  2015  10       5721\n",
       "4  서울           전용면적 102제곱미터초과  2015  10       5879"
      ]
     },
     "execution_count": 87,
     "metadata": {},
     "output_type": "execute_result"
    }
   ],
   "source": [
    "df = pd.read_csv('./data_study/주택도시보증공사_전국 신규 민간아파트 분양가격 동향_20211031.csv', encoding='euckr')\n",
    "df.head()"
   ]
  },
  {
   "cell_type": "code",
   "execution_count": 88,
   "id": "8cd0f0e7",
   "metadata": {},
   "outputs": [
    {
     "name": "stdout",
     "output_type": "stream",
     "text": [
      "<class 'pandas.core.frame.DataFrame'>\n",
      "RangeIndex: 6205 entries, 0 to 6204\n",
      "Data columns (total 5 columns):\n",
      " #   Column      Non-Null Count  Dtype \n",
      "---  ------      --------------  ----- \n",
      " 0   지역명         6205 non-null   object\n",
      " 1   규모구분        6205 non-null   object\n",
      " 2   연도          6205 non-null   int64 \n",
      " 3   월           6205 non-null   int64 \n",
      " 4   분양가격(제곱미터)  5734 non-null   object\n",
      "dtypes: int64(2), object(3)\n",
      "memory usage: 242.5+ KB\n"
     ]
    }
   ],
   "source": [
    "df.info()"
   ]
  },
  {
   "cell_type": "code",
   "execution_count": 89,
   "id": "fc4a7ad5",
   "metadata": {},
   "outputs": [],
   "source": [
    "df.dropna(inplace=True)"
   ]
  },
  {
   "cell_type": "code",
   "execution_count": 90,
   "id": "3f7bd64c",
   "metadata": {},
   "outputs": [
    {
     "data": {
      "text/plain": [
       "지역명           0\n",
       "규모구분          0\n",
       "연도            0\n",
       "월             0\n",
       "분양가격(제곱미터)    0\n",
       "dtype: int64"
      ]
     },
     "execution_count": 90,
     "metadata": {},
     "output_type": "execute_result"
    }
   ],
   "source": [
    "df.isna().sum()"
   ]
  },
  {
   "cell_type": "code",
   "execution_count": 91,
   "id": "24e65aa8",
   "metadata": {},
   "outputs": [
    {
     "data": {
      "text/html": [
       "<div>\n",
       "<style scoped>\n",
       "    .dataframe tbody tr th:only-of-type {\n",
       "        vertical-align: middle;\n",
       "    }\n",
       "\n",
       "    .dataframe tbody tr th {\n",
       "        vertical-align: top;\n",
       "    }\n",
       "\n",
       "    .dataframe thead th {\n",
       "        text-align: right;\n",
       "    }\n",
       "</style>\n",
       "<table border=\"1\" class=\"dataframe\">\n",
       "  <thead>\n",
       "    <tr style=\"text-align: right;\">\n",
       "      <th></th>\n",
       "      <th>지역명</th>\n",
       "      <th>규모구분</th>\n",
       "      <th>연도</th>\n",
       "      <th>월</th>\n",
       "      <th>분양가격</th>\n",
       "    </tr>\n",
       "  </thead>\n",
       "  <tbody>\n",
       "    <tr>\n",
       "      <th>0</th>\n",
       "      <td>서울</td>\n",
       "      <td>모든면적</td>\n",
       "      <td>2015</td>\n",
       "      <td>10</td>\n",
       "      <td>5841</td>\n",
       "    </tr>\n",
       "    <tr>\n",
       "      <th>1</th>\n",
       "      <td>서울</td>\n",
       "      <td>전용면적 60제곱미터이하</td>\n",
       "      <td>2015</td>\n",
       "      <td>10</td>\n",
       "      <td>5652</td>\n",
       "    </tr>\n",
       "    <tr>\n",
       "      <th>2</th>\n",
       "      <td>서울</td>\n",
       "      <td>전용면적 60제곱미터초과 85제곱미터이하</td>\n",
       "      <td>2015</td>\n",
       "      <td>10</td>\n",
       "      <td>5882</td>\n",
       "    </tr>\n",
       "    <tr>\n",
       "      <th>3</th>\n",
       "      <td>서울</td>\n",
       "      <td>전용면적 85제곱미터초과 102제곱미터이하</td>\n",
       "      <td>2015</td>\n",
       "      <td>10</td>\n",
       "      <td>5721</td>\n",
       "    </tr>\n",
       "    <tr>\n",
       "      <th>4</th>\n",
       "      <td>서울</td>\n",
       "      <td>전용면적 102제곱미터초과</td>\n",
       "      <td>2015</td>\n",
       "      <td>10</td>\n",
       "      <td>5879</td>\n",
       "    </tr>\n",
       "  </tbody>\n",
       "</table>\n",
       "</div>"
      ],
      "text/plain": [
       "  지역명                     규모구분    연도   월  분양가격\n",
       "0  서울                     모든면적  2015  10  5841\n",
       "1  서울            전용면적 60제곱미터이하  2015  10  5652\n",
       "2  서울   전용면적 60제곱미터초과 85제곱미터이하  2015  10  5882\n",
       "3  서울  전용면적 85제곱미터초과 102제곱미터이하  2015  10  5721\n",
       "4  서울           전용면적 102제곱미터초과  2015  10  5879"
      ]
     },
     "execution_count": 91,
     "metadata": {},
     "output_type": "execute_result"
    }
   ],
   "source": [
    "df.rename(columns = {'분양가격(제곱미터)':'분양가격'}, inplace=True)\n",
    "df.head()"
   ]
  },
  {
   "cell_type": "code",
   "execution_count": 92,
   "id": "cf706f03",
   "metadata": {},
   "outputs": [
    {
     "data": {
      "text/plain": [
       "array(['5841', '5652', '5882', ..., ' 6,787 ', ' 5,924 ', ' 6,815 '],\n",
       "      dtype=object)"
      ]
     },
     "execution_count": 92,
     "metadata": {},
     "output_type": "execute_result"
    }
   ],
   "source": [
    "df['분양가격'].values"
   ]
  },
  {
   "cell_type": "code",
   "execution_count": 93,
   "id": "32471123",
   "metadata": {},
   "outputs": [],
   "source": [
    "df['분양가격'] = df['분양가격'].apply(lambda x:str(x).strip().replace(',','').replace('-','').replace('\\n',''))"
   ]
  },
  {
   "cell_type": "code",
   "execution_count": 94,
   "id": "00715088",
   "metadata": {},
   "outputs": [],
   "source": [
    "df['분양가격'] = df['분양가격'].replace('', np.nan)"
   ]
  },
  {
   "cell_type": "code",
   "execution_count": 95,
   "id": "2d39a3b8",
   "metadata": {},
   "outputs": [],
   "source": [
    "df['분양가격'].dropna(inplace=True)"
   ]
  },
  {
   "cell_type": "code",
   "execution_count": 99,
   "id": "66d69ee9",
   "metadata": {},
   "outputs": [],
   "source": [
    "df['평당분양가'] = df['분양가격']"
   ]
  },
  {
   "cell_type": "code",
   "execution_count": 104,
   "id": "fc67ee28",
   "metadata": {},
   "outputs": [],
   "source": [
    "df['평당분양가'].dropna(inplace=True)"
   ]
  },
  {
   "cell_type": "code",
   "execution_count": 109,
   "id": "1e53bebe",
   "metadata": {},
   "outputs": [],
   "source": [
    "df['평당분양가'] = df['평당분양가'].fillna(0)"
   ]
  },
  {
   "cell_type": "code",
   "execution_count": 110,
   "id": "5975e3bc",
   "metadata": {},
   "outputs": [
    {
     "data": {
      "text/plain": [
       "0"
      ]
     },
     "execution_count": 110,
     "metadata": {},
     "output_type": "execute_result"
    }
   ],
   "source": [
    "df['평당분양가'].isna().sum()"
   ]
  },
  {
   "cell_type": "code",
   "execution_count": 115,
   "id": "dac7b934",
   "metadata": {},
   "outputs": [],
   "source": [
    "df['평당분양가'] = df['평당분양가'].astype('float')"
   ]
  },
  {
   "cell_type": "code",
   "execution_count": 116,
   "id": "abcf454d",
   "metadata": {
    "collapsed": true
   },
   "outputs": [
    {
     "name": "stdout",
     "output_type": "stream",
     "text": [
      "<class 'pandas.core.frame.DataFrame'>\n",
      "Int64Index: 5734 entries, 0 to 6204\n",
      "Data columns (total 6 columns):\n",
      " #   Column  Non-Null Count  Dtype  \n",
      "---  ------  --------------  -----  \n",
      " 0   지역명     5734 non-null   object \n",
      " 1   규모구분    5734 non-null   object \n",
      " 2   연도      5734 non-null   int64  \n",
      " 3   월       5734 non-null   int64  \n",
      " 4   분양가격    5703 non-null   object \n",
      " 5   평당분양가   5734 non-null   float64\n",
      "dtypes: float64(1), int64(2), object(3)\n",
      "memory usage: 313.6+ KB\n"
     ]
    }
   ],
   "source": [
    "df.info()"
   ]
  },
  {
   "cell_type": "code",
   "execution_count": 117,
   "id": "5bc2ac23",
   "metadata": {},
   "outputs": [],
   "source": [
    "df['평당분양가'] = df['평당분양가']*3.3"
   ]
  },
  {
   "cell_type": "code",
   "execution_count": 118,
   "id": "f7f8ae40",
   "metadata": {
    "collapsed": true
   },
   "outputs": [
    {
     "data": {
      "text/plain": [
       "0       19275.3\n",
       "1       18651.6\n",
       "2       19410.6\n",
       "3       18879.3\n",
       "4       19400.7\n",
       "         ...   \n",
       "6200    22638.0\n",
       "6201        0.0\n",
       "6202    22397.1\n",
       "6203    19549.2\n",
       "6204    22489.5\n",
       "Name: 평당분양가, Length: 5734, dtype: float64"
      ]
     },
     "execution_count": 118,
     "metadata": {},
     "output_type": "execute_result"
    }
   ],
   "source": [
    "df['평당분양가']"
   ]
  },
  {
   "cell_type": "code",
   "execution_count": 120,
   "id": "46446501",
   "metadata": {
    "collapsed": true
   },
   "outputs": [
    {
     "data": {
      "text/html": [
       "<div>\n",
       "<style scoped>\n",
       "    .dataframe tbody tr th:only-of-type {\n",
       "        vertical-align: middle;\n",
       "    }\n",
       "\n",
       "    .dataframe tbody tr th {\n",
       "        vertical-align: top;\n",
       "    }\n",
       "\n",
       "    .dataframe thead th {\n",
       "        text-align: right;\n",
       "    }\n",
       "</style>\n",
       "<table border=\"1\" class=\"dataframe\">\n",
       "  <thead>\n",
       "    <tr style=\"text-align: right;\">\n",
       "      <th></th>\n",
       "      <th>지역명</th>\n",
       "      <th>규모구분</th>\n",
       "      <th>연도</th>\n",
       "      <th>월</th>\n",
       "      <th>분양가격</th>\n",
       "      <th>평당분양가</th>\n",
       "    </tr>\n",
       "  </thead>\n",
       "  <tbody>\n",
       "    <tr>\n",
       "      <th>0</th>\n",
       "      <td>서울</td>\n",
       "      <td>모든면적</td>\n",
       "      <td>2015</td>\n",
       "      <td>10</td>\n",
       "      <td>5841</td>\n",
       "      <td>19275.3</td>\n",
       "    </tr>\n",
       "    <tr>\n",
       "      <th>1</th>\n",
       "      <td>서울</td>\n",
       "      <td>전용면적 60제곱미터이하</td>\n",
       "      <td>2015</td>\n",
       "      <td>10</td>\n",
       "      <td>5652</td>\n",
       "      <td>18651.6</td>\n",
       "    </tr>\n",
       "    <tr>\n",
       "      <th>2</th>\n",
       "      <td>서울</td>\n",
       "      <td>전용면적 60제곱미터초과 85제곱미터이하</td>\n",
       "      <td>2015</td>\n",
       "      <td>10</td>\n",
       "      <td>5882</td>\n",
       "      <td>19410.6</td>\n",
       "    </tr>\n",
       "    <tr>\n",
       "      <th>3</th>\n",
       "      <td>서울</td>\n",
       "      <td>전용면적 85제곱미터초과 102제곱미터이하</td>\n",
       "      <td>2015</td>\n",
       "      <td>10</td>\n",
       "      <td>5721</td>\n",
       "      <td>18879.3</td>\n",
       "    </tr>\n",
       "    <tr>\n",
       "      <th>4</th>\n",
       "      <td>서울</td>\n",
       "      <td>전용면적 102제곱미터초과</td>\n",
       "      <td>2015</td>\n",
       "      <td>10</td>\n",
       "      <td>5879</td>\n",
       "      <td>19400.7</td>\n",
       "    </tr>\n",
       "  </tbody>\n",
       "</table>\n",
       "</div>"
      ],
      "text/plain": [
       "  지역명                     규모구분    연도   월  분양가격    평당분양가\n",
       "0  서울                     모든면적  2015  10  5841  19275.3\n",
       "1  서울            전용면적 60제곱미터이하  2015  10  5652  18651.6\n",
       "2  서울   전용면적 60제곱미터초과 85제곱미터이하  2015  10  5882  19410.6\n",
       "3  서울  전용면적 85제곱미터초과 102제곱미터이하  2015  10  5721  18879.3\n",
       "4  서울           전용면적 102제곱미터초과  2015  10  5879  19400.7"
      ]
     },
     "execution_count": 120,
     "metadata": {},
     "output_type": "execute_result"
    }
   ],
   "source": [
    "df.head()"
   ]
  },
  {
   "cell_type": "code",
   "execution_count": 124,
   "id": "e3de4f21",
   "metadata": {},
   "outputs": [],
   "source": [
    "df.drop('분양가격', axis=1, inplace=True)"
   ]
  },
  {
   "cell_type": "code",
   "execution_count": 125,
   "id": "5713f0cf",
   "metadata": {},
   "outputs": [
    {
     "data": {
      "text/html": [
       "<div>\n",
       "<style scoped>\n",
       "    .dataframe tbody tr th:only-of-type {\n",
       "        vertical-align: middle;\n",
       "    }\n",
       "\n",
       "    .dataframe tbody tr th {\n",
       "        vertical-align: top;\n",
       "    }\n",
       "\n",
       "    .dataframe thead th {\n",
       "        text-align: right;\n",
       "    }\n",
       "</style>\n",
       "<table border=\"1\" class=\"dataframe\">\n",
       "  <thead>\n",
       "    <tr style=\"text-align: right;\">\n",
       "      <th></th>\n",
       "      <th>지역명</th>\n",
       "      <th>규모구분</th>\n",
       "      <th>연도</th>\n",
       "      <th>월</th>\n",
       "      <th>평당분양가</th>\n",
       "    </tr>\n",
       "  </thead>\n",
       "  <tbody>\n",
       "    <tr>\n",
       "      <th>0</th>\n",
       "      <td>서울</td>\n",
       "      <td>모든면적</td>\n",
       "      <td>2015</td>\n",
       "      <td>10</td>\n",
       "      <td>19275.3</td>\n",
       "    </tr>\n",
       "    <tr>\n",
       "      <th>1</th>\n",
       "      <td>서울</td>\n",
       "      <td>전용면적 60제곱미터이하</td>\n",
       "      <td>2015</td>\n",
       "      <td>10</td>\n",
       "      <td>18651.6</td>\n",
       "    </tr>\n",
       "    <tr>\n",
       "      <th>2</th>\n",
       "      <td>서울</td>\n",
       "      <td>전용면적 60제곱미터초과 85제곱미터이하</td>\n",
       "      <td>2015</td>\n",
       "      <td>10</td>\n",
       "      <td>19410.6</td>\n",
       "    </tr>\n",
       "    <tr>\n",
       "      <th>3</th>\n",
       "      <td>서울</td>\n",
       "      <td>전용면적 85제곱미터초과 102제곱미터이하</td>\n",
       "      <td>2015</td>\n",
       "      <td>10</td>\n",
       "      <td>18879.3</td>\n",
       "    </tr>\n",
       "    <tr>\n",
       "      <th>4</th>\n",
       "      <td>서울</td>\n",
       "      <td>전용면적 102제곱미터초과</td>\n",
       "      <td>2015</td>\n",
       "      <td>10</td>\n",
       "      <td>19400.7</td>\n",
       "    </tr>\n",
       "  </tbody>\n",
       "</table>\n",
       "</div>"
      ],
      "text/plain": [
       "  지역명                     규모구분    연도   월    평당분양가\n",
       "0  서울                     모든면적  2015  10  19275.3\n",
       "1  서울            전용면적 60제곱미터이하  2015  10  18651.6\n",
       "2  서울   전용면적 60제곱미터초과 85제곱미터이하  2015  10  19410.6\n",
       "3  서울  전용면적 85제곱미터초과 102제곱미터이하  2015  10  18879.3\n",
       "4  서울           전용면적 102제곱미터초과  2015  10  19400.7"
      ]
     },
     "execution_count": 125,
     "metadata": {},
     "output_type": "execute_result"
    }
   ],
   "source": [
    "df.head()"
   ]
  },
  {
   "cell_type": "code",
   "execution_count": 126,
   "id": "a36b6986",
   "metadata": {
    "collapsed": true
   },
   "outputs": [
    {
     "data": {
      "text/plain": [
       "0           모든면적\n",
       "1             60\n",
       "2         60~ 85\n",
       "3        85~ 102\n",
       "4           102~\n",
       "          ...   \n",
       "6200        모든면적\n",
       "6201          60\n",
       "6202      60~ 85\n",
       "6203     85~ 102\n",
       "6204        102~\n",
       "Name: 규모구분, Length: 5734, dtype: object"
      ]
     },
     "execution_count": 126,
     "metadata": {},
     "output_type": "execute_result"
    }
   ],
   "source": [
    "df['규모구분'] = df['규모구분'].str.replace('전용면적','')\n",
    "df['규모구분'] = df['규모구분'].str.replace('제곱미터','')\n",
    "df['규모구분'] = df['규모구분'].str.replace('이하','')\n",
    "df['규모구분'] = df['규모구분'].str.replace('초과','~')\n",
    "df['규모구분']"
   ]
  },
  {
   "cell_type": "code",
   "execution_count": 127,
   "id": "ae517763",
   "metadata": {},
   "outputs": [
    {
     "data": {
      "text/html": [
       "<div>\n",
       "<style scoped>\n",
       "    .dataframe tbody tr th:only-of-type {\n",
       "        vertical-align: middle;\n",
       "    }\n",
       "\n",
       "    .dataframe tbody tr th {\n",
       "        vertical-align: top;\n",
       "    }\n",
       "\n",
       "    .dataframe thead th {\n",
       "        text-align: right;\n",
       "    }\n",
       "</style>\n",
       "<table border=\"1\" class=\"dataframe\">\n",
       "  <thead>\n",
       "    <tr style=\"text-align: right;\">\n",
       "      <th></th>\n",
       "      <th>지역명</th>\n",
       "      <th>규모구분</th>\n",
       "      <th>연도</th>\n",
       "      <th>월</th>\n",
       "      <th>평당분양가</th>\n",
       "    </tr>\n",
       "  </thead>\n",
       "  <tbody>\n",
       "    <tr>\n",
       "      <th>0</th>\n",
       "      <td>서울</td>\n",
       "      <td>모든면적</td>\n",
       "      <td>2015</td>\n",
       "      <td>10</td>\n",
       "      <td>19275.3</td>\n",
       "    </tr>\n",
       "    <tr>\n",
       "      <th>1</th>\n",
       "      <td>서울</td>\n",
       "      <td>60</td>\n",
       "      <td>2015</td>\n",
       "      <td>10</td>\n",
       "      <td>18651.6</td>\n",
       "    </tr>\n",
       "    <tr>\n",
       "      <th>2</th>\n",
       "      <td>서울</td>\n",
       "      <td>60~ 85</td>\n",
       "      <td>2015</td>\n",
       "      <td>10</td>\n",
       "      <td>19410.6</td>\n",
       "    </tr>\n",
       "    <tr>\n",
       "      <th>3</th>\n",
       "      <td>서울</td>\n",
       "      <td>85~ 102</td>\n",
       "      <td>2015</td>\n",
       "      <td>10</td>\n",
       "      <td>18879.3</td>\n",
       "    </tr>\n",
       "    <tr>\n",
       "      <th>4</th>\n",
       "      <td>서울</td>\n",
       "      <td>102~</td>\n",
       "      <td>2015</td>\n",
       "      <td>10</td>\n",
       "      <td>19400.7</td>\n",
       "    </tr>\n",
       "  </tbody>\n",
       "</table>\n",
       "</div>"
      ],
      "text/plain": [
       "  지역명      규모구분    연도   월    평당분양가\n",
       "0  서울      모든면적  2015  10  19275.3\n",
       "1  서울        60  2015  10  18651.6\n",
       "2  서울    60~ 85  2015  10  19410.6\n",
       "3  서울   85~ 102  2015  10  18879.3\n",
       "4  서울      102~  2015  10  19400.7"
      ]
     },
     "execution_count": 127,
     "metadata": {},
     "output_type": "execute_result"
    }
   ],
   "source": [
    "df.head()"
   ]
  },
  {
   "cell_type": "code",
   "execution_count": 140,
   "id": "c56dfe6a",
   "metadata": {
    "collapsed": true
   },
   "outputs": [
    {
     "data": {
      "text/plain": [
       "지역명\n",
       "강원    10241.0\n",
       "경기    14548.0\n",
       "경남    11310.0\n",
       "경북    11180.0\n",
       "광주    13042.0\n",
       "대구    15502.0\n",
       "대전    10487.0\n",
       "부산    13963.0\n",
       "서울    27773.0\n",
       "세종    12579.0\n",
       "울산    13487.0\n",
       "인천    15763.0\n",
       "전남     9551.0\n",
       "전북     8981.0\n",
       "제주    21000.0\n",
       "충남     9747.0\n",
       "충북     8807.0\n",
       "Name: 평당분양가, dtype: float64"
      ]
     },
     "execution_count": 140,
     "metadata": {},
     "output_type": "execute_result"
    }
   ],
   "source": [
    "# 지역별 평당 분양가격\n",
    "# 2021년도의 지역별 분양가 평균\n",
    "df[df['연도']==2021].groupby('지역명')['평당분양가'].mean().round()"
   ]
  },
  {
   "cell_type": "code",
   "execution_count": 150,
   "id": "6efa4a6b",
   "metadata": {},
   "outputs": [
    {
     "data": {
      "text/plain": [
       "<AxesSubplot:xlabel='연도'>"
      ]
     },
     "execution_count": 150,
     "metadata": {},
     "output_type": "execute_result"
    },
    {
     "data": {
      "image/png": "[encoded data removed]",
      "text/plain": [
       "<Figure size 432x288 with 1 Axes>"
      ]
     },
     "metadata": {
      "needs_background": "light"
     },
     "output_type": "display_data"
    }
   ],
   "source": [
    "# 2015 ~ 2021년 사이 지역별 분양가 변화를 line chart로 그리시오..\n",
    "df.groupby(['연도','지역명'])['평당분양가'].mean().unstack().plot()"
   ]
  },
  {
   "cell_type": "code",
   "execution_count": 152,
   "id": "3ee0c03e",
   "metadata": {
    "collapsed": true
   },
   "outputs": [
    {
     "data": {
      "text/plain": [
       "<AxesSubplot:xlabel='연도,지역명'>"
      ]
     },
     "execution_count": 152,
     "metadata": {},
     "output_type": "execute_result"
    },
    {
     "data": {
      "image/png": "[encoded data removed]",
      "text/plain": [
       "<Figure size 1080x216 with 1 Axes>"
      ]
     },
     "metadata": {
      "needs_background": "light"
     },
     "output_type": "display_data"
    }
   ],
   "source": [
    "df.groupby(['연도','지역명'])['평당분양가'].mean().plot(figsize=(15,3))"
   ]
  },
  {
   "cell_type": "code",
   "execution_count": 165,
   "id": "9629f38a",
   "metadata": {},
   "outputs": [
    {
     "data": {
      "text/plain": [
       "<AxesSubplot:>"
      ]
     },
     "execution_count": 165,
     "metadata": {},
     "output_type": "execute_result"
    },
    {
     "data": {
      "image/png": "[encoded data removed]",
      "text/plain": [
       "<Figure size 432x288 with 1 Axes>"
      ]
     },
     "metadata": {
      "needs_background": "light"
     },
     "output_type": "display_data"
    }
   ],
   "source": [
    "# 각 년도에 월별 분양가 box chart로 그리시오..\n",
    "df.groupby(['연도','월'])['평당분양가'].mean().unstack().T.plot(kind='box')"
   ]
  },
  {
   "cell_type": "code",
   "execution_count": 168,
   "id": "c1bb190a",
   "metadata": {},
   "outputs": [],
   "source": [
    "dd = pd.read_csv('./data_study/전국도시공원표준데이터.csv', encoding='cp949')"
   ]
  },
  {
   "cell_type": "code",
   "execution_count": 171,
   "id": "06d50af8",
   "metadata": {},
   "outputs": [
    {
     "data": {
      "text/html": [
       "<div>\n",
       "<style scoped>\n",
       "    .dataframe tbody tr th:only-of-type {\n",
       "        vertical-align: middle;\n",
       "    }\n",
       "\n",
       "    .dataframe tbody tr th {\n",
       "        vertical-align: top;\n",
       "    }\n",
       "\n",
       "    .dataframe thead th {\n",
       "        text-align: right;\n",
       "    }\n",
       "</style>\n",
       "<table border=\"1\" class=\"dataframe\">\n",
       "  <thead>\n",
       "    <tr style=\"text-align: right;\">\n",
       "      <th></th>\n",
       "      <th>관리번호</th>\n",
       "      <th>공원명</th>\n",
       "      <th>공원구분</th>\n",
       "      <th>소재지도로명주소</th>\n",
       "      <th>소재지지번주소</th>\n",
       "      <th>위도</th>\n",
       "      <th>경도</th>\n",
       "      <th>공원면적</th>\n",
       "      <th>공원보유시설(운동시설)</th>\n",
       "      <th>공원보유시설(유희시설)</th>\n",
       "      <th>공원보유시설(편익시설)</th>\n",
       "      <th>공원보유시설(교양시설)</th>\n",
       "      <th>공원보유시설(기타시설)</th>\n",
       "      <th>지정고시일</th>\n",
       "      <th>관리기관명</th>\n",
       "      <th>전화번호</th>\n",
       "      <th>데이터기준일자</th>\n",
       "      <th>제공기관코드</th>\n",
       "      <th>제공기관명</th>\n",
       "      <th>Unnamed: 19</th>\n",
       "    </tr>\n",
       "  </thead>\n",
       "  <tbody>\n",
       "    <tr>\n",
       "      <th>0</th>\n",
       "      <td>26440-00001</td>\n",
       "      <td>구랑공원</td>\n",
       "      <td>문화공원</td>\n",
       "      <td>NaN</td>\n",
       "      <td>부산광역시 강서구 구랑동 1199-7</td>\n",
       "      <td>35.157215</td>\n",
       "      <td>128.854935</td>\n",
       "      <td>9137.0</td>\n",
       "      <td>4</td>\n",
       "      <td>NaN</td>\n",
       "      <td>화장실</td>\n",
       "      <td>NaN</td>\n",
       "      <td>팔각정자, 파고라2, 평의자6, 앉음벽14.38m, 축구장(골대2), 컨테이너, 안...</td>\n",
       "      <td>2011-09-02</td>\n",
       "      <td>부산광역시 강서구청 녹지공원과</td>\n",
       "      <td>051-970-4536</td>\n",
       "      <td>2019-05-02</td>\n",
       "      <td>3360000</td>\n",
       "      <td>부산광역시 강서구</td>\n",
       "      <td>NaN</td>\n",
       "    </tr>\n",
       "  </tbody>\n",
       "</table>\n",
       "</div>"
      ],
      "text/plain": [
       "          관리번호   공원명  공원구분 소재지도로명주소               소재지지번주소         위도  \\\n",
       "0  26440-00001  구랑공원  문화공원      NaN  부산광역시 강서구 구랑동 1199-7  35.157215   \n",
       "\n",
       "           경도    공원면적 공원보유시설(운동시설) 공원보유시설(유희시설) 공원보유시설(편익시설) 공원보유시설(교양시설)  \\\n",
       "0  128.854935  9137.0            4          NaN          화장실          NaN   \n",
       "\n",
       "                                        공원보유시설(기타시설)       지정고시일  \\\n",
       "0  팔각정자, 파고라2, 평의자6, 앉음벽14.38m, 축구장(골대2), 컨테이너, 안...  2011-09-02   \n",
       "\n",
       "              관리기관명          전화번호     데이터기준일자   제공기관코드      제공기관명  Unnamed: 19  \n",
       "0  부산광역시 강서구청 녹지공원과  051-970-4536  2019-05-02  3360000  부산광역시 강서구          NaN  "
      ]
     },
     "execution_count": 171,
     "metadata": {},
     "output_type": "execute_result"
    }
   ],
   "source": [
    "dd.head(1)"
   ]
  },
  {
   "cell_type": "code",
   "execution_count": 174,
   "id": "56be6201",
   "metadata": {},
   "outputs": [],
   "source": [
    "dd.drop(['관리번호','전화번호','데이터기준일자','제공기관코드','Unnamed: 19'], axis=1, inplace=True)"
   ]
  },
  {
   "cell_type": "code",
   "execution_count": 175,
   "id": "b8d33e1d",
   "metadata": {},
   "outputs": [
    {
     "data": {
      "text/html": [
       "<div>\n",
       "<style scoped>\n",
       "    .dataframe tbody tr th:only-of-type {\n",
       "        vertical-align: middle;\n",
       "    }\n",
       "\n",
       "    .dataframe tbody tr th {\n",
       "        vertical-align: top;\n",
       "    }\n",
       "\n",
       "    .dataframe thead th {\n",
       "        text-align: right;\n",
       "    }\n",
       "</style>\n",
       "<table border=\"1\" class=\"dataframe\">\n",
       "  <thead>\n",
       "    <tr style=\"text-align: right;\">\n",
       "      <th></th>\n",
       "      <th>공원명</th>\n",
       "      <th>공원구분</th>\n",
       "      <th>소재지도로명주소</th>\n",
       "      <th>소재지지번주소</th>\n",
       "      <th>위도</th>\n",
       "      <th>경도</th>\n",
       "      <th>공원면적</th>\n",
       "      <th>공원보유시설(운동시설)</th>\n",
       "      <th>공원보유시설(유희시설)</th>\n",
       "      <th>공원보유시설(편익시설)</th>\n",
       "      <th>공원보유시설(교양시설)</th>\n",
       "      <th>공원보유시설(기타시설)</th>\n",
       "      <th>지정고시일</th>\n",
       "      <th>관리기관명</th>\n",
       "      <th>제공기관명</th>\n",
       "    </tr>\n",
       "  </thead>\n",
       "  <tbody>\n",
       "    <tr>\n",
       "      <th>0</th>\n",
       "      <td>구랑공원</td>\n",
       "      <td>문화공원</td>\n",
       "      <td>NaN</td>\n",
       "      <td>부산광역시 강서구 구랑동 1199-7</td>\n",
       "      <td>35.157215</td>\n",
       "      <td>128.854935</td>\n",
       "      <td>9137.0</td>\n",
       "      <td>4</td>\n",
       "      <td>NaN</td>\n",
       "      <td>화장실</td>\n",
       "      <td>NaN</td>\n",
       "      <td>팔각정자, 파고라2, 평의자6, 앉음벽14.38m, 축구장(골대2), 컨테이너, 안...</td>\n",
       "      <td>2011-09-02</td>\n",
       "      <td>부산광역시 강서구청 녹지공원과</td>\n",
       "      <td>부산광역시 강서구</td>\n",
       "    </tr>\n",
       "    <tr>\n",
       "      <th>1</th>\n",
       "      <td>압곡공원</td>\n",
       "      <td>근린공원</td>\n",
       "      <td>NaN</td>\n",
       "      <td>부산광역시 강서구 구랑동 1219</td>\n",
       "      <td>35.154655</td>\n",
       "      <td>128.854727</td>\n",
       "      <td>33756.0</td>\n",
       "      <td>4</td>\n",
       "      <td>NaN</td>\n",
       "      <td>NaN</td>\n",
       "      <td>NaN</td>\n",
       "      <td>배드민턴장, 족구장, 파고라4, 안내판, 볼라드7, 데크435.11㎡, 데크계단19...</td>\n",
       "      <td>2008-02-28</td>\n",
       "      <td>부산광역시 강서구청 녹지공원과</td>\n",
       "      <td>부산광역시 강서구</td>\n",
       "    </tr>\n",
       "    <tr>\n",
       "      <th>2</th>\n",
       "      <td>서연정공원</td>\n",
       "      <td>소공원</td>\n",
       "      <td>NaN</td>\n",
       "      <td>부산광역시 강서구 대저1동 1330-7</td>\n",
       "      <td>35.216183</td>\n",
       "      <td>128.969558</td>\n",
       "      <td>646.0</td>\n",
       "      <td>7</td>\n",
       "      <td>NaN</td>\n",
       "      <td>NaN</td>\n",
       "      <td>NaN</td>\n",
       "      <td>앉음벽13.57m, 트렐리스3, 안내판2, 플랜트2, 파고라, 평의자4</td>\n",
       "      <td>2013-01-23</td>\n",
       "      <td>부산광역시 강서구청 녹지공원과</td>\n",
       "      <td>부산광역시 강서구</td>\n",
       "    </tr>\n",
       "    <tr>\n",
       "      <th>3</th>\n",
       "      <td>용두공원</td>\n",
       "      <td>어린이공원</td>\n",
       "      <td>NaN</td>\n",
       "      <td>부산광역시 강서구 대저2동 1870-67</td>\n",
       "      <td>35.183679</td>\n",
       "      <td>128.956007</td>\n",
       "      <td>1620.0</td>\n",
       "      <td>NaN</td>\n",
       "      <td>조합놀이기구, 그네</td>\n",
       "      <td>NaN</td>\n",
       "      <td>NaN</td>\n",
       "      <td>정자, 농구장, 평의자6</td>\n",
       "      <td>1998-07-25</td>\n",
       "      <td>부산광역시 강서구청 녹지공원과</td>\n",
       "      <td>부산광역시 강서구</td>\n",
       "    </tr>\n",
       "    <tr>\n",
       "      <th>4</th>\n",
       "      <td>새동내공원</td>\n",
       "      <td>어린이공원</td>\n",
       "      <td>NaN</td>\n",
       "      <td>부산광역시 강서구 대저2동 2407-1</td>\n",
       "      <td>35.174568</td>\n",
       "      <td>128.950612</td>\n",
       "      <td>1009.0</td>\n",
       "      <td>8</td>\n",
       "      <td>조합놀이기구, 그네, 흔들놀이기구2</td>\n",
       "      <td>NaN</td>\n",
       "      <td>NaN</td>\n",
       "      <td>정자, 평의자14, 트렐리스2, 안내판, 볼라드</td>\n",
       "      <td>1995-04-07</td>\n",
       "      <td>부산광역시 강서구청 녹지공원과</td>\n",
       "      <td>부산광역시 강서구</td>\n",
       "    </tr>\n",
       "  </tbody>\n",
       "</table>\n",
       "</div>"
      ],
      "text/plain": [
       "     공원명   공원구분 소재지도로명주소                 소재지지번주소         위도          경도  \\\n",
       "0   구랑공원   문화공원      NaN    부산광역시 강서구 구랑동 1199-7  35.157215  128.854935   \n",
       "1   압곡공원   근린공원      NaN      부산광역시 강서구 구랑동 1219  35.154655  128.854727   \n",
       "2  서연정공원    소공원      NaN   부산광역시 강서구 대저1동 1330-7  35.216183  128.969558   \n",
       "3   용두공원  어린이공원      NaN  부산광역시 강서구 대저2동 1870-67  35.183679  128.956007   \n",
       "4  새동내공원  어린이공원      NaN   부산광역시 강서구 대저2동 2407-1  35.174568  128.950612   \n",
       "\n",
       "      공원면적 공원보유시설(운동시설)         공원보유시설(유희시설) 공원보유시설(편익시설) 공원보유시설(교양시설)  \\\n",
       "0   9137.0            4                  NaN          화장실          NaN   \n",
       "1  33756.0            4                  NaN          NaN          NaN   \n",
       "2    646.0            7                  NaN          NaN          NaN   \n",
       "3   1620.0          NaN           조합놀이기구, 그네          NaN          NaN   \n",
       "4   1009.0            8  조합놀이기구, 그네, 흔들놀이기구2          NaN          NaN   \n",
       "\n",
       "                                        공원보유시설(기타시설)       지정고시일  \\\n",
       "0  팔각정자, 파고라2, 평의자6, 앉음벽14.38m, 축구장(골대2), 컨테이너, 안...  2011-09-02   \n",
       "1  배드민턴장, 족구장, 파고라4, 안내판, 볼라드7, 데크435.11㎡, 데크계단19...  2008-02-28   \n",
       "2            앉음벽13.57m, 트렐리스3, 안내판2, 플랜트2, 파고라, 평의자4  2013-01-23   \n",
       "3                                      정자, 농구장, 평의자6  1998-07-25   \n",
       "4                         정자, 평의자14, 트렐리스2, 안내판, 볼라드  1995-04-07   \n",
       "\n",
       "              관리기관명      제공기관명  \n",
       "0  부산광역시 강서구청 녹지공원과  부산광역시 강서구  \n",
       "1  부산광역시 강서구청 녹지공원과  부산광역시 강서구  \n",
       "2  부산광역시 강서구청 녹지공원과  부산광역시 강서구  \n",
       "3  부산광역시 강서구청 녹지공원과  부산광역시 강서구  \n",
       "4  부산광역시 강서구청 녹지공원과  부산광역시 강서구  "
      ]
     },
     "execution_count": 175,
     "metadata": {},
     "output_type": "execute_result"
    }
   ],
   "source": [
    "dd.head()"
   ]
  },
  {
   "cell_type": "code",
   "execution_count": 176,
   "id": "356e02af",
   "metadata": {
    "collapsed": true
   },
   "outputs": [
    {
     "ename": "ModuleNotFoundError",
     "evalue": "No module named 'pandas_profiling'",
     "output_type": "error",
     "traceback": [
      "\u001b[1;31m---------------------------------------------------------------------------\u001b[0m",
      "\u001b[1;31mModuleNotFoundError\u001b[0m                       Traceback (most recent call last)",
      "\u001b[1;32m~\\AppData\\Local\\Temp/ipykernel_24112/671441926.py\u001b[0m in \u001b[0;36m<module>\u001b[1;34m\u001b[0m\n\u001b[1;32m----> 1\u001b[1;33m \u001b[1;32mimport\u001b[0m \u001b[0mpandas_profiling\u001b[0m\u001b[1;33m\u001b[0m\u001b[1;33m\u001b[0m\u001b[0m\n\u001b[0m\u001b[0;32m      2\u001b[0m \u001b[1;32mfrom\u001b[0m \u001b[0mpandas_profiling\u001b[0m \u001b[1;32mimport\u001b[0m \u001b[0mProfileReport\u001b[0m\u001b[1;33m\u001b[0m\u001b[1;33m\u001b[0m\u001b[0m\n",
      "\u001b[1;31mModuleNotFoundError\u001b[0m: No module named 'pandas_profiling'"
     ]
    }
   ],
   "source": [
    "import pandas_profiling\n",
    "from pandas_profiling import ProfileReport"
   ]
  },
  {
   "cell_type": "code",
   "execution_count": 178,
   "id": "eb03eabc",
   "metadata": {
    "collapsed": true
   },
   "outputs": [
    {
     "data": {
      "text/plain": [
       "0        True\n",
       "1        True\n",
       "2        True\n",
       "3        True\n",
       "4        True\n",
       "         ... \n",
       "18132    True\n",
       "18133    True\n",
       "18134    True\n",
       "18135    True\n",
       "18136    True\n",
       "Name: 소재지도로명주소, Length: 18137, dtype: bool"
      ]
     },
     "execution_count": 178,
     "metadata": {},
     "output_type": "execute_result"
    }
   ],
   "source": [
    "# 도로명주소와 지번주소 모두가 결측치인 데이터의 수..\n",
    "(df['소재지도로명주소'].isna()) & (df['소재지지번주소'].isna())"
   ]
  },
  {
   "cell_type": "code",
   "execution_count": 179,
   "id": "8a6d6f28",
   "metadata": {
    "collapsed": true
   },
   "outputs": [
    {
     "data": {
      "text/plain": [
       "소재지도로명주소    10098\n",
       "소재지지번주소       979\n",
       "dtype: int64"
      ]
     },
     "execution_count": 179,
     "metadata": {},
     "output_type": "execute_result"
    }
   ],
   "source": [
    "df[['소재지도로명주소', '소재지지번주소']].isna().sum()"
   ]
  },
  {
   "cell_type": "code",
   "execution_count": 180,
   "id": "f50c85cc",
   "metadata": {},
   "outputs": [],
   "source": [
    "df['소재지도로명주소'] = df['소재지도로명주소'].fillna(df['소재지지번주소'])"
   ]
  },
  {
   "cell_type": "code",
   "execution_count": 182,
   "id": "f33e6a52",
   "metadata": {
    "collapsed": true
   },
   "outputs": [
    {
     "data": {
      "text/plain": [
       "0"
      ]
     },
     "execution_count": 182,
     "metadata": {},
     "output_type": "execute_result"
    }
   ],
   "source": [
    "df['소재지도로명주소'].isna().sum()"
   ]
  },
  {
   "cell_type": "code",
   "execution_count": 183,
   "id": "85f2d244",
   "metadata": {
    "collapsed": true
   },
   "outputs": [
    {
     "data": {
      "text/plain": [
       "0        False\n",
       "1        False\n",
       "2        False\n",
       "3        False\n",
       "4        False\n",
       "         ...  \n",
       "18132    False\n",
       "18133    False\n",
       "18134    False\n",
       "18135    False\n",
       "18136    False\n",
       "Length: 18137, dtype: bool"
      ]
     },
     "execution_count": 183,
     "metadata": {},
     "output_type": "execute_result"
    }
   ],
   "source": [
    "(df['소재지도로명주소'].isna()) & (df['소재지지번주소'].isna())"
   ]
  },
  {
   "cell_type": "code",
   "execution_count": 188,
   "id": "8e0281c6",
   "metadata": {},
   "outputs": [],
   "source": [
    "df['시도'] = df['소재지도로명주소'].apply(lambda x:x.split(' ')[0])"
   ]
  },
  {
   "cell_type": "code",
   "execution_count": 186,
   "id": "ed18dfdb",
   "metadata": {},
   "outputs": [],
   "source": [
    "df['구군'] = df['소재지도로명주소'].apply(lambda x:x.split(' ')[1])"
   ]
  },
  {
   "cell_type": "code",
   "execution_count": 193,
   "id": "a067868b",
   "metadata": {},
   "outputs": [],
   "source": [
    "df['시도'] = df['시도'].replace('강원','강원도')"
   ]
  },
  {
   "cell_type": "code",
   "execution_count": 194,
   "id": "3e7dec35",
   "metadata": {
    "collapsed": true
   },
   "outputs": [
    {
     "data": {
      "text/plain": [
       "경기도        3318\n",
       "전라남도       1882\n",
       "경상남도       1825\n",
       "서울특별시      1745\n",
       "충청남도       1723\n",
       "전라북도       1137\n",
       "경상북도        917\n",
       "충청북도        899\n",
       "울산광역시       887\n",
       "인천광역시       675\n",
       "부산광역시       653\n",
       "강원도         648\n",
       "대구광역시       586\n",
       "대전광역시       497\n",
       "광주광역시       429\n",
       "제주특별자치도     246\n",
       "세종특별자치시      70\n",
       "Name: 시도, dtype: int64"
      ]
     },
     "execution_count": 194,
     "metadata": {},
     "output_type": "execute_result"
    }
   ],
   "source": [
    "df['시도'].value_counts()"
   ]
  },
  {
   "cell_type": "code",
   "execution_count": null,
   "id": "44d0e11a",
   "metadata": {},
   "outputs": [],
   "source": [
    "# 위경도 시각화"
   ]
  },
  {
   "cell_type": "code",
   "execution_count": 195,
   "id": "e011c110",
   "metadata": {
    "collapsed": true
   },
   "outputs": [
    {
     "data": {
      "text/plain": [
       "<AxesSubplot:xlabel='경도', ylabel='위도'>"
      ]
     },
     "execution_count": 195,
     "metadata": {},
     "output_type": "execute_result"
    },
    {
     "data": {
      "image/png": "[encoded data removed]",
      "text/plain": [
       "<Figure size 432x288 with 1 Axes>"
      ]
     },
     "metadata": {
      "needs_background": "light"
     },
     "output_type": "display_data"
    }
   ],
   "source": [
    "sns.scatterplot(data=df, x='경도', y='위도')"
   ]
  },
  {
   "cell_type": "code",
   "execution_count": 196,
   "id": "97fa1fc1",
   "metadata": {},
   "outputs": [],
   "source": [
    "df1 = df[(df['경도'] < 132) & (df['위도'] > 32)]"
   ]
  },
  {
   "cell_type": "code",
   "execution_count": 197,
   "id": "83b94260",
   "metadata": {},
   "outputs": [
    {
     "data": {
      "text/plain": [
       "<AxesSubplot:xlabel='경도', ylabel='위도'>"
      ]
     },
     "execution_count": 197,
     "metadata": {},
     "output_type": "execute_result"
    },
    {
     "data": {
      "image/png": "[encoded data removed]",
      "text/plain": [
       "<Figure size 432x288 with 1 Axes>"
      ]
     },
     "metadata": {
      "needs_background": "light"
     },
     "output_type": "display_data"
    }
   ],
   "source": [
    "sns.scatterplot(data=df1, x='경도', y='위도')"
   ]
  },
  {
   "cell_type": "code",
   "execution_count": 199,
   "id": "70633f0c",
   "metadata": {},
   "outputs": [],
   "source": [
    "df['지정고시일'] = pd.to_datetime(df['지정고시일'])"
   ]
  },
  {
   "cell_type": "code",
   "execution_count": 200,
   "id": "55a13a83",
   "metadata": {
    "collapsed": true
   },
   "outputs": [
    {
     "name": "stdout",
     "output_type": "stream",
     "text": [
      "<class 'pandas.core.frame.DataFrame'>\n",
      "RangeIndex: 18137 entries, 0 to 18136\n",
      "Data columns (total 23 columns):\n",
      " #   Column        Non-Null Count  Dtype         \n",
      "---  ------        --------------  -----         \n",
      " 0   관리번호          18137 non-null  object        \n",
      " 1   공원명           18137 non-null  object        \n",
      " 2   공원구분          18137 non-null  object        \n",
      " 3   소재지도로명주소      18137 non-null  object        \n",
      " 4   소재지지번주소       17158 non-null  object        \n",
      " 5   위도            18137 non-null  float64       \n",
      " 6   경도            18137 non-null  float64       \n",
      " 7   공원면적          18137 non-null  float64       \n",
      " 8   공원보유시설(운동시설)  4845 non-null   object        \n",
      " 9   공원보유시설(유희시설)  6964 non-null   object        \n",
      " 10  공원보유시설(편익시설)  5084 non-null   object        \n",
      " 11  공원보유시설(교양시설)  1160 non-null   object        \n",
      " 12  공원보유시설(기타시설)  3116 non-null   object        \n",
      " 13  지정고시일         15225 non-null  datetime64[ns]\n",
      " 14  관리기관명         17383 non-null  object        \n",
      " 15  전화번호          16957 non-null  object        \n",
      " 16  데이터기준일자       18137 non-null  object        \n",
      " 17  제공기관코드        18137 non-null  object        \n",
      " 18  제공기관명         18137 non-null  object        \n",
      " 19  Unnamed: 19   0 non-null      float64       \n",
      " 20  시             18137 non-null  object        \n",
      " 21  구군            18137 non-null  object        \n",
      " 22  시도            18137 non-null  object        \n",
      "dtypes: datetime64[ns](1), float64(4), object(18)\n",
      "memory usage: 3.2+ MB\n"
     ]
    }
   ],
   "source": [
    "df.info()"
   ]
  },
  {
   "cell_type": "code",
   "execution_count": 201,
   "id": "a0c98302",
   "metadata": {},
   "outputs": [],
   "source": [
    "df1['고시연도'] = df['지정고시일'].dt.year\n",
    "df1['고시월'] = df['지정고시일'].dt.month"
   ]
  },
  {
   "cell_type": "code",
   "execution_count": 203,
   "id": "76baabe7",
   "metadata": {
    "collapsed": true
   },
   "outputs": [
    {
     "data": {
      "text/html": [
       "<div>\n",
       "<style scoped>\n",
       "    .dataframe tbody tr th:only-of-type {\n",
       "        vertical-align: middle;\n",
       "    }\n",
       "\n",
       "    .dataframe tbody tr th {\n",
       "        vertical-align: top;\n",
       "    }\n",
       "\n",
       "    .dataframe thead th {\n",
       "        text-align: right;\n",
       "    }\n",
       "</style>\n",
       "<table border=\"1\" class=\"dataframe\">\n",
       "  <thead>\n",
       "    <tr style=\"text-align: right;\">\n",
       "      <th></th>\n",
       "      <th>관리번호</th>\n",
       "      <th>공원명</th>\n",
       "      <th>공원구분</th>\n",
       "      <th>소재지도로명주소</th>\n",
       "      <th>소재지지번주소</th>\n",
       "      <th>위도</th>\n",
       "      <th>경도</th>\n",
       "      <th>공원면적</th>\n",
       "      <th>공원보유시설(운동시설)</th>\n",
       "      <th>공원보유시설(유희시설)</th>\n",
       "      <th>...</th>\n",
       "      <th>전화번호</th>\n",
       "      <th>데이터기준일자</th>\n",
       "      <th>제공기관코드</th>\n",
       "      <th>제공기관명</th>\n",
       "      <th>Unnamed: 19</th>\n",
       "      <th>시</th>\n",
       "      <th>구군</th>\n",
       "      <th>시도</th>\n",
       "      <th>고시연도</th>\n",
       "      <th>고시월</th>\n",
       "    </tr>\n",
       "  </thead>\n",
       "  <tbody>\n",
       "    <tr>\n",
       "      <th>0</th>\n",
       "      <td>26440-00001</td>\n",
       "      <td>구랑공원</td>\n",
       "      <td>문화공원</td>\n",
       "      <td>부산광역시 강서구 구랑동 1199-7</td>\n",
       "      <td>부산광역시 강서구 구랑동 1199-7</td>\n",
       "      <td>35.157215</td>\n",
       "      <td>128.854935</td>\n",
       "      <td>9137.0</td>\n",
       "      <td>4</td>\n",
       "      <td>NaN</td>\n",
       "      <td>...</td>\n",
       "      <td>051-970-4536</td>\n",
       "      <td>2019-05-02</td>\n",
       "      <td>3360000</td>\n",
       "      <td>부산광역시 강서구</td>\n",
       "      <td>NaN</td>\n",
       "      <td>부산광역시</td>\n",
       "      <td>강서구</td>\n",
       "      <td>부산광역시</td>\n",
       "      <td>2011.0</td>\n",
       "      <td>9.0</td>\n",
       "    </tr>\n",
       "    <tr>\n",
       "      <th>1</th>\n",
       "      <td>26440-00002</td>\n",
       "      <td>압곡공원</td>\n",
       "      <td>근린공원</td>\n",
       "      <td>부산광역시 강서구 구랑동 1219</td>\n",
       "      <td>부산광역시 강서구 구랑동 1219</td>\n",
       "      <td>35.154655</td>\n",
       "      <td>128.854727</td>\n",
       "      <td>33756.0</td>\n",
       "      <td>4</td>\n",
       "      <td>NaN</td>\n",
       "      <td>...</td>\n",
       "      <td>051-970-4536</td>\n",
       "      <td>2019-05-02</td>\n",
       "      <td>3360000</td>\n",
       "      <td>부산광역시 강서구</td>\n",
       "      <td>NaN</td>\n",
       "      <td>부산광역시</td>\n",
       "      <td>강서구</td>\n",
       "      <td>부산광역시</td>\n",
       "      <td>2008.0</td>\n",
       "      <td>2.0</td>\n",
       "    </tr>\n",
       "  </tbody>\n",
       "</table>\n",
       "<p>2 rows × 25 columns</p>\n",
       "</div>"
      ],
      "text/plain": [
       "          관리번호   공원명  공원구분              소재지도로명주소               소재지지번주소  \\\n",
       "0  26440-00001  구랑공원  문화공원  부산광역시 강서구 구랑동 1199-7  부산광역시 강서구 구랑동 1199-7   \n",
       "1  26440-00002  압곡공원  근린공원    부산광역시 강서구 구랑동 1219    부산광역시 강서구 구랑동 1219   \n",
       "\n",
       "          위도          경도     공원면적 공원보유시설(운동시설) 공원보유시설(유희시설)  ...  \\\n",
       "0  35.157215  128.854935   9137.0            4          NaN  ...   \n",
       "1  35.154655  128.854727  33756.0            4          NaN  ...   \n",
       "\n",
       "           전화번호     데이터기준일자   제공기관코드      제공기관명 Unnamed: 19      시   구군  \\\n",
       "0  051-970-4536  2019-05-02  3360000  부산광역시 강서구         NaN  부산광역시  강서구   \n",
       "1  051-970-4536  2019-05-02  3360000  부산광역시 강서구         NaN  부산광역시  강서구   \n",
       "\n",
       "      시도    고시연도  고시월  \n",
       "0  부산광역시  2011.0  9.0  \n",
       "1  부산광역시  2008.0  2.0  \n",
       "\n",
       "[2 rows x 25 columns]"
      ]
     },
     "execution_count": 203,
     "metadata": {},
     "output_type": "execute_result"
    }
   ],
   "source": [
    "df1.head(2)"
   ]
  },
  {
   "cell_type": "code",
   "execution_count": 216,
   "id": "619d10ca",
   "metadata": {},
   "outputs": [
    {
     "data": {
      "text/plain": [
       "0        False\n",
       "1        False\n",
       "2        False\n",
       "3        False\n",
       "4        False\n",
       "         ...  \n",
       "18132    False\n",
       "18133    False\n",
       "18134    False\n",
       "18135    False\n",
       "18136    False\n",
       "Name: 공원구분, Length: 18137, dtype: bool"
      ]
     },
     "execution_count": 216,
     "metadata": {},
     "output_type": "execute_result"
    }
   ],
   "source": [
    "# '화랑공원'의 고시연도를 출력하시오..\n",
    "df['공원구분']=='화랑공원'"
   ]
  },
  {
   "cell_type": "code",
   "execution_count": null,
   "id": "8d327c43",
   "metadata": {},
   "outputs": [],
   "source": []
  },
  {
   "cell_type": "code",
   "execution_count": null,
   "id": "55396c99",
   "metadata": {},
   "outputs": [],
   "source": []
  },
  {
   "cell_type": "code",
   "execution_count": null,
   "id": "ed012460",
   "metadata": {},
   "outputs": [],
   "source": []
  },
  {
   "cell_type": "code",
   "execution_count": null,
   "id": "2be3c3cf",
   "metadata": {},
   "outputs": [],
   "source": []
  }
 ],
 "metadata": {
  "kernelspec": {
   "display_name": "Python 3 (ipykernel)",
   "language": "python",
   "name": "python3"
  },
  "language_info": {
   "codemirror_mode": {
    "name": "ipython",
    "version": 3
   },
   "file_extension": ".py",
   "mimetype": "text/x-python",
   "name": "python",
   "nbconvert_exporter": "python",
   "pygments_lexer": "ipython3",
   "version": "3.9.7"
  }
 },
 "nbformat": 4,
 "nbformat_minor": 5
}
