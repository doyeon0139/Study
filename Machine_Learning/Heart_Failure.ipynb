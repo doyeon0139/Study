{
 "cells": [
  {
   "cell_type": "code",
   "execution_count": 1,
   "id": "734bb20d",
   "metadata": {},
   "outputs": [],
   "source": [
    "import pandas as pd\n",
    "import numpy as np\n",
    "import matplotlib.pyplot as plt\n",
    "import seaborn as sns\n",
    "\n",
    "import warnings\n",
    "warnings.filterwarnings('ignore')"
   ]
  },
  {
   "cell_type": "code",
   "execution_count": 2,
   "id": "676ad276",
   "metadata": {},
   "outputs": [
    {
     "data": {
      "text/html": [
       "<div>\n",
       "<style scoped>\n",
       "    .dataframe tbody tr th:only-of-type {\n",
       "        vertical-align: middle;\n",
       "    }\n",
       "\n",
       "    .dataframe tbody tr th {\n",
       "        vertical-align: top;\n",
       "    }\n",
       "\n",
       "    .dataframe thead th {\n",
       "        text-align: right;\n",
       "    }\n",
       "</style>\n",
       "<table border=\"1\" class=\"dataframe\">\n",
       "  <thead>\n",
       "    <tr style=\"text-align: right;\">\n",
       "      <th></th>\n",
       "      <th>age</th>\n",
       "      <th>anaemia</th>\n",
       "      <th>creatinine_phosphokinase</th>\n",
       "      <th>diabetes</th>\n",
       "      <th>ejection_fraction</th>\n",
       "      <th>high_blood_pressure</th>\n",
       "      <th>platelets</th>\n",
       "      <th>serum_creatinine</th>\n",
       "      <th>serum_sodium</th>\n",
       "      <th>sex</th>\n",
       "      <th>smoking</th>\n",
       "      <th>time</th>\n",
       "      <th>DEATH_EVENT</th>\n",
       "    </tr>\n",
       "  </thead>\n",
       "  <tbody>\n",
       "    <tr>\n",
       "      <th>0</th>\n",
       "      <td>75.0</td>\n",
       "      <td>0</td>\n",
       "      <td>582</td>\n",
       "      <td>0</td>\n",
       "      <td>20</td>\n",
       "      <td>1</td>\n",
       "      <td>265000.00</td>\n",
       "      <td>1.9</td>\n",
       "      <td>130</td>\n",
       "      <td>1</td>\n",
       "      <td>0</td>\n",
       "      <td>4</td>\n",
       "      <td>1</td>\n",
       "    </tr>\n",
       "    <tr>\n",
       "      <th>1</th>\n",
       "      <td>55.0</td>\n",
       "      <td>0</td>\n",
       "      <td>7861</td>\n",
       "      <td>0</td>\n",
       "      <td>38</td>\n",
       "      <td>0</td>\n",
       "      <td>263358.03</td>\n",
       "      <td>1.1</td>\n",
       "      <td>136</td>\n",
       "      <td>1</td>\n",
       "      <td>0</td>\n",
       "      <td>6</td>\n",
       "      <td>1</td>\n",
       "    </tr>\n",
       "  </tbody>\n",
       "</table>\n",
       "</div>"
      ],
      "text/plain": [
       "    age  anaemia  creatinine_phosphokinase  diabetes  ejection_fraction  \\\n",
       "0  75.0        0                       582         0                 20   \n",
       "1  55.0        0                      7861         0                 38   \n",
       "\n",
       "   high_blood_pressure  platelets  serum_creatinine  serum_sodium  sex  \\\n",
       "0                    1  265000.00               1.9           130    1   \n",
       "1                    0  263358.03               1.1           136    1   \n",
       "\n",
       "   smoking  time  DEATH_EVENT  \n",
       "0        0     4            1  \n",
       "1        0     6            1  "
      ]
     },
     "execution_count": 2,
     "metadata": {},
     "output_type": "execute_result"
    }
   ],
   "source": [
    "df = pd.read_csv('./ml_source_files/heart_failure_clinical_records_dataset.csv')\n",
    "df.head(2)"
   ]
  },
  {
   "cell_type": "code",
   "execution_count": 3,
   "id": "ef222611",
   "metadata": {},
   "outputs": [
    {
     "name": "stdout",
     "output_type": "stream",
     "text": [
      "<class 'pandas.core.frame.DataFrame'>\n",
      "RangeIndex: 299 entries, 0 to 298\n",
      "Data columns (total 13 columns):\n",
      " #   Column                    Non-Null Count  Dtype  \n",
      "---  ------                    --------------  -----  \n",
      " 0   age                       299 non-null    float64\n",
      " 1   anaemia                   299 non-null    int64  \n",
      " 2   creatinine_phosphokinase  299 non-null    int64  \n",
      " 3   diabetes                  299 non-null    int64  \n",
      " 4   ejection_fraction         299 non-null    int64  \n",
      " 5   high_blood_pressure       299 non-null    int64  \n",
      " 6   platelets                 299 non-null    float64\n",
      " 7   serum_creatinine          299 non-null    float64\n",
      " 8   serum_sodium              299 non-null    int64  \n",
      " 9   sex                       299 non-null    int64  \n",
      " 10  smoking                   299 non-null    int64  \n",
      " 11  time                      299 non-null    int64  \n",
      " 12  DEATH_EVENT               299 non-null    int64  \n",
      "dtypes: float64(3), int64(10)\n",
      "memory usage: 30.5 KB\n"
     ]
    }
   ],
   "source": [
    "df.info()"
   ]
  },
  {
   "cell_type": "code",
   "execution_count": 4,
   "id": "800a8f31",
   "metadata": {},
   "outputs": [
    {
     "data": {
      "text/plain": [
       "age                         0\n",
       "anaemia                     0\n",
       "creatinine_phosphokinase    0\n",
       "diabetes                    0\n",
       "ejection_fraction           0\n",
       "high_blood_pressure         0\n",
       "platelets                   0\n",
       "serum_creatinine            0\n",
       "serum_sodium                0\n",
       "sex                         0\n",
       "smoking                     0\n",
       "time                        0\n",
       "DEATH_EVENT                 0\n",
       "dtype: int64"
      ]
     },
     "execution_count": 4,
     "metadata": {},
     "output_type": "execute_result"
    }
   ],
   "source": [
    "df.isna().sum()"
   ]
  },
  {
   "cell_type": "code",
   "execution_count": 5,
   "id": "3878069a",
   "metadata": {},
   "outputs": [],
   "source": [
    "y = df.DEATH_EVENT\n",
    "x = df.drop('DEATH_EVENT', axis=1)"
   ]
  },
  {
   "cell_type": "code",
   "execution_count": 6,
   "id": "47404a4c",
   "metadata": {},
   "outputs": [],
   "source": [
    "from sklearn.model_selection import train_test_split\n",
    "x_train, x_test, y_train, y_test = train_test_split(x, y, test_size=0.2, random_state=100)"
   ]
  },
  {
   "cell_type": "code",
   "execution_count": 14,
   "id": "1d031af7",
   "metadata": {},
   "outputs": [],
   "source": [
    "from sklearn.linear_model import LogisticRegression\n",
    "from sklearn.tree import DecisionTreeClassifier\n",
    "from sklearn.neighbors import KNeighborsClassifier\n",
    "from sklearn.ensemble import RandomForestClassifier\n",
    "from xgboost import XGBRFClassifier\n",
    "from sklearn.svm import SVC"
   ]
  },
  {
   "cell_type": "code",
   "execution_count": 15,
   "id": "f5c67625",
   "metadata": {},
   "outputs": [],
   "source": [
    "from sklearn.metrics import classification_report, roc_auc_score"
   ]
  },
  {
   "cell_type": "code",
   "execution_count": 16,
   "id": "2de456b7",
   "metadata": {},
   "outputs": [],
   "source": [
    "lr = LogisticRegression()\n",
    "tree = DecisionTreeClassifier()\n",
    "knn = KNeighborsClassifier()\n",
    "svc = SVC(probability=True)\n",
    "xg = XGBRFClassifier()\n",
    "rfc = RandomForestClassifier()"
   ]
  },
  {
   "cell_type": "code",
   "execution_count": 17,
   "id": "fcff2361",
   "metadata": {},
   "outputs": [],
   "source": [
    "models = [lr, tree, knn, svc, xg, rfc]"
   ]
  },
  {
   "cell_type": "code",
   "execution_count": 18,
   "id": "8588dab1",
   "metadata": {
    "scrolled": true
   },
   "outputs": [
    {
     "name": "stdout",
     "output_type": "stream",
     "text": [
      "              precision    recall  f1-score   support\n",
      "\n",
      "           0       0.76      0.90      0.82        39\n",
      "           1       0.71      0.48      0.57        21\n",
      "\n",
      "    accuracy                           0.75        60\n",
      "   macro avg       0.74      0.69      0.70        60\n",
      "weighted avg       0.74      0.75      0.74        60\n",
      "\n",
      "0.75\n",
      "0.7716727716727717\n",
      "====================================================================================================\n",
      "              precision    recall  f1-score   support\n",
      "\n",
      "           0       0.81      0.87      0.84        39\n",
      "           1       0.72      0.62      0.67        21\n",
      "\n",
      "    accuracy                           0.78        60\n",
      "   macro avg       0.77      0.75      0.75        60\n",
      "weighted avg       0.78      0.78      0.78        60\n",
      "\n",
      "0.7833333333333333\n",
      "0.7454212454212454\n",
      "====================================================================================================\n",
      "              precision    recall  f1-score   support\n",
      "\n",
      "           0       0.64      0.69      0.67        39\n",
      "           1       0.33      0.29      0.31        21\n",
      "\n",
      "    accuracy                           0.55        60\n",
      "   macro avg       0.49      0.49      0.49        60\n",
      "weighted avg       0.53      0.55      0.54        60\n",
      "\n",
      "0.55\n",
      "0.45726495726495725\n",
      "====================================================================================================\n",
      "              precision    recall  f1-score   support\n",
      "\n",
      "           0       0.65      1.00      0.79        39\n",
      "           1       0.00      0.00      0.00        21\n",
      "\n",
      "    accuracy                           0.65        60\n",
      "   macro avg       0.33      0.50      0.39        60\n",
      "weighted avg       0.42      0.65      0.51        60\n",
      "\n",
      "0.65\n",
      "0.4578754578754579\n",
      "====================================================================================================\n",
      "[17:50:07] WARNING: C:/Users/Administrator/workspace/xgboost-win64_release_1.5.1/src/learner.cc:1115: Starting in XGBoost 1.3.0, the default evaluation metric used with the objective 'binary:logistic' was changed from 'error' to 'logloss'. Explicitly set eval_metric if you'd like to restore the old behavior.\n",
      "              precision    recall  f1-score   support\n",
      "\n",
      "           0       0.80      0.90      0.84        39\n",
      "           1       0.75      0.57      0.65        21\n",
      "\n",
      "    accuracy                           0.78        60\n",
      "   macro avg       0.77      0.73      0.75        60\n",
      "weighted avg       0.78      0.78      0.78        60\n",
      "\n",
      "0.7833333333333333\n",
      "0.8827838827838829\n",
      "====================================================================================================\n",
      "              precision    recall  f1-score   support\n",
      "\n",
      "           0       0.80      0.92      0.86        39\n",
      "           1       0.80      0.57      0.67        21\n",
      "\n",
      "    accuracy                           0.80        60\n",
      "   macro avg       0.80      0.75      0.76        60\n",
      "weighted avg       0.80      0.80      0.79        60\n",
      "\n",
      "0.8\n",
      "0.9151404151404152\n",
      "====================================================================================================\n"
     ]
    }
   ],
   "source": [
    "for m in models:\n",
    "    m.fit(x_train, y_train)\n",
    "    pred = m.predict(x_test)\n",
    "    preds = m.predict_proba(x_test)[:,1]\n",
    "    print(classification_report(y_test, pred))\n",
    "    print(m.score(x_test, y_test))\n",
    "    print(roc_auc_score(y_test, preds))\n",
    "    print('='*100)"
   ]
  },
  {
   "cell_type": "code",
   "execution_count": 19,
   "id": "8ba09884",
   "metadata": {},
   "outputs": [],
   "source": [
    "from sklearn.preprocessing import StandardScaler\n",
    "std = StandardScaler()\n",
    "\n",
    "std.fit(x_train)\n",
    "x_train_std = std.transform(x_train)\n",
    "x_test_std = std.transform(x_test)"
   ]
  },
  {
   "cell_type": "code",
   "execution_count": 20,
   "id": "ab88ff4e",
   "metadata": {
    "scrolled": true
   },
   "outputs": [
    {
     "name": "stdout",
     "output_type": "stream",
     "text": [
      "              precision    recall  f1-score   support\n",
      "\n",
      "           0       0.77      0.87      0.82        39\n",
      "           1       0.69      0.52      0.59        21\n",
      "\n",
      "    accuracy                           0.75        60\n",
      "   macro avg       0.73      0.70      0.71        60\n",
      "weighted avg       0.74      0.75      0.74        60\n",
      "\n",
      "0.75\n",
      "0.7997557997557998\n",
      "====================================================================================================\n",
      "              precision    recall  f1-score   support\n",
      "\n",
      "           0       0.76      0.87      0.81        39\n",
      "           1       0.67      0.48      0.56        21\n",
      "\n",
      "    accuracy                           0.73        60\n",
      "   macro avg       0.71      0.67      0.68        60\n",
      "weighted avg       0.72      0.73      0.72        60\n",
      "\n",
      "0.7333333333333333\n",
      "0.673992673992674\n",
      "====================================================================================================\n",
      "              precision    recall  f1-score   support\n",
      "\n",
      "           0       0.73      0.97      0.84        39\n",
      "           1       0.88      0.33      0.48        21\n",
      "\n",
      "    accuracy                           0.75        60\n",
      "   macro avg       0.80      0.65      0.66        60\n",
      "weighted avg       0.78      0.75      0.71        60\n",
      "\n",
      "0.75\n",
      "0.8144078144078144\n",
      "====================================================================================================\n",
      "              precision    recall  f1-score   support\n",
      "\n",
      "           0       0.80      0.92      0.86        39\n",
      "           1       0.80      0.57      0.67        21\n",
      "\n",
      "    accuracy                           0.80        60\n",
      "   macro avg       0.80      0.75      0.76        60\n",
      "weighted avg       0.80      0.80      0.79        60\n",
      "\n",
      "0.8\n",
      "0.8461538461538461\n",
      "====================================================================================================\n",
      "[17:54:52] WARNING: C:/Users/Administrator/workspace/xgboost-win64_release_1.5.1/src/learner.cc:1115: Starting in XGBoost 1.3.0, the default evaluation metric used with the objective 'binary:logistic' was changed from 'error' to 'logloss'. Explicitly set eval_metric if you'd like to restore the old behavior.\n",
      "              precision    recall  f1-score   support\n",
      "\n",
      "           0       0.80      0.90      0.84        39\n",
      "           1       0.75      0.57      0.65        21\n",
      "\n",
      "    accuracy                           0.78        60\n",
      "   macro avg       0.77      0.73      0.75        60\n",
      "weighted avg       0.78      0.78      0.78        60\n",
      "\n",
      "0.7833333333333333\n",
      "0.8827838827838829\n",
      "====================================================================================================\n",
      "              precision    recall  f1-score   support\n",
      "\n",
      "           0       0.80      0.92      0.86        39\n",
      "           1       0.80      0.57      0.67        21\n",
      "\n",
      "    accuracy                           0.80        60\n",
      "   macro avg       0.80      0.75      0.76        60\n",
      "weighted avg       0.80      0.80      0.79        60\n",
      "\n",
      "0.8\n",
      "0.9084249084249084\n",
      "====================================================================================================\n"
     ]
    }
   ],
   "source": [
    "for m in models:\n",
    "    m.fit(x_train_std, y_train)\n",
    "    pred = m.predict(x_test_std)\n",
    "    preds = m.predict_proba(x_test_std)[:,1]\n",
    "    print(classification_report(y_test, pred))\n",
    "    print(m.score(x_test_std, y_test))\n",
    "    print(roc_auc_score(y_test, preds))\n",
    "    print('='*100)"
   ]
  },
  {
   "cell_type": "code",
   "execution_count": 31,
   "id": "285f1329",
   "metadata": {
    "scrolled": true
   },
   "outputs": [
    {
     "data": {
      "text/plain": [
       "GridSearchCV(estimator=RandomForestClassifier(),\n",
       "             param_grid={'max_depth': [10, 20, 50],\n",
       "                         'min_samples_leaf': [2, 3, 5],\n",
       "                         'n_estimators': [50, 100, 500]},\n",
       "             verbose=False)"
      ]
     },
     "execution_count": 31,
     "metadata": {},
     "output_type": "execute_result"
    }
   ],
   "source": [
    "from sklearn.model_selection import GridSearchCV\n",
    "param = {'n_estimators':[50, 100, 500], 'max_depth':[10, 20, 50],'min_samples_leaf':[2, 3, 5]}\n",
    "\n",
    "rfc = RandomForestClassifier()\n",
    "grid = GridSearchCV(rfc, param_grid=param, refit=True, verbose=False)\n",
    "grid.fit(x_train_std, y_train)"
   ]
  },
  {
   "cell_type": "code",
   "execution_count": 32,
   "id": "54193ce7",
   "metadata": {},
   "outputs": [
    {
     "data": {
      "text/plain": [
       "{'max_depth': 10, 'min_samples_leaf': 5, 'n_estimators': 50}"
      ]
     },
     "execution_count": 32,
     "metadata": {},
     "output_type": "execute_result"
    }
   ],
   "source": [
    "grid.best_params_"
   ]
  },
  {
   "cell_type": "code",
   "execution_count": 33,
   "id": "73ca5cfd",
   "metadata": {},
   "outputs": [
    {
     "data": {
      "text/plain": [
       "0.8701241134751774"
      ]
     },
     "execution_count": 33,
     "metadata": {},
     "output_type": "execute_result"
    }
   ],
   "source": [
    "grid.best_score_"
   ]
  },
  {
   "cell_type": "code",
   "execution_count": 34,
   "id": "5d9f8f91",
   "metadata": {},
   "outputs": [],
   "source": [
    "rfc = RandomForestClassifier(max_depth=10, min_samples_leaf = 5, n_estimators = 50)"
   ]
  },
  {
   "cell_type": "code",
   "execution_count": 36,
   "id": "ff044c5c",
   "metadata": {},
   "outputs": [
    {
     "name": "stdout",
     "output_type": "stream",
     "text": [
      "              precision    recall  f1-score   support\n",
      "\n",
      "           0       0.80      0.95      0.87        39\n",
      "           1       0.86      0.57      0.69        21\n",
      "\n",
      "    accuracy                           0.82        60\n",
      "   macro avg       0.83      0.76      0.78        60\n",
      "weighted avg       0.82      0.82      0.81        60\n",
      "\n"
     ]
    }
   ],
   "source": [
    "rfc.fit(x_train_std, y_train)\n",
    "pred = rfc.predict(x_test_std)\n",
    "print(classification_report(y_test, pred))"
   ]
  },
  {
   "cell_type": "code",
   "execution_count": null,
   "id": "7c290e25",
   "metadata": {},
   "outputs": [],
   "source": []
  },
  {
   "cell_type": "code",
   "execution_count": 39,
   "id": "15e803c7",
   "metadata": {},
   "outputs": [
    {
     "data": {
      "text/html": [
       "<div>\n",
       "<style scoped>\n",
       "    .dataframe tbody tr th:only-of-type {\n",
       "        vertical-align: middle;\n",
       "    }\n",
       "\n",
       "    .dataframe tbody tr th {\n",
       "        vertical-align: top;\n",
       "    }\n",
       "\n",
       "    .dataframe thead th {\n",
       "        text-align: right;\n",
       "    }\n",
       "</style>\n",
       "<table border=\"1\" class=\"dataframe\">\n",
       "  <thead>\n",
       "    <tr style=\"text-align: right;\">\n",
       "      <th></th>\n",
       "      <th>id</th>\n",
       "      <th>url</th>\n",
       "      <th>region</th>\n",
       "      <th>region_url</th>\n",
       "      <th>price</th>\n",
       "      <th>year</th>\n",
       "      <th>manufacturer</th>\n",
       "      <th>model</th>\n",
       "      <th>condition</th>\n",
       "      <th>cylinders</th>\n",
       "      <th>...</th>\n",
       "      <th>drive</th>\n",
       "      <th>size</th>\n",
       "      <th>type</th>\n",
       "      <th>paint_color</th>\n",
       "      <th>image_url</th>\n",
       "      <th>description</th>\n",
       "      <th>state</th>\n",
       "      <th>lat</th>\n",
       "      <th>long</th>\n",
       "      <th>posting_date</th>\n",
       "    </tr>\n",
       "  </thead>\n",
       "  <tbody>\n",
       "    <tr>\n",
       "      <th>0</th>\n",
       "      <td>7240372487</td>\n",
       "      <td>https://auburn.craigslist.org/ctd/d/auburn-uni...</td>\n",
       "      <td>auburn</td>\n",
       "      <td>https://auburn.craigslist.org</td>\n",
       "      <td>35990</td>\n",
       "      <td>2010.0</td>\n",
       "      <td>chevrolet</td>\n",
       "      <td>corvette grand sport</td>\n",
       "      <td>good</td>\n",
       "      <td>8 cylinders</td>\n",
       "      <td>...</td>\n",
       "      <td>rwd</td>\n",
       "      <td>NaN</td>\n",
       "      <td>other</td>\n",
       "      <td>NaN</td>\n",
       "      <td>https://images.craigslist.org/00N0N_ipkbHVZYf4...</td>\n",
       "      <td>Carvana is the safer way to buy a car During t...</td>\n",
       "      <td>al</td>\n",
       "      <td>32.590000</td>\n",
       "      <td>-85.480000</td>\n",
       "      <td>2020-12-02T08:11:30-0600</td>\n",
       "    </tr>\n",
       "    <tr>\n",
       "      <th>1</th>\n",
       "      <td>7240309422</td>\n",
       "      <td>https://auburn.craigslist.org/cto/d/auburn-201...</td>\n",
       "      <td>auburn</td>\n",
       "      <td>https://auburn.craigslist.org</td>\n",
       "      <td>7500</td>\n",
       "      <td>2014.0</td>\n",
       "      <td>hyundai</td>\n",
       "      <td>sonata</td>\n",
       "      <td>excellent</td>\n",
       "      <td>4 cylinders</td>\n",
       "      <td>...</td>\n",
       "      <td>fwd</td>\n",
       "      <td>NaN</td>\n",
       "      <td>sedan</td>\n",
       "      <td>NaN</td>\n",
       "      <td>https://images.craigslist.org/00s0s_gBHYmJ5o7y...</td>\n",
       "      <td>I'll move to another city and try to sell my c...</td>\n",
       "      <td>al</td>\n",
       "      <td>32.547500</td>\n",
       "      <td>-85.468200</td>\n",
       "      <td>2020-12-02T02:11:50-0600</td>\n",
       "    </tr>\n",
       "    <tr>\n",
       "      <th>2</th>\n",
       "      <td>7240224296</td>\n",
       "      <td>https://auburn.craigslist.org/cto/d/auburn-200...</td>\n",
       "      <td>auburn</td>\n",
       "      <td>https://auburn.craigslist.org</td>\n",
       "      <td>4900</td>\n",
       "      <td>2006.0</td>\n",
       "      <td>bmw</td>\n",
       "      <td>x3 3.0i</td>\n",
       "      <td>good</td>\n",
       "      <td>6 cylinders</td>\n",
       "      <td>...</td>\n",
       "      <td>NaN</td>\n",
       "      <td>NaN</td>\n",
       "      <td>SUV</td>\n",
       "      <td>blue</td>\n",
       "      <td>https://images.craigslist.org/00B0B_5zgEGWPOrt...</td>\n",
       "      <td>Clean 2006 BMW X3 3.0I.  Beautiful and rare Bl...</td>\n",
       "      <td>al</td>\n",
       "      <td>32.616807</td>\n",
       "      <td>-85.464149</td>\n",
       "      <td>2020-12-01T19:50:41-0600</td>\n",
       "    </tr>\n",
       "  </tbody>\n",
       "</table>\n",
       "<p>3 rows × 25 columns</p>\n",
       "</div>"
      ],
      "text/plain": [
       "           id                                                url  region  \\\n",
       "0  7240372487  https://auburn.craigslist.org/ctd/d/auburn-uni...  auburn   \n",
       "1  7240309422  https://auburn.craigslist.org/cto/d/auburn-201...  auburn   \n",
       "2  7240224296  https://auburn.craigslist.org/cto/d/auburn-200...  auburn   \n",
       "\n",
       "                      region_url  price    year manufacturer  \\\n",
       "0  https://auburn.craigslist.org  35990  2010.0    chevrolet   \n",
       "1  https://auburn.craigslist.org   7500  2014.0      hyundai   \n",
       "2  https://auburn.craigslist.org   4900  2006.0          bmw   \n",
       "\n",
       "                  model  condition    cylinders  ... drive  size   type  \\\n",
       "0  corvette grand sport       good  8 cylinders  ...   rwd   NaN  other   \n",
       "1                sonata  excellent  4 cylinders  ...   fwd   NaN  sedan   \n",
       "2               x3 3.0i       good  6 cylinders  ...   NaN   NaN    SUV   \n",
       "\n",
       "  paint_color                                          image_url  \\\n",
       "0         NaN  https://images.craigslist.org/00N0N_ipkbHVZYf4...   \n",
       "1         NaN  https://images.craigslist.org/00s0s_gBHYmJ5o7y...   \n",
       "2        blue  https://images.craigslist.org/00B0B_5zgEGWPOrt...   \n",
       "\n",
       "                                         description state        lat  \\\n",
       "0  Carvana is the safer way to buy a car During t...    al  32.590000   \n",
       "1  I'll move to another city and try to sell my c...    al  32.547500   \n",
       "2  Clean 2006 BMW X3 3.0I.  Beautiful and rare Bl...    al  32.616807   \n",
       "\n",
       "        long              posting_date  \n",
       "0 -85.480000  2020-12-02T08:11:30-0600  \n",
       "1 -85.468200  2020-12-02T02:11:50-0600  \n",
       "2 -85.464149  2020-12-01T19:50:41-0600  \n",
       "\n",
       "[3 rows x 25 columns]"
      ]
     },
     "execution_count": 39,
     "metadata": {},
     "output_type": "execute_result"
    }
   ],
   "source": [
    "df = pd.read_csv('./ml_source_files/vehicles.csv', index_col=0)\n",
    "df.head(3)"
   ]
  },
  {
   "cell_type": "code",
   "execution_count": 40,
   "id": "5b9acfa0",
   "metadata": {
    "collapsed": true
   },
   "outputs": [
    {
     "data": {
      "text/plain": [
       "Index(['id', 'url', 'region', 'region_url', 'price', 'year', 'manufacturer',\n",
       "       'model', 'condition', 'cylinders', 'fuel', 'odometer', 'title_status',\n",
       "       'transmission', 'VIN', 'drive', 'size', 'type', 'paint_color',\n",
       "       'image_url', 'description', 'state', 'lat', 'long', 'posting_date'],\n",
       "      dtype='object')"
      ]
     },
     "execution_count": 40,
     "metadata": {},
     "output_type": "execute_result"
    }
   ],
   "source": [
    "df.columns"
   ]
  },
  {
   "cell_type": "code",
   "execution_count": 41,
   "id": "afbb463d",
   "metadata": {},
   "outputs": [],
   "source": [
    "df_drop = ['id', 'url', 'region_url', 'VIN', 'description', 'state', 'lat', 'long', 'posting_date']"
   ]
  },
  {
   "cell_type": "code",
   "execution_count": 42,
   "id": "651787c0",
   "metadata": {},
   "outputs": [],
   "source": [
    "df.drop(df_drop, axis=1, inplace=True)"
   ]
  },
  {
   "cell_type": "code",
   "execution_count": 44,
   "id": "38044951",
   "metadata": {},
   "outputs": [],
   "source": [
    "df.drop('image_url', axis=1, inplace=True)"
   ]
  },
  {
   "cell_type": "code",
   "execution_count": 45,
   "id": "70c6b861",
   "metadata": {},
   "outputs": [
    {
     "data": {
      "text/html": [
       "<div>\n",
       "<style scoped>\n",
       "    .dataframe tbody tr th:only-of-type {\n",
       "        vertical-align: middle;\n",
       "    }\n",
       "\n",
       "    .dataframe tbody tr th {\n",
       "        vertical-align: top;\n",
       "    }\n",
       "\n",
       "    .dataframe thead th {\n",
       "        text-align: right;\n",
       "    }\n",
       "</style>\n",
       "<table border=\"1\" class=\"dataframe\">\n",
       "  <thead>\n",
       "    <tr style=\"text-align: right;\">\n",
       "      <th></th>\n",
       "      <th>region</th>\n",
       "      <th>price</th>\n",
       "      <th>year</th>\n",
       "      <th>manufacturer</th>\n",
       "      <th>model</th>\n",
       "      <th>condition</th>\n",
       "      <th>cylinders</th>\n",
       "      <th>fuel</th>\n",
       "      <th>odometer</th>\n",
       "      <th>title_status</th>\n",
       "      <th>transmission</th>\n",
       "      <th>drive</th>\n",
       "      <th>size</th>\n",
       "      <th>type</th>\n",
       "      <th>paint_color</th>\n",
       "    </tr>\n",
       "  </thead>\n",
       "  <tbody>\n",
       "    <tr>\n",
       "      <th>0</th>\n",
       "      <td>auburn</td>\n",
       "      <td>35990</td>\n",
       "      <td>2010.0</td>\n",
       "      <td>chevrolet</td>\n",
       "      <td>corvette grand sport</td>\n",
       "      <td>good</td>\n",
       "      <td>8 cylinders</td>\n",
       "      <td>gas</td>\n",
       "      <td>32742.0</td>\n",
       "      <td>clean</td>\n",
       "      <td>other</td>\n",
       "      <td>rwd</td>\n",
       "      <td>NaN</td>\n",
       "      <td>other</td>\n",
       "      <td>NaN</td>\n",
       "    </tr>\n",
       "    <tr>\n",
       "      <th>1</th>\n",
       "      <td>auburn</td>\n",
       "      <td>7500</td>\n",
       "      <td>2014.0</td>\n",
       "      <td>hyundai</td>\n",
       "      <td>sonata</td>\n",
       "      <td>excellent</td>\n",
       "      <td>4 cylinders</td>\n",
       "      <td>gas</td>\n",
       "      <td>93600.0</td>\n",
       "      <td>clean</td>\n",
       "      <td>automatic</td>\n",
       "      <td>fwd</td>\n",
       "      <td>NaN</td>\n",
       "      <td>sedan</td>\n",
       "      <td>NaN</td>\n",
       "    </tr>\n",
       "  </tbody>\n",
       "</table>\n",
       "</div>"
      ],
      "text/plain": [
       "   region  price    year manufacturer                 model  condition  \\\n",
       "0  auburn  35990  2010.0    chevrolet  corvette grand sport       good   \n",
       "1  auburn   7500  2014.0      hyundai                sonata  excellent   \n",
       "\n",
       "     cylinders fuel  odometer title_status transmission drive size   type  \\\n",
       "0  8 cylinders  gas   32742.0        clean        other   rwd  NaN  other   \n",
       "1  4 cylinders  gas   93600.0        clean    automatic   fwd  NaN  sedan   \n",
       "\n",
       "  paint_color  \n",
       "0         NaN  \n",
       "1         NaN  "
      ]
     },
     "execution_count": 45,
     "metadata": {},
     "output_type": "execute_result"
    }
   ],
   "source": [
    "df.head(2)"
   ]
  },
  {
   "cell_type": "code",
   "execution_count": 46,
   "id": "e78146c4",
   "metadata": {},
   "outputs": [],
   "source": [
    "df['age'] = 2022 - df['year']\n",
    "df.drop('year', axis=1, inplace=True)"
   ]
  },
  {
   "cell_type": "code",
   "execution_count": 48,
   "id": "089041ef",
   "metadata": {},
   "outputs": [
    {
     "name": "stdout",
     "output_type": "stream",
     "text": [
      "<class 'pandas.core.frame.DataFrame'>\n",
      "Int64Index: 458213 entries, 0 to 458212\n",
      "Data columns (total 15 columns):\n",
      " #   Column        Non-Null Count   Dtype  \n",
      "---  ------        --------------   -----  \n",
      " 0   region        458213 non-null  object \n",
      " 1   price         458213 non-null  int64  \n",
      " 2   manufacturer  439993 non-null  object \n",
      " 3   model         453367 non-null  object \n",
      " 4   condition     265273 non-null  object \n",
      " 5   cylinders     287073 non-null  object \n",
      " 6   fuel          454976 non-null  object \n",
      " 7   odometer      402910 non-null  float64\n",
      " 8   title_status  455636 non-null  object \n",
      " 9   transmission  455771 non-null  object \n",
      " 10  drive         324025 non-null  object \n",
      " 11  size          136865 non-null  object \n",
      " 12  type          345475 non-null  object \n",
      " 13  paint_color   317370 non-null  object \n",
      " 14  age           457163 non-null  float64\n",
      "dtypes: float64(2), int64(1), object(12)\n",
      "memory usage: 55.9+ MB\n"
     ]
    }
   ],
   "source": [
    "df.info()"
   ]
  },
  {
   "cell_type": "code",
   "execution_count": 49,
   "id": "4d804d8f",
   "metadata": {
    "collapsed": true
   },
   "outputs": [
    {
     "data": {
      "text/plain": [
       "<AxesSubplot:xlabel='count', ylabel='manufacturer'>"
      ]
     },
     "execution_count": 49,
     "metadata": {},
     "output_type": "execute_result"
    },
    {
     "data": {
      "image/png": "[encoded data removed]",
      "text/plain": [
       "<Figure size 576x720 with 1 Axes>"
      ]
     },
     "metadata": {
      "needs_background": "light"
     },
     "output_type": "display_data"
    }
   ],
   "source": [
    "fig = plt.figure(figsize=(8,10))\n",
    "sns.countplot(y='manufacturer', data=df)"
   ]
  },
  {
   "cell_type": "code",
   "execution_count": 50,
   "id": "a2a9c5ae",
   "metadata": {
    "collapsed": true
   },
   "outputs": [
    {
     "data": {
      "text/plain": [
       "<AxesSubplot:xlabel='count', ylabel='condition'>"
      ]
     },
     "execution_count": 50,
     "metadata": {},
     "output_type": "execute_result"
    },
    {
     "data": {
      "image/png": "[encoded data removed]",
      "text/plain": [
       "<Figure size 576x720 with 1 Axes>"
      ]
     },
     "metadata": {
      "needs_background": "light"
     },
     "output_type": "display_data"
    }
   ],
   "source": [
    "fig = plt.figure(figsize=(8,10))\n",
    "sns.countplot(y='condition', data=df)"
   ]
  },
  {
   "cell_type": "code",
   "execution_count": 51,
   "id": "14bbfe34",
   "metadata": {
    "collapsed": true
   },
   "outputs": [
    {
     "data": {
      "text/plain": [
       "<AxesSubplot:xlabel='count', ylabel='fuel'>"
      ]
     },
     "execution_count": 51,
     "metadata": {},
     "output_type": "execute_result"
    },
    {
     "data": {
      "image/png": "[encoded data removed]",
      "text/plain": [
       "<Figure size 576x720 with 1 Axes>"
      ]
     },
     "metadata": {
      "needs_background": "light"
     },
     "output_type": "display_data"
    }
   ],
   "source": [
    "fig = plt.figure(figsize=(8,10))\n",
    "sns.countplot(y='fuel', data=df)"
   ]
  },
  {
   "cell_type": "code",
   "execution_count": 52,
   "id": "33304db2",
   "metadata": {},
   "outputs": [],
   "source": [
    "count = df['paint_color'].fillna('others').value_counts()"
   ]
  },
  {
   "cell_type": "code",
   "execution_count": 54,
   "id": "8d15b331",
   "metadata": {
    "collapsed": true
   },
   "outputs": [
    {
     "data": {
      "text/plain": [
       "others    140843\n",
       "white      82786\n",
       "black      64145\n",
       "silver     46722\n",
       "red        33274\n",
       "blue       32746\n",
       "grey       30455\n",
       "custom      8843\n",
       "green       7631\n",
       "brown       6028\n",
       "yellow      2002\n",
       "orange      1970\n",
       "purple       768\n",
       "Name: paint_color, dtype: int64"
      ]
     },
     "execution_count": 54,
     "metadata": {},
     "output_type": "execute_result"
    }
   ],
   "source": [
    "count"
   ]
  },
  {
   "cell_type": "code",
   "execution_count": 55,
   "id": "6cd4fd3f",
   "metadata": {},
   "outputs": [
    {
     "data": {
      "text/plain": [
       "Index(['custom', 'green', 'brown', 'yellow', 'orange', 'purple'], dtype='object')"
      ]
     },
     "execution_count": 55,
     "metadata": {},
     "output_type": "execute_result"
    }
   ],
   "source": [
    "n = 7\n",
    "others = count.index[n:]\n",
    "others"
   ]
  },
  {
   "cell_type": "code",
   "execution_count": 56,
   "id": "c45e7158",
   "metadata": {},
   "outputs": [],
   "source": [
    "df['paint_color'] = df['paint_color'].apply(lambda x:x if str(x) not in others else 'others')"
   ]
  },
  {
   "cell_type": "code",
   "execution_count": 58,
   "id": "9d6cd7e8",
   "metadata": {},
   "outputs": [
    {
     "data": {
      "text/plain": [
       "white     82786\n",
       "black     64145\n",
       "silver    46722\n",
       "red       33274\n",
       "blue      32746\n",
       "grey      30455\n",
       "others    27242\n",
       "Name: paint_color, dtype: int64"
      ]
     },
     "execution_count": 58,
     "metadata": {},
     "output_type": "execute_result"
    }
   ],
   "source": [
    "df['paint_color'].value_counts()"
   ]
  },
  {
   "cell_type": "code",
   "execution_count": 59,
   "id": "edd72004",
   "metadata": {},
   "outputs": [
    {
     "data": {
      "text/plain": [
       "140843"
      ]
     },
     "execution_count": 59,
     "metadata": {},
     "output_type": "execute_result"
    }
   ],
   "source": [
    "df['paint_color'].isna().sum()"
   ]
  },
  {
   "cell_type": "code",
   "execution_count": 60,
   "id": "a0096985",
   "metadata": {},
   "outputs": [],
   "source": [
    "df['paint_color'].fillna('others', inplace=True)"
   ]
  },
  {
   "cell_type": "code",
   "execution_count": 61,
   "id": "5f6931ad",
   "metadata": {},
   "outputs": [
    {
     "data": {
      "text/plain": [
       "0"
      ]
     },
     "execution_count": 61,
     "metadata": {},
     "output_type": "execute_result"
    }
   ],
   "source": [
    "df['paint_color'].isna().sum()"
   ]
  },
  {
   "cell_type": "code",
   "execution_count": 64,
   "id": "d6776db0",
   "metadata": {
    "scrolled": true
   },
   "outputs": [
    {
     "data": {
      "text/plain": [
       "ford               79666\n",
       "chevrolet          64977\n",
       "toyota             38577\n",
       "honda              25868\n",
       "nissan             23654\n",
       "jeep               21165\n",
       "ram                17697\n",
       "gmc                17267\n",
       "dodge              16730\n",
       "bmw                12352\n",
       "hyundai            10975\n",
       "mercedes-benz      10628\n",
       "subaru             10510\n",
       "volkswagen         10489\n",
       "kia                 8854\n",
       "chrysler            7499\n",
       "lexus               7119\n",
       "cadillac            6743\n",
       "buick               6009\n",
       "mazda               5931\n",
       "audi                5583\n",
       "acura               4008\n",
       "infiniti            3714\n",
       "lincoln             3338\n",
       "pontiac             3037\n",
       "volvo               2866\n",
       "mini                2330\n",
       "mitsubishi          2301\n",
       "porsche             1779\n",
       "rover               1662\n",
       "mercury             1645\n",
       "saturn              1393\n",
       "tesla               1067\n",
       "jaguar              1060\n",
       "fiat                 955\n",
       "alfa-romeo           187\n",
       "harley-davidson      139\n",
       "ferrari               96\n",
       "datsun                63\n",
       "aston-martin          35\n",
       "land rover            21\n",
       "morgan                 3\n",
       "hennessey              1\n",
       "Name: manufacturer, dtype: int64"
      ]
     },
     "execution_count": 64,
     "metadata": {},
     "output_type": "execute_result"
    }
   ],
   "source": [
    "df['manufacturer'].value_counts()"
   ]
  },
  {
   "cell_type": "code",
   "execution_count": 65,
   "id": "a73889a7",
   "metadata": {},
   "outputs": [
    {
     "data": {
      "text/plain": [
       "0"
      ]
     },
     "execution_count": 65,
     "metadata": {},
     "output_type": "execute_result"
    }
   ],
   "source": [
    "count = df['manufacturer'].fillna('others').value_counts()\n",
    "n = 20\n",
    "others = count.index[n:]\n",
    "df['manufacturer'] = df['paint_color'].apply(lambda x:x if str(x) not in others else 'others')\n",
    "\n",
    "df['manufacturer'].fillna('others', inplace=True)\n",
    "df['manufacturer'].isna().sum()"
   ]
  },
  {
   "cell_type": "code",
   "execution_count": 71,
   "id": "a8622860",
   "metadata": {},
   "outputs": [
    {
     "data": {
      "text/plain": [
       "f-150             8370\n",
       "silverado 1500    5964\n",
       "1500              4211\n",
       "camry             4033\n",
       "accord            3730\n",
       "altima            3490\n",
       "civic             3479\n",
       "escape            3444\n",
       "silverado         3090\n",
       "explorer          2941\n",
       "equinox           2923\n",
       "corolla           2801\n",
       "wrangler          2788\n",
       "mustang           2652\n",
       "malibu            2649\n",
       "tacoma            2649\n",
       "fusion            2608\n",
       "grand cherokee    2574\n",
       "focus             2491\n",
       "grand caravan     2445\n",
       "Name: model, dtype: int64"
      ]
     },
     "execution_count": 71,
     "metadata": {},
     "output_type": "execute_result"
    }
   ],
   "source": [
    "df['model'].value_counts().head(20)"
   ]
  },
  {
   "cell_type": "code",
   "execution_count": 72,
   "id": "6199efc7",
   "metadata": {},
   "outputs": [
    {
     "data": {
      "text/plain": [
       "0"
      ]
     },
     "execution_count": 72,
     "metadata": {},
     "output_type": "execute_result"
    }
   ],
   "source": [
    "count = df['model'].fillna('others').value_counts()\n",
    "n = 20\n",
    "others = count.index[n:]\n",
    "df['model'] = df['paint_color'].apply(lambda x:x if str(x) not in others else 'others')\n",
    "\n",
    "df['model'].fillna('others', inplace=True)\n",
    "df['model'].isna().sum()"
   ]
  },
  {
   "cell_type": "code",
   "execution_count": 73,
   "id": "b36c7eb5",
   "metadata": {
    "collapsed": true
   },
   "outputs": [
    {
     "data": {
      "text/plain": [
       "<AxesSubplot:>"
      ]
     },
     "execution_count": 73,
     "metadata": {},
     "output_type": "execute_result"
    },
    {
     "data": {
      "image/png": "[encoded data removed]",
      "text/plain": [
       "<Figure size 432x288 with 1 Axes>"
      ]
     },
     "metadata": {
      "needs_background": "light"
     },
     "output_type": "display_data"
    }
   ],
   "source": [
    "df[['odometer','age']].plot(kind='box')"
   ]
  },
  {
   "cell_type": "code",
   "execution_count": 74,
   "id": "35485711",
   "metadata": {},
   "outputs": [],
   "source": [
    "from sklearn.preprocessing import StandardScaler\n",
    "std = StandardScaler()"
   ]
  },
  {
   "cell_type": "code",
   "execution_count": 77,
   "id": "90275982",
   "metadata": {},
   "outputs": [
    {
     "data": {
      "text/plain": [
       "odometer    55303\n",
       "age          1050\n",
       "dtype: int64"
      ]
     },
     "execution_count": 77,
     "metadata": {},
     "output_type": "execute_result"
    }
   ],
   "source": [
    "df[['odometer','age']].isna().sum()"
   ]
  },
  {
   "cell_type": "code",
   "execution_count": 87,
   "id": "4c0d5418",
   "metadata": {},
   "outputs": [],
   "source": [
    "df.dropna(subset=['odometer','age'], inplace=True)"
   ]
  },
  {
   "cell_type": "code",
   "execution_count": 88,
   "id": "79710382",
   "metadata": {},
   "outputs": [
    {
     "data": {
      "text/plain": [
       "odometer    0\n",
       "age         0\n",
       "dtype: int64"
      ]
     },
     "execution_count": 88,
     "metadata": {},
     "output_type": "execute_result"
    }
   ],
   "source": [
    "df[['odometer','age']].isna().sum()"
   ]
  },
  {
   "cell_type": "code",
   "execution_count": 89,
   "id": "fc307ab1",
   "metadata": {},
   "outputs": [],
   "source": [
    "def remove_outlier(s):\n",
    "    qu25 = np.percentile(s, 25)\n",
    "    qu75 = np.percentile(s, 75)\n",
    "    iqr = qu75 - qu25\n",
    "    low_limit = qu25 - iqr*1.5\n",
    "    high_limit = qu75 - iqr*1.5\n",
    "    return (s >= low_limit) & (s <= high_limit)"
   ]
  },
  {
   "cell_type": "code",
   "execution_count": 91,
   "id": "f5680124",
   "metadata": {},
   "outputs": [],
   "source": [
    "df['odometer'] = remove_outlier(df['odometer'])"
   ]
  },
  {
   "cell_type": "code",
   "execution_count": 96,
   "id": "60bfa51f",
   "metadata": {},
   "outputs": [],
   "source": [
    "def remove_outlier(s):\n",
    "    qu25 = np.percentile(s, 25)\n",
    "    qu75 = np.percentile(s, 75)\n",
    "    iqr = qu75 - qu25\n",
    "    low_limit = qu25 - iqr*1.5\n",
    "    high_limit = qu75 - iqr*1.5\n",
    "    return (s >= low_limit) & (s <= high_limit)\n",
    "df['age'] = remove_outlier(df['age'])"
   ]
  },
  {
   "cell_type": "code",
   "execution_count": 97,
   "id": "a9c18f9f",
   "metadata": {},
   "outputs": [
    {
     "data": {
      "text/plain": [
       "region               0\n",
       "price                0\n",
       "manufacturer         0\n",
       "model                0\n",
       "condition       159098\n",
       "cylinders       135053\n",
       "fuel              2444\n",
       "odometer             0\n",
       "title_status      1675\n",
       "transmission      1724\n",
       "drive            99604\n",
       "size            275314\n",
       "type             75308\n",
       "paint_color          0\n",
       "age                  0\n",
       "dtype: int64"
      ]
     },
     "execution_count": 97,
     "metadata": {},
     "output_type": "execute_result"
    }
   ],
   "source": [
    "df.isna().sum()"
   ]
  },
  {
   "cell_type": "code",
   "execution_count": 98,
   "id": "d6d6352c",
   "metadata": {},
   "outputs": [],
   "source": [
    "df_d = df.dropna()"
   ]
  },
  {
   "cell_type": "code",
   "execution_count": 99,
   "id": "960b104e",
   "metadata": {
    "collapsed": true
   },
   "outputs": [
    {
     "data": {
      "text/plain": [
       "region          0\n",
       "price           0\n",
       "manufacturer    0\n",
       "model           0\n",
       "condition       0\n",
       "cylinders       0\n",
       "fuel            0\n",
       "odometer        0\n",
       "title_status    0\n",
       "transmission    0\n",
       "drive           0\n",
       "size            0\n",
       "type            0\n",
       "paint_color     0\n",
       "age             0\n",
       "dtype: int64"
      ]
     },
     "execution_count": 99,
     "metadata": {},
     "output_type": "execute_result"
    }
   ],
   "source": [
    "df_d.isna().sum()"
   ]
  },
  {
   "cell_type": "code",
   "execution_count": 100,
   "id": "f58c6173",
   "metadata": {},
   "outputs": [],
   "source": [
    "df_one = pd.get_dummies(df_d)"
   ]
  },
  {
   "cell_type": "code",
   "execution_count": 103,
   "id": "cef28f57",
   "metadata": {},
   "outputs": [
    {
     "data": {
      "text/html": [
       "<div>\n",
       "<style scoped>\n",
       "    .dataframe tbody tr th:only-of-type {\n",
       "        vertical-align: middle;\n",
       "    }\n",
       "\n",
       "    .dataframe tbody tr th {\n",
       "        vertical-align: top;\n",
       "    }\n",
       "\n",
       "    .dataframe thead th {\n",
       "        text-align: right;\n",
       "    }\n",
       "</style>\n",
       "<table border=\"1\" class=\"dataframe\">\n",
       "  <thead>\n",
       "    <tr style=\"text-align: right;\">\n",
       "      <th></th>\n",
       "      <th>price</th>\n",
       "      <th>odometer</th>\n",
       "      <th>age</th>\n",
       "      <th>region_SF bay area</th>\n",
       "      <th>region_abilene</th>\n",
       "      <th>region_akron / canton</th>\n",
       "      <th>region_albany</th>\n",
       "      <th>region_albuquerque</th>\n",
       "      <th>region_altoona-johnstown</th>\n",
       "      <th>region_amarillo</th>\n",
       "      <th>...</th>\n",
       "      <th>type_truck</th>\n",
       "      <th>type_van</th>\n",
       "      <th>type_wagon</th>\n",
       "      <th>paint_color_black</th>\n",
       "      <th>paint_color_blue</th>\n",
       "      <th>paint_color_grey</th>\n",
       "      <th>paint_color_others</th>\n",
       "      <th>paint_color_red</th>\n",
       "      <th>paint_color_silver</th>\n",
       "      <th>paint_color_white</th>\n",
       "    </tr>\n",
       "  </thead>\n",
       "  <tbody>\n",
       "    <tr>\n",
       "      <th>3</th>\n",
       "      <td>2000</td>\n",
       "      <td>False</td>\n",
       "      <td>False</td>\n",
       "      <td>0</td>\n",
       "      <td>0</td>\n",
       "      <td>0</td>\n",
       "      <td>0</td>\n",
       "      <td>0</td>\n",
       "      <td>0</td>\n",
       "      <td>0</td>\n",
       "      <td>...</td>\n",
       "      <td>0</td>\n",
       "      <td>0</td>\n",
       "      <td>0</td>\n",
       "      <td>0</td>\n",
       "      <td>1</td>\n",
       "      <td>0</td>\n",
       "      <td>0</td>\n",
       "      <td>0</td>\n",
       "      <td>0</td>\n",
       "      <td>0</td>\n",
       "    </tr>\n",
       "    <tr>\n",
       "      <th>4</th>\n",
       "      <td>19500</td>\n",
       "      <td>False</td>\n",
       "      <td>False</td>\n",
       "      <td>0</td>\n",
       "      <td>0</td>\n",
       "      <td>0</td>\n",
       "      <td>0</td>\n",
       "      <td>0</td>\n",
       "      <td>0</td>\n",
       "      <td>0</td>\n",
       "      <td>...</td>\n",
       "      <td>0</td>\n",
       "      <td>0</td>\n",
       "      <td>0</td>\n",
       "      <td>0</td>\n",
       "      <td>1</td>\n",
       "      <td>0</td>\n",
       "      <td>0</td>\n",
       "      <td>0</td>\n",
       "      <td>0</td>\n",
       "      <td>0</td>\n",
       "    </tr>\n",
       "  </tbody>\n",
       "</table>\n",
       "<p>2 rows × 476 columns</p>\n",
       "</div>"
      ],
      "text/plain": [
       "   price  odometer    age  region_SF bay area  region_abilene  \\\n",
       "3   2000     False  False                   0               0   \n",
       "4  19500     False  False                   0               0   \n",
       "\n",
       "   region_akron / canton  region_albany  region_albuquerque  \\\n",
       "3                      0              0                   0   \n",
       "4                      0              0                   0   \n",
       "\n",
       "   region_altoona-johnstown  region_amarillo  ...  type_truck  type_van  \\\n",
       "3                         0                0  ...           0         0   \n",
       "4                         0                0  ...           0         0   \n",
       "\n",
       "   type_wagon  paint_color_black  paint_color_blue  paint_color_grey  \\\n",
       "3           0                  0                 1                 0   \n",
       "4           0                  0                 1                 0   \n",
       "\n",
       "   paint_color_others  paint_color_red  paint_color_silver  paint_color_white  \n",
       "3                   0                0                   0                  0  \n",
       "4                   0                0                   0                  0  \n",
       "\n",
       "[2 rows x 476 columns]"
      ]
     },
     "execution_count": 103,
     "metadata": {},
     "output_type": "execute_result"
    }
   ],
   "source": [
    "df_one.head(2)"
   ]
  },
  {
   "cell_type": "code",
   "execution_count": null,
   "id": "89422c4f",
   "metadata": {},
   "outputs": [],
   "source": [
    "df"
   ]
  },
  {
   "cell_type": "code",
   "execution_count": 112,
   "id": "3e6004c6",
   "metadata": {},
   "outputs": [],
   "source": [
    "y = df_one['price']\n",
    "x = df_one.drop('price', axis=1)"
   ]
  },
  {
   "cell_type": "code",
   "execution_count": 113,
   "id": "b34c164d",
   "metadata": {},
   "outputs": [],
   "source": [
    "from sklearn.model_selection import train_test_split\n",
    "x_train, x_test, y_train, y_test = train_test_split(x,y, test_size=0.3, random_state=100)"
   ]
  },
  {
   "cell_type": "code",
   "execution_count": 114,
   "id": "2b4b46ca",
   "metadata": {},
   "outputs": [],
   "source": [
    "from sklearn.linear_model import LinearRegression, Ridge, Lasso"
   ]
  },
  {
   "cell_type": "code",
   "execution_count": 115,
   "id": "f137927d",
   "metadata": {},
   "outputs": [],
   "source": [
    "from sklearn.metrics import classification_report, r2_score, mean_squared_error"
   ]
  },
  {
   "cell_type": "code",
   "execution_count": 116,
   "id": "498c43c1",
   "metadata": {},
   "outputs": [],
   "source": [
    "lr = LinearRegression()\n",
    "rid = Ridge()\n",
    "las = Lasso()"
   ]
  },
  {
   "cell_type": "code",
   "execution_count": 117,
   "id": "0c01d838",
   "metadata": {},
   "outputs": [
    {
     "name": "stdout",
     "output_type": "stream",
     "text": [
      "LinearRegression\n",
      "1519594588094.3403\n",
      "-11130.822838031841\n",
      "====================================================================================================\n",
      "Ridge\n",
      "1494179009949.7117\n",
      "-10944.640473703366\n",
      "====================================================================================================\n",
      "Lasso\n",
      "1519162663146.0027\n",
      "-11127.658762533092\n",
      "====================================================================================================\n"
     ]
    }
   ],
   "source": [
    "models = [lr, rid, las]\n",
    "\n",
    "for m in models:\n",
    "    m.fit(x_train, y_train)\n",
    "    pred = m.predict(x_test)\n",
    "    print(m.__class__.__name__)\n",
    "    print(mean_squared_error(y_test, pred))\n",
    "    print(r2_score(y_test, pred))\n",
    "    print('='*100)"
   ]
  },
  {
   "cell_type": "code",
   "execution_count": 118,
   "id": "4d359d5c",
   "metadata": {},
   "outputs": [],
   "source": [
    "from sklearn.preprocessing import StandardScaler\n",
    "std = StandardScaler()\n",
    "\n",
    "std.fit(x_train)\n",
    "x_train_std = std.transform(x_train)\n",
    "x_test_std = std.transform(x_test)"
   ]
  },
  {
   "cell_type": "code",
   "execution_count": 119,
   "id": "268de18c",
   "metadata": {},
   "outputs": [
    {
     "name": "stdout",
     "output_type": "stream",
     "text": [
      "LinearRegression\n",
      "1527956195860.5825\n",
      "-11192.075975562193\n",
      "====================================================================================================\n",
      "Ridge\n",
      "1519274402405.0735\n",
      "-11128.477310878669\n",
      "====================================================================================================\n",
      "Lasso\n",
      "1519312238224.374\n",
      "-11128.754477986715\n",
      "====================================================================================================\n"
     ]
    }
   ],
   "source": [
    "models = [lr, rid, las]\n",
    "\n",
    "for m in models:\n",
    "    m.fit(x_train_std, y_train)\n",
    "    pred = m.predict(x_test_std)\n",
    "    print(m.__class__.__name__)\n",
    "    print(mean_squared_error(y_test, pred))\n",
    "    print(r2_score(y_test, pred))\n",
    "    print('='*100)"
   ]
  },
  {
   "cell_type": "code",
   "execution_count": null,
   "id": "86ba4bfe",
   "metadata": {},
   "outputs": [],
   "source": []
  },
  {
   "cell_type": "code",
   "execution_count": null,
   "id": "66d50e15",
   "metadata": {},
   "outputs": [],
   "source": []
  },
  {
   "cell_type": "code",
   "execution_count": null,
   "id": "ed135cd8",
   "metadata": {},
   "outputs": [],
   "source": []
  },
  {
   "cell_type": "code",
   "execution_count": null,
   "id": "25b26458",
   "metadata": {},
   "outputs": [],
   "source": []
  },
  {
   "cell_type": "code",
   "execution_count": null,
   "id": "03b12e2b",
   "metadata": {},
   "outputs": [],
   "source": []
  },
  {
   "cell_type": "code",
   "execution_count": null,
   "id": "86bfa59d",
   "metadata": {},
   "outputs": [],
   "source": []
  },
  {
   "cell_type": "code",
   "execution_count": null,
   "id": "eae512fd",
   "metadata": {},
   "outputs": [],
   "source": []
  },
  {
   "cell_type": "code",
   "execution_count": null,
   "id": "1bbeb346",
   "metadata": {},
   "outputs": [],
   "source": []
  },
  {
   "cell_type": "code",
   "execution_count": null,
   "id": "04ed4e1f",
   "metadata": {},
   "outputs": [],
   "source": []
  },
  {
   "cell_type": "code",
   "execution_count": null,
   "id": "c30fd22f",
   "metadata": {},
   "outputs": [],
   "source": []
  }
 ],
 "metadata": {
  "kernelspec": {
   "display_name": "Python 3 (ipykernel)",
   "language": "python",
   "name": "python3"
  },
  "language_info": {
   "codemirror_mode": {
    "name": "ipython",
    "version": 3
   },
   "file_extension": ".py",
   "mimetype": "text/x-python",
   "name": "python",
   "nbconvert_exporter": "python",
   "pygments_lexer": "ipython3",
   "version": "3.9.7"
  },
  "varInspector": {
   "cols": {
    "lenName": 16,
    "lenType": 16,
    "lenVar": 40
   },
   "kernels_config": {
    "python": {
     "delete_cmd_postfix": "",
     "delete_cmd_prefix": "del ",
     "library": "var_list.py",
     "varRefreshCmd": "print(var_dic_list())"
    },
    "r": {
     "delete_cmd_postfix": ") ",
     "delete_cmd_prefix": "rm(",
     "library": "var_list.r",
     "varRefreshCmd": "cat(var_dic_list()) "
    }
   },
   "types_to_exclude": [
    "module",
    "function",
    "builtin_function_or_method",
    "instance",
    "_Feature"
   ],
   "window_display": false
  }
 },
 "nbformat": 4,
 "nbformat_minor": 5
}
