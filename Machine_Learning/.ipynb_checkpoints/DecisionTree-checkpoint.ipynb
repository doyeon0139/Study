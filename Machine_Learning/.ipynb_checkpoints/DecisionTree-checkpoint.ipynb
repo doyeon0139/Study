{
 "cells": [
  {
   "cell_type": "code",
   "execution_count": 1,
   "id": "9b1f5a85",
   "metadata": {},
   "outputs": [],
   "source": [
    "import pandas as pd\n",
    "import numpy as np\n",
    "import matplotlib.pyplot as plt\n",
    "import seaborn as sns"
   ]
  },
  {
   "cell_type": "code",
   "execution_count": 20,
   "id": "2874a322",
   "metadata": {},
   "outputs": [],
   "source": [
    "df = pd.read_csv('./ml_source_files/Kyphosis.csv')"
   ]
  },
  {
   "cell_type": "code",
   "execution_count": 4,
   "id": "338ba220",
   "metadata": {},
   "outputs": [
    {
     "data": {
      "text/html": [
       "<div>\n",
       "<style scoped>\n",
       "    .dataframe tbody tr th:only-of-type {\n",
       "        vertical-align: middle;\n",
       "    }\n",
       "\n",
       "    .dataframe tbody tr th {\n",
       "        vertical-align: top;\n",
       "    }\n",
       "\n",
       "    .dataframe thead th {\n",
       "        text-align: right;\n",
       "    }\n",
       "</style>\n",
       "<table border=\"1\" class=\"dataframe\">\n",
       "  <thead>\n",
       "    <tr style=\"text-align: right;\">\n",
       "      <th></th>\n",
       "      <th>Kyphosis</th>\n",
       "      <th>Age</th>\n",
       "      <th>Number</th>\n",
       "      <th>Start</th>\n",
       "    </tr>\n",
       "  </thead>\n",
       "  <tbody>\n",
       "    <tr>\n",
       "      <th>0</th>\n",
       "      <td>absent</td>\n",
       "      <td>71</td>\n",
       "      <td>3</td>\n",
       "      <td>5</td>\n",
       "    </tr>\n",
       "    <tr>\n",
       "      <th>1</th>\n",
       "      <td>absent</td>\n",
       "      <td>158</td>\n",
       "      <td>3</td>\n",
       "      <td>14</td>\n",
       "    </tr>\n",
       "    <tr>\n",
       "      <th>2</th>\n",
       "      <td>present</td>\n",
       "      <td>128</td>\n",
       "      <td>4</td>\n",
       "      <td>5</td>\n",
       "    </tr>\n",
       "    <tr>\n",
       "      <th>3</th>\n",
       "      <td>absent</td>\n",
       "      <td>2</td>\n",
       "      <td>5</td>\n",
       "      <td>1</td>\n",
       "    </tr>\n",
       "    <tr>\n",
       "      <th>4</th>\n",
       "      <td>absent</td>\n",
       "      <td>1</td>\n",
       "      <td>4</td>\n",
       "      <td>15</td>\n",
       "    </tr>\n",
       "  </tbody>\n",
       "</table>\n",
       "</div>"
      ],
      "text/plain": [
       "  Kyphosis  Age  Number  Start\n",
       "0   absent   71       3      5\n",
       "1   absent  158       3     14\n",
       "2  present  128       4      5\n",
       "3   absent    2       5      1\n",
       "4   absent    1       4     15"
      ]
     },
     "execution_count": 4,
     "metadata": {},
     "output_type": "execute_result"
    }
   ],
   "source": [
    "df.head()"
   ]
  },
  {
   "cell_type": "code",
   "execution_count": 21,
   "id": "32a01cac",
   "metadata": {},
   "outputs": [],
   "source": [
    "y = df['Kyphosis']\n",
    "x = df.drop('Kyphosis', axis=1)"
   ]
  },
  {
   "cell_type": "code",
   "execution_count": 22,
   "id": "aa7c208f",
   "metadata": {},
   "outputs": [],
   "source": [
    "from sklearn.model_selection import train_test_split\n",
    "x_train, x_test, y_train, y_test = train_test_split(x, y, test_size=0.2, random_state=111)"
   ]
  },
  {
   "cell_type": "code",
   "execution_count": 11,
   "id": "b041ea97",
   "metadata": {},
   "outputs": [],
   "source": [
    "from sklearn.tree import DecisionTreeClassifier\n",
    "dtc = DecisionTreeClassifier(max_depth = 5)"
   ]
  },
  {
   "cell_type": "code",
   "execution_count": 12,
   "id": "3bb67357",
   "metadata": {},
   "outputs": [
    {
     "data": {
      "text/plain": [
       "DecisionTreeClassifier(max_depth=5)"
      ]
     },
     "execution_count": 12,
     "metadata": {},
     "output_type": "execute_result"
    }
   ],
   "source": [
    "dtc.fit(x_train, y_train)"
   ]
  },
  {
   "cell_type": "code",
   "execution_count": 14,
   "id": "933042cb",
   "metadata": {},
   "outputs": [],
   "source": [
    "preds = dtc.predict(x_test)"
   ]
  },
  {
   "cell_type": "code",
   "execution_count": 15,
   "id": "019ec6b9",
   "metadata": {},
   "outputs": [
    {
     "name": "stdout",
     "output_type": "stream",
     "text": [
      "              precision    recall  f1-score   support\n",
      "\n",
      "      absent       1.00      0.88      0.93        16\n",
      "     present       0.33      1.00      0.50         1\n",
      "\n",
      "    accuracy                           0.88        17\n",
      "   macro avg       0.67      0.94      0.72        17\n",
      "weighted avg       0.96      0.88      0.91        17\n",
      "\n"
     ]
    }
   ],
   "source": [
    "from sklearn.metrics import classification_report\n",
    "print(classification_report(y_test, preds))"
   ]
  },
  {
   "cell_type": "code",
   "execution_count": 26,
   "id": "df322ee8",
   "metadata": {},
   "outputs": [],
   "source": [
    "from sklearn.ensemble import RandomForestClassifier\n",
    "dtc_r = RandomForestClassifier()"
   ]
  },
  {
   "cell_type": "code",
   "execution_count": 27,
   "id": "aa9fb798",
   "metadata": {},
   "outputs": [
    {
     "data": {
      "text/plain": [
       "RandomForestClassifier()"
      ]
     },
     "execution_count": 27,
     "metadata": {},
     "output_type": "execute_result"
    }
   ],
   "source": [
    "dtc_r.fit(x_train, y_train)"
   ]
  },
  {
   "cell_type": "code",
   "execution_count": 28,
   "id": "cd327a5b",
   "metadata": {},
   "outputs": [],
   "source": [
    "predr = dtc_r.predict(x_test)"
   ]
  },
  {
   "cell_type": "code",
   "execution_count": 30,
   "id": "17d9e6a9",
   "metadata": {},
   "outputs": [
    {
     "name": "stdout",
     "output_type": "stream",
     "text": [
      "              precision    recall  f1-score   support\n",
      "\n",
      "      absent       1.00      0.94      0.97        16\n",
      "     present       0.50      1.00      0.67         1\n",
      "\n",
      "    accuracy                           0.94        17\n",
      "   macro avg       0.75      0.97      0.82        17\n",
      "weighted avg       0.97      0.94      0.95        17\n",
      "\n"
     ]
    }
   ],
   "source": [
    "print(classification_report(y_test, predr))"
   ]
  },
  {
   "cell_type": "code",
   "execution_count": null,
   "id": "af53af6b",
   "metadata": {},
   "outputs": [],
   "source": [
    "from sklearn.model_selection import GridSearchCV\n",
    "parms = {}"
   ]
  },
  {
   "cell_type": "code",
   "execution_count": null,
   "id": "a4542239",
   "metadata": {},
   "outputs": [],
   "source": []
  },
  {
   "cell_type": "code",
   "execution_count": null,
   "id": "09775001",
   "metadata": {},
   "outputs": [],
   "source": []
  },
  {
   "cell_type": "code",
   "execution_count": null,
   "id": "64cafbf6",
   "metadata": {},
   "outputs": [],
   "source": []
  },
  {
   "cell_type": "code",
   "execution_count": 36,
   "id": "7594dffb",
   "metadata": {},
   "outputs": [
    {
     "data": {
      "text/html": [
       "<div>\n",
       "<style scoped>\n",
       "    .dataframe tbody tr th:only-of-type {\n",
       "        vertical-align: middle;\n",
       "    }\n",
       "\n",
       "    .dataframe tbody tr th {\n",
       "        vertical-align: top;\n",
       "    }\n",
       "\n",
       "    .dataframe thead th {\n",
       "        text-align: right;\n",
       "    }\n",
       "</style>\n",
       "<table border=\"1\" class=\"dataframe\">\n",
       "  <thead>\n",
       "    <tr style=\"text-align: right;\">\n",
       "      <th></th>\n",
       "      <th>credit.policy</th>\n",
       "      <th>purpose</th>\n",
       "      <th>int.rate</th>\n",
       "      <th>installment</th>\n",
       "      <th>log.annual.inc</th>\n",
       "      <th>dti</th>\n",
       "      <th>fico</th>\n",
       "      <th>days.with.cr.line</th>\n",
       "      <th>revol.bal</th>\n",
       "      <th>revol.util</th>\n",
       "      <th>inq.last.6mths</th>\n",
       "      <th>delinq.2yrs</th>\n",
       "      <th>pub.rec</th>\n",
       "      <th>not.fully.paid</th>\n",
       "    </tr>\n",
       "  </thead>\n",
       "  <tbody>\n",
       "    <tr>\n",
       "      <th>0</th>\n",
       "      <td>1</td>\n",
       "      <td>debt_consolidation</td>\n",
       "      <td>0.1189</td>\n",
       "      <td>829.10</td>\n",
       "      <td>11.350407</td>\n",
       "      <td>19.48</td>\n",
       "      <td>737</td>\n",
       "      <td>5639.958333</td>\n",
       "      <td>28854</td>\n",
       "      <td>52.1</td>\n",
       "      <td>0</td>\n",
       "      <td>0</td>\n",
       "      <td>0</td>\n",
       "      <td>0</td>\n",
       "    </tr>\n",
       "    <tr>\n",
       "      <th>1</th>\n",
       "      <td>1</td>\n",
       "      <td>credit_card</td>\n",
       "      <td>0.1071</td>\n",
       "      <td>228.22</td>\n",
       "      <td>11.082143</td>\n",
       "      <td>14.29</td>\n",
       "      <td>707</td>\n",
       "      <td>2760.000000</td>\n",
       "      <td>33623</td>\n",
       "      <td>76.7</td>\n",
       "      <td>0</td>\n",
       "      <td>0</td>\n",
       "      <td>0</td>\n",
       "      <td>0</td>\n",
       "    </tr>\n",
       "    <tr>\n",
       "      <th>2</th>\n",
       "      <td>1</td>\n",
       "      <td>debt_consolidation</td>\n",
       "      <td>0.1357</td>\n",
       "      <td>366.86</td>\n",
       "      <td>10.373491</td>\n",
       "      <td>11.63</td>\n",
       "      <td>682</td>\n",
       "      <td>4710.000000</td>\n",
       "      <td>3511</td>\n",
       "      <td>25.6</td>\n",
       "      <td>1</td>\n",
       "      <td>0</td>\n",
       "      <td>0</td>\n",
       "      <td>0</td>\n",
       "    </tr>\n",
       "    <tr>\n",
       "      <th>3</th>\n",
       "      <td>1</td>\n",
       "      <td>debt_consolidation</td>\n",
       "      <td>0.1008</td>\n",
       "      <td>162.34</td>\n",
       "      <td>11.350407</td>\n",
       "      <td>8.10</td>\n",
       "      <td>712</td>\n",
       "      <td>2699.958333</td>\n",
       "      <td>33667</td>\n",
       "      <td>73.2</td>\n",
       "      <td>1</td>\n",
       "      <td>0</td>\n",
       "      <td>0</td>\n",
       "      <td>0</td>\n",
       "    </tr>\n",
       "    <tr>\n",
       "      <th>4</th>\n",
       "      <td>1</td>\n",
       "      <td>credit_card</td>\n",
       "      <td>0.1426</td>\n",
       "      <td>102.92</td>\n",
       "      <td>11.299732</td>\n",
       "      <td>14.97</td>\n",
       "      <td>667</td>\n",
       "      <td>4066.000000</td>\n",
       "      <td>4740</td>\n",
       "      <td>39.5</td>\n",
       "      <td>0</td>\n",
       "      <td>1</td>\n",
       "      <td>0</td>\n",
       "      <td>0</td>\n",
       "    </tr>\n",
       "  </tbody>\n",
       "</table>\n",
       "</div>"
      ],
      "text/plain": [
       "   credit.policy             purpose  int.rate  installment  log.annual.inc  \\\n",
       "0              1  debt_consolidation    0.1189       829.10       11.350407   \n",
       "1              1         credit_card    0.1071       228.22       11.082143   \n",
       "2              1  debt_consolidation    0.1357       366.86       10.373491   \n",
       "3              1  debt_consolidation    0.1008       162.34       11.350407   \n",
       "4              1         credit_card    0.1426       102.92       11.299732   \n",
       "\n",
       "     dti  fico  days.with.cr.line  revol.bal  revol.util  inq.last.6mths  \\\n",
       "0  19.48   737        5639.958333      28854        52.1               0   \n",
       "1  14.29   707        2760.000000      33623        76.7               0   \n",
       "2  11.63   682        4710.000000       3511        25.6               1   \n",
       "3   8.10   712        2699.958333      33667        73.2               1   \n",
       "4  14.97   667        4066.000000       4740        39.5               0   \n",
       "\n",
       "   delinq.2yrs  pub.rec  not.fully.paid  \n",
       "0            0        0               0  \n",
       "1            0        0               0  \n",
       "2            0        0               0  \n",
       "3            0        0               0  \n",
       "4            1        0               0  "
      ]
     },
     "execution_count": 36,
     "metadata": {},
     "output_type": "execute_result"
    }
   ],
   "source": [
    "lons = pd.read_csv('./ml_source_files/loan_data.csv')\n",
    "lons.head()"
   ]
  },
  {
   "cell_type": "code",
   "execution_count": 44,
   "id": "4f6e51d2",
   "metadata": {},
   "outputs": [],
   "source": [
    "y = lons['not.fully.paid']\n",
    "x = lons.drop(['not.fully.paid'], axis=1)"
   ]
  },
  {
   "cell_type": "code",
   "execution_count": null,
   "id": "65fa2e9b",
   "metadata": {},
   "outputs": [],
   "source": []
  },
  {
   "cell_type": "code",
   "execution_count": 45,
   "id": "cec10f77",
   "metadata": {},
   "outputs": [],
   "source": [
    "x = pd.get_dummies(x)"
   ]
  },
  {
   "cell_type": "code",
   "execution_count": 46,
   "id": "5ef70a82",
   "metadata": {},
   "outputs": [
    {
     "data": {
      "text/html": [
       "<div>\n",
       "<style scoped>\n",
       "    .dataframe tbody tr th:only-of-type {\n",
       "        vertical-align: middle;\n",
       "    }\n",
       "\n",
       "    .dataframe tbody tr th {\n",
       "        vertical-align: top;\n",
       "    }\n",
       "\n",
       "    .dataframe thead th {\n",
       "        text-align: right;\n",
       "    }\n",
       "</style>\n",
       "<table border=\"1\" class=\"dataframe\">\n",
       "  <thead>\n",
       "    <tr style=\"text-align: right;\">\n",
       "      <th></th>\n",
       "      <th>credit.policy</th>\n",
       "      <th>int.rate</th>\n",
       "      <th>installment</th>\n",
       "      <th>log.annual.inc</th>\n",
       "      <th>dti</th>\n",
       "      <th>fico</th>\n",
       "      <th>days.with.cr.line</th>\n",
       "      <th>revol.bal</th>\n",
       "      <th>revol.util</th>\n",
       "      <th>inq.last.6mths</th>\n",
       "      <th>delinq.2yrs</th>\n",
       "      <th>pub.rec</th>\n",
       "      <th>purpose_all_other</th>\n",
       "      <th>purpose_credit_card</th>\n",
       "      <th>purpose_debt_consolidation</th>\n",
       "      <th>purpose_educational</th>\n",
       "      <th>purpose_home_improvement</th>\n",
       "      <th>purpose_major_purchase</th>\n",
       "      <th>purpose_small_business</th>\n",
       "    </tr>\n",
       "  </thead>\n",
       "  <tbody>\n",
       "    <tr>\n",
       "      <th>0</th>\n",
       "      <td>1</td>\n",
       "      <td>0.1189</td>\n",
       "      <td>829.10</td>\n",
       "      <td>11.350407</td>\n",
       "      <td>19.48</td>\n",
       "      <td>737</td>\n",
       "      <td>5639.958333</td>\n",
       "      <td>28854</td>\n",
       "      <td>52.1</td>\n",
       "      <td>0</td>\n",
       "      <td>0</td>\n",
       "      <td>0</td>\n",
       "      <td>0</td>\n",
       "      <td>0</td>\n",
       "      <td>1</td>\n",
       "      <td>0</td>\n",
       "      <td>0</td>\n",
       "      <td>0</td>\n",
       "      <td>0</td>\n",
       "    </tr>\n",
       "    <tr>\n",
       "      <th>1</th>\n",
       "      <td>1</td>\n",
       "      <td>0.1071</td>\n",
       "      <td>228.22</td>\n",
       "      <td>11.082143</td>\n",
       "      <td>14.29</td>\n",
       "      <td>707</td>\n",
       "      <td>2760.000000</td>\n",
       "      <td>33623</td>\n",
       "      <td>76.7</td>\n",
       "      <td>0</td>\n",
       "      <td>0</td>\n",
       "      <td>0</td>\n",
       "      <td>0</td>\n",
       "      <td>1</td>\n",
       "      <td>0</td>\n",
       "      <td>0</td>\n",
       "      <td>0</td>\n",
       "      <td>0</td>\n",
       "      <td>0</td>\n",
       "    </tr>\n",
       "  </tbody>\n",
       "</table>\n",
       "</div>"
      ],
      "text/plain": [
       "   credit.policy  int.rate  installment  log.annual.inc    dti  fico  \\\n",
       "0              1    0.1189       829.10       11.350407  19.48   737   \n",
       "1              1    0.1071       228.22       11.082143  14.29   707   \n",
       "\n",
       "   days.with.cr.line  revol.bal  revol.util  inq.last.6mths  delinq.2yrs  \\\n",
       "0        5639.958333      28854        52.1               0            0   \n",
       "1        2760.000000      33623        76.7               0            0   \n",
       "\n",
       "   pub.rec  purpose_all_other  purpose_credit_card  \\\n",
       "0        0                  0                    0   \n",
       "1        0                  0                    1   \n",
       "\n",
       "   purpose_debt_consolidation  purpose_educational  purpose_home_improvement  \\\n",
       "0                           1                    0                         0   \n",
       "1                           0                    0                         0   \n",
       "\n",
       "   purpose_major_purchase  purpose_small_business  \n",
       "0                       0                       0  \n",
       "1                       0                       0  "
      ]
     },
     "execution_count": 46,
     "metadata": {},
     "output_type": "execute_result"
    }
   ],
   "source": [
    "x.head(2)"
   ]
  },
  {
   "cell_type": "code",
   "execution_count": 47,
   "id": "7308024b",
   "metadata": {},
   "outputs": [],
   "source": [
    "from sklearn.model_selection import train_test_split\n",
    "x_train, x_test, y_train, y_test = train_test_split(x, y, test_size=0.2, random_state = 100)"
   ]
  },
  {
   "cell_type": "code",
   "execution_count": 48,
   "id": "8c6bb54d",
   "metadata": {},
   "outputs": [],
   "source": [
    "from sklearn.tree import DecisionTreeClassifier"
   ]
  },
  {
   "cell_type": "code",
   "execution_count": 49,
   "id": "0c3f7d15",
   "metadata": {},
   "outputs": [],
   "source": [
    "tree = DecisionTreeClassifier()"
   ]
  },
  {
   "cell_type": "code",
   "execution_count": 50,
   "id": "bb22f382",
   "metadata": {},
   "outputs": [
    {
     "data": {
      "text/plain": [
       "DecisionTreeClassifier()"
      ]
     },
     "execution_count": 50,
     "metadata": {},
     "output_type": "execute_result"
    }
   ],
   "source": [
    "tree.fit(x_train, y_train)"
   ]
  },
  {
   "cell_type": "code",
   "execution_count": 51,
   "id": "e0b23049",
   "metadata": {},
   "outputs": [],
   "source": [
    "prds = tree.predict(x_test)"
   ]
  },
  {
   "cell_type": "code",
   "execution_count": 52,
   "id": "5f00a29c",
   "metadata": {},
   "outputs": [
    {
     "name": "stdout",
     "output_type": "stream",
     "text": [
      "              precision    recall  f1-score   support\n",
      "\n",
      "           0       0.84      0.83      0.83      1587\n",
      "           1       0.22      0.23      0.22       329\n",
      "\n",
      "    accuracy                           0.73      1916\n",
      "   macro avg       0.53      0.53      0.53      1916\n",
      "weighted avg       0.73      0.73      0.73      1916\n",
      "\n"
     ]
    }
   ],
   "source": [
    "from sklearn.metrics import classification_report\n",
    "print(classification_report(y_test, prds))"
   ]
  },
  {
   "cell_type": "code",
   "execution_count": 81,
   "id": "03e0c836",
   "metadata": {},
   "outputs": [],
   "source": [
    "from sklearn.ensemble import RandomForestClassifier"
   ]
  },
  {
   "cell_type": "code",
   "execution_count": 82,
   "id": "fd1daabe",
   "metadata": {},
   "outputs": [],
   "source": [
    "rf = RandomForestClassifier(n_estimators=10)"
   ]
  },
  {
   "cell_type": "code",
   "execution_count": 83,
   "id": "7121f9d8",
   "metadata": {},
   "outputs": [
    {
     "data": {
      "text/plain": [
       "RandomForestClassifier(n_estimators=10)"
      ]
     },
     "execution_count": 83,
     "metadata": {},
     "output_type": "execute_result"
    }
   ],
   "source": [
    "rf.fit(x_train, y_train)"
   ]
  },
  {
   "cell_type": "code",
   "execution_count": 84,
   "id": "937d90bf",
   "metadata": {},
   "outputs": [],
   "source": [
    "preds = rf.predict(x_test)"
   ]
  },
  {
   "cell_type": "code",
   "execution_count": 85,
   "id": "2dfdabb6",
   "metadata": {},
   "outputs": [
    {
     "name": "stdout",
     "output_type": "stream",
     "text": [
      "              precision    recall  f1-score   support\n",
      "\n",
      "           0       0.83      0.98      0.90      1587\n",
      "           1       0.16      0.02      0.03       329\n",
      "\n",
      "    accuracy                           0.82      1916\n",
      "   macro avg       0.49      0.50      0.46      1916\n",
      "weighted avg       0.71      0.82      0.75      1916\n",
      "\n"
     ]
    }
   ],
   "source": [
    "print(classification_report(y_test, preds))"
   ]
  },
  {
   "cell_type": "code",
   "execution_count": 65,
   "id": "27ca4e02",
   "metadata": {
    "collapsed": true
   },
   "outputs": [
    {
     "ename": "AttributeError",
     "evalue": "'RandomForestClassifier' object has no attribute 'best_estimator_'",
     "output_type": "error",
     "traceback": [
      "\u001b[1;31m---------------------------------------------------------------------------\u001b[0m",
      "\u001b[1;31mAttributeError\u001b[0m                            Traceback (most recent call last)",
      "\u001b[1;32m~\\AppData\\Local\\Temp/ipykernel_31004/384103246.py\u001b[0m in \u001b[0;36m<module>\u001b[1;34m\u001b[0m\n\u001b[1;32m----> 1\u001b[1;33m \u001b[0mrf\u001b[0m\u001b[1;33m.\u001b[0m\u001b[0mbest_estimator_\u001b[0m\u001b[1;33m.\u001b[0m\u001b[0mpredict\u001b[0m\u001b[1;33m(\u001b[0m\u001b[0mx_test\u001b[0m\u001b[1;33m)\u001b[0m\u001b[1;33m\u001b[0m\u001b[1;33m\u001b[0m\u001b[0m\n\u001b[0m",
      "\u001b[1;31mAttributeError\u001b[0m: 'RandomForestClassifier' object has no attribute 'best_estimator_'"
     ]
    }
   ],
   "source": [
    "rf.best_estimator_.predict(x_test)"
   ]
  },
  {
   "cell_type": "code",
   "execution_count": 79,
   "id": "6f36990d",
   "metadata": {
    "collapsed": true
   },
   "outputs": [
    {
     "ename": "AttributeError",
     "evalue": "'RandomForestClassifier' object has no attribute 'baise_estimator_'",
     "output_type": "error",
     "traceback": [
      "\u001b[1;31m---------------------------------------------------------------------------\u001b[0m",
      "\u001b[1;31mAttributeError\u001b[0m                            Traceback (most recent call last)",
      "\u001b[1;32m~\\AppData\\Local\\Temp/ipykernel_31004/436404941.py\u001b[0m in \u001b[0;36m<module>\u001b[1;34m\u001b[0m\n\u001b[1;32m----> 1\u001b[1;33m \u001b[0mrf\u001b[0m\u001b[1;33m.\u001b[0m\u001b[0mbaise_estimator_\u001b[0m\u001b[1;33m.\u001b[0m\u001b[0mpredict\u001b[0m\u001b[1;33m(\u001b[0m\u001b[0mx_test\u001b[0m\u001b[1;33m)\u001b[0m\u001b[1;33m\u001b[0m\u001b[1;33m\u001b[0m\u001b[0m\n\u001b[0m",
      "\u001b[1;31mAttributeError\u001b[0m: 'RandomForestClassifier' object has no attribute 'baise_estimator_'"
     ]
    }
   ],
   "source": [
    "rf.baise_estimator_.predict(x_test)"
   ]
  },
  {
   "cell_type": "code",
   "execution_count": 86,
   "id": "d35aea12",
   "metadata": {},
   "outputs": [],
   "source": [
    "from sklearn.model_selection import GridSearchCV"
   ]
  },
  {
   "cell_type": "code",
   "execution_count": 87,
   "id": "9b633190",
   "metadata": {},
   "outputs": [],
   "source": [
    "params = {'n_estimators':[50, 100, 500], 'max_depth':[10,20,50],'min_samples_leaf':[2, 3, 5]}"
   ]
  },
  {
   "cell_type": "code",
   "execution_count": 89,
   "id": "2e876183",
   "metadata": {},
   "outputs": [],
   "source": [
    "rfc = RandomForestClassifier()\n",
    "grid = GridSearchCV(rfc, param_grid=params, refit=True, verbose=3)"
   ]
  },
  {
   "cell_type": "code",
   "execution_count": 90,
   "id": "837cd56d",
   "metadata": {
    "scrolled": true
   },
   "outputs": [
    {
     "name": "stdout",
     "output_type": "stream",
     "text": [
      "Fitting 5 folds for each of 27 candidates, totalling 135 fits\n",
      "[CV 1/5] END max_depth=10, min_samples_leaf=2, n_estimators=50;, score=0.843 total time=   0.2s\n",
      "[CV 2/5] END max_depth=10, min_samples_leaf=2, n_estimators=50;, score=0.843 total time=   0.2s\n",
      "[CV 3/5] END max_depth=10, min_samples_leaf=2, n_estimators=50;, score=0.843 total time=   0.2s\n",
      "[CV 4/5] END max_depth=10, min_samples_leaf=2, n_estimators=50;, score=0.841 total time=   0.2s\n",
      "[CV 5/5] END max_depth=10, min_samples_leaf=2, n_estimators=50;, score=0.843 total time=   0.2s\n",
      "[CV 1/5] END max_depth=10, min_samples_leaf=2, n_estimators=100;, score=0.843 total time=   0.5s\n",
      "[CV 2/5] END max_depth=10, min_samples_leaf=2, n_estimators=100;, score=0.843 total time=   0.5s\n",
      "[CV 3/5] END max_depth=10, min_samples_leaf=2, n_estimators=100;, score=0.846 total time=   0.5s\n",
      "[CV 4/5] END max_depth=10, min_samples_leaf=2, n_estimators=100;, score=0.843 total time=   0.7s\n",
      "[CV 5/5] END max_depth=10, min_samples_leaf=2, n_estimators=100;, score=0.842 total time=   0.7s\n",
      "[CV 1/5] END max_depth=10, min_samples_leaf=2, n_estimators=500;, score=0.843 total time=   3.7s\n",
      "[CV 2/5] END max_depth=10, min_samples_leaf=2, n_estimators=500;, score=0.843 total time=   3.7s\n",
      "[CV 3/5] END max_depth=10, min_samples_leaf=2, n_estimators=500;, score=0.845 total time=   3.6s\n",
      "[CV 4/5] END max_depth=10, min_samples_leaf=2, n_estimators=500;, score=0.842 total time=   3.8s\n",
      "[CV 5/5] END max_depth=10, min_samples_leaf=2, n_estimators=500;, score=0.843 total time=   3.6s\n",
      "[CV 1/5] END max_depth=10, min_samples_leaf=3, n_estimators=50;, score=0.844 total time=   0.3s\n",
      "[CV 2/5] END max_depth=10, min_samples_leaf=3, n_estimators=50;, score=0.841 total time=   0.3s\n",
      "[CV 3/5] END max_depth=10, min_samples_leaf=3, n_estimators=50;, score=0.845 total time=   0.3s\n",
      "[CV 4/5] END max_depth=10, min_samples_leaf=3, n_estimators=50;, score=0.842 total time=   0.3s\n",
      "[CV 5/5] END max_depth=10, min_samples_leaf=3, n_estimators=50;, score=0.841 total time=   0.3s\n",
      "[CV 1/5] END max_depth=10, min_samples_leaf=3, n_estimators=100;, score=0.844 total time=   0.6s\n",
      "[CV 2/5] END max_depth=10, min_samples_leaf=3, n_estimators=100;, score=0.842 total time=   0.7s\n",
      "[CV 3/5] END max_depth=10, min_samples_leaf=3, n_estimators=100;, score=0.845 total time=   0.6s\n",
      "[CV 4/5] END max_depth=10, min_samples_leaf=3, n_estimators=100;, score=0.842 total time=   0.6s\n",
      "[CV 5/5] END max_depth=10, min_samples_leaf=3, n_estimators=100;, score=0.843 total time=   0.6s\n",
      "[CV 1/5] END max_depth=10, min_samples_leaf=3, n_estimators=500;, score=0.843 total time=   3.9s\n",
      "[CV 2/5] END max_depth=10, min_samples_leaf=3, n_estimators=500;, score=0.843 total time=   3.2s\n",
      "[CV 3/5] END max_depth=10, min_samples_leaf=3, n_estimators=500;, score=0.845 total time=   3.1s\n",
      "[CV 4/5] END max_depth=10, min_samples_leaf=3, n_estimators=500;, score=0.842 total time=   3.1s\n",
      "[CV 5/5] END max_depth=10, min_samples_leaf=3, n_estimators=500;, score=0.843 total time=   3.1s\n",
      "[CV 1/5] END max_depth=10, min_samples_leaf=5, n_estimators=50;, score=0.845 total time=   0.2s\n",
      "[CV 2/5] END max_depth=10, min_samples_leaf=5, n_estimators=50;, score=0.843 total time=   0.2s\n",
      "[CV 3/5] END max_depth=10, min_samples_leaf=5, n_estimators=50;, score=0.843 total time=   0.2s\n",
      "[CV 4/5] END max_depth=10, min_samples_leaf=5, n_estimators=50;, score=0.843 total time=   0.2s\n",
      "[CV 5/5] END max_depth=10, min_samples_leaf=5, n_estimators=50;, score=0.843 total time=   0.2s\n",
      "[CV 1/5] END max_depth=10, min_samples_leaf=5, n_estimators=100;, score=0.843 total time=   0.5s\n",
      "[CV 2/5] END max_depth=10, min_samples_leaf=5, n_estimators=100;, score=0.842 total time=   0.6s\n",
      "[CV 3/5] END max_depth=10, min_samples_leaf=5, n_estimators=100;, score=0.844 total time=   0.5s\n",
      "[CV 4/5] END max_depth=10, min_samples_leaf=5, n_estimators=100;, score=0.843 total time=   0.5s\n",
      "[CV 5/5] END max_depth=10, min_samples_leaf=5, n_estimators=100;, score=0.843 total time=   0.5s\n",
      "[CV 1/5] END max_depth=10, min_samples_leaf=5, n_estimators=500;, score=0.843 total time=   3.1s\n",
      "[CV 2/5] END max_depth=10, min_samples_leaf=5, n_estimators=500;, score=0.842 total time=   3.9s\n",
      "[CV 3/5] END max_depth=10, min_samples_leaf=5, n_estimators=500;, score=0.843 total time=   3.3s\n",
      "[CV 4/5] END max_depth=10, min_samples_leaf=5, n_estimators=500;, score=0.842 total time=   3.3s\n",
      "[CV 5/5] END max_depth=10, min_samples_leaf=5, n_estimators=500;, score=0.843 total time=   3.2s\n",
      "[CV 1/5] END max_depth=20, min_samples_leaf=2, n_estimators=50;, score=0.842 total time=   0.4s\n",
      "[CV 2/5] END max_depth=20, min_samples_leaf=2, n_estimators=50;, score=0.841 total time=   0.4s\n",
      "[CV 3/5] END max_depth=20, min_samples_leaf=2, n_estimators=50;, score=0.841 total time=   0.4s\n",
      "[CV 4/5] END max_depth=20, min_samples_leaf=2, n_estimators=50;, score=0.843 total time=   0.4s\n",
      "[CV 5/5] END max_depth=20, min_samples_leaf=2, n_estimators=50;, score=0.840 total time=   0.4s\n",
      "[CV 1/5] END max_depth=20, min_samples_leaf=2, n_estimators=100;, score=0.843 total time=   0.9s\n",
      "[CV 2/5] END max_depth=20, min_samples_leaf=2, n_estimators=100;, score=0.843 total time=   1.0s\n",
      "[CV 3/5] END max_depth=20, min_samples_leaf=2, n_estimators=100;, score=0.845 total time=   0.9s\n",
      "[CV 4/5] END max_depth=20, min_samples_leaf=2, n_estimators=100;, score=0.842 total time=   0.8s\n",
      "[CV 5/5] END max_depth=20, min_samples_leaf=2, n_estimators=100;, score=0.842 total time=   0.8s\n",
      "[CV 1/5] END max_depth=20, min_samples_leaf=2, n_estimators=500;, score=0.843 total time=   4.4s\n",
      "[CV 2/5] END max_depth=20, min_samples_leaf=2, n_estimators=500;, score=0.843 total time=   4.6s\n",
      "[CV 3/5] END max_depth=20, min_samples_leaf=2, n_estimators=500;, score=0.844 total time=   4.5s\n",
      "[CV 4/5] END max_depth=20, min_samples_leaf=2, n_estimators=500;, score=0.841 total time=   4.4s\n",
      "[CV 5/5] END max_depth=20, min_samples_leaf=2, n_estimators=500;, score=0.843 total time=   4.7s\n",
      "[CV 1/5] END max_depth=20, min_samples_leaf=3, n_estimators=50;, score=0.843 total time=   0.4s\n",
      "[CV 2/5] END max_depth=20, min_samples_leaf=3, n_estimators=50;, score=0.843 total time=   0.4s\n",
      "[CV 3/5] END max_depth=20, min_samples_leaf=3, n_estimators=50;, score=0.845 total time=   0.4s\n",
      "[CV 4/5] END max_depth=20, min_samples_leaf=3, n_estimators=50;, score=0.843 total time=   0.4s\n",
      "[CV 5/5] END max_depth=20, min_samples_leaf=3, n_estimators=50;, score=0.841 total time=   0.3s\n",
      "[CV 1/5] END max_depth=20, min_samples_leaf=3, n_estimators=100;, score=0.841 total time=   0.8s\n",
      "[CV 2/5] END max_depth=20, min_samples_leaf=3, n_estimators=100;, score=0.843 total time=   0.8s\n",
      "[CV 3/5] END max_depth=20, min_samples_leaf=3, n_estimators=100;, score=0.845 total time=   0.9s\n",
      "[CV 4/5] END max_depth=20, min_samples_leaf=3, n_estimators=100;, score=0.842 total time=   0.8s\n",
      "[CV 5/5] END max_depth=20, min_samples_leaf=3, n_estimators=100;, score=0.841 total time=   0.8s\n",
      "[CV 1/5] END max_depth=20, min_samples_leaf=3, n_estimators=500;, score=0.844 total time=   4.4s\n",
      "[CV 2/5] END max_depth=20, min_samples_leaf=3, n_estimators=500;, score=0.842 total time=   4.5s\n",
      "[CV 3/5] END max_depth=20, min_samples_leaf=3, n_estimators=500;, score=0.844 total time=   4.5s\n",
      "[CV 4/5] END max_depth=20, min_samples_leaf=3, n_estimators=500;, score=0.843 total time=   4.2s\n",
      "[CV 5/5] END max_depth=20, min_samples_leaf=3, n_estimators=500;, score=0.843 total time=   4.2s\n",
      "[CV 1/5] END max_depth=20, min_samples_leaf=5, n_estimators=50;, score=0.843 total time=   0.3s\n",
      "[CV 2/5] END max_depth=20, min_samples_leaf=5, n_estimators=50;, score=0.842 total time=   0.3s\n",
      "[CV 3/5] END max_depth=20, min_samples_leaf=5, n_estimators=50;, score=0.843 total time=   0.3s\n",
      "[CV 4/5] END max_depth=20, min_samples_leaf=5, n_estimators=50;, score=0.839 total time=   0.3s\n",
      "[CV 5/5] END max_depth=20, min_samples_leaf=5, n_estimators=50;, score=0.843 total time=   0.4s\n",
      "[CV 1/5] END max_depth=20, min_samples_leaf=5, n_estimators=100;, score=0.844 total time=   0.8s\n",
      "[CV 2/5] END max_depth=20, min_samples_leaf=5, n_estimators=100;, score=0.842 total time=   0.8s\n",
      "[CV 3/5] END max_depth=20, min_samples_leaf=5, n_estimators=100;, score=0.845 total time=   0.7s\n",
      "[CV 4/5] END max_depth=20, min_samples_leaf=5, n_estimators=100;, score=0.843 total time=   0.8s\n",
      "[CV 5/5] END max_depth=20, min_samples_leaf=5, n_estimators=100;, score=0.842 total time=   0.8s\n"
     ]
    },
    {
     "name": "stdout",
     "output_type": "stream",
     "text": [
      "[CV 1/5] END max_depth=20, min_samples_leaf=5, n_estimators=500;, score=0.843 total time=   4.3s\n",
      "[CV 2/5] END max_depth=20, min_samples_leaf=5, n_estimators=500;, score=0.843 total time=   4.1s\n",
      "[CV 3/5] END max_depth=20, min_samples_leaf=5, n_estimators=500;, score=0.844 total time=   4.1s\n",
      "[CV 4/5] END max_depth=20, min_samples_leaf=5, n_estimators=500;, score=0.843 total time=   4.4s\n",
      "[CV 5/5] END max_depth=20, min_samples_leaf=5, n_estimators=500;, score=0.843 total time=   5.0s\n",
      "[CV 1/5] END max_depth=50, min_samples_leaf=2, n_estimators=50;, score=0.844 total time=   0.4s\n",
      "[CV 2/5] END max_depth=50, min_samples_leaf=2, n_estimators=50;, score=0.843 total time=   0.4s\n",
      "[CV 3/5] END max_depth=50, min_samples_leaf=2, n_estimators=50;, score=0.843 total time=   0.4s\n",
      "[CV 4/5] END max_depth=50, min_samples_leaf=2, n_estimators=50;, score=0.843 total time=   0.4s\n",
      "[CV 5/5] END max_depth=50, min_samples_leaf=2, n_estimators=50;, score=0.837 total time=   0.5s\n",
      "[CV 1/5] END max_depth=50, min_samples_leaf=2, n_estimators=100;, score=0.845 total time=   1.0s\n",
      "[CV 2/5] END max_depth=50, min_samples_leaf=2, n_estimators=100;, score=0.842 total time=   0.9s\n",
      "[CV 3/5] END max_depth=50, min_samples_leaf=2, n_estimators=100;, score=0.844 total time=   0.8s\n",
      "[CV 4/5] END max_depth=50, min_samples_leaf=2, n_estimators=100;, score=0.841 total time=   0.8s\n",
      "[CV 5/5] END max_depth=50, min_samples_leaf=2, n_estimators=100;, score=0.841 total time=   1.2s\n",
      "[CV 1/5] END max_depth=50, min_samples_leaf=2, n_estimators=500;, score=0.843 total time=   5.3s\n",
      "[CV 2/5] END max_depth=50, min_samples_leaf=2, n_estimators=500;, score=0.842 total time=   5.1s\n",
      "[CV 3/5] END max_depth=50, min_samples_leaf=2, n_estimators=500;, score=0.844 total time=   4.5s\n",
      "[CV 4/5] END max_depth=50, min_samples_leaf=2, n_estimators=500;, score=0.842 total time=   4.9s\n",
      "[CV 5/5] END max_depth=50, min_samples_leaf=2, n_estimators=500;, score=0.843 total time=   4.9s\n",
      "[CV 1/5] END max_depth=50, min_samples_leaf=3, n_estimators=50;, score=0.843 total time=   0.4s\n",
      "[CV 2/5] END max_depth=50, min_samples_leaf=3, n_estimators=50;, score=0.841 total time=   0.5s\n",
      "[CV 3/5] END max_depth=50, min_samples_leaf=3, n_estimators=50;, score=0.844 total time=   0.4s\n",
      "[CV 4/5] END max_depth=50, min_samples_leaf=3, n_estimators=50;, score=0.841 total time=   0.4s\n",
      "[CV 5/5] END max_depth=50, min_samples_leaf=3, n_estimators=50;, score=0.843 total time=   0.4s\n",
      "[CV 1/5] END max_depth=50, min_samples_leaf=3, n_estimators=100;, score=0.844 total time=   0.9s\n",
      "[CV 2/5] END max_depth=50, min_samples_leaf=3, n_estimators=100;, score=0.843 total time=   0.8s\n",
      "[CV 3/5] END max_depth=50, min_samples_leaf=3, n_estimators=100;, score=0.845 total time=   0.9s\n",
      "[CV 4/5] END max_depth=50, min_samples_leaf=3, n_estimators=100;, score=0.842 total time=   0.9s\n",
      "[CV 5/5] END max_depth=50, min_samples_leaf=3, n_estimators=100;, score=0.843 total time=   0.8s\n",
      "[CV 1/5] END max_depth=50, min_samples_leaf=3, n_estimators=500;, score=0.845 total time=   4.4s\n",
      "[CV 2/5] END max_depth=50, min_samples_leaf=3, n_estimators=500;, score=0.843 total time=   5.1s\n",
      "[CV 3/5] END max_depth=50, min_samples_leaf=3, n_estimators=500;, score=0.845 total time=   4.9s\n",
      "[CV 4/5] END max_depth=50, min_samples_leaf=3, n_estimators=500;, score=0.841 total time=   4.4s\n",
      "[CV 5/5] END max_depth=50, min_samples_leaf=3, n_estimators=500;, score=0.843 total time=   4.4s\n",
      "[CV 1/5] END max_depth=50, min_samples_leaf=5, n_estimators=50;, score=0.842 total time=   0.3s\n",
      "[CV 2/5] END max_depth=50, min_samples_leaf=5, n_estimators=50;, score=0.843 total time=   0.3s\n",
      "[CV 3/5] END max_depth=50, min_samples_leaf=5, n_estimators=50;, score=0.843 total time=   0.4s\n",
      "[CV 4/5] END max_depth=50, min_samples_leaf=5, n_estimators=50;, score=0.842 total time=   0.4s\n",
      "[CV 5/5] END max_depth=50, min_samples_leaf=5, n_estimators=50;, score=0.842 total time=   0.4s\n",
      "[CV 1/5] END max_depth=50, min_samples_leaf=5, n_estimators=100;, score=0.843 total time=   0.7s\n",
      "[CV 2/5] END max_depth=50, min_samples_leaf=5, n_estimators=100;, score=0.842 total time=   0.8s\n",
      "[CV 3/5] END max_depth=50, min_samples_leaf=5, n_estimators=100;, score=0.843 total time=   0.8s\n",
      "[CV 4/5] END max_depth=50, min_samples_leaf=5, n_estimators=100;, score=0.843 total time=   0.7s\n",
      "[CV 5/5] END max_depth=50, min_samples_leaf=5, n_estimators=100;, score=0.843 total time=   0.8s\n",
      "[CV 1/5] END max_depth=50, min_samples_leaf=5, n_estimators=500;, score=0.843 total time=   4.3s\n",
      "[CV 2/5] END max_depth=50, min_samples_leaf=5, n_estimators=500;, score=0.842 total time=   4.7s\n",
      "[CV 3/5] END max_depth=50, min_samples_leaf=5, n_estimators=500;, score=0.844 total time=   4.4s\n",
      "[CV 4/5] END max_depth=50, min_samples_leaf=5, n_estimators=500;, score=0.842 total time=   4.5s\n",
      "[CV 5/5] END max_depth=50, min_samples_leaf=5, n_estimators=500;, score=0.843 total time=   4.3s\n"
     ]
    },
    {
     "data": {
      "text/plain": [
       "GridSearchCV(estimator=RandomForestClassifier(),\n",
       "             param_grid={'max_depth': [10, 20, 50],\n",
       "                         'min_samples_leaf': [2, 3, 5],\n",
       "                         'n_estimators': [50, 100, 500]},\n",
       "             verbose=3)"
      ]
     },
     "execution_count": 90,
     "metadata": {},
     "output_type": "execute_result"
    }
   ],
   "source": [
    "grid.fit(x_train, y_train)"
   ]
  },
  {
   "cell_type": "code",
   "execution_count": 91,
   "id": "4a81a837",
   "metadata": {},
   "outputs": [
    {
     "data": {
      "text/plain": [
       "{'max_depth': 10, 'min_samples_leaf': 5, 'n_estimators': 50}"
      ]
     },
     "execution_count": 91,
     "metadata": {},
     "output_type": "execute_result"
    }
   ],
   "source": [
    "grid.best_params_"
   ]
  },
  {
   "cell_type": "code",
   "execution_count": null,
   "id": "53488504",
   "metadata": {},
   "outputs": [],
   "source": []
  },
  {
   "cell_type": "code",
   "execution_count": null,
   "id": "9e78188e",
   "metadata": {},
   "outputs": [],
   "source": []
  },
  {
   "cell_type": "code",
   "execution_count": null,
   "id": "555eac26",
   "metadata": {},
   "outputs": [],
   "source": []
  },
  {
   "cell_type": "code",
   "execution_count": null,
   "id": "d328a2f8",
   "metadata": {},
   "outputs": [],
   "source": []
  },
  {
   "cell_type": "code",
   "execution_count": null,
   "id": "07e3d058",
   "metadata": {},
   "outputs": [],
   "source": []
  },
  {
   "cell_type": "code",
   "execution_count": null,
   "id": "d8c35ff1",
   "metadata": {},
   "outputs": [],
   "source": []
  },
  {
   "cell_type": "code",
   "execution_count": null,
   "id": "b927e89d",
   "metadata": {},
   "outputs": [],
   "source": []
  },
  {
   "cell_type": "code",
   "execution_count": null,
   "id": "188f4f1b",
   "metadata": {},
   "outputs": [],
   "source": []
  },
  {
   "cell_type": "code",
   "execution_count": null,
   "id": "2a45249e",
   "metadata": {},
   "outputs": [],
   "source": []
  },
  {
   "cell_type": "code",
   "execution_count": null,
   "id": "a4fdf38e",
   "metadata": {},
   "outputs": [],
   "source": []
  }
 ],
 "metadata": {
  "kernelspec": {
   "display_name": "Python 3 (ipykernel)",
   "language": "python",
   "name": "python3"
  },
  "language_info": {
   "codemirror_mode": {
    "name": "ipython",
    "version": 3
   },
   "file_extension": ".py",
   "mimetype": "text/x-python",
   "name": "python",
   "nbconvert_exporter": "python",
   "pygments_lexer": "ipython3",
   "version": "3.9.7"
  },
  "varInspector": {
   "cols": {
    "lenName": 16,
    "lenType": 16,
    "lenVar": 40
   },
   "kernels_config": {
    "python": {
     "delete_cmd_postfix": "",
     "delete_cmd_prefix": "del ",
     "library": "var_list.py",
     "varRefreshCmd": "print(var_dic_list())"
    },
    "r": {
     "delete_cmd_postfix": ") ",
     "delete_cmd_prefix": "rm(",
     "library": "var_list.r",
     "varRefreshCmd": "cat(var_dic_list()) "
    }
   },
   "types_to_exclude": [
    "module",
    "function",
    "builtin_function_or_method",
    "instance",
    "_Feature"
   ],
   "window_display": false
  }
 },
 "nbformat": 4,
 "nbformat_minor": 5
}
