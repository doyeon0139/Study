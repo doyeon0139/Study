{
 "cells": [
  {
   "cell_type": "markdown",
   "id": "247edd95",
   "metadata": {},
   "source": [
    "# 차원축소\n",
    "고차원 데이터 (변수가 많은, 칼럼이 많은)의 경우, 학습이 여려울 수 있다.(과적합), 연산하는데 비용이 많이 든다, 시각화가 어렵다\n",
    "\n",
    "고차원데이터 => 저차원으로 변형\n",
    "\n",
    "학습이 효율적이다\n",
    "학습에 비용이 적게 든다(메모리, 시간)\n",
    "시각화에서 분석이 용이하다\n",
    "\n",
    "\n",
    "\n",
    "##### PCA, LDA, t_storn"
   ]
  },
  {
   "cell_type": "code",
   "execution_count": null,
   "id": "74ff7095",
   "metadata": {},
   "outputs": [],
   "source": []
  },
  {
   "cell_type": "code",
   "execution_count": 1,
   "id": "64c26ad4",
   "metadata": {},
   "outputs": [],
   "source": [
    "import pandas as pd\n",
    "import numpy as np\n",
    "import matplotlib.pyplot as plt\n",
    "import seaborn as sns"
   ]
  },
  {
   "cell_type": "code",
   "execution_count": null,
   "id": "c002c72b",
   "metadata": {},
   "outputs": [],
   "source": [
    "from sklearn."
   ]
  },
  {
   "cell_type": "code",
   "execution_count": null,
   "id": "ed682d3d",
   "metadata": {},
   "outputs": [],
   "source": [
    "# ratio => 비율값"
   ]
  },
  {
   "cell_type": "code",
   "execution_count": null,
   "id": "984b467a",
   "metadata": {},
   "outputs": [],
   "source": [
    "# cumsum 부드러워짐??? 누적이래 누적합"
   ]
  },
  {
   "cell_type": "code",
   "execution_count": null,
   "id": "5d6ea909",
   "metadata": {},
   "outputs": [],
   "source": [
    "# 실제 사용 - n개의 주성분\n",
    "\n",
    "# 전체 주성분의 값을 사용하지 않음\n",
    "# 주성분의 개수를 지정하거나 설명되는 분산의 비율값을 사용함"
   ]
  },
  {
   "cell_type": "code",
   "execution_count": null,
   "id": "ea3e3148",
   "metadata": {},
   "outputs": [],
   "source": [
    "# 데이터의 분산의 80%까지 표현하는 주성분을 리턴\n",
    "ratio_pca = PCA(n_components=0.8)\n",
    "ratio_pca.fit(scaled_X)"
   ]
  },
  {
   "cell_type": "code",
   "execution_count": null,
   "id": "82eb21a0",
   "metadata": {},
   "outputs": [],
   "source": []
  },
  {
   "cell_type": "code",
   "execution_count": null,
   "id": "ebf88cca",
   "metadata": {},
   "outputs": [],
   "source": [
    "# 시각화"
   ]
  },
  {
   "cell_type": "code",
   "execution_count": null,
   "id": "72eb4990",
   "metadata": {},
   "outputs": [],
   "source": []
  },
  {
   "cell_type": "code",
   "execution_count": null,
   "id": "d09830cf",
   "metadata": {},
   "outputs": [],
   "source": []
  },
  {
   "cell_type": "code",
   "execution_count": null,
   "id": "0da11537",
   "metadata": {},
   "outputs": [],
   "source": []
  },
  {
   "cell_type": "code",
   "execution_count": null,
   "id": "79050389",
   "metadata": {},
   "outputs": [],
   "source": []
  },
  {
   "cell_type": "code",
   "execution_count": null,
   "id": "f2f0f0f6",
   "metadata": {},
   "outputs": [],
   "source": []
  },
  {
   "cell_type": "code",
   "execution_count": null,
   "id": "f56b35af",
   "metadata": {},
   "outputs": [],
   "source": []
  },
  {
   "cell_type": "code",
   "execution_count": null,
   "id": "ca5784ec",
   "metadata": {},
   "outputs": [],
   "source": []
  },
  {
   "cell_type": "code",
   "execution_count": null,
   "id": "f3818826",
   "metadata": {},
   "outputs": [],
   "source": []
  },
  {
   "cell_type": "code",
   "execution_count": null,
   "id": "69d9c796",
   "metadata": {},
   "outputs": [],
   "source": []
  },
  {
   "cell_type": "code",
   "execution_count": null,
   "id": "e480853f",
   "metadata": {},
   "outputs": [],
   "source": []
  },
  {
   "cell_type": "code",
   "execution_count": null,
   "id": "fcb24742",
   "metadata": {},
   "outputs": [],
   "source": []
  },
  {
   "cell_type": "code",
   "execution_count": null,
   "id": "95bf8401",
   "metadata": {},
   "outputs": [],
   "source": []
  },
  {
   "cell_type": "code",
   "execution_count": null,
   "id": "690f63f0",
   "metadata": {},
   "outputs": [],
   "source": []
  }
 ],
 "metadata": {
  "kernelspec": {
   "display_name": "Python 3 (ipykernel)",
   "language": "python",
   "name": "python3"
  },
  "language_info": {
   "codemirror_mode": {
    "name": "ipython",
    "version": 3
   },
   "file_extension": ".py",
   "mimetype": "text/x-python",
   "name": "python",
   "nbconvert_exporter": "python",
   "pygments_lexer": "ipython3",
   "version": "3.9.7"
  },
  "varInspector": {
   "cols": {
    "lenName": 16,
    "lenType": 16,
    "lenVar": 40
   },
   "kernels_config": {
    "python": {
     "delete_cmd_postfix": "",
     "delete_cmd_prefix": "del ",
     "library": "var_list.py",
     "varRefreshCmd": "print(var_dic_list())"
    },
    "r": {
     "delete_cmd_postfix": ") ",
     "delete_cmd_prefix": "rm(",
     "library": "var_list.r",
     "varRefreshCmd": "cat(var_dic_list()) "
    }
   },
   "types_to_exclude": [
    "module",
    "function",
    "builtin_function_or_method",
    "instance",
    "_Feature"
   ],
   "window_display": false
  }
 },
 "nbformat": 4,
 "nbformat_minor": 5
}
