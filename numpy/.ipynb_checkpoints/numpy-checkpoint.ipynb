{
 "cells": [
  {
   "cell_type": "code",
   "execution_count": 2,
   "id": "3ff18eeb",
   "metadata": {},
   "outputs": [
    {
     "data": {
      "text/plain": [
       "array([1, 4, 5, 7])"
      ]
     },
     "execution_count": 2,
     "metadata": {},
     "output_type": "execute_result"
    }
   ],
   "source": [
    "import numpy as np\n",
    "\n",
    "L = [1,4,5,7]\n",
    "\n",
    "# array 변환\n",
    "\n",
    "li = np.array(L)\n",
    "li"
   ]
  },
  {
   "cell_type": "code",
   "execution_count": 3,
   "id": "9b430f73",
   "metadata": {},
   "outputs": [
    {
     "data": {
      "text/plain": [
       "5"
      ]
     },
     "execution_count": 3,
     "metadata": {},
     "output_type": "execute_result"
    }
   ],
   "source": [
    "# array indexing\n",
    "li[2]"
   ]
  },
  {
   "cell_type": "code",
   "execution_count": 4,
   "id": "92ef9d17",
   "metadata": {},
   "outputs": [
    {
     "data": {
      "text/plain": [
       "array([4, 5])"
      ]
     },
     "execution_count": 4,
     "metadata": {},
     "output_type": "execute_result"
    }
   ],
   "source": [
    "#  array slicing\n",
    "li[1:3]"
   ]
  },
  {
   "cell_type": "code",
   "execution_count": 5,
   "id": "33f71877",
   "metadata": {},
   "outputs": [
    {
     "data": {
      "text/plain": [
       "numpy.ndarray"
      ]
     },
     "execution_count": 5,
     "metadata": {},
     "output_type": "execute_result"
    }
   ],
   "source": [
    "# array 타입확인\n",
    "type(li)"
   ]
  },
  {
   "cell_type": "code",
   "execution_count": 6,
   "id": "a0b13988",
   "metadata": {},
   "outputs": [
    {
     "data": {
      "text/plain": [
       "(4,)"
      ]
     },
     "execution_count": 6,
     "metadata": {},
     "output_type": "execute_result"
    }
   ],
   "source": [
    "# array 모양확인\n",
    "li.shape"
   ]
  },
  {
   "cell_type": "code",
   "execution_count": 9,
   "id": "21752144",
   "metadata": {},
   "outputs": [
    {
     "data": {
      "text/plain": [
       "array([1.  , 2.  , 3.  , 4.  , 3.14])"
      ]
     },
     "execution_count": 9,
     "metadata": {},
     "output_type": "execute_result"
    }
   ],
   "source": [
    "L = [1,2,3,'python']\n",
    "L = [1,2,3,4, 3.14]\n",
    "\n",
    "# array list 차이점\n",
    "\n",
    "te = np.array(L)\n",
    "te\n"
   ]
  },
  {
   "cell_type": "code",
   "execution_count": 10,
   "id": "0e6721cf",
   "metadata": {},
   "outputs": [],
   "source": [
    "L = [[1,2,3,4,5], [4,5,6,7,8], [8,9,6,4,6]]\n",
    "\n",
    "# array 변환\n",
    "\n",
    "te = np.array(L)"
   ]
  },
  {
   "cell_type": "code",
   "execution_count": 11,
   "id": "7cd04066",
   "metadata": {},
   "outputs": [
    {
     "data": {
      "text/plain": [
       "(3, 5)"
      ]
     },
     "execution_count": 11,
     "metadata": {},
     "output_type": "execute_result"
    }
   ],
   "source": [
    "# array 모양 확인\n",
    "te.shape"
   ]
  },
  {
   "cell_type": "code",
   "execution_count": 12,
   "id": "226de486",
   "metadata": {},
   "outputs": [
    {
     "data": {
      "text/plain": [
       "2"
      ]
     },
     "execution_count": 12,
     "metadata": {},
     "output_type": "execute_result"
    }
   ],
   "source": [
    "# array 차원수 확인\n",
    "np.array(L).ndim"
   ]
  },
  {
   "cell_type": "code",
   "execution_count": 13,
   "id": "87c65f8e",
   "metadata": {},
   "outputs": [
    {
     "data": {
      "text/plain": [
       "array([[[1, 2, 3, 4, 5],\n",
       "        [4, 5, 6, 7, 8],\n",
       "        [8, 9, 6, 4, 7]],\n",
       "\n",
       "       [[1, 2, 3, 4, 5],\n",
       "        [4, 5, 6, 7, 8],\n",
       "        [8, 9, 6, 4, 7]]])"
      ]
     },
     "execution_count": 13,
     "metadata": {},
     "output_type": "execute_result"
    }
   ],
   "source": [
    "t = [[1,2,3,4,5], [4,5,6,7,8], [8,9,6,4,7]], [[1,2,3,4,5], [4,5,6,7,8], [8,9,6,4,7]]\n",
    "\n",
    "# array 변환\n",
    "\n",
    "te = np.array(t)\n",
    "te"
   ]
  },
  {
   "cell_type": "code",
   "execution_count": 14,
   "id": "984dd920",
   "metadata": {},
   "outputs": [
    {
     "data": {
      "text/plain": [
       "(2, 3, 5)"
      ]
     },
     "execution_count": 14,
     "metadata": {},
     "output_type": "execute_result"
    }
   ],
   "source": [
    "# array 모양 확인\n",
    "te.shape"
   ]
  },
  {
   "cell_type": "code",
   "execution_count": 16,
   "id": "88a1f1db",
   "metadata": {},
   "outputs": [
    {
     "data": {
      "text/plain": [
       "array([[1, 2, 3, 4, 5],\n",
       "       [4, 5, 6, 7, 9]])"
      ]
     },
     "execution_count": 16,
     "metadata": {},
     "output_type": "execute_result"
    }
   ],
   "source": [
    "L = [[1,2,3,4,5], [4,5,6,7,9]]\n",
    "\n",
    "# array 변환\n",
    "tb = np.array(L)\n",
    "tb"
   ]
  },
  {
   "cell_type": "code",
   "execution_count": 17,
   "id": "2c0c6e1d",
   "metadata": {},
   "outputs": [
    {
     "data": {
      "text/plain": [
       "(2, 5)"
      ]
     },
     "execution_count": 17,
     "metadata": {},
     "output_type": "execute_result"
    }
   ],
   "source": [
    "# array 모양 확인\n",
    "tb.shape"
   ]
  },
  {
   "cell_type": "code",
   "execution_count": 18,
   "id": "96a84000",
   "metadata": {},
   "outputs": [
    {
     "data": {
      "text/plain": [
       "array([[1, 2],\n",
       "       [3, 4],\n",
       "       [5, 4],\n",
       "       [5, 6],\n",
       "       [7, 9]])"
      ]
     },
     "execution_count": 18,
     "metadata": {},
     "output_type": "execute_result"
    }
   ],
   "source": [
    "# matrix로 모양바꾸기\n",
    "tb.reshape(5,2)\n"
   ]
  },
  {
   "cell_type": "code",
   "execution_count": 19,
   "id": "8efc70fe",
   "metadata": {},
   "outputs": [
    {
     "data": {
      "text/plain": [
       "array([1, 2, 3, 4, 5, 4, 5, 6, 7, 9])"
      ]
     },
     "execution_count": 19,
     "metadata": {},
     "output_type": "execute_result"
    }
   ],
   "source": [
    "# vector로 모양바꾸기\n",
    "tb.reshape(10)"
   ]
  },
  {
   "cell_type": "code",
   "execution_count": 20,
   "id": "3c56d77a",
   "metadata": {},
   "outputs": [
    {
     "data": {
      "text/plain": [
       "array([[[1],\n",
       "        [2],\n",
       "        [3],\n",
       "        [4],\n",
       "        [5]],\n",
       "\n",
       "       [[4],\n",
       "        [5],\n",
       "        [6],\n",
       "        [7],\n",
       "        [9]]])"
      ]
     },
     "execution_count": 20,
     "metadata": {},
     "output_type": "execute_result"
    }
   ],
   "source": [
    "# tensor로 모양바꾸기\n",
    "tb.reshape(2,5,1)"
   ]
  },
  {
   "cell_type": "code",
   "execution_count": 25,
   "id": "7a39915b",
   "metadata": {},
   "outputs": [],
   "source": [
    "L = [[1,2,3,4,5], [4,5,6,7,9]]\n",
    "\n",
    "#  array 실수형 형변환\n",
    "ts = np.array(L, float)\n"
   ]
  },
  {
   "cell_type": "code",
   "execution_count": 28,
   "id": "20b049d5",
   "metadata": {},
   "outputs": [
    {
     "data": {
      "text/plain": [
       "array([['1', '2', '3', '4', '5'],\n",
       "       ['4', '5', '6', '7', '9']], dtype='<U1')"
      ]
     },
     "execution_count": 28,
     "metadata": {},
     "output_type": "execute_result"
    }
   ],
   "source": [
    "#  array 문자형 형변환\n",
    "np.array(L, str)"
   ]
  },
  {
   "cell_type": "code",
   "execution_count": 33,
   "id": "c04623ac",
   "metadata": {},
   "outputs": [
    {
     "data": {
      "text/plain": [
       "7"
      ]
     },
     "execution_count": 33,
     "metadata": {},
     "output_type": "execute_result"
    }
   ],
   "source": [
    "#  array 인덱스\n",
    "ts = np.array(L)\n",
    "ts\n",
    "ts[1][3]"
   ]
  },
  {
   "cell_type": "code",
   "execution_count": 35,
   "id": "bf1fc42a",
   "metadata": {},
   "outputs": [
    {
     "data": {
      "text/plain": [
       "array([[ 1,  2, 10,  4,  5],\n",
       "       [ 4,  5,  6,  7,  9]])"
      ]
     },
     "execution_count": 35,
     "metadata": {},
     "output_type": "execute_result"
    }
   ],
   "source": [
    "#  array 요소 값 바꾸기\n",
    "ts\n",
    "ts[0][2]=10\n",
    "ts"
   ]
  },
  {
   "cell_type": "code",
   "execution_count": 37,
   "id": "cb3da00d",
   "metadata": {},
   "outputs": [
    {
     "data": {
      "text/plain": [
       "array([[1, 2, 3, 4, 5],\n",
       "       [4, 5, 6, 7, 9]])"
      ]
     },
     "execution_count": 37,
     "metadata": {},
     "output_type": "execute_result"
    }
   ],
   "source": [
    "#  array 정수형 변환\n",
    "ts = np.array(L, int)\n",
    "ts"
   ]
  },
  {
   "cell_type": "code",
   "execution_count": 40,
   "id": "1dcbfb7c",
   "metadata": {},
   "outputs": [
    {
     "data": {
      "text/plain": [
       "array([[4, 5],\n",
       "       [7, 9]])"
      ]
     },
     "execution_count": 40,
     "metadata": {},
     "output_type": "execute_result"
    }
   ],
   "source": [
    "#  array([[ 4,  5],\n",
    "#         [ 9, 10]])\n",
    "ts[:, 3:]"
   ]
  },
  {
   "cell_type": "code",
   "execution_count": 42,
   "id": "4be3180f",
   "metadata": {},
   "outputs": [
    {
     "data": {
      "text/plain": [
       "array([[2, 4],\n",
       "       [5, 7]])"
      ]
     },
     "execution_count": 42,
     "metadata": {},
     "output_type": "execute_result"
    }
   ],
   "source": [
    "# array([[2, 4],\n",
    "#        [7, 9]])\n",
    "ts[:, 1:4:2]"
   ]
  },
  {
   "cell_type": "code",
   "execution_count": 44,
   "id": "a35eb987",
   "metadata": {},
   "outputs": [
    {
     "data": {
      "text/plain": [
       "array([ 1,  2,  3,  4,  5,  6,  7,  8,  9, 10])"
      ]
     },
     "execution_count": 44,
     "metadata": {},
     "output_type": "execute_result"
    }
   ],
   "source": [
    "#  1-30까지 array 만들기\n",
    "ta = np.arange(1,11)\n",
    "ta"
   ]
  },
  {
   "cell_type": "code",
   "execution_count": 46,
   "id": "138babd7",
   "metadata": {},
   "outputs": [
    {
     "data": {
      "text/plain": [
       "array([[ 1,  2,  3,  4,  5],\n",
       "       [ 6,  7,  8,  9, 10]])"
      ]
     },
     "execution_count": 46,
     "metadata": {},
     "output_type": "execute_result"
    }
   ],
   "source": [
    "#  array 모양바꾸기\n",
    "ta.reshape(2,5)"
   ]
  },
  {
   "cell_type": "code",
   "execution_count": 59,
   "id": "4f64d889",
   "metadata": {},
   "outputs": [
    {
     "data": {
      "text/plain": [
       "array([[ 1,  2,  3,  4,  5,  6],\n",
       "       [ 7,  8,  9, 10, 11, 12],\n",
       "       [13, 14, 15, 16, 17, 18],\n",
       "       [19, 20, 21, 22, 23, 24],\n",
       "       [25, 26, 27, 28, 29, 30]])"
      ]
     },
     "execution_count": 59,
     "metadata": {},
     "output_type": "execute_result"
    }
   ],
   "source": [
    "#  array 덧셈(세로)\n",
    "\n",
    "ts = np.arange(1, 31)\n",
    "ts\n",
    "ts.reshape(5,6)"
   ]
  },
  {
   "cell_type": "code",
   "execution_count": 64,
   "id": "56937543",
   "metadata": {},
   "outputs": [
    {
     "data": {
      "text/plain": [
       "465"
      ]
     },
     "execution_count": 64,
     "metadata": {},
     "output_type": "execute_result"
    }
   ],
   "source": [
    "#  array 덧셈(가로)\n",
    "ts.sum(axis=0)\n",
    "\n",
    "\n",
    "# ts.sum(axis=1)"
   ]
  },
  {
   "cell_type": "code",
   "execution_count": 66,
   "id": "5366a875",
   "metadata": {},
   "outputs": [
    {
     "data": {
      "text/plain": [
       "30"
      ]
     },
     "execution_count": 66,
     "metadata": {},
     "output_type": "execute_result"
    }
   ],
   "source": [
    "#  array 최고값(가로)\n",
    "ts.max(axis=0)"
   ]
  },
  {
   "cell_type": "code",
   "execution_count": 68,
   "id": "6fa36231",
   "metadata": {},
   "outputs": [
    {
     "data": {
      "text/plain": [
       "1"
      ]
     },
     "execution_count": 68,
     "metadata": {},
     "output_type": "execute_result"
    }
   ],
   "source": [
    "#  array 최저값(가로)\n",
    "ts.min()"
   ]
  },
  {
   "cell_type": "code",
   "execution_count": 71,
   "id": "480223cc",
   "metadata": {},
   "outputs": [
    {
     "data": {
      "text/plain": [
       "8.65544144839919"
      ]
     },
     "execution_count": 71,
     "metadata": {},
     "output_type": "execute_result"
    }
   ],
   "source": [
    "#  #  array 표준편차(세로)\n",
    "ts.std()"
   ]
  },
  {
   "cell_type": "code",
   "execution_count": 70,
   "id": "d135c6a3",
   "metadata": {},
   "outputs": [
    {
     "data": {
      "text/plain": [
       "15.5"
      ]
     },
     "execution_count": 70,
     "metadata": {},
     "output_type": "execute_result"
    }
   ],
   "source": [
    "#  array 평균(가로)\n",
    "ts.mean()"
   ]
  },
  {
   "cell_type": "code",
   "execution_count": 72,
   "id": "cffc1dd4",
   "metadata": {},
   "outputs": [
    {
     "data": {
      "text/plain": [
       "array([[ 0,  2,  4],\n",
       "       [ 6,  8, 10]])"
      ]
     },
     "execution_count": 72,
     "metadata": {},
     "output_type": "execute_result"
    }
   ],
   "source": [
    "arr_a = np.arange(6).reshape(2,3)\n",
    "arr_b = np.arange(6).reshape(2,3)\n",
    "\n",
    "#  연산\n",
    "arr_a + arr_b"
   ]
  },
  {
   "cell_type": "code",
   "execution_count": 73,
   "id": "0cb6ca50",
   "metadata": {},
   "outputs": [
    {
     "data": {
      "text/plain": [
       "array([[0, 0, 0],\n",
       "       [0, 0, 0]])"
      ]
     },
     "execution_count": 73,
     "metadata": {},
     "output_type": "execute_result"
    }
   ],
   "source": [
    "# 덧셈, 마이너스, 곱하기, 같은값 확인\n",
    "arr_a - arr_b"
   ]
  },
  {
   "cell_type": "code",
   "execution_count": 74,
   "id": "fde920f1",
   "metadata": {},
   "outputs": [
    {
     "data": {
      "text/plain": [
       "array([[ 0,  1,  4],\n",
       "       [ 9, 16, 25]])"
      ]
     },
     "execution_count": 74,
     "metadata": {},
     "output_type": "execute_result"
    }
   ],
   "source": [
    "arr_a * arr_b"
   ]
  },
  {
   "cell_type": "code",
   "execution_count": 75,
   "id": "e9327078",
   "metadata": {},
   "outputs": [
    {
     "data": {
      "text/plain": [
       "array([[ True,  True,  True],\n",
       "       [ True,  True,  True]])"
      ]
     },
     "execution_count": 75,
     "metadata": {},
     "output_type": "execute_result"
    }
   ],
   "source": [
    "arr_a == arr_b"
   ]
  },
  {
   "cell_type": "code",
   "execution_count": 76,
   "id": "6583ac0c",
   "metadata": {},
   "outputs": [
    {
     "data": {
      "text/plain": [
       "array([[ 0, 10, 20],\n",
       "       [30, 40, 50]])"
      ]
     },
     "execution_count": 76,
     "metadata": {},
     "output_type": "execute_result"
    }
   ],
   "source": [
    "#  a 10 더하기\n",
    "arr_a * 10"
   ]
  },
  {
   "cell_type": "code",
   "execution_count": 77,
   "id": "d81ee341",
   "metadata": {},
   "outputs": [
    {
     "data": {
      "text/plain": [
       "array([[1, 3, 6],\n",
       "       [4, 6, 9]])"
      ]
     },
     "execution_count": 77,
     "metadata": {},
     "output_type": "execute_result"
    }
   ],
   "source": [
    "#  arr_v = np.array([1,2,4])\n",
    "# v a 더하기\n",
    "arr_v = np.array([1,2,4])\n",
    "arr_a + arr_v"
   ]
  },
  {
   "cell_type": "code",
   "execution_count": 79,
   "id": "9e49e7c4",
   "metadata": {},
   "outputs": [
    {
     "data": {
      "text/plain": [
       "array([6])"
      ]
     },
     "execution_count": 79,
     "metadata": {},
     "output_type": "execute_result"
    }
   ],
   "source": [
    "ta = np.array([1,2,3,4,3,5,6])\n",
    "\n",
    "#  5보다 큰값 나타내기\n",
    "ta > 5\n",
    "ta[ta>5]"
   ]
  },
  {
   "cell_type": "code",
   "execution_count": 80,
   "id": "a379569b",
   "metadata": {},
   "outputs": [
    {
     "data": {
      "text/plain": [
       "array([2, 4, 6])"
      ]
     },
     "execution_count": 80,
     "metadata": {},
     "output_type": "execute_result"
    }
   ],
   "source": [
    "#  짝수 나타내기\n",
    "ta[ta%2==0]"
   ]
  },
  {
   "cell_type": "code",
   "execution_count": 88,
   "id": "52aad1da",
   "metadata": {},
   "outputs": [
    {
     "data": {
      "text/plain": [
       "array([21, 24, 27])"
      ]
     },
     "execution_count": 88,
     "metadata": {},
     "output_type": "execute_result"
    }
   ],
   "source": [
    "# 1 ~ 100 사이의 정수에서 20 보다 크고 30 보다 작은 3의 배수를 출력하시오\n",
    "# => boolean indexing을 사용\n",
    "t = np.arange(101)\n",
    "t\n",
    "t[(t > 20) & (t < 30) & (t%3==0)]"
   ]
  },
  {
   "cell_type": "code",
   "execution_count": 89,
   "id": "e0639fab",
   "metadata": {},
   "outputs": [
    {
     "data": {
      "text/plain": [
       "array([1, 4, 5, 7])"
      ]
     },
     "execution_count": 89,
     "metadata": {},
     "output_type": "execute_result"
    }
   ],
   "source": [
    "L = [1,4,5,7]\n",
    "\n",
    "# array 변환\n",
    "ta = np.array(L)\n",
    "ta"
   ]
  },
  {
   "cell_type": "code",
   "execution_count": 90,
   "id": "657ed355",
   "metadata": {},
   "outputs": [
    {
     "data": {
      "text/plain": [
       "7"
      ]
     },
     "execution_count": 90,
     "metadata": {},
     "output_type": "execute_result"
    }
   ],
   "source": [
    "# array indexing\n",
    "ta[3]"
   ]
  },
  {
   "cell_type": "code",
   "execution_count": 91,
   "id": "2042a43a",
   "metadata": {},
   "outputs": [
    {
     "data": {
      "text/plain": [
       "array([4, 5])"
      ]
     },
     "execution_count": 91,
     "metadata": {},
     "output_type": "execute_result"
    }
   ],
   "source": [
    "#  array slicing\n",
    "ta[1:3]"
   ]
  },
  {
   "cell_type": "code",
   "execution_count": 92,
   "id": "3dc7e912",
   "metadata": {},
   "outputs": [
    {
     "data": {
      "text/plain": [
       "numpy.ndarray"
      ]
     },
     "execution_count": 92,
     "metadata": {},
     "output_type": "execute_result"
    }
   ],
   "source": [
    "# array 타입확인\n",
    "type(ta)"
   ]
  },
  {
   "cell_type": "code",
   "execution_count": 94,
   "id": "e3fb59f5",
   "metadata": {},
   "outputs": [
    {
     "data": {
      "text/plain": [
       "(4,)"
      ]
     },
     "execution_count": 94,
     "metadata": {},
     "output_type": "execute_result"
    }
   ],
   "source": [
    "# array 모양확인\n",
    "ta.shape"
   ]
  },
  {
   "cell_type": "code",
   "execution_count": 97,
   "id": "039c61af",
   "metadata": {},
   "outputs": [
    {
     "data": {
      "text/plain": [
       "array([1.  , 2.  , 3.  , 4.  , 3.14])"
      ]
     },
     "execution_count": 97,
     "metadata": {},
     "output_type": "execute_result"
    }
   ],
   "source": [
    "L = [1,2,3,'python']\n",
    "L1 = [1,2,3,4, 3.14]\n",
    "\n",
    "# array list 차이점\n",
    "tb = np.array(L)\n",
    "tb\n",
    "tb= np.array(L1)\n",
    "tb"
   ]
  },
  {
   "cell_type": "code",
   "execution_count": 98,
   "id": "6a4a6c48",
   "metadata": {},
   "outputs": [
    {
     "data": {
      "text/plain": [
       "array([[1, 2, 3, 4, 5],\n",
       "       [4, 5, 6, 7, 8],\n",
       "       [8, 9, 6, 4, 6]])"
      ]
     },
     "execution_count": 98,
     "metadata": {},
     "output_type": "execute_result"
    }
   ],
   "source": [
    "L = [[1,2,3,4,5], [4,5,6,7,8], [8,9,6,4,6]]\n",
    "\n",
    "# array 변환\n",
    "tc = np.array(L)\n",
    "tc"
   ]
  },
  {
   "cell_type": "code",
   "execution_count": 99,
   "id": "e7c2001c",
   "metadata": {},
   "outputs": [
    {
     "data": {
      "text/plain": [
       "(3, 5)"
      ]
     },
     "execution_count": 99,
     "metadata": {},
     "output_type": "execute_result"
    }
   ],
   "source": [
    "# array 모양 확인\n",
    "tc.shape"
   ]
  },
  {
   "cell_type": "code",
   "execution_count": 101,
   "id": "c14179b9",
   "metadata": {},
   "outputs": [
    {
     "data": {
      "text/plain": [
       "2"
      ]
     },
     "execution_count": 101,
     "metadata": {},
     "output_type": "execute_result"
    }
   ],
   "source": [
    "# array 차원수 확인\n",
    "tc.ndim"
   ]
  },
  {
   "cell_type": "code",
   "execution_count": 102,
   "id": "05af68af",
   "metadata": {},
   "outputs": [],
   "source": [
    "t = [[1,2,3,4,5], [4,5,6,7,8], [8,9,6,4,7]], [[1,2,3,4,5], [4,5,6,7,8], [8,9,6,4,7]]\n",
    "\n",
    "# array 변환\n",
    "td = np.array(t)"
   ]
  },
  {
   "cell_type": "code",
   "execution_count": 103,
   "id": "01c4ce03",
   "metadata": {},
   "outputs": [
    {
     "data": {
      "text/plain": [
       "(2, 3, 5)"
      ]
     },
     "execution_count": 103,
     "metadata": {},
     "output_type": "execute_result"
    }
   ],
   "source": [
    "# array 모양 확인\n",
    "td.shape"
   ]
  },
  {
   "cell_type": "code",
   "execution_count": 104,
   "id": "bd11f766",
   "metadata": {},
   "outputs": [],
   "source": [
    "L = [[1,2,3,4,5], [4,5,6,7,9]]\n",
    "\n",
    "# array 변환\n",
    "te = np.array(L)"
   ]
  },
  {
   "cell_type": "code",
   "execution_count": 105,
   "id": "8d445126",
   "metadata": {},
   "outputs": [
    {
     "data": {
      "text/plain": [
       "(2, 5)"
      ]
     },
     "execution_count": 105,
     "metadata": {},
     "output_type": "execute_result"
    }
   ],
   "source": [
    "# array 모양 확인\n",
    "te.shape"
   ]
  },
  {
   "cell_type": "code",
   "execution_count": 106,
   "id": "7e949c4c",
   "metadata": {},
   "outputs": [
    {
     "data": {
      "text/plain": [
       "array([[1, 2],\n",
       "       [3, 4],\n",
       "       [5, 4],\n",
       "       [5, 6],\n",
       "       [7, 9]])"
      ]
     },
     "execution_count": 106,
     "metadata": {},
     "output_type": "execute_result"
    }
   ],
   "source": [
    "# matrix로 모양바꾸기\n",
    "te.reshape(5,2)"
   ]
  },
  {
   "cell_type": "code",
   "execution_count": 107,
   "id": "09f89e64",
   "metadata": {},
   "outputs": [
    {
     "data": {
      "text/plain": [
       "array([1, 2, 3, 4, 5, 4, 5, 6, 7, 9])"
      ]
     },
     "execution_count": 107,
     "metadata": {},
     "output_type": "execute_result"
    }
   ],
   "source": [
    "# vector로 모양바꾸기\n",
    "te.reshape(10)"
   ]
  },
  {
   "cell_type": "code",
   "execution_count": 108,
   "id": "c1c820e9",
   "metadata": {},
   "outputs": [
    {
     "data": {
      "text/plain": [
       "array([[[1],\n",
       "        [2],\n",
       "        [3],\n",
       "        [4],\n",
       "        [5]],\n",
       "\n",
       "       [[4],\n",
       "        [5],\n",
       "        [6],\n",
       "        [7],\n",
       "        [9]]])"
      ]
     },
     "execution_count": 108,
     "metadata": {},
     "output_type": "execute_result"
    }
   ],
   "source": [
    "# tensor로 모양바꾸기\n",
    "te.reshape(2,5,1)"
   ]
  },
  {
   "cell_type": "code",
   "execution_count": 112,
   "id": "3b266a34",
   "metadata": {},
   "outputs": [],
   "source": [
    "L = [[1,2,3,4,5], [4,5,6,7,9]]\n",
    "\n",
    "#  array 실수형 형변환\n",
    "tf = np.array(L, float)"
   ]
  },
  {
   "cell_type": "code",
   "execution_count": 114,
   "id": "796a01e7",
   "metadata": {},
   "outputs": [
    {
     "data": {
      "text/plain": [
       "array([['1', '2', '3', '4', '5'],\n",
       "       ['4', '5', '6', '7', '9']], dtype='<U1')"
      ]
     },
     "execution_count": 114,
     "metadata": {},
     "output_type": "execute_result"
    }
   ],
   "source": [
    "#  array 문자형 형변환\n",
    "tf = np.array(L, str)\n",
    "tf"
   ]
  },
  {
   "cell_type": "code",
   "execution_count": 115,
   "id": "b0949b4e",
   "metadata": {},
   "outputs": [
    {
     "data": {
      "text/plain": [
       "'4'"
      ]
     },
     "execution_count": 115,
     "metadata": {},
     "output_type": "execute_result"
    }
   ],
   "source": [
    "#  array 인덱스\n",
    "tf[0,3]"
   ]
  },
  {
   "cell_type": "code",
   "execution_count": null,
   "id": "ad0c2732",
   "metadata": {},
   "outputs": [],
   "source": [
    "#  array 요소 값 바꾸기\n"
   ]
  },
  {
   "cell_type": "code",
   "execution_count": null,
   "id": "d622d9d7",
   "metadata": {},
   "outputs": [],
   "source": [
    "#  array 정수형 변환\n",
    "\n",
    "#  array([[ 4,  5],\n",
    "#         [ 9, 10]])\n",
    "\n",
    "# array([[2, 4],\n",
    "#        [7, 9]])\n",
    "\n",
    "\n",
    "#  1-30까지 array 만들기\n",
    "\n",
    "#  array 모양바꾸기\n",
    "\n",
    "#  array 덧셈(세로)\n",
    "\n",
    "#  array 덧셈(가로)\n",
    "\n",
    "#  array 최고값(가로)\n",
    "\n",
    "#  array 최저값(가로)\n",
    "\n",
    "#  #  array 표준편차(세로)\n",
    "\n",
    "#  array 평균(가로)\n",
    "\n",
    "arr_a = np.arange(6).reshape(2,3)\n",
    "arr_b = np.arange(6).reshape(2,3)\n",
    "\n",
    "#  연산\n",
    "\n",
    "# 덧셈, 마이너스, 곱하기, 같은값 확인\n",
    "\n",
    "#  a 10 더하기\n",
    "\n",
    "#  arr_v = np.array([1,2,4])\n",
    "# v a 더하기\n",
    "\n",
    "\n",
    "ta = np.array([1,2,3,4,3,5,6])\n",
    "\n",
    "#  5보다 큰값 나타내기\n",
    "\n",
    "#  짝수 나타내기\n",
    "\n",
    "# 1 ~ 100 사이의 정수에서 20 보다 크고 30 보다 작은 3의 배수를 출력하시오\n",
    "# => boolean indexing을 사용"
   ]
  },
  {
   "cell_type": "code",
   "execution_count": null,
   "id": "cea72d9b",
   "metadata": {},
   "outputs": [],
   "source": [
    "t = [[1,2,3,4,5], [4,5,6,7,8], [8,9,6,4,7]], [[1,2,3,4,5], [4,5,6,7,8], [8,9,6,4,7]]\n",
    "\n",
    "# array 변환\n",
    "\n",
    "# array 모양 확인\n",
    "\n",
    "\n",
    "L = [[1,2,3,4,5], [4,5,6,7,9]]\n",
    "\n",
    "# array 변환\n",
    "\n",
    "# array 모양 확인\n",
    "\n",
    "# matrix로 모양바꾸기\n",
    "\n",
    "# vector로 모양바꾸기\n",
    "\n",
    "# tensor로 모양바꾸기\n",
    "\n",
    "L = [[1,2,3,4,5], [4,5,6,7,9]]\n",
    "\n",
    "#  array 실수형 형변환\n",
    "\n",
    "#  array 문자형 형변환\n",
    "\n",
    "#  array 인덱스\n",
    "\n",
    "#  array 요소 값 바꾸기\n",
    "\n",
    "#  array 정수형 변환\n",
    "\n",
    "#  array([[ 4,  5],\n",
    "#         [ 9, 10]])\n",
    "\n",
    "# array([[2, 4],\n",
    "#        [7, 9]])\n",
    "\n",
    "\n",
    "#  1-30까지 array 만들기\n",
    "\n",
    "#  array 모양바꾸기\n",
    "\n",
    "#  array 덧셈(세로)\n",
    "\n",
    "#  array 덧셈(가로)\n",
    "\n",
    "#  array 최고값(가로)\n",
    "\n",
    "#  array 최저값(가로)\n",
    "\n",
    "#  #  array 표준편차(세로)\n",
    "\n",
    "#  array 평균(가로)\n",
    "\n",
    "arr_a = np.arange(6).reshape(2,3)\n",
    "arr_b = np.arange(6).reshape(2,3)\n",
    "\n",
    "#  연산\n",
    "\n",
    "# 덧셈, 마이너스, 곱하기, 같은값 확인\n",
    "\n",
    "#  a 10 더하기\n",
    "\n",
    "#  arr_v = np.array([1,2,4])\n",
    "# v a 더하기\n",
    "\n",
    "\n",
    "ta = np.array([1,2,3,4,3,5,6])\n",
    "\n",
    "#  5보다 큰값 나타내기\n",
    "\n",
    "#  짝수 나타내기\n",
    "\n",
    "# 1 ~ 100 사이의 정수에서 20 보다 크고 30 보다 작은 3의 배수를 출력하시오\n",
    "# => boolean indexing을 사용"
   ]
  }
 ],
 "metadata": {
  "kernelspec": {
   "display_name": "Python 3 (ipykernel)",
   "language": "python",
   "name": "python3"
  },
  "language_info": {
   "codemirror_mode": {
    "name": "ipython",
    "version": 3
   },
   "file_extension": ".py",
   "mimetype": "text/x-python",
   "name": "python",
   "nbconvert_exporter": "python",
   "pygments_lexer": "ipython3",
   "version": "3.9.7"
  },
  "varInspector": {
   "cols": {
    "lenName": 16,
    "lenType": 16,
    "lenVar": 40
   },
   "kernels_config": {
    "python": {
     "delete_cmd_postfix": "",
     "delete_cmd_prefix": "del ",
     "library": "var_list.py",
     "varRefreshCmd": "print(var_dic_list())"
    },
    "r": {
     "delete_cmd_postfix": ") ",
     "delete_cmd_prefix": "rm(",
     "library": "var_list.r",
     "varRefreshCmd": "cat(var_dic_list()) "
    }
   },
   "position": {
    "height": "561.858px",
    "left": "1763.33px",
    "right": "20px",
    "top": "120px",
    "width": "350px"
   },
   "types_to_exclude": [
    "module",
    "function",
    "builtin_function_or_method",
    "instance",
    "_Feature"
   ],
   "window_display": true
  }
 },
 "nbformat": 4,
 "nbformat_minor": 5
}
