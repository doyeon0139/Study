{
 "cells": [
  {
   "cell_type": "code",
   "execution_count": 3,
   "id": "3dddaf37",
   "metadata": {},
   "outputs": [],
   "source": [
    "import pandas as pd\n",
    "import numpy as np\n",
    "import os"
   ]
  },
  {
   "cell_type": "code",
   "execution_count": null,
   "id": "272f0a03",
   "metadata": {},
   "outputs": [],
   "source": []
  },
  {
   "cell_type": "code",
   "execution_count": 8,
   "id": "de9e1b81",
   "metadata": {},
   "outputs": [
    {
     "ename": "KeyError",
     "evalue": "'names2011'",
     "output_type": "error",
     "traceback": [
      "\u001b[1;31m---------------------------------------------------------------------------\u001b[0m",
      "\u001b[1;31mKeyError\u001b[0m                                  Traceback (most recent call last)",
      "\u001b[1;32m~\\AppData\\Local\\Temp/ipykernel_6488/3462437483.py\u001b[0m in \u001b[0;36m<module>\u001b[1;34m\u001b[0m\n\u001b[0;32m     11\u001b[0m     \u001b[1;31m# 2011년일 경우 사기만 한다.\u001b[0m\u001b[1;33m\u001b[0m\u001b[1;33m\u001b[0m\u001b[0m\n\u001b[0;32m     12\u001b[0m     \u001b[1;32mif\u001b[0m \u001b[0mi\u001b[0m \u001b[1;33m==\u001b[0m \u001b[1;36m2011\u001b[0m\u001b[1;33m:\u001b[0m\u001b[1;33m\u001b[0m\u001b[1;33m\u001b[0m\u001b[0m\n\u001b[1;32m---> 13\u001b[1;33m         \u001b[1;32mfor\u001b[0m \u001b[0mname\u001b[0m \u001b[1;32min\u001b[0m \u001b[0mglobals\u001b[0m\u001b[1;33m(\u001b[0m\u001b[1;33m)\u001b[0m\u001b[1;33m[\u001b[0m\u001b[1;34mf'names{i}'\u001b[0m\u001b[1;33m]\u001b[0m\u001b[1;33m:\u001b[0m\u001b[1;33m\u001b[0m\u001b[1;33m\u001b[0m\u001b[0m\n\u001b[0m\u001b[0;32m     14\u001b[0m             \u001b[0mdf\u001b[0m \u001b[1;33m=\u001b[0m \u001b[0mglobals\u001b[0m\u001b[1;33m(\u001b[0m\u001b[1;33m)\u001b[0m\u001b[1;33m[\u001b[0m\u001b[1;34mf'df{i}'\u001b[0m\u001b[1;33m]\u001b[0m\u001b[1;33m\u001b[0m\u001b[1;33m\u001b[0m\u001b[0m\n\u001b[0;32m     15\u001b[0m             \u001b[0mclosing\u001b[0m \u001b[1;33m=\u001b[0m \u001b[0mint\u001b[0m\u001b[1;33m(\u001b[0m\u001b[0mdf\u001b[0m\u001b[1;33m[\u001b[0m\u001b[0mdf\u001b[0m\u001b[1;33m.\u001b[0m\u001b[0m종목명\u001b[0m \u001b[1;33m==\u001b[0m \u001b[1;34mf'{name}'\u001b[0m\u001b[1;33m]\u001b[0m\u001b[1;33m[\u001b[0m\u001b[1;34m'종가'\u001b[0m\u001b[1;33m]\u001b[0m\u001b[1;33m)\u001b[0m\u001b[1;33m\u001b[0m\u001b[1;33m\u001b[0m\u001b[0m\n",
      "\u001b[1;31mKeyError\u001b[0m: 'names2011'"
     ]
    }
   ],
   "source": [
    "investment = 100000000\n",
    "buy_money = {}\n",
    "\n",
    "for i in range(2011, 2022):\n",
    "    globals()[f'df{i}'] =  pd.read_csv(f'krx_4/{i}.csv', encoding='euckr')    \n",
    "    globals()[f'buy_num{i}'] = {}\n",
    "    buy = 0\n",
    "    profit = 0\n",
    "    \n",
    "    \n",
    "    # 2011년일 경우 사기만 한다.\n",
    "    if i == 2011:\n",
    "        for name in globals()[f'names{i}']:\n",
    "            df = globals()[f'df{i}']\n",
    "            closing = int(df[df.종목명 == f'{name}']['종가'])\n",
    "            investment_each = investment // len(globals()[f'names{i}']) \n",
    "            rest_each = int(investment_each % closing)\n",
    "\n",
    "            buy_money[f'{name}'] = int((investment_each // closing) * closing)\n",
    "            globals()[f'buy_num{i}'][f'{name}'] = int(investment_each // int(closing))\n",
    "            print(name, f'지금가격 {closing}원 ', buy_num2011[f'{name}'] , '개 구매')# '투자금', buy_money[f'{name}'], '원')\n",
    "            profit = 0\n",
    "\n",
    "    else:\n",
    "        # 전년도에 샀던 주식들을 오늘의 가격으로 판매\n",
    "        \n",
    "        for nameb in globals()[f'names{i-1}']:\n",
    "            df = globals()[f'df{i}']\n",
    "            dfb = globals()[f'df{i-1}']\n",
    "            closingn = int(df[df.종목명 == f'{nameb}']['종가'])\n",
    "            closingb = int(dfb[dfb.종목명 == f'{nameb}']['종가'])\n",
    "            profit_each = (int(globals()[f'buy_num{i-1}'][f'{nameb}'])) * (closingn - closingb)\n",
    "            profit += profit_each\n",
    "            print(nameb, f'지금가격 {closingn}원 작년가격 {closingb}원', globals()[f'buy_num{i-1}'][f'{nameb}'], '개 판매', f' 1년 수익: {profit_each}원')\n",
    "        before_profit = investment\n",
    "        investment += profit\n",
    "        print('-'*20)    \n",
    "        \n",
    "        # 판매후 변화한 금액을 기준으로 새로운 종목들을 구매\n",
    "        \n",
    "        for name in globals()[f'names{i}']:\n",
    "\n",
    "            df = globals()[f'df{i}']\n",
    "            dfb = globals()[f'df{i-1}']\n",
    "            closing = int(df[df.종목명 == f'{name}']['종가'])\n",
    "            investment_each = investment // len(globals()[f'names{i}']) \n",
    "\n",
    "            globals()[f'buy_num{i}'][f'{name}'] = int(investment_each // closing)\n",
    "            print(name, closing,'원', globals()[f'buy_num{i}'][f'{name}'], '개 구매')# '투자금', globals()[f'buy_num{i}'][f'{name}'] * int(closing), '원')\n",
    "            buy +=  globals()[f'buy_num{i}'][f'{name}'] * closing\n",
    "\n",
    "    if investment <= 0:\n",
    "        break\n",
    "\n",
    "    if i == 2011:\n",
    "        profit_rate = 0\n",
    "    else:\n",
    "        profit_rate = (investment - before_profit) / before_profit * 100\n",
    "\n",
    "    \n",
    "    print(f'{i}년 총 자산 : {investment}원, 수익 : {profit}원, 수익률 : {round(profit_rate, 1)}%')\n",
    "    print('='*80)\n"
   ]
  },
  {
   "cell_type": "code",
   "execution_count": 1,
   "id": "20522464",
   "metadata": {
    "collapsed": true
   },
   "outputs": [
    {
     "ename": "IndentationError",
     "evalue": "unexpected indent (Temp/ipykernel_6488/1047680090.py, line 30)",
     "output_type": "error",
     "traceback": [
      "\u001b[1;36m  File \u001b[1;32m\"C:\\Users\\bitcamp\\AppData\\Local\\Temp/ipykernel_6488/1047680090.py\"\u001b[1;36m, line \u001b[1;32m30\u001b[0m\n\u001b[1;33m    print(i)\u001b[0m\n\u001b[1;37m    ^\u001b[0m\n\u001b[1;31mIndentationError\u001b[0m\u001b[1;31m:\u001b[0m unexpected indent\n"
     ]
    }
   ],
   "source": [
    "stocks_now = pd.read_csv('stocks.csv', encoding='euckr')\n",
    "stock_codes = stocks_now['단축코드']\n",
    "indexes = [319, 569, 816, 1063, 1307, 1555, 1803, 2045, 2287, 2536, 2782]\n",
    "\n",
    "columns = ['종목코드', '수정주가', '날짜']\n",
    "stock_data = pd.DataFrame([], columns = columns, \n",
    "                           index=range(len(stock_codes))    \n",
    ")\n",
    "\n",
    "for ind in indexes:\n",
    "\n",
    "    stock_data = pd.DataFrame([], columns = columns, index=range(len(stock_codes)))\n",
    "\n",
    "    for i, code in enumerate(stock_codes):\n",
    "        url =  f\"https://fchart.stock.naver.com/sise.nhn?symbol={code}&timeframe=day&count=3000&requestType=0\"\n",
    "        res = requests.get(url)\n",
    "        soup = BeautifulSoup(res.text, 'html.parser')\n",
    "        stocks = soup.select('item')\n",
    "        \n",
    "        try:\n",
    "            stock_date = stocks[ind - 3000]['data'].split('|')[0]\n",
    "            stock_end = stocks[ind - 3000]['data'].split('|')[-2]\n",
    "        except:\n",
    "            stock_date = np.nan\n",
    "            stock_end = np.nan\n",
    "        stock_code = code\n",
    "        stock_data.iloc[i] = [stock_code, stock_end, stock_date]\n",
    "    \n",
    "    stock_data.to_csv(f'{ind}.csv')\n",
    "        print(i)"
   ]
  },
  {
   "cell_type": "code",
   "execution_count": null,
   "id": "dcdef8c0",
   "metadata": {},
   "outputs": [],
   "source": []
  },
  {
   "cell_type": "code",
   "execution_count": null,
   "id": "dbcec3b0",
   "metadata": {},
   "outputs": [],
   "source": []
  },
  {
   "cell_type": "code",
   "execution_count": null,
   "id": "bc4847c8",
   "metadata": {},
   "outputs": [],
   "source": []
  }
 ],
 "metadata": {
  "kernelspec": {
   "display_name": "Python 3 (ipykernel)",
   "language": "python",
   "name": "python3"
  },
  "language_info": {
   "codemirror_mode": {
    "name": "ipython",
    "version": 3
   },
   "file_extension": ".py",
   "mimetype": "text/x-python",
   "name": "python",
   "nbconvert_exporter": "python",
   "pygments_lexer": "ipython3",
   "version": "3.9.7"
  },
  "varInspector": {
   "cols": {
    "lenName": 16,
    "lenType": 16,
    "lenVar": 40
   },
   "kernels_config": {
    "python": {
     "delete_cmd_postfix": "",
     "delete_cmd_prefix": "del ",
     "library": "var_list.py",
     "varRefreshCmd": "print(var_dic_list())"
    },
    "r": {
     "delete_cmd_postfix": ") ",
     "delete_cmd_prefix": "rm(",
     "library": "var_list.r",
     "varRefreshCmd": "cat(var_dic_list()) "
    }
   },
   "types_to_exclude": [
    "module",
    "function",
    "builtin_function_or_method",
    "instance",
    "_Feature"
   ],
   "window_display": false
  }
 },
 "nbformat": 4,
 "nbformat_minor": 5
}
