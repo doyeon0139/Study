{
 "cells": [
  {
   "cell_type": "code",
   "execution_count": 1,
   "id": "c64f760d",
   "metadata": {
    "ExecuteTime": {
     "end_time": "2022-03-22T05:25:46.209282Z",
     "start_time": "2022-03-22T05:25:44.876495Z"
    }
   },
   "outputs": [],
   "source": [
    "import pandas as pd\n",
    "import numpy as np\n",
    "import matplotlib.pyplot as plt\n",
    "import seaborn as sns"
   ]
  },
  {
   "cell_type": "code",
   "execution_count": 3,
   "id": "69de75ad",
   "metadata": {
    "ExecuteTime": {
     "end_time": "2022-03-22T05:25:48.541910Z",
     "start_time": "2022-03-22T05:25:48.437110Z"
    }
   },
   "outputs": [],
   "source": [
    "from pathlib import Path\n",
    "from sklearn.model_selection import StratifiedShuffleSplit\n",
    "import shutil"
   ]
  },
  {
   "cell_type": "code",
   "execution_count": 11,
   "id": "130bc691",
   "metadata": {
    "ExecuteTime": {
     "end_time": "2022-03-22T02:35:54.895100Z",
     "start_time": "2022-03-22T02:35:54.886125Z"
    }
   },
   "outputs": [],
   "source": [
    "train_path = Path('./data/dog/train') # train test로 구분한 파일 저장 경로\n",
    "test_path = Path('./data/dog/test')\n",
    "\n",
    "train_path.mkdir(exist_ok=True)\n",
    "test_path.mkdir(exist_ok=True)"
   ]
  },
  {
   "cell_type": "code",
   "execution_count": 13,
   "id": "e0f85fc4",
   "metadata": {
    "ExecuteTime": {
     "end_time": "2022-03-22T02:49:47.347568Z",
     "start_time": "2022-03-22T02:49:47.229974Z"
    }
   },
   "outputs": [
    {
     "data": {
      "text/plain": [
       "array([[WindowsPath('D:/MLDL/dog/images/Images/n02085620-Chihuahua/n02085620_10074.jpg'),\n",
       "        'n02085620-Chihuahua'],\n",
       "       [WindowsPath('D:/MLDL/dog/images/Images/n02085620-Chihuahua/n02085620_10131.jpg'),\n",
       "        'n02085620-Chihuahua'],\n",
       "       [WindowsPath('D:/MLDL/dog/images/Images/n02085620-Chihuahua/n02085620_10621.jpg'),\n",
       "        'n02085620-Chihuahua'],\n",
       "       ...,\n",
       "       [WindowsPath('D:/MLDL/dog/images/Images/n02116738-African_hunting_dog/n02116738_9829.jpg'),\n",
       "        'n02116738-African_hunting_dog'],\n",
       "       [WindowsPath('D:/MLDL/dog/images/Images/n02116738-African_hunting_dog/n02116738_9844.jpg'),\n",
       "        'n02116738-African_hunting_dog'],\n",
       "       [WindowsPath('D:/MLDL/dog/images/Images/n02116738-African_hunting_dog/n02116738_9924.jpg'),\n",
       "        'n02116738-African_hunting_dog']], dtype=object)"
      ]
     },
     "execution_count": 13,
     "metadata": {},
     "output_type": "execute_result"
    }
   ],
   "source": [
    "data_path = Path('D:/MLDL/dog/images/Images/') # 원본 파일들 저장 경로\n",
    "data = []\n",
    "for d in data_path.glob('*'):\n",
    "    for f in d.glob('*.jpg'):\n",
    "        data.append([f, d.stem])\n",
    "data = np.array(data)\n",
    "data"
   ]
  },
  {
   "cell_type": "code",
   "execution_count": 14,
   "id": "8b7c0444",
   "metadata": {
    "ExecuteTime": {
     "end_time": "2022-03-22T02:53:46.831835Z",
     "start_time": "2022-03-22T02:53:46.807614Z"
    }
   },
   "outputs": [
    {
     "data": {
      "text/plain": [
       "array([ 3745,  9913,  3699, ..., 20169, 10991, 16095], dtype=int64)"
      ]
     },
     "execution_count": 14,
     "metadata": {},
     "output_type": "execute_result"
    }
   ],
   "source": [
    "ss = StratifiedShuffleSplit(1, train_size = 0.8) # 얘가 핵심, Stratify 유지하면서 쪼개주는 역할\n",
    "train_ix, test_ix = next(ss.split(data[:,0],data[:,1])) # next가 뭐하는 놈인지 기억안난다 암튼 나눠준거다\n",
    "train_ix"
   ]
  },
  {
   "cell_type": "code",
   "execution_count": 16,
   "id": "43c1d109",
   "metadata": {
    "ExecuteTime": {
     "end_time": "2022-03-22T03:05:34.144024Z",
     "start_time": "2022-03-22T03:05:34.124078Z"
    }
   },
   "outputs": [
    {
     "data": {
      "text/plain": [
       "array([[WindowsPath('D:/MLDL/dog/images/Images/n02091032-Italian_greyhound/n02091032_551.jpg'),\n",
       "        'n02091032-Italian_greyhound'],\n",
       "       [WindowsPath('D:/MLDL/dog/images/Images/n02099429-curly-coated_retriever/n02099429_2186.jpg'),\n",
       "        'n02099429-curly-coated_retriever'],\n",
       "       [WindowsPath('D:/MLDL/dog/images/Images/n02091032-Italian_greyhound/n02091032_20.jpg'),\n",
       "        'n02091032-Italian_greyhound'],\n",
       "       ...,\n",
       "       [WindowsPath('D:/MLDL/dog/images/Images/n02115641-dingo/n02115641_3862.jpg'),\n",
       "        'n02115641-dingo'],\n",
       "       [WindowsPath('D:/MLDL/dog/images/Images/n02100877-Irish_setter/n02100877_2199.jpg'),\n",
       "        'n02100877-Irish_setter'],\n",
       "       [WindowsPath('D:/MLDL/dog/images/Images/n02108915-French_bulldog/n02108915_3369.jpg'),\n",
       "        'n02108915-French_bulldog']], dtype=object)"
      ]
     },
     "execution_count": 16,
     "metadata": {},
     "output_type": "execute_result"
    }
   ],
   "source": [
    "train_set, test_set = data[train_ix], data[test_ix]\n",
    "train_set"
   ]
  },
  {
   "cell_type": "code",
   "execution_count": 18,
   "id": "c6766142",
   "metadata": {
    "ExecuteTime": {
     "end_time": "2022-03-22T03:13:06.209052Z",
     "start_time": "2022-03-22T03:07:20.277722Z"
    }
   },
   "outputs": [],
   "source": [
    "for p, c in train_set:\n",
    "    (train_path / c).mkdir(exist_ok=True)\n",
    "    shutil.move(p, train_path.joinpath(*p.parts[-2:]))\n",
    "for p, c in test_set:\n",
    "    (test_path / c).mkdir(exist_ok=True)\n",
    "    shutil.move(p, test_path.joinpath(*p.parts[-2:]))"
   ]
  },
  {
   "cell_type": "code",
   "execution_count": null,
   "id": "40ae579a",
   "metadata": {},
   "outputs": [],
   "source": []
  },
  {
   "cell_type": "code",
   "execution_count": 10,
   "id": "077d2fa2",
   "metadata": {
    "ExecuteTime": {
     "end_time": "2022-03-22T05:29:01.661029Z",
     "start_time": "2022-03-22T05:29:01.644777Z"
    }
   },
   "outputs": [],
   "source": [
    "import tensorflow as tf\n",
    "from tensorflow.keras.models import Sequential\n",
    "from tensorflow.keras.layers import *\n",
    "from tensorflow.keras.optimizers import *\n",
    "from tensorflow.keras.preprocessing import image_dataset_from_directory"
   ]
  },
  {
   "cell_type": "code",
   "execution_count": 6,
   "id": "d704c85b",
   "metadata": {
    "ExecuteTime": {
     "end_time": "2022-03-22T05:27:45.212655Z",
     "start_time": "2022-03-22T05:27:43.859718Z"
    }
   },
   "outputs": [
    {
     "name": "stdout",
     "output_type": "stream",
     "text": [
      "Found 16464 files belonging to 120 classes.\n"
     ]
    }
   ],
   "source": [
    "train_data = image_dataset_from_directory('./data/dog/train')"
   ]
  },
  {
   "cell_type": "code",
   "execution_count": 9,
   "id": "30a4b476",
   "metadata": {
    "ExecuteTime": {
     "end_time": "2022-03-22T05:28:23.067301Z",
     "start_time": "2022-03-22T05:28:22.469263Z"
    }
   },
   "outputs": [
    {
     "ename": "TypeError",
     "evalue": "sample_from_datasets() missing 1 required positional argument: 'datasets'",
     "output_type": "error",
     "traceback": [
      "\u001b[1;31m---------------------------------------------------------------------------\u001b[0m",
      "\u001b[1;31mTypeError\u001b[0m                                 Traceback (most recent call last)",
      "\u001b[1;32m~\\AppData\\Local\\Temp/ipykernel_4852/1578535417.py\u001b[0m in \u001b[0;36m<module>\u001b[1;34m\u001b[0m\n\u001b[1;32m----> 1\u001b[1;33m \u001b[0mtrain_data\u001b[0m\u001b[1;33m.\u001b[0m\u001b[0msample_from_datasets\u001b[0m\u001b[1;33m(\u001b[0m\u001b[1;33m)\u001b[0m\u001b[1;33m\u001b[0m\u001b[1;33m\u001b[0m\u001b[0m\n\u001b[0m",
      "\u001b[1;31mTypeError\u001b[0m: sample_from_datasets() missing 1 required positional argument: 'datasets'"
     ]
    }
   ],
   "source": [
    "model = Sequential()\n",
    "model.add(Conv2D())"
   ]
  },
  {
   "cell_type": "code",
   "execution_count": null,
   "id": "db127c59",
   "metadata": {},
   "outputs": [],
   "source": []
  }
 ],
 "metadata": {
  "kernelspec": {
   "display_name": "Python 3 (ipykernel)",
   "language": "python",
   "name": "python3"
  },
  "language_info": {
   "codemirror_mode": {
    "name": "ipython",
    "version": 3
   },
   "file_extension": ".py",
   "mimetype": "text/x-python",
   "name": "python",
   "nbconvert_exporter": "python",
   "pygments_lexer": "ipython3",
   "version": "3.9.7"
  },
  "toc": {
   "base_numbering": 1,
   "nav_menu": {},
   "number_sections": true,
   "sideBar": true,
   "skip_h1_title": false,
   "title_cell": "Table of Contents",
   "title_sidebar": "Contents",
   "toc_cell": false,
   "toc_position": {},
   "toc_section_display": true,
   "toc_window_display": false
  },
  "varInspector": {
   "cols": {
    "lenName": 16,
    "lenType": 16,
    "lenVar": 40
   },
   "kernels_config": {
    "python": {
     "delete_cmd_postfix": "",
     "delete_cmd_prefix": "del ",
     "library": "var_list.py",
     "varRefreshCmd": "print(var_dic_list())"
    },
    "r": {
     "delete_cmd_postfix": ") ",
     "delete_cmd_prefix": "rm(",
     "library": "var_list.r",
     "varRefreshCmd": "cat(var_dic_list()) "
    }
   },
   "types_to_exclude": [
    "module",
    "function",
    "builtin_function_or_method",
    "instance",
    "_Feature"
   ],
   "window_display": true
  }
 },
 "nbformat": 4,
 "nbformat_minor": 5
}
