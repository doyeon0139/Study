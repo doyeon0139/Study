{
 "cells": [
  {
   "cell_type": "code",
   "execution_count": 1,
   "metadata": {
    "ExecuteTime": {
     "end_time": "2022-03-28T00:48:59.944907Z",
     "start_time": "2022-03-28T00:48:59.030224Z"
    }
   },
   "outputs": [],
   "source": [
    "# 구글 부터 해봅세다\n",
    "import pandas as pd\n",
    "import numpy as np\n",
    "import requests\n",
    "\n",
    "from selenium import webdriver\n",
    "from selenium.webdriver.common.keys import Keys\n",
    "\n",
    "import urllib\n",
    "import os, shutil, base64,re\n",
    "import time"
   ]
  },
  {
   "cell_type": "code",
   "execution_count": 2,
   "metadata": {
    "ExecuteTime": {
     "end_time": "2022-03-28T00:49:00.100820Z",
     "start_time": "2022-03-28T00:49:00.083889Z"
    },
    "scrolled": true
   },
   "outputs": [
    {
     "data": {
      "text/plain": [
       "['1932 새싹땅콩햅쌀흑미',\n",
       " 'G12 골디락스',\n",
       " '감악산 산머루주',\n",
       " '경기전',\n",
       " '계룡산 산삼주 금수강산 21',\n",
       " '계룡산 산삼주 금수강산 40',\n",
       " '과하주23',\n",
       " '김포별주',\n",
       " '김포특주',\n",
       " '꿀샘 16',\n",
       " '능이주',\n",
       " '다래와인 3004',\n",
       " '달홀진주25',\n",
       " '달홀진주40',\n",
       " '대윤 가야곡 왕주',\n",
       " '독산 53',\n",
       " '동강더덕주',\n",
       " '두레앙목통숙성주',\n",
       " '두륜탁주',\n",
       " '막시모 40',\n",
       " '모월 로',\n",
       " '모월 청',\n",
       " '모월로미니',\n",
       " '무주구천동산머루주',\n",
       " '문배술 헤리티지 25도',\n",
       " '문배술 헤리티지 40도',\n",
       " '미담',\n",
       " '미인탁주',\n",
       " '밤꽃향기',\n",
       " '사미인주',\n",
       " '산막생대덕주',\n",
       " '삼양춘 생약주',\n",
       " '샤토미소 랑',\n",
       " '샹스프랑보아즈',\n",
       " '석로주',\n",
       " '세종 알밤주',\n",
       " '소여강 25',\n",
       " '소호',\n",
       " '술샘19',\n",
       " '술아 국화주',\n",
       " '술아 매화주',\n",
       " '술아 순곡주',\n",
       " '술아 연화주',\n",
       " '시인의마을',\n",
       " '신선주',\n",
       " '아띠',\n",
       " '아우내',\n",
       " '안동소주 일품 21도',\n",
       " '얼떨결에',\n",
       " '여민락주',\n",
       " '역전주',\n",
       " '연천 아주',\n",
       " '영탁막걸리',\n",
       " '예천주 사월24',\n",
       " '예천주 사월365',\n",
       " '예천주복 만월24',\n",
       " '오드린 베베마루 아내를 위한',\n",
       " '오목대',\n",
       " '우곡생주',\n",
       " '우곡주',\n",
       " '유기농이도 14',\n",
       " '이담',\n",
       " '이도 22',\n",
       " '제주몬순커피주',\n",
       " '죽향41',\n",
       " '지란지교',\n",
       " '지리산 정담 생쌀 막걸리',\n",
       " '참동이 허브잎술',\n",
       " '청주신선주탁주',\n",
       " '추성주',\n",
       " '포항불로주',\n",
       " '풍정사계 동(冬)',\n",
       " '풍정사계 춘(春)',\n",
       " '해남진양주',\n",
       " '해방주',\n",
       " '해창 막걸리 9도',\n",
       " '혼디주',\n",
       " '희양산 막걸리 15도',\n",
       " '희양산 막걸리 9도']"
      ]
     },
     "execution_count": 2,
     "metadata": {},
     "output_type": "execute_result"
    }
   ],
   "source": [
    "origin_path = './recrawl/'\n",
    "dirlist = os.listdir(origin_path)\n",
    "dirlist"
   ]
  },
  {
   "cell_type": "code",
   "execution_count": 3,
   "metadata": {
    "ExecuteTime": {
     "end_time": "2022-03-28T00:49:02.999048Z",
     "start_time": "2022-03-28T00:49:01.940839Z"
    }
   },
   "outputs": [],
   "source": [
    "driver = webdriver.Chrome()"
   ]
  },
  {
   "cell_type": "code",
   "execution_count": 4,
   "metadata": {
    "ExecuteTime": {
     "end_time": "2022-03-28T01:37:41.587441Z",
     "start_time": "2022-03-28T00:49:06.253996Z"
    }
   },
   "outputs": [
    {
     "name": "stderr",
     "output_type": "stream",
     "text": [
      "C:\\Users\\bitcamp\\AppData\\Local\\Temp/ipykernel_1068/1474762267.py:10: DeprecationWarning: find_elements_by_* commands are deprecated. Please use find_elements() instead\n",
      "  images = driver.find_elements_by_css_selector('#islrg > div.islrc > div> a.wXeWr.islib.nfEiy')\n",
      "C:\\Users\\bitcamp\\AppData\\Local\\Temp/ipykernel_1068/1474762267.py:17: DeprecationWarning: find_element_by_* commands are deprecated. Please use find_element() instead\n",
      "  ImgUrl = driver.find_element_by_xpath('//*[@id=\"Sva75c\"]/div/div/div[3]/div[2]/c-wiz/div/div[1]/div[1]/div[2]/div/a/img').get_attribute('src')\n"
     ]
    }
   ],
   "source": [
    "for key in dirlist[57:]:\n",
    "    keyword = key+' 전통주'\n",
    "    driver.get(f'https://www.google.com/search?q={keyword}&source=lnms&tbm=isch')\n",
    "    time.sleep(2)\n",
    "    SCROLL_PAUSE_TIME = 1\n",
    "    for _ in range(2):\n",
    "        last_height = driver.execute_script(\"return document.body.scrollHeight\")\n",
    "        driver.execute_script('window.scrollTo(0, document.body.scrollHeight);')\n",
    "        time.sleep(SCROLL_PAUSE_TIME)\n",
    "    images = driver.find_elements_by_css_selector('#islrg > div.islrc > div> a.wXeWr.islib.nfEiy')\n",
    "    maxcnt = min(len(images),80)\n",
    "    for ind,img in enumerate(images):\n",
    "        if ind>maxcnt:\n",
    "            break\n",
    "        img.click()\n",
    "        time.sleep(0.5)\n",
    "        ImgUrl = driver.find_element_by_xpath('//*[@id=\"Sva75c\"]/div/div/div[3]/div[2]/c-wiz/div/div[1]/div[1]/div[2]/div/a/img').get_attribute('src')\n",
    "        time.sleep(1)\n",
    "        if ImgUrl[:23] == 'data:image/jpeg;base64,':\n",
    "            with open(origin_path+key+f'/{key}_{ind+1}.jpg','wb') as f:\n",
    "                f.write(base64.b64decode(ImgUrl[23:]))\n",
    "        else:\n",
    "            try:\n",
    "                urllib.request.urlretrieve(ImgUrl, origin_path+key+f'/{key}_{ind+1}.jpg')\n",
    "            except:\n",
    "                pass\n",
    "\n"
   ]
  },
  {
   "cell_type": "code",
   "execution_count": 5,
   "metadata": {
    "ExecuteTime": {
     "end_time": "2022-03-28T00:42:19.601721Z",
     "start_time": "2022-03-28T00:42:19.596763Z"
    }
   },
   "outputs": [
    {
     "data": {
      "text/plain": [
       "57"
      ]
     },
     "execution_count": 5,
     "metadata": {},
     "output_type": "execute_result"
    }
   ],
   "source": [
    "# 오매락\n",
    "dirlist.index('오목대')"
   ]
  },
  {
   "cell_type": "code",
   "execution_count": null,
   "metadata": {
    "ExecuteTime": {
     "end_time": "2022-03-28T02:23:33.518989Z",
     "start_time": "2022-03-28T02:23:33.509016Z"
    },
    "scrolled": true
   },
   "outputs": [],
   "source": [
    "# 여기부터 하렴"
   ]
  },
  {
   "cell_type": "code",
   "execution_count": 58,
   "metadata": {
    "ExecuteTime": {
     "end_time": "2022-03-28T03:45:28.176844Z",
     "start_time": "2022-03-28T03:45:28.157307Z"
    }
   },
   "outputs": [],
   "source": [
    "worker = 'sim'\n",
    "# df = pd.read_csv('중간상황갯수_yeon.csv',index_col=0)\n",
    "count = [len(os.listdir('./drinks/'+dr)) for dr in os.listdir('./drinks/')]\n",
    "dr = os.listdir('./drinks/')\n",
    "df = pd.DataFrame({'술이름':dr,'이미지갯수':count})"
   ]
  },
  {
   "cell_type": "code",
   "execution_count": 2,
   "metadata": {
    "ExecuteTime": {
     "end_time": "2022-03-28T03:45:29.020832Z",
     "start_time": "2022-03-28T03:45:28.995512Z"
    }
   },
   "outputs": [],
   "source": [
    "refill = ['한주',\n",
    " '행운 생유자 동동주',\n",
    " '허니문',\n",
    " '허니비',\n",
    " '헤베',\n",
    " '호담 300ml',\n",
    " '호담 산양산삼 막걸리',\n",
    " '호두땅콩막걸리',\n",
    " '호랑이 생 막걸리',\n",
    " '호랑이배꼽',\n",
    " '호모루덴스',\n",
    " '혼',\n",
    " '홍삼명주 - 375ml',\n",
    " '홍삼명주 - 750ml',\n",
    " '홍시와인',\n",
    " '홍천강 탁주',\n",
    " '화요 41%','화요 25%', '화요 17%',\n",
    " '화주',\n",
    " '황감찰',\n",
    " '황도배기 햅쌀막걸리',\n",
    " '황진이주']\n",
    "# if not os.path.exists('./drinks/'+ worker):\n",
    "#     os.mkdir('./drinks/'+ worker)\n",
    "# for dr in refill:\n",
    "#     os.mkdir('./drinks/'+dr)"
   ]
  },
  {
   "cell_type": "code",
   "execution_count": 3,
   "metadata": {
    "ExecuteTime": {
     "end_time": "2022-03-28T01:40:45.904388Z",
     "start_time": "2022-03-28T01:40:44.913078Z"
    }
   },
   "outputs": [],
   "source": [
    "driver = webdriver.Chrome()"
   ]
  },
  {
   "cell_type": "code",
   "execution_count": 6,
   "metadata": {
    "ExecuteTime": {
     "end_time": "2022-03-28T04:08:38.004606Z",
     "start_time": "2022-03-28T03:46:24.781221Z"
    }
   },
   "outputs": [
    {
     "name": "stderr",
     "output_type": "stream",
     "text": [
      "C:\\Users\\bitcamp\\AppData\\Local\\Temp/ipykernel_7552/2192743555.py:16: DeprecationWarning: find_elements_by_* commands are deprecated. Please use find_elements() instead\n",
      "  for image in driver.find_elements_by_css_selector(path):\n",
      "C:\\Users\\bitcamp\\AppData\\Local\\Temp/ipykernel_7552/2192743555.py:18: DeprecationWarning: find_elements_by_* commands are deprecated. Please use find_elements() instead\n",
      "  imgurl = driver.find_elements_by_css_selector('div.image._imageBox > img')[0].get_attribute('src')\n",
      "C:\\Users\\bitcamp\\AppData\\Local\\Temp/ipykernel_7552/2192743555.py:24: DeprecationWarning: find_elements_by_* commands are deprecated. Please use find_elements() instead\n",
      "  if len(driver.find_elements_by_css_selector(path)) < 20:\n",
      "C:\\Users\\bitcamp\\AppData\\Local\\Temp/ipykernel_7552/2192743555.py:35: DeprecationWarning: find_elements_by_* commands are deprecated. Please use find_elements() instead\n",
      "  for image in driver.find_elements_by_css_selector(path):\n",
      "C:\\Users\\bitcamp\\AppData\\Local\\Temp/ipykernel_7552/2192743555.py:37: DeprecationWarning: find_elements_by_* commands are deprecated. Please use find_elements() instead\n",
      "  imgurl = driver.find_elements_by_css_selector('div.image._imageBox > img')[0].get_attribute('src')\n"
     ]
    }
   ],
   "source": [
    "num = 50\n",
    "folder_path = './add'\n",
    "for dr in refill:\n",
    "    os.mkdir(folder_path+'/'+dr)\n",
    "    keyword = re.sub('%', '', dr)+' 전통주'\n",
    "    url = f'https://search.naver.com/search.naver?where=image&query={keyword}&res_fr=786432'\n",
    "    driver.get(url)\n",
    "    time.sleep(2)\n",
    "    SCROLL_PAUSE_TIME = 1\n",
    "    for _ in range(2):\n",
    "        last_height = driver.execute_script(\"return document.body.scrollHeight\")\n",
    "        driver.execute_script('window.scrollTo(0, document.body.scrollHeight);')\n",
    "        time.sleep(SCROLL_PAUSE_TIME)\n",
    "    path = '#main_pack > section.sc_new.sp_nimage._prs_img._imageSearchPC > div > div.photo_group._listGrid > div.photo_tile._grid > div > div > div.thumb > a > img'\n",
    "    cnt = 1\n",
    "    for image in driver.find_elements_by_css_selector(path):\n",
    "        image.click()\n",
    "        imgurl = driver.find_elements_by_css_selector('div.image._imageBox > img')[0].get_attribute('src')\n",
    "        urllib.request.urlretrieve(imgurl, '/'.join([folder_path, dr,f'{dr}_{cnt}.jpg']))\n",
    "        cnt+=1\n",
    "        if cnt > num:\n",
    "            break\n",
    "        \n",
    "    if len(driver.find_elements_by_css_selector(path)) < 20:\n",
    "        keyword = re.sub('%', '', dr)\n",
    "        url = f'https://search.naver.com/search.naver?where=image&query={keyword}&res_fr=786432'\n",
    "        driver.get(url)\n",
    "        time.sleep(2)\n",
    "        SCROLL_PAUSE_TIME = 1\n",
    "        for _ in range(2):\n",
    "            last_height = driver.execute_script(\"return document.body.scrollHeight\")\n",
    "            driver.execute_script('window.scrollTo(0, document.body.scrollHeight);')\n",
    "            time.sleep(SCROLL_PAUSE_TIME)\n",
    "        path = '#main_pack > section.sc_new.sp_nimage._prs_img._imageSearchPC > div > div.photo_group._listGrid > div.photo_tile._grid > div > div > div.thumb > a > img'\n",
    "        for image in driver.find_elements_by_css_selector(path):\n",
    "            image.click()\n",
    "            imgurl = driver.find_elements_by_css_selector('div.image._imageBox > img')[0].get_attribute('src')\n",
    "            urllib.request.urlretrieve(imgurl, '/'.join([folder_path, dr,f'{dr}_{cnt}.jpg']))\n",
    "            cnt+=1\n",
    "            if cnt > num:\n",
    "                break\n",
    "        "
   ]
  },
  {
   "cell_type": "code",
   "execution_count": 50,
   "metadata": {
    "ExecuteTime": {
     "end_time": "2022-03-28T02:24:43.592077Z",
     "start_time": "2022-03-28T02:24:43.574126Z"
    }
   },
   "outputs": [],
   "source": [
    "dr = refill[0]"
   ]
  },
  {
   "cell_type": "code",
   "execution_count": 52,
   "metadata": {
    "ExecuteTime": {
     "end_time": "2022-03-28T02:26:11.238863Z",
     "start_time": "2022-03-28T02:26:11.222935Z"
    }
   },
   "outputs": [
    {
     "data": {
      "text/plain": [
       "array(['에델 스위트와인', '여포의 꿈 (화이트)', '연오랑탁주', '연천 연주', '연천 우주', '영일만친구 막걸리',\n",
       "       '예담은 한산소곡주', '예밀와인 로제', '예술주조 `무작`', '예주', '예화', '옛날막걸리 古',\n",
       "       '오 마이 갓', '오가피와인', '오계리 아이스와인', '오곡 진상주', '오디랑', '오디아락40', '오디여라',\n",
       "       '오미로제 스파클링 와인', '오미로제 프리미어와인', '오미시앙 스페셜', '오크와인', '왕매실 막걸리',\n",
       "       '왕율주', '왕피천을 품은 미소생막걸리', '우렁이쌀 손 막걸리', '울금생막걸리 정', '원매', '원매 프리미엄',\n",
       "       '원조소곡주', '위 (we)레드 (2018)와인', '유자향주', '육십일도', '의림소주', '이동 생 쌀 막걸리',\n",
       "       '이천쌀생막걸리', '이화주', '인어교주해적술', '일지춘', '입술', '입장탁주', '자두와인', '자연송이주',\n",
       "       '자희향 나비', '장수 생막걸리', '장홍삼 장수 막걸리', '정감생막걸리', '정고집 나주배 약주 15%',\n",
       "       '정고집 나주배 약주 9%', '제주감귤주 귤로만', '제주낭만', '제주술익는집 고소리술', '젤코바 스페셜와인',\n",
       "       '젤코바 캠벨와인', '젤코바 프리미엄 와인', '주교주', '주몽복분자주', '주산지 막걸리', '주향담을',\n",
       "       '주향아라', '주홍춘', '죽향 생 막걸리', '줄포 생막걸리', '지란지교 무화과 탁주', '지란지교 약주',\n",
       "       '지리산 허브잎술 쌀 막걸리', '지장수 호박막걸리', '지평 생 쌀막걸리', '지평 생 옛막걸리',\n",
       "       '진도홍주 아라리', '진도홍주, 만홍', '진심홍삼인삼주 38%, 19%', '진쾌남', '징기스칸',\n",
       "       '찹쌀 생막걸리 12도', '찹쌀생막걸리 9도', '천마이야기 막걸리', '천매', '천비향 화주', '천안연미주',\n",
       "       '천지향 증류주', '청명주', '청명주 750', '청양둔송구기주', '청진주', '초련 주정강화 와인',\n",
       "       '초선의 꿈', '추사 로제', '추사47', '추사백25', '추사백40 사과 증류식 소주', '커피냑',\n",
       "       '커피와인 톡시', '코이버펑크, 머스캣 베일리 에이 2017', '코이버펑크, 샤르도네 세미용 2018',\n",
       "       '코이버펑크, 카베르네 소비뇽 2019', '쿨샷 7.5', '키위술', '타락40', '타미앙스', '토끼구름',\n",
       "       '톡 한잔 소주', '톡쏘는 쌀 막걸리', '톡쏘는 옥수수동동', '티나(TINA)', '팔공산미나리 생막걸리',\n",
       "       '편백숲 산소막걸리', '편백숲 산소막걸리 순수령 8%', '편백숲 산소막걸리 스파클링', '포엠 로제와인',\n",
       "       '포엠 화이트와인', '필', '하얀까마귀', '하얀연꽃 백련막걸리', '하얀연꽃 백련맑은 술', '하향주',\n",
       "       '하향주 호리병', '한강의설레임', '한비 동충하초술', '한비 무병장수술', '한비 오가피술', '한비 유자술',\n",
       "       '한산 소곡화주', '한산소곡주'], dtype=object)"
      ]
     },
     "execution_count": 52,
     "metadata": {},
     "output_type": "execute_result"
    }
   ],
   "source": [
    "refill"
   ]
  },
  {
   "cell_type": "code",
   "execution_count": null,
   "metadata": {},
   "outputs": [],
   "source": []
  }
 ],
 "metadata": {
  "kernelspec": {
   "display_name": "Python 3 (ipykernel)",
   "language": "python",
   "name": "python3"
  },
  "language_info": {
   "codemirror_mode": {
    "name": "ipython",
    "version": 3
   },
   "file_extension": ".py",
   "mimetype": "text/x-python",
   "name": "python",
   "nbconvert_exporter": "python",
   "pygments_lexer": "ipython3",
   "version": "3.9.7"
  },
  "toc": {
   "base_numbering": 1,
   "nav_menu": {},
   "number_sections": true,
   "sideBar": true,
   "skip_h1_title": false,
   "title_cell": "Table of Contents",
   "title_sidebar": "Contents",
   "toc_cell": false,
   "toc_position": {},
   "toc_section_display": true,
   "toc_window_display": false
  },
  "varInspector": {
   "cols": {
    "lenName": 16,
    "lenType": 16,
    "lenVar": 40
   },
   "kernels_config": {
    "python": {
     "delete_cmd_postfix": "",
     "delete_cmd_prefix": "del ",
     "library": "var_list.py",
     "varRefreshCmd": "print(var_dic_list())"
    },
    "r": {
     "delete_cmd_postfix": ") ",
     "delete_cmd_prefix": "rm(",
     "library": "var_list.r",
     "varRefreshCmd": "cat(var_dic_list()) "
    }
   },
   "position": {
    "height": "144.844px",
    "left": "1678.45px",
    "right": "20px",
    "top": "134.993px",
    "width": "350px"
   },
   "types_to_exclude": [
    "module",
    "function",
    "builtin_function_or_method",
    "instance",
    "_Feature"
   ],
   "window_display": true
  }
 },
 "nbformat": 4,
 "nbformat_minor": 4
}
