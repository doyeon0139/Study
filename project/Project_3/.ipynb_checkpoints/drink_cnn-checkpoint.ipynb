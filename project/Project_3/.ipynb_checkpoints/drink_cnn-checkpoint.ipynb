{
 "cells": [
  {
   "cell_type": "code",
   "execution_count": 18,
   "id": "6dcd8237",
   "metadata": {},
   "outputs": [],
   "source": [
    "import pandas as pd\n",
    "import numpy as np\n",
    "import matplotlib.pyplot as plt\n",
    "import seaborn as sns"
   ]
  },
  {
   "cell_type": "code",
   "execution_count": 19,
   "id": "c5f9b722",
   "metadata": {},
   "outputs": [],
   "source": [
    "from tensorflow.keras.models import Sequential\n",
    "from tensorflow.keras.layers import Dense\n",
    "import tensorflow as tf\n",
    "\n",
    "import shutil\n",
    "import os\n",
    "\n",
    "from pathlib import Path\n",
    "from sklearn.model_selection import StratifiedShuffleSplit"
   ]
  },
  {
   "cell_type": "code",
   "execution_count": 20,
   "id": "c01d1346",
   "metadata": {},
   "outputs": [],
   "source": [
    "from tensorflow.keras.layers import Conv2D, MaxPooling2D, Flatten, Dense, Dropout\n",
    "from tensorflow.keras.models import Sequential\n",
    "\n",
    "from keras.callbacks import EarlyStopping\n",
    "early_stoping = EarlyStopping(patience=7)"
   ]
  },
  {
   "cell_type": "code",
   "execution_count": 4,
   "id": "4914dfb9",
   "metadata": {},
   "outputs": [
    {
     "data": {
      "text/plain": [
       "'padding/class_000'"
      ]
     },
     "execution_count": 4,
     "metadata": {},
     "output_type": "execute_result"
    }
   ],
   "source": [
    "# original_dataset_dir = 'padding/class_000'\n",
    "# original_dataset_dir"
   ]
  },
  {
   "cell_type": "code",
   "execution_count": 12,
   "id": "fbc60299",
   "metadata": {},
   "outputs": [],
   "source": [
    "# os.mkdir('cnn_test')"
   ]
  },
  {
   "cell_type": "code",
   "execution_count": 13,
   "id": "364c9b16",
   "metadata": {},
   "outputs": [],
   "source": [
    "# base = ('cnn_test')"
   ]
  },
  {
   "cell_type": "code",
   "execution_count": 17,
   "id": "9a5ac9c6",
   "metadata": {},
   "outputs": [],
   "source": [
    "# train_path = Path('./cnn_test/train') # train test로 구분한 파일 저장 경로\n",
    "# test_path = Path('./cnn_test/test')\n",
    "\n",
    "# train_path.mkdir(exist_ok=True)\n",
    "# test_path.mkdir(exist_ok=True)"
   ]
  },
  {
   "cell_type": "code",
   "execution_count": 18,
   "id": "00cf5402",
   "metadata": {},
   "outputs": [
    {
     "data": {
      "text/plain": [
       "array([[WindowsPath('padding/class_000/class_000_000.jpg'), 'class_000'],\n",
       "       [WindowsPath('padding/class_000/class_000_001.jpg'), 'class_000'],\n",
       "       [WindowsPath('padding/class_000/class_000_002.jpg'), 'class_000'],\n",
       "       ...,\n",
       "       [WindowsPath('padding/class_019/class_019_034.jpg'), 'class_019'],\n",
       "       [WindowsPath('padding/class_019/class_019_035.jpg'), 'class_019'],\n",
       "       [WindowsPath('padding/class_019/class_019_036.jpg'), 'class_019']],\n",
       "      dtype=object)"
      ]
     },
     "execution_count": 18,
     "metadata": {},
     "output_type": "execute_result"
    }
   ],
   "source": [
    "# data_path = Path('./padding/') # 원본 파일들 저장 경로\n",
    "# data = []\n",
    "# for d in data_path.glob('*'):\n",
    "#     for f in d.glob('*.jpg'):\n",
    "#         data.append([f, d.stem])\n",
    "# data = np.array(data)\n",
    "# data"
   ]
  },
  {
   "cell_type": "code",
   "execution_count": 11,
   "id": "377402da",
   "metadata": {},
   "outputs": [],
   "source": [
    "# for label in labels:\n",
    "#     train_label_dir = os.path.join(train_dir,label)\n",
    "#     os.mkdir(train_label_dir)"
   ]
  },
  {
   "cell_type": "code",
   "execution_count": null,
   "id": "20f2fa22",
   "metadata": {},
   "outputs": [],
   "source": [
    "# for label in labels:\n",
    "#     test_label_dir = os.path.join(test_dir,label)\n",
    "#     os.mkdir(train_test_dir)\n",
    "    \n",
    "# for label in labels:\n",
    "#     validation_label_dir = os.path.join(validation_dir,label)\n",
    "#     os.mkdir(train_label_dir)"
   ]
  },
  {
   "cell_type": "code",
   "execution_count": 19,
   "id": "289adc5e",
   "metadata": {
    "collapsed": true
   },
   "outputs": [
    {
     "data": {
      "text/plain": [
       "array([301,  12, 338, 316, 303,  23, 291, 465, 361, 342, 640, 487, 228,\n",
       "       137, 481, 157, 600, 165, 289, 315, 336, 510, 235, 243, 310, 244,\n",
       "       424, 395, 580,  84, 456, 408, 654,  15, 208, 506,  76, 236, 179,\n",
       "       473, 238, 193,  36, 141, 173,  87, 457, 441, 455, 625, 593, 558,\n",
       "       110,  35, 329, 392, 612, 529, 393, 415, 346, 433, 642, 317,  98,\n",
       "       617,  80, 578, 365, 375, 583, 222, 413, 503,  44, 637, 120, 344,\n",
       "       358, 280, 464, 602, 383, 396, 118, 635, 332,  64, 536, 113, 480,\n",
       "        68, 328, 614, 623, 575, 194,  93, 368, 485, 440, 200, 469, 618,\n",
       "        67, 399, 532, 268, 479, 233, 362, 227, 371, 297, 279, 548, 620,\n",
       "       496, 616, 652, 122, 629, 140, 319, 153,   6,  70, 648, 571, 131,\n",
       "       374, 438, 561, 530, 126, 430, 447, 606, 147,  86, 234, 407, 112,\n",
       "       134, 320, 556, 452, 269, 176, 639, 307, 142, 537, 305, 304, 300,\n",
       "       323, 463, 524, 340,  65, 152, 570, 605,  25, 405, 253, 204, 379,\n",
       "        91,  18, 326, 357, 598, 117, 377, 422, 547, 382, 156, 273,  37,\n",
       "       218, 526, 284, 169, 498, 359, 366, 425, 240,  29, 564, 119, 483,\n",
       "       175, 646, 628, 608, 428, 154, 334, 507, 563, 589, 135, 161, 264,\n",
       "       647, 237, 551, 116, 417, 454, 439, 133, 434, 566, 229,   3, 254,\n",
       "        41, 521, 309, 604, 534, 552, 355, 431, 241, 634, 258, 437,  16,\n",
       "       252, 130, 100, 470, 423,  13, 257, 298,  26, 115, 262, 513, 389,\n",
       "       321, 186,  47, 183, 501, 148, 220, 475, 354,  39,  10, 380, 350,\n",
       "       565, 178, 595, 584, 242, 538, 144, 576, 492, 127,  24,   4, 619,\n",
       "        90, 146, 622, 446, 294, 525,  63,   8,  57, 429, 391, 166, 216,\n",
       "        55,  74, 579,  40, 585,  92, 171, 356, 621, 239, 206, 553, 611,\n",
       "       281, 333, 288,  50, 267, 274, 378, 442, 277, 515, 471, 224, 419,\n",
       "       271, 188, 448,  99, 491, 104, 549, 337,   7, 197, 468, 124, 101,\n",
       "       643,   0, 181, 514, 541, 418, 632,  32, 168, 567,  89, 203, 367,\n",
       "       270, 484, 282, 263,  43, 343,  88, 488, 339, 225, 198, 493, 609,\n",
       "        31, 400,   1, 292, 467, 311, 384, 509, 495, 597,   9,  96, 519,\n",
       "        49,  52,  58, 482, 231, 582,  46, 190, 636, 568, 370, 327, 542,\n",
       "       613, 192, 544, 226, 416, 155,  66, 427, 477, 150, 476, 435, 211,\n",
       "       189, 411, 394,  79, 174, 522, 645, 170, 164, 398, 559, 601, 185,\n",
       "       489, 511, 114, 546,  82, 500, 550,  59, 202, 594, 545, 214, 528,\n",
       "       167, 201, 543, 385, 478,  14, 502, 650,  28, 106, 414, 372, 486,\n",
       "        42, 248, 516, 260, 293,  83,  27, 572, 160, 230,  78, 599, 232,\n",
       "       256, 360, 180, 143, 426, 409, 246, 215, 187, 497, 523, 109, 352,\n",
       "       520, 412,  75,  54, 403, 627,  20, 335, 250, 535, 348, 573, 466,\n",
       "       102, 460, 347, 591, 651, 213, 196,  72, 404, 451, 272,  17,  34,\n",
       "       581,  48, 638, 364, 123, 402,  71, 287, 577, 420, 633,  95, 363,\n",
       "        51, 324, 474,  56, 351, 295, 158, 162, 533, 195, 630, 217, 313,\n",
       "       276, 296, 349, 499, 387, 111, 163, 191, 508, 369, 275, 128, 259,\n",
       "       590, 221, 286,  60], dtype=int64)"
      ]
     },
     "execution_count": 19,
     "metadata": {},
     "output_type": "execute_result"
    }
   ],
   "source": [
    "# ss = StratifiedShuffleSplit(1, train_size = 0.8) # 얘가 핵심, Stratify 유지하면서 쪼개주는 역할\n",
    "# train_ix, test_ix = next(ss.split(data[:,0],data[:,1])) # next가 뭐하는 놈인지 기억안난다 암튼 나눠준거다\n",
    "# train_ix"
   ]
  },
  {
   "cell_type": "code",
   "execution_count": 20,
   "id": "38a1860e",
   "metadata": {},
   "outputs": [
    {
     "data": {
      "text/plain": [
       "array([[WindowsPath('padding/class_008/class_008_005.jpg'), 'class_008'],\n",
       "       [WindowsPath('padding/class_000/class_000_012.jpg'), 'class_000'],\n",
       "       [WindowsPath('padding/class_008/class_008_042.jpg'), 'class_008'],\n",
       "       ...,\n",
       "       [WindowsPath('padding/class_005/class_005_026.jpg'), 'class_005'],\n",
       "       [WindowsPath('padding/class_007/class_007_021.jpg'), 'class_007'],\n",
       "       [WindowsPath('padding/class_001/class_001_030.jpg'), 'class_001']],\n",
       "      dtype=object)"
      ]
     },
     "execution_count": 20,
     "metadata": {},
     "output_type": "execute_result"
    }
   ],
   "source": [
    "# train_set, test_set = data[train_ix], data[test_ix]\n",
    "# train_set"
   ]
  },
  {
   "cell_type": "code",
   "execution_count": 21,
   "id": "9b1ecfc7",
   "metadata": {},
   "outputs": [],
   "source": [
    "# for p, c in train_set:\n",
    "#     (train_path / c).mkdir(exist_ok=True)\n",
    "#     shutil.move(p, train_path.joinpath(*p.parts[-2:]))\n",
    "# for p, c in test_set:\n",
    "#     (test_path / c).mkdir(exist_ok=True)\n",
    "#     shutil.move(p, test_path.joinpath(*p.parts[-2:]))"
   ]
  },
  {
   "cell_type": "code",
   "execution_count": 4,
   "id": "19d03972",
   "metadata": {
    "collapsed": true
   },
   "outputs": [
    {
     "ename": "NameError",
     "evalue": "name 'train_set' is not defined",
     "output_type": "error",
     "traceback": [
      "\u001b[1;31m---------------------------------------------------------------------------\u001b[0m",
      "\u001b[1;31mNameError\u001b[0m                                 Traceback (most recent call last)",
      "\u001b[1;32m~\\AppData\\Local\\Temp/ipykernel_2328/1428903971.py\u001b[0m in \u001b[0;36m<module>\u001b[1;34m\u001b[0m\n\u001b[1;32m----> 1\u001b[1;33m \u001b[0mtrain_set\u001b[0m\u001b[1;33m.\u001b[0m\u001b[0mshape\u001b[0m\u001b[1;33m\u001b[0m\u001b[1;33m\u001b[0m\u001b[0m\n\u001b[0m",
      "\u001b[1;31mNameError\u001b[0m: name 'train_set' is not defined"
     ]
    }
   ],
   "source": [
    "train_set.shape"
   ]
  },
  {
   "cell_type": "code",
   "execution_count": 25,
   "id": "39c3edf7",
   "metadata": {},
   "outputs": [
    {
     "data": {
      "text/plain": [
       "(131, 2)"
      ]
     },
     "execution_count": 25,
     "metadata": {},
     "output_type": "execute_result"
    }
   ],
   "source": [
    "test_set.shape"
   ]
  },
  {
   "cell_type": "code",
   "execution_count": null,
   "id": "150e6492",
   "metadata": {},
   "outputs": [],
   "source": []
  },
  {
   "cell_type": "code",
   "execution_count": null,
   "id": "fada7528",
   "metadata": {},
   "outputs": [],
   "source": []
  },
  {
   "cell_type": "code",
   "execution_count": 21,
   "id": "97ddbde8",
   "metadata": {},
   "outputs": [],
   "source": [
    "from tensorflow.keras.preprocessing.image import ImageDataGenerator\n",
    "\n",
    "train_datagen = ImageDataGenerator(rescale = 1./255)\n",
    "test_datagen = ImageDataGenerator(rescale = 1./255)\n",
    "val_datagen = ImageDataGenerator(rescale = 1./255)"
   ]
  },
  {
   "cell_type": "code",
   "execution_count": 22,
   "id": "d856dc9d",
   "metadata": {},
   "outputs": [
    {
     "name": "stdout",
     "output_type": "stream",
     "text": [
      "Found 18134 images belonging to 73 classes.\n"
     ]
    }
   ],
   "source": [
    "train_generator = train_datagen.flow_from_directory(\n",
    "    'e:/smallclass/train/',\n",
    "    target_size=(160,160),\n",
    "    batch_size=20,\n",
    "    class_mode='categorical'\n",
    ")"
   ]
  },
  {
   "cell_type": "code",
   "execution_count": 23,
   "id": "a7c87dba",
   "metadata": {},
   "outputs": [
    {
     "name": "stdout",
     "output_type": "stream",
     "text": [
      "Found 6960 images belonging to 73 classes.\n"
     ]
    }
   ],
   "source": [
    "test_generator = test_datagen.flow_from_directory(\n",
    "    'e:/smallclass/test/',\n",
    "    target_size=(160,160),\n",
    "    batch_size=20,\n",
    "    class_mode='categorical'\n",
    "\n",
    ")"
   ]
  },
  {
   "cell_type": "code",
   "execution_count": 24,
   "id": "3e458ae2",
   "metadata": {},
   "outputs": [
    {
     "name": "stdout",
     "output_type": "stream",
     "text": [
      "Found 6870 images belonging to 73 classes.\n"
     ]
    }
   ],
   "source": [
    "val_generator = val_datagen.flow_from_directory(\n",
    "    'e:/smallclass/val/',\n",
    "    target_size=(160,160),\n",
    "    batch_size=20,\n",
    "    class_mode='categorical'\n",
    "\n",
    ")"
   ]
  },
  {
   "cell_type": "code",
   "execution_count": 11,
   "id": "85a28a26",
   "metadata": {},
   "outputs": [
    {
     "name": "stdout",
     "output_type": "stream",
     "text": [
      "(20, 160, 160, 3)\n",
      "(20, 73)\n"
     ]
    }
   ],
   "source": [
    "for data_batch, labels_batch in train_generator:\n",
    "    print(data_batch.shape)\n",
    "    print(labels_batch.shape)\n",
    "    break"
   ]
  },
  {
   "cell_type": "code",
   "execution_count": null,
   "id": "125e3264",
   "metadata": {},
   "outputs": [],
   "source": []
  },
  {
   "cell_type": "code",
   "execution_count": null,
   "id": "a58e12fb",
   "metadata": {},
   "outputs": [],
   "source": []
  },
  {
   "cell_type": "code",
   "execution_count": 25,
   "id": "e42d5086",
   "metadata": {},
   "outputs": [
    {
     "name": "stdout",
     "output_type": "stream",
     "text": [
      "Model: \"sequential_2\"\n",
      "_________________________________________________________________\n",
      " Layer (type)                Output Shape              Param #   \n",
      "=================================================================\n",
      " conv2d_8 (Conv2D)           (None, 160, 160, 16)      1216      \n",
      "                                                                 \n",
      " max_pooling2d_8 (MaxPooling  (None, 53, 53, 16)       0         \n",
      " 2D)                                                             \n",
      "                                                                 \n",
      " conv2d_9 (Conv2D)           (None, 53, 53, 32)        12832     \n",
      "                                                                 \n",
      " max_pooling2d_9 (MaxPooling  (None, 17, 17, 32)       0         \n",
      " 2D)                                                             \n",
      "                                                                 \n",
      " conv2d_10 (Conv2D)          (None, 17, 17, 32)        25632     \n",
      "                                                                 \n",
      " max_pooling2d_10 (MaxPoolin  (None, 5, 5, 32)         0         \n",
      " g2D)                                                            \n",
      "                                                                 \n",
      " conv2d_11 (Conv2D)          (None, 5, 5, 64)          51264     \n",
      "                                                                 \n",
      " max_pooling2d_11 (MaxPoolin  (None, 1, 1, 64)         0         \n",
      " g2D)                                                            \n",
      "                                                                 \n",
      " flatten_2 (Flatten)         (None, 64)                0         \n",
      "                                                                 \n",
      " dense_6 (Dense)             (None, 516)               33540     \n",
      "                                                                 \n",
      " dropout_4 (Dropout)         (None, 516)               0         \n",
      "                                                                 \n",
      " dense_7 (Dense)             (None, 128)               66176     \n",
      "                                                                 \n",
      " dropout_5 (Dropout)         (None, 128)               0         \n",
      "                                                                 \n",
      " dense_8 (Dense)             (None, 73)                9417      \n",
      "                                                                 \n",
      "=================================================================\n",
      "Total params: 200,077\n",
      "Trainable params: 200,077\n",
      "Non-trainable params: 0\n",
      "_________________________________________________________________\n"
     ]
    }
   ],
   "source": [
    "model=Sequential()\n",
    "model.add(Conv2D(16, kernel_size=5, padding='same', activation='relu', input_shape=(160, 160, 3)))\n",
    "model.add(MaxPooling2D(pool_size=3))\n",
    "model.add(Conv2D(32, kernel_size=5, padding='same', activation='relu'))\n",
    "model.add(MaxPooling2D(pool_size=3))\n",
    "model.add(Conv2D(32, kernel_size=5, padding='same', activation='relu'))\n",
    "model.add(MaxPooling2D(pool_size=3))\n",
    "model.add(Conv2D(64, kernel_size=5, padding='same', activation='relu'))\n",
    "model.add(MaxPooling2D(pool_size=3))\n",
    "\n",
    "model.add(Flatten())\n",
    "\n",
    "model.add(Dense(516, activation='relu'))\n",
    "model.add(Dropout(0.2))\n",
    "model.add(Dense(128, activation='relu'))\n",
    "model.add(Dropout(0.2))\n",
    "model.add(Dense(73, activation='softmax'))\n",
    "model.summary()"
   ]
  },
  {
   "cell_type": "code",
   "execution_count": 26,
   "id": "8b19c6f8",
   "metadata": {},
   "outputs": [],
   "source": [
    "model.compile(loss='categorical_crossentropy', metrics=['accuracy'], optimizer='Adam')"
   ]
  },
  {
   "cell_type": "code",
   "execution_count": 27,
   "id": "ffd79106",
   "metadata": {
    "scrolled": true
   },
   "outputs": [
    {
     "name": "stdout",
     "output_type": "stream",
     "text": [
      "Epoch 1/50\n",
      "906/906 [==============================] - 136s 147ms/step - loss: 4.1236 - accuracy: 0.0427 - val_loss: 3.9482 - val_accuracy: 0.0716\n",
      "Epoch 2/50\n",
      "906/906 [==============================] - 134s 147ms/step - loss: 3.7513 - accuracy: 0.0820 - val_loss: 3.8150 - val_accuracy: 0.0911\n",
      "Epoch 3/50\n",
      "906/906 [==============================] - 134s 148ms/step - loss: 3.4452 - accuracy: 0.1355 - val_loss: 3.4253 - val_accuracy: 0.1515\n",
      "Epoch 4/50\n",
      "906/906 [==============================] - 134s 148ms/step - loss: 3.1838 - accuracy: 0.1825 - val_loss: 3.2951 - val_accuracy: 0.1845\n",
      "Epoch 5/50\n",
      "906/906 [==============================] - 134s 148ms/step - loss: 2.9527 - accuracy: 0.2342 - val_loss: 3.3216 - val_accuracy: 0.1911\n",
      "Epoch 6/50\n",
      "906/906 [==============================] - 134s 148ms/step - loss: 2.7404 - accuracy: 0.2790 - val_loss: 3.1575 - val_accuracy: 0.2270\n",
      "Epoch 7/50\n",
      "906/906 [==============================] - 133s 147ms/step - loss: 2.5388 - accuracy: 0.3193 - val_loss: 3.1728 - val_accuracy: 0.2350\n",
      "Epoch 8/50\n",
      "906/906 [==============================] - 136s 150ms/step - loss: 2.3669 - accuracy: 0.3615 - val_loss: 3.0768 - val_accuracy: 0.2469\n",
      "Epoch 9/50\n",
      "906/906 [==============================] - 136s 150ms/step - loss: 2.2329 - accuracy: 0.3913 - val_loss: 3.0872 - val_accuracy: 0.2637\n",
      "Epoch 10/50\n",
      "906/906 [==============================] - 137s 151ms/step - loss: 2.0995 - accuracy: 0.4219 - val_loss: 3.2100 - val_accuracy: 0.2523\n",
      "Epoch 11/50\n",
      "906/906 [==============================] - 134s 148ms/step - loss: 2.0054 - accuracy: 0.4425 - val_loss: 3.2569 - val_accuracy: 0.2418\n",
      "Epoch 12/50\n",
      "906/906 [==============================] - 133s 147ms/step - loss: 1.8955 - accuracy: 0.4691 - val_loss: 3.2676 - val_accuracy: 0.2706\n",
      "Epoch 13/50\n",
      "906/906 [==============================] - 133s 146ms/step - loss: 1.7919 - accuracy: 0.4916 - val_loss: 3.3952 - val_accuracy: 0.2628\n",
      "Epoch 14/50\n",
      "906/906 [==============================] - 134s 148ms/step - loss: 1.7105 - accuracy: 0.5102 - val_loss: 3.5035 - val_accuracy: 0.2685\n",
      "Epoch 15/50\n",
      "906/906 [==============================] - 134s 148ms/step - loss: 1.6422 - accuracy: 0.5295 - val_loss: 3.6315 - val_accuracy: 0.2703\n",
      "Epoch 16/50\n",
      "906/906 [==============================] - 135s 149ms/step - loss: 1.5677 - accuracy: 0.5482 - val_loss: 3.4887 - val_accuracy: 0.2703\n",
      "Epoch 17/50\n",
      "906/906 [==============================] - 136s 150ms/step - loss: 1.4886 - accuracy: 0.5670 - val_loss: 3.8615 - val_accuracy: 0.2630\n",
      "Epoch 18/50\n",
      "906/906 [==============================] - 135s 149ms/step - loss: 1.4515 - accuracy: 0.5791 - val_loss: 3.7464 - val_accuracy: 0.2652\n",
      "Epoch 19/50\n",
      "906/906 [==============================] - 134s 148ms/step - loss: 1.3966 - accuracy: 0.5924 - val_loss: 3.9725 - val_accuracy: 0.2688\n",
      "Epoch 20/50\n",
      "906/906 [==============================] - 134s 148ms/step - loss: 1.3462 - accuracy: 0.6070 - val_loss: 3.8929 - val_accuracy: 0.2738\n",
      "Epoch 21/50\n",
      "  2/906 [..............................] - ETA: 54s - loss: 1.3073 - accuracy: 0.7000 "
     ]
    },
    {
     "ename": "KeyboardInterrupt",
     "evalue": "",
     "output_type": "error",
     "traceback": [
      "\u001b[1;31m---------------------------------------------------------------------------\u001b[0m",
      "\u001b[1;31mKeyboardInterrupt\u001b[0m                         Traceback (most recent call last)",
      "\u001b[1;32m~\\AppData\\Local\\Temp/ipykernel_8876/3704416077.py\u001b[0m in \u001b[0;36m<module>\u001b[1;34m\u001b[0m\n\u001b[1;32m----> 1\u001b[1;33m hist = model.fit(train_generator, epochs=50, steps_per_epoch= train_generator.samples//train_generator.batch_size,\n\u001b[0m\u001b[0;32m      2\u001b[0m                  \u001b[0mvalidation_data\u001b[0m\u001b[1;33m=\u001b[0m\u001b[0mval_generator\u001b[0m\u001b[1;33m,\u001b[0m \u001b[0mvalidation_steps\u001b[0m\u001b[1;33m=\u001b[0m \u001b[0mval_generator\u001b[0m\u001b[1;33m.\u001b[0m\u001b[0msamples\u001b[0m\u001b[1;33m//\u001b[0m\u001b[0mval_generator\u001b[0m\u001b[1;33m.\u001b[0m\u001b[0mbatch_size\u001b[0m\u001b[1;33m,\u001b[0m\u001b[1;33m\u001b[0m\u001b[1;33m\u001b[0m\u001b[0m\n\u001b[0;32m      3\u001b[0m                 )\n",
      "\u001b[1;32m~\\Anaconda3\\lib\\site-packages\\keras\\utils\\traceback_utils.py\u001b[0m in \u001b[0;36merror_handler\u001b[1;34m(*args, **kwargs)\u001b[0m\n\u001b[0;32m     62\u001b[0m     \u001b[0mfiltered_tb\u001b[0m \u001b[1;33m=\u001b[0m \u001b[1;32mNone\u001b[0m\u001b[1;33m\u001b[0m\u001b[1;33m\u001b[0m\u001b[0m\n\u001b[0;32m     63\u001b[0m     \u001b[1;32mtry\u001b[0m\u001b[1;33m:\u001b[0m\u001b[1;33m\u001b[0m\u001b[1;33m\u001b[0m\u001b[0m\n\u001b[1;32m---> 64\u001b[1;33m       \u001b[1;32mreturn\u001b[0m \u001b[0mfn\u001b[0m\u001b[1;33m(\u001b[0m\u001b[1;33m*\u001b[0m\u001b[0margs\u001b[0m\u001b[1;33m,\u001b[0m \u001b[1;33m**\u001b[0m\u001b[0mkwargs\u001b[0m\u001b[1;33m)\u001b[0m\u001b[1;33m\u001b[0m\u001b[1;33m\u001b[0m\u001b[0m\n\u001b[0m\u001b[0;32m     65\u001b[0m     \u001b[1;32mexcept\u001b[0m \u001b[0mException\u001b[0m \u001b[1;32mas\u001b[0m \u001b[0me\u001b[0m\u001b[1;33m:\u001b[0m  \u001b[1;31m# pylint: disable=broad-except\u001b[0m\u001b[1;33m\u001b[0m\u001b[1;33m\u001b[0m\u001b[0m\n\u001b[0;32m     66\u001b[0m       \u001b[0mfiltered_tb\u001b[0m \u001b[1;33m=\u001b[0m \u001b[0m_process_traceback_frames\u001b[0m\u001b[1;33m(\u001b[0m\u001b[0me\u001b[0m\u001b[1;33m.\u001b[0m\u001b[0m__traceback__\u001b[0m\u001b[1;33m)\u001b[0m\u001b[1;33m\u001b[0m\u001b[1;33m\u001b[0m\u001b[0m\n",
      "\u001b[1;32m~\\Anaconda3\\lib\\site-packages\\keras\\engine\\training.py\u001b[0m in \u001b[0;36mfit\u001b[1;34m(self, x, y, batch_size, epochs, verbose, callbacks, validation_split, validation_data, shuffle, class_weight, sample_weight, initial_epoch, steps_per_epoch, validation_steps, validation_batch_size, validation_freq, max_queue_size, workers, use_multiprocessing)\u001b[0m\n\u001b[0;32m   1382\u001b[0m                 _r=1):\n\u001b[0;32m   1383\u001b[0m               \u001b[0mcallbacks\u001b[0m\u001b[1;33m.\u001b[0m\u001b[0mon_train_batch_begin\u001b[0m\u001b[1;33m(\u001b[0m\u001b[0mstep\u001b[0m\u001b[1;33m)\u001b[0m\u001b[1;33m\u001b[0m\u001b[1;33m\u001b[0m\u001b[0m\n\u001b[1;32m-> 1384\u001b[1;33m               \u001b[0mtmp_logs\u001b[0m \u001b[1;33m=\u001b[0m \u001b[0mself\u001b[0m\u001b[1;33m.\u001b[0m\u001b[0mtrain_function\u001b[0m\u001b[1;33m(\u001b[0m\u001b[0miterator\u001b[0m\u001b[1;33m)\u001b[0m\u001b[1;33m\u001b[0m\u001b[1;33m\u001b[0m\u001b[0m\n\u001b[0m\u001b[0;32m   1385\u001b[0m               \u001b[1;32mif\u001b[0m \u001b[0mdata_handler\u001b[0m\u001b[1;33m.\u001b[0m\u001b[0mshould_sync\u001b[0m\u001b[1;33m:\u001b[0m\u001b[1;33m\u001b[0m\u001b[1;33m\u001b[0m\u001b[0m\n\u001b[0;32m   1386\u001b[0m                 \u001b[0mcontext\u001b[0m\u001b[1;33m.\u001b[0m\u001b[0masync_wait\u001b[0m\u001b[1;33m(\u001b[0m\u001b[1;33m)\u001b[0m\u001b[1;33m\u001b[0m\u001b[1;33m\u001b[0m\u001b[0m\n",
      "\u001b[1;32m~\\Anaconda3\\lib\\site-packages\\tensorflow\\python\\util\\traceback_utils.py\u001b[0m in \u001b[0;36merror_handler\u001b[1;34m(*args, **kwargs)\u001b[0m\n\u001b[0;32m    148\u001b[0m     \u001b[0mfiltered_tb\u001b[0m \u001b[1;33m=\u001b[0m \u001b[1;32mNone\u001b[0m\u001b[1;33m\u001b[0m\u001b[1;33m\u001b[0m\u001b[0m\n\u001b[0;32m    149\u001b[0m     \u001b[1;32mtry\u001b[0m\u001b[1;33m:\u001b[0m\u001b[1;33m\u001b[0m\u001b[1;33m\u001b[0m\u001b[0m\n\u001b[1;32m--> 150\u001b[1;33m       \u001b[1;32mreturn\u001b[0m \u001b[0mfn\u001b[0m\u001b[1;33m(\u001b[0m\u001b[1;33m*\u001b[0m\u001b[0margs\u001b[0m\u001b[1;33m,\u001b[0m \u001b[1;33m**\u001b[0m\u001b[0mkwargs\u001b[0m\u001b[1;33m)\u001b[0m\u001b[1;33m\u001b[0m\u001b[1;33m\u001b[0m\u001b[0m\n\u001b[0m\u001b[0;32m    151\u001b[0m     \u001b[1;32mexcept\u001b[0m \u001b[0mException\u001b[0m \u001b[1;32mas\u001b[0m \u001b[0me\u001b[0m\u001b[1;33m:\u001b[0m\u001b[1;33m\u001b[0m\u001b[1;33m\u001b[0m\u001b[0m\n\u001b[0;32m    152\u001b[0m       \u001b[0mfiltered_tb\u001b[0m \u001b[1;33m=\u001b[0m \u001b[0m_process_traceback_frames\u001b[0m\u001b[1;33m(\u001b[0m\u001b[0me\u001b[0m\u001b[1;33m.\u001b[0m\u001b[0m__traceback__\u001b[0m\u001b[1;33m)\u001b[0m\u001b[1;33m\u001b[0m\u001b[1;33m\u001b[0m\u001b[0m\n",
      "\u001b[1;32m~\\Anaconda3\\lib\\site-packages\\tensorflow\\python\\eager\\def_function.py\u001b[0m in \u001b[0;36m__call__\u001b[1;34m(self, *args, **kwds)\u001b[0m\n\u001b[0;32m    913\u001b[0m \u001b[1;33m\u001b[0m\u001b[0m\n\u001b[0;32m    914\u001b[0m       \u001b[1;32mwith\u001b[0m \u001b[0mOptionalXlaContext\u001b[0m\u001b[1;33m(\u001b[0m\u001b[0mself\u001b[0m\u001b[1;33m.\u001b[0m\u001b[0m_jit_compile\u001b[0m\u001b[1;33m)\u001b[0m\u001b[1;33m:\u001b[0m\u001b[1;33m\u001b[0m\u001b[1;33m\u001b[0m\u001b[0m\n\u001b[1;32m--> 915\u001b[1;33m         \u001b[0mresult\u001b[0m \u001b[1;33m=\u001b[0m \u001b[0mself\u001b[0m\u001b[1;33m.\u001b[0m\u001b[0m_call\u001b[0m\u001b[1;33m(\u001b[0m\u001b[1;33m*\u001b[0m\u001b[0margs\u001b[0m\u001b[1;33m,\u001b[0m \u001b[1;33m**\u001b[0m\u001b[0mkwds\u001b[0m\u001b[1;33m)\u001b[0m\u001b[1;33m\u001b[0m\u001b[1;33m\u001b[0m\u001b[0m\n\u001b[0m\u001b[0;32m    916\u001b[0m \u001b[1;33m\u001b[0m\u001b[0m\n\u001b[0;32m    917\u001b[0m       \u001b[0mnew_tracing_count\u001b[0m \u001b[1;33m=\u001b[0m \u001b[0mself\u001b[0m\u001b[1;33m.\u001b[0m\u001b[0mexperimental_get_tracing_count\u001b[0m\u001b[1;33m(\u001b[0m\u001b[1;33m)\u001b[0m\u001b[1;33m\u001b[0m\u001b[1;33m\u001b[0m\u001b[0m\n",
      "\u001b[1;32m~\\Anaconda3\\lib\\site-packages\\tensorflow\\python\\eager\\def_function.py\u001b[0m in \u001b[0;36m_call\u001b[1;34m(self, *args, **kwds)\u001b[0m\n\u001b[0;32m    945\u001b[0m       \u001b[1;31m# In this case we have created variables on the first call, so we run the\u001b[0m\u001b[1;33m\u001b[0m\u001b[1;33m\u001b[0m\u001b[0m\n\u001b[0;32m    946\u001b[0m       \u001b[1;31m# defunned version which is guaranteed to never create variables.\u001b[0m\u001b[1;33m\u001b[0m\u001b[1;33m\u001b[0m\u001b[0m\n\u001b[1;32m--> 947\u001b[1;33m       \u001b[1;32mreturn\u001b[0m \u001b[0mself\u001b[0m\u001b[1;33m.\u001b[0m\u001b[0m_stateless_fn\u001b[0m\u001b[1;33m(\u001b[0m\u001b[1;33m*\u001b[0m\u001b[0margs\u001b[0m\u001b[1;33m,\u001b[0m \u001b[1;33m**\u001b[0m\u001b[0mkwds\u001b[0m\u001b[1;33m)\u001b[0m  \u001b[1;31m# pylint: disable=not-callable\u001b[0m\u001b[1;33m\u001b[0m\u001b[1;33m\u001b[0m\u001b[0m\n\u001b[0m\u001b[0;32m    948\u001b[0m     \u001b[1;32melif\u001b[0m \u001b[0mself\u001b[0m\u001b[1;33m.\u001b[0m\u001b[0m_stateful_fn\u001b[0m \u001b[1;32mis\u001b[0m \u001b[1;32mnot\u001b[0m \u001b[1;32mNone\u001b[0m\u001b[1;33m:\u001b[0m\u001b[1;33m\u001b[0m\u001b[1;33m\u001b[0m\u001b[0m\n\u001b[0;32m    949\u001b[0m       \u001b[1;31m# Release the lock early so that multiple threads can perform the call\u001b[0m\u001b[1;33m\u001b[0m\u001b[1;33m\u001b[0m\u001b[0m\n",
      "\u001b[1;32m~\\Anaconda3\\lib\\site-packages\\tensorflow\\python\\eager\\function.py\u001b[0m in \u001b[0;36m__call__\u001b[1;34m(self, *args, **kwargs)\u001b[0m\n\u001b[0;32m   2954\u001b[0m       (graph_function,\n\u001b[0;32m   2955\u001b[0m        filtered_flat_args) = self._maybe_define_function(args, kwargs)\n\u001b[1;32m-> 2956\u001b[1;33m     return graph_function._call_flat(\n\u001b[0m\u001b[0;32m   2957\u001b[0m         filtered_flat_args, captured_inputs=graph_function.captured_inputs)  # pylint: disable=protected-access\n\u001b[0;32m   2958\u001b[0m \u001b[1;33m\u001b[0m\u001b[0m\n",
      "\u001b[1;32m~\\Anaconda3\\lib\\site-packages\\tensorflow\\python\\eager\\function.py\u001b[0m in \u001b[0;36m_call_flat\u001b[1;34m(self, args, captured_inputs, cancellation_manager)\u001b[0m\n\u001b[0;32m   1851\u001b[0m         and executing_eagerly):\n\u001b[0;32m   1852\u001b[0m       \u001b[1;31m# No tape is watching; skip to running the function.\u001b[0m\u001b[1;33m\u001b[0m\u001b[1;33m\u001b[0m\u001b[0m\n\u001b[1;32m-> 1853\u001b[1;33m       return self._build_call_outputs(self._inference_function.call(\n\u001b[0m\u001b[0;32m   1854\u001b[0m           ctx, args, cancellation_manager=cancellation_manager))\n\u001b[0;32m   1855\u001b[0m     forward_backward = self._select_forward_and_backward_functions(\n",
      "\u001b[1;32m~\\Anaconda3\\lib\\site-packages\\tensorflow\\python\\eager\\function.py\u001b[0m in \u001b[0;36mcall\u001b[1;34m(self, ctx, args, cancellation_manager)\u001b[0m\n\u001b[0;32m    497\u001b[0m       \u001b[1;32mwith\u001b[0m \u001b[0m_InterpolateFunctionError\u001b[0m\u001b[1;33m(\u001b[0m\u001b[0mself\u001b[0m\u001b[1;33m)\u001b[0m\u001b[1;33m:\u001b[0m\u001b[1;33m\u001b[0m\u001b[1;33m\u001b[0m\u001b[0m\n\u001b[0;32m    498\u001b[0m         \u001b[1;32mif\u001b[0m \u001b[0mcancellation_manager\u001b[0m \u001b[1;32mis\u001b[0m \u001b[1;32mNone\u001b[0m\u001b[1;33m:\u001b[0m\u001b[1;33m\u001b[0m\u001b[1;33m\u001b[0m\u001b[0m\n\u001b[1;32m--> 499\u001b[1;33m           outputs = execute.execute(\n\u001b[0m\u001b[0;32m    500\u001b[0m               \u001b[0mstr\u001b[0m\u001b[1;33m(\u001b[0m\u001b[0mself\u001b[0m\u001b[1;33m.\u001b[0m\u001b[0msignature\u001b[0m\u001b[1;33m.\u001b[0m\u001b[0mname\u001b[0m\u001b[1;33m)\u001b[0m\u001b[1;33m,\u001b[0m\u001b[1;33m\u001b[0m\u001b[1;33m\u001b[0m\u001b[0m\n\u001b[0;32m    501\u001b[0m               \u001b[0mnum_outputs\u001b[0m\u001b[1;33m=\u001b[0m\u001b[0mself\u001b[0m\u001b[1;33m.\u001b[0m\u001b[0m_num_outputs\u001b[0m\u001b[1;33m,\u001b[0m\u001b[1;33m\u001b[0m\u001b[1;33m\u001b[0m\u001b[0m\n",
      "\u001b[1;32m~\\Anaconda3\\lib\\site-packages\\tensorflow\\python\\eager\\execute.py\u001b[0m in \u001b[0;36mquick_execute\u001b[1;34m(op_name, num_outputs, inputs, attrs, ctx, name)\u001b[0m\n\u001b[0;32m     52\u001b[0m   \u001b[1;32mtry\u001b[0m\u001b[1;33m:\u001b[0m\u001b[1;33m\u001b[0m\u001b[1;33m\u001b[0m\u001b[0m\n\u001b[0;32m     53\u001b[0m     \u001b[0mctx\u001b[0m\u001b[1;33m.\u001b[0m\u001b[0mensure_initialized\u001b[0m\u001b[1;33m(\u001b[0m\u001b[1;33m)\u001b[0m\u001b[1;33m\u001b[0m\u001b[1;33m\u001b[0m\u001b[0m\n\u001b[1;32m---> 54\u001b[1;33m     tensors = pywrap_tfe.TFE_Py_Execute(ctx._handle, device_name, op_name,\n\u001b[0m\u001b[0;32m     55\u001b[0m                                         inputs, attrs, num_outputs)\n\u001b[0;32m     56\u001b[0m   \u001b[1;32mexcept\u001b[0m \u001b[0mcore\u001b[0m\u001b[1;33m.\u001b[0m\u001b[0m_NotOkStatusException\u001b[0m \u001b[1;32mas\u001b[0m \u001b[0me\u001b[0m\u001b[1;33m:\u001b[0m\u001b[1;33m\u001b[0m\u001b[1;33m\u001b[0m\u001b[0m\n",
      "\u001b[1;31mKeyboardInterrupt\u001b[0m: "
     ]
    }
   ],
   "source": [
    "hist = model.fit(train_generator, epochs=100, steps_per_epoch= train_generator.samples//train_generator.batch_size,\n",
    "                 validation_data=val_generator, validation_steps= val_generator.samples//val_generator.batch_size,\n",
    "                )"
   ]
  },
  {
   "cell_type": "code",
   "execution_count": null,
   "id": "065a4667",
   "metadata": {},
   "outputs": [],
   "source": [
    "# 전체데이터수(n) * epochs(전체데이터수를 몇번 훈련시킬지) = step_per_epoch * batch_size"
   ]
  },
  {
   "cell_type": "code",
   "execution_count": 12,
   "id": "8404b3b7",
   "metadata": {},
   "outputs": [
    {
     "data": {
      "text/plain": [
       "[<matplotlib.lines.Line2D at 0x1cfe01246a0>]"
      ]
     },
     "execution_count": 12,
     "metadata": {},
     "output_type": "execute_result"
    },
    {
     "data": {
      "image/png": "[encoded data removed]",
      "text/plain": [
       "<Figure size 432x288 with 1 Axes>"
      ]
     },
     "metadata": {
      "needs_background": "light"
     },
     "output_type": "display_data"
    }
   ],
   "source": [
    "plt.plot(hist.history['accuracy'])\n",
    "plt.plot(hist.history['val_accuracy'])"
   ]
  },
  {
   "cell_type": "code",
   "execution_count": 13,
   "id": "e9b1bcf7",
   "metadata": {},
   "outputs": [
    {
     "data": {
      "text/plain": [
       "[<matplotlib.lines.Line2D at 0x1cfe01ce640>]"
      ]
     },
     "execution_count": 13,
     "metadata": {},
     "output_type": "execute_result"
    },
    {
     "data": {
      "image/png": "[encoded data removed]",
      "text/plain": [
       "<Figure size 432x288 with 1 Axes>"
      ]
     },
     "metadata": {
      "needs_background": "light"
     },
     "output_type": "display_data"
    }
   ],
   "source": [
    "plt.plot(hist.history['loss']) \n",
    "plt.plot(hist.history['val_loss'])"
   ]
  },
  {
   "cell_type": "code",
   "execution_count": null,
   "id": "cc936b89",
   "metadata": {},
   "outputs": [],
   "source": []
  }
 ],
 "metadata": {
  "kernelspec": {
   "display_name": "Python 3 (ipykernel)",
   "language": "python",
   "name": "python3"
  },
  "language_info": {
   "codemirror_mode": {
    "name": "ipython",
    "version": 3
   },
   "file_extension": ".py",
   "mimetype": "text/x-python",
   "name": "python",
   "nbconvert_exporter": "python",
   "pygments_lexer": "ipython3",
   "version": "3.9.7"
  },
  "varInspector": {
   "cols": {
    "lenName": 16,
    "lenType": 16,
    "lenVar": 40
   },
   "kernels_config": {
    "python": {
     "delete_cmd_postfix": "",
     "delete_cmd_prefix": "del ",
     "library": "var_list.py",
     "varRefreshCmd": "print(var_dic_list())"
    },
    "r": {
     "delete_cmd_postfix": ") ",
     "delete_cmd_prefix": "rm(",
     "library": "var_list.r",
     "varRefreshCmd": "cat(var_dic_list()) "
    }
   },
   "types_to_exclude": [
    "module",
    "function",
    "builtin_function_or_method",
    "instance",
    "_Feature"
   ],
   "window_display": false
  }
 },
 "nbformat": 4,
 "nbformat_minor": 5
}
