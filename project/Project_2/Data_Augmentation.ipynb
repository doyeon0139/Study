{
 "cells": [
  {
   "cell_type": "code",
   "execution_count": 3,
   "id": "c0049a8f",
   "metadata": {},
   "outputs": [],
   "source": [
    "import pandas as pd\n",
    "import numpy as np\n",
    "import matplotlib.pyplot as plt\n",
    "import os\n",
    "\n",
    "import tensorflow as tf\n",
    "from tensorflow.keras.preprocessing import image\n",
    "\n",
    "import cv2\n",
    "import albumentations as A"
   ]
  },
  {
   "cell_type": "code",
   "execution_count": 4,
   "id": "c5470eca",
   "metadata": {},
   "outputs": [
    {
     "ename": "error",
     "evalue": "OpenCV(4.5.5) D:\\a\\opencv-python\\opencv-python\\opencv\\modules\\imgproc\\src\\color.cpp:182: error: (-215:Assertion failed) !_src.empty() in function 'cv::cvtColor'\n",
     "output_type": "error",
     "traceback": [
      "\u001b[1;31m---------------------------------------------------------------------------\u001b[0m",
      "\u001b[1;31merror\u001b[0m                                     Traceback (most recent call last)",
      "\u001b[1;32m~\\AppData\\Local\\Temp/ipykernel_2712/3948470101.py\u001b[0m in \u001b[0;36m<module>\u001b[1;34m\u001b[0m\n\u001b[0;32m     57\u001b[0m \u001b[1;31m# 파일 불러오기\u001b[0m\u001b[1;33m\u001b[0m\u001b[1;33m\u001b[0m\u001b[0m\n\u001b[0;32m     58\u001b[0m \u001b[0mdrink\u001b[0m \u001b[1;33m=\u001b[0m \u001b[0mcv2\u001b[0m\u001b[1;33m.\u001b[0m\u001b[0mimread\u001b[0m\u001b[1;33m(\u001b[0m\u001b[1;34m\"./image_test/pirate/pirate_38.jpg\"\u001b[0m\u001b[1;33m)\u001b[0m\u001b[1;33m\u001b[0m\u001b[1;33m\u001b[0m\u001b[0m\n\u001b[1;32m---> 59\u001b[1;33m \u001b[0mdrink\u001b[0m \u001b[1;33m=\u001b[0m \u001b[0mcv2\u001b[0m\u001b[1;33m.\u001b[0m\u001b[0mcvtColor\u001b[0m\u001b[1;33m(\u001b[0m\u001b[0mdrink\u001b[0m\u001b[1;33m,\u001b[0m \u001b[0mcv2\u001b[0m\u001b[1;33m.\u001b[0m\u001b[0mCOLOR_BGR2RGB\u001b[0m\u001b[1;33m)\u001b[0m\u001b[1;33m\u001b[0m\u001b[1;33m\u001b[0m\u001b[0m\n\u001b[0m\u001b[0;32m     60\u001b[0m \u001b[1;33m\u001b[0m\u001b[0m\n\u001b[0;32m     61\u001b[0m \u001b[1;31m# 함수 리스트\u001b[0m\u001b[1;33m\u001b[0m\u001b[1;33m\u001b[0m\u001b[0m\n",
      "\u001b[1;31merror\u001b[0m: OpenCV(4.5.5) D:\\a\\opencv-python\\opencv-python\\opencv\\modules\\imgproc\\src\\color.cpp:182: error: (-215:Assertion failed) !_src.empty() in function 'cv::cvtColor'\n"
     ]
    }
   ],
   "source": [
    "# 효과 함수화\n",
    "def glassblur(drink):\n",
    "    transform = A.GlassBlur(sigma=0.7, max_delta=4, iterations=2, always_apply=False, mode='fast', p=1) \n",
    "    glass_drink = transform(image=drink)['image']\n",
    "    return glass_drink\n",
    "\n",
    "def clahe(drink):\n",
    "    transform = A.CLAHE(clip_limit=4.0, tile_grid_size=(8, 8), always_apply=False, p=1) \n",
    "    clahe_drink = transform(image=drink)['image']\n",
    "    return clahe_drink\n",
    "\n",
    "def rd_gam(drink):\n",
    "    transform = A.RandomGamma(gamma_limit=(80, 120), eps=None, always_apply=False, p=1) \n",
    "    rd_gam_drink = transform(image=drink)['image']\n",
    "    return rd_gam_drink\n",
    "    \n",
    "def emboss(drink):\n",
    "    transform = A.Emboss(alpha=(0.2, 0.5), strength=(0.2, 0.7), always_apply=False, p=1) \n",
    "    emboss_drink = transform(image=drink)['image']\n",
    "    return emboss_drink\n",
    "\n",
    "def equalize(drink):\n",
    "    transform = A.Equalize(mode='cv', by_channels=True, mask=None, mask_params=(), always_apply=False, p=1) \n",
    "    equalize_drink = transform(image=drink)['image']\n",
    "    return equalize_drink\n",
    "\n",
    "def ison(drink):\n",
    "    transform = A.ISONoise(color_shift=(0.01, 0.05), intensity=(0.1, 0.5), always_apply=False, p=1) \n",
    "    ison_drink = transform(image=drink)['image']\n",
    "    return ison_drink\n",
    "\n",
    "def solar(drink):\n",
    "    transform = A.Solarize(threshold=128, always_apply=False, p=1) \n",
    "    solar_drink = transform(image=drink)['image']\n",
    "    return solar_drink\n",
    "\n",
    "def chandrop(drink):\n",
    "    transform = A.ChannelDropout(channel_drop_range=(1, 1), fill_value=0, always_apply=False, p=0.5) \n",
    "    chandrop_drink = transform(image=drink)['image']\n",
    "    return chandrop_drink\n",
    "\n",
    "def colji_a(drink):\n",
    "    transform = A.ColorJitter(brightness=0.3, contrast=0.5, saturation=0.2, hue=0.5, always_apply=False, p=1) \n",
    "    colji_a_drink = transform(image=drink)['image']\n",
    "    return colji_a_drink\n",
    "\n",
    "def colji_b(drink):\n",
    "    transform = A.ColorJitter(brightness=0.2, contrast=0.3, saturation=0.5, hue=0.1, always_apply=False, p=1) \n",
    "    colji_b_drink = transform(image=drink)['image']\n",
    "    return colji_b_drink\n",
    "\n",
    "def colji_c(drink):\n",
    "    transform = A.ColorJitter(brightness=0.5, contrast=0.2, saturation=0.1, hue=0.3, always_apply=False, p=1) \n",
    "    colji_c_drink = transform(image=drink)['image']\n",
    "    return colji_c_drink\n",
    "\n",
    "# 파일 불러오기\n",
    "drink = cv2.imread(\"./image_test/pirate/pirate_38.jpg\")\n",
    "drink = cv2.cvtColor(drink, cv2.COLOR_BGR2RGB)\n",
    "\n",
    "# 함수 리스트\n",
    "tit = [ glassblur, clahe, rd_gam, emboss, equalize, ison, solar, chandrop, colji_a, colji_b, colji_c ]\n",
    "\n",
    "tit_rotation = []\n",
    "\n",
    "# 각 효과당 3개씩 rotation\n",
    "for f in tit:\n",
    "    tiva = f(drink)\n",
    "    rotation=[]\n",
    "    for r in range(3):\n",
    "        transform = A.Rotate(limit=180, interpolation=1, border_mode=4, value=None, mask_value=None, always_apply=False, p=1)\n",
    "        rotate_drink = transform(image=tiva)['image']\n",
    "        rotation.append(rotate_drink)\n",
    "        \n",
    "    tit_rotation.append(rotation)\n",
    "    \n",
    "\n",
    "# 저장 및 시각화\n",
    "titls = [ 'glassblur', 'clahe', 'rd_gam', 'emboss', 'equalize', 'ison', 'solar', 'chandrop', 'colji_a', 'colji_b','colji_c' ]\n",
    "\n",
    "fig = plt.figure(figsize=(13,13)) \n",
    "a = 1\n",
    " \n",
    "for cc, aug in enumerate(tit_rotation):\n",
    "    for bb, rot in enumerate(aug):\n",
    "        ax = fig.add_subplot(11, 3, a)\n",
    "        ax.imshow(rot)\n",
    "        \n",
    "        path = './image_test/'\n",
    "        rgb_rotation = cv2.cvtColor(rot, cv2.COLOR_RGB2BGR) \n",
    "        cv2.imwrite(path+titls[cc]+str(bb)+'.jpg', rgb_rotation)\n",
    "\n",
    "        a+=1\n",
    "    \n",
    "plt.show()"
   ]
  },
  {
   "cell_type": "code",
   "execution_count": null,
   "id": "c14be151",
   "metadata": {},
   "outputs": [],
   "source": []
  }
 ],
 "metadata": {
  "kernelspec": {
   "display_name": "Python 3 (ipykernel)",
   "language": "python",
   "name": "python3"
  },
  "language_info": {
   "codemirror_mode": {
    "name": "ipython",
    "version": 3
   },
   "file_extension": ".py",
   "mimetype": "text/x-python",
   "name": "python",
   "nbconvert_exporter": "python",
   "pygments_lexer": "ipython3",
   "version": "3.9.7"
  },
  "varInspector": {
   "cols": {
    "lenName": 16,
    "lenType": 16,
    "lenVar": 40
   },
   "kernels_config": {
    "python": {
     "delete_cmd_postfix": "",
     "delete_cmd_prefix": "del ",
     "library": "var_list.py",
     "varRefreshCmd": "print(var_dic_list())"
    },
    "r": {
     "delete_cmd_postfix": ") ",
     "delete_cmd_prefix": "rm(",
     "library": "var_list.r",
     "varRefreshCmd": "cat(var_dic_list()) "
    }
   },
   "types_to_exclude": [
    "module",
    "function",
    "builtin_function_or_method",
    "instance",
    "_Feature"
   ],
   "window_display": false
  }
 },
 "nbformat": 4,
 "nbformat_minor": 5
}
