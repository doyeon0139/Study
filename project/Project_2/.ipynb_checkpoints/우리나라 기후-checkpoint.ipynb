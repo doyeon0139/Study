{
 "cells": [
  {
   "cell_type": "code",
   "execution_count": 1,
   "id": "d27ae6c3",
   "metadata": {},
   "outputs": [],
   "source": [
    "import pandas as pd\n",
    "import numpy as np\n",
    "import warnings\n",
    "warnings.filterwarnings('ignore')"
   ]
  },
  {
   "cell_type": "code",
   "execution_count": 6,
   "id": "eb60bb15",
   "metadata": {},
   "outputs": [
    {
     "data": {
      "text/html": [
       "<div>\n",
       "<style scoped>\n",
       "    .dataframe tbody tr th:only-of-type {\n",
       "        vertical-align: middle;\n",
       "    }\n",
       "\n",
       "    .dataframe tbody tr th {\n",
       "        vertical-align: top;\n",
       "    }\n",
       "\n",
       "    .dataframe thead th {\n",
       "        text-align: right;\n",
       "    }\n",
       "</style>\n",
       "<table border=\"1\" class=\"dataframe\">\n",
       "  <thead>\n",
       "    <tr style=\"text-align: right;\">\n",
       "      <th></th>\n",
       "      <th>Unnamed: 0</th>\n",
       "      <th>지점 번호</th>\n",
       "      <th>관측지점</th>\n",
       "      <th>시간</th>\n",
       "      <th>평균 기온</th>\n",
       "      <th>최저 기온</th>\n",
       "      <th>최저 기온 시각</th>\n",
       "      <th>최고 기온</th>\n",
       "      <th>최대 기온 시각</th>\n",
       "      <th>10분 최다 강수량</th>\n",
       "      <th>...</th>\n",
       "      <th>0.5m 지중온도</th>\n",
       "      <th>1.0m 지중온도</th>\n",
       "      <th>1.5m 지중온도</th>\n",
       "      <th>3.0m 지중온도</th>\n",
       "      <th>5.0m 지중온도</th>\n",
       "      <th>합계 대형증발량</th>\n",
       "      <th>합계 소형증발량</th>\n",
       "      <th>9-9강수</th>\n",
       "      <th>일기현상</th>\n",
       "      <th>안개 계속 시간</th>\n",
       "    </tr>\n",
       "  </thead>\n",
       "  <tbody>\n",
       "    <tr>\n",
       "      <th>0</th>\n",
       "      <td>0</td>\n",
       "      <td>105</td>\n",
       "      <td>강릉</td>\n",
       "      <td>1980-01-01</td>\n",
       "      <td>3.0</td>\n",
       "      <td>-0.4</td>\n",
       "      <td>714</td>\n",
       "      <td>7.0</td>\n",
       "      <td>1549.0</td>\n",
       "      <td>NaN</td>\n",
       "      <td>...</td>\n",
       "      <td>6.1</td>\n",
       "      <td>9.1</td>\n",
       "      <td>11.4</td>\n",
       "      <td>15.0</td>\n",
       "      <td>15.4</td>\n",
       "      <td>NaN</td>\n",
       "      <td>0.9</td>\n",
       "      <td>2.6</td>\n",
       "      <td>{비}2218-{비}{강도0}2400-</td>\n",
       "      <td>NaN</td>\n",
       "    </tr>\n",
       "    <tr>\n",
       "      <th>1</th>\n",
       "      <td>1</td>\n",
       "      <td>105</td>\n",
       "      <td>강릉</td>\n",
       "      <td>1980-01-02</td>\n",
       "      <td>6.0</td>\n",
       "      <td>3.5</td>\n",
       "      <td>207</td>\n",
       "      <td>8.4</td>\n",
       "      <td>1500.0</td>\n",
       "      <td>NaN</td>\n",
       "      <td>...</td>\n",
       "      <td>6.7</td>\n",
       "      <td>9.0</td>\n",
       "      <td>11.1</td>\n",
       "      <td>14.8</td>\n",
       "      <td>15.5</td>\n",
       "      <td>NaN</td>\n",
       "      <td>1.5</td>\n",
       "      <td>1.4</td>\n",
       "      <td>-{비}-{비}{강도0}0300-{비}{강도0}0600-{비}{강도0}0900-{비...</td>\n",
       "      <td>NaN</td>\n",
       "    </tr>\n",
       "  </tbody>\n",
       "</table>\n",
       "<p>2 rows × 63 columns</p>\n",
       "</div>"
      ],
      "text/plain": [
       "   Unnamed: 0  지점 번호 관측지점          시간  평균 기온  최저 기온  최저 기온 시각  최고 기온  \\\n",
       "0           0    105   강릉  1980-01-01    3.0   -0.4       714    7.0   \n",
       "1           1    105   강릉  1980-01-02    6.0    3.5       207    8.4   \n",
       "\n",
       "   최대 기온 시각  10분 최다 강수량  ...  0.5m 지중온도  1.0m 지중온도  1.5m 지중온도  3.0m 지중온도  \\\n",
       "0    1549.0         NaN  ...        6.1        9.1       11.4       15.0   \n",
       "1    1500.0         NaN  ...        6.7        9.0       11.1       14.8   \n",
       "\n",
       "   5.0m 지중온도  합계 대형증발량  합계 소형증발량  9-9강수  \\\n",
       "0       15.4       NaN       0.9    2.6   \n",
       "1       15.5       NaN       1.5    1.4   \n",
       "\n",
       "                                                일기현상  안개 계속 시간  \n",
       "0                              {비}2218-{비}{강도0}2400-       NaN  \n",
       "1  -{비}-{비}{강도0}0300-{비}{강도0}0600-{비}{강도0}0900-{비...       NaN  \n",
       "\n",
       "[2 rows x 63 columns]"
      ]
     },
     "execution_count": 6,
     "metadata": {},
     "output_type": "execute_result"
    }
   ],
   "source": [
    "df = pd.read_csv('./기상청ASOS관측.csv', engine='python')\n",
    "df.head(2)"
   ]
  },
  {
   "cell_type": "code",
   "execution_count": 7,
   "id": "f445cf6f",
   "metadata": {},
   "outputs": [
    {
     "data": {
      "text/plain": [
       "Index(['Unnamed: 0', '지점 번호', '관측지점', '시간', '평균 기온', '최저 기온', '최저 기온 시각',\n",
       "       '최고 기온', '최대 기온 시각', '10분 최다 강수량', '10분 최다강수량 시각', '1시간 최다강수량',\n",
       "       '1시간 최다 강수량 시각', 'sumRnDur', '일강수량', '최대 순간풍속', '최대 순간 풍속 풍향',\n",
       "       '최대 순간풍속 시간', '최대 풍속', '최대 풍속 풍향', '최대 풍속 시각', '평균 풍속', '풍정합', '최대 풍향',\n",
       "       '평균 이슬점온도', '최소 상대습도', '평균 상대습도 시각', '평균 상대습도', '평균 증기압', '평균 현지기압',\n",
       "       '최고 해면 기압', '최고 해면기압 시각', '최저 해면기압', '최저 해면기압 시각', '평균 해면기압', '가조시간',\n",
       "       '합계 일조 시간', '1시간 최다 일사량 시각', '1시간 최다 일사량', '합계 일사', '일 최심신적설',\n",
       "       '일 최심신적설 시각', '일 최심적설', '일 최심적설 시각', '합계 3시간 신적설', '평균 전운량', '평균 중하층운량',\n",
       "       '평균 지면온도', '최저 초상온도', '평균 5cm 지중온도', '평균10cm 지중온도', '평균 20cm 지중온도',\n",
       "       '평균 30cm 지중온도', '0.5m 지중온도', '1.0m 지중온도', '1.5m 지중온도', '3.0m 지중온도',\n",
       "       '5.0m 지중온도', '합계 대형증발량', '합계 소형증발량', '9-9강수', '일기현상', '안개 계속 시간'],\n",
       "      dtype='object')"
      ]
     },
     "execution_count": 7,
     "metadata": {},
     "output_type": "execute_result"
    }
   ],
   "source": [
    "df.columns"
   ]
  },
  {
   "cell_type": "code",
   "execution_count": 10,
   "id": "55ed4103",
   "metadata": {},
   "outputs": [
    {
     "data": {
      "text/plain": [
       "array([  0.4,   3.6,   nan, ..., 146.2, 155.3, 155. ])"
      ]
     },
     "execution_count": 10,
     "metadata": {},
     "output_type": "execute_result"
    }
   ],
   "source": [
    "df['일강수량'].unique()"
   ]
  },
  {
   "cell_type": "code",
   "execution_count": null,
   "id": "bef10fe3",
   "metadata": {},
   "outputs": [],
   "source": []
  },
  {
   "cell_type": "code",
   "execution_count": null,
   "id": "badd248a",
   "metadata": {},
   "outputs": [],
   "source": []
  },
  {
   "cell_type": "code",
   "execution_count": null,
   "id": "31f22bba",
   "metadata": {},
   "outputs": [],
   "source": []
  },
  {
   "cell_type": "code",
   "execution_count": null,
   "id": "d3cabdb3",
   "metadata": {},
   "outputs": [],
   "source": []
  },
  {
   "cell_type": "code",
   "execution_count": null,
   "id": "6692a7f4",
   "metadata": {},
   "outputs": [],
   "source": []
  },
  {
   "cell_type": "code",
   "execution_count": null,
   "id": "74beb693",
   "metadata": {},
   "outputs": [],
   "source": []
  },
  {
   "cell_type": "code",
   "execution_count": null,
   "id": "7ee81ef1",
   "metadata": {},
   "outputs": [],
   "source": []
  },
  {
   "cell_type": "code",
   "execution_count": null,
   "id": "866157fa",
   "metadata": {},
   "outputs": [],
   "source": []
  },
  {
   "cell_type": "code",
   "execution_count": null,
   "id": "6344d807",
   "metadata": {},
   "outputs": [],
   "source": []
  },
  {
   "cell_type": "code",
   "execution_count": null,
   "id": "9848c829",
   "metadata": {},
   "outputs": [],
   "source": []
  },
  {
   "cell_type": "code",
   "execution_count": null,
   "id": "cb769984",
   "metadata": {},
   "outputs": [],
   "source": []
  },
  {
   "cell_type": "code",
   "execution_count": null,
   "id": "6d915885",
   "metadata": {},
   "outputs": [],
   "source": []
  },
  {
   "cell_type": "code",
   "execution_count": null,
   "id": "b6123fc9",
   "metadata": {},
   "outputs": [],
   "source": []
  },
  {
   "cell_type": "code",
   "execution_count": null,
   "id": "efb55d26",
   "metadata": {},
   "outputs": [],
   "source": []
  },
  {
   "cell_type": "code",
   "execution_count": null,
   "id": "05412c18",
   "metadata": {},
   "outputs": [],
   "source": []
  },
  {
   "cell_type": "code",
   "execution_count": null,
   "id": "a69a43e5",
   "metadata": {},
   "outputs": [],
   "source": []
  },
  {
   "cell_type": "code",
   "execution_count": null,
   "id": "75dd141c",
   "metadata": {},
   "outputs": [],
   "source": []
  },
  {
   "cell_type": "code",
   "execution_count": null,
   "id": "1fa78c90",
   "metadata": {},
   "outputs": [],
   "source": []
  },
  {
   "cell_type": "code",
   "execution_count": null,
   "id": "630c3876",
   "metadata": {},
   "outputs": [],
   "source": []
  },
  {
   "cell_type": "code",
   "execution_count": null,
   "id": "db90d093",
   "metadata": {},
   "outputs": [],
   "source": []
  },
  {
   "cell_type": "code",
   "execution_count": null,
   "id": "162a2e42",
   "metadata": {},
   "outputs": [],
   "source": []
  },
  {
   "cell_type": "code",
   "execution_count": null,
   "id": "5530d488",
   "metadata": {},
   "outputs": [],
   "source": []
  },
  {
   "cell_type": "code",
   "execution_count": null,
   "id": "35eb69b6",
   "metadata": {},
   "outputs": [],
   "source": []
  },
  {
   "cell_type": "code",
   "execution_count": null,
   "id": "210958cc",
   "metadata": {},
   "outputs": [],
   "source": []
  },
  {
   "cell_type": "code",
   "execution_count": null,
   "id": "21e89235",
   "metadata": {},
   "outputs": [],
   "source": []
  },
  {
   "cell_type": "code",
   "execution_count": null,
   "id": "1139a55a",
   "metadata": {},
   "outputs": [],
   "source": []
  },
  {
   "cell_type": "code",
   "execution_count": null,
   "id": "0456465d",
   "metadata": {},
   "outputs": [],
   "source": []
  },
  {
   "cell_type": "code",
   "execution_count": null,
   "id": "8117385d",
   "metadata": {},
   "outputs": [],
   "source": []
  }
 ],
 "metadata": {
  "kernelspec": {
   "display_name": "Python 3 (ipykernel)",
   "language": "python",
   "name": "python3"
  },
  "language_info": {
   "codemirror_mode": {
    "name": "ipython",
    "version": 3
   },
   "file_extension": ".py",
   "mimetype": "text/x-python",
   "name": "python",
   "nbconvert_exporter": "python",
   "pygments_lexer": "ipython3",
   "version": "3.9.7"
  },
  "varInspector": {
   "cols": {
    "lenName": 16,
    "lenType": 16,
    "lenVar": 40
   },
   "kernels_config": {
    "python": {
     "delete_cmd_postfix": "",
     "delete_cmd_prefix": "del ",
     "library": "var_list.py",
     "varRefreshCmd": "print(var_dic_list())"
    },
    "r": {
     "delete_cmd_postfix": ") ",
     "delete_cmd_prefix": "rm(",
     "library": "var_list.r",
     "varRefreshCmd": "cat(var_dic_list()) "
    }
   },
   "types_to_exclude": [
    "module",
    "function",
    "builtin_function_or_method",
    "instance",
    "_Feature"
   ],
   "window_display": false
  }
 },
 "nbformat": 4,
 "nbformat_minor": 5
}
