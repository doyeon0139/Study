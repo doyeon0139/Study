{
 "cells": [
  {
   "cell_type": "code",
   "execution_count": 2,
   "id": "8f174fdc",
   "metadata": {},
   "outputs": [],
   "source": [
    "import pandas as pd\n",
    "import numpy as np\n",
    "import warnings\n",
    "warnings.filterwarnings('ignore')\n",
    "import math"
   ]
  },
  {
   "cell_type": "code",
   "execution_count": 4,
   "id": "505a5aa5",
   "metadata": {},
   "outputs": [
    {
     "data": {
      "text/plain": [
       "9745"
      ]
     },
     "execution_count": 4,
     "metadata": {},
     "output_type": "execute_result"
    }
   ],
   "source": [
    "def wind_direct(s):\n",
    "    if s.value_counts().head(1).index == 99:\n",
    "        return 99\n",
    "    else:\n",
    "        return s[s.values != 99].mean()\n",
    "    \n",
    "\n",
    "df = pd.read_csv('./북한 기후 시간단위/북한 1996(시간).csv', encoding='euckr')\n",
    "df.head(2)\n",
    "\n",
    "df.rename(columns={'지점':'지점번호'}, inplace=True)\n",
    "df.rename(columns={'풍향(36방위)':'풍향'}, inplace=True)\n",
    "\n",
    "df['일시'] = df['일시'].apply(lambda x:x.split()[0])\n",
    "\n",
    "df['풍향'].fillna(99,inplace=True)\n",
    "df['풍향'] = df['풍향'].apply(lambda x : 99 if x > 36 else x)\n",
    "\n",
    "df['x_axis'] = df['풍향'].apply(lambda x: math.sin(math.radians(x*10)) if 0<x<37 else x)\n",
    "df['y_axis'] = df['풍향'].apply(lambda x: math.cos(math.radians(x*10)) if 0<x<37 else x)\n",
    "\n",
    "tdf = df.groupby(['지점번호','일시'])['x_axis', 'y_axis'].agg(wind_direct).reset_index()\n",
    "\n",
    "len(tdf)"
   ]
  },
  {
   "cell_type": "code",
   "execution_count": 7,
   "id": "b64045d0",
   "metadata": {},
   "outputs": [
    {
     "data": {
      "text/plain": [
       "9107"
      ]
     },
     "execution_count": 7,
     "metadata": {},
     "output_type": "execute_result"
    }
   ],
   "source": [
    "def wind_direct(s):\n",
    "    if s.value_counts().head(1).index == 99:\n",
    "        return 99\n",
    "    else:\n",
    "        return s[s.values != 99].mean()\n",
    "\n",
    "\n",
    "\n",
    "df = pd.read_csv('./러일중 1996~현재 기후(시간단위)/러일중 1996(시간).csv', encoding='euckr')\n",
    "df_n = pd.read_csv('./북한 기후 시간단위/북한 1996(시간).csv', encoding='euckr')\n",
    "\n",
    "\n",
    "df_n.rename(columns={'지점':'지점명'}, inplace=True)\n",
    "df_n.rename(columns={'풍향(36방위)':'풍향'}, inplace=True)\n",
    "\n",
    "\n",
    "\n",
    "df_n['일시'] = df['일시'].apply(lambda x:x.split()[0])\n",
    "\n",
    "\n",
    "\n",
    "df_n['풍향'].fillna(99,inplace=True)\n",
    "df_n['풍향'] = df_n['풍향'].apply(lambda x : 99 if x > 36 else x)\n",
    "\n",
    "\n",
    "\n",
    "df_n['x_axis_n'] = df_n['풍향'].apply(lambda x: math.sin(math.radians(x*10)) if 0<x<37 else x)\n",
    "df_n['y_axis_n'] = df_n['풍향'].apply(lambda x: math.cos(math.radians(x*10)) if 0<x<37 else x)\n",
    "\n",
    "\n",
    "tdf_n = df_n.groupby(['지점명','일시'])['x_axis_n', 'y_axis_n'].agg(wind_direct).reset_index()\n",
    "\n",
    "len(tdf_n)"
   ]
  },
  {
   "cell_type": "code",
   "execution_count": null,
   "id": "90e44003",
   "metadata": {},
   "outputs": [],
   "source": []
  },
  {
   "cell_type": "code",
   "execution_count": null,
   "id": "f0babde2",
   "metadata": {},
   "outputs": [],
   "source": []
  },
  {
   "cell_type": "code",
   "execution_count": null,
   "id": "dfd85793",
   "metadata": {},
   "outputs": [],
   "source": []
  },
  {
   "cell_type": "code",
   "execution_count": null,
   "id": "ec801477",
   "metadata": {},
   "outputs": [],
   "source": []
  },
  {
   "cell_type": "code",
   "execution_count": null,
   "id": "1da5c25a",
   "metadata": {},
   "outputs": [],
   "source": []
  },
  {
   "cell_type": "code",
   "execution_count": null,
   "id": "f19805c2",
   "metadata": {},
   "outputs": [],
   "source": []
  },
  {
   "cell_type": "code",
   "execution_count": null,
   "id": "07b5e951",
   "metadata": {},
   "outputs": [],
   "source": []
  },
  {
   "cell_type": "code",
   "execution_count": null,
   "id": "d908f4a9",
   "metadata": {},
   "outputs": [],
   "source": []
  },
  {
   "cell_type": "code",
   "execution_count": null,
   "id": "31aa6bdf",
   "metadata": {},
   "outputs": [],
   "source": []
  },
  {
   "cell_type": "code",
   "execution_count": null,
   "id": "41a1d23a",
   "metadata": {},
   "outputs": [],
   "source": []
  },
  {
   "cell_type": "code",
   "execution_count": null,
   "id": "6ac9db9a",
   "metadata": {},
   "outputs": [],
   "source": []
  },
  {
   "cell_type": "code",
   "execution_count": null,
   "id": "ef054c4c",
   "metadata": {},
   "outputs": [],
   "source": []
  },
  {
   "cell_type": "code",
   "execution_count": null,
   "id": "e32f7123",
   "metadata": {},
   "outputs": [],
   "source": []
  },
  {
   "cell_type": "code",
   "execution_count": null,
   "id": "4c79cab5",
   "metadata": {},
   "outputs": [],
   "source": []
  },
  {
   "cell_type": "code",
   "execution_count": null,
   "id": "a6a28be8",
   "metadata": {},
   "outputs": [],
   "source": []
  },
  {
   "cell_type": "code",
   "execution_count": null,
   "id": "f2c94f3b",
   "metadata": {},
   "outputs": [],
   "source": []
  },
  {
   "cell_type": "code",
   "execution_count": null,
   "id": "4c3c966d",
   "metadata": {},
   "outputs": [],
   "source": []
  },
  {
   "cell_type": "code",
   "execution_count": null,
   "id": "13c23b27",
   "metadata": {},
   "outputs": [],
   "source": []
  },
  {
   "cell_type": "code",
   "execution_count": null,
   "id": "3977af4c",
   "metadata": {},
   "outputs": [],
   "source": []
  },
  {
   "cell_type": "code",
   "execution_count": null,
   "id": "9feec169",
   "metadata": {},
   "outputs": [],
   "source": []
  },
  {
   "cell_type": "code",
   "execution_count": null,
   "id": "474d671d",
   "metadata": {},
   "outputs": [],
   "source": []
  }
 ],
 "metadata": {
  "kernelspec": {
   "display_name": "Python 3 (ipykernel)",
   "language": "python",
   "name": "python3"
  },
  "language_info": {
   "codemirror_mode": {
    "name": "ipython",
    "version": 3
   },
   "file_extension": ".py",
   "mimetype": "text/x-python",
   "name": "python",
   "nbconvert_exporter": "python",
   "pygments_lexer": "ipython3",
   "version": "3.9.7"
  },
  "varInspector": {
   "cols": {
    "lenName": 16,
    "lenType": 16,
    "lenVar": 40
   },
   "kernels_config": {
    "python": {
     "delete_cmd_postfix": "",
     "delete_cmd_prefix": "del ",
     "library": "var_list.py",
     "varRefreshCmd": "print(var_dic_list())"
    },
    "r": {
     "delete_cmd_postfix": ") ",
     "delete_cmd_prefix": "rm(",
     "library": "var_list.r",
     "varRefreshCmd": "cat(var_dic_list()) "
    }
   },
   "types_to_exclude": [
    "module",
    "function",
    "builtin_function_or_method",
    "instance",
    "_Feature"
   ],
   "window_display": false
  }
 },
 "nbformat": 4,
 "nbformat_minor": 5
}
