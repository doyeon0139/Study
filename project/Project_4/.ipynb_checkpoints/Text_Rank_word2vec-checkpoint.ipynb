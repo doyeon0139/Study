{
 "cells": [
  {
   "cell_type": "code",
   "execution_count": 23,
   "id": "df5f4b60",
   "metadata": {},
   "outputs": [],
   "source": [
    "import numpy as np\n",
    "import gensim\n",
    "from urllib.request import urlretrieve, urlopen\n",
    "import gzip\n",
    "import zipfile\n",
    "\n",
    "import numpy as np\n",
    "import re\n",
    "import pandas as pd\n",
    "import matplotlib.pyplot as plt\n",
    "from nltk.tokenize import sent_tokenize, word_tokenize\n",
    "from nltk.corpus import stopwords\n",
    "from urllib.request import urlretrieve\n",
    "import zipfile\n",
    "from sklearn.metrics.pairwise import cosine_similarity\n",
    "import networkx as nx\n",
    "from gensim.models import KeyedVectors"
   ]
  },
  {
   "cell_type": "code",
   "execution_count": 14,
   "id": "105d92df",
   "metadata": {},
   "outputs": [
    {
     "data": {
      "text/plain": [
       "('GoogleNews-vectors-negative300.bin',\n",
       " <http.client.HTTPMessage at 0x16f3bb59608>)"
      ]
     },
     "execution_count": 14,
     "metadata": {},
     "output_type": "execute_result"
    }
   ],
   "source": [
    "# 300차원의 Word2Vec 벡터 사용\n",
    "urlretrieve(\"https://drive.google.com/file/d/0B7XkCwpI5KDYNlNUTTlSS21pQmM/edit\", \\\n",
    "                           filename=\"GoogleNews-vectors-negative300.bin\")"
   ]
  },
  {
   "cell_type": "code",
   "execution_count": 24,
   "id": "0176a8f2",
   "metadata": {},
   "outputs": [],
   "source": [
    "import gensim.downloader as api\n",
    "path = api.load('word2vec-google-news-300', return_path=True)\n",
    "w2v_model = KeyedVectors.load_word2vec_format(path, binary=True)"
   ]
  },
  {
   "cell_type": "code",
   "execution_count": 66,
   "id": "e42c5488",
   "metadata": {},
   "outputs": [],
   "source": [
    "embedding_dim = 300\n",
    "zero_vector = np.zeros(embedding_dim)\n",
    "\n",
    "# 단어 벡터의 평균으로부터 문장 벡터를 얻는다.\n",
    "def calculate_sentence_vector(sentence):\n",
    "    return sum([w2v_model.get_vector(word) for word in sentence])/len(sentence)"
   ]
  },
  {
   "cell_type": "code",
   "execution_count": 67,
   "id": "298a74fe",
   "metadata": {},
   "outputs": [
    {
     "name": "stdout",
     "output_type": "stream",
     "text": [
      "300\n"
     ]
    }
   ],
   "source": [
    "eng_sent = ['I', 'am', 'an', 'student']\n",
    "sentence_vector = calculate_sentence_vector(eng_sent)\n",
    "print(len(sentence_vector))"
   ]
  },
  {
   "cell_type": "code",
   "execution_count": 69,
   "id": "348f0333",
   "metadata": {},
   "outputs": [
    {
     "data": {
      "text/plain": [
       "300"
      ]
     },
     "execution_count": 69,
     "metadata": {},
     "output_type": "execute_result"
    }
   ],
   "source": [
    "len(w2v_model.get_vector('cat'))"
   ]
  },
  {
   "cell_type": "code",
   "execution_count": 70,
   "id": "fec0fa62",
   "metadata": {},
   "outputs": [],
   "source": [
    "stop_words = stopwords.words('english')"
   ]
  },
  {
   "cell_type": "code",
   "execution_count": 73,
   "id": "5259b70c",
   "metadata": {},
   "outputs": [
    {
     "data": {
      "text/html": [
       "<div>\n",
       "<style scoped>\n",
       "    .dataframe tbody tr th:only-of-type {\n",
       "        vertical-align: middle;\n",
       "    }\n",
       "\n",
       "    .dataframe tbody tr th {\n",
       "        vertical-align: top;\n",
       "    }\n",
       "\n",
       "    .dataframe thead th {\n",
       "        text-align: right;\n",
       "    }\n",
       "</style>\n",
       "<table border=\"1\" class=\"dataframe\">\n",
       "  <thead>\n",
       "    <tr style=\"text-align: right;\">\n",
       "      <th></th>\n",
       "      <th>company</th>\n",
       "      <th>date</th>\n",
       "      <th>title</th>\n",
       "      <th>content</th>\n",
       "    </tr>\n",
       "  </thead>\n",
       "  <tbody>\n",
       "    <tr>\n",
       "      <th>0</th>\n",
       "      <td>By Reuters</td>\n",
       "      <td>&lt;span&gt;Aug 19, 2018 03:08PM ET&lt;/span&gt;</td>\n",
       "      <td>With recession looming, Argentina's Macri lack...</td>\n",
       "      <td>By Hugh Bronstein\\nBUENOS AIRES (Reuters) - Wi...</td>\n",
       "    </tr>\n",
       "    <tr>\n",
       "      <th>1</th>\n",
       "      <td>By Reuters</td>\n",
       "      <td>&lt;span&gt;Aug 19, 2018 02:20PM ET&lt;/span&gt;</td>\n",
       "      <td>Greece under tight watch post-bailout, can be ...</td>\n",
       "      <td>By George Georgiopoulos\\nATHENS (Reuters) - Gr...</td>\n",
       "    </tr>\n",
       "    <tr>\n",
       "      <th>2</th>\n",
       "      <td>By Bloomberg</td>\n",
       "      <td>&lt;span&gt;Aug 19, 2018 06:50AM ET&lt;/span&gt;</td>\n",
       "      <td>Trade War Won’t Dent China’s GDP</td>\n",
       "      <td>(Bloomberg Opinion) -- Analysts are trying urg...</td>\n",
       "    </tr>\n",
       "    <tr>\n",
       "      <th>3</th>\n",
       "      <td>By Investing.com</td>\n",
       "      <td>&lt;span&gt;Aug 19, 2018 05:57AM ET&lt;/span&gt;</td>\n",
       "      <td>Economic Calendar - Top 5 Things To Watch This...</td>\n",
       "      <td>Investing.com - Trade talks between the United...</td>\n",
       "    </tr>\n",
       "    <tr>\n",
       "      <th>4</th>\n",
       "      <td>By Bloomberg</td>\n",
       "      <td>&lt;span&gt;Aug 19, 2018 04:30AM ET&lt;/span&gt;</td>\n",
       "      <td>Tariffs Will Hurt U.S. More Than Rest of World...</td>\n",
       "      <td>(Bloomberg) -- The U.S. economy will be hit ma...</td>\n",
       "    </tr>\n",
       "    <tr>\n",
       "      <th>...</th>\n",
       "      <td>...</td>\n",
       "      <td>...</td>\n",
       "      <td>...</td>\n",
       "      <td>...</td>\n",
       "    </tr>\n",
       "    <tr>\n",
       "      <th>876</th>\n",
       "      <td>By Reuters</td>\n",
       "      <td>&lt;span&gt;Jul 10, 2018 04:53AM ET&lt;/span&gt;</td>\n",
       "      <td>China raises tariff rates for some U.S. optica...</td>\n",
       "      <td>BEIJING (Reuters) - China's commerce ministry ...</td>\n",
       "    </tr>\n",
       "    <tr>\n",
       "      <th>877</th>\n",
       "      <td>By Reuters</td>\n",
       "      <td>&lt;span&gt;Jul 10, 2018 04:50AM ET&lt;/span&gt;</td>\n",
       "      <td>Cuba to prune back private sector as new rules...</td>\n",
       "      <td>HAVANA (Reuters) - Cuba will restrict business...</td>\n",
       "    </tr>\n",
       "    <tr>\n",
       "      <th>878</th>\n",
       "      <td>By Reuters</td>\n",
       "      <td>&lt;span&gt;Jul 10, 2018 03:31AM ET&lt;/span&gt;</td>\n",
       "      <td>Switzerland launches WTO action over U.S. stee...</td>\n",
       "      <td>GENEVA (Reuters) - Switzerland has launched a ...</td>\n",
       "    </tr>\n",
       "    <tr>\n",
       "      <th>879</th>\n",
       "      <td>By Reuters</td>\n",
       "      <td>&lt;span&gt;Jul 10, 2018 02:50AM ET&lt;/span&gt;</td>\n",
       "      <td>Europe needs pan-European banks: JPMorgan's Di...</td>\n",
       "      <td>MILAN (Reuters) - Europe needs larger, stronge...</td>\n",
       "    </tr>\n",
       "    <tr>\n",
       "      <th>880</th>\n",
       "      <td>By Reuters</td>\n",
       "      <td>&lt;span&gt;Jul 10, 2018 02:10AM ET&lt;/span&gt;</td>\n",
       "      <td>Amid 'Jacindamania,' New Zealand businesses' p...</td>\n",
       "      <td>By Charlotte Greenfield\\nWELLINGTON (Reuters) ...</td>\n",
       "    </tr>\n",
       "  </tbody>\n",
       "</table>\n",
       "<p>881 rows × 4 columns</p>\n",
       "</div>"
      ],
      "text/plain": [
       "              company                                  date  \\\n",
       "0          By Reuters  <span>Aug 19, 2018 03:08PM ET</span>   \n",
       "1          By Reuters  <span>Aug 19, 2018 02:20PM ET</span>   \n",
       "2        By Bloomberg  <span>Aug 19, 2018 06:50AM ET</span>   \n",
       "3    By Investing.com  <span>Aug 19, 2018 05:57AM ET</span>   \n",
       "4        By Bloomberg  <span>Aug 19, 2018 04:30AM ET</span>   \n",
       "..                ...                                   ...   \n",
       "876        By Reuters  <span>Jul 10, 2018 04:53AM ET</span>   \n",
       "877        By Reuters  <span>Jul 10, 2018 04:50AM ET</span>   \n",
       "878        By Reuters  <span>Jul 10, 2018 03:31AM ET</span>   \n",
       "879        By Reuters  <span>Jul 10, 2018 02:50AM ET</span>   \n",
       "880        By Reuters  <span>Jul 10, 2018 02:10AM ET</span>   \n",
       "\n",
       "                                                 title  \\\n",
       "0    With recession looming, Argentina's Macri lack...   \n",
       "1    Greece under tight watch post-bailout, can be ...   \n",
       "2                     Trade War Won’t Dent China’s GDP   \n",
       "3    Economic Calendar - Top 5 Things To Watch This...   \n",
       "4    Tariffs Will Hurt U.S. More Than Rest of World...   \n",
       "..                                                 ...   \n",
       "876  China raises tariff rates for some U.S. optica...   \n",
       "877  Cuba to prune back private sector as new rules...   \n",
       "878  Switzerland launches WTO action over U.S. stee...   \n",
       "879  Europe needs pan-European banks: JPMorgan's Di...   \n",
       "880  Amid 'Jacindamania,' New Zealand businesses' p...   \n",
       "\n",
       "                                               content  \n",
       "0    By Hugh Bronstein\\nBUENOS AIRES (Reuters) - Wi...  \n",
       "1    By George Georgiopoulos\\nATHENS (Reuters) - Gr...  \n",
       "2    (Bloomberg Opinion) -- Analysts are trying urg...  \n",
       "3    Investing.com - Trade talks between the United...  \n",
       "4    (Bloomberg) -- The U.S. economy will be hit ma...  \n",
       "..                                                 ...  \n",
       "876  BEIJING (Reuters) - China's commerce ministry ...  \n",
       "877  HAVANA (Reuters) - Cuba will restrict business...  \n",
       "878  GENEVA (Reuters) - Switzerland has launched a ...  \n",
       "879  MILAN (Reuters) - Europe needs larger, stronge...  \n",
       "880  By Charlotte Greenfield\\nWELLINGTON (Reuters) ...  \n",
       "\n",
       "[881 rows x 4 columns]"
      ]
     },
     "execution_count": 73,
     "metadata": {},
     "output_type": "execute_result"
    }
   ],
   "source": [
    "# Reviews.csv 파일을 data라는 이름의 데이터프레임에 저장. 단, 10만개의 행(rows)으로 제한.\n",
    "data = pd.read_csv(\"./investing_cwl/economy/news_economy_00021.csv\", index_col=0)\n",
    "data"
   ]
  },
  {
   "cell_type": "code",
   "execution_count": 74,
   "id": "cbd7046f",
   "metadata": {},
   "outputs": [
    {
     "data": {
      "text/html": [
       "<div>\n",
       "<style scoped>\n",
       "    .dataframe tbody tr th:only-of-type {\n",
       "        vertical-align: middle;\n",
       "    }\n",
       "\n",
       "    .dataframe tbody tr th {\n",
       "        vertical-align: top;\n",
       "    }\n",
       "\n",
       "    .dataframe thead th {\n",
       "        text-align: right;\n",
       "    }\n",
       "</style>\n",
       "<table border=\"1\" class=\"dataframe\">\n",
       "  <thead>\n",
       "    <tr style=\"text-align: right;\">\n",
       "      <th></th>\n",
       "      <th>company</th>\n",
       "      <th>date</th>\n",
       "      <th>title</th>\n",
       "      <th>content</th>\n",
       "      <th>sentences</th>\n",
       "      <th>tokenized_sentences</th>\n",
       "    </tr>\n",
       "  </thead>\n",
       "  <tbody>\n",
       "    <tr>\n",
       "      <th>0</th>\n",
       "      <td>By Reuters</td>\n",
       "      <td>&lt;span&gt;Aug 19, 2018 03:08PM ET&lt;/span&gt;</td>\n",
       "      <td>With recession looming, Argentina's Macri lack...</td>\n",
       "      <td>By Hugh Bronstein\\nBUENOS AIRES (Reuters) - Wi...</td>\n",
       "      <td>[By Hugh Bronstein\\nBUENOS AIRES (Reuters) - W...</td>\n",
       "      <td>[[hugh, bronstein, buenos, aires, reuters, int...</td>\n",
       "    </tr>\n",
       "    <tr>\n",
       "      <th>1</th>\n",
       "      <td>By Reuters</td>\n",
       "      <td>&lt;span&gt;Aug 19, 2018 02:20PM ET&lt;/span&gt;</td>\n",
       "      <td>Greece under tight watch post-bailout, can be ...</td>\n",
       "      <td>By George Georgiopoulos\\nATHENS (Reuters) - Gr...</td>\n",
       "      <td>[By George Georgiopoulos\\nATHENS (Reuters) - G...</td>\n",
       "      <td>[[george, georgiopoulos, athens, reuters, gree...</td>\n",
       "    </tr>\n",
       "    <tr>\n",
       "      <th>2</th>\n",
       "      <td>By Bloomberg</td>\n",
       "      <td>&lt;span&gt;Aug 19, 2018 06:50AM ET&lt;/span&gt;</td>\n",
       "      <td>Trade War Won’t Dent China’s GDP</td>\n",
       "      <td>(Bloomberg Opinion) -- Analysts are trying urg...</td>\n",
       "      <td>[(Bloomberg Opinion) -- Analysts are trying ur...</td>\n",
       "      <td>[[bloomberg, opinion, analysts, trying, urgent...</td>\n",
       "    </tr>\n",
       "    <tr>\n",
       "      <th>3</th>\n",
       "      <td>By Investing.com</td>\n",
       "      <td>&lt;span&gt;Aug 19, 2018 05:57AM ET&lt;/span&gt;</td>\n",
       "      <td>Economic Calendar - Top 5 Things To Watch This...</td>\n",
       "      <td>Investing.com - Trade talks between the United...</td>\n",
       "      <td>[Investing.com - Trade talks between the Unite...</td>\n",
       "      <td>[[investingcom, trade, talks, united, states, ...</td>\n",
       "    </tr>\n",
       "    <tr>\n",
       "      <th>4</th>\n",
       "      <td>By Bloomberg</td>\n",
       "      <td>&lt;span&gt;Aug 19, 2018 04:30AM ET&lt;/span&gt;</td>\n",
       "      <td>Tariffs Will Hurt U.S. More Than Rest of World...</td>\n",
       "      <td>(Bloomberg) -- The U.S. economy will be hit ma...</td>\n",
       "      <td>[(Bloomberg) -- The U.S. economy will be hit m...</td>\n",
       "      <td>[[bloomberg, us, economy, hit, many, times, ha...</td>\n",
       "    </tr>\n",
       "    <tr>\n",
       "      <th>...</th>\n",
       "      <td>...</td>\n",
       "      <td>...</td>\n",
       "      <td>...</td>\n",
       "      <td>...</td>\n",
       "      <td>...</td>\n",
       "      <td>...</td>\n",
       "    </tr>\n",
       "    <tr>\n",
       "      <th>876</th>\n",
       "      <td>By Reuters</td>\n",
       "      <td>&lt;span&gt;Jul 10, 2018 04:53AM ET&lt;/span&gt;</td>\n",
       "      <td>China raises tariff rates for some U.S. optica...</td>\n",
       "      <td>BEIJING (Reuters) - China's commerce ministry ...</td>\n",
       "      <td>[BEIJING (Reuters) - China's commerce ministry...</td>\n",
       "      <td>[[beijing, reuters, china, commerce, ministry,...</td>\n",
       "    </tr>\n",
       "    <tr>\n",
       "      <th>877</th>\n",
       "      <td>By Reuters</td>\n",
       "      <td>&lt;span&gt;Jul 10, 2018 04:50AM ET&lt;/span&gt;</td>\n",
       "      <td>Cuba to prune back private sector as new rules...</td>\n",
       "      <td>HAVANA (Reuters) - Cuba will restrict business...</td>\n",
       "      <td>[HAVANA (Reuters) - Cuba will restrict busines...</td>\n",
       "      <td>[[havana, reuters, cuba, restrict, business, l...</td>\n",
       "    </tr>\n",
       "    <tr>\n",
       "      <th>878</th>\n",
       "      <td>By Reuters</td>\n",
       "      <td>&lt;span&gt;Jul 10, 2018 03:31AM ET&lt;/span&gt;</td>\n",
       "      <td>Switzerland launches WTO action over U.S. stee...</td>\n",
       "      <td>GENEVA (Reuters) - Switzerland has launched a ...</td>\n",
       "      <td>[GENEVA (Reuters) - Switzerland has launched a...</td>\n",
       "      <td>[[geneva, reuters, switzerland, launched, comp...</td>\n",
       "    </tr>\n",
       "    <tr>\n",
       "      <th>879</th>\n",
       "      <td>By Reuters</td>\n",
       "      <td>&lt;span&gt;Jul 10, 2018 02:50AM ET&lt;/span&gt;</td>\n",
       "      <td>Europe needs pan-European banks: JPMorgan's Di...</td>\n",
       "      <td>MILAN (Reuters) - Europe needs larger, stronge...</td>\n",
       "      <td>[MILAN (Reuters) - Europe needs larger, strong...</td>\n",
       "      <td>[[milan, reuters, europe, needs, larger, stron...</td>\n",
       "    </tr>\n",
       "    <tr>\n",
       "      <th>880</th>\n",
       "      <td>By Reuters</td>\n",
       "      <td>&lt;span&gt;Jul 10, 2018 02:10AM ET&lt;/span&gt;</td>\n",
       "      <td>Amid 'Jacindamania,' New Zealand businesses' p...</td>\n",
       "      <td>By Charlotte Greenfield\\nWELLINGTON (Reuters) ...</td>\n",
       "      <td>[By Charlotte Greenfield\\nWELLINGTON (Reuters)...</td>\n",
       "      <td>[[charlotte, greenfield, wellington, reuters, ...</td>\n",
       "    </tr>\n",
       "  </tbody>\n",
       "</table>\n",
       "<p>881 rows × 6 columns</p>\n",
       "</div>"
      ],
      "text/plain": [
       "              company                                  date  \\\n",
       "0          By Reuters  <span>Aug 19, 2018 03:08PM ET</span>   \n",
       "1          By Reuters  <span>Aug 19, 2018 02:20PM ET</span>   \n",
       "2        By Bloomberg  <span>Aug 19, 2018 06:50AM ET</span>   \n",
       "3    By Investing.com  <span>Aug 19, 2018 05:57AM ET</span>   \n",
       "4        By Bloomberg  <span>Aug 19, 2018 04:30AM ET</span>   \n",
       "..                ...                                   ...   \n",
       "876        By Reuters  <span>Jul 10, 2018 04:53AM ET</span>   \n",
       "877        By Reuters  <span>Jul 10, 2018 04:50AM ET</span>   \n",
       "878        By Reuters  <span>Jul 10, 2018 03:31AM ET</span>   \n",
       "879        By Reuters  <span>Jul 10, 2018 02:50AM ET</span>   \n",
       "880        By Reuters  <span>Jul 10, 2018 02:10AM ET</span>   \n",
       "\n",
       "                                                 title  \\\n",
       "0    With recession looming, Argentina's Macri lack...   \n",
       "1    Greece under tight watch post-bailout, can be ...   \n",
       "2                     Trade War Won’t Dent China’s GDP   \n",
       "3    Economic Calendar - Top 5 Things To Watch This...   \n",
       "4    Tariffs Will Hurt U.S. More Than Rest of World...   \n",
       "..                                                 ...   \n",
       "876  China raises tariff rates for some U.S. optica...   \n",
       "877  Cuba to prune back private sector as new rules...   \n",
       "878  Switzerland launches WTO action over U.S. stee...   \n",
       "879  Europe needs pan-European banks: JPMorgan's Di...   \n",
       "880  Amid 'Jacindamania,' New Zealand businesses' p...   \n",
       "\n",
       "                                               content  \\\n",
       "0    By Hugh Bronstein\\nBUENOS AIRES (Reuters) - Wi...   \n",
       "1    By George Georgiopoulos\\nATHENS (Reuters) - Gr...   \n",
       "2    (Bloomberg Opinion) -- Analysts are trying urg...   \n",
       "3    Investing.com - Trade talks between the United...   \n",
       "4    (Bloomberg) -- The U.S. economy will be hit ma...   \n",
       "..                                                 ...   \n",
       "876  BEIJING (Reuters) - China's commerce ministry ...   \n",
       "877  HAVANA (Reuters) - Cuba will restrict business...   \n",
       "878  GENEVA (Reuters) - Switzerland has launched a ...   \n",
       "879  MILAN (Reuters) - Europe needs larger, stronge...   \n",
       "880  By Charlotte Greenfield\\nWELLINGTON (Reuters) ...   \n",
       "\n",
       "                                             sentences  \\\n",
       "0    [By Hugh Bronstein\\nBUENOS AIRES (Reuters) - W...   \n",
       "1    [By George Georgiopoulos\\nATHENS (Reuters) - G...   \n",
       "2    [(Bloomberg Opinion) -- Analysts are trying ur...   \n",
       "3    [Investing.com - Trade talks between the Unite...   \n",
       "4    [(Bloomberg) -- The U.S. economy will be hit m...   \n",
       "..                                                 ...   \n",
       "876  [BEIJING (Reuters) - China's commerce ministry...   \n",
       "877  [HAVANA (Reuters) - Cuba will restrict busines...   \n",
       "878  [GENEVA (Reuters) - Switzerland has launched a...   \n",
       "879  [MILAN (Reuters) - Europe needs larger, strong...   \n",
       "880  [By Charlotte Greenfield\\nWELLINGTON (Reuters)...   \n",
       "\n",
       "                                   tokenized_sentences  \n",
       "0    [[hugh, bronstein, buenos, aires, reuters, int...  \n",
       "1    [[george, georgiopoulos, athens, reuters, gree...  \n",
       "2    [[bloomberg, opinion, analysts, trying, urgent...  \n",
       "3    [[investingcom, trade, talks, united, states, ...  \n",
       "4    [[bloomberg, us, economy, hit, many, times, ha...  \n",
       "..                                                 ...  \n",
       "876  [[beijing, reuters, china, commerce, ministry,...  \n",
       "877  [[havana, reuters, cuba, restrict, business, l...  \n",
       "878  [[geneva, reuters, switzerland, launched, comp...  \n",
       "879  [[milan, reuters, europe, needs, larger, stron...  \n",
       "880  [[charlotte, greenfield, wellington, reuters, ...  \n",
       "\n",
       "[881 rows x 6 columns]"
      ]
     },
     "execution_count": 74,
     "metadata": {},
     "output_type": "execute_result"
    }
   ],
   "source": [
    "data['sentences'] = data['content'].apply(sent_tokenize)\n",
    "\n",
    "# 토큰화 함수\n",
    "def tokenization(sentences):\n",
    "    return [word_tokenize(sentence) for sentence in sentences]\n",
    "\n",
    "# 전처리 함수\n",
    "def preprocess_sentence(sentence):\n",
    "  # 영어를 제외한 숫자, 특수 문자 등은 전부 제거. 모든 알파벳은 소문자화\n",
    "  sentence = [re.sub(r'[^a-zA-z\\s]', '', word).lower() for word in sentence]\n",
    "  # 불용어가 아니면서 단어가 실제로 존재해야 한다.\n",
    "  return [word for word in sentence if word not in stop_words and word]\n",
    "\n",
    "# 위 전처리 함수를 모든 문장에 대해서 수행. 이 함수를 호출하면 모든 행에 대해서 수행.\n",
    "def preprocess_sentences(sentences):\n",
    "    return [preprocess_sentence(sentence) for sentence in sentences] \n",
    "\n",
    "\n",
    "data['tokenized_sentences'] = data['sentences'].apply(tokenization)\n",
    "data['tokenized_sentences'] = data['tokenized_sentences'].apply(preprocess_sentences)\n",
    "data"
   ]
  },
  {
   "cell_type": "code",
   "execution_count": 84,
   "id": "6f5fd1aa",
   "metadata": {},
   "outputs": [],
   "source": [
    "embedding_dim = 300\n",
    "zero_vector = np.zeros(embedding_dim)\n",
    "\n",
    "# 단어 벡터의 평균으로부터 문장 벡터를 얻는다.\n",
    "def calculate_sentence_vector(sentence):\n",
    "    try:\n",
    "        return sum([w2v_model.get_vector(word) for word in sentence])/len(sentence)\n",
    "    except:\n",
    "        return zero_vector"
   ]
  },
  {
   "cell_type": "code",
   "execution_count": 85,
   "id": "ce4fe61e",
   "metadata": {},
   "outputs": [],
   "source": [
    "# 각 문장에 대해서 문장 벡터를 반환\n",
    "def sentences_to_vectors(sentences):\n",
    "    return [calculate_sentence_vector(sentence) for sentence in sentences]"
   ]
  },
  {
   "cell_type": "code",
   "execution_count": 86,
   "id": "2ff4421d",
   "metadata": {
    "scrolled": false
   },
   "outputs": [
    {
     "data": {
      "text/html": [
       "<div>\n",
       "<style scoped>\n",
       "    .dataframe tbody tr th:only-of-type {\n",
       "        vertical-align: middle;\n",
       "    }\n",
       "\n",
       "    .dataframe tbody tr th {\n",
       "        vertical-align: top;\n",
       "    }\n",
       "\n",
       "    .dataframe thead th {\n",
       "        text-align: right;\n",
       "    }\n",
       "</style>\n",
       "<table border=\"1\" class=\"dataframe\">\n",
       "  <thead>\n",
       "    <tr style=\"text-align: right;\">\n",
       "      <th></th>\n",
       "      <th>SentenceEmbedding</th>\n",
       "    </tr>\n",
       "  </thead>\n",
       "  <tbody>\n",
       "    <tr>\n",
       "      <th>0</th>\n",
       "      <td>[[0.0, 0.0, 0.0, 0.0, 0.0, 0.0, 0.0, 0.0, 0.0,...</td>\n",
       "    </tr>\n",
       "    <tr>\n",
       "      <th>1</th>\n",
       "      <td>[[0.0, 0.0, 0.0, 0.0, 0.0, 0.0, 0.0, 0.0, 0.0,...</td>\n",
       "    </tr>\n",
       "    <tr>\n",
       "      <th>2</th>\n",
       "      <td>[[-0.052020732, 0.104947604, 0.004813561, 0.09...</td>\n",
       "    </tr>\n",
       "    <tr>\n",
       "      <th>3</th>\n",
       "      <td>[[0.0, 0.0, 0.0, 0.0, 0.0, 0.0, 0.0, 0.0, 0.0,...</td>\n",
       "    </tr>\n",
       "    <tr>\n",
       "      <th>4</th>\n",
       "      <td>[[0.0043470594, 0.023752848, -0.04606883, 0.06...</td>\n",
       "    </tr>\n",
       "    <tr>\n",
       "      <th>...</th>\n",
       "      <td>...</td>\n",
       "    </tr>\n",
       "    <tr>\n",
       "      <th>876</th>\n",
       "      <td>[[0.0, 0.0, 0.0, 0.0, 0.0, 0.0, 0.0, 0.0, 0.0,...</td>\n",
       "    </tr>\n",
       "    <tr>\n",
       "      <th>877</th>\n",
       "      <td>[[0.0, 0.0, 0.0, 0.0, 0.0, 0.0, 0.0, 0.0, 0.0,...</td>\n",
       "    </tr>\n",
       "    <tr>\n",
       "      <th>878</th>\n",
       "      <td>[[-0.02931936, 0.042069286, 0.030609934, 0.037...</td>\n",
       "    </tr>\n",
       "    <tr>\n",
       "      <th>879</th>\n",
       "      <td>[[0.0, 0.0, 0.0, 0.0, 0.0, 0.0, 0.0, 0.0, 0.0,...</td>\n",
       "    </tr>\n",
       "    <tr>\n",
       "      <th>880</th>\n",
       "      <td>[[0.0, 0.0, 0.0, 0.0, 0.0, 0.0, 0.0, 0.0, 0.0,...</td>\n",
       "    </tr>\n",
       "  </tbody>\n",
       "</table>\n",
       "<p>881 rows × 1 columns</p>\n",
       "</div>"
      ],
      "text/plain": [
       "                                     SentenceEmbedding\n",
       "0    [[0.0, 0.0, 0.0, 0.0, 0.0, 0.0, 0.0, 0.0, 0.0,...\n",
       "1    [[0.0, 0.0, 0.0, 0.0, 0.0, 0.0, 0.0, 0.0, 0.0,...\n",
       "2    [[-0.052020732, 0.104947604, 0.004813561, 0.09...\n",
       "3    [[0.0, 0.0, 0.0, 0.0, 0.0, 0.0, 0.0, 0.0, 0.0,...\n",
       "4    [[0.0043470594, 0.023752848, -0.04606883, 0.06...\n",
       "..                                                 ...\n",
       "876  [[0.0, 0.0, 0.0, 0.0, 0.0, 0.0, 0.0, 0.0, 0.0,...\n",
       "877  [[0.0, 0.0, 0.0, 0.0, 0.0, 0.0, 0.0, 0.0, 0.0,...\n",
       "878  [[-0.02931936, 0.042069286, 0.030609934, 0.037...\n",
       "879  [[0.0, 0.0, 0.0, 0.0, 0.0, 0.0, 0.0, 0.0, 0.0,...\n",
       "880  [[0.0, 0.0, 0.0, 0.0, 0.0, 0.0, 0.0, 0.0, 0.0,...\n",
       "\n",
       "[881 rows x 1 columns]"
      ]
     },
     "execution_count": 86,
     "metadata": {},
     "output_type": "execute_result"
    }
   ],
   "source": [
    "data['SentenceEmbedding'] = data['tokenized_sentences'].apply(sentences_to_vectors)\n",
    "data[['SentenceEmbedding']]"
   ]
  },
  {
   "cell_type": "code",
   "execution_count": 87,
   "id": "f39cf486",
   "metadata": {},
   "outputs": [],
   "source": [
    "def similarity_matrix(sentence_embedding):\n",
    "  sim_mat = np.zeros([len(sentence_embedding), len(sentence_embedding)])\n",
    "  for i in range(len(sentence_embedding)):\n",
    "      for j in range(len(sentence_embedding)):\n",
    "        sim_mat[i][j] = cosine_similarity(sentence_embedding[i].reshape(1, embedding_dim),\n",
    "                                          sentence_embedding[j].reshape(1, embedding_dim))[0,0]\n",
    "  return sim_mat"
   ]
  },
  {
   "cell_type": "code",
   "execution_count": 88,
   "id": "6311a14b",
   "metadata": {},
   "outputs": [
    {
     "data": {
      "text/plain": [
       "0      [[0.0, 0.0, 0.0, 0.0, 0.0, 0.0, 0.0, 0.0, 0.0,...\n",
       "1      [[0.0, 0.0, 0.0, 0.0, 0.0, 0.0, 0.0, 0.0, 0.0,...\n",
       "2      [[1.0000001192092896, 0.523402214050293, 0.633...\n",
       "3      [[0.0, 0.0, 0.0, 0.0, 0.0, 0.0, 0.0, 0.0, 0.0,...\n",
       "4      [[1.0, 0.0, 0.0, 0.6134572625160217, 0.0, 0.0,...\n",
       "                             ...                        \n",
       "876    [[0.0, 0.0, 0.0], [0.0, 0.0, 0.0], [0.0, 0.0, ...\n",
       "877    [[0.0, 0.0, 0.0, 0.0, 0.0, 0.0, 0.0, 0.0, 0.0,...\n",
       "878    [[0.9999998807907104, 0.0, 0.47486475110054016...\n",
       "879    [[0.0, 0.0, 0.0, 0.0, 0.0], [0.0, 0.0, 0.0, 0....\n",
       "880    [[0.0, 0.0, 0.0, 0.0, 0.0, 0.0, 0.0, 0.0, 0.0,...\n",
       "Name: SimMatrix, Length: 881, dtype: object"
      ]
     },
     "execution_count": 88,
     "metadata": {},
     "output_type": "execute_result"
    }
   ],
   "source": [
    "data['SimMatrix'] = data['SentenceEmbedding'].apply(similarity_matrix)\n",
    "data['SimMatrix']"
   ]
  },
  {
   "cell_type": "code",
   "execution_count": 89,
   "id": "5fc32604",
   "metadata": {},
   "outputs": [
    {
     "name": "stdout",
     "output_type": "stream",
     "text": [
      "두번째 샘플의 문장 개수 : 20\n",
      "두번째 샘플의 문장 벡터가 모인 문장 행렬의 크기(shape) : (20, 300)\n",
      "두번째 샘플의 유사도 행렬의 크기(shape) : (20, 20)\n"
     ]
    }
   ],
   "source": [
    "print('두번째 샘플의 문장 개수 :',len(data['tokenized_sentences'][1]))\n",
    "print('두번째 샘플의 문장 벡터가 모인 문장 행렬의 크기(shape) :',np.shape(data['SentenceEmbedding'][1]))\n",
    "print('두번째 샘플의 유사도 행렬의 크기(shape) :',data['SimMatrix'][1].shape)"
   ]
  },
  {
   "cell_type": "code",
   "execution_count": 90,
   "id": "724ec4da",
   "metadata": {},
   "outputs": [
    {
     "data": {
      "image/png": "[encoded data removed]",
      "text/plain": [
       "<Figure size 720x720 with 1 Axes>"
      ]
     },
     "metadata": {},
     "output_type": "display_data"
    }
   ],
   "source": [
    "def draw_graphs(sim_matrix):\n",
    "  nx_graph = nx.from_numpy_array(sim_matrix)\n",
    "  plt.figure(figsize=(10, 10))\n",
    "  pos = nx.spring_layout(nx_graph)\n",
    "  nx.draw(nx_graph, with_labels=True, font_weight='bold')\n",
    "  nx.draw_networkx_edge_labels(nx_graph,pos,font_color='red')\n",
    "  plt.show()\n",
    "    \n",
    "draw_graphs(data['SimMatrix'][1])"
   ]
  },
  {
   "cell_type": "code",
   "execution_count": 91,
   "id": "7e75f309",
   "metadata": {},
   "outputs": [
    {
     "data": {
      "text/html": [
       "<div>\n",
       "<style scoped>\n",
       "    .dataframe tbody tr th:only-of-type {\n",
       "        vertical-align: middle;\n",
       "    }\n",
       "\n",
       "    .dataframe tbody tr th {\n",
       "        vertical-align: top;\n",
       "    }\n",
       "\n",
       "    .dataframe thead th {\n",
       "        text-align: right;\n",
       "    }\n",
       "</style>\n",
       "<table border=\"1\" class=\"dataframe\">\n",
       "  <thead>\n",
       "    <tr style=\"text-align: right;\">\n",
       "      <th></th>\n",
       "      <th>SimMatrix</th>\n",
       "      <th>score</th>\n",
       "    </tr>\n",
       "  </thead>\n",
       "  <tbody>\n",
       "    <tr>\n",
       "      <th>0</th>\n",
       "      <td>[[0.0, 0.0, 0.0, 0.0, 0.0, 0.0, 0.0, 0.0, 0.0,...</td>\n",
       "      <td>{0: 0.006637654391574396, 1: 0.006637654391574...</td>\n",
       "    </tr>\n",
       "    <tr>\n",
       "      <th>1</th>\n",
       "      <td>[[0.0, 0.0, 0.0, 0.0, 0.0, 0.0, 0.0, 0.0, 0.0,...</td>\n",
       "      <td>{0: 0.0167605415073935, 1: 0.12869544454424872...</td>\n",
       "    </tr>\n",
       "    <tr>\n",
       "      <th>2</th>\n",
       "      <td>[[1.0000001192092896, 0.523402214050293, 0.633...</td>\n",
       "      <td>{0: 0.03340606859147689, 1: 0.0324778455205735...</td>\n",
       "    </tr>\n",
       "    <tr>\n",
       "      <th>3</th>\n",
       "      <td>[[0.0, 0.0, 0.0, 0.0, 0.0, 0.0, 0.0, 0.0, 0.0,...</td>\n",
       "      <td>{0: 0.0056182502582455, 1: 0.0056182502582455,...</td>\n",
       "    </tr>\n",
       "    <tr>\n",
       "      <th>4</th>\n",
       "      <td>[[1.0, 0.0, 0.0, 0.6134572625160217, 0.0, 0.0,...</td>\n",
       "      <td>{0: 0.17033656317455803, 1: 0.0241944146872975...</td>\n",
       "    </tr>\n",
       "    <tr>\n",
       "      <th>...</th>\n",
       "      <td>...</td>\n",
       "      <td>...</td>\n",
       "    </tr>\n",
       "    <tr>\n",
       "      <th>876</th>\n",
       "      <td>[[0.0, 0.0, 0.0], [0.0, 0.0, 0.0], [0.0, 0.0, ...</td>\n",
       "      <td>{0: 0.3333333333333333, 1: 0.3333333333333333,...</td>\n",
       "    </tr>\n",
       "    <tr>\n",
       "      <th>877</th>\n",
       "      <td>[[0.0, 0.0, 0.0, 0.0, 0.0, 0.0, 0.0, 0.0, 0.0,...</td>\n",
       "      <td>{0: 0.014493359667907015, 1: 0.014493359667907...</td>\n",
       "    </tr>\n",
       "    <tr>\n",
       "      <th>878</th>\n",
       "      <td>[[0.9999998807907104, 0.0, 0.47486475110054016...</td>\n",
       "      <td>{0: 0.3099988859809647, 1: 0.04761922643244094...</td>\n",
       "    </tr>\n",
       "    <tr>\n",
       "      <th>879</th>\n",
       "      <td>[[0.0, 0.0, 0.0, 0.0, 0.0], [0.0, 0.0, 0.0, 0....</td>\n",
       "      <td>{0: 0.093751003682426, 1: 0.093751003682426, 2...</td>\n",
       "    </tr>\n",
       "    <tr>\n",
       "      <th>880</th>\n",
       "      <td>[[0.0, 0.0, 0.0, 0.0, 0.0, 0.0, 0.0, 0.0, 0.0,...</td>\n",
       "      <td>{0: 0.010381521271106087, 1: 0.074533907489185...</td>\n",
       "    </tr>\n",
       "  </tbody>\n",
       "</table>\n",
       "<p>881 rows × 2 columns</p>\n",
       "</div>"
      ],
      "text/plain": [
       "                                             SimMatrix  \\\n",
       "0    [[0.0, 0.0, 0.0, 0.0, 0.0, 0.0, 0.0, 0.0, 0.0,...   \n",
       "1    [[0.0, 0.0, 0.0, 0.0, 0.0, 0.0, 0.0, 0.0, 0.0,...   \n",
       "2    [[1.0000001192092896, 0.523402214050293, 0.633...   \n",
       "3    [[0.0, 0.0, 0.0, 0.0, 0.0, 0.0, 0.0, 0.0, 0.0,...   \n",
       "4    [[1.0, 0.0, 0.0, 0.6134572625160217, 0.0, 0.0,...   \n",
       "..                                                 ...   \n",
       "876  [[0.0, 0.0, 0.0], [0.0, 0.0, 0.0], [0.0, 0.0, ...   \n",
       "877  [[0.0, 0.0, 0.0, 0.0, 0.0, 0.0, 0.0, 0.0, 0.0,...   \n",
       "878  [[0.9999998807907104, 0.0, 0.47486475110054016...   \n",
       "879  [[0.0, 0.0, 0.0, 0.0, 0.0], [0.0, 0.0, 0.0, 0....   \n",
       "880  [[0.0, 0.0, 0.0, 0.0, 0.0, 0.0, 0.0, 0.0, 0.0,...   \n",
       "\n",
       "                                                 score  \n",
       "0    {0: 0.006637654391574396, 1: 0.006637654391574...  \n",
       "1    {0: 0.0167605415073935, 1: 0.12869544454424872...  \n",
       "2    {0: 0.03340606859147689, 1: 0.0324778455205735...  \n",
       "3    {0: 0.0056182502582455, 1: 0.0056182502582455,...  \n",
       "4    {0: 0.17033656317455803, 1: 0.0241944146872975...  \n",
       "..                                                 ...  \n",
       "876  {0: 0.3333333333333333, 1: 0.3333333333333333,...  \n",
       "877  {0: 0.014493359667907015, 1: 0.014493359667907...  \n",
       "878  {0: 0.3099988859809647, 1: 0.04761922643244094...  \n",
       "879  {0: 0.093751003682426, 1: 0.093751003682426, 2...  \n",
       "880  {0: 0.010381521271106087, 1: 0.074533907489185...  \n",
       "\n",
       "[881 rows x 2 columns]"
      ]
     },
     "execution_count": 91,
     "metadata": {},
     "output_type": "execute_result"
    }
   ],
   "source": [
    "def calculate_score(sim_matrix):\n",
    "    nx_graph = nx.from_numpy_array(sim_matrix)\n",
    "    scores = nx.pagerank(nx_graph)\n",
    "    return scores\n",
    "\n",
    "data['score'] = data['SimMatrix'].apply(calculate_score)\n",
    "data[['SimMatrix', 'score']]"
   ]
  },
  {
   "cell_type": "code",
   "execution_count": 92,
   "id": "ceea5496",
   "metadata": {},
   "outputs": [],
   "source": [
    "def ranked_sentences(sentences, scores, n=3):\n",
    "    top_scores = sorted(((scores[i],s) \n",
    "                         for i,s in enumerate(sentences)), \n",
    "                                reverse=True)\n",
    "    top_n_sentences = [sentence \n",
    "                        for score,sentence in top_scores[:n]]\n",
    "    return \" \".join(top_n_sentences)"
   ]
  },
  {
   "cell_type": "code",
   "execution_count": 93,
   "id": "fff572db",
   "metadata": {},
   "outputs": [],
   "source": [
    "data['summary'] = data.apply(lambda x: \n",
    "                            ranked_sentences(x.sentences, \n",
    "                            x.score), axis=1)"
   ]
  },
  {
   "cell_type": "code",
   "execution_count": null,
   "id": "2e46a678",
   "metadata": {},
   "outputs": [],
   "source": []
  },
  {
   "cell_type": "code",
   "execution_count": null,
   "id": "62d1c632",
   "metadata": {},
   "outputs": [],
   "source": []
  },
  {
   "cell_type": "code",
   "execution_count": null,
   "id": "fadc49a3",
   "metadata": {},
   "outputs": [],
   "source": []
  },
  {
   "cell_type": "code",
   "execution_count": null,
   "id": "56eefb05",
   "metadata": {},
   "outputs": [],
   "source": []
  },
  {
   "cell_type": "code",
   "execution_count": null,
   "id": "a23e6173",
   "metadata": {},
   "outputs": [],
   "source": []
  },
  {
   "cell_type": "code",
   "execution_count": null,
   "id": "ceeb1021",
   "metadata": {},
   "outputs": [],
   "source": []
  },
  {
   "cell_type": "code",
   "execution_count": null,
   "id": "5dcbd582",
   "metadata": {},
   "outputs": [],
   "source": []
  },
  {
   "cell_type": "code",
   "execution_count": null,
   "id": "d39cc68f",
   "metadata": {},
   "outputs": [],
   "source": []
  },
  {
   "cell_type": "code",
   "execution_count": null,
   "id": "4dc5f2bd",
   "metadata": {},
   "outputs": [],
   "source": []
  },
  {
   "cell_type": "code",
   "execution_count": null,
   "id": "c66c1487",
   "metadata": {},
   "outputs": [],
   "source": []
  },
  {
   "cell_type": "code",
   "execution_count": null,
   "id": "b39626b5",
   "metadata": {},
   "outputs": [],
   "source": []
  },
  {
   "cell_type": "code",
   "execution_count": null,
   "id": "0ad95b37",
   "metadata": {},
   "outputs": [],
   "source": []
  },
  {
   "cell_type": "code",
   "execution_count": null,
   "id": "3f3a860b",
   "metadata": {},
   "outputs": [],
   "source": []
  },
  {
   "cell_type": "code",
   "execution_count": null,
   "id": "8f9e4ad2",
   "metadata": {},
   "outputs": [],
   "source": []
  },
  {
   "cell_type": "code",
   "execution_count": null,
   "id": "6abe7e5a",
   "metadata": {},
   "outputs": [],
   "source": []
  },
  {
   "cell_type": "code",
   "execution_count": null,
   "id": "e629f02a",
   "metadata": {},
   "outputs": [],
   "source": []
  },
  {
   "cell_type": "code",
   "execution_count": null,
   "id": "d9d6881e",
   "metadata": {},
   "outputs": [],
   "source": []
  },
  {
   "cell_type": "code",
   "execution_count": null,
   "id": "f823a341",
   "metadata": {},
   "outputs": [],
   "source": []
  },
  {
   "cell_type": "code",
   "execution_count": null,
   "id": "52d9357f",
   "metadata": {},
   "outputs": [],
   "source": []
  },
  {
   "cell_type": "code",
   "execution_count": null,
   "id": "313cf765",
   "metadata": {},
   "outputs": [],
   "source": []
  },
  {
   "cell_type": "code",
   "execution_count": null,
   "id": "e4ffba92",
   "metadata": {},
   "outputs": [],
   "source": []
  },
  {
   "cell_type": "code",
   "execution_count": null,
   "id": "c713a478",
   "metadata": {},
   "outputs": [],
   "source": []
  },
  {
   "cell_type": "code",
   "execution_count": null,
   "id": "cc8bfa86",
   "metadata": {},
   "outputs": [],
   "source": []
  },
  {
   "cell_type": "code",
   "execution_count": null,
   "id": "ae21040b",
   "metadata": {},
   "outputs": [],
   "source": []
  },
  {
   "cell_type": "code",
   "execution_count": null,
   "id": "869f42b3",
   "metadata": {},
   "outputs": [],
   "source": []
  },
  {
   "cell_type": "code",
   "execution_count": null,
   "id": "07df403c",
   "metadata": {},
   "outputs": [],
   "source": []
  },
  {
   "cell_type": "code",
   "execution_count": null,
   "id": "57c67c99",
   "metadata": {},
   "outputs": [],
   "source": []
  },
  {
   "cell_type": "code",
   "execution_count": null,
   "id": "cf87b389",
   "metadata": {},
   "outputs": [],
   "source": []
  },
  {
   "cell_type": "code",
   "execution_count": null,
   "id": "7363f454",
   "metadata": {},
   "outputs": [],
   "source": []
  }
 ],
 "metadata": {
  "kernelspec": {
   "display_name": "Python 3 (ipykernel)",
   "language": "python",
   "name": "python3"
  },
  "language_info": {
   "codemirror_mode": {
    "name": "ipython",
    "version": 3
   },
   "file_extension": ".py",
   "mimetype": "text/x-python",
   "name": "python",
   "nbconvert_exporter": "python",
   "pygments_lexer": "ipython3",
   "version": "3.7.13"
  },
  "varInspector": {
   "cols": {
    "lenName": 16,
    "lenType": 16,
    "lenVar": 40
   },
   "kernels_config": {
    "python": {
     "delete_cmd_postfix": "",
     "delete_cmd_prefix": "del ",
     "library": "var_list.py",
     "varRefreshCmd": "print(var_dic_list())"
    },
    "r": {
     "delete_cmd_postfix": ") ",
     "delete_cmd_prefix": "rm(",
     "library": "var_list.r",
     "varRefreshCmd": "cat(var_dic_list()) "
    }
   },
   "types_to_exclude": [
    "module",
    "function",
    "builtin_function_or_method",
    "instance",
    "_Feature"
   ],
   "window_display": false
  }
 },
 "nbformat": 4,
 "nbformat_minor": 5
}
