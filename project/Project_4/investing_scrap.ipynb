{
 "cells": [
  {
   "cell_type": "code",
   "execution_count": 1,
   "id": "bca3e591",
   "metadata": {
    "ExecuteTime": {
     "end_time": "2022-04-16T12:35:20.216711Z",
     "start_time": "2022-04-16T12:35:19.774893Z"
    }
   },
   "outputs": [],
   "source": [
    "import pandas as pd\n",
    "import numpy as np\n",
    "\n",
    "from bs4 import BeautifulSoup\n",
    "import time, os, shutil, re\n",
    "import requests"
   ]
  },
  {
   "cell_type": "code",
   "execution_count": 23,
   "id": "ba2ac42d",
   "metadata": {
    "ExecuteTime": {
     "end_time": "2022-04-16T13:58:16.734512Z",
     "start_time": "2022-04-16T13:58:16.168028Z"
    }
   },
   "outputs": [
    {
     "name": "stdout",
     "output_type": "stream",
     "text": [
      "12747\n"
     ]
    }
   ],
   "source": [
    "# investing.com 이게 크롤링 돌아가는 코드\n",
    "title_lst = []\n",
    "content_lst = []\n",
    "date_lst = []\n",
    "\n",
    "\n",
    "main = 'https://www.investing.com'\n",
    "topics = ['stock-market-news', 'commodities-news', 'forex-news', 'economy', 'economic-indicators','politics','world-news']\n",
    "for topic in topics[:1]:\n",
    "    url = '/'.join([main,'news', topic])\n",
    "    res = requests.get(url,headers=headers)\n",
    "    time.sleep(0.1)\n",
    "    for page in range(1, int(BeautifulSoup(res.text, 'html.parser').select('#paginationWrap > div.midDiv.inlineblock > a:nth-child(5)')[0]['title'].split()[-1])//17):\n",
    "        url = '/'.join([main,'news', topic, page])\n",
    "        headers = {\n",
    "            'User-Agent':'Mozilla/5.0 (Windows NT 10.0; Win64; x64) AppleWebKit/537.36 (KHTML, like Gecko) Chrome/100.0.4896.75 Safari/537.36',\n",
    "            'Referer': '/'.join([main, 'news', topic, page])}\n",
    "        res = requests.get(url,headers=headers)\n",
    "        time.sleep(0.1)\n",
    "        soup = BeautifulSoup(res.text, 'html.parser')\n",
    "        article_path = '#leftColumn > div.largeTitle > article'\n",
    "        nlstdir = soup.select(article_path)\n",
    "        if not nlstdir:\n",
    "            print('done')\n",
    "            break\n",
    "        for newslst in nlstdir:\n",
    "            title = np.nan\n",
    "            contents = np.nan\n",
    "            date = np.nan\n",
    "            newsurl = main+newslst.select('a')[0]['href']\n",
    "            newsres = requests.get(newsurl, headers = headers)\n",
    "            time.sleep(0.1)\n",
    "            news = BeautifulSoup(newsres.text,'html.parser')\n",
    "            if newslst.select('div.textDiv > span > span:nth-child(1)'):\n",
    "                title = news.select('#leftColumn > h1')[0].text\n",
    "                date = news.select('#leftColumn > div.contentSectionDetails > span')[0]\n",
    "                contents = []\n",
    "                for con in news.select('#leftColumn > div.articlePage > p'):\n",
    "                    contents.append(con.text)\n",
    "                contents = '\\n'.join(contents)\n",
    "            \n",
    "            elif newslst.select('div.textDiv > div > span:nth-child(1)'):\n",
    "                company = newslst.select('div.textDiv > div > span:nth-child(1)').text\n",
    "                # 각 회사별 크롤링 돌아가게하는 코드 작성해야함\n",
    "                if company == 'By CNBC': # Sample#1 : CNBC\n",
    "                    title = news.select('#main-article-header > div:nth-child(1)>div:nth-child(1)>div:nth-child(2)')[0].text\n",
    "                    date = news.select('#main-article-header > div:nth-child(1)>div:nth-child(1)>div:nth-child(3)>time')[0]['datetime']\n",
    "                    contents = []\n",
    "                    for con in news.select('#RegularArticle-ArticleBody-5 > div.group'):\n",
    "                        contents.append(con.text)\n",
    "                    contents = '\\n'.join(contents)\n",
    "                # CNBC 랑 비슷하게 contents title date 받을수 있게 코드좀 만들어주세요\n",
    "                # 각 회사별 링크는 직접 찾아서 들어가봐야합니다.. 아래가 종류\n",
    "                elif company == 'By Huffington Post':\n",
    "                    title = news.select('#entry-header > header > div.top-header > h1')[0].text\n",
    "                    date = news.select('#entry-header > header > div.bottom-header > div.bottom-header__left > div.timestamp > time:nth-child(1) > span')[0].text\n",
    "                    contents = soup.select('#entry-body > section')[0].text\n",
    "                    divs = []\n",
    "                    for i in contents.split('\\n'):\n",
    "                        divs.append(i.strip('Advertisement'))\n",
    "                                 \n",
    "                    \n",
    " 'By CryptoDaily',\n",
    " 'By CryptoGlobe',\n",
    " 'By FXEmpire',\n",
    " 'By Forexlive',\n",
    " 'By Huffington Post'\n",
    "                \n",
    "            title_lst.append(title)\n",
    "            date_lst.append(date)\n",
    "            content_lst.append(contents)\n",
    "# print('\\n'.join(contents))"
   ]
  },
  {
   "cell_type": "code",
   "execution_count": 41,
   "id": "fe4da820",
   "metadata": {
    "ExecuteTime": {
     "end_time": "2022-04-16T17:21:49.349326Z",
     "start_time": "2022-04-16T17:21:47.892192Z"
    }
   },
   "outputs": [
    {
     "data": {
      "text/plain": [
       "{'By CNBC',\n",
       " 'By CryptoDaily',\n",
       " 'By CryptoGlobe',\n",
       " 'By FXEmpire',\n",
       " 'By Forexlive',\n",
       " 'By Huffington Post'}"
      ]
     },
     "execution_count": 41,
     "metadata": {},
     "output_type": "execute_result"
    }
   ],
   "source": [
    "title_lst = []\n",
    "content_lst = []\n",
    "date_lst = []\n",
    "company = set()\n",
    "\n",
    "main = 'https://www.investing.com'\n",
    "topics = ['stock-market-news', 'commodities-news', 'forex-news', 'economy', 'economic-indicators','politics','world-news']\n",
    "for topic in topics[:1]:\n",
    "    url = '/'.join([main,'news', topic])\n",
    "    res = requests.get(url,headers=headers)\n",
    "    time.sleep(0.1)\n",
    "    for page in range(1,200): #int(BeautifulSoup(res.text, 'html.parser').select('#paginationWrap > div.midDiv.inlineblock > a:nth-child(5)')[0]['title'].split()[-1])//17):\n",
    "        url = '/'.join([main,'news', topic, str(page)])\n",
    "        headers = {\n",
    "            'User-Agent':'Mozilla/5.0 (Windows NT 10.0; Win64; x64) AppleWebKit/537.36 (KHTML, like Gecko) Chrome/100.0.4896.75 Safari/537.36',\n",
    "            'Referer': url}\n",
    "        res = requests.get(url,headers=headers)\n",
    "        time.sleep(0.1)\n",
    "        soup = BeautifulSoup(res.text, 'html.parser')\n",
    "#         article_path = '#leftColumn > div.largeTitle > article > div.textDiv > span > span:nth-child(1)'\n",
    "        article_path = '#leftColumn > div.largeTitle > article > div.textDiv > div > span:nth-child(1)'\n",
    "#         article_path = '#leftColumn > div.largeTitle > article'\n",
    "\n",
    "        nlstdir = soup.select(article_path)\n",
    "#         if not nlstdir:\n",
    "#             print('done')\n",
    "#             break\n",
    "        for com in nlstdir:\n",
    "            company.add(com.text)\n",
    "        break\n",
    "company"
   ]
  },
  {
   "cell_type": "code",
   "execution_count": 39,
   "id": "797d7486",
   "metadata": {
    "ExecuteTime": {
     "end_time": "2022-04-16T17:15:30.113871Z",
     "start_time": "2022-04-16T17:15:30.105892Z"
    }
   },
   "outputs": [
    {
     "data": {
      "text/plain": [
       "'/news/stock-market-news/didi-sets-shareholder-meeting-to-vote-on-us-delisting-plans-2804854'"
      ]
     },
     "execution_count": 39,
     "metadata": {},
     "output_type": "execute_result"
    }
   ],
   "source": [
    "nlstdir[0].select('a')[0]['href']"
   ]
  },
  {
   "cell_type": "code",
   "execution_count": 64,
   "id": "fcf884a3",
   "metadata": {
    "ExecuteTime": {
     "end_time": "2022-04-16T17:53:17.529798Z",
     "start_time": "2022-04-16T17:53:15.745594Z"
    }
   },
   "outputs": [
    {
     "data": {
      "text/plain": [
       "[]"
      ]
     },
     "execution_count": 64,
     "metadata": {},
     "output_type": "execute_result"
    }
   ],
   "source": [
    "news = BeautifulSoup(requests.get('https://invst.ly/xxosq').text, 'html.parser')\n",
    "news.select('#main-article-header > div > div.ArticleHeader-wrapperHeroNoImage.ArticleHeader-wrapperHero.ArticleHeader-wrapper.ArticleHeader-wrapperNoImage > div.ArticleHeader-time > time')"
   ]
  },
  {
   "cell_type": "code",
   "execution_count": 73,
   "id": "09fd66d2",
   "metadata": {
    "ExecuteTime": {
     "end_time": "2022-04-16T17:55:51.912389Z",
     "start_time": "2022-04-16T17:55:51.890448Z"
    }
   },
   "outputs": [
    {
     "name": "stdout",
     "output_type": "stream",
     "text": [
      "\n",
      "The Russian President of the Chamber of Commerce and Industry Sergei Katyrin has proposed a new cross-border cryptocurrency settlement for import-export payments, with the intention of boosting relations with African nations.\n",
      "In a report by Russian news agency TASS, Sergei Katyrin sent a letter to Prime Minister Mikhail Mishustin that included a set of proposals for developing cooperation with African countries. \n",
      "\n",
      "\"It seems appropriate to instruct the Ministry of Finance of the Russian Federation, together with the Central Bank, to ensure the conclusion of intergovernmental agreements with African states (as agreed) on the use of national currencies and cryptocurrencies in mutual settlements and payments. To work out the issue of establishing a specialized export-import bank, as well as a trust fund to support export activities of small and medium-sized businesses in African countries,\" the letter noted. \n",
      "\n",
      "The President of the Chamber of Commerce and Industry also brought up the possibility of two industry and trade departments establishing trade missions in African states as well as creating free trade zones and encouraging investment.\n",
      "Katyrin also stressed the impact of the “negative transformation of trade and economic relations on the part of the collective west” and how cooperation with other nations, in this case, African nations, “ is of particular importance for the future development of Russia”.\n",
      "With large-scale sanctions being imposed upon Russia following their attack on Ukraine, Russia has faced increasing restrictions on their ability to trade internationally. \n",
      "Ukraine legalized cryptocurrency in March, and has received large donations from the crypto community after Ukrainian President Zelenskyy signed the Virtual Assets Bill. \n",
      "Russia has also moved to allow opening up cryptocurrency payments including BTC, for energy exports, with a proposal presented by Russian State Duma Deputy and Energy Committee Chairman Pavel Zavalny at a press conference at the end of March.\n",
      "The recent recommendations by Russia’s commerce executive are an indication of Russia’s intention to continue to pursue cryptocurrencies,  turning to African nations to facilitate the continuation of international trade.\n",
      "Disclaimer: This article is provided for informational purposes only. It is not offered or intended to be used as legal, tax, investment, financial, or other advice.\n",
      "\n"
     ]
    }
   ],
   "source": [
    "for lst in news.select('div.news-content'):\n",
    "    lst.text"
   ]
  },
  {
   "cell_type": "code",
   "execution_count": null,
   "id": "058933cd",
   "metadata": {},
   "outputs": [],
   "source": []
  }
 ],
 "metadata": {
  "kernelspec": {
   "display_name": "Python 3 (ipykernel)",
   "language": "python",
   "name": "python3"
  },
  "language_info": {
   "codemirror_mode": {
    "name": "ipython",
    "version": 3
   },
   "file_extension": ".py",
   "mimetype": "text/x-python",
   "name": "python",
   "nbconvert_exporter": "python",
   "pygments_lexer": "ipython3",
   "version": "3.7.13"
  },
  "toc": {
   "base_numbering": 1,
   "nav_menu": {},
   "number_sections": true,
   "sideBar": true,
   "skip_h1_title": false,
   "title_cell": "Table of Contents",
   "title_sidebar": "Contents",
   "toc_cell": false,
   "toc_position": {},
   "toc_section_display": true,
   "toc_window_display": false
  },
  "varInspector": {
   "cols": {
    "lenName": 16,
    "lenType": 16,
    "lenVar": 40
   },
   "kernels_config": {
    "python": {
     "delete_cmd_postfix": "",
     "delete_cmd_prefix": "del ",
     "library": "var_list.py",
     "varRefreshCmd": "print(var_dic_list())"
    },
    "r": {
     "delete_cmd_postfix": ") ",
     "delete_cmd_prefix": "rm(",
     "library": "var_list.r",
     "varRefreshCmd": "cat(var_dic_list()) "
    }
   },
   "position": {
    "height": "144.83px",
    "left": "1095.82px",
    "right": "20px",
    "top": "133px",
    "width": "350px"
   },
   "types_to_exclude": [
    "module",
    "function",
    "builtin_function_or_method",
    "instance",
    "_Feature"
   ],
   "window_display": false
  }
 },
 "nbformat": 4,
 "nbformat_minor": 5
}
