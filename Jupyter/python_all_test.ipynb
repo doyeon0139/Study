{
 "cells": [
  {
   "cell_type": "code",
   "execution_count": 1,
   "id": "5218358b",
   "metadata": {
    "collapsed": true
   },
   "outputs": [
    {
     "ename": "NameError",
     "evalue": "name 'String' is not defined",
     "output_type": "error",
     "traceback": [
      "\u001b[1;31m---------------------------------------------------------------------------\u001b[0m",
      "\u001b[1;31mNameError\u001b[0m                                 Traceback (most recent call last)",
      "\u001b[1;32m~\\AppData\\Local\\Temp/ipykernel_30864/2440463704.py\u001b[0m in \u001b[0;36m<module>\u001b[1;34m\u001b[0m\n\u001b[1;32m----> 1\u001b[1;33m \u001b[0mString\u001b[0m\u001b[1;33m\u001b[0m\u001b[1;33m\u001b[0m\u001b[0m\n\u001b[0m\u001b[0;32m      2\u001b[0m \u001b[0mtxt1\u001b[0m \u001b[1;33m=\u001b[0m \u001b[1;34m'A tale that was not right'\u001b[0m\u001b[1;33m\u001b[0m\u001b[1;33m\u001b[0m\u001b[0m\n\u001b[0;32m      3\u001b[0m \u001b[1;31m# 'ale' 이 출력..\u001b[0m\u001b[1;33m\u001b[0m\u001b[1;33m\u001b[0m\u001b[0m\n\u001b[0;32m      4\u001b[0m \u001b[1;31m# 'A tale' 출력\u001b[0m\u001b[1;33m\u001b[0m\u001b[1;33m\u001b[0m\u001b[0m\n\u001b[0;32m      5\u001b[0m \u001b[1;31m# 'not' 출력\u001b[0m\u001b[1;33m\u001b[0m\u001b[1;33m\u001b[0m\u001b[0m\n",
      "\u001b[1;31mNameError\u001b[0m: name 'String' is not defined"
     ]
    }
   ],
   "source": [
    "String\n",
    "txt1 = 'A tale that was not right'\n",
    "# 'ale' 이 출력..\n",
    "# 'A tale' 출력\n",
    "# 'not' 출력\n",
    "# txt1을 소문자 전환\n",
    "# txt1을 대문자 전환\n",
    "# 'o'가 몇 개 존재하는가?\n",
    "# 'o'가 몇 번 인덱스에 존재하는가?\n",
    "# txt1의 길이는 어떻게 되는가?\n",
    "# space를 기준으로 나누어서 List에 담으세요..\n",
    "# 'tale'을  'story'로 바꾸세요..\n",
    "# txt1 안에 'right'가 존재하는지 확인"
   ]
  },
  {
   "cell_type": "code",
   "execution_count": 213,
   "id": "fbcc4e6b",
   "metadata": {},
   "outputs": [
    {
     "data": {
      "text/plain": [
       "'ale'"
      ]
     },
     "execution_count": 213,
     "metadata": {},
     "output_type": "execute_result"
    }
   ],
   "source": [
    "# String\n",
    "txt1 = 'A tale that was not right'\n",
    "# 'ale' 이 출력..\n",
    "txt1[3:6]"
   ]
  },
  {
   "cell_type": "code",
   "execution_count": 214,
   "id": "391e4fb1",
   "metadata": {},
   "outputs": [
    {
     "data": {
      "text/plain": [
       "'A tale'"
      ]
     },
     "execution_count": 214,
     "metadata": {},
     "output_type": "execute_result"
    }
   ],
   "source": [
    "# 'A tale' 출력\n",
    "txt1[:6]"
   ]
  },
  {
   "cell_type": "code",
   "execution_count": 215,
   "id": "bedfdb7d",
   "metadata": {},
   "outputs": [
    {
     "data": {
      "text/plain": [
       "'not'"
      ]
     },
     "execution_count": 215,
     "metadata": {},
     "output_type": "execute_result"
    }
   ],
   "source": [
    "# 'not' 출력\n",
    "txt1[-9:-6]"
   ]
  },
  {
   "cell_type": "code",
   "execution_count": 216,
   "id": "57cd9912",
   "metadata": {},
   "outputs": [
    {
     "data": {
      "text/plain": [
       "'a tale that was not right'"
      ]
     },
     "execution_count": 216,
     "metadata": {},
     "output_type": "execute_result"
    }
   ],
   "source": [
    "# txt1을 소문자 전환\n",
    "txt1.lower()"
   ]
  },
  {
   "cell_type": "code",
   "execution_count": 217,
   "id": "280d157a",
   "metadata": {},
   "outputs": [
    {
     "data": {
      "text/plain": [
       "'A TALE THAT WAS NOT RIGHT'"
      ]
     },
     "execution_count": 217,
     "metadata": {},
     "output_type": "execute_result"
    }
   ],
   "source": [
    "# txt1을 대문자 전환\n",
    "txt1.upper()"
   ]
  },
  {
   "cell_type": "code",
   "execution_count": 218,
   "id": "8d14f51c",
   "metadata": {},
   "outputs": [
    {
     "data": {
      "text/plain": [
       "1"
      ]
     },
     "execution_count": 218,
     "metadata": {},
     "output_type": "execute_result"
    }
   ],
   "source": [
    "# 'o'가 몇 개 존재하는가?\n",
    "txt1.count('o')"
   ]
  },
  {
   "cell_type": "code",
   "execution_count": 219,
   "id": "0e165628",
   "metadata": {},
   "outputs": [
    {
     "data": {
      "text/plain": [
       "17"
      ]
     },
     "execution_count": 219,
     "metadata": {},
     "output_type": "execute_result"
    }
   ],
   "source": [
    "# 'o'가 몇 번 인덱스에 존재하는가?\n",
    "txt1.index('o')"
   ]
  },
  {
   "cell_type": "code",
   "execution_count": 220,
   "id": "00c11a04",
   "metadata": {},
   "outputs": [
    {
     "data": {
      "text/plain": [
       "25"
      ]
     },
     "execution_count": 220,
     "metadata": {},
     "output_type": "execute_result"
    }
   ],
   "source": [
    "# txt1의 길이는 어떻게 되는가?\n",
    "len(txt1)"
   ]
  },
  {
   "cell_type": "code",
   "execution_count": 221,
   "id": "262115ff",
   "metadata": {},
   "outputs": [
    {
     "data": {
      "text/plain": [
       "['A', 'tale', 'that', 'was', 'not', 'right']"
      ]
     },
     "execution_count": 221,
     "metadata": {},
     "output_type": "execute_result"
    }
   ],
   "source": [
    "# space를 기준으로 나누어서 List에 담으세요..\n",
    "txt1.split(' ')"
   ]
  },
  {
   "cell_type": "code",
   "execution_count": 222,
   "id": "dbd3348d",
   "metadata": {},
   "outputs": [
    {
     "data": {
      "text/plain": [
       "'A story that was not right'"
      ]
     },
     "execution_count": 222,
     "metadata": {},
     "output_type": "execute_result"
    }
   ],
   "source": [
    "# 'tale'을  'story'로 바꾸세요..\n",
    "txt1.replace('tale','story')"
   ]
  },
  {
   "cell_type": "code",
   "execution_count": 223,
   "id": "8739b7a5",
   "metadata": {},
   "outputs": [
    {
     "data": {
      "text/plain": [
       "True"
      ]
     },
     "execution_count": 223,
     "metadata": {},
     "output_type": "execute_result"
    }
   ],
   "source": [
    "# txt1 안에 'right'가 존재하는지 확인\n",
    "'right' in txt1"
   ]
  },
  {
   "cell_type": "code",
   "execution_count": null,
   "id": "e7933c49",
   "metadata": {},
   "outputs": [],
   "source": [
    "# List\n",
    "sol = ['태양','수성','금성','지구','화성','목성','지구']\n",
    "sol1 = ['토성','천황성','해왕성']\n",
    "planet = '지구'\n",
    "\n",
    "# 1. sol에서 ['수성','금성']을 출력\n",
    "# 2. sol에서 '지구' 위치 인덱스 출력\n",
    "# 3. sol에서 '화성'을 '해왕성'으로 수정\n",
    "# 4. '수성'자리에 '명왕성' 삽입\n",
    "# 5. '토성'을 맨 끝에 삽입\n",
    "# 6. 맨 끝 요소를 삭제하고 리턴\n",
    "# 7. '금성'을 제거\n",
    "# 8. 1번 인덱스에서 3번 인덱스까지 삭제\n",
    "# 9. 인덱스 2번 요소 삭제\n",
    "# 10. sol과 sol1을 합치세요\n",
    "# 11. 내림차순 정렬\n",
    "# 12. 오름차순 정렬\n",
    "# 13. '만리장성'이 있는지 확인\n",
    "# 14. so1을 3번 반복하세요\n",
    "# 15. 길이를 출력하세요\n",
    "# 16. '지구'가 몇 개 포함되어있는지 확인.\n",
    "# 17. 모든 원소를 지우세요.\n",
    "# 18. sol리스트를 삭제하세요.."
   ]
  },
  {
   "cell_type": "code",
   "execution_count": 224,
   "id": "6c6e1999",
   "metadata": {},
   "outputs": [
    {
     "data": {
      "text/plain": [
       "['수성', '금성']"
      ]
     },
     "execution_count": 224,
     "metadata": {},
     "output_type": "execute_result"
    }
   ],
   "source": [
    "# List\n",
    "sol = ['태양','수성','금성','지구','화성','목성','지구']\n",
    "sol1 = ['토성','천황성','해왕성']\n",
    "planet = '지구'\n",
    "\n",
    "# 1. sol에서 ['수성','금성']을 출력\n",
    "sol[1:3]"
   ]
  },
  {
   "cell_type": "code",
   "execution_count": 225,
   "id": "a161bb83",
   "metadata": {},
   "outputs": [
    {
     "data": {
      "text/plain": [
       "3"
      ]
     },
     "execution_count": 225,
     "metadata": {},
     "output_type": "execute_result"
    }
   ],
   "source": [
    "# 2. sol에서 '지구' 위치 인덱스 출력\n",
    "sol.index('지구')"
   ]
  },
  {
   "cell_type": "code",
   "execution_count": 226,
   "id": "0d3d0eb7",
   "metadata": {},
   "outputs": [
    {
     "data": {
      "text/plain": [
       "['태양', '수성', '금성', '지구', '해왕성', '목성', '지구']"
      ]
     },
     "execution_count": 226,
     "metadata": {},
     "output_type": "execute_result"
    }
   ],
   "source": [
    "# 3. sol에서 '화성'을 '해왕성'으로 수정\n",
    "sol[4]='해왕성'\n",
    "sol"
   ]
  },
  {
   "cell_type": "code",
   "execution_count": 227,
   "id": "e86ef6bd",
   "metadata": {},
   "outputs": [
    {
     "data": {
      "text/plain": [
       "['태양', '명왕성', '수성', '금성', '지구', '해왕성', '목성', '지구']"
      ]
     },
     "execution_count": 227,
     "metadata": {},
     "output_type": "execute_result"
    }
   ],
   "source": [
    "# 4. '수성'자리에 '명왕성' 삽입\n",
    "sol.insert(1,'명왕성')\n",
    "sol"
   ]
  },
  {
   "cell_type": "code",
   "execution_count": 228,
   "id": "826e0b31",
   "metadata": {},
   "outputs": [],
   "source": [
    "# 5. '토성'을 맨 끝에 삽입\n",
    "sol.append('토성')"
   ]
  },
  {
   "cell_type": "code",
   "execution_count": 229,
   "id": "e8b1e2b5",
   "metadata": {},
   "outputs": [
    {
     "data": {
      "text/plain": [
       "['태양', '명왕성', '수성', '금성', '지구', '해왕성', '목성', '지구']"
      ]
     },
     "execution_count": 229,
     "metadata": {},
     "output_type": "execute_result"
    }
   ],
   "source": [
    "# 6. 맨 끝 요소를 삭제하고 리턴\n",
    "sol.pop()\n",
    "sol"
   ]
  },
  {
   "cell_type": "code",
   "execution_count": 230,
   "id": "e3530142",
   "metadata": {},
   "outputs": [
    {
     "data": {
      "text/plain": [
       "['태양', '명왕성', '수성', '지구', '해왕성', '목성', '지구']"
      ]
     },
     "execution_count": 230,
     "metadata": {},
     "output_type": "execute_result"
    }
   ],
   "source": [
    "# 7. '금성'을 제거\n",
    "sol.remove('금성')\n",
    "sol"
   ]
  },
  {
   "cell_type": "code",
   "execution_count": 232,
   "id": "e1e879ba",
   "metadata": {},
   "outputs": [
    {
     "data": {
      "text/plain": [
       "['태양', '해왕성', '목성', '지구']"
      ]
     },
     "execution_count": 232,
     "metadata": {},
     "output_type": "execute_result"
    }
   ],
   "source": [
    "# 8. 1번 인덱스에서 3번 인덱스까지 삭제\n",
    "del sol[1:4]\n",
    "sol"
   ]
  },
  {
   "cell_type": "code",
   "execution_count": 233,
   "id": "32b591b2",
   "metadata": {},
   "outputs": [
    {
     "data": {
      "text/plain": [
       "['태양', '해왕성', '지구']"
      ]
     },
     "execution_count": 233,
     "metadata": {},
     "output_type": "execute_result"
    }
   ],
   "source": [
    "# 9. 인덱스 2번 요소 삭제\n",
    "sol.pop(2)\n",
    "sol"
   ]
  },
  {
   "cell_type": "code",
   "execution_count": 235,
   "id": "ba805235",
   "metadata": {},
   "outputs": [],
   "source": [
    "# 10. sol과 sol1을 합치세요\n",
    "sol = sol+sol1"
   ]
  },
  {
   "cell_type": "code",
   "execution_count": 236,
   "id": "e9b7cf8e",
   "metadata": {},
   "outputs": [
    {
     "data": {
      "text/plain": [
       "['해왕성', '해왕성', '토성', '태양', '천황성', '지구']"
      ]
     },
     "execution_count": 236,
     "metadata": {},
     "output_type": "execute_result"
    }
   ],
   "source": [
    "# 11. 내림차순 정렬\n",
    "sorted(sol, reverse=True)"
   ]
  },
  {
   "cell_type": "code",
   "execution_count": 237,
   "id": "3b4a6d1f",
   "metadata": {},
   "outputs": [
    {
     "data": {
      "text/plain": [
       "['지구', '천황성', '태양', '토성', '해왕성', '해왕성']"
      ]
     },
     "execution_count": 237,
     "metadata": {},
     "output_type": "execute_result"
    }
   ],
   "source": [
    "# 12. 오름차순 정렬\n",
    "sorted(sol, reverse=False)"
   ]
  },
  {
   "cell_type": "code",
   "execution_count": 238,
   "id": "0da38ffb",
   "metadata": {},
   "outputs": [
    {
     "data": {
      "text/plain": [
       "False"
      ]
     },
     "execution_count": 238,
     "metadata": {},
     "output_type": "execute_result"
    }
   ],
   "source": [
    "# 13. '만리장성'이 있는지 확인\n",
    "'만리장성' in sol"
   ]
  },
  {
   "cell_type": "code",
   "execution_count": 239,
   "id": "9483a6fd",
   "metadata": {},
   "outputs": [
    {
     "data": {
      "text/plain": [
       "['태양',\n",
       " '해왕성',\n",
       " '지구',\n",
       " '토성',\n",
       " '천황성',\n",
       " '해왕성',\n",
       " '태양',\n",
       " '해왕성',\n",
       " '지구',\n",
       " '토성',\n",
       " '천황성',\n",
       " '해왕성',\n",
       " '태양',\n",
       " '해왕성',\n",
       " '지구',\n",
       " '토성',\n",
       " '천황성',\n",
       " '해왕성']"
      ]
     },
     "execution_count": 239,
     "metadata": {},
     "output_type": "execute_result"
    }
   ],
   "source": [
    "# 14. so1을 3번 반복하세요\n",
    "sol * 3"
   ]
  },
  {
   "cell_type": "code",
   "execution_count": 240,
   "id": "5c730bab",
   "metadata": {},
   "outputs": [
    {
     "data": {
      "text/plain": [
       "6"
      ]
     },
     "execution_count": 240,
     "metadata": {},
     "output_type": "execute_result"
    }
   ],
   "source": [
    "# 15. 길이를 출력하세요\n",
    "len(sol)"
   ]
  },
  {
   "cell_type": "code",
   "execution_count": 241,
   "id": "64ac9475",
   "metadata": {},
   "outputs": [
    {
     "data": {
      "text/plain": [
       "1"
      ]
     },
     "execution_count": 241,
     "metadata": {},
     "output_type": "execute_result"
    }
   ],
   "source": [
    "# 16. '지구'가 몇 개 포함되어있는지 확인.\n",
    "sol.count('지구')"
   ]
  },
  {
   "cell_type": "code",
   "execution_count": 242,
   "id": "83dea706",
   "metadata": {},
   "outputs": [
    {
     "data": {
      "text/plain": [
       "[]"
      ]
     },
     "execution_count": 242,
     "metadata": {},
     "output_type": "execute_result"
    }
   ],
   "source": [
    "# 17. 모든 원소를 지우세요.\n",
    "sol.clear()\n",
    "sol"
   ]
  },
  {
   "cell_type": "code",
   "execution_count": null,
   "id": "d5ec1639",
   "metadata": {},
   "outputs": [],
   "source": [
    "# 18. sol리스트를 삭제하세요..\n",
    "del sol"
   ]
  },
  {
   "cell_type": "code",
   "execution_count": null,
   "id": "d790bf66",
   "metadata": {},
   "outputs": [],
   "source": [
    "# Tuple\n",
    "myTuple = ('tuple',(1,2,3),[4,5,6,7,8],'7','8','9')\n",
    "\n",
    "# 'tuple'을 출력하세요\n",
    "# 3을 출력하세요\n",
    "# 4,5를 출력하세요\n",
    "# [4,5,6]을 출력하세요\n",
    "# tuple의 길이를 리턴하세요(요소의 갯수가 몇개인지)\n",
    "# '7'이 있는지 확인하세요\n",
    "# '7'의 인덱스를 출력하세요.\n",
    "# '7'이 몇 개 있는지 확인하세요\n",
    "# 인데스 2번를 출력하세요\n",
    "# 인데스 2번에서 최대값을 출력하세요\n",
    "# 인데스 2번에서 최소값을 출력하세요\n",
    "# 인데스 2번에서 총합을 출력하세요\n",
    "# 인데스 2번에서 평균을 출력하세요\n",
    "# 인데스 2번를 내림차순 정렬해서 출력하세요."
   ]
  },
  {
   "cell_type": "code",
   "execution_count": 243,
   "id": "0dc7cabd",
   "metadata": {},
   "outputs": [
    {
     "name": "stdout",
     "output_type": "stream",
     "text": [
      "('tuple', (1, 2, 3), [4, 5, 6, 7, 8], '7', '8', '9')\n"
     ]
    }
   ],
   "source": [
    "# Tuple\n",
    "myTuple = ('tuple',(1,2,3),[4,5,6,7,8],'7','8','9')\n",
    "\n",
    "# 'tuple'을 출력하세요\n",
    "print(myTuple)"
   ]
  },
  {
   "cell_type": "code",
   "execution_count": 244,
   "id": "fd31b075",
   "metadata": {},
   "outputs": [
    {
     "data": {
      "text/plain": [
       "3"
      ]
     },
     "execution_count": 244,
     "metadata": {},
     "output_type": "execute_result"
    }
   ],
   "source": [
    "# 3을 출력하세요\n",
    "myTuple[1][2]"
   ]
  },
  {
   "cell_type": "code",
   "execution_count": 245,
   "id": "b5ac1647",
   "metadata": {},
   "outputs": [
    {
     "data": {
      "text/plain": [
       "[4, 5]"
      ]
     },
     "execution_count": 245,
     "metadata": {},
     "output_type": "execute_result"
    }
   ],
   "source": [
    "# 4,5를 출력하세요\n",
    "myTuple[2][:2]"
   ]
  },
  {
   "cell_type": "code",
   "execution_count": 246,
   "id": "841656bd",
   "metadata": {},
   "outputs": [
    {
     "data": {
      "text/plain": [
       "[4, 5, 6]"
      ]
     },
     "execution_count": 246,
     "metadata": {},
     "output_type": "execute_result"
    }
   ],
   "source": [
    "# [4,5,6]을 출력하세요\n",
    "myTuple[2][:3]"
   ]
  },
  {
   "cell_type": "code",
   "execution_count": 247,
   "id": "26463c25",
   "metadata": {},
   "outputs": [
    {
     "data": {
      "text/plain": [
       "6"
      ]
     },
     "execution_count": 247,
     "metadata": {},
     "output_type": "execute_result"
    }
   ],
   "source": [
    "# tuple의 길이를 리턴하세요(요소의 갯수가 몇개인지)\n",
    "len(myTuple)"
   ]
  },
  {
   "cell_type": "code",
   "execution_count": 248,
   "id": "0eca2c85",
   "metadata": {},
   "outputs": [
    {
     "data": {
      "text/plain": [
       "True"
      ]
     },
     "execution_count": 248,
     "metadata": {},
     "output_type": "execute_result"
    }
   ],
   "source": [
    "# '7'이 있는지 확인하세요\n",
    "'7' in myTuple"
   ]
  },
  {
   "cell_type": "code",
   "execution_count": 249,
   "id": "e9639ff1",
   "metadata": {},
   "outputs": [
    {
     "data": {
      "text/plain": [
       "3"
      ]
     },
     "execution_count": 249,
     "metadata": {},
     "output_type": "execute_result"
    }
   ],
   "source": [
    "# '7'의 인덱스를 출력하세요.\n",
    "myTuple.index('7')"
   ]
  },
  {
   "cell_type": "code",
   "execution_count": 251,
   "id": "376dc9a3",
   "metadata": {},
   "outputs": [
    {
     "data": {
      "text/plain": [
       "1"
      ]
     },
     "execution_count": 251,
     "metadata": {},
     "output_type": "execute_result"
    }
   ],
   "source": [
    "# '7'이 몇 개 있는지 확인하세요\n",
    "myTuple.count('7')"
   ]
  },
  {
   "cell_type": "code",
   "execution_count": 252,
   "id": "c19d5b80",
   "metadata": {},
   "outputs": [
    {
     "data": {
      "text/plain": [
       "[4, 5, 6, 7, 8]"
      ]
     },
     "execution_count": 252,
     "metadata": {},
     "output_type": "execute_result"
    }
   ],
   "source": [
    "# 인데스 2번를 출력하세요\n",
    "myTuple[2]"
   ]
  },
  {
   "cell_type": "code",
   "execution_count": 253,
   "id": "aef1ac21",
   "metadata": {},
   "outputs": [
    {
     "data": {
      "text/plain": [
       "8"
      ]
     },
     "execution_count": 253,
     "metadata": {},
     "output_type": "execute_result"
    }
   ],
   "source": [
    "# 인데스 2번에서 최대값을 출력하세요\n",
    "max(myTuple[2])"
   ]
  },
  {
   "cell_type": "code",
   "execution_count": 257,
   "id": "74a0e619",
   "metadata": {},
   "outputs": [
    {
     "data": {
      "text/plain": [
       "4"
      ]
     },
     "execution_count": 257,
     "metadata": {},
     "output_type": "execute_result"
    }
   ],
   "source": [
    "# 인데스 2번에서 최소값을 출력하세요\n",
    "min(myTuple[2])"
   ]
  },
  {
   "cell_type": "code",
   "execution_count": 258,
   "id": "5de95ce6",
   "metadata": {},
   "outputs": [
    {
     "ename": "TypeError",
     "evalue": "'int' object is not callable",
     "output_type": "error",
     "traceback": [
      "\u001b[1;31m---------------------------------------------------------------------------\u001b[0m",
      "\u001b[1;31mTypeError\u001b[0m                                 Traceback (most recent call last)",
      "\u001b[1;32m~\\AppData\\Local\\Temp/ipykernel_30864/4271533809.py\u001b[0m in \u001b[0;36m<module>\u001b[1;34m\u001b[0m\n\u001b[0;32m      1\u001b[0m \u001b[1;31m# 인데스 2번에서 총합을 출력하세요\u001b[0m\u001b[1;33m\u001b[0m\u001b[1;33m\u001b[0m\u001b[0m\n\u001b[1;32m----> 2\u001b[1;33m \u001b[0msum\u001b[0m\u001b[1;33m(\u001b[0m\u001b[0mmyTuple\u001b[0m\u001b[1;33m[\u001b[0m\u001b[1;36m2\u001b[0m\u001b[1;33m]\u001b[0m\u001b[1;33m)\u001b[0m\u001b[1;33m\u001b[0m\u001b[1;33m\u001b[0m\u001b[0m\n\u001b[0m",
      "\u001b[1;31mTypeError\u001b[0m: 'int' object is not callable"
     ]
    }
   ],
   "source": [
    "# 인데스 2번에서 총합을 출력하세요\n",
    "sum(myTuple[2])"
   ]
  },
  {
   "cell_type": "code",
   "execution_count": 259,
   "id": "a17b93ab",
   "metadata": {},
   "outputs": [
    {
     "ename": "TypeError",
     "evalue": "'int' object is not callable",
     "output_type": "error",
     "traceback": [
      "\u001b[1;31m---------------------------------------------------------------------------\u001b[0m",
      "\u001b[1;31mTypeError\u001b[0m                                 Traceback (most recent call last)",
      "\u001b[1;32m~\\AppData\\Local\\Temp/ipykernel_30864/4089144330.py\u001b[0m in \u001b[0;36m<module>\u001b[1;34m\u001b[0m\n\u001b[0;32m      1\u001b[0m \u001b[1;31m# 인데스 2번에서 평균을 출력하세요\u001b[0m\u001b[1;33m\u001b[0m\u001b[1;33m\u001b[0m\u001b[0m\n\u001b[1;32m----> 2\u001b[1;33m \u001b[0msum\u001b[0m\u001b[1;33m(\u001b[0m\u001b[0mmyTuple\u001b[0m\u001b[1;33m[\u001b[0m\u001b[1;36m2\u001b[0m\u001b[1;33m]\u001b[0m\u001b[1;33m)\u001b[0m\u001b[1;33m/\u001b[0m\u001b[0mlen\u001b[0m\u001b[1;33m(\u001b[0m\u001b[0mmyTuple\u001b[0m\u001b[1;33m[\u001b[0m\u001b[1;36m2\u001b[0m\u001b[1;33m]\u001b[0m\u001b[1;33m)\u001b[0m\u001b[1;33m\u001b[0m\u001b[1;33m\u001b[0m\u001b[0m\n\u001b[0m",
      "\u001b[1;31mTypeError\u001b[0m: 'int' object is not callable"
     ]
    }
   ],
   "source": [
    "# 인데스 2번에서 평균을 출력하세요\n",
    "sum(myTuple[2])/len(myTuple[2])"
   ]
  },
  {
   "cell_type": "code",
   "execution_count": 260,
   "id": "8f432455",
   "metadata": {},
   "outputs": [
    {
     "data": {
      "text/plain": [
       "[8, 7, 6, 5, 4]"
      ]
     },
     "execution_count": 260,
     "metadata": {},
     "output_type": "execute_result"
    }
   ],
   "source": [
    "# 인데스 2번를 내림차순 정렬해서 출력하세요.\n",
    "sorted(myTuple[2], reverse=True)"
   ]
  },
  {
   "cell_type": "code",
   "execution_count": null,
   "id": "3d674c9d",
   "metadata": {},
   "outputs": [],
   "source": [
    "# Set\n",
    "\n",
    "# 원소가 없는 set인 s를 만드세요\n",
    "# s에 원소 'sky'와 'earth'를 추가하세요\n",
    "# s에 1,2 두 원소를 추가하세요\n",
    "# s에서 'sky'를 삭제하세요\n",
    "\n",
    "\n",
    "A = {1,2,3,4,5,6}\n",
    "B = {1,2,3,7,8,9}\n",
    "C = {1,2,3}\n",
    "\n",
    "# 두 집합의 합집합을 출력\n",
    "# 두 집합의 교집합을 출력\n",
    "# A의 B에 대한 차집합\n",
    "# 대칭차집합\n",
    "# C가 A의 부분집합인지 확인\n",
    "# A가 C를 포함하는지 확인\n",
    "\n",
    "# 집합 B의 길이를 출력\n",
    "# 집합 B의 최대값 출력\n",
    "# 집합 B의 최소값 출력\n",
    "# 집합 B의 합을 출력\n",
    "# 집합 B의 평균출력\n",
    "# 집합 B의 내림차순 출력\n",
    "# 집합 B에 5가 포함되어 있는지 확인"
   ]
  },
  {
   "cell_type": "code",
   "execution_count": 261,
   "id": "1880f45d",
   "metadata": {},
   "outputs": [
    {
     "data": {
      "text/plain": [
       "set()"
      ]
     },
     "execution_count": 261,
     "metadata": {},
     "output_type": "execute_result"
    }
   ],
   "source": [
    "# Set\n",
    "\n",
    "# 원소가 없는 set인 s를 만드세요\n",
    "s = set()\n",
    "s"
   ]
  },
  {
   "cell_type": "code",
   "execution_count": 262,
   "id": "2fdcb603",
   "metadata": {},
   "outputs": [],
   "source": [
    "# s에 원소 'sky'와 'earth'를 추가하세요\n",
    "s.add('sky')\n",
    "s.add('earth')"
   ]
  },
  {
   "cell_type": "code",
   "execution_count": 263,
   "id": "b4b9446f",
   "metadata": {},
   "outputs": [
    {
     "data": {
      "text/plain": [
       "{1, 2, 'earth', 'sky'}"
      ]
     },
     "execution_count": 263,
     "metadata": {},
     "output_type": "execute_result"
    }
   ],
   "source": [
    "# s에 1,2 두 원소를 추가하세요\n",
    "s.update({1,2})\n",
    "s"
   ]
  },
  {
   "cell_type": "code",
   "execution_count": 264,
   "id": "9a0e0d46",
   "metadata": {},
   "outputs": [
    {
     "data": {
      "text/plain": [
       "{1, 2, 'earth'}"
      ]
     },
     "execution_count": 264,
     "metadata": {},
     "output_type": "execute_result"
    }
   ],
   "source": [
    "# s에서 'sky'를 삭제하세요\n",
    "s.remove('sky')\n",
    "s"
   ]
  },
  {
   "cell_type": "code",
   "execution_count": 1,
   "id": "6f0689e0",
   "metadata": {},
   "outputs": [
    {
     "data": {
      "text/plain": [
       "{1, 2, 3, 4, 5, 6, 7, 8, 9}"
      ]
     },
     "execution_count": 1,
     "metadata": {},
     "output_type": "execute_result"
    }
   ],
   "source": [
    "A = {1,2,3,4,5,6}\n",
    "B = {1,2,3,7,8,9}\n",
    "C = {1,2,3}\n",
    "\n",
    "# 두 집합의 합집합을 출력\n",
    "A.union(B)"
   ]
  },
  {
   "cell_type": "code",
   "execution_count": 266,
   "id": "cac18f95",
   "metadata": {},
   "outputs": [
    {
     "data": {
      "text/plain": [
       "{1, 2, 3}"
      ]
     },
     "execution_count": 266,
     "metadata": {},
     "output_type": "execute_result"
    }
   ],
   "source": [
    "# 두 집합의 교집합을 출력\n",
    "A.intersection(B)"
   ]
  },
  {
   "cell_type": "code",
   "execution_count": 267,
   "id": "f8bbf1a0",
   "metadata": {},
   "outputs": [
    {
     "data": {
      "text/plain": [
       "{4, 5, 6}"
      ]
     },
     "execution_count": 267,
     "metadata": {},
     "output_type": "execute_result"
    }
   ],
   "source": [
    "# A의 B에 대한 차집합\n",
    "A.difference(B)"
   ]
  },
  {
   "cell_type": "code",
   "execution_count": 268,
   "id": "0ec6add4",
   "metadata": {},
   "outputs": [
    {
     "data": {
      "text/plain": [
       "{4, 5, 6, 7, 8, 9}"
      ]
     },
     "execution_count": 268,
     "metadata": {},
     "output_type": "execute_result"
    }
   ],
   "source": [
    "# 대칭차집합\n",
    "A.symmetric_difference(B)"
   ]
  },
  {
   "cell_type": "code",
   "execution_count": 269,
   "id": "712e8cff",
   "metadata": {},
   "outputs": [
    {
     "data": {
      "text/plain": [
       "True"
      ]
     },
     "execution_count": 269,
     "metadata": {},
     "output_type": "execute_result"
    }
   ],
   "source": [
    "# C가 A의 부분집합인지 확인\n",
    "C.issubset(A)"
   ]
  },
  {
   "cell_type": "code",
   "execution_count": 270,
   "id": "e4c199d6",
   "metadata": {},
   "outputs": [
    {
     "data": {
      "text/plain": [
       "False"
      ]
     },
     "execution_count": 270,
     "metadata": {},
     "output_type": "execute_result"
    }
   ],
   "source": [
    "# A가 C를 포함하는지 확인\n",
    "C.issuperset(A)"
   ]
  },
  {
   "cell_type": "code",
   "execution_count": 271,
   "id": "e41dad3e",
   "metadata": {},
   "outputs": [
    {
     "data": {
      "text/plain": [
       "6"
      ]
     },
     "execution_count": 271,
     "metadata": {},
     "output_type": "execute_result"
    }
   ],
   "source": [
    "# 집합 B의 길이를 출력\n",
    "len(B)"
   ]
  },
  {
   "cell_type": "code",
   "execution_count": 272,
   "id": "02aec01c",
   "metadata": {},
   "outputs": [
    {
     "data": {
      "text/plain": [
       "9"
      ]
     },
     "execution_count": 272,
     "metadata": {},
     "output_type": "execute_result"
    }
   ],
   "source": [
    "# 집합 B의 최대값 출력\n",
    "max(B)"
   ]
  },
  {
   "cell_type": "code",
   "execution_count": 273,
   "id": "c4850cae",
   "metadata": {},
   "outputs": [
    {
     "data": {
      "text/plain": [
       "1"
      ]
     },
     "execution_count": 273,
     "metadata": {},
     "output_type": "execute_result"
    }
   ],
   "source": [
    "# 집합 B의 최소값 출력\n",
    "min(B)"
   ]
  },
  {
   "cell_type": "code",
   "execution_count": 2,
   "id": "5c80c6c0",
   "metadata": {},
   "outputs": [
    {
     "data": {
      "text/plain": [
       "30"
      ]
     },
     "execution_count": 2,
     "metadata": {},
     "output_type": "execute_result"
    }
   ],
   "source": [
    "# 집합 B의 합을 출력\n",
    "sum(B)"
   ]
  },
  {
   "cell_type": "code",
   "execution_count": 3,
   "id": "bc83955f",
   "metadata": {},
   "outputs": [
    {
     "data": {
      "text/plain": [
       "5.0"
      ]
     },
     "execution_count": 3,
     "metadata": {},
     "output_type": "execute_result"
    }
   ],
   "source": [
    "# 집합 B의 평균출력\n",
    "sum(B)/len(B)"
   ]
  },
  {
   "cell_type": "code",
   "execution_count": 4,
   "id": "113826e5",
   "metadata": {},
   "outputs": [
    {
     "data": {
      "text/plain": [
       "[9, 8, 7, 3, 2, 1]"
      ]
     },
     "execution_count": 4,
     "metadata": {},
     "output_type": "execute_result"
    }
   ],
   "source": [
    "# 집합 B의 내림차순 출력\n",
    "sorted(B, reverse=True)"
   ]
  },
  {
   "cell_type": "code",
   "execution_count": 5,
   "id": "e8993465",
   "metadata": {},
   "outputs": [
    {
     "data": {
      "text/plain": [
       "False"
      ]
     },
     "execution_count": 5,
     "metadata": {},
     "output_type": "execute_result"
    }
   ],
   "source": [
    "# 집합 B에 5가 포함되어 있는지 확인\n",
    "5 in B"
   ]
  },
  {
   "cell_type": "code",
   "execution_count": null,
   "id": "574141d2",
   "metadata": {},
   "outputs": [],
   "source": [
    "# Dictionary\n",
    "\n",
    "# 'mydict'라는 딕셔너리를 만드세요.\n",
    "# 'red':4, 'blue':3, 'green':1 세 요소를 추가하세요.\n",
    "# key에 'blue'가 있는지 확인하세요.\n",
    "# mydict의 길이를 출력하세요.\n",
    "# 'red'의 값을 출력하세요.\n",
    "# 'red'의 값을 10으로 수정하세요.\n",
    "# key값만 출력하세요\n",
    "# value값만 출력하세요\n",
    "# key와 value를 튜플로 출력하세요.\n",
    "# (key기준으로 정렬하세요.)\n",
    "# (value기준으로 정렬하세요)\n",
    "# key 'blue'요소를 삭제하세요\n",
    "# key 'pink'요소 값을 출력하되 오류가 없도록 하세요\n",
    "# key 'pink' 값을 출력하되 없으면, value 20으로 새로이 추가하세요\n",
    "# value에 20이 있는지 확인하세요.\n",
    "# key는 'yellow'에 value는 30을 추가하세요.\n",
    "# yourdict = {'파랑':50, '빨강':70}을 합하세요.."
   ]
  },
  {
   "cell_type": "code",
   "execution_count": 6,
   "id": "5d5db477",
   "metadata": {},
   "outputs": [],
   "source": [
    "# Dictionary\n",
    "\n",
    "# 'mydict'라는 딕셔너리를 만드세요.\n",
    "mydict = {}"
   ]
  },
  {
   "cell_type": "code",
   "execution_count": 7,
   "id": "29f5f177",
   "metadata": {},
   "outputs": [
    {
     "data": {
      "text/plain": [
       "{'red': 4, 'blue': 3, 'green': 1}"
      ]
     },
     "execution_count": 7,
     "metadata": {},
     "output_type": "execute_result"
    }
   ],
   "source": [
    "# 'red':4, 'blue':3, 'green':1 세 요소를 추가하세요.\n",
    "mydict['red'] = 4\n",
    "mydict['blue'] = 3\n",
    "mydict['green'] = 1\n",
    "mydict"
   ]
  },
  {
   "cell_type": "code",
   "execution_count": 11,
   "id": "5f95f883",
   "metadata": {},
   "outputs": [
    {
     "data": {
      "text/plain": [
       "True"
      ]
     },
     "execution_count": 11,
     "metadata": {},
     "output_type": "execute_result"
    }
   ],
   "source": [
    "# key에 'blue'가 있는지 확인하세요.\n",
    "'blue' in mydict.keys()"
   ]
  },
  {
   "cell_type": "code",
   "execution_count": 12,
   "id": "dd6e6a49",
   "metadata": {},
   "outputs": [
    {
     "data": {
      "text/plain": [
       "3"
      ]
     },
     "execution_count": 12,
     "metadata": {},
     "output_type": "execute_result"
    }
   ],
   "source": [
    "# mydict의 길이를 출력하세요.\n",
    "len(mydict)"
   ]
  },
  {
   "cell_type": "code",
   "execution_count": 13,
   "id": "fd18b93a",
   "metadata": {},
   "outputs": [
    {
     "data": {
      "text/plain": [
       "4"
      ]
     },
     "execution_count": 13,
     "metadata": {},
     "output_type": "execute_result"
    }
   ],
   "source": [
    "# 'red'의 값을 출력하세요.\n",
    "mydict['red']"
   ]
  },
  {
   "cell_type": "code",
   "execution_count": 14,
   "id": "fd4bd2f4",
   "metadata": {},
   "outputs": [],
   "source": [
    "# 'red'의 값을 10으로 수정하세요.\n",
    "mydict['red'] = 10"
   ]
  },
  {
   "cell_type": "code",
   "execution_count": 15,
   "id": "43269fd0",
   "metadata": {},
   "outputs": [
    {
     "data": {
      "text/plain": [
       "dict_keys(['red', 'blue', 'green'])"
      ]
     },
     "execution_count": 15,
     "metadata": {},
     "output_type": "execute_result"
    }
   ],
   "source": [
    "# key값만 출력하세요\n",
    "mydict.keys()"
   ]
  },
  {
   "cell_type": "code",
   "execution_count": 16,
   "id": "7525499e",
   "metadata": {},
   "outputs": [
    {
     "data": {
      "text/plain": [
       "dict_values([10, 3, 1])"
      ]
     },
     "execution_count": 16,
     "metadata": {},
     "output_type": "execute_result"
    }
   ],
   "source": [
    "# value값만 출력하세요\n",
    "mydict.values()"
   ]
  },
  {
   "cell_type": "code",
   "execution_count": 17,
   "id": "d3940fe4",
   "metadata": {},
   "outputs": [
    {
     "data": {
      "text/plain": [
       "dict_items([('red', 10), ('blue', 3), ('green', 1)])"
      ]
     },
     "execution_count": 17,
     "metadata": {},
     "output_type": "execute_result"
    }
   ],
   "source": [
    "# key와 value를 튜플로 출력하세요.\n",
    "mydict.items()"
   ]
  },
  {
   "cell_type": "code",
   "execution_count": 18,
   "id": "68262386",
   "metadata": {},
   "outputs": [
    {
     "data": {
      "text/plain": [
       "[('blue', 3), ('green', 1), ('red', 10)]"
      ]
     },
     "execution_count": 18,
     "metadata": {},
     "output_type": "execute_result"
    }
   ],
   "source": [
    "# (key기준으로 정렬하세요.)\n",
    "sorted(mydict.items(), key = lambda x:x[0])"
   ]
  },
  {
   "cell_type": "code",
   "execution_count": 19,
   "id": "5abd867c",
   "metadata": {},
   "outputs": [
    {
     "data": {
      "text/plain": [
       "[('green', 1), ('blue', 3), ('red', 10)]"
      ]
     },
     "execution_count": 19,
     "metadata": {},
     "output_type": "execute_result"
    }
   ],
   "source": [
    "# (value기준으로 정렬하세요)\n",
    "sorted(mydict.items(), key = lambda x:x[1])"
   ]
  },
  {
   "cell_type": "code",
   "execution_count": 21,
   "id": "3edfb769",
   "metadata": {},
   "outputs": [
    {
     "data": {
      "text/plain": [
       "{'red': 10, 'green': 1}"
      ]
     },
     "execution_count": 21,
     "metadata": {},
     "output_type": "execute_result"
    }
   ],
   "source": [
    "# key 'blue'요소를 삭제하세요\n",
    "del mydict['blue']\n",
    "mydict"
   ]
  },
  {
   "cell_type": "code",
   "execution_count": 22,
   "id": "344ddb11",
   "metadata": {},
   "outputs": [],
   "source": [
    "# key 'pink'요소 값을 출력하되 오류가 없도록 하세요\n",
    "mydict.get('pink')"
   ]
  },
  {
   "cell_type": "code",
   "execution_count": 23,
   "id": "4006a47a",
   "metadata": {},
   "outputs": [
    {
     "data": {
      "text/plain": [
       "20"
      ]
     },
     "execution_count": 23,
     "metadata": {},
     "output_type": "execute_result"
    }
   ],
   "source": [
    "# key 'pink' 값을 출력하되 없으면, value 20으로 새로이 추가하세요\n",
    "mydict.setdefault('pink',20)"
   ]
  },
  {
   "cell_type": "code",
   "execution_count": 24,
   "id": "869ede0c",
   "metadata": {},
   "outputs": [
    {
     "data": {
      "text/plain": [
       "True"
      ]
     },
     "execution_count": 24,
     "metadata": {},
     "output_type": "execute_result"
    }
   ],
   "source": [
    "# value에 20이 있는지 확인하세요.\n",
    "20 in mydict.values()"
   ]
  },
  {
   "cell_type": "code",
   "execution_count": 25,
   "id": "3b6cd868",
   "metadata": {},
   "outputs": [],
   "source": [
    "# key는 'yellow'에 value는 30을 추가하세요.\n",
    "mydict['yellow'] = 30"
   ]
  },
  {
   "cell_type": "code",
   "execution_count": 26,
   "id": "b7e5c04d",
   "metadata": {},
   "outputs": [
    {
     "data": {
      "text/plain": [
       "{'red': 10, 'green': 1, 'pink': 20, 'yellow': 30, '파랑': 50, '빨강': 70}"
      ]
     },
     "execution_count": 26,
     "metadata": {},
     "output_type": "execute_result"
    }
   ],
   "source": [
    "# yourdict = {'파랑':50, '빨강':70}을 합하세요..\n",
    "yourdict = {'파랑':50, '빨강':70}\n",
    "mydict.update(yourdict)\n",
    "mydict"
   ]
  },
  {
   "cell_type": "code",
   "execution_count": null,
   "id": "eae0ec13",
   "metadata": {},
   "outputs": [],
   "source": [
    "# If\n",
    "\n",
    "## 임의 정수(n)를 입력받은 후 0부터 n까지의 정수 중 짝수들의 합을 구하시오.\n",
    "\n",
    "\n",
    "# 주민번호 '851205-2000000'\n",
    "# 주민번호를 입력받은 후 \"당신의 나이는 __이고, 성별은 __입니다\"를 출력하시오..\n",
    "\n",
    "\n",
    "# names = {'mary':1520, 'tom':5214, 'park':5478, 'sams':5478}\n",
    "# 이름을 입력받은 후 names dict에 이름이 있으면 값을 출력하고,\n",
    "# 없으면 새로운 값 2000과 함께 dict에 'key':'value'로 추가\n",
    "# setdefault를 사용하지 않음..\n",
    "\n",
    "\n",
    "# 학점 출력.. 점수를 입력받은 후..\n",
    "# 90점 이상이면 \"당신은 'A'학점입니다\"를 출력\n",
    "# 80점 이상이면서 90점 미만이면 \"당신은 'B'학점입니다\"를 출력\n",
    "# 70점 이상이면서 80점 미만이면 \"당신은 'C'학점입니다\"를 출력\n",
    "# 70점 미만이면 \"당신은 D학점입니다\"를 출력"
   ]
  },
  {
   "cell_type": "code",
   "execution_count": 28,
   "id": "2afef3b0",
   "metadata": {},
   "outputs": [
    {
     "name": "stdout",
     "output_type": "stream",
     "text": [
      "정수10\n",
      "30\n"
     ]
    }
   ],
   "source": [
    "# If\n",
    "\n",
    "## 임의 정수(n)를 입력받은 후 0부터 n까지의 정수 중 짝수들의 합을 구하시오.\n",
    "\n",
    "n = int(input('정수'))\n",
    "suma = 0\n",
    "\n",
    "for i in range(n+1):\n",
    "    if i % 2 == 0:\n",
    "        suma += i\n",
    "        \n",
    "print(suma)\n",
    "    \n",
    "\n"
   ]
  },
  {
   "cell_type": "code",
   "execution_count": 32,
   "id": "4f935f9d",
   "metadata": {},
   "outputs": [
    {
     "name": "stdout",
     "output_type": "stream",
     "text": [
      "주민번호880811-2222222\n",
      "당신의 나이는 34이고, 성별은 여성입니다\n"
     ]
    }
   ],
   "source": [
    "# 주민번호 '851205-2000000'\n",
    "# 주민번호를 입력받은 후 \"당신의 나이는 __이고, 성별은 __입니다\"를 출력하시오..\n",
    "\n",
    "num = input(\"주민번호\")\n",
    "sum_n = '19'+num[:2]\n",
    "age = 2022 - int(sum_n)\n",
    "\n",
    "if num[7] == 1:\n",
    "    g = \"남성\"\n",
    "else:\n",
    "    g = \"여성\"\n",
    "    \n",
    "print(\"당신의 나이는 {}이고, 성별은 {}입니다\".format(age,g))"
   ]
  },
  {
   "cell_type": "code",
   "execution_count": 34,
   "id": "15a4b751",
   "metadata": {},
   "outputs": [
    {
     "name": "stdout",
     "output_type": "stream",
     "text": [
      "이름dic\n",
      "{'mary': 1520, 'tom': 5214, 'park': 5478, 'sams': 5478, 'dic': 2000}\n"
     ]
    }
   ],
   "source": [
    "# names = {'mary':1520, 'tom':5214, 'park':5478, 'sams':5478}\n",
    "# 이름을 입력받은 후 names dict에 이름이 있으면 값을 출력하고,\n",
    "# 없으면 새로운 값 2000과 함께 dict에 'key':'value'로 추가\n",
    "# setdefault를 사용하지 않음..\n",
    "\n",
    "names = {'mary':1520, 'tom':5214, 'park':5478, 'sams':5478}\n",
    "\n",
    "na = input(\"이름\")\n",
    "\n",
    "if na in names:\n",
    "    print(names[na])\n",
    "else:\n",
    "    names[na] = 2000\n",
    "    \n",
    "print(names)"
   ]
  },
  {
   "cell_type": "code",
   "execution_count": 35,
   "id": "6946cfaf",
   "metadata": {},
   "outputs": [
    {
     "name": "stdout",
     "output_type": "stream",
     "text": [
      "점수88\n",
      "당신은 B학점 입니다\n"
     ]
    }
   ],
   "source": [
    "# 학점 출력.. 점수를 입력받은 후..\n",
    "# 90점 이상이면 \"당신은 'A'학점입니다\"를 출력\n",
    "# 80점 이상이면서 90점 미만이면 \"당신은 'B'학점입니다\"를 출력\n",
    "# 70점 이상이면서 80점 미만이면 \"당신은 'C'학점입니다\"를 출력\n",
    "# 70점 미만이면 \"당신은 D학점입니다\"를 출력\n",
    "\n",
    "s = int(input(\"점수\"))\n",
    "\n",
    "if s >= 90:\n",
    "    print(\"당신은 A학점 입니다\")\n",
    "elif 90 > s >= 80:\n",
    "    print(\"당신은 B학점 입니다\")\n",
    "elif 80 > s >= 70:\n",
    "    print(\"당신은 C학점 입니다\")\n",
    "else:\n",
    "    print(\"당신은 D학점 입니다\")"
   ]
  },
  {
   "cell_type": "code",
   "execution_count": null,
   "id": "ceb6b755",
   "metadata": {},
   "outputs": [],
   "source": [
    "# For\n",
    "\n",
    "# text = 'python is fun'\n",
    "# text의 character를 모음만 대문자로 전환해서 출력하세요.   참고) 영어모음 = ‘aeiou’\n",
    "\n",
    "\n",
    "# 위의 text의 문자를 index와 함께 출력하시오.\n",
    "\n",
    "# 1~20까지 수에서 짝수만 리스트에 담으세요.\n",
    "# => for문과 while문, list comprehension을 각각 활용\n",
    "\n",
    "\n",
    "# 임의의 수를 입력받은 후 팩토리얼을 계산하는 코드를 작성하시오..\n",
    "\n",
    "\n",
    "\n",
    "# 1~10까지 정수를 출력하는 while문에서 continue와 break를 이용해서 3,4,5,6만 출력하도록 하시오.\n",
    "\n",
    "\n",
    "\n",
    "# x = ['a','b','c','d','e'], y = ['가','나','다','라','마'] 두 리스트의 원소들의 모든 조합을 아래와 같이 출력하시오.     =>     # [('a','가'), ('a','나'), ('a', '다')  ...  ('e','라'), ('e', '마')]\n",
    "\n",
    "\n",
    "# computational thinking에서 홀수인덱스만 리스트에 담으세요..\n",
    "\n",
    "\n",
    "# 점수를 5회 입력받은 후 평균을 출력하세요.\n",
    "\n",
    "\n",
    "\n",
    "# text = 'hello world'에서 각 문자를 인덱스와 함께 튜플로 묶어서 출력\n",
    "# (0, 'h'), (1, 'e') ...\n",
    "\n",
    "\n",
    "# 구구단을 출력하시오…\n",
    "\n",
    "\n",
    "# word의 길이가 4 이상인 단어의  단어길이 총합을 구하시오\n",
    "words = ['mountain', 'sea', 'sky', 'river', 'cloud', 'tree', 'lake']"
   ]
  },
  {
   "cell_type": "code",
   "execution_count": 37,
   "id": "4e2e0cc1",
   "metadata": {},
   "outputs": [
    {
     "name": "stdout",
     "output_type": "stream",
     "text": [
      "O,I,U,"
     ]
    }
   ],
   "source": [
    "# For\n",
    "\n",
    "text = 'python is fun'\n",
    "# text의 character를 모음만 대문자로 전환해서 출력하세요.   참고) 영어모음 = ‘aeiou’\n",
    "for i in text:\n",
    "    if i in \"aeiou\":\n",
    "        print(i.upper(), end=\",\")"
   ]
  },
  {
   "cell_type": "code",
   "execution_count": 38,
   "id": "81bcd74d",
   "metadata": {},
   "outputs": [
    {
     "name": "stdout",
     "output_type": "stream",
     "text": [
      "(0, 'p')\n",
      "(1, 'y')\n",
      "(2, 't')\n",
      "(3, 'h')\n",
      "(4, 'o')\n",
      "(5, 'n')\n",
      "(6, ' ')\n",
      "(7, 'i')\n",
      "(8, 's')\n",
      "(9, ' ')\n",
      "(10, 'f')\n",
      "(11, 'u')\n",
      "(12, 'n')\n"
     ]
    }
   ],
   "source": [
    "# 위의 text의 문자를 index와 함께 출력하시오.\n",
    "\n",
    "for i in enumerate(text):\n",
    "    print(i)"
   ]
  },
  {
   "cell_type": "code",
   "execution_count": 48,
   "id": "142608d0",
   "metadata": {},
   "outputs": [
    {
     "data": {
      "text/plain": [
       "[2, 4, 6, 8, 10, 12, 14, 16, 18, 20]"
      ]
     },
     "execution_count": 48,
     "metadata": {},
     "output_type": "execute_result"
    }
   ],
   "source": [
    "# 1~20까지 수에서 짝수만 리스트에 담으세요.\n",
    "# => for문과 while문, list comprehension을 각각 활용\n",
    "i = 1\n",
    "li = []\n",
    "while i < 21:\n",
    "    if i % 2 == 0:\n",
    "        li.append(i)\n",
    "    i += 1\n",
    "        \n",
    "li"
   ]
  },
  {
   "cell_type": "code",
   "execution_count": 47,
   "id": "ea4c6a69",
   "metadata": {},
   "outputs": [
    {
     "data": {
      "text/plain": [
       "[2, 4, 6, 8, 10, 12, 14, 16, 18, 20]"
      ]
     },
     "execution_count": 47,
     "metadata": {},
     "output_type": "execute_result"
    }
   ],
   "source": [
    "[i for i in range(1, 21) if i%2==0 ]"
   ]
  },
  {
   "cell_type": "code",
   "execution_count": 49,
   "id": "676cac82",
   "metadata": {},
   "outputs": [
    {
     "name": "stdout",
     "output_type": "stream",
     "text": [
      "수5\n"
     ]
    },
    {
     "data": {
      "text/plain": [
       "75"
      ]
     },
     "execution_count": 49,
     "metadata": {},
     "output_type": "execute_result"
    }
   ],
   "source": [
    "# 임의의 수를 입력받은 후 팩토리얼을 계산하는 코드를 작성하시오..\n",
    "\n",
    "n = int(input('수'))\n",
    "suma = 0\n",
    "for i in range(n, 0, -1):\n",
    "    num = n * i\n",
    "    suma += num\n",
    "    \n",
    "suma"
   ]
  },
  {
   "cell_type": "code",
   "execution_count": 50,
   "id": "3699e9d0",
   "metadata": {},
   "outputs": [
    {
     "name": "stdout",
     "output_type": "stream",
     "text": [
      "3\n",
      "4\n",
      "5\n",
      "6\n"
     ]
    }
   ],
   "source": [
    "# 1~10까지 정수를 출력하는 while문에서 continue와 break를 이용해서 3,4,5,6만 출력하도록 하시오.\n",
    "i = 0\n",
    "while i < 11:\n",
    "    i +=1\n",
    "    if i < 3:\n",
    "        continue\n",
    "    if i > 6:\n",
    "        break\n",
    "    \n",
    "    print(i)"
   ]
  },
  {
   "cell_type": "code",
   "execution_count": 52,
   "id": "8d14a5a1",
   "metadata": {},
   "outputs": [
    {
     "name": "stdout",
     "output_type": "stream",
     "text": [
      "a 가\n",
      "a 나\n",
      "a 다\n",
      "a 라\n",
      "a 마\n",
      "b 가\n",
      "b 나\n",
      "b 다\n",
      "b 라\n",
      "b 마\n",
      "c 가\n",
      "c 나\n",
      "c 다\n",
      "c 라\n",
      "c 마\n",
      "d 가\n",
      "d 나\n",
      "d 다\n",
      "d 라\n",
      "d 마\n",
      "e 가\n",
      "e 나\n",
      "e 다\n",
      "e 라\n",
      "e 마\n"
     ]
    }
   ],
   "source": [
    "# x = ['a','b','c','d','e'], y = ['가','나','다','라','마'] 두 리스트의 원소들의 모든 조합을 아래와 같이 출력하시오.     =>     \n",
    "# [('a','가'), ('a','나'), ('a', '다')  ...  ('e','라'), ('e', '마')]\n",
    "x = ['a','b','c','d','e']\n",
    "y = ['가','나','다','라','마']\n",
    "\n",
    "for i in range(len(x)):\n",
    "    for j in range(len(y)):\n",
    "        print(x[i],y[j])"
   ]
  },
  {
   "cell_type": "code",
   "execution_count": 53,
   "id": "9d743ce9",
   "metadata": {},
   "outputs": [
    {
     "data": {
      "text/plain": [
       "['c', 'm', 'u', 'a', 'i', 'n', 'l', 't', 'i', 'k', 'n']"
      ]
     },
     "execution_count": 53,
     "metadata": {},
     "output_type": "execute_result"
    }
   ],
   "source": [
    "# computational thinking에서 홀수인덱스만 리스트에 담으세요..\n",
    "text = \"computational thinking\"\n",
    "l = []\n",
    "for i in range(len(text)):\n",
    "    if i % 2 == 0:\n",
    "        l.append(text[i])\n",
    "        \n",
    "l"
   ]
  },
  {
   "cell_type": "code",
   "execution_count": 57,
   "id": "3558383c",
   "metadata": {},
   "outputs": [
    {
     "name": "stdout",
     "output_type": "stream",
     "text": [
      "점수10\n",
      "점수10\n",
      "점수10\n",
      "점수10\n",
      "점수10\n",
      "점수10\n",
      "12.0\n"
     ]
    }
   ],
   "source": [
    "# 점수를 5회 입력받은 후 평균을 출력하세요.\n",
    "suma = 0\n",
    "\n",
    "for i in range(0,5):\n",
    "    s = int(input(\"점수\"))\n",
    "    suma += s\n",
    "    \n",
    "print(suma/5)"
   ]
  },
  {
   "cell_type": "code",
   "execution_count": 61,
   "id": "8999b16a",
   "metadata": {},
   "outputs": [
    {
     "name": "stdout",
     "output_type": "stream",
     "text": [
      "(0, 'h')\n",
      "(1, 'e')\n",
      "(2, 'l')\n",
      "(3, 'l')\n",
      "(4, 'o')\n",
      "(5, ' ')\n",
      "(6, 'w')\n",
      "(7, 'o')\n",
      "(8, 'r')\n",
      "(9, 'l')\n",
      "(10, 'd')\n"
     ]
    }
   ],
   "source": [
    "# text = 'hello world'에서 각 문자를 인덱스와 함께 튜플로 묶어서 출력\n",
    "# (0, 'h'), (1, 'e') ...\n",
    "text = \"hello world\"\n",
    "\n",
    "for i,j in enumerate(text):\n",
    "    print((i,j))"
   ]
  },
  {
   "cell_type": "code",
   "execution_count": 64,
   "id": "1dd47b2b",
   "metadata": {},
   "outputs": [
    {
     "name": "stdout",
     "output_type": "stream",
     "text": [
      "1 * 1 = 1 1 * 2 = 2 1 * 3 = 3 1 * 4 = 4 1 * 5 = 5 1 * 6 = 6 1 * 7 = 7 1 * 8 = 8 1 * 9 = 9 \n",
      "2 * 1 = 2 2 * 2 = 4 2 * 3 = 6 2 * 4 = 8 2 * 5 = 10 2 * 6 = 12 2 * 7 = 14 2 * 8 = 16 2 * 9 = 18 \n",
      "3 * 1 = 3 3 * 2 = 6 3 * 3 = 9 3 * 4 = 12 3 * 5 = 15 3 * 6 = 18 3 * 7 = 21 3 * 8 = 24 3 * 9 = 27 \n",
      "4 * 1 = 4 4 * 2 = 8 4 * 3 = 12 4 * 4 = 16 4 * 5 = 20 4 * 6 = 24 4 * 7 = 28 4 * 8 = 32 4 * 9 = 36 \n",
      "5 * 1 = 5 5 * 2 = 10 5 * 3 = 15 5 * 4 = 20 5 * 5 = 25 5 * 6 = 30 5 * 7 = 35 5 * 8 = 40 5 * 9 = 45 \n",
      "6 * 1 = 6 6 * 2 = 12 6 * 3 = 18 6 * 4 = 24 6 * 5 = 30 6 * 6 = 36 6 * 7 = 42 6 * 8 = 48 6 * 9 = 54 \n",
      "7 * 1 = 7 7 * 2 = 14 7 * 3 = 21 7 * 4 = 28 7 * 5 = 35 7 * 6 = 42 7 * 7 = 49 7 * 8 = 56 7 * 9 = 63 \n",
      "8 * 1 = 8 8 * 2 = 16 8 * 3 = 24 8 * 4 = 32 8 * 5 = 40 8 * 6 = 48 8 * 7 = 56 8 * 8 = 64 8 * 9 = 72 \n",
      "9 * 1 = 9 9 * 2 = 18 9 * 3 = 27 9 * 4 = 36 9 * 5 = 45 9 * 6 = 54 9 * 7 = 63 9 * 8 = 72 9 * 9 = 81 \n"
     ]
    }
   ],
   "source": [
    "# 구구단을 출력하시오…\n",
    "for i in range(1,10):\n",
    "    for j in range(1,10):\n",
    "        print(\"{} * {} = {}\".format(i,j,i*j), end=\" \")\n",
    "    print()"
   ]
  },
  {
   "cell_type": "code",
   "execution_count": 66,
   "id": "c9a9664c",
   "metadata": {},
   "outputs": [
    {
     "name": "stdout",
     "output_type": "stream",
     "text": [
      "18\n"
     ]
    }
   ],
   "source": [
    "# word의 길이가 4 이상인 단어의  단어길이 총합을 구하시오\n",
    "words = ['mountain', 'sea', 'sky', 'river', 'cloud', 'tree', 'lake']\n",
    "\n",
    "suma = 0\n",
    "\n",
    "for i in words:\n",
    "    if len(i) > 4:\n",
    "        suma += len(i)\n",
    "        \n",
    "print(suma)"
   ]
  },
  {
   "cell_type": "code",
   "execution_count": 71,
   "id": "41e274b1",
   "metadata": {},
   "outputs": [],
   "source": [
    "# File\n",
    "\n",
    "# 'mytest.txt' 파일을 열어서 아래의 텍스트를 기록하세요..\n",
    "text = \"\"\"\n",
    "'hello python',\n",
    "'python programming',\n",
    "'python world',\n",
    "'bigdata',\n",
    "'artificail intelligence'\n",
    "\"\"\" \n",
    "\n",
    "f = open('text.txt', 'w')\n",
    "f.write(text)\n",
    "f.close()"
   ]
  },
  {
   "cell_type": "code",
   "execution_count": 73,
   "id": "e11dda8a",
   "metadata": {},
   "outputs": [
    {
     "data": {
      "text/plain": [
       "\"\\n'hello python',\\n'python programming',\\n'python world',\\n'bigdata',\\n'artificail intelligence'\\n\""
      ]
     },
     "execution_count": 73,
     "metadata": {},
     "output_type": "execute_result"
    }
   ],
   "source": [
    "# 'mytest.txt' 파일을 열어서 4가지 방법으로 읽어서 출력하세요\n",
    "\n",
    "f = open(\"text.txt\", \"r\")\n",
    "tex = f.read()\n",
    "f.close()\n",
    "\n",
    "tex"
   ]
  },
  {
   "cell_type": "code",
   "execution_count": 75,
   "id": "ed67f988",
   "metadata": {},
   "outputs": [
    {
     "data": {
      "text/plain": [
       "\"\\n'hello python',\\n'python programming',\\n'python world',\\n'bigdata',\\n'artificail intelligence'\\n\""
      ]
     },
     "execution_count": 75,
     "metadata": {},
     "output_type": "execute_result"
    }
   ],
   "source": [
    "with open('text.txt', 'r')as f:\n",
    "    te = f.read()\n",
    "    \n",
    "te"
   ]
  },
  {
   "cell_type": "code",
   "execution_count": 76,
   "id": "ce6b61f8",
   "metadata": {},
   "outputs": [
    {
     "data": {
      "text/plain": [
       "['\\n',\n",
       " \"'hello python',\\n\",\n",
       " \"'python programming',\\n\",\n",
       " \"'python world',\\n\",\n",
       " \"'bigdata',\\n\",\n",
       " \"'artificail intelligence'\\n\"]"
      ]
     },
     "execution_count": 76,
     "metadata": {},
     "output_type": "execute_result"
    }
   ],
   "source": [
    "f = open(\"text.txt\", \"r\")\n",
    "text = f.readlines()\n",
    "f.close()\n",
    "\n",
    "text"
   ]
  },
  {
   "cell_type": "code",
   "execution_count": 81,
   "id": "0caf6178",
   "metadata": {},
   "outputs": [
    {
     "ename": "AttributeError",
     "evalue": "'list' object has no attribute 'readline'",
     "output_type": "error",
     "traceback": [
      "\u001b[1;31m---------------------------------------------------------------------------\u001b[0m",
      "\u001b[1;31mAttributeError\u001b[0m                            Traceback (most recent call last)",
      "\u001b[1;32m~\\AppData\\Local\\Temp/ipykernel_31704/2886552882.py\u001b[0m in \u001b[0;36m<module>\u001b[1;34m\u001b[0m\n\u001b[0;32m      2\u001b[0m \u001b[0mtext\u001b[0m \u001b[1;33m=\u001b[0m \u001b[0mf\u001b[0m\u001b[1;33m.\u001b[0m\u001b[0mreadlines\u001b[0m\u001b[1;33m(\u001b[0m\u001b[1;33m)\u001b[0m\u001b[1;33m\u001b[0m\u001b[1;33m\u001b[0m\u001b[0m\n\u001b[0;32m      3\u001b[0m \u001b[1;32mfor\u001b[0m \u001b[0mi\u001b[0m \u001b[1;32min\u001b[0m \u001b[0mrange\u001b[0m\u001b[1;33m(\u001b[0m\u001b[0mlen\u001b[0m\u001b[1;33m(\u001b[0m\u001b[0mtext\u001b[0m\u001b[1;33m)\u001b[0m\u001b[1;33m)\u001b[0m\u001b[1;33m:\u001b[0m\u001b[1;33m\u001b[0m\u001b[1;33m\u001b[0m\u001b[0m\n\u001b[1;32m----> 4\u001b[1;33m     \u001b[0mprint\u001b[0m\u001b[1;33m(\u001b[0m\u001b[0mtext\u001b[0m\u001b[1;33m.\u001b[0m\u001b[0mreadline\u001b[0m\u001b[1;33m(\u001b[0m\u001b[1;33m)\u001b[0m\u001b[1;33m)\u001b[0m\u001b[1;33m\u001b[0m\u001b[1;33m\u001b[0m\u001b[0m\n\u001b[0m\u001b[0;32m      5\u001b[0m \u001b[1;33m\u001b[0m\u001b[0m\n\u001b[0;32m      6\u001b[0m \u001b[1;33m\u001b[0m\u001b[0m\n",
      "\u001b[1;31mAttributeError\u001b[0m: 'list' object has no attribute 'readline'"
     ]
    }
   ],
   "source": [
    "f = open(\"text.txt\", \"r\")\n",
    "text = f.readlines()\n",
    "\n",
    "for i in range(len(text)):\n",
    "    print(text.readline())\n",
    "    \n",
    "\n",
    "    "
   ]
  },
  {
   "cell_type": "code",
   "execution_count": null,
   "id": "556e0514",
   "metadata": {},
   "outputs": [],
   "source": [
    "# Function\n",
    "\n",
    "# 매개변수 3개를 받고, 합계, 평균, 최대값을 각각 리턴하는 함수를 만들고 실행하시오.\n",
    "\n",
    "\n",
    "\n",
    "\n",
    "# 임의의 정수를 입력받은 후 절대값을 리턴하는 함수를 만들고 실행하시오.\n",
    "\n",
    "\n",
    "\n",
    "\n",
    "# 임의의 정수를 입력받은 후 0부터 임의의 정수까지의 홀수 합을 리턴하는 함수를 만들고 실행하시오.\n",
    "\n",
    "\n",
    "\n",
    "\n",
    "\n",
    "# 반지름을 입력받은 후 원의 면적을 리턴하는 함수를 구현하고 실행하시오.\n",
    "pi = 3.14,   circle_area = (radius**2)*pi"
   ]
  },
  {
   "cell_type": "code",
   "execution_count": 84,
   "id": "ae5e5c13",
   "metadata": {},
   "outputs": [
    {
     "data": {
      "text/plain": [
       "(6, 2.0, 3)"
      ]
     },
     "execution_count": 84,
     "metadata": {},
     "output_type": "execute_result"
    }
   ],
   "source": [
    "# Function\n",
    "\n",
    "# 매개변수 3개를 받고, 합계, 평균, 최대값을 각각 리턴하는 함수를 만들고 실행하시오.\n",
    "def cal(n,n1,n2):\n",
    "    suma = n + n1 + n2\n",
    "    avg = suma/3\n",
    "    maxa = max(n,n1,n2)\n",
    "    return suma, avg, maxa\n",
    "\n",
    "cal(1,2,3)"
   ]
  },
  {
   "cell_type": "code",
   "execution_count": 86,
   "id": "059afc2b",
   "metadata": {},
   "outputs": [
    {
     "name": "stdout",
     "output_type": "stream",
     "text": [
      "-1\n"
     ]
    },
    {
     "data": {
      "text/plain": [
       "1"
      ]
     },
     "execution_count": 86,
     "metadata": {},
     "output_type": "execute_result"
    }
   ],
   "source": [
    "# 임의의 정수를 입력받은 후 절대값을 리턴하는 함수를 만들고 실행하시오.\n",
    "\n",
    "\n",
    "def num(n):\n",
    "    if n < 0:\n",
    "        n = n * -1\n",
    "    return n\n",
    "\n",
    "n = int(input(''))\n",
    "\n",
    "num(n)"
   ]
  },
  {
   "cell_type": "code",
   "execution_count": 87,
   "id": "4c448ab1",
   "metadata": {},
   "outputs": [
    {
     "name": "stdout",
     "output_type": "stream",
     "text": [
      "5\n"
     ]
    },
    {
     "data": {
      "text/plain": [
       "9"
      ]
     },
     "execution_count": 87,
     "metadata": {},
     "output_type": "execute_result"
    }
   ],
   "source": [
    "# 임의의 정수를 입력받은 후 0부터 임의의 정수까지의 홀수 합을 리턴하는 함수를 만들고 실행하시오.\n",
    "\n",
    "def suma_h(n):\n",
    "    suma = 0\n",
    "    for i in range(n+1):\n",
    "        if i%2==1:\n",
    "            suma += i\n",
    "    return suma\n",
    "\n",
    "num = int(input(\"\"))\n",
    "suma_h(num)"
   ]
  },
  {
   "cell_type": "code",
   "execution_count": 90,
   "id": "b5f1931e",
   "metadata": {},
   "outputs": [
    {
     "name": "stdout",
     "output_type": "stream",
     "text": [
      "5\n"
     ]
    },
    {
     "data": {
      "text/plain": [
       "78.5"
      ]
     },
     "execution_count": 90,
     "metadata": {},
     "output_type": "execute_result"
    }
   ],
   "source": [
    "# 반지름을 입력받은 후 원의 면적을 리턴하는 함수를 구현하고 실행하시오.\n",
    "# pi = 3.14,   circle_area = (radius**2)*pi\n",
    "\n",
    "def cir(r):\n",
    "    pi = 3.14\n",
    "    area = (r**2)*pi\n",
    "    return area\n",
    "\n",
    "r = int(input(\"\"))\n",
    "cir(r)"
   ]
  },
  {
   "cell_type": "code",
   "execution_count": 93,
   "id": "56c17a32",
   "metadata": {},
   "outputs": [
    {
     "name": "stdout",
     "output_type": "stream",
     "text": [
      "doyeon\n",
      "do.com\n",
      "서울\n",
      "====================================================================================================\n"
     ]
    }
   ],
   "source": [
    "## 명함을 출력하는 class BusinessCardf만들고 객체를 생성해서 메소드를 실행하시오.\n",
    "# 인스턴스변수 : name, email, addr\n",
    "# 메소드 : __init__ : 인스턴스 변수 초기화\n",
    "# 메소드 : print_business_card : 명함을 출력하는 메소드\n",
    "\n",
    "class BusinessCard:\n",
    "    def __init__(self, name, email, addr):\n",
    "        self.name = name\n",
    "        self.email = email\n",
    "        self.addr = addr\n",
    "        \n",
    "    def card(self):\n",
    "        print(self.name)\n",
    "        print(self.email)\n",
    "        print(self.addr)\n",
    "        print(\"=\"*100)\n",
    "        \n",
    "bc = BusinessCard(\"doyeon\",\"do.com\",\"서울\")\n",
    "\n",
    "\n",
    "bc.card()\n"
   ]
  },
  {
   "cell_type": "code",
   "execution_count": 97,
   "id": "e213fb62",
   "metadata": {},
   "outputs": [
    {
     "name": "stdout",
     "output_type": "stream",
     "text": [
      "부모\n"
     ]
    }
   ],
   "source": [
    "# 부모 class Parent\n",
    "# 메소드 : can_sing\n",
    "# 자식 class LuckyChild\n",
    "# 메소드 : can_dance\n",
    "# 위의 두 클래스를 만들고 child class의 메소드를 실행하시오..\n",
    "\n",
    "class Parent:\n",
    "    def can_sing(self):\n",
    "        print(\"부모\")\n",
    "        \n",
    "class LuckyChild(Parent):\n",
    "    def can_dance(self):\n",
    "        print(\"자식\")\n",
    "        \n",
    "c = LuckyChild()\n",
    "\n",
    "c.can_sing()"
   ]
  },
  {
   "cell_type": "code",
   "execution_count": 103,
   "id": "96a08485",
   "metadata": {},
   "outputs": [
    {
     "data": {
      "text/plain": [
       "6"
      ]
     },
     "execution_count": 103,
     "metadata": {},
     "output_type": "execute_result"
    }
   ],
   "source": [
    "# 사칙연산 클래스를 만들고 메소드를 실행하시오..\n",
    "# 인스턴스변수 : x, y\n",
    "# 메소드 : init, add, sub, mul, div\n",
    "# overriding\n",
    "# overriding\n",
    "# Calculator class의 div 메소드를 overriding..\n",
    "\n",
    "class cal:\n",
    "    def __init__(self, x, y):\n",
    "        self.x = x\n",
    "        self.y = y\n",
    "        \n",
    "    def add(self):\n",
    "        return self.x + self.y\n",
    "\n",
    "    def sub(self):\n",
    "        return self.x - self.y\n",
    "    \n",
    "    def mul(self):\n",
    "        return self.x * self.y\n",
    "    \n",
    "    def div(self):\n",
    "        return self.x/self.y\n",
    "    \n",
    "class plus(cal):\n",
    "    def div(self):\n",
    "        if self.y > 0:\n",
    "            return self.x / self.y\n",
    "        else:\n",
    "            print(\"나누기 못해\")\n",
    "            \n",
    "c = plus(6,0)\n",
    "\n",
    "c.add()"
   ]
  },
  {
   "cell_type": "code",
   "execution_count": 107,
   "id": "90742f08",
   "metadata": {},
   "outputs": [
    {
     "data": {
      "text/plain": [
       "78.5"
      ]
     },
     "execution_count": 107,
     "metadata": {},
     "output_type": "execute_result"
    }
   ],
   "source": [
    "\n",
    "\n",
    "# 원의 면적과 원의 둘레를 구현하는 class Circle\n",
    "# 인스턴스변수 : r(반지름)\n",
    "# 메소드 : area(원의 면적: 3.14*r**2), perimeter(원의 둘레: 3.14*r*2)\n",
    "\n",
    "class Circle:\n",
    "    pi = 3.14\n",
    "    \n",
    "    def __init__(self, r):\n",
    "        self.r = r\n",
    "    \n",
    "    def area(self):\n",
    "        return (self.r**2)*Circle.pi\n",
    "    \n",
    "    def peri(self):\n",
    "        return self.r *2 *Circle.pi\n",
    "    \n",
    "c = Circle(5)\n",
    "\n",
    "c.area()\n"
   ]
  },
  {
   "cell_type": "code",
   "execution_count": null,
   "id": "e444e8d8",
   "metadata": {},
   "outputs": [],
   "source": []
  }
 ],
 "metadata": {
  "kernelspec": {
   "display_name": "Python 3 (ipykernel)",
   "language": "python",
   "name": "python3"
  },
  "language_info": {
   "codemirror_mode": {
    "name": "ipython",
    "version": 3
   },
   "file_extension": ".py",
   "mimetype": "text/x-python",
   "name": "python",
   "nbconvert_exporter": "python",
   "pygments_lexer": "ipython3",
   "version": "3.9.7"
  }
 },
 "nbformat": 4,
 "nbformat_minor": 5
}
