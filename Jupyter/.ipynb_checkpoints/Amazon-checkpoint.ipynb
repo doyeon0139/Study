{
 "cells": [
  {
   "cell_type": "code",
   "execution_count": null,
   "id": "eb65ab99",
   "metadata": {},
   "outputs": [],
   "source": [
    "# 아마존 \"https://www.amazon.com/\"\n",
    "# 위 사이트에서 appliances카테고리의 모든 제품의 랭킹, 타이틀, 댓글수, 가격정보를 출력"
   ]
  },
  {
   "cell_type": "code",
   "execution_count": 2,
   "id": "54e7b05b",
   "metadata": {},
   "outputs": [],
   "source": [
    "import requests\n",
    "from bs4 import BeautifulSoup\n",
    "\n",
    "from selenium import webdriver\n",
    "from selenium.webdriver.common.keys import Keys\n",
    "\n",
    "import warnings\n",
    "warnings.filterwarnings(action='ignore')"
   ]
  },
  {
   "cell_type": "code",
   "execution_count": 3,
   "id": "79e2ebeb",
   "metadata": {},
   "outputs": [],
   "source": [
    "driver = webdriver.Chrome()"
   ]
  },
  {
   "cell_type": "code",
   "execution_count": 94,
   "id": "43093f78",
   "metadata": {},
   "outputs": [],
   "source": [
    "el = driver.get('https://www.amazon.com/bestsellers')"
   ]
  },
  {
   "cell_type": "code",
   "execution_count": 95,
   "id": "c1fdba8f",
   "metadata": {},
   "outputs": [],
   "source": [
    "driver.find_element_by_css_selector(\"#CardInstance7gyiCK7EsGKJokAlJi3nVg > div._p13n-zg-nav-tree-all_style_zg-browse-group__88fbz > div:nth-child(20) > a\" ).click()"
   ]
  },
  {
   "cell_type": "code",
   "execution_count": 96,
   "id": "5747723c",
   "metadata": {},
   "outputs": [],
   "source": [
    "html = driver.page_source"
   ]
  },
  {
   "cell_type": "code",
   "execution_count": 97,
   "id": "11567581",
   "metadata": {},
   "outputs": [],
   "source": [
    "soup = BeautifulSoup(html, 'html.parser')"
   ]
  },
  {
   "cell_type": "code",
   "execution_count": 167,
   "id": "b055adb6",
   "metadata": {},
   "outputs": [],
   "source": [
    "path = '#gridItemRoot > div '"
   ]
  },
  {
   "cell_type": "code",
   "execution_count": 168,
   "id": "95f624c7",
   "metadata": {},
   "outputs": [],
   "source": [
    "tt = soup.select(path)"
   ]
  },
  {
   "cell_type": "code",
   "execution_count": 169,
   "id": "e08c2b4f",
   "metadata": {
    "collapsed": true
   },
   "outputs": [
    {
     "data": {
      "text/plain": [
       "[<div class=\"a-cardui _p13n-zg-list-grid-desktop_style_grid-cell__1uMOS p13n-grid-content\" data-a-card-type=\"basic\"><div class=\"a-section zg-bdg-ctr\"><div class=\"a-section zg-bdg-body zg-bdg-clr-body aok-float-left\"><span class=\"zg-bdg-text\">#1</span></div><div class=\"a-section zg-bdg-tri zg-bdg-clr-tri aok-float-left\"></div></div><div class=\"zg-grid-general-faceout\"><div><a class=\"a-link-normal\" href=\"/fire-tv-stick-with-3rd-gen-alexa-voice-remote/dp/B08C1W5N87/ref=zg_bs_electronics_1/144-0128495-6448140?pd_rd_i=B08C1W5N87&amp;psc=1\" role=\"link\" tabindex=\"-1\"><div class=\"a-section a-spacing-mini _p13n-zg-list-grid-desktop_maskStyle_noop__3Xbw5\"><img alt=\"Fire TV Stick with Alexa Voice Remote (includes TV controls), HD streaming device\" class=\"a-dynamic-image p13n-sc-dynamic-image p13n-product-image\" data-a-dynamic-image='{\"https://images-na.ssl-images-amazon.com/images/I/51KKR5uGn6L._AC_UL302_SR302,200_.jpg\":[302,200],\"https://images-na.ssl-images-amazon.com/images/I/51KKR5uGn6L._AC_UL604_SR604,400_.jpg\":[604,400],\"https://images-na.ssl-images-amazon.com/images/I/51KKR5uGn6L._AC_UL906_SR906,600_.jpg\":[906,600]}' height=\"200px\" src=\"https://images-na.ssl-images-amazon.com/images/I/51KKR5uGn6L._AC_UL604_SR604,400_.jpg\" style=\"max-width:302px;max-height:200px\"/></div></a><a class=\"a-link-normal\" href=\"/fire-tv-stick-with-3rd-gen-alexa-voice-remote/dp/B08C1W5N87/ref=zg_bs_electronics_1/144-0128495-6448140?pd_rd_i=B08C1W5N87&amp;psc=1\" role=\"link\"><span><div class=\"_p13n-zg-list-grid-desktop_truncationStyles_p13n-sc-css-line-clamp-3__g3dy1\">Fire TV Stick with Alexa Voice Remote (includes TV controls), HD streaming device</div></span></a><div class=\"a-row\"><div class=\"a-icon-row\"><a class=\"a-link-normal\" href=\"/product-reviews/B08C1W5N87/ref=zg_bs_electronics_cr_1/144-0128495-6448140?pd_rd_i=B08C1W5N87\" title=\"4.7 out of 5 stars\"><i class=\"a-icon a-icon-star-small a-star-small-4-5 aok-align-top\"><span class=\"a-icon-alt\">4.7 out of 5 stars</span></i> <span class=\"a-size-small\">147,070</span></a></div></div><div class=\"a-row\"><a class=\"a-link-normal\" href=\"/fire-tv-stick-with-3rd-gen-alexa-voice-remote/dp/B08C1W5N87/ref=zg_bs_electronics_1/144-0128495-6448140?pd_rd_i=B08C1W5N87&amp;psc=1\" role=\"link\"><span class=\"a-color-secondary\">1 offer from <span class=\"a-size-base\"><span class=\"p13n-sc-price\">$39.99</span></span></span></a></div></div></div></div>,\n",
       " <div class=\"a-cardui _p13n-zg-list-grid-desktop_style_grid-cell__1uMOS p13n-grid-content\" data-a-card-type=\"basic\"><div class=\"a-section zg-bdg-ctr\"><div class=\"a-section zg-bdg-body zg-bdg-clr-body aok-float-left\"><span class=\"zg-bdg-text\">#2</span></div><div class=\"a-section zg-bdg-tri zg-bdg-clr-tri aok-float-left\"></div></div><div class=\"zg-grid-general-faceout\"><div><a class=\"a-link-normal\" href=\"/all-new-fire-tv-stick-4k-with-alexa-voice-remote/dp/B08XVYZ1Y5/ref=zg_bs_electronics_2/144-0128495-6448140?pd_rd_i=B08XVYZ1Y5&amp;psc=1\" role=\"link\" tabindex=\"-1\"><div class=\"a-section a-spacing-mini _p13n-zg-list-grid-desktop_maskStyle_noop__3Xbw5\"><img alt=\"Fire TV Stick 4K streaming device with latest Alexa Voice Remote (includes TV controls), Dolby Vision\" class=\"a-dynamic-image p13n-sc-dynamic-image p13n-product-image\" data-a-dynamic-image='{\"https://images-na.ssl-images-amazon.com/images/I/411y5UdVmvL._AC_UL302_SR302,200_.jpg\":[302,200],\"https://images-na.ssl-images-amazon.com/images/I/411y5UdVmvL._AC_UL604_SR604,400_.jpg\":[604,400],\"https://images-na.ssl-images-amazon.com/images/I/411y5UdVmvL._AC_UL906_SR906,600_.jpg\":[906,600]}' height=\"200px\" src=\"https://images-na.ssl-images-amazon.com/images/I/411y5UdVmvL._AC_UL604_SR604,400_.jpg\" style=\"max-width:302px;max-height:200px\"/></div></a><a class=\"a-link-normal\" href=\"/all-new-fire-tv-stick-4k-with-alexa-voice-remote/dp/B08XVYZ1Y5/ref=zg_bs_electronics_2/144-0128495-6448140?pd_rd_i=B08XVYZ1Y5&amp;psc=1\" role=\"link\"><span><div class=\"_p13n-zg-list-grid-desktop_truncationStyles_p13n-sc-css-line-clamp-3__g3dy1\">Fire TV Stick 4K streaming device with latest Alexa Voice Remote (includes TV controls), Dolby Vision</div></span></a><div class=\"a-row\"><div class=\"a-icon-row\"><a class=\"a-link-normal\" href=\"/product-reviews/B08XVYZ1Y5/ref=zg_bs_electronics_cr_2/144-0128495-6448140?pd_rd_i=B08XVYZ1Y5\" title=\"4.8 out of 5 stars\"><i class=\"a-icon a-icon-star-small a-star-small-5 aok-align-top\"><span class=\"a-icon-alt\">4.8 out of 5 stars</span></i> <span class=\"a-size-small\">46,133</span></a></div></div><div class=\"a-row\"><a class=\"a-link-normal\" href=\"/all-new-fire-tv-stick-4k-with-alexa-voice-remote/dp/B08XVYZ1Y5/ref=zg_bs_electronics_2/144-0128495-6448140?pd_rd_i=B08XVYZ1Y5&amp;psc=1\" role=\"link\"><span class=\"a-color-secondary\">1 offer from <span class=\"a-size-base\"><span class=\"p13n-sc-price\">$49.99</span></span></span></a></div></div></div></div>,\n",
       " <div class=\"a-cardui _p13n-zg-list-grid-desktop_style_grid-cell__1uMOS p13n-grid-content\" data-a-card-type=\"basic\"><div class=\"a-section zg-bdg-ctr\"><div class=\"a-section zg-bdg-body zg-bdg-clr-body aok-float-left\"><span class=\"zg-bdg-text\">#3</span></div><div class=\"a-section zg-bdg-tri zg-bdg-clr-tri aok-float-left\"></div></div><div class=\"zg-grid-general-faceout\"><div><a class=\"a-link-normal\" href=\"/fire-tv-stick-4k-max-with-alexa-voice-remote/dp/B08MQZXN1X/ref=zg_bs_electronics_3/144-0128495-6448140?pd_rd_i=B08MQZXN1X&amp;psc=1\" role=\"link\" tabindex=\"-1\"><div class=\"a-section a-spacing-mini _p13n-zg-list-grid-desktop_maskStyle_noop__3Xbw5\"><img alt=\"Introducing Fire TV Stick 4K Max streaming device, Wi-Fi 6, Alexa Voice Remote (includes TV controls)\" class=\"a-dynamic-image p13n-sc-dynamic-image p13n-product-image\" data-a-dynamic-image='{\"https://images-na.ssl-images-amazon.com/images/I/41XTOfFgUqL._AC_UL302_SR302,200_.jpg\":[302,200],\"https://images-na.ssl-images-amazon.com/images/I/41XTOfFgUqL._AC_UL604_SR604,400_.jpg\":[604,400],\"https://images-na.ssl-images-amazon.com/images/I/41XTOfFgUqL._AC_UL906_SR906,600_.jpg\":[906,600]}' height=\"200px\" src=\"https://images-na.ssl-images-amazon.com/images/I/41XTOfFgUqL._AC_UL604_SR604,400_.jpg\" style=\"max-width:302px;max-height:200px\"/></div></a><a class=\"a-link-normal\" href=\"/fire-tv-stick-4k-max-with-alexa-voice-remote/dp/B08MQZXN1X/ref=zg_bs_electronics_3/144-0128495-6448140?pd_rd_i=B08MQZXN1X&amp;psc=1\" role=\"link\"><span><div class=\"_p13n-zg-list-grid-desktop_truncationStyles_p13n-sc-css-line-clamp-3__g3dy1\">Introducing Fire TV Stick 4K Max streaming device, Wi-Fi 6, Alexa Voice Remote (includes TV controls)</div></span></a><div class=\"a-row\"><div class=\"a-icon-row\"><a class=\"a-link-normal\" href=\"/product-reviews/B08MQZXN1X/ref=zg_bs_electronics_cr_3/144-0128495-6448140?pd_rd_i=B08MQZXN1X\" title=\"4.7 out of 5 stars\"><i class=\"a-icon a-icon-star-small a-star-small-4-5 aok-align-top\"><span class=\"a-icon-alt\">4.7 out of 5 stars</span></i> <span class=\"a-size-small\">25,211</span></a></div></div><div class=\"a-row\"><a class=\"a-link-normal\" href=\"/fire-tv-stick-4k-max-with-alexa-voice-remote/dp/B08MQZXN1X/ref=zg_bs_electronics_3/144-0128495-6448140?pd_rd_i=B08MQZXN1X&amp;psc=1\" role=\"link\"><span class=\"a-color-secondary\">1 offer from <span class=\"a-size-base\"><span class=\"p13n-sc-price\">$39.99</span></span></span></a></div></div></div></div>,\n",
       " <div class=\"a-cardui _p13n-zg-list-grid-desktop_style_grid-cell__1uMOS p13n-grid-content\" data-a-card-type=\"basic\"><div class=\"a-section zg-bdg-ctr\"><div class=\"a-section zg-bdg-body zg-bdg-clr-body aok-float-left\"><span class=\"zg-bdg-text\">#4</span></div><div class=\"a-section zg-bdg-tri zg-bdg-clr-tri aok-float-left\"></div></div><div class=\"zg-grid-general-faceout\"><div><a class=\"a-link-normal\" href=\"/Apple-MX532AM-A-AirTag/dp/B0933BVK6T/ref=zg_bs_electronics_4/144-0128495-6448140?pd_rd_i=B0933BVK6T&amp;psc=1\" role=\"link\" tabindex=\"-1\"><div class=\"a-section a-spacing-mini _p13n-zg-list-grid-desktop_maskStyle_noop__3Xbw5\"><img alt=\"Apple AirTag\" class=\"a-dynamic-image p13n-sc-dynamic-image p13n-product-image\" data-a-dynamic-image='{\"https://images-na.ssl-images-amazon.com/images/I/713xuNx00oS._AC_UL302_SR302,200_.jpg\":[302,200],\"https://images-na.ssl-images-amazon.com/images/I/713xuNx00oS._AC_UL604_SR604,400_.jpg\":[604,400],\"https://images-na.ssl-images-amazon.com/images/I/713xuNx00oS._AC_UL906_SR906,600_.jpg\":[906,600]}' height=\"200px\" src=\"https://images-na.ssl-images-amazon.com/images/I/713xuNx00oS._AC_UL604_SR604,400_.jpg\" style=\"max-width:302px;max-height:200px\"/></div></a><a class=\"a-link-normal\" href=\"/Apple-MX532AM-A-AirTag/dp/B0933BVK6T/ref=zg_bs_electronics_4/144-0128495-6448140?pd_rd_i=B0933BVK6T&amp;psc=1\" role=\"link\"><span><div class=\"_p13n-zg-list-grid-desktop_truncationStyles_p13n-sc-css-line-clamp-3__g3dy1\">Apple AirTag</div></span></a><div class=\"a-row\"><div class=\"a-icon-row\"><a class=\"a-link-normal\" href=\"/product-reviews/B0933BVK6T/ref=zg_bs_electronics_cr_4/144-0128495-6448140?pd_rd_i=B0933BVK6T\" title=\"4.7 out of 5 stars\"><i class=\"a-icon a-icon-star-small a-star-small-4-5 aok-align-top\"><span class=\"a-icon-alt\">4.7 out of 5 stars</span></i> <span class=\"a-size-small\">36,518</span></a></div></div><div class=\"a-row\"><a class=\"a-link-normal\" href=\"/Apple-MX532AM-A-AirTag/dp/B0933BVK6T/ref=zg_bs_electronics_4/144-0128495-6448140?pd_rd_i=B0933BVK6T&amp;psc=1\" role=\"link\"><span class=\"a-color-secondary\">4 offers from <span class=\"a-size-base\"><span class=\"p13n-sc-price\">$26.68</span></span></span></a></div></div></div></div>,\n",
       " <div class=\"a-cardui _p13n-zg-list-grid-desktop_style_grid-cell__1uMOS p13n-grid-content\" data-a-card-type=\"basic\"><div class=\"a-section zg-bdg-ctr\"><div class=\"a-section zg-bdg-body zg-bdg-clr-body aok-float-left\"><span class=\"zg-bdg-text\">#5</span></div><div class=\"a-section zg-bdg-tri zg-bdg-clr-tri aok-float-left\"></div></div><div class=\"zg-grid-general-faceout\"><div><a class=\"a-link-normal\" href=\"/Echo-Dot/dp/B07FZ8S74R/ref=zg_bs_electronics_5/144-0128495-6448140?pd_rd_i=B07FZ8S74R&amp;psc=1\" role=\"link\" tabindex=\"-1\"><div class=\"a-section a-spacing-mini _p13n-zg-list-grid-desktop_maskStyle_noop__3Xbw5\"><img alt=\"Echo Dot (3rd Gen, 2018 release) - Smart speaker with Alexa - Charcoal\" class=\"a-dynamic-image p13n-sc-dynamic-image p13n-product-image\" data-a-dynamic-image='{\"https://images-na.ssl-images-amazon.com/images/I/6182S7MYC2L._AC_UL302_SR302,200_.jpg\":[302,200],\"https://images-na.ssl-images-amazon.com/images/I/6182S7MYC2L._AC_UL604_SR604,400_.jpg\":[604,400],\"https://images-na.ssl-images-amazon.com/images/I/6182S7MYC2L._AC_UL906_SR906,600_.jpg\":[906,600]}' height=\"200px\" src=\"https://images-na.ssl-images-amazon.com/images/I/6182S7MYC2L._AC_UL604_SR604,400_.jpg\" style=\"max-width:302px;max-height:200px\"/></div></a><a class=\"a-link-normal\" href=\"/Echo-Dot/dp/B07FZ8S74R/ref=zg_bs_electronics_5/144-0128495-6448140?pd_rd_i=B07FZ8S74R&amp;psc=1\" role=\"link\"><span><div class=\"_p13n-zg-list-grid-desktop_truncationStyles_p13n-sc-css-line-clamp-3__g3dy1\">Echo Dot (3rd Gen, 2018 release) - Smart speaker with Alexa - Charcoal</div></span></a><div class=\"a-row\"><div class=\"a-icon-row\"><a class=\"a-link-normal\" href=\"/product-reviews/B07FZ8S74R/ref=zg_bs_electronics_cr_5/144-0128495-6448140?pd_rd_i=B07FZ8S74R\" title=\"4.7 out of 5 stars\"><i class=\"a-icon a-icon-star-small a-star-small-4-5 aok-align-top\"><span class=\"a-icon-alt\">4.7 out of 5 stars</span></i> <span class=\"a-size-small\">852,911</span></a></div></div><div class=\"a-row\"><a class=\"a-link-normal\" href=\"/Echo-Dot/dp/B07FZ8S74R/ref=zg_bs_electronics_5/144-0128495-6448140?pd_rd_i=B07FZ8S74R&amp;psc=1\" role=\"link\"><span class=\"a-color-secondary\">3 offers from <span class=\"a-size-base\"><span class=\"p13n-sc-price\">$31.35</span></span></span></a></div></div></div></div>,\n",
       " <div class=\"a-cardui _p13n-zg-list-grid-desktop_style_grid-cell__1uMOS p13n-grid-content\" data-a-card-type=\"basic\"><div class=\"a-section zg-bdg-ctr\"><div class=\"a-section zg-bdg-body zg-bdg-clr-body aok-float-left\"><span class=\"zg-bdg-text\">#6</span></div><div class=\"a-section zg-bdg-tri zg-bdg-clr-tri aok-float-left\"></div></div><div class=\"zg-grid-general-faceout\"><div><a class=\"a-link-normal\" href=\"/Spotlight-Security-Weatherproof-Compatible-Assistant/dp/B095NWYQBC/ref=zg_bs_electronics_6/144-0128495-6448140?pd_rd_i=B09PGZQLY9&amp;psc=1\" role=\"link\" tabindex=\"-1\"><div class=\"a-section a-spacing-mini _p13n-zg-list-grid-desktop_maskStyle_noop__3Xbw5\"><img alt=\"Wyze Cam Spotlight, Wyze Cam v3 Security Camera with Spotlight Kit, 1080p HD Security Camera with Two-Way Audio and Siren, IP\" class=\"a-dynamic-image p13n-sc-dynamic-image p13n-product-image\" data-a-dynamic-image='{\"https://images-na.ssl-images-amazon.com/images/I/61E8RWSXtoS._AC_UL302_SR302,200_.jpg\":[302,200],\"https://images-na.ssl-images-amazon.com/images/I/61E8RWSXtoS._AC_UL604_SR604,400_.jpg\":[604,400],\"https://images-na.ssl-images-amazon.com/images/I/61E8RWSXtoS._AC_UL906_SR906,600_.jpg\":[906,600]}' height=\"200px\" src=\"https://images-na.ssl-images-amazon.com/images/I/61E8RWSXtoS._AC_UL604_SR604,400_.jpg\" style=\"max-width:302px;max-height:200px\"/></div></a><a class=\"a-link-normal\" href=\"/Spotlight-Security-Weatherproof-Compatible-Assistant/dp/B095NWYQBC/ref=zg_bs_electronics_6/144-0128495-6448140?pd_rd_i=B09PGZQLY9&amp;psc=1\" role=\"link\"><span><div class=\"_p13n-zg-list-grid-desktop_truncationStyles_p13n-sc-css-line-clamp-3__g3dy1\">Wyze Cam Spotlight, Wyze Cam v3 Security Camera with Spotlight Kit, 1080p HD Security Camera with Two-Way Audio and Siren, IP65 Weatherproof, Compatible with Alexa and Google Assistant</div></span></a><div class=\"a-row\"><div class=\"a-icon-row\"><a class=\"a-link-normal\" href=\"/product-reviews/B09PGZQLY9/ref=zg_bs_electronics_cr_6/144-0128495-6448140?pd_rd_i=B09PGZQLY9\" title=\"4.5 out of 5 stars\"><i class=\"a-icon a-icon-star-small a-star-small-4-5 aok-align-top\"><span class=\"a-icon-alt\">4.5 out of 5 stars</span></i> <span class=\"a-size-small\">636</span></a></div></div><div class=\"a-row\"><a class=\"a-link-normal a-text-normal\" href=\"/Spotlight-Security-Weatherproof-Compatible-Assistant/dp/B095NWYQBC/ref=zg_bs_electronics_6/144-0128495-6448140?pd_rd_i=B09PGZQLY9&amp;psc=1\" role=\"link\"><span class=\"a-size-base a-color-price\"><span class=\"_p13n-zg-list-grid-desktop_price_p13n-sc-price__3mJ9Z\">$14.99</span> - <span class=\"_p13n-zg-list-grid-desktop_price_p13n-sc-price__3mJ9Z\">$132.96</span></span></a></div></div></div></div>,\n",
       " <div class=\"a-cardui _p13n-zg-list-grid-desktop_style_grid-cell__1uMOS p13n-grid-content\" data-a-card-type=\"basic\"><div class=\"a-section zg-bdg-ctr\"><div class=\"a-section zg-bdg-body zg-bdg-clr-body aok-float-left\"><span class=\"zg-bdg-text\">#7</span></div><div class=\"a-section zg-bdg-tri zg-bdg-clr-tri aok-float-left\"></div></div><div class=\"zg-grid-general-faceout\"><div><a class=\"a-link-normal\" href=\"/Amazon-smart-plug-works-with-Alexa/dp/B089DR29T6/ref=zg_bs_electronics_7/144-0128495-6448140?pd_rd_i=B07KTYJ769&amp;psc=1\" role=\"link\" tabindex=\"-1\"><div class=\"a-section a-spacing-mini _p13n-zg-list-grid-desktop_maskStyle_noop__3Xbw5\"><img alt=\"Amazon Smart Plug, Works with Alexa – A Certified for Humans Device\" class=\"a-dynamic-image p13n-sc-dynamic-image p13n-product-image\" data-a-dynamic-image='{\"https://images-na.ssl-images-amazon.com/images/I/41couS+UODL._AC_UL302_SR302,200_.jpg\":[302,200],\"https://images-na.ssl-images-amazon.com/images/I/41couS+UODL._AC_UL604_SR604,400_.jpg\":[604,400],\"https://images-na.ssl-images-amazon.com/images/I/41couS+UODL._AC_UL906_SR906,600_.jpg\":[906,600]}' height=\"200px\" src=\"https://images-na.ssl-images-amazon.com/images/I/41couS+UODL._AC_UL604_SR604,400_.jpg\" style=\"max-width:302px;max-height:200px\"/></div></a><a class=\"a-link-normal\" href=\"/Amazon-smart-plug-works-with-Alexa/dp/B089DR29T6/ref=zg_bs_electronics_7/144-0128495-6448140?pd_rd_i=B07KTYJ769&amp;psc=1\" role=\"link\"><span><div class=\"_p13n-zg-list-grid-desktop_truncationStyles_p13n-sc-css-line-clamp-3__g3dy1\">Amazon Smart Plug, Works with Alexa – A Certified for Humans Device</div></span></a><div class=\"a-row\"><div class=\"a-icon-row\"><a class=\"a-link-normal\" href=\"/product-reviews/B07KTYJ769/ref=zg_bs_electronics_cr_7/144-0128495-6448140?pd_rd_i=B07KTYJ769\" title=\"4.7 out of 5 stars\"><i class=\"a-icon a-icon-star-small a-star-small-4-5 aok-align-top\"><span class=\"a-icon-alt\">4.7 out of 5 stars</span></i> <span class=\"a-size-small\">478,246</span></a></div></div><div class=\"a-row\"><a class=\"a-link-normal\" href=\"/Amazon-smart-plug-works-with-Alexa/dp/B089DR29T6/ref=zg_bs_electronics_7/144-0128495-6448140?pd_rd_i=B07KTYJ769&amp;psc=1\" role=\"link\"><span class=\"a-color-secondary\">1 offer from <span class=\"a-size-base\"><span class=\"p13n-sc-price\">$24.99</span></span></span></a></div></div></div></div>,\n",
       " <div class=\"a-cardui _p13n-zg-list-grid-desktop_style_grid-cell__1uMOS p13n-grid-content\" data-a-card-type=\"basic\"><div class=\"a-section zg-bdg-ctr\"><div class=\"a-section zg-bdg-body zg-bdg-clr-body aok-float-left\"><span class=\"zg-bdg-text\">#8</span></div><div class=\"a-section zg-bdg-tri zg-bdg-clr-tri aok-float-left\"></div></div><div class=\"zg-grid-general-faceout\"><div><a class=\"a-link-normal\" href=\"/Roku-Streaming-Stick-HDR-Streaming-Long-range/dp/B075XLWML4/ref=zg_bs_electronics_8/144-0128495-6448140?pd_rd_i=B075XLWML4&amp;psc=1\" role=\"link\" tabindex=\"-1\"><div class=\"a-section a-spacing-mini _p13n-zg-list-grid-desktop_maskStyle_noop__3Xbw5\"><img alt=\"Roku Streaming Stick+ | HD/4K/HDR Streaming Device with Long-range Wireless and Roku Voice Remote with TV Controls\" class=\"a-dynamic-image p13n-sc-dynamic-image p13n-product-image\" data-a-dynamic-image='{\"https://images-na.ssl-images-amazon.com/images/I/71gBY-gGBwL._AC_UL302_SR302,200_.jpg\":[302,200],\"https://images-na.ssl-images-amazon.com/images/I/71gBY-gGBwL._AC_UL604_SR604,400_.jpg\":[604,400],\"https://images-na.ssl-images-amazon.com/images/I/71gBY-gGBwL._AC_UL906_SR906,600_.jpg\":[906,600]}' height=\"200px\" src=\"https://images-na.ssl-images-amazon.com/images/I/71gBY-gGBwL._AC_UL604_SR604,400_.jpg\" style=\"max-width:302px;max-height:200px\"/></div></a><a class=\"a-link-normal\" href=\"/Roku-Streaming-Stick-HDR-Streaming-Long-range/dp/B075XLWML4/ref=zg_bs_electronics_8/144-0128495-6448140?pd_rd_i=B075XLWML4&amp;psc=1\" role=\"link\"><span><div class=\"_p13n-zg-list-grid-desktop_truncationStyles_p13n-sc-css-line-clamp-3__g3dy1\">Roku Streaming Stick+ | HD/4K/HDR Streaming Device with Long-range Wireless and Roku Voice Remote with TV Controls</div></span></a><div class=\"a-row\"><div class=\"a-icon-row\"><a class=\"a-link-normal\" href=\"/product-reviews/B075XLWML4/ref=zg_bs_electronics_cr_8/144-0128495-6448140?pd_rd_i=B075XLWML4\" title=\"4.7 out of 5 stars\"><i class=\"a-icon a-icon-star-small a-star-small-4-5 aok-align-top\"><span class=\"a-icon-alt\">4.7 out of 5 stars</span></i> <span class=\"a-size-small\">109,671</span></a></div></div><div class=\"a-row\"><a class=\"a-link-normal a-text-normal\" href=\"/Roku-Streaming-Stick-HDR-Streaming-Long-range/dp/B075XLWML4/ref=zg_bs_electronics_8/144-0128495-6448140?pd_rd_i=B075XLWML4&amp;psc=1\" role=\"link\"><span class=\"a-size-base a-color-price\"><span class=\"_p13n-zg-list-grid-desktop_price_p13n-sc-price__3mJ9Z\">$29.99</span></span></a></div></div></div></div>,\n",
       " <div class=\"a-cardui _p13n-zg-list-grid-desktop_style_grid-cell__1uMOS p13n-grid-content\" data-a-card-type=\"basic\"><div class=\"a-section zg-bdg-ctr\"><div class=\"a-section zg-bdg-body zg-bdg-clr-body aok-float-left\"><span class=\"zg-bdg-text\">#9</span></div><div class=\"a-section zg-bdg-tri zg-bdg-clr-tri aok-float-left\"></div></div><div class=\"zg-grid-general-faceout\"><div><a class=\"a-link-normal\" href=\"/Roku-Express-Streaming-Wireless-Controls/dp/B0916TKFF2/ref=zg_bs_electronics_9/144-0128495-6448140?pd_rd_i=B0916TKFF2&amp;psc=1\" role=\"link\" tabindex=\"-1\"><div class=\"a-section a-spacing-mini _p13n-zg-list-grid-desktop_maskStyle_noop__3Xbw5\"><img alt=\"Roku Express 4K+ 2021 | Streaming Media Player HD/4K/HDR with Smooth Wireless Streaming and Roku Voice Remote with TV Control\" class=\"a-dynamic-image p13n-sc-dynamic-image p13n-product-image\" data-a-dynamic-image='{\"https://images-na.ssl-images-amazon.com/images/I/71E4InwfcPL._AC_UL302_SR302,200_.jpg\":[302,200],\"https://images-na.ssl-images-amazon.com/images/I/71E4InwfcPL._AC_UL604_SR604,400_.jpg\":[604,400],\"https://images-na.ssl-images-amazon.com/images/I/71E4InwfcPL._AC_UL906_SR906,600_.jpg\":[906,600]}' height=\"200px\" src=\"https://images-na.ssl-images-amazon.com/images/I/71E4InwfcPL._AC_UL604_SR604,400_.jpg\" style=\"max-width:302px;max-height:200px\"/></div></a><a class=\"a-link-normal\" href=\"/Roku-Express-Streaming-Wireless-Controls/dp/B0916TKFF2/ref=zg_bs_electronics_9/144-0128495-6448140?pd_rd_i=B0916TKFF2&amp;psc=1\" role=\"link\"><span><div class=\"_p13n-zg-list-grid-desktop_truncationStyles_p13n-sc-css-line-clamp-3__g3dy1\">Roku Express 4K+ 2021 | Streaming Media Player HD/4K/HDR with Smooth Wireless Streaming and Roku Voice Remote with TV Controls, Includes Premium HDMI® Cable</div></span></a><div class=\"a-row\"><div class=\"a-icon-row\"><a class=\"a-link-normal\" href=\"/product-reviews/B0916TKFF2/ref=zg_bs_electronics_cr_9/144-0128495-6448140?pd_rd_i=B0916TKFF2\" title=\"4.7 out of 5 stars\"><i class=\"a-icon a-icon-star-small a-star-small-4-5 aok-align-top\"><span class=\"a-icon-alt\">4.7 out of 5 stars</span></i> <span class=\"a-size-small\">17,367</span></a></div></div><div class=\"a-row\"><a class=\"a-link-normal\" href=\"/Roku-Express-Streaming-Wireless-Controls/dp/B0916TKFF2/ref=zg_bs_electronics_9/144-0128495-6448140?pd_rd_i=B0916TKFF2&amp;psc=1\" role=\"link\"><span class=\"a-color-secondary\">22 offers from <span class=\"a-size-base\"><span class=\"p13n-sc-price\">$30.45</span></span></span></a></div></div></div></div>,\n",
       " <div class=\"a-cardui _p13n-zg-list-grid-desktop_style_grid-cell__1uMOS p13n-grid-content\" data-a-card-type=\"basic\"><div class=\"a-section zg-bdg-ctr\"><div class=\"a-section zg-bdg-body zg-bdg-clr-body aok-float-left\"><span class=\"zg-bdg-text\">#10</span></div><div class=\"a-section zg-bdg-tri zg-bdg-clr-tri aok-float-left\"></div></div><div class=\"zg-grid-general-faceout\"><div><a class=\"a-link-normal\" href=\"/Kindle-Now-with-Built-in-Front-Light/dp/B07978J597/ref=zg_bs_electronics_10/144-0128495-6448140?pd_rd_i=B07978J597&amp;psc=1\" role=\"link\" tabindex=\"-1\"><div class=\"a-section a-spacing-mini _p13n-zg-list-grid-desktop_maskStyle_noop__3Xbw5\"><img alt=\"Kindle - With a Built-in Front Light - Black - Ad-Supported\" class=\"a-dynamic-image p13n-sc-dynamic-image p13n-product-image\" data-a-dynamic-image='{\"https://images-na.ssl-images-amazon.com/images/I/61Ww4abGclL._AC_UL302_SR302,200_.jpg\":[302,200],\"https://images-na.ssl-images-amazon.com/images/I/61Ww4abGclL._AC_UL604_SR604,400_.jpg\":[604,400],\"https://images-na.ssl-images-amazon.com/images/I/61Ww4abGclL._AC_UL906_SR906,600_.jpg\":[906,600]}' height=\"200px\" src=\"https://images-na.ssl-images-amazon.com/images/I/61Ww4abGclL._AC_UL604_SR604,400_.jpg\" style=\"max-width:302px;max-height:200px\"/></div></a><a class=\"a-link-normal\" href=\"/Kindle-Now-with-Built-in-Front-Light/dp/B07978J597/ref=zg_bs_electronics_10/144-0128495-6448140?pd_rd_i=B07978J597&amp;psc=1\" role=\"link\"><span><div class=\"_p13n-zg-list-grid-desktop_truncationStyles_p13n-sc-css-line-clamp-3__g3dy1\">Kindle - With a Built-in Front Light - Black - Ad-Supported</div></span></a><div class=\"a-row\"><div class=\"a-icon-row\"><a class=\"a-link-normal\" href=\"/product-reviews/B07978J597/ref=zg_bs_electronics_cr_10/144-0128495-6448140?pd_rd_i=B07978J597\" title=\"4.6 out of 5 stars\"><i class=\"a-icon a-icon-star-small a-star-small-4-5 aok-align-top\"><span class=\"a-icon-alt\">4.6 out of 5 stars</span></i> <span class=\"a-size-small\">44,062</span></a></div></div><div class=\"a-row\"><a class=\"a-link-normal\" href=\"/Kindle-Now-with-Built-in-Front-Light/dp/B07978J597/ref=zg_bs_electronics_10/144-0128495-6448140?pd_rd_i=B07978J597&amp;psc=1\" role=\"link\"><span class=\"a-color-secondary\">3 offers from <span class=\"a-size-base\"><span class=\"p13n-sc-price\">$49.99</span></span></span></a></div></div></div></div>,\n",
       " <div class=\"a-cardui _p13n-zg-list-grid-desktop_style_grid-cell__1uMOS p13n-grid-content\" data-a-card-type=\"basic\"><div class=\"a-section zg-bdg-ctr\"><div class=\"a-section zg-bdg-body zg-bdg-clr-body aok-float-left\"><span class=\"zg-bdg-text\">#11</span></div><div class=\"a-section zg-bdg-tri zg-bdg-clr-tri aok-float-left\"></div></div><div class=\"zg-grid-general-faceout\"><div><a class=\"a-link-normal\" href=\"/all-new-Echo-Dot/dp/B07XJ8C8F5/ref=zg_bs_electronics_11/144-0128495-6448140?pd_rd_i=B07XJ8C8F5&amp;psc=1\" role=\"link\" tabindex=\"-1\"><div class=\"a-section a-spacing-mini _p13n-zg-list-grid-desktop_maskStyle_noop__3Xbw5\"><img alt=\"Echo Dot (4th Gen, 2020 release) | Smart speaker with Alexa | Charcoal\" class=\"a-dynamic-image p13n-sc-dynamic-image p13n-product-image\" data-a-dynamic-image='{\"https://images-na.ssl-images-amazon.com/images/I/714Rq4k05UL._AC_UL302_SR302,200_.jpg\":[302,200],\"https://images-na.ssl-images-amazon.com/images/I/714Rq4k05UL._AC_UL604_SR604,400_.jpg\":[604,400],\"https://images-na.ssl-images-amazon.com/images/I/714Rq4k05UL._AC_UL906_SR906,600_.jpg\":[906,600]}' height=\"200px\" src=\"https://images-na.ssl-images-amazon.com/images/I/714Rq4k05UL._AC_UL604_SR604,400_.jpg\" style=\"max-width:302px;max-height:200px\"/></div></a><a class=\"a-link-normal\" href=\"/all-new-Echo-Dot/dp/B07XJ8C8F5/ref=zg_bs_electronics_11/144-0128495-6448140?pd_rd_i=B07XJ8C8F5&amp;psc=1\" role=\"link\"><span><div class=\"_p13n-zg-list-grid-desktop_truncationStyles_p13n-sc-css-line-clamp-3__g3dy1\">Echo Dot (4th Gen, 2020 release) | Smart speaker with Alexa | Charcoal</div></span></a><div class=\"a-row\"><div class=\"a-icon-row\"><a class=\"a-link-normal\" href=\"/product-reviews/B07XJ8C8F5/ref=zg_bs_electronics_cr_11/144-0128495-6448140?pd_rd_i=B07XJ8C8F5\" title=\"4.7 out of 5 stars\"><i class=\"a-icon a-icon-star-small a-star-small-4-5 aok-align-top\"><span class=\"a-icon-alt\">4.7 out of 5 stars</span></i> <span class=\"a-size-small\">402,112</span></a></div></div><div class=\"a-row\"><a class=\"a-link-normal\" href=\"/all-new-Echo-Dot/dp/B07XJ8C8F5/ref=zg_bs_electronics_11/144-0128495-6448140?pd_rd_i=B07XJ8C8F5&amp;psc=1\" role=\"link\"><span class=\"a-color-secondary\">4 offers from <span class=\"a-size-base\"><span class=\"p13n-sc-price\">$37.99</span></span></span></a></div></div></div></div>,\n",
       " <div class=\"a-cardui _p13n-zg-list-grid-desktop_style_grid-cell__1uMOS p13n-grid-content\" data-a-card-type=\"basic\"><div class=\"a-section zg-bdg-ctr\"><div class=\"a-section zg-bdg-body zg-bdg-clr-body aok-float-left\"><span class=\"zg-bdg-text\">#12</span></div><div class=\"a-section zg-bdg-tri zg-bdg-clr-tri aok-float-left\"></div></div><div class=\"zg-grid-general-faceout\"><div><a class=\"a-link-normal\" href=\"/Blocking-Glasses-Computer-Reading-Eyestrain/dp/B07W781XWF/ref=zg_bs_electronics_12/144-0128495-6448140?pd_rd_i=B09N7LVXLH&amp;psc=1\" role=\"link\" tabindex=\"-1\"><div class=\"a-section a-spacing-mini _p13n-zg-list-grid-desktop_maskStyle_noop__3Xbw5\"><img alt=\"livho 2 Pack Blue Light Blocking Glasses, Computer Reading/Gaming/TV/Phones Glasses for Women Men,Anti Eyestrain &amp; UV Glare (\" class=\"a-dynamic-image p13n-sc-dynamic-image p13n-product-image\" data-a-dynamic-image='{\"https://images-na.ssl-images-amazon.com/images/I/51KBg2tf-lS._AC_UL302_SR302,200_.jpg\":[302,200],\"https://images-na.ssl-images-amazon.com/images/I/51KBg2tf-lS._AC_UL604_SR604,400_.jpg\":[604,400],\"https://images-na.ssl-images-amazon.com/images/I/51KBg2tf-lS._AC_UL906_SR906,600_.jpg\":[906,600]}' height=\"200px\" src=\"https://images-na.ssl-images-amazon.com/images/I/51KBg2tf-lS._AC_UL604_SR604,400_.jpg\" style=\"max-width:302px;max-height:200px\"/></div></a><a class=\"a-link-normal\" href=\"/Blocking-Glasses-Computer-Reading-Eyestrain/dp/B07W781XWF/ref=zg_bs_electronics_12/144-0128495-6448140?pd_rd_i=B09N7LVXLH&amp;psc=1\" role=\"link\"><span><div class=\"_p13n-zg-list-grid-desktop_truncationStyles_p13n-sc-css-line-clamp-3__g3dy1\">livho 2 Pack Blue Light Blocking Glasses, Computer Reading/Gaming/TV/Phones Glasses for Women Men,Anti Eyestrain &amp; UV Glare (Light Blcak+Clear)</div></span></a><div class=\"a-row\"><div class=\"a-icon-row\"><a class=\"a-link-normal\" href=\"/product-reviews/B09N7LVXLH/ref=zg_bs_electronics_cr_12/144-0128495-6448140?pd_rd_i=B09N7LVXLH\" title=\"4.3 out of 5 stars\"><i class=\"a-icon a-icon-star-small a-star-small-4-5 aok-align-top\"><span class=\"a-icon-alt\">4.3 out of 5 stars</span></i> <span class=\"a-size-small\">96,393</span></a></div></div><div class=\"a-row\"><a class=\"a-link-normal a-text-normal\" href=\"/Blocking-Glasses-Computer-Reading-Eyestrain/dp/B07W781XWF/ref=zg_bs_electronics_12/144-0128495-6448140?pd_rd_i=B09N7LVXLH&amp;psc=1\" role=\"link\"><span class=\"a-size-base a-color-price\"><span class=\"_p13n-zg-list-grid-desktop_price_p13n-sc-price__3mJ9Z\">$13.58</span> - <span class=\"_p13n-zg-list-grid-desktop_price_p13n-sc-price__3mJ9Z\">$33.98</span></span></a></div></div></div></div>,\n",
       " <div class=\"a-cardui _p13n-zg-list-grid-desktop_style_grid-cell__1uMOS p13n-grid-content\" data-a-card-type=\"basic\"><div class=\"a-section zg-bdg-ctr\"><div class=\"a-section zg-bdg-body zg-bdg-clr-body aok-float-left\"><span class=\"zg-bdg-text\">#13</span></div><div class=\"a-section zg-bdg-tri zg-bdg-clr-tri aok-float-left\"></div></div><div class=\"zg-grid-general-faceout\"><div><a class=\"a-link-normal\" href=\"/Fujifilm-INSTAX-Instant-Twin-Pack/dp/B00EB4ADQW/ref=zg_bs_electronics_13/144-0128495-6448140?pd_rd_i=B00EB4ADQW&amp;psc=1\" role=\"link\" tabindex=\"-1\"><div class=\"a-section a-spacing-mini _p13n-zg-list-grid-desktop_maskStyle_noop__3Xbw5\"><img alt=\"Fujifilm Instax Mini Instant Film Twin Pack (White)\" class=\"a-dynamic-image p13n-sc-dynamic-image p13n-product-image\" data-a-dynamic-image='{\"https://images-na.ssl-images-amazon.com/images/I/813oF-FY01L._AC_UL302_SR302,200_.jpg\":[302,200],\"https://images-na.ssl-images-amazon.com/images/I/813oF-FY01L._AC_UL604_SR604,400_.jpg\":[604,400],\"https://images-na.ssl-images-amazon.com/images/I/813oF-FY01L._AC_UL906_SR906,600_.jpg\":[906,600]}' height=\"200px\" src=\"https://images-na.ssl-images-amazon.com/images/I/813oF-FY01L._AC_UL604_SR604,400_.jpg\" style=\"max-width:302px;max-height:200px\"/></div></a><a class=\"a-link-normal\" href=\"/Fujifilm-INSTAX-Instant-Twin-Pack/dp/B00EB4ADQW/ref=zg_bs_electronics_13/144-0128495-6448140?pd_rd_i=B00EB4ADQW&amp;psc=1\" role=\"link\"><span><div class=\"_p13n-zg-list-grid-desktop_truncationStyles_p13n-sc-css-line-clamp-3__g3dy1\">Fujifilm Instax Mini Instant Film Twin Pack (White)</div></span></a><div class=\"a-row\"><div class=\"a-icon-row\"><a class=\"a-link-normal\" href=\"/product-reviews/B00EB4ADQW/ref=zg_bs_electronics_cr_13/144-0128495-6448140?pd_rd_i=B00EB4ADQW\" title=\"4.8 out of 5 stars\"><i class=\"a-icon a-icon-star-small a-star-small-5 aok-align-top\"><span class=\"a-icon-alt\">4.8 out of 5 stars</span></i> <span class=\"a-size-small\">83,085</span></a></div></div><div class=\"a-row\"><a class=\"a-link-normal\" href=\"/Fujifilm-INSTAX-Instant-Twin-Pack/dp/B00EB4ADQW/ref=zg_bs_electronics_13/144-0128495-6448140?pd_rd_i=B00EB4ADQW&amp;psc=1\" role=\"link\"><span class=\"a-color-secondary\">34 offers from <span class=\"a-size-base\"><span class=\"p13n-sc-price\">$10.50</span></span></span></a></div></div></div></div>,\n",
       " <div class=\"a-cardui _p13n-zg-list-grid-desktop_style_grid-cell__1uMOS p13n-grid-content\" data-a-card-type=\"basic\"><div class=\"a-section zg-bdg-ctr\"><div class=\"a-section zg-bdg-body zg-bdg-clr-body aok-float-left\"><span class=\"zg-bdg-text\">#14</span></div><div class=\"a-section zg-bdg-tri zg-bdg-clr-tri aok-float-left\"></div></div><div class=\"zg-grid-general-faceout\"><div><a class=\"a-link-normal\" href=\"/Roku-Express-Streaming-Media-Player/dp/B07WVFCVJN/ref=zg_bs_electronics_14/144-0128495-6448140?pd_rd_i=B07WVFCVJN&amp;psc=1\" role=\"link\" tabindex=\"-1\"><div class=\"a-section a-spacing-mini _p13n-zg-list-grid-desktop_maskStyle_noop__3Xbw5\"><img alt=\"Roku Express | HD Streaming Media Player with High Speed HDMI Cable and Simple Remote\" class=\"a-dynamic-image p13n-sc-dynamic-image p13n-product-image\" data-a-dynamic-image='{\"https://images-na.ssl-images-amazon.com/images/I/71hx9HgKA2L._AC_UL302_SR302,200_.jpg\":[302,200],\"https://images-na.ssl-images-amazon.com/images/I/71hx9HgKA2L._AC_UL604_SR604,400_.jpg\":[604,400],\"https://images-na.ssl-images-amazon.com/images/I/71hx9HgKA2L._AC_UL906_SR906,600_.jpg\":[906,600]}' height=\"200px\" src=\"https://images-na.ssl-images-amazon.com/images/I/71hx9HgKA2L._AC_UL604_SR604,400_.jpg\" style=\"max-width:302px;max-height:200px\"/></div></a><a class=\"a-link-normal\" href=\"/Roku-Express-Streaming-Media-Player/dp/B07WVFCVJN/ref=zg_bs_electronics_14/144-0128495-6448140?pd_rd_i=B07WVFCVJN&amp;psc=1\" role=\"link\"><span><div class=\"_p13n-zg-list-grid-desktop_truncationStyles_p13n-sc-css-line-clamp-3__g3dy1\">Roku Express | HD Streaming Media Player with High Speed HDMI Cable and Simple Remote</div></span></a><div class=\"a-row\"><div class=\"a-icon-row\"><a class=\"a-link-normal\" href=\"/product-reviews/B07WVFCVJN/ref=zg_bs_electronics_cr_14/144-0128495-6448140?pd_rd_i=B07WVFCVJN\" title=\"4.8 out of 5 stars\"><i class=\"a-icon a-icon-star-small a-star-small-5 aok-align-top\"><span class=\"a-icon-alt\">4.8 out of 5 stars</span></i> <span class=\"a-size-small\">142,119</span></a></div></div><div class=\"a-row\"><a class=\"a-link-normal\" href=\"/Roku-Express-Streaming-Media-Player/dp/B07WVFCVJN/ref=zg_bs_electronics_14/144-0128495-6448140?pd_rd_i=B07WVFCVJN&amp;psc=1\" role=\"link\"><span class=\"a-color-secondary\">49 offers from <span class=\"a-size-base\"><span class=\"p13n-sc-price\">$21.99</span></span></span></a></div></div></div></div>,\n",
       " <div class=\"a-cardui _p13n-zg-list-grid-desktop_style_grid-cell__1uMOS p13n-grid-content\" data-a-card-type=\"basic\"><div class=\"a-section zg-bdg-ctr\"><div class=\"a-section zg-bdg-body zg-bdg-clr-body aok-float-left\"><span class=\"zg-bdg-text\">#15</span></div><div class=\"a-section zg-bdg-tri zg-bdg-clr-tri aok-float-left\"></div></div><div class=\"zg-grid-general-faceout\"><div><a class=\"a-link-normal\" href=\"/Apple-MX542AM-A-AirTag-Pack/dp/B0932QJ2JZ/ref=zg_bs_electronics_15/144-0128495-6448140?pd_rd_i=B0932QJ2JZ&amp;psc=1\" role=\"link\" tabindex=\"-1\"><div class=\"a-section a-spacing-mini _p13n-zg-list-grid-desktop_maskStyle_noop__3Xbw5\"><img alt=\"Apple AirTag 4 Pack\" class=\"a-dynamic-image p13n-sc-dynamic-image p13n-product-image\" data-a-dynamic-image='{\"https://images-na.ssl-images-amazon.com/images/I/71gY9E+cTaS._AC_UL302_SR302,200_.jpg\":[302,200],\"https://images-na.ssl-images-amazon.com/images/I/71gY9E+cTaS._AC_UL604_SR604,400_.jpg\":[604,400],\"https://images-na.ssl-images-amazon.com/images/I/71gY9E+cTaS._AC_UL906_SR906,600_.jpg\":[906,600]}' height=\"200px\" src=\"https://images-na.ssl-images-amazon.com/images/I/71gY9E+cTaS._AC_UL604_SR604,400_.jpg\" style=\"max-width:302px;max-height:200px\"/></div></a><a class=\"a-link-normal\" href=\"/Apple-MX542AM-A-AirTag-Pack/dp/B0932QJ2JZ/ref=zg_bs_electronics_15/144-0128495-6448140?pd_rd_i=B0932QJ2JZ&amp;psc=1\" role=\"link\"><span><div class=\"_p13n-zg-list-grid-desktop_truncationStyles_p13n-sc-css-line-clamp-3__g3dy1\">Apple AirTag 4 Pack</div></span></a><div class=\"a-row\"><div class=\"a-icon-row\"><a class=\"a-link-normal\" href=\"/product-reviews/B0932QJ2JZ/ref=zg_bs_electronics_cr_15/144-0128495-6448140?pd_rd_i=B0932QJ2JZ\" title=\"4.7 out of 5 stars\"><i class=\"a-icon a-icon-star-small a-star-small-4-5 aok-align-top\"><span class=\"a-icon-alt\">4.7 out of 5 stars</span></i> <span class=\"a-size-small\">36,518</span></a></div></div><div class=\"a-row\"><a class=\"a-link-normal\" href=\"/Apple-MX542AM-A-AirTag-Pack/dp/B0932QJ2JZ/ref=zg_bs_electronics_15/144-0128495-6448140?pd_rd_i=B0932QJ2JZ&amp;psc=1\" role=\"link\"><span class=\"a-color-secondary\">2 offers from <span class=\"a-size-base\"><span class=\"p13n-sc-price\">$99.00</span></span></span></a></div></div></div></div>,\n",
       " <div class=\"a-cardui _p13n-zg-list-grid-desktop_style_grid-cell__1uMOS p13n-grid-content\" data-a-card-type=\"basic\"><div class=\"a-section zg-bdg-ctr\"><div class=\"a-section zg-bdg-body zg-bdg-clr-body aok-float-left\"><span class=\"zg-bdg-text\">#16</span></div><div class=\"a-section zg-bdg-tri zg-bdg-clr-tri aok-float-left\"></div></div><div class=\"zg-grid-general-faceout\"><div><a class=\"a-link-normal\" href=\"/Alestor-Protector-Outlets-Extension-Essentials/dp/B08P5LRY37/ref=zg_bs_electronics_16/144-0128495-6448140?pd_rd_i=B08P5LRY37&amp;psc=1\" role=\"link\" tabindex=\"-1\"><div class=\"a-section a-spacing-mini _p13n-zg-list-grid-desktop_maskStyle_noop__3Xbw5\"><img alt=\"Power Strip, Alestor Surge Protector with 12 Outlets and 4 USB Ports, 6 Feet Extension Cord (1875W/15A), 2700 Joules, ETL Lis\" class=\"a-dynamic-image p13n-sc-dynamic-image p13n-product-image\" data-a-dynamic-image='{\"https://images-na.ssl-images-amazon.com/images/I/71IICpZJ1RL._AC_UL302_SR302,200_.jpg\":[302,200],\"https://images-na.ssl-images-amazon.com/images/I/71IICpZJ1RL._AC_UL604_SR604,400_.jpg\":[604,400],\"https://images-na.ssl-images-amazon.com/images/I/71IICpZJ1RL._AC_UL906_SR906,600_.jpg\":[906,600]}' height=\"200px\" src=\"https://images-na.ssl-images-amazon.com/images/I/71IICpZJ1RL._AC_UL604_SR604,400_.jpg\" style=\"max-width:302px;max-height:200px\"/></div></a><a class=\"a-link-normal\" href=\"/Alestor-Protector-Outlets-Extension-Essentials/dp/B08P5LRY37/ref=zg_bs_electronics_16/144-0128495-6448140?pd_rd_i=B08P5LRY37&amp;psc=1\" role=\"link\"><span><div class=\"_p13n-zg-list-grid-desktop_truncationStyles_p13n-sc-css-line-clamp-3__g3dy1\">Power Strip, Alestor Surge Protector with 12 Outlets and 4 USB Ports, 6 Feet Extension Cord (1875W/15A), 2700 Joules, ETL Listed, Black</div></span></a><div class=\"a-row\"><div class=\"a-icon-row\"><a class=\"a-link-normal\" href=\"/product-reviews/B08P5LRY37/ref=zg_bs_electronics_cr_16/144-0128495-6448140?pd_rd_i=B08P5LRY37\" title=\"4.8 out of 5 stars\"><i class=\"a-icon a-icon-star-small a-star-small-5 aok-align-top\"><span class=\"a-icon-alt\">4.8 out of 5 stars</span></i> <span class=\"a-size-small\">11,269</span></a></div></div><div class=\"a-row\"><a class=\"a-link-normal\" href=\"/Alestor-Protector-Outlets-Extension-Essentials/dp/B08P5LRY37/ref=zg_bs_electronics_16/144-0128495-6448140?pd_rd_i=B08P5LRY37&amp;psc=1\" role=\"link\"><span class=\"a-color-secondary\">1 offer from <span class=\"a-size-base\"><span class=\"p13n-sc-price\">$21.98</span></span></span></a></div></div></div></div>,\n",
       " <div class=\"a-cardui _p13n-zg-list-grid-desktop_style_grid-cell__1uMOS p13n-grid-content\" data-a-card-type=\"basic\"><div class=\"a-section zg-bdg-ctr\"><div class=\"a-section zg-bdg-body zg-bdg-clr-body aok-float-left\"><span class=\"zg-bdg-text\">#17</span></div><div class=\"a-section zg-bdg-tri zg-bdg-clr-tri aok-float-left\"></div></div><div class=\"zg-grid-general-faceout\"><div><a class=\"a-link-normal\" href=\"/fire-tv-stick-lite/dp/B07YNLBS7R/ref=zg_bs_electronics_17/144-0128495-6448140?pd_rd_i=B07YNLBS7R&amp;psc=1\" role=\"link\" tabindex=\"-1\"><div class=\"a-section a-spacing-mini _p13n-zg-list-grid-desktop_maskStyle_noop__3Xbw5\"><img alt=\"Fire TV Stick Lite with Alexa Voice Remote Lite (no TV controls), HD streaming device\" class=\"a-dynamic-image p13n-sc-dynamic-image p13n-product-image\" data-a-dynamic-image='{\"https://images-na.ssl-images-amazon.com/images/I/51Da2Z+FTFL._AC_UL302_SR302,200_.jpg\":[302,200],\"https://images-na.ssl-images-amazon.com/images/I/51Da2Z+FTFL._AC_UL604_SR604,400_.jpg\":[604,400],\"https://images-na.ssl-images-amazon.com/images/I/51Da2Z+FTFL._AC_UL906_SR906,600_.jpg\":[906,600]}' height=\"200px\" src=\"https://images-na.ssl-images-amazon.com/images/I/51Da2Z+FTFL._AC_UL604_SR604,400_.jpg\" style=\"max-width:302px;max-height:200px\"/></div></a><a class=\"a-link-normal\" href=\"/fire-tv-stick-lite/dp/B07YNLBS7R/ref=zg_bs_electronics_17/144-0128495-6448140?pd_rd_i=B07YNLBS7R&amp;psc=1\" role=\"link\"><span><div class=\"_p13n-zg-list-grid-desktop_truncationStyles_p13n-sc-css-line-clamp-3__g3dy1\">Fire TV Stick Lite with Alexa Voice Remote Lite (no TV controls), HD streaming device</div></span></a><div class=\"a-row\"><div class=\"a-icon-row\"><a class=\"a-link-normal\" href=\"/product-reviews/B07YNLBS7R/ref=zg_bs_electronics_cr_17/144-0128495-6448140?pd_rd_i=B07YNLBS7R\" title=\"4.7 out of 5 stars\"><i class=\"a-icon a-icon-star-small a-star-small-4-5 aok-align-top\"><span class=\"a-icon-alt\">4.7 out of 5 stars</span></i> <span class=\"a-size-small\">216,632</span></a></div></div><div class=\"a-row\"><a class=\"a-link-normal\" href=\"/fire-tv-stick-lite/dp/B07YNLBS7R/ref=zg_bs_electronics_17/144-0128495-6448140?pd_rd_i=B07YNLBS7R&amp;psc=1\" role=\"link\"><span class=\"a-color-secondary\">1 offer from <span class=\"a-size-base\"><span class=\"p13n-sc-price\">$29.99</span></span></span></a></div></div></div></div>,\n",
       " <div class=\"a-cardui _p13n-zg-list-grid-desktop_style_grid-cell__1uMOS p13n-grid-content\" data-a-card-type=\"basic\"><div class=\"a-section zg-bdg-ctr\"><div class=\"a-section zg-bdg-body zg-bdg-clr-body aok-float-left\"><span class=\"zg-bdg-text\">#18</span></div><div class=\"a-section zg-bdg-tri zg-bdg-clr-tri aok-float-left\"></div></div><div class=\"zg-grid-general-faceout\"><div><a class=\"a-link-normal\" href=\"/Blink-Video-Doorbell/dp/B08SG2MS3V/ref=zg_bs_electronics_18/144-0128495-6448140?pd_rd_i=B09DFGMQWJ&amp;psc=1\" role=\"link\" tabindex=\"-1\"><div class=\"a-section a-spacing-mini _p13n-zg-list-grid-desktop_maskStyle_noop__3Xbw5\"><img alt=\"Introducing Blink Video Doorbell | Two-way audio, HD video, motion and chime app alerts and Alexa enabled — wired or wire-fre\" class=\"a-dynamic-image p13n-sc-dynamic-image p13n-product-image\" data-a-dynamic-image='{\"https://images-na.ssl-images-amazon.com/images/I/41te-uzWxDL._AC_UL302_SR302,200_.jpg\":[302,200],\"https://images-na.ssl-images-amazon.com/images/I/41te-uzWxDL._AC_UL604_SR604,400_.jpg\":[604,400],\"https://images-na.ssl-images-amazon.com/images/I/41te-uzWxDL._AC_UL906_SR906,600_.jpg\":[906,600]}' height=\"200px\" src=\"https://images-na.ssl-images-amazon.com/images/I/41te-uzWxDL._AC_UL604_SR604,400_.jpg\" style=\"max-width:302px;max-height:200px\"/></div></a><a class=\"a-link-normal\" href=\"/Blink-Video-Doorbell/dp/B08SG2MS3V/ref=zg_bs_electronics_18/144-0128495-6448140?pd_rd_i=B09DFGMQWJ&amp;psc=1\" role=\"link\"><span><div class=\"_p13n-zg-list-grid-desktop_truncationStyles_p13n-sc-css-line-clamp-3__g3dy1\">Introducing Blink Video Doorbell | Two-way audio, HD video, motion and chime app alerts and Alexa enabled — wired or wire-free (Black)</div></span></a><div class=\"a-row\"><div class=\"a-icon-row\"><a class=\"a-link-normal\" href=\"/product-reviews/B09DFGMQWJ/ref=zg_bs_electronics_cr_18/144-0128495-6448140?pd_rd_i=B09DFGMQWJ\" title=\"4.3 out of 5 stars\"><i class=\"a-icon a-icon-star-small a-star-small-4-5 aok-align-top\"><span class=\"a-icon-alt\">4.3 out of 5 stars</span></i> <span class=\"a-size-small\">17,257</span></a></div></div><div class=\"a-row\"><a class=\"a-link-normal a-text-normal\" href=\"/Blink-Video-Doorbell/dp/B08SG2MS3V/ref=zg_bs_electronics_18/144-0128495-6448140?pd_rd_i=B09DFGMQWJ&amp;psc=1\" role=\"link\"><span class=\"a-size-base a-color-price\"><span class=\"_p13n-zg-list-grid-desktop_price_p13n-sc-price__3mJ9Z\">$144.98</span> - <span class=\"_p13n-zg-list-grid-desktop_price_p13n-sc-price__3mJ9Z\">$279.98</span></span></a></div></div></div></div>,\n",
       " <div class=\"a-cardui _p13n-zg-list-grid-desktop_style_grid-cell__1uMOS p13n-grid-content\" data-a-card-type=\"basic\"><div class=\"a-section zg-bdg-ctr\"><div class=\"a-section zg-bdg-body zg-bdg-clr-body aok-float-left\"><span class=\"zg-bdg-text\">#19</span></div><div class=\"a-section zg-bdg-tri zg-bdg-clr-tri aok-float-left\"></div></div><div class=\"zg-grid-general-faceout\"><div><a class=\"a-link-normal\" href=\"/Roku-Streaming-Device-Vision-Controls/dp/B09BKCDXZC/ref=zg_bs_electronics_19/144-0128495-6448140?pd_rd_i=B09BKCDXZC&amp;psc=1\" role=\"link\" tabindex=\"-1\"><div class=\"a-section a-spacing-mini _p13n-zg-list-grid-desktop_maskStyle_noop__3Xbw5\"><img alt=\"Roku Streaming Stick 4K 2021 | Streaming Device 4K/HDR/Dolby Vision with Roku Voice Remote and TV Controls\" class=\"a-dynamic-image p13n-sc-dynamic-image p13n-product-image\" data-a-dynamic-image='{\"https://images-na.ssl-images-amazon.com/images/I/71wrIZujPIL._AC_UL302_SR302,200_.jpg\":[302,200],\"https://images-na.ssl-images-amazon.com/images/I/71wrIZujPIL._AC_UL604_SR604,400_.jpg\":[604,400],\"https://images-na.ssl-images-amazon.com/images/I/71wrIZujPIL._AC_UL906_SR906,600_.jpg\":[906,600]}' height=\"200px\" src=\"https://images-na.ssl-images-amazon.com/images/I/71wrIZujPIL._AC_UL604_SR604,400_.jpg\" style=\"max-width:302px;max-height:200px\"/></div></a><a class=\"a-link-normal\" href=\"/Roku-Streaming-Device-Vision-Controls/dp/B09BKCDXZC/ref=zg_bs_electronics_19/144-0128495-6448140?pd_rd_i=B09BKCDXZC&amp;psc=1\" role=\"link\"><span><div class=\"_p13n-zg-list-grid-desktop_truncationStyles_p13n-sc-css-line-clamp-3__g3dy1\">Roku Streaming Stick 4K 2021 | Streaming Device 4K/HDR/Dolby Vision with Roku Voice Remote and TV Controls</div></span></a><div class=\"a-row\"><div class=\"a-icon-row\"><a class=\"a-link-normal\" href=\"/product-reviews/B09BKCDXZC/ref=zg_bs_electronics_cr_19/144-0128495-6448140?pd_rd_i=B09BKCDXZC\" title=\"4.8 out of 5 stars\"><i class=\"a-icon a-icon-star-small a-star-small-5 aok-align-top\"><span class=\"a-icon-alt\">4.8 out of 5 stars</span></i> <span class=\"a-size-small\">7,220</span></a></div></div><div class=\"a-row\"><a class=\"a-link-normal a-text-normal\" href=\"/Roku-Streaming-Device-Vision-Controls/dp/B09BKCDXZC/ref=zg_bs_electronics_19/144-0128495-6448140?pd_rd_i=B09BKCDXZC&amp;psc=1\" role=\"link\"><span class=\"a-size-base a-color-price\"><span class=\"_p13n-zg-list-grid-desktop_price_p13n-sc-price__3mJ9Z\">$39.00</span></span></a></div></div></div></div>,\n",
       " <div class=\"a-cardui _p13n-zg-list-grid-desktop_style_grid-cell__1uMOS p13n-grid-content\" data-a-card-type=\"basic\"><div class=\"a-section zg-bdg-ctr\"><div class=\"a-section zg-bdg-body zg-bdg-clr-body aok-float-left\"><span class=\"zg-bdg-text\">#20</span></div><div class=\"a-section zg-bdg-tri zg-bdg-clr-tri aok-float-left\"></div></div><div class=\"zg-grid-general-faceout\"><div><a class=\"a-link-normal\" href=\"/Charger-Protector-QINLIANF-Extender-Charging/dp/B08R6S1M1K/ref=zg_bs_electronics_20/144-0128495-6448140?pd_rd_i=B08R6S1M1K&amp;psc=1\" role=\"link\" tabindex=\"-1\"><div class=\"a-section a-spacing-mini _p13n-zg-list-grid-desktop_maskStyle_noop__3Xbw5\"><img alt=\"USB Wall Charger, Surge Protector, QINLIANF 5 Outlet Extender with 4 USB Charging Ports ( 4.8A Total) 3-Sided 1680J Power Str\" class=\"a-dynamic-image p13n-sc-dynamic-image p13n-product-image\" data-a-dynamic-image='{\"https://images-na.ssl-images-amazon.com/images/I/61Hh-YlfJOL._AC_UL302_SR302,200_.jpg\":[302,200],\"https://images-na.ssl-images-amazon.com/images/I/61Hh-YlfJOL._AC_UL604_SR604,400_.jpg\":[604,400],\"https://images-na.ssl-images-amazon.com/images/I/61Hh-YlfJOL._AC_UL906_SR906,600_.jpg\":[906,600]}' height=\"200px\" src=\"https://images-na.ssl-images-amazon.com/images/I/61Hh-YlfJOL._AC_UL604_SR604,400_.jpg\" style=\"max-width:302px;max-height:200px\"/></div></a><a class=\"a-link-normal\" href=\"/Charger-Protector-QINLIANF-Extender-Charging/dp/B08R6S1M1K/ref=zg_bs_electronics_20/144-0128495-6448140?pd_rd_i=B08R6S1M1K&amp;psc=1\" role=\"link\"><span><div class=\"_p13n-zg-list-grid-desktop_truncationStyles_p13n-sc-css-line-clamp-3__g3dy1\">USB Wall Charger, Surge Protector, QINLIANF 5 Outlet Extender with 4 USB Charging Ports ( 4.8A Total) 3-Sided 1680J Power Strip Multi Plug Outlets Wall Adapter Spaced for Home Travel Office (3U1C)</div></span></a><div class=\"a-row\"><div class=\"a-icon-row\"><a class=\"a-link-normal\" href=\"/product-reviews/B08R6S1M1K/ref=zg_bs_electronics_cr_20/144-0128495-6448140?pd_rd_i=B08R6S1M1K\" title=\"4.7 out of 5 stars\"><i class=\"a-icon a-icon-star-small a-star-small-4-5 aok-align-top\"><span class=\"a-icon-alt\">4.7 out of 5 stars</span></i> <span class=\"a-size-small\">11,576</span></a></div></div><div class=\"a-row\"><a class=\"a-link-normal\" href=\"/Charger-Protector-QINLIANF-Extender-Charging/dp/B08R6S1M1K/ref=zg_bs_electronics_20/144-0128495-6448140?pd_rd_i=B08R6S1M1K&amp;psc=1\" role=\"link\"><span class=\"a-color-secondary\">1 offer from <span class=\"a-size-base\"><span class=\"p13n-sc-price\">$16.98</span></span></span></a></div></div></div></div>,\n",
       " <div class=\"a-cardui _p13n-zg-list-grid-desktop_style_grid-cell__1uMOS p13n-grid-content\" data-a-card-type=\"basic\"><div class=\"a-section zg-bdg-ctr\"><div class=\"a-section zg-bdg-body zg-bdg-clr-body aok-float-left\"><span class=\"zg-bdg-text\">#21</span></div><div class=\"a-section zg-bdg-tri zg-bdg-clr-tri aok-float-left\"></div></div><div class=\"zg-grid-general-faceout\"><div><a class=\"a-link-normal\" href=\"/OHill-Organizer-Management-Organizing-Adhesive/dp/B071FXZBMV/ref=zg_bs_electronics_21/144-0128495-6448140?pd_rd_i=B071FXZBMV&amp;psc=1\" role=\"link\" tabindex=\"-1\"><div class=\"a-section a-spacing-mini _p13n-zg-list-grid-desktop_maskStyle_noop__3Xbw5\"><img alt=\"OHill Cable Clips,16 Pack Black Adhesive Cord Holders, Ideal Cable Cords Management for Organizing Cable Wires-Home, Office, \" class=\"a-dynamic-image p13n-sc-dynamic-image p13n-product-image\" data-a-dynamic-image='{\"https://images-na.ssl-images-amazon.com/images/I/71SrHDrrHML._AC_UL302_SR302,200_.jpg\":[302,200],\"https://images-na.ssl-images-amazon.com/images/I/71SrHDrrHML._AC_UL604_SR604,400_.jpg\":[604,400],\"https://images-na.ssl-images-amazon.com/images/I/71SrHDrrHML._AC_UL906_SR906,600_.jpg\":[906,600]}' height=\"200px\" src=\"https://images-na.ssl-images-amazon.com/images/I/71SrHDrrHML._AC_UL604_SR604,400_.jpg\" style=\"max-width:302px;max-height:200px\"/></div></a><a class=\"a-link-normal\" href=\"/OHill-Organizer-Management-Organizing-Adhesive/dp/B071FXZBMV/ref=zg_bs_electronics_21/144-0128495-6448140?pd_rd_i=B071FXZBMV&amp;psc=1\" role=\"link\"><span><div class=\"_p13n-zg-list-grid-desktop_truncationStyles_p13n-sc-css-line-clamp-3__g3dy1\">OHill Cable Clips,16 Pack Black Adhesive Cord Holders, Ideal Cable Cords Management for Organizing Cable Wires-Home, Office, Car, Desk Nightstand</div></span></a><div class=\"a-row\"><div class=\"a-icon-row\"><a class=\"a-link-normal\" href=\"/product-reviews/B071FXZBMV/ref=zg_bs_electronics_cr_21/144-0128495-6448140?pd_rd_i=B071FXZBMV\" title=\"4.5 out of 5 stars\"><i class=\"a-icon a-icon-star-small a-star-small-4-5 aok-align-top\"><span class=\"a-icon-alt\">4.5 out of 5 stars</span></i> <span class=\"a-size-small\">43,875</span></a></div></div><div class=\"a-row\"><a class=\"a-link-normal a-text-normal\" href=\"/OHill-Organizer-Management-Organizing-Adhesive/dp/B071FXZBMV/ref=zg_bs_electronics_21/144-0128495-6448140?pd_rd_i=B071FXZBMV&amp;psc=1\" role=\"link\"><span class=\"a-size-base a-color-price\"><span class=\"_p13n-zg-list-grid-desktop_price_p13n-sc-price__3mJ9Z\">$8.99</span></span></a></div></div></div></div>,\n",
       " <div class=\"a-cardui _p13n-zg-list-grid-desktop_style_grid-cell__1uMOS p13n-grid-content\" data-a-card-type=\"basic\"><div class=\"a-section zg-bdg-ctr\"><div class=\"a-section zg-bdg-body zg-bdg-clr-body aok-float-left\"><span class=\"zg-bdg-text\">#22</span></div><div class=\"a-section zg-bdg-tri zg-bdg-clr-tri aok-float-left\"></div></div><div class=\"zg-grid-general-faceout\"><div><a class=\"a-link-normal\" href=\"/Sabrent-4-Port-Individual-Switches-HB-UMLS/dp/B00BWF5U0M/ref=zg_bs_electronics_22/144-0128495-6448140?pd_rd_i=B00BWF5U0M&amp;psc=1\" role=\"link\" tabindex=\"-1\"><div class=\"a-section a-spacing-mini _p13n-zg-list-grid-desktop_maskStyle_noop__3Xbw5\"><img alt=\"Sabrent 4-Port USB 2.0 Data Hub with Individual LED lit Power Switches [Charging NOT Supported] for Mac &amp; PC (HB-UMLS)\" class=\"a-dynamic-image p13n-sc-dynamic-image p13n-product-image\" data-a-dynamic-image='{\"https://images-na.ssl-images-amazon.com/images/I/71igbmDJwDL._AC_UL302_SR302,200_.jpg\":[302,200],\"https://images-na.ssl-images-amazon.com/images/I/71igbmDJwDL._AC_UL604_SR604,400_.jpg\":[604,400],\"https://images-na.ssl-images-amazon.com/images/I/71igbmDJwDL._AC_UL906_SR906,600_.jpg\":[906,600]}' height=\"200px\" src=\"https://images-na.ssl-images-amazon.com/images/I/71igbmDJwDL._AC_UL604_SR604,400_.jpg\" style=\"max-width:302px;max-height:200px\"/></div></a><a class=\"a-link-normal\" href=\"/Sabrent-4-Port-Individual-Switches-HB-UMLS/dp/B00BWF5U0M/ref=zg_bs_electronics_22/144-0128495-6448140?pd_rd_i=B00BWF5U0M&amp;psc=1\" role=\"link\"><span><div class=\"_p13n-zg-list-grid-desktop_truncationStyles_p13n-sc-css-line-clamp-3__g3dy1\">Sabrent 4-Port USB 2.0 Data Hub with Individual LED lit Power Switches [Charging NOT Supported] for Mac &amp; PC (HB-UMLS)</div></span></a><div class=\"a-row\"><div class=\"a-icon-row\"><a class=\"a-link-normal\" href=\"/product-reviews/B00BWF5U0M/ref=zg_bs_electronics_cr_22/144-0128495-6448140?pd_rd_i=B00BWF5U0M\" title=\"4.6 out of 5 stars\"><i class=\"a-icon a-icon-star-small a-star-small-4-5 aok-align-top\"><span class=\"a-icon-alt\">4.6 out of 5 stars</span></i> <span class=\"a-size-small\">90,685</span></a></div></div><div class=\"a-row\"><a class=\"a-link-normal a-text-normal\" href=\"/Sabrent-4-Port-Individual-Switches-HB-UMLS/dp/B00BWF5U0M/ref=zg_bs_electronics_22/144-0128495-6448140?pd_rd_i=B00BWF5U0M&amp;psc=1\" role=\"link\"><span class=\"a-size-base a-color-price\"><span class=\"_p13n-zg-list-grid-desktop_price_p13n-sc-price__3mJ9Z\">$8.99</span></span></a></div></div></div></div>,\n",
       " <div class=\"a-cardui _p13n-zg-list-grid-desktop_style_grid-cell__1uMOS p13n-grid-content\" data-a-card-type=\"basic\"><div class=\"a-section zg-bdg-ctr\"><div class=\"a-section zg-bdg-body zg-bdg-clr-body aok-float-left\"><span class=\"zg-bdg-text\">#23</span></div><div class=\"a-section zg-bdg-tri zg-bdg-clr-tri aok-float-left\"></div></div><div class=\"zg-grid-general-faceout\"><div><a class=\"a-link-normal\" href=\"/All-new-Kindle-Paperwhite-adjustable-Ad-Supported/dp/B08KTZ8249/ref=zg_bs_electronics_23/144-0128495-6448140?pd_rd_i=B08KTZ8249&amp;psc=1\" role=\"link\" tabindex=\"-1\"><div class=\"a-section a-spacing-mini _p13n-zg-list-grid-desktop_maskStyle_noop__3Xbw5\"><img alt='All-new Kindle Paperwhite (8 GB) – Now with a 6.8\" display and adjustable warm light – Ad-Supported' class=\"a-dynamic-image p13n-sc-dynamic-image p13n-product-image\" data-a-dynamic-image='{\"https://images-na.ssl-images-amazon.com/images/I/51QCk82iGcL._AC_UL302_SR302,200_.jpg\":[302,200],\"https://images-na.ssl-images-amazon.com/images/I/51QCk82iGcL._AC_UL604_SR604,400_.jpg\":[604,400],\"https://images-na.ssl-images-amazon.com/images/I/51QCk82iGcL._AC_UL906_SR906,600_.jpg\":[906,600]}' height=\"200px\" src=\"https://images-na.ssl-images-amazon.com/images/I/51QCk82iGcL._AC_UL604_SR604,400_.jpg\" style=\"max-width:302px;max-height:200px\"/></div></a><a class=\"a-link-normal\" href=\"/All-new-Kindle-Paperwhite-adjustable-Ad-Supported/dp/B08KTZ8249/ref=zg_bs_electronics_23/144-0128495-6448140?pd_rd_i=B08KTZ8249&amp;psc=1\" role=\"link\"><span><div class=\"_p13n-zg-list-grid-desktop_truncationStyles_p13n-sc-css-line-clamp-3__g3dy1\">All-new Kindle Paperwhite (8 GB) – Now with a 6.8\" display and adjustable warm light – Ad-Supported</div></span></a><div class=\"a-row\"><div class=\"a-icon-row\"><a class=\"a-link-normal\" href=\"/product-reviews/B08KTZ8249/ref=zg_bs_electronics_cr_23/144-0128495-6448140?pd_rd_i=B08KTZ8249\" title=\"4.7 out of 5 stars\"><i class=\"a-icon a-icon-star-small a-star-small-4-5 aok-align-top\"><span class=\"a-icon-alt\">4.7 out of 5 stars</span></i> <span class=\"a-size-small\">3,917</span></a></div></div><div class=\"a-row\"><a class=\"a-link-normal\" href=\"/All-new-Kindle-Paperwhite-adjustable-Ad-Supported/dp/B08KTZ8249/ref=zg_bs_electronics_23/144-0128495-6448140?pd_rd_i=B08KTZ8249&amp;psc=1\" role=\"link\"><span class=\"a-color-secondary\">1 offer from <span class=\"a-size-base\"><span class=\"p13n-sc-price\">$139.99</span></span></span></a></div></div></div></div>,\n",
       " <div class=\"a-cardui _p13n-zg-list-grid-desktop_style_grid-cell__1uMOS p13n-grid-content\" data-a-card-type=\"basic\"><div class=\"a-section zg-bdg-ctr\"><div class=\"a-section zg-bdg-body zg-bdg-clr-body aok-float-left\"><span class=\"zg-bdg-text\">#24</span></div><div class=\"a-section zg-bdg-tri zg-bdg-clr-tri aok-float-left\"></div></div><div class=\"zg-grid-general-faceout\"><div><a class=\"a-link-normal\" href=\"/GE-Outlet-Protector-Extension-14092/dp/B00DOMYL24/ref=zg_bs_electronics_24/144-0128495-6448140?pd_rd_i=B00DOMYL24&amp;psc=1\" role=\"link\" tabindex=\"-1\"><div class=\"a-section a-spacing-mini _p13n-zg-list-grid-desktop_maskStyle_noop__3Xbw5\"><img alt=\"GE 6-Outlet Surge Protector, 10 Ft Extension Cord, Power Strip, 800 Joules, Flat Plug, Twist-to-Close Safety Covers, UL Liste\" class=\"a-dynamic-image p13n-sc-dynamic-image p13n-product-image\" data-a-dynamic-image='{\"https://images-na.ssl-images-amazon.com/images/I/71Gdn2-ch1L._AC_UL302_SR302,200_.jpg\":[302,200],\"https://images-na.ssl-images-amazon.com/images/I/71Gdn2-ch1L._AC_UL604_SR604,400_.jpg\":[604,400],\"https://images-na.ssl-images-amazon.com/images/I/71Gdn2-ch1L._AC_UL906_SR906,600_.jpg\":[906,600]}' height=\"200px\" src=\"https://images-na.ssl-images-amazon.com/images/I/71Gdn2-ch1L._AC_UL604_SR604,400_.jpg\" style=\"max-width:302px;max-height:200px\"/></div></a><a class=\"a-link-normal\" href=\"/GE-Outlet-Protector-Extension-14092/dp/B00DOMYL24/ref=zg_bs_electronics_24/144-0128495-6448140?pd_rd_i=B00DOMYL24&amp;psc=1\" role=\"link\"><span><div class=\"_p13n-zg-list-grid-desktop_truncationStyles_p13n-sc-css-line-clamp-3__g3dy1\">GE 6-Outlet Surge Protector, 10 Ft Extension Cord, Power Strip, 800 Joules, Flat Plug, Twist-to-Close Safety Covers, UL Listed, White, 14092</div></span></a><div class=\"a-row\"><div class=\"a-icon-row\"><a class=\"a-link-normal\" href=\"/product-reviews/B00DOMYL24/ref=zg_bs_electronics_cr_24/144-0128495-6448140?pd_rd_i=B00DOMYL24\" title=\"4.8 out of 5 stars\"><i class=\"a-icon a-icon-star-small a-star-small-5 aok-align-top\"><span class=\"a-icon-alt\">4.8 out of 5 stars</span></i> <span class=\"a-size-small\">88,777</span></a></div></div><div class=\"a-row\"><a class=\"a-link-normal a-text-normal\" href=\"/GE-Outlet-Protector-Extension-14092/dp/B00DOMYL24/ref=zg_bs_electronics_24/144-0128495-6448140?pd_rd_i=B00DOMYL24&amp;psc=1\" role=\"link\"><span class=\"a-size-base a-color-price\"><span class=\"_p13n-zg-list-grid-desktop_price_p13n-sc-price__3mJ9Z\">$13.13</span></span></a></div></div></div></div>,\n",
       " <div class=\"a-cardui _p13n-zg-list-grid-desktop_style_grid-cell__1uMOS p13n-grid-content\" data-a-card-type=\"basic\"><div class=\"a-section zg-bdg-ctr\"><div class=\"a-section zg-bdg-body zg-bdg-clr-body aok-float-left\"><span class=\"zg-bdg-text\">#25</span></div><div class=\"a-section zg-bdg-tri zg-bdg-clr-tri aok-float-left\"></div></div><div class=\"zg-grid-general-faceout\"><div><a class=\"a-link-normal\" href=\"/Protector-POWRUI-Extension-Outlet-Extender/dp/B0964VZTFR/ref=zg_bs_electronics_25/144-0128495-6448140?pd_rd_i=B0964VZTFR&amp;psc=1\" role=\"link\" tabindex=\"-1\"><div class=\"a-section a-spacing-mini _p13n-zg-list-grid-desktop_maskStyle_noop__3Xbw5\"><img alt=\"Power Strip Surge Protector with 6 FT, POWRUI Flat Plug Extension Cord with 6 Outlet Extender and 3 USB Ports, 6 Feet Power C\" class=\"a-dynamic-image p13n-sc-dynamic-image p13n-product-image\" data-a-dynamic-image='{\"https://images-na.ssl-images-amazon.com/images/I/61+t407Jc4S._AC_UL302_SR302,200_.jpg\":[302,200],\"https://images-na.ssl-images-amazon.com/images/I/61+t407Jc4S._AC_UL604_SR604,400_.jpg\":[604,400],\"https://images-na.ssl-images-amazon.com/images/I/61+t407Jc4S._AC_UL906_SR906,600_.jpg\":[906,600]}' height=\"200px\" src=\"https://images-na.ssl-images-amazon.com/images/I/61+t407Jc4S._AC_UL604_SR604,400_.jpg\" style=\"max-width:302px;max-height:200px\"/></div></a><a class=\"a-link-normal\" href=\"/Protector-POWRUI-Extension-Outlet-Extender/dp/B0964VZTFR/ref=zg_bs_electronics_25/144-0128495-6448140?pd_rd_i=B0964VZTFR&amp;psc=1\" role=\"link\"><span><div class=\"_p13n-zg-list-grid-desktop_truncationStyles_p13n-sc-css-line-clamp-3__g3dy1\">Power Strip Surge Protector with 6 FT, POWRUI Flat Plug Extension Cord with 6 Outlet Extender and 3 USB Ports, 6 Feet Power Cord, ETL Listed (White/Grey)</div></span></a><div class=\"a-row\"><div class=\"a-icon-row\"><a class=\"a-link-normal\" href=\"/product-reviews/B0964VZTFR/ref=zg_bs_electronics_cr_25/144-0128495-6448140?pd_rd_i=B0964VZTFR\" title=\"4.8 out of 5 stars\"><i class=\"a-icon a-icon-star-small a-star-small-5 aok-align-top\"><span class=\"a-icon-alt\">4.8 out of 5 stars</span></i> <span class=\"a-size-small\">1,397</span></a></div></div><div class=\"a-row\"><a class=\"a-link-normal\" href=\"/Protector-POWRUI-Extension-Outlet-Extender/dp/B0964VZTFR/ref=zg_bs_electronics_25/144-0128495-6448140?pd_rd_i=B0964VZTFR&amp;psc=1\" role=\"link\"><span class=\"a-color-secondary\">1 offer from <span class=\"a-size-base\"><span class=\"p13n-sc-price\">$15.96</span></span></span></a></div></div></div></div>,\n",
       " <div class=\"a-cardui _p13n-zg-list-grid-desktop_style_grid-cell__1uMOS p13n-grid-content\" data-a-card-type=\"basic\"><div class=\"a-section zg-bdg-ctr\"><div class=\"a-section zg-bdg-body zg-bdg-clr-body aok-float-left\"><span class=\"zg-bdg-text\">#26</span></div><div class=\"a-section zg-bdg-tri zg-bdg-clr-tri aok-float-left\"></div></div><div class=\"zg-grid-general-faceout\"><div><a class=\"a-link-normal\" href=\"/Yintar-Protector-Outlets-Extension-Essentials/dp/B08MTBCXWX/ref=zg_bs_electronics_26/144-0128495-6448140?pd_rd_i=B08MTBCXWX&amp;psc=1\" role=\"link\" tabindex=\"-1\"><div class=\"a-section a-spacing-mini _p13n-zg-list-grid-desktop_maskStyle_noop__3Xbw5\"><img alt=\"Power Strip with 6 Feet, Yintar Surge Protector with 6 AC Outlets and 3 USB Ports, 6 Ft Extension Cord for for Home, Office, \" class=\"a-dynamic-image p13n-sc-dynamic-image p13n-product-image\" data-a-dynamic-image='{\"https://images-na.ssl-images-amazon.com/images/I/71qE6chtx+L._AC_UL302_SR302,200_.jpg\":[302,200],\"https://images-na.ssl-images-amazon.com/images/I/71qE6chtx+L._AC_UL604_SR604,400_.jpg\":[604,400],\"https://images-na.ssl-images-amazon.com/images/I/71qE6chtx+L._AC_UL906_SR906,600_.jpg\":[906,600]}' height=\"200px\" src=\"https://images-na.ssl-images-amazon.com/images/I/71qE6chtx+L._AC_UL604_SR604,400_.jpg\" style=\"max-width:302px;max-height:200px\"/></div></a><a class=\"a-link-normal\" href=\"/Yintar-Protector-Outlets-Extension-Essentials/dp/B08MTBCXWX/ref=zg_bs_electronics_26/144-0128495-6448140?pd_rd_i=B08MTBCXWX&amp;psc=1\" role=\"link\"><span><div class=\"_p13n-zg-list-grid-desktop_truncationStyles_p13n-sc-css-line-clamp-3__g3dy1\">Power Strip with 6 Feet, Yintar Surge Protector with 6 AC Outlets and 3 USB Ports, 6 Ft Extension Cord for for Home, Office, Dorm Essentials, 2100 Joules, ETL Listed, (Black)</div></span></a><div class=\"a-row\"><div class=\"a-icon-row\"><a class=\"a-link-normal\" href=\"/product-reviews/B08MTBCXWX/ref=zg_bs_electronics_cr_26/144-0128495-6448140?pd_rd_i=B08MTBCXWX\" title=\"4.7 out of 5 stars\"><i class=\"a-icon a-icon-star-small a-star-small-4-5 aok-align-top\"><span class=\"a-icon-alt\">4.7 out of 5 stars</span></i> <span class=\"a-size-small\">4,570</span></a></div></div><div class=\"a-row\"><a class=\"a-link-normal\" href=\"/Yintar-Protector-Outlets-Extension-Essentials/dp/B08MTBCXWX/ref=zg_bs_electronics_26/144-0128495-6448140?pd_rd_i=B08MTBCXWX&amp;psc=1\" role=\"link\"><span class=\"a-color-secondary\">1 offer from <span class=\"a-size-base\"><span class=\"p13n-sc-price\">$12.72</span></span></span></a></div></div></div></div>,\n",
       " <div class=\"a-cardui _p13n-zg-list-grid-desktop_style_grid-cell__1uMOS p13n-grid-content\" data-a-card-type=\"basic\"><div class=\"a-section zg-bdg-ctr\"><div class=\"a-section zg-bdg-body zg-bdg-clr-body aok-float-left\"><span class=\"zg-bdg-text\">#27</span></div><div class=\"a-section zg-bdg-tri zg-bdg-clr-tri aok-float-left\"></div></div><div class=\"zg-grid-general-faceout\"><div><a class=\"a-link-normal\" href=\"/Ferilinso-Designed-Protector-Tempered-Definition/dp/B09BNBMT8Y/ref=zg_bs_electronics_27/144-0128495-6448140?pd_rd_i=B09BNBMT8Y&amp;psc=1\" role=\"link\" tabindex=\"-1\"><div class=\"a-section a-spacing-mini _p13n-zg-list-grid-desktop_maskStyle_noop__3Xbw5\"><img alt=\"Ferilinso Designed for iPhone 13 Pro Max Camera Lens Protector, Designed for iPhone 13 Pro Camera Lens Protector, 3 Pack 9H T\" class=\"a-dynamic-image p13n-sc-dynamic-image p13n-product-image\" data-a-dynamic-image='{\"https://images-na.ssl-images-amazon.com/images/I/71TadfhjQ6L._AC_UL302_SR302,200_.jpg\":[302,200],\"https://images-na.ssl-images-amazon.com/images/I/71TadfhjQ6L._AC_UL604_SR604,400_.jpg\":[604,400],\"https://images-na.ssl-images-amazon.com/images/I/71TadfhjQ6L._AC_UL906_SR906,600_.jpg\":[906,600]}' height=\"200px\" src=\"https://images-na.ssl-images-amazon.com/images/I/71TadfhjQ6L._AC_UL604_SR604,400_.jpg\" style=\"max-width:302px;max-height:200px\"/></div></a><a class=\"a-link-normal\" href=\"/Ferilinso-Designed-Protector-Tempered-Definition/dp/B09BNBMT8Y/ref=zg_bs_electronics_27/144-0128495-6448140?pd_rd_i=B09BNBMT8Y&amp;psc=1\" role=\"link\"><span><div class=\"_p13n-zg-list-grid-desktop_truncationStyles_p13n-sc-css-line-clamp-3__g3dy1\">Ferilinso Designed for iPhone 13 Pro Max Camera Lens Protector, Designed for iPhone 13 Pro Camera Lens Protector, 3 Pack 9H Tempered Glass, Night Shooting Mode, Case Friendly, High Definition</div></span></a><div class=\"a-row\"><div class=\"a-icon-row\"><a class=\"a-link-normal\" href=\"/product-reviews/B09BNBMT8Y/ref=zg_bs_electronics_cr_27/144-0128495-6448140?pd_rd_i=B09BNBMT8Y\" title=\"4.4 out of 5 stars\"><i class=\"a-icon a-icon-star-small a-star-small-4-5 aok-align-top\"><span class=\"a-icon-alt\">4.4 out of 5 stars</span></i> <span class=\"a-size-small\">2,948</span></a></div></div><div class=\"a-row\"><a class=\"a-link-normal a-text-normal\" href=\"/Ferilinso-Designed-Protector-Tempered-Definition/dp/B09BNBMT8Y/ref=zg_bs_electronics_27/144-0128495-6448140?pd_rd_i=B09BNBMT8Y&amp;psc=1\" role=\"link\"><span class=\"a-size-base a-color-price\"><span class=\"_p13n-zg-list-grid-desktop_price_p13n-sc-price__3mJ9Z\">$7.99</span></span></a></div></div></div></div>,\n",
       " <div class=\"a-cardui _p13n-zg-list-grid-desktop_style_grid-cell__1uMOS p13n-grid-content\" data-a-card-type=\"basic\"><div class=\"a-section zg-bdg-ctr\"><div class=\"a-section zg-bdg-body zg-bdg-clr-body aok-float-left\"><span class=\"zg-bdg-text\">#28</span></div><div class=\"a-section zg-bdg-tri zg-bdg-clr-tri aok-float-left\"></div></div><div class=\"zg-grid-general-faceout\"><div><a class=\"a-link-normal\" href=\"/Extender-Charger-POWLIGHT-5-Outlet-Protector/dp/B09BNZ4Q11/ref=zg_bs_electronics_28/144-0128495-6448140?pd_rd_i=B09BNZ4Q11&amp;psc=1\" role=\"link\" tabindex=\"-1\"><div class=\"a-section a-spacing-mini _p13n-zg-list-grid-desktop_maskStyle_noop__3Xbw5\"><img alt=\"Outlet Extender with Night Light, USB Wall Charger, POWLIGHT 5-Outlet Surge Protector Power Strip with 4 USB Ports, 1680 Joul\" class=\"a-dynamic-image p13n-sc-dynamic-image p13n-product-image\" data-a-dynamic-image='{\"https://images-na.ssl-images-amazon.com/images/I/51MDAAPdKCL._AC_UL302_SR302,200_.jpg\":[302,200],\"https://images-na.ssl-images-amazon.com/images/I/51MDAAPdKCL._AC_UL604_SR604,400_.jpg\":[604,400],\"https://images-na.ssl-images-amazon.com/images/I/51MDAAPdKCL._AC_UL906_SR906,600_.jpg\":[906,600]}' height=\"200px\" src=\"https://images-na.ssl-images-amazon.com/images/I/51MDAAPdKCL._AC_UL604_SR604,400_.jpg\" style=\"max-width:302px;max-height:200px\"/></div></a><a class=\"a-link-normal\" href=\"/Extender-Charger-POWLIGHT-5-Outlet-Protector/dp/B09BNZ4Q11/ref=zg_bs_electronics_28/144-0128495-6448140?pd_rd_i=B09BNZ4Q11&amp;psc=1\" role=\"link\"><span><div class=\"_p13n-zg-list-grid-desktop_truncationStyles_p13n-sc-css-line-clamp-3__g3dy1\">Outlet Extender with Night Light, USB Wall Charger, POWLIGHT 5-Outlet Surge Protector Power Strip with 4 USB Ports, 1680 Joules Multi Plug Outlet with Spaced Outlets for Home, Office, White</div></span></a><div class=\"a-row\"><div class=\"a-icon-row\"><a class=\"a-link-normal\" href=\"/product-reviews/B09BNZ4Q11/ref=zg_bs_electronics_cr_28/144-0128495-6448140?pd_rd_i=B09BNZ4Q11\" title=\"4.7 out of 5 stars\"><i class=\"a-icon a-icon-star-small a-star-small-4-5 aok-align-top\"><span class=\"a-icon-alt\">4.7 out of 5 stars</span></i> <span class=\"a-size-small\">909</span></a></div></div><div class=\"a-row\"><a class=\"a-link-normal a-text-normal\" href=\"/Extender-Charger-POWLIGHT-5-Outlet-Protector/dp/B09BNZ4Q11/ref=zg_bs_electronics_28/144-0128495-6448140?pd_rd_i=B09BNZ4Q11&amp;psc=1\" role=\"link\"><span class=\"a-size-base a-color-price\"><span class=\"_p13n-zg-list-grid-desktop_price_p13n-sc-price__3mJ9Z\">$16.95</span></span></a></div></div></div></div>,\n",
       " <div class=\"a-cardui _p13n-zg-list-grid-desktop_style_grid-cell__1uMOS p13n-grid-content\" data-a-card-type=\"basic\"><div class=\"a-section zg-bdg-ctr\"><div class=\"a-section zg-bdg-body zg-bdg-clr-body aok-float-left\"><span class=\"zg-bdg-text\">#29</span></div><div class=\"a-section zg-bdg-tri zg-bdg-clr-tri aok-float-left\"></div></div><div class=\"zg-grid-general-faceout\"><div><a class=\"a-link-normal\" href=\"/blurams-Wireless-Security-Detection-Two-Way/dp/B07YB8HZ8T/ref=zg_bs_electronics_29/144-0128495-6448140?pd_rd_i=B09QQQNX1Y&amp;psc=1\" role=\"link\" tabindex=\"-1\"><div class=\"a-section a-spacing-mini _p13n-zg-list-grid-desktop_maskStyle_noop__3Xbw5\"><img alt=\"Security Camera 2K, blurams Baby Monitor Dog Camera 360-degree for Home Security w/ Smart Motion Tracking, Phone App, IR Nigh\" class=\"a-dynamic-image p13n-sc-dynamic-image p13n-product-image\" data-a-dynamic-image='{\"https://images-na.ssl-images-amazon.com/images/I/514Q-oBHk7L._AC_UL302_SR302,200_.jpg\":[302,200],\"https://images-na.ssl-images-amazon.com/images/I/514Q-oBHk7L._AC_UL604_SR604,400_.jpg\":[604,400],\"https://images-na.ssl-images-amazon.com/images/I/514Q-oBHk7L._AC_UL906_SR906,600_.jpg\":[906,600]}' height=\"200px\" src=\"https://images-na.ssl-images-amazon.com/images/I/514Q-oBHk7L._AC_UL604_SR604,400_.jpg\" style=\"max-width:302px;max-height:200px\"/></div></a><a class=\"a-link-normal\" href=\"/blurams-Wireless-Security-Detection-Two-Way/dp/B07YB8HZ8T/ref=zg_bs_electronics_29/144-0128495-6448140?pd_rd_i=B09QQQNX1Y&amp;psc=1\" role=\"link\"><span><div class=\"_p13n-zg-list-grid-desktop_truncationStyles_p13n-sc-css-line-clamp-3__g3dy1\">Security Camera 2K, blurams Baby Monitor Dog Camera 360-degree for Home Security w/ Smart Motion Tracking, Phone App, IR Night Vision, Siren, Works with Alexa &amp; Google Assistant &amp; IFTTT, 2-Way Audio</div></span></a><div class=\"a-row\"><div class=\"a-icon-row\"><a class=\"a-link-normal\" href=\"/product-reviews/B09QQQNX1Y/ref=zg_bs_electronics_cr_29/144-0128495-6448140?pd_rd_i=B09QQQNX1Y\" title=\"4.3 out of 5 stars\"><i class=\"a-icon a-icon-star-small a-star-small-4-5 aok-align-top\"><span class=\"a-icon-alt\">4.3 out of 5 stars</span></i> <span class=\"a-size-small\">6,894</span></a></div></div><div class=\"a-row\"><a class=\"a-link-normal a-text-normal\" href=\"/blurams-Wireless-Security-Detection-Two-Way/dp/B07YB8HZ8T/ref=zg_bs_electronics_29/144-0128495-6448140?pd_rd_i=B09QQQNX1Y&amp;psc=1\" role=\"link\"><span class=\"a-size-base a-color-price\"><span class=\"_p13n-zg-list-grid-desktop_price_p13n-sc-price__3mJ9Z\">$40.98</span> - <span class=\"_p13n-zg-list-grid-desktop_price_p13n-sc-price__3mJ9Z\">$41.99</span></span></a></div></div></div></div>,\n",
       " <div class=\"a-cardui _p13n-zg-list-grid-desktop_style_grid-cell__1uMOS p13n-grid-content\" data-a-card-type=\"basic\"><div class=\"a-section zg-bdg-ctr\"><div class=\"a-section zg-bdg-body zg-bdg-clr-body aok-float-left\"><span class=\"zg-bdg-text\">#30</span></div><div class=\"a-section zg-bdg-tri zg-bdg-clr-tri aok-float-left\"></div></div><div class=\"zg-grid-general-faceout\"><div><a class=\"a-link-normal\" href=\"/VELCRO-Brand-Reusable-Fastening-Organizing/dp/B001E1Y5O6/ref=zg_bs_electronics_30/144-0128495-6448140?pd_rd_i=B001E1Y5O6&amp;psc=1\" role=\"link\" tabindex=\"-1\"><div class=\"a-section a-spacing-mini _p13n-zg-list-grid-desktop_maskStyle_noop__3Xbw5\"><img alt='VELCRO Brand ONE-WRAP Cable Ties | 100Pk | 8 x 1/2\" Black Cord Organization Straps | Thin Pre-Cut Design | Wire Management fo' class=\"a-dynamic-image p13n-sc-dynamic-image p13n-product-image\" data-a-dynamic-image='{\"https://images-na.ssl-images-amazon.com/images/I/81cK1XA+ufL._AC_UL302_SR302,200_.jpg\":[302,200],\"https://images-na.ssl-images-amazon.com/images/I/81cK1XA+ufL._AC_UL604_SR604,400_.jpg\":[604,400],\"https://images-na.ssl-images-amazon.com/images/I/81cK1XA+ufL._AC_UL906_SR906,600_.jpg\":[906,600]}' height=\"200px\" src=\"https://images-na.ssl-images-amazon.com/images/I/81cK1XA+ufL._AC_UL604_SR604,400_.jpg\" style=\"max-width:302px;max-height:200px\"/></div></a><a class=\"a-link-normal\" href=\"/VELCRO-Brand-Reusable-Fastening-Organizing/dp/B001E1Y5O6/ref=zg_bs_electronics_30/144-0128495-6448140?pd_rd_i=B001E1Y5O6&amp;psc=1\" role=\"link\"><span><div class=\"_p13n-zg-list-grid-desktop_truncationStyles_p13n-sc-css-line-clamp-3__g3dy1\">VELCRO Brand ONE-WRAP Cable Ties | 100Pk | 8 x 1/2\" Black Cord Organization Straps | Thin Pre-Cut Design | Wire Management for Organizing Home, Office and Data Centers</div></span></a><div class=\"a-row\"><div class=\"a-icon-row\"><a class=\"a-link-normal\" href=\"/product-reviews/B001E1Y5O6/ref=zg_bs_electronics_cr_30/144-0128495-6448140?pd_rd_i=B001E1Y5O6\" title=\"4.8 out of 5 stars\"><i class=\"a-icon a-icon-star-small a-star-small-5 aok-align-top\"><span class=\"a-icon-alt\">4.8 out of 5 stars</span></i> <span class=\"a-size-small\">25,512</span></a></div></div><div class=\"a-row\"><a class=\"a-link-normal a-text-normal\" href=\"/VELCRO-Brand-Reusable-Fastening-Organizing/dp/B001E1Y5O6/ref=zg_bs_electronics_30/144-0128495-6448140?pd_rd_i=B001E1Y5O6&amp;psc=1\" role=\"link\"><span class=\"a-size-base a-color-price\"><span class=\"_p13n-zg-list-grid-desktop_price_p13n-sc-price__3mJ9Z\">$11.96</span></span></a></div></div></div></div>]"
      ]
     },
     "execution_count": 169,
     "metadata": {},
     "output_type": "execute_result"
    }
   ],
   "source": [
    "tt"
   ]
  },
  {
   "cell_type": "code",
   "execution_count": 171,
   "id": "2235dac1",
   "metadata": {
    "collapsed": true
   },
   "outputs": [
    {
     "data": {
      "text/plain": [
       "[<span class=\"zg-bdg-text\">#1</span>,\n",
       " <span class=\"zg-bdg-text\">#2</span>,\n",
       " <span class=\"zg-bdg-text\">#3</span>,\n",
       " <span class=\"zg-bdg-text\">#4</span>,\n",
       " <span class=\"zg-bdg-text\">#5</span>,\n",
       " <span class=\"zg-bdg-text\">#6</span>,\n",
       " <span class=\"zg-bdg-text\">#7</span>,\n",
       " <span class=\"zg-bdg-text\">#8</span>,\n",
       " <span class=\"zg-bdg-text\">#9</span>,\n",
       " <span class=\"zg-bdg-text\">#10</span>,\n",
       " <span class=\"zg-bdg-text\">#11</span>,\n",
       " <span class=\"zg-bdg-text\">#12</span>,\n",
       " <span class=\"zg-bdg-text\">#13</span>,\n",
       " <span class=\"zg-bdg-text\">#14</span>,\n",
       " <span class=\"zg-bdg-text\">#15</span>,\n",
       " <span class=\"zg-bdg-text\">#16</span>,\n",
       " <span class=\"zg-bdg-text\">#17</span>,\n",
       " <span class=\"zg-bdg-text\">#18</span>,\n",
       " <span class=\"zg-bdg-text\">#19</span>,\n",
       " <span class=\"zg-bdg-text\">#20</span>,\n",
       " <span class=\"zg-bdg-text\">#21</span>,\n",
       " <span class=\"zg-bdg-text\">#22</span>,\n",
       " <span class=\"zg-bdg-text\">#23</span>,\n",
       " <span class=\"zg-bdg-text\">#24</span>,\n",
       " <span class=\"zg-bdg-text\">#25</span>,\n",
       " <span class=\"zg-bdg-text\">#26</span>,\n",
       " <span class=\"zg-bdg-text\">#27</span>,\n",
       " <span class=\"zg-bdg-text\">#28</span>,\n",
       " <span class=\"zg-bdg-text\">#29</span>,\n",
       " <span class=\"zg-bdg-text\">#30</span>]"
      ]
     },
     "execution_count": 171,
     "metadata": {},
     "output_type": "execute_result"
    }
   ],
   "source": [
    "rank = soup.select('#gridItemRoot > div > div.a-section.zg-bdg-ctr > div.a-section.zg-bdg-body.zg-bdg-clr-body.aok-float-left > span ')\n",
    "rank"
   ]
  },
  {
   "cell_type": "code",
   "execution_count": 173,
   "id": "88d9b58c",
   "metadata": {},
   "outputs": [
    {
     "data": {
      "text/plain": [
       "<div class=\"_p13n-zg-list-grid-desktop_truncationStyles_p13n-sc-css-line-clamp-3__g3dy1\">Fire TV Stick with Alexa Voice Remote (includes TV controls), HD streaming device</div>"
      ]
     },
     "execution_count": 173,
     "metadata": {},
     "output_type": "execute_result"
    }
   ],
   "source": [
    "title = soup.select('#gridItemRoot > div > div.zg-grid-general-faceout > div > a > span > div')[0]\n",
    "title"
   ]
  },
  {
   "cell_type": "code",
   "execution_count": 142,
   "id": "f1e07b6a",
   "metadata": {
    "collapsed": true
   },
   "outputs": [
    {
     "name": "stdout",
     "output_type": "stream",
     "text": [
      "#1\n",
      "#1\n",
      "#1\n",
      "#1\n",
      "#1\n",
      "#1\n",
      "#1\n",
      "#1\n",
      "#1\n",
      "#1\n",
      "#1\n",
      "#1\n",
      "#1\n",
      "#1\n",
      "#1\n",
      "#1\n",
      "#1\n",
      "#1\n",
      "#1\n",
      "#1\n",
      "#1\n",
      "#1\n",
      "#1\n",
      "#1\n",
      "#1\n",
      "#1\n",
      "#1\n",
      "#1\n",
      "#1\n",
      "#1\n",
      "#1\n",
      "#1\n",
      "#1\n",
      "#1\n",
      "#1\n",
      "#1\n",
      "#1\n",
      "#1\n",
      "#1\n",
      "#1\n",
      "#1\n",
      "#1\n",
      "#1\n",
      "#1\n",
      "#1\n",
      "#1\n",
      "#1\n",
      "#1\n",
      "#1\n",
      "#1\n",
      "#1\n",
      "#1\n",
      "#1\n",
      "#1\n",
      "#1\n",
      "#1\n",
      "#1\n",
      "#1\n",
      "#1\n",
      "#1\n",
      "#1\n",
      "#1\n",
      "#1\n",
      "#1\n",
      "#1\n",
      "#1\n",
      "#1\n",
      "#1\n",
      "#1\n",
      "#1\n",
      "#1\n",
      "#1\n",
      "#1\n",
      "#1\n",
      "#1\n",
      "#1\n",
      "#1\n",
      "#1\n",
      "#1\n",
      "#1\n",
      "#1\n",
      "#1\n",
      "#1\n",
      "#1\n",
      "#1\n",
      "#1\n",
      "#1\n",
      "#1\n",
      "#1\n",
      "#1\n",
      "#1\n",
      "#1\n",
      "#1\n",
      "#1\n",
      "#1\n",
      "#1\n",
      "#1\n",
      "#1\n",
      "#1\n",
      "#1\n"
     ]
    }
   ],
   "source": [
    "for i in range(100):\n",
    "    rank = soup.select('#gridItemRoot > div > div > div')[0].text\n",
    "    print(rank)"
   ]
  },
  {
   "cell_type": "code",
   "execution_count": 87,
   "id": "1b5bf0c1",
   "metadata": {},
   "outputs": [
    {
     "data": {
      "text/plain": [
       "'Up to 35% off on Wallets, Belts & Crossbody bags'"
      ]
     },
     "execution_count": 87,
     "metadata": {},
     "output_type": "execute_result"
    }
   ],
   "source": [
    "title = soup.select('#slot-15 > div > div > div > div > div > div > div > div > a:nth-child(4) > div')[0].text\n",
    "title"
   ]
  },
  {
   "cell_type": "code",
   "execution_count": 85,
   "id": "e0227156",
   "metadata": {},
   "outputs": [
    {
     "data": {
      "text/plain": [
       "\"Up to 20% off Men's & Women's Fashion from Amazon Brands\""
      ]
     },
     "execution_count": 85,
     "metadata": {},
     "output_type": "execute_result"
    }
   ],
   "source": [
    "title = soup.select('#slot-15 > div > div > div > div > div > div > div > div > a:nth-child(3) > div')[0].text\n",
    "title"
   ]
  },
  {
   "cell_type": "code",
   "execution_count": 86,
   "id": "75c9fd73",
   "metadata": {},
   "outputs": [
    {
     "data": {
      "text/plain": [
       "\"Up to 20% off Men's & Women's Fashion from Amazon Brands\""
      ]
     },
     "execution_count": 86,
     "metadata": {},
     "output_type": "execute_result"
    }
   ],
   "source": [
    "title = soup.select('#slot-15 > div > div > div > div > div > div > div > div > a:nth-child(3) > div')[0].text\n",
    "title"
   ]
  },
  {
   "cell_type": "code",
   "execution_count": null,
   "id": "f60ba802",
   "metadata": {},
   "outputs": [],
   "source": []
  }
 ],
 "metadata": {
  "kernelspec": {
   "display_name": "Python 3 (ipykernel)",
   "language": "python",
   "name": "python3"
  },
  "language_info": {
   "codemirror_mode": {
    "name": "ipython",
    "version": 3
   },
   "file_extension": ".py",
   "mimetype": "text/x-python",
   "name": "python",
   "nbconvert_exporter": "python",
   "pygments_lexer": "ipython3",
   "version": "3.9.7"
  }
 },
 "nbformat": 4,
 "nbformat_minor": 5
}
