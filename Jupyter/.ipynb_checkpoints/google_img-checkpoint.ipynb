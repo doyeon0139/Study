{
 "cells": [
  {
   "cell_type": "code",
   "execution_count": null,
   "id": "a0be8208",
   "metadata": {},
   "outputs": [],
   "source": [
    "# 구글 홈페이지에서 검색어를 입력한 후 이미지 검색 결과를 크롤링하기..\n",
    "# element에서 특정 속성값을 추출하는 메소드 : get_attribute('href'), get_attribute('src')"
   ]
  },
  {
   "cell_type": "code",
   "execution_count": 1,
   "id": "0f57cad2",
   "metadata": {},
   "outputs": [],
   "source": [
    "from selenium import webdriver\n",
    "from selenium.webdriver.common.keys import Keys\n",
    "from bs4 import BeautifulSoup\n",
    "import time"
   ]
  },
  {
   "cell_type": "code",
   "execution_count": 2,
   "id": "b424ac69",
   "metadata": {},
   "outputs": [],
   "source": [
    "driver = webdriver.Chrome()"
   ]
  },
  {
   "cell_type": "code",
   "execution_count": 3,
   "id": "885a3631",
   "metadata": {},
   "outputs": [],
   "source": [
    "elem = driver.get(\"http://www.google.com\")"
   ]
  },
  {
   "cell_type": "code",
   "execution_count": 4,
   "id": "1eb49497",
   "metadata": {},
   "outputs": [
    {
     "name": "stderr",
     "output_type": "stream",
     "text": [
      "C:\\Users\\bitcamp\\AppData\\Local\\Temp/ipykernel_8556/5589819.py:1: DeprecationWarning: find_element_by_* commands are deprecated. Please use find_element() instead\n",
      "  elem = driver.find_element_by_css_selector(\"body > div.L3eUgb > div.o3j99.ikrT4e.om7nvf > form > div:nth-child(1) > div.A8SBwf > div.RNNXgb > div > div.a4bIc > input\")\n"
     ]
    },
    {
     "name": "stdout",
     "output_type": "stream",
     "text": [
      "검색어빅데이터\n"
     ]
    }
   ],
   "source": [
    "elem = driver.find_element_by_css_selector(\"body > div.L3eUgb > div.o3j99.ikrT4e.om7nvf > form > div:nth-child(1) > div.A8SBwf > div.RNNXgb > div > div.a4bIc > input\")\n",
    "\n",
    "s = input(\"검색어\")\n",
    "\n",
    "elem.send_keys(s)\n",
    "\n",
    "elem.send_keys(Keys.RETURN)"
   ]
  },
  {
   "cell_type": "code",
   "execution_count": 5,
   "id": "cad9330c",
   "metadata": {},
   "outputs": [
    {
     "name": "stderr",
     "output_type": "stream",
     "text": [
      "C:\\Users\\bitcamp\\AppData\\Local\\Temp/ipykernel_8556/880898185.py:1: DeprecationWarning: find_element_by_* commands are deprecated. Please use find_element() instead\n",
      "  elem = driver.find_element_by_css_selector(\"#hdtb-msb > div:nth-child(1) > div > div:nth-child(2) > a\").click()\n"
     ]
    }
   ],
   "source": [
    "elem = driver.find_element_by_css_selector(\"#hdtb-msb > div:nth-child(1) > div > div:nth-child(2) > a\").click()"
   ]
  },
  {
   "cell_type": "code",
   "execution_count": 26,
   "id": "eb0015a9",
   "metadata": {},
   "outputs": [
    {
     "data": {
      "text/plain": [
       "50"
      ]
     },
     "execution_count": 26,
     "metadata": {},
     "output_type": "execute_result"
    }
   ],
   "source": [
    "html = driver.page_source\n",
    "\n",
    "soup = BeautifulSoup(html, \"html.parser\")\n",
    "\n",
    "path = \"#islrg > div.islrc > div\"\n",
    "haht = soup.select(path)\n",
    "\n",
    "#  div:nth-child(1) > a.wXeWr.islib.nfEiy > div.bRMDJf.islir > img\n",
    "len(haht)"
   ]
  },
  {
   "cell_type": "code",
   "execution_count": 33,
   "id": "a544a651",
   "metadata": {},
   "outputs": [
    {
     "name": "stderr",
     "output_type": "stream",
     "text": [
      "C:\\Users\\bitcamp\\AppData\\Local\\Temp/ipykernel_8556/2357535644.py:3: DeprecationWarning: find_element_by_* commands are deprecated. Please use find_element() instead\n",
      "  driver.find_element_by_css_selector(f\"div:nth-child({i+1}) > a.wXeWr.islib.nfEiy > div.bRMDJf.islir > img\").click()\n"
     ]
    },
    {
     "name": "stdout",
     "output_type": "stream",
     "text": [
      "data:image/jpeg;base64,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\n"
     ]
    }
   ],
   "source": [
    "\n",
    "for i in range(len(haht)):\n",
    "    path = f\"div:nth-child({i+1}) > a.wXeWr.islib.nfEiy > div.bRMDJf.islir > img\"\n",
    "    driver.find_element_by_css_selector(f\"div:nth-child({i+1}) > a.wXeWr.islib.nfEiy > div.bRMDJf.islir > img\").click()\n",
    "    html = driver.page_source\n",
    "    soup = BeautifulSoup(html, 'html.parser')\n",
    "    path2 = '#Sva75c > div > div > div.pxAole > div.tvh9oe.BIB1wf > c-wiz > div > div.OUZ5W > div.zjoqD > div.qdnLaf.isv-id > div > a > img'\n",
    "    print(soup.select(path2)[0]['src'])\n",
    "    break\n",
    "    \n",
    "#     elem = driver.get_attrivute('src')\n",
    "#     print(elem)\n",
    "    "
   ]
  },
  {
   "cell_type": "code",
   "execution_count": 8,
   "id": "d943aea6",
   "metadata": {},
   "outputs": [
    {
     "name": "stderr",
     "output_type": "stream",
     "text": [
      "C:\\Users\\bitcamp\\AppData\\Local\\Temp/ipykernel_8556/1554153269.py:1: DeprecationWarning: find_element_by_* commands are deprecated. Please use find_element() instead\n",
      "  elem = driver.find_element_by_css_selector(\"div:nth-child(1) > a.wXeWr.islib.nfEiy > div.bRMDJf.islir > img\").click()\n"
     ]
    }
   ],
   "source": [
    "elem = driver.find_element_by_css_selector(\"div:nth-child(1) > a.wXeWr.islib.nfEiy > div.bRMDJf.islir > img\").click()"
   ]
  },
  {
   "cell_type": "code",
   "execution_count": null,
   "id": "559020a6",
   "metadata": {},
   "outputs": [],
   "source": []
  },
  {
   "cell_type": "code",
   "execution_count": null,
   "id": "b05942c1",
   "metadata": {},
   "outputs": [],
   "source": []
  },
  {
   "cell_type": "code",
   "execution_count": null,
   "id": "5d24c0c2",
   "metadata": {},
   "outputs": [],
   "source": []
  },
  {
   "cell_type": "code",
   "execution_count": null,
   "id": "9a6579a7",
   "metadata": {},
   "outputs": [],
   "source": []
  },
  {
   "cell_type": "code",
   "execution_count": null,
   "id": "b5a4dacb",
   "metadata": {},
   "outputs": [],
   "source": []
  }
 ],
 "metadata": {
  "kernelspec": {
   "display_name": "Python 3 (ipykernel)",
   "language": "python",
   "name": "python3"
  },
  "language_info": {
   "codemirror_mode": {
    "name": "ipython",
    "version": 3
   },
   "file_extension": ".py",
   "mimetype": "text/x-python",
   "name": "python",
   "nbconvert_exporter": "python",
   "pygments_lexer": "ipython3",
   "version": "3.9.7"
  }
 },
 "nbformat": 4,
 "nbformat_minor": 5
}
