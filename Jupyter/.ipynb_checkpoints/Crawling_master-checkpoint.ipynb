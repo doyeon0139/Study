{
 "cells": [
  {
   "cell_type": "code",
   "execution_count": null,
   "id": "54600f4d",
   "metadata": {},
   "outputs": [],
   "source": [
    "## crawling(scrapying)\n",
    "# web에서 데이터를 프로그램을 통해서 가져오는 작업..\n",
    "\n",
    "## web구성하는 언어 - html, css, javascript\n",
    "# html은 웹을 기본 구조를 구성하는 스크립트 언어...\n",
    "# css는 웹을 꾸며주는 언어\n",
    "# javascript 웹이 동적으로 작동하도록 만드는 언어"
   ]
  },
  {
   "cell_type": "code",
   "execution_count": 1,
   "id": "7f8aa54f",
   "metadata": {},
   "outputs": [],
   "source": [
    "##html\n",
    "# 기본 구조는 태그 - 여는 태그 '<', 닫는 태그 '/>'\n",
    "# 태그 계층구조 부모태그, 자식태그..\n",
    "# <head> 정보... </head> : 웹의 정보를 담고 있는 태그\n",
    "# < body> 태그... </body> : 웹에서 눈으로 보는 내용이 들어잇는 태그..."
   ]
  },
  {
   "cell_type": "code",
   "execution_count": 22,
   "id": "900201cd",
   "metadata": {
    "collapsed": true
   },
   "outputs": [
    {
     "name": "stdout",
     "output_type": "stream",
     "text": [
      "http://imgs.xkcd.com/comics/confounding_variables.png\n",
      "http://imgs.xkcd.com/comics/moonfall.png\n",
      "http://imgs.xkcd.com/comics/formatting_meeting.png\n",
      "http://imgs.xkcd.com/comics/throat_and_nasal_passages.png\n",
      "http://imgs.xkcd.com/comics/sunshield.png\n",
      "http://imgs.xkcd.com/comics/latency.png\n",
      "http://imgs.xkcd.com/comics/decorative_constants.png\n",
      "http://imgs.xkcd.com/comics/language_development.png\n",
      "http://imgs.xkcd.com/comics/spinthariscope.png\n"
     ]
    }
   ],
   "source": [
    "#  xkcd.com에서 2560~2569 번 이미지 크롤링 하기\n",
    "\n",
    "import requests\n",
    "from bs4 import BeautifulSoup\n",
    "import urllib\n",
    "\n",
    "url = \"https://xkcd.com/\"\n",
    "\n",
    "for i in range(2560, 2569):\n",
    "    url = \"https://xkcd.com/{}\".format(i)\n",
    "    res = requests.get(url)\n",
    "    soup = BeautifulSoup(res.text, 'html.parser')\n",
    "    \n",
    "    tags = soup.select(path)\n",
    "    tag = \"http:\"+tags[0]['src']\n",
    "    \n",
    "    urllib.request.urlretrieve(tag, \"x_{}\".format(i))\n",
    "    \n",
    "    print(tag)\n",
    "\n"
   ]
  },
  {
   "cell_type": "code",
   "execution_count": 9,
   "id": "dd33e942",
   "metadata": {},
   "outputs": [
    {
     "name": "stdout",
     "output_type": "stream",
     "text": [
      "Jackass Forever (2022)\n",
      "Documentary\n",
      "Jeff Tremaine\n",
      "====================================================================================================\n"
     ]
    },
    {
     "ename": "IndexError",
     "evalue": "list index out of range",
     "output_type": "error",
     "traceback": [
      "\u001b[1;31m---------------------------------------------------------------------------\u001b[0m",
      "\u001b[1;31mIndexError\u001b[0m                                Traceback (most recent call last)",
      "\u001b[1;32m~\\AppData\\Local\\Temp/ipykernel_15364/487987799.py\u001b[0m in \u001b[0;36m<module>\u001b[1;34m\u001b[0m\n\u001b[0;32m     24\u001b[0m \u001b[1;33m\u001b[0m\u001b[0m\n\u001b[0;32m     25\u001b[0m \u001b[1;32mfor\u001b[0m \u001b[0mi\u001b[0m \u001b[1;32min\u001b[0m \u001b[0mmovie\u001b[0m\u001b[1;33m:\u001b[0m\u001b[1;33m\u001b[0m\u001b[1;33m\u001b[0m\u001b[0m\n\u001b[1;32m---> 26\u001b[1;33m     \u001b[0mtit\u001b[0m \u001b[1;33m=\u001b[0m \u001b[0mi\u001b[0m\u001b[1;33m.\u001b[0m\u001b[0mselect\u001b[0m\u001b[1;33m(\u001b[0m\u001b[1;34m\"td.overview-top > h4 > a \"\u001b[0m\u001b[1;33m)\u001b[0m\u001b[1;33m[\u001b[0m\u001b[1;36m0\u001b[0m\u001b[1;33m]\u001b[0m\u001b[1;33m.\u001b[0m\u001b[0mtext\u001b[0m\u001b[1;33m.\u001b[0m\u001b[0mstrip\u001b[0m\u001b[1;33m(\u001b[0m\u001b[1;33m)\u001b[0m\u001b[1;33m\u001b[0m\u001b[1;33m\u001b[0m\u001b[0m\n\u001b[0m\u001b[0;32m     27\u001b[0m     \u001b[0msec\u001b[0m \u001b[1;33m=\u001b[0m \u001b[0mi\u001b[0m\u001b[1;33m.\u001b[0m\u001b[0mselect\u001b[0m\u001b[1;33m(\u001b[0m\u001b[1;34m\"td.overview-top > p > span \"\u001b[0m\u001b[1;33m)\u001b[0m\u001b[1;33m[\u001b[0m\u001b[1;36m0\u001b[0m\u001b[1;33m]\u001b[0m\u001b[1;33m.\u001b[0m\u001b[0mtext\u001b[0m\u001b[1;33m.\u001b[0m\u001b[0mstrip\u001b[0m\u001b[1;33m(\u001b[0m\u001b[1;33m)\u001b[0m\u001b[1;33m\u001b[0m\u001b[1;33m\u001b[0m\u001b[0m\n\u001b[0;32m     28\u001b[0m     \u001b[0mdir\u001b[0m \u001b[1;33m=\u001b[0m \u001b[0mi\u001b[0m\u001b[1;33m.\u001b[0m\u001b[0mselect\u001b[0m\u001b[1;33m(\u001b[0m\u001b[1;34m\"td.overview-top > div > span > a\"\u001b[0m\u001b[1;33m)\u001b[0m\u001b[1;33m[\u001b[0m\u001b[1;36m0\u001b[0m\u001b[1;33m]\u001b[0m\u001b[1;33m.\u001b[0m\u001b[0mtext\u001b[0m\u001b[1;33m.\u001b[0m\u001b[0mstrip\u001b[0m\u001b[1;33m(\u001b[0m\u001b[1;33m)\u001b[0m\u001b[1;33m\u001b[0m\u001b[1;33m\u001b[0m\u001b[0m\n",
      "\u001b[1;31mIndexError\u001b[0m: list index out of range"
     ]
    }
   ],
   "source": [
    "#  http://www.imdb.com\n",
    "\n",
    "# 영화 평점 감독 제목 등 나타내기\n",
    "# 딕셔너리 만들기\n",
    "\n",
    "import requests\n",
    "from bs4 import BeautifulSoup\n",
    "\n",
    "url = \"https://www.imdb.com/movies-coming-soon/2022-02/\"\n",
    "\n",
    "res = requests.get(url)\n",
    "\n",
    "soup = BeautifulSoup(res.text, \"html.parser\")\n",
    "\n",
    "path = \"#main > div > div.list.detail > div > table > tbody > tr  \"\n",
    "\n",
    "movie = soup.select(path)\n",
    "\n",
    "# movie\n",
    "\n",
    "# path = \"#main > div > div.list.detail > div:nth-child(2) > table > tbody > tr:nth-child(1) > td.overview-top > h4 > a\"\n",
    "\n",
    "# len(movie)\n",
    "\n",
    "for i in movie:\n",
    "    tit = i.select(\"td.overview-top > h4 > a \")[0].text.strip()\n",
    "    sec = i.select(\"td.overview-top > p > span \")[0].text.strip()\n",
    "    dir = i.select(\"td.overview-top > div > span > a\")[0].text.strip()\n",
    "    \n",
    "    print(tit)\n",
    "    print(sec)\n",
    "    print(dir)\n",
    "    print(\"=\"*100)\n",
    "    \n",
    "    \n",
    "    \n"
   ]
  },
  {
   "cell_type": "code",
   "execution_count": null,
   "id": "eed2f7a5",
   "metadata": {},
   "outputs": [],
   "source": [
    "# https://movie.naver.com/movie/point/af/list.naver\n",
    "# 네이버영화 평점 코멘트 영화제목 등 나타내기"
   ]
  },
  {
   "cell_type": "code",
   "execution_count": 2,
   "id": "48c77f15",
   "metadata": {},
   "outputs": [],
   "source": [
    "# https://korean.visitkorea.or.kr\n",
    "#  제목 지역 해시태그 본문"
   ]
  },
  {
   "cell_type": "code",
   "execution_count": null,
   "id": "0f574002",
   "metadata": {},
   "outputs": [],
   "source": [
    "# 뉴스 내용 댓글 크롤링"
   ]
  },
  {
   "cell_type": "code",
   "execution_count": null,
   "id": "60a26d2d",
   "metadata": {},
   "outputs": [],
   "source": [
    "# 네이버 중고나라에서 검색어를 입력한 후 검색 결과페이지의 게시물의 제목, 작성자, 작성일, 조회수를 크롤링"
   ]
  },
  {
   "cell_type": "code",
   "execution_count": null,
   "id": "37eed03c",
   "metadata": {},
   "outputs": [],
   "source": [
    "# 다나와에서 로그인 하고 관심상품 가져오기"
   ]
  },
  {
   "cell_type": "code",
   "execution_count": null,
   "id": "4fac197d",
   "metadata": {},
   "outputs": [],
   "source": [
    "# 구글 홈페이지에서 검색어를 입력한 후 이미지 검색 결과를 크롤링하기\n",
    "# element에서 특정 속성값을 추출하는 메소드 : get_attribute('href'), get_attrivute('src')"
   ]
  },
  {
   "cell_type": "code",
   "execution_count": null,
   "id": "f97df414",
   "metadata": {},
   "outputs": [],
   "source": []
  },
  {
   "cell_type": "code",
   "execution_count": null,
   "id": "1ebe7857",
   "metadata": {},
   "outputs": [],
   "source": []
  }
 ],
 "metadata": {
  "kernelspec": {
   "display_name": "Python 3 (ipykernel)",
   "language": "python",
   "name": "python3"
  },
  "language_info": {
   "codemirror_mode": {
    "name": "ipython",
    "version": 3
   },
   "file_extension": ".py",
   "mimetype": "text/x-python",
   "name": "python",
   "nbconvert_exporter": "python",
   "pygments_lexer": "ipython3",
   "version": "3.9.7"
  }
 },
 "nbformat": 4,
 "nbformat_minor": 5
}
