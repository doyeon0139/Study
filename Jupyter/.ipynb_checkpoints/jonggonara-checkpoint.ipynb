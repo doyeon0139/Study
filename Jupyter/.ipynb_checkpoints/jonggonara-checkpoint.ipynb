{
 "cells": [
  {
   "cell_type": "code",
   "execution_count": 1,
   "id": "01143ac7",
   "metadata": {},
   "outputs": [],
   "source": [
    "# 네이버 중고나라에서 검색어를 입력한 후 검색 결과페이지의 게시물의 제목, 작성자, 작성일, 조회수를 크롤링"
   ]
  },
  {
   "cell_type": "code",
   "execution_count": null,
   "id": "aec593d7",
   "metadata": {},
   "outputs": [],
   "source": []
  }
 ],
 "metadata": {
  "kernelspec": {
   "display_name": "Python 3 (ipykernel)",
   "language": "python",
   "name": "python3"
  },
  "language_info": {
   "codemirror_mode": {
    "name": "ipython",
    "version": 3
   },
   "file_extension": ".py",
   "mimetype": "text/x-python",
   "name": "python",
   "nbconvert_exporter": "python",
   "pygments_lexer": "ipython3",
   "version": "3.9.7"
  }
 },
 "nbformat": 4,
 "nbformat_minor": 5
}
