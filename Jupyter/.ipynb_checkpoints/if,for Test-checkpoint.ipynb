{
 "cells": [
  {
   "cell_type": "code",
   "execution_count": null,
   "id": "c151bf43",
   "metadata": {},
   "outputs": [],
   "source": [
    "#  정수를 입력받은 후 학점을 출력하시오\n",
    "\n",
    "#  비밀번호 = 1234 인 경우 비밀번호를 입력받은 후 맞으면 '환영합니다.', 틀리면'비밀번호가 틀립니다'를 출력하시오\n",
    "# 임의의 정수를 입력받은 후 짝수면 '짝수입니다' 홀수면 '홀수입니다'\n",
    "\n",
    "# 주민번호 '851205-2000000'\n",
    "# 주민번호를 입력받은 후 '당신의 나이는 _이고, 성별은 _입니다'\n",
    "\n",
    "scores = {'Mary':85, 'Sam':95, 'Bob': 87, 'Han':77 }\n",
    "# 이름을 입력받은 후 이름이 있으면 80점 이상이면 ' 햡격입니다'\n",
    "# 이하이면 '불합격입니다'를 출력하시오, 이름이 없으면 값을 0으로 하여 추가하시오\n",
    "\n",
    "# 가위, 바위, 보 게임\n",
    "\n",
    "mine = input('mine <= 가위, 바위, 보 중에서 하나를 선택하세요')\n",
    "yours = input('yours <= 가위, 바위, 보 중에서 하나를 선택하세요')\n",
    "#  비겼습니다\n",
    "#  내가 이겼습니다\n",
    "#  당신이 이겼습니다\n",
    "\n",
    "#  나이를 입력받은 후, 50대 이상이면 '중년이시군요', 20~40대이면 '젊으시군요',\n",
    "#  20세 미만이면 '어리시군요'를 출력\n",
    "\n",
    "#  모음의 숫자를 계산하시오 단, 모음은 'aeiouAEIOU'\n",
    "text = 'computational thinking'\n",
    "vowel = 'aeiouAEIOU'\n",
    "\n",
    "#  word의 길이가 4 이상인 단어의 단어길이 총합을 구하시오\n",
    "words = ['mountain', 'sea', 'sky', 'river', 'cloud', 'tree', 'lake']\n",
    "\n",
    "#  두 리스트 원소간의 모든 조합을 리스트에 담으시오\n",
    "L1 = ['a','b','c','d']\n",
    "L2 = ['가','나','다','라']\n",
    "\n",
    "#  for문과 while문을 이용해서 1부터 20까지의 정수에서 짝수의 합과 홀수의 합을 구하시오\n",
    "\n",
    "#  break 와 continue를 이용해서 1부터 10까지 정수 중에서 4,5,6,7만을 출력하시오\n",
    "\n",
    "#  점수를 5번 입력받은 후 평균점수를 출력하시오\n",
    "\n",
    "# 임의의 수를 입력받은 후 팩토리얼을 게산하는 코드를 작성하시오\n",
    "#  5! = 5+4+3+2+1\n",
    "\n",
    "L = [70, 100, 80, 120, 130]\n",
    "#  반복문을 이용해서 최대값과 최소값을 구하시오\n",
    "\n",
    "# 별트리만들기\n",
    "\n",
    "text = 'computational thinking'\n",
    "# 홀수번 인덱스만 출력\n",
    "\n",
    "#  구구단 출력하기"
   ]
  },
  {
   "cell_type": "code",
   "execution_count": 4,
   "id": "956c8bcd",
   "metadata": {},
   "outputs": [
    {
     "name": "stdout",
     "output_type": "stream",
     "text": [
      "점수를 입력하세요65\n",
      "D학점입니다\n"
     ]
    }
   ],
   "source": [
    "#  정수를 입력받은 후 학점을 출력하시오\n",
    "score = int(input('점수를 입력하세요'))\n",
    "\n",
    "if score >= 90:\n",
    "    print('A학점입니다')\n",
    "elif 80 <= score < 90:\n",
    "    print('B학점입니다')\n",
    "elif 70 <= score < 80:\n",
    "    print('C학점입니다')\n",
    "else:\n",
    "    print('D학점입니다')\n",
    "    \n",
    "    "
   ]
  },
  {
   "cell_type": "code",
   "execution_count": 6,
   "id": "cbf285c1",
   "metadata": {},
   "outputs": [
    {
     "name": "stdout",
     "output_type": "stream",
     "text": [
      "비밀번호를 입력하세요5555\n",
      "비밀번호가 틀렸습니다\n"
     ]
    }
   ],
   "source": [
    "#  비밀번호 = 1234 인 경우 비밀번호를 입력받은 후 맞으면 '환영합니다.', 틀리면'비밀번호가 틀립니다'를 출력하시오\n",
    "# 임의의 정수를 입력받은 후 짝수면 '짝수입니다' 홀수면 '홀수입니다'\n",
    "\n",
    "password = 1234\n",
    "\n",
    "num = int(input('비밀번호를 입력하세요'))\n",
    "if password == num :\n",
    "    print('환영합니다')\n",
    "else:\n",
    "    print('비밀번호가 틀렸습니다')"
   ]
  },
  {
   "cell_type": "code",
   "execution_count": 7,
   "id": "c31f7261",
   "metadata": {},
   "outputs": [
    {
     "name": "stdout",
     "output_type": "stream",
     "text": [
      "정수를 입력하세요5\n",
      "홀수입니다\n"
     ]
    }
   ],
   "source": [
    "# 임의의 정수를 입력받은 후 짝수면 '짝수입니다' 홀수면 '홀수입니다'\n",
    "\n",
    "num = int(input('정수를 입력하세요'))\n",
    "\n",
    "if num%2 == 0:\n",
    "    print('짝수입니다')\n",
    "else:\n",
    "    print('홀수입니다')"
   ]
  },
  {
   "cell_type": "code",
   "execution_count": 15,
   "id": "a8bd026e",
   "metadata": {},
   "outputs": [
    {
     "name": "stdout",
     "output_type": "stream",
     "text": [
      "주민번호를 입력하세요851205-1111111\n",
      "1\n",
      "당신의 나이는 37이고, 성별은 여성입니다\n"
     ]
    }
   ],
   "source": [
    "# 주민번호 '851205-2000000'\n",
    "# 주민번호를 입력받은 후 '당신의 나이는 _이고, 성별은 _입니다'\n",
    "\n",
    "num = input('주민번호를 입력하세요')\n",
    "num1 = '19' + num[:2]\n",
    "age = 2022 - int(num1)\n",
    "\n",
    "\n",
    "if num[7] == 1:\n",
    "    s = '남성'\n",
    "else:\n",
    "    s = '여성'\n",
    "    \n",
    "print('당신의 나이는 {}이고, 성별은 {}입니다'.format(age, s))\n",
    "\n"
   ]
  },
  {
   "cell_type": "code",
   "execution_count": 18,
   "id": "8b2494d4",
   "metadata": {},
   "outputs": [
    {
     "name": "stdout",
     "output_type": "stream",
     "text": [
      "이름을 입력하세요dic\n",
      "{'Mary': 85, 'Sam': 95, 'Bob': 87, 'Han': 77, 'dic': 0}\n"
     ]
    }
   ],
   "source": [
    "scores = {'Mary':85, 'Sam':95, 'Bob': 87, 'Han':77 }\n",
    "# 이름을 입력받은 후 이름이 있으면 80점 이상이면 ' 햡격입니다'\n",
    "# 이하이면 '불합격입니다'를 출력하시오, 이름이 없으면 값을 0으로 하여 추가하시오\n",
    "\n",
    "name = input('이름을 입력하세요')\n",
    "\n",
    "if name in scores:\n",
    "    if scores[name] >= 80:\n",
    "        print('합격입니다')\n",
    "    else:\n",
    "        print('불합격입니다')\n",
    "else:\n",
    "    scores[name] = 0\n",
    "    \n",
    "print(scores)"
   ]
  },
  {
   "cell_type": "code",
   "execution_count": 19,
   "id": "35c2ca93",
   "metadata": {},
   "outputs": [
    {
     "name": "stdout",
     "output_type": "stream",
     "text": [
      "mine <= 가위, 바위, 보 중에서 하나를 선택하세요바위\n",
      "yours <= 가위, 바위, 보 중에서 하나를 선택하세요가위\n",
      "내가 이겼습니다.\n"
     ]
    }
   ],
   "source": [
    "# 가위, 바위, 보 게임\n",
    "\n",
    "mine = input('mine <= 가위, 바위, 보 중에서 하나를 선택하세요')\n",
    "yours = input('yours <= 가위, 바위, 보 중에서 하나를 선택하세요')\n",
    "#  비겼습니다\n",
    "#  내가 이겼습니다\n",
    "#  당신이 이겼습니다\n",
    "\n",
    "if mine == '가위':\n",
    "    if yours == '바위':\n",
    "        print('당신이 이겼습니다')\n",
    "    elif yours == '보':\n",
    "        print('내가 이겼습니다')\n",
    "    else:\n",
    "        print('비겼습니다.')\n",
    "        \n",
    "elif mine == '바위':\n",
    "    if yours == '바위':\n",
    "        print('비겼습니다.')\n",
    "    elif yours == '보':\n",
    "        print('당신이 이겼습니다')\n",
    "    else:\n",
    "        print('내가 이겼습니다.')\n",
    "        \n",
    "else:\n",
    "    if yours == '바위':\n",
    "        print('내가 이겼습니다.')\n",
    "    elif yours == '보':\n",
    "        print('내가 이겼습니다')\n",
    "    else:\n",
    "        print('당신이 이겼습니다.')"
   ]
  },
  {
   "cell_type": "code",
   "execution_count": 20,
   "id": "0e7ab7e1",
   "metadata": {},
   "outputs": [
    {
     "name": "stdout",
     "output_type": "stream",
     "text": [
      "나이를 입력하세요35\n",
      "젋으시군요\n"
     ]
    }
   ],
   "source": [
    "#  나이를 입력받은 후, 50대 이상이면 '중년이시군요', 20~40대이면 '젊으시군요',\n",
    "#  20세 미만이면 '어리시군요'를 출력\n",
    "\n",
    "age = int(input('나이를 입력하세요'))\n",
    "\n",
    "if age >= 50:\n",
    "    print('중녀이시군요')\n",
    "elif age >= 20:\n",
    "    print('젋으시군요')\n",
    "else:\n",
    "    print('어리시군요')"
   ]
  },
  {
   "cell_type": "code",
   "execution_count": 37,
   "id": "ae2c5cf1",
   "metadata": {},
   "outputs": [
    {
     "data": {
      "text/plain": [
       "8"
      ]
     },
     "execution_count": 37,
     "metadata": {},
     "output_type": "execute_result"
    }
   ],
   "source": [
    "#  모음의 숫자를 계산하시오 단, 모음은 'aeiouAEIOU'\n",
    "text = 'computational thinking'\n",
    "vowel = 'aeiouAEIOU'\n",
    "\n",
    "count = 0\n",
    "\n",
    "for i in text:\n",
    "    if i in vowel:\n",
    "        count += 1\n",
    "        \n",
    "count\n",
    "    \n"
   ]
  },
  {
   "cell_type": "code",
   "execution_count": 22,
   "id": "745f9ec8",
   "metadata": {},
   "outputs": [
    {
     "name": "stdout",
     "output_type": "stream",
     "text": [
      "21\n"
     ]
    }
   ],
   "source": [
    "#  word의 길이가 4 이상인 단어의 단어길이 총합을 구하시오\n",
    "words = ['mountain', 'sea', 'sky', 'river', 'cloud', 'tree', 'lake']\n",
    "sum = 0\n",
    "\n",
    "for i in words:\n",
    "    if len(i) > 4:\n",
    "        sum += len(words)\n",
    "        \n",
    "print(sum)\n",
    "        \n"
   ]
  },
  {
   "cell_type": "code",
   "execution_count": 38,
   "id": "c800d35d",
   "metadata": {},
   "outputs": [
    {
     "data": {
      "text/plain": [
       "[('a', '가'),\n",
       " ('a', '나'),\n",
       " ('a', '다'),\n",
       " ('a', '라'),\n",
       " ('b', '가'),\n",
       " ('b', '나'),\n",
       " ('b', '다'),\n",
       " ('b', '라'),\n",
       " ('c', '가'),\n",
       " ('c', '나'),\n",
       " ('c', '다'),\n",
       " ('c', '라'),\n",
       " ('d', '가'),\n",
       " ('d', '나'),\n",
       " ('d', '다'),\n",
       " ('d', '라')]"
      ]
     },
     "execution_count": 38,
     "metadata": {},
     "output_type": "execute_result"
    }
   ],
   "source": [
    "#  두 리스트 원소간의 모든 조합을 리스트에 담으시오\n",
    "L = []\n",
    "\n",
    "L1 = ['a','b','c','d']\n",
    "L2 = ['가','나','다','라']\n",
    "\n",
    "for i in L1:\n",
    "    for j in L2:\n",
    "        L.append((i,j))\n",
    "        \n",
    "L"
   ]
  },
  {
   "cell_type": "code",
   "execution_count": 5,
   "id": "0a146fd3",
   "metadata": {},
   "outputs": [
    {
     "name": "stdout",
     "output_type": "stream",
     "text": [
      "짝수의 합 : 110 홀수의 합 : 100\n"
     ]
    }
   ],
   "source": [
    "#  for문과 while문을 이용해서 1부터 20까지의 정수에서 짝수의 합과 홀수의 합을 구하시오\n",
    "\n",
    "sum1 = 0\n",
    "sum2 = 0\n",
    "\n",
    "for i in range(21):\n",
    "    if i%2 == 0:\n",
    "        sum1 += i\n",
    "    else:\n",
    "        sum2 += i\n",
    "\n",
    "print('짝수의 합 : {} 홀수의 합 : {}'.format(sum1,sum2))\n",
    "    "
   ]
  },
  {
   "cell_type": "code",
   "execution_count": 6,
   "id": "4987056b",
   "metadata": {},
   "outputs": [
    {
     "name": "stdout",
     "output_type": "stream",
     "text": [
      "짝수의 합 : 110 홀수의 합 : 100\n"
     ]
    }
   ],
   "source": [
    "sum_a = 0\n",
    "sum_b = 0\n",
    "i = 0\n",
    "\n",
    "while i < 20:\n",
    "    i += 1 \n",
    "    if i%2 == 0:\n",
    "        sum_a += i\n",
    "    else:\n",
    "        sum_b += i\n",
    "\n",
    "print('짝수의 합 : {} 홀수의 합 : {}'.format(sum_a,sum_b))"
   ]
  },
  {
   "cell_type": "code",
   "execution_count": 9,
   "id": "2285f8a4",
   "metadata": {},
   "outputs": [
    {
     "name": "stdout",
     "output_type": "stream",
     "text": [
      "4,5,6,7,"
     ]
    }
   ],
   "source": [
    "#  break 와 continue를 이용해서 1부터 10까지 정수 중에서 4,5,6,7만을 출력하시오\n",
    "\n",
    "for i in range(11):\n",
    "    if i < 4:\n",
    "        continue\n",
    "    if i > 7:\n",
    "        break\n",
    "    print(i, end=',')"
   ]
  },
  {
   "cell_type": "code",
   "execution_count": 12,
   "id": "530fb377",
   "metadata": {},
   "outputs": [
    {
     "name": "stdout",
     "output_type": "stream",
     "text": [
      "점수를 입력하세요10\n",
      "점수를 입력하세요10\n",
      "점수를 입력하세요10\n",
      "점수를 입력하세요10\n",
      "점수를 입력하세요10\n",
      "10.0\n"
     ]
    }
   ],
   "source": [
    "#  점수를 5번 입력받은 후 평균점수를 출력하시오\n",
    "\n",
    "sum_s = 0\n",
    "\n",
    "for i in range(5):\n",
    "    score = int(input('점수를 입력하세요'))\n",
    "    sum_s += score\n",
    "    \n",
    "print(sum_s/5)\n",
    "    "
   ]
  },
  {
   "cell_type": "code",
   "execution_count": 17,
   "id": "0aebc022",
   "metadata": {},
   "outputs": [
    {
     "name": "stdout",
     "output_type": "stream",
     "text": [
      "정수를 입력하세요5\n",
      "15\n"
     ]
    }
   ],
   "source": [
    "# 임의의 수를 입력받은 후 팩토리얼을 게산하는 코드를 작성하시오\n",
    "#  5! = 5+4+3+2+1\n",
    "\n",
    "suma = 0\n",
    "\n",
    "num = int(input('정수를 입력하세요'))\n",
    "i = num\n",
    "for i in range(num+1):\n",
    "    \n",
    "    suma += i\n",
    "    i -= 1\n",
    "    \n",
    "print(suma)"
   ]
  },
  {
   "cell_type": "code",
   "execution_count": 40,
   "id": "8d5d44e5",
   "metadata": {},
   "outputs": [
    {
     "name": "stdout",
     "output_type": "stream",
     "text": [
      "130 70\n"
     ]
    }
   ],
   "source": [
    "L = [70, 100, 80, 120, 130]\n",
    "#  반복문을 이용해서 최대값과 최소값을 구하시오\n",
    "\n",
    "max_l = L[0]\n",
    "min_l = L[0]\n",
    "\n",
    "for i in L:\n",
    "    if max_l < i:\n",
    "        max_l = i\n",
    "    if min_l > i:\n",
    "        min_l = i\n",
    "        \n",
    "print(max_l,min_l)\n",
    "    \n",
    "    "
   ]
  },
  {
   "cell_type": "code",
   "execution_count": 29,
   "id": "b910b42f",
   "metadata": {},
   "outputs": [
    {
     "name": "stdout",
     "output_type": "stream",
     "text": [
      "\n",
      "*\n",
      "**\n",
      "***\n",
      "****\n",
      "*****\n",
      "\n",
      "******\n",
      "*****\n",
      "****\n",
      "***\n",
      "**\n",
      "*\n"
     ]
    }
   ],
   "source": [
    "# 별트리만들기\n",
    "\n",
    "for i in range(6):\n",
    "    print('*' * i)\n",
    "    \n",
    "print()\n",
    "\n",
    "for i in range(6,0,-1):\n",
    "    print('*' * i)\n",
    "    \n"
   ]
  },
  {
   "cell_type": "code",
   "execution_count": 27,
   "id": "1f641536",
   "metadata": {},
   "outputs": [
    {
     "name": "stdout",
     "output_type": "stream",
     "text": [
      "o,p,t,t,o, ,t,h,g,"
     ]
    }
   ],
   "source": [
    "text = 'computational thinking'\n",
    "# 홀수번 인덱스만 출력\n",
    "\n",
    "for i in text:\n",
    "    if text.index(i) % 2 == 1:\n",
    "        print(i, end=',')\n",
    "        "
   ]
  },
  {
   "cell_type": "code",
   "execution_count": 36,
   "id": "2dce066d",
   "metadata": {},
   "outputs": [
    {
     "name": "stdout",
     "output_type": "stream",
     "text": [
      "0 *  0 =  0 0 *  1 =  0 0 *  2 =  0 0 *  3 =  0 0 *  4 =  0 0 *  5 =  0 0 *  6 =  0 0 *  7 =  0 0 *  8 =  0 0 *  9 =  0 \n",
      "1 *  0 =  0 1 *  1 =  1 1 *  2 =  2 1 *  3 =  3 1 *  4 =  4 1 *  5 =  5 1 *  6 =  6 1 *  7 =  7 1 *  8 =  8 1 *  9 =  9 \n",
      "2 *  0 =  0 2 *  1 =  2 2 *  2 =  4 2 *  3 =  6 2 *  4 =  8 2 *  5 = 10 2 *  6 = 12 2 *  7 = 14 2 *  8 = 16 2 *  9 = 18 \n",
      "3 *  0 =  0 3 *  1 =  3 3 *  2 =  6 3 *  3 =  9 3 *  4 = 12 3 *  5 = 15 3 *  6 = 18 3 *  7 = 21 3 *  8 = 24 3 *  9 = 27 \n",
      "4 *  0 =  0 4 *  1 =  4 4 *  2 =  8 4 *  3 = 12 4 *  4 = 16 4 *  5 = 20 4 *  6 = 24 4 *  7 = 28 4 *  8 = 32 4 *  9 = 36 \n",
      "5 *  0 =  0 5 *  1 =  5 5 *  2 = 10 5 *  3 = 15 5 *  4 = 20 5 *  5 = 25 5 *  6 = 30 5 *  7 = 35 5 *  8 = 40 5 *  9 = 45 \n",
      "6 *  0 =  0 6 *  1 =  6 6 *  2 = 12 6 *  3 = 18 6 *  4 = 24 6 *  5 = 30 6 *  6 = 36 6 *  7 = 42 6 *  8 = 48 6 *  9 = 54 \n",
      "7 *  0 =  0 7 *  1 =  7 7 *  2 = 14 7 *  3 = 21 7 *  4 = 28 7 *  5 = 35 7 *  6 = 42 7 *  7 = 49 7 *  8 = 56 7 *  9 = 63 \n",
      "8 *  0 =  0 8 *  1 =  8 8 *  2 = 16 8 *  3 = 24 8 *  4 = 32 8 *  5 = 40 8 *  6 = 48 8 *  7 = 56 8 *  8 = 64 8 *  9 = 72 \n",
      "9 *  0 =  0 9 *  1 =  9 9 *  2 = 18 9 *  3 = 27 9 *  4 = 36 9 *  5 = 45 9 *  6 = 54 9 *  7 = 63 9 *  8 = 72 9 *  9 = 81 \n"
     ]
    }
   ],
   "source": [
    "#  구구단 출력하기\n",
    "\n",
    "for i in range(10):\n",
    "    for j in range(10):\n",
    "        print('{} * {:2} = {:2}'.format(i,j,i*j), end=' ')\n",
    "    print()"
   ]
  },
  {
   "cell_type": "code",
   "execution_count": null,
   "id": "22ce242e",
   "metadata": {},
   "outputs": [],
   "source": [
    "## 임의 정수(n)를 입력받은 후 0부터 n까지의 정수 중 짝수들의 합을 구하시오.\n",
    "\n",
    "# names = {'mary':1520, 'tom':5214, 'park':5478, 'sams':5478}\n",
    "# 이름을 입력받은 후 names dict에 이름이 있으면 값을 출력하고,\n",
    "# 없으면 새로운 값 2000과 함께 dict에 'key':'value'로 추가\n",
    "# setdefault를 사용하지 않음..\n",
    "\n",
    "# 학점 출력.. 점수를 입력받은 후..\n",
    "# 90점 이상이면 \"당신은 'A'학점입니다\"를 출력\n",
    "# 80점 이상이면서 90점 미만이면 \"당신은 'B'학점입니다\"를 출력\n",
    "# 70점 이상이면서 80점 미만이면 \"당신은 'C'학점입니다\"를 출력\n",
    "# 70점 미만이면 \"당신은 D학점입니다\"를 출력\n",
    "\n",
    "# text = 'python is fun' # text의 character를 모음만 대문자로 전환해서 출력하세요. 참고) 영어모음 = ‘aeiou’\n",
    "# 위의 text의 문자를 index와 함께 출력하시오.\n",
    "\n",
    "# 1~20까지 수에서 짝수만 리스트에 담으세요.\n",
    "# => for문과 while문, list comprehension을 각각 활용\n",
    "\n",
    "# 1~20까지 수에서 짝수만 리스트에 담으세요.\n",
    "# => for문과 while문, list comprehension을 각각 활용\n",
    "\n",
    "# 1~10까지 정수를 출력하는 while문에서 continue와 break를 이용해서 3,4,5,6만 출력하도록 하시오.\n",
    "\n",
    "# x = ['a','b','c','d','e'], y = ['가','나','다','라','마'] 두 리스트의 원소들의 모든 조합을 아래와 같이 출력하시오. =>\n",
    "# [('a','가'), ('a','나'), ('a', '다') ... ('e','라'), ('e', '마')]\n",
    "\n",
    "# computational thinking에서 홀수인덱스만 리스트에 담으세요..\n",
    "\n",
    "# 점수를 5회 입력받은 후 평균을 출력하세요.\n",
    "\n",
    "# text = 'hello world'에서 각 문자를 인덱스와 함께 튜플로 묶어서 출력\n",
    "# (0, 'h'), (1, 'e') ...\n",
    "\n",
    "# 구구단을 출력하시오..."
   ]
  }
 ],
 "metadata": {
  "kernelspec": {
   "display_name": "Python 3 (ipykernel)",
   "language": "python",
   "name": "python3"
  },
  "language_info": {
   "codemirror_mode": {
    "name": "ipython",
    "version": 3
   },
   "file_extension": ".py",
   "mimetype": "text/x-python",
   "name": "python",
   "nbconvert_exporter": "python",
   "pygments_lexer": "ipython3",
   "version": "3.9.7"
  }
 },
 "nbformat": 4,
 "nbformat_minor": 5
}
