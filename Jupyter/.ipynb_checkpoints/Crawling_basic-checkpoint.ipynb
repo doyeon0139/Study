{
 "cells": [
  {
   "cell_type": "code",
   "execution_count": 35,
   "id": "0035e3ae",
   "metadata": {},
   "outputs": [],
   "source": [
    "html = \"\"\"\n",
    "<body>\n",
    "<div>\n",
    "    <div class='snack'>\n",
    "        <p id='first'> 양파링</p>\n",
    "        <p id='second'> 새우깡</p>\n",
    "        <p> 초코파이</p>\n",
    "        <p class='sweet'> 맛동산 </p>\n",
    "        \n",
    "    <div class='icecream'>\n",
    "        <p> 빵빠레</p>\n",
    "        <p id='third'> 죠스바</p>\n",
    "        <p> 꼬깔콘</p>\n",
    "        <p class='sweet'> 쭈쭈바</p>\n",
    "    </div>\n",
    "</div>\n",
    "</body>\n",
    "\"\"\"\n",
    "\n",
    "#p태그를 모두 출력하시오\n",
    "# '양파링'을 출력하시오\n",
    "#'죠스바'를 출력하시오\n",
    "# '맛동산'을 출력하시오"
   ]
  },
  {
   "cell_type": "code",
   "execution_count": 38,
   "id": "fe94646b",
   "metadata": {},
   "outputs": [],
   "source": [
    "from bs4 import BeautifulSoup\n",
    "\n",
    "soup = BeautifulSoup(html, 'html.parser')"
   ]
  },
  {
   "cell_type": "code",
   "execution_count": 39,
   "id": "dbe86cfb",
   "metadata": {
    "collapsed": true
   },
   "outputs": [
    {
     "data": {
      "text/plain": [
       "[<p id=\"first\"> 양파링</p>,\n",
       " <p id=\"second\"> 새우깡</p>,\n",
       " <p> 초코파이</p>,\n",
       " <p class=\"sweet\"> 맛동산 </p>,\n",
       " <p> 빵빠레</p>,\n",
       " <p id=\"third\"> 죠스바</p>,\n",
       " <p> 꼬깔콘</p>,\n",
       " <p class=\"sweet\"> 쭈쭈바</p>]"
      ]
     },
     "execution_count": 39,
     "metadata": {},
     "output_type": "execute_result"
    }
   ],
   "source": [
    "#p태그를 모두 출력하시오\n",
    "soup.select('p')"
   ]
  },
  {
   "cell_type": "code",
   "execution_count": 40,
   "id": "6c1b1a42",
   "metadata": {
    "collapsed": true
   },
   "outputs": [
    {
     "name": "stdout",
     "output_type": "stream",
     "text": [
      " 양파링\n",
      " 새우깡\n",
      " 초코파이\n",
      " 맛동산 \n",
      " 빵빠레\n",
      " 죠스바\n",
      " 꼬깔콘\n",
      " 쭈쭈바\n"
     ]
    }
   ],
   "source": [
    "t = soup.select('p')\n",
    "for i in t:\n",
    "    print(i.text)"
   ]
  },
  {
   "cell_type": "code",
   "execution_count": 41,
   "id": "10f1204c",
   "metadata": {},
   "outputs": [
    {
     "data": {
      "text/plain": [
       "' 양파링'"
      ]
     },
     "execution_count": 41,
     "metadata": {},
     "output_type": "execute_result"
    }
   ],
   "source": [
    "# '양파링'을 출력하시오\n",
    "soup.select('p#first')[0].text\n"
   ]
  },
  {
   "cell_type": "code",
   "execution_count": 43,
   "id": "7a8ab389",
   "metadata": {},
   "outputs": [
    {
     "data": {
      "text/plain": [
       "' 죠스바'"
      ]
     },
     "execution_count": 43,
     "metadata": {},
     "output_type": "execute_result"
    }
   ],
   "source": [
    "#'죠스바'를 출력하시오\n",
    "soup.select('p#third')[0].text"
   ]
  },
  {
   "cell_type": "code",
   "execution_count": 44,
   "id": "0d401d92",
   "metadata": {},
   "outputs": [
    {
     "data": {
      "text/plain": [
       "' 맛동산 '"
      ]
     },
     "execution_count": 44,
     "metadata": {},
     "output_type": "execute_result"
    }
   ],
   "source": [
    "# '맛동산'을 출력하시오\n",
    "soup.select('p.sweet')[0].text"
   ]
  },
  {
   "cell_type": "code",
   "execution_count": 68,
   "id": "31f6eafa",
   "metadata": {
    "collapsed": true
   },
   "outputs": [
    {
     "name": "stdout",
     "output_type": "stream",
     "text": [
      "\n",
      "사전\n",
      "뉴스\n",
      "증권\n",
      "부동산\n",
      "지도\n",
      "VIBE\n",
      "책\n",
      "웹툰\n",
      "\n"
     ]
    }
   ],
   "source": [
    "#  네이버 메뉴 크롤링\n",
    "import requests\n",
    "from bs4 import BeautifulSoup\n",
    "\n",
    "res = requests.get('https://www.naver.com/')\n",
    "\n",
    "soup = BeautifulSoup(res.text,'html.parser')\n",
    "\n",
    "path = ('#NM_FAVORITE > div.group_nav > ul.list_nav.NM_FAVORITE_LIST')\n",
    "\n",
    "m = soup.select(path)\n",
    "\n",
    "for i in m:\n",
    "    print(i.text)\n",
    "\n"
   ]
  },
  {
   "cell_type": "code",
   "execution_count": null,
   "id": "d46be75e",
   "metadata": {},
   "outputs": [],
   "source": [
    "# 다음 - 빅데이터 - 뉴스\n",
    "# 제목 : [투데이 窓]빅데이터에서 미래를 읽는 통찰력\n",
    "# URL : http://v.media.daum.net/v/20220119020501044?f=o\n",
    "# summary"
   ]
  },
  {
   "cell_type": "code",
   "execution_count": 1,
   "id": "e69926fe",
   "metadata": {
    "collapsed": true
   },
   "outputs": [
    {
     "name": "stdout",
     "output_type": "stream",
     "text": [
      "[투데이 窓]빅데이터에서 미래를 읽는 통찰력\n",
      "http://v.media.daum.net/v/20220119020501044?f=o\n",
      "새 강자 그룹은 IT 기반 플랫폼을 보유한 기업들이다. 플랫폼의 강점은 데이터다. 데이터가 모이고 유통되는 곳이 바로 플랫폼이다. 데이터는 21세기 원유가 됐고 바야흐로 빅데이터 시대를 맞게 된 것이다. 새해 벽두, 애플은 새 진기록을 세웠다. 1월4일 사상 처음...\n",
      "------------------------------------------------------------\n",
      "서초구, '예측범죄지도' 도입..빅데이터로 위험지역 예측\n",
      "http://v.media.daum.net/v/20220119162951352?f=o\n",
      "기사내용 요약 빅데이터 분석해 시간대별 범죄 위험 지역 집중 감시 [서울=뉴시스]서초스마트허브센터 관제사가 예측범죄지도를 이용해 모니터링하는 모습. (사진=서초구 제공). 2022.01.19. photo@newsis.com [서울=뉴시스] 조현아 기자 = 서울 서초구가 전국 최초...\n",
      "------------------------------------------------------------\n",
      "통화 방송 후 사흘.. 관심도 李 46 vs 尹 54 l 빅데이터랩\n",
      "http://v.media.daum.net/v/20220119141604019?f=o\n",
      "尹 큰 타격 없어..부정감성 안정세 SNS에 녹취 풀린 李, 파장 불투명\n",
      "------------------------------------------------------------\n",
      "악재 뜨면 이슈로 맞불.. 李 이번엔 'TV토론 카드'?ㅣ빅데이터랩\n",
      "http://v.media.daum.net/v/20220119111204914?f=o\n",
      "[주간분석] 의혹 제보자 사망..부정감성 수직상승 TV토론·통화 TV방송 이슈 뜨며 빠른 하락 전환'김건희' 논란 촉각 세운 尹, 부정감성 안정 유지단일화 한복판 安, 3자구도 굳히기 정중동 행보\n",
      "------------------------------------------------------------\n",
      "식약처, AI·빅데이터 활용 수입식품 안전관리 디지털 전환\n",
      "http://v.media.daum.net/v/20220119175403586?f=o\n",
      "식품의약품안전처가 수입식품 안전관리에 인공지능(AI), 블록체인, 빅데이터 등 디지털 기술을 적극 활용한다. 식약처는 디지털 전환을 통한 수입식품 안전관리 혁신 방안을 논의하기 위해 19일 한국프레스센터에서 행정, 산업공학, 규제과학, 데이터과학, 유통 등...\n",
      "------------------------------------------------------------\n",
      "식품업계, 데이터가 경영 성패 가른다…빅데이터 사업에 투자\n",
      "https://cp.news.search.daum.net/p/115221091\n",
      "데이터를 활용해 소비자들의 라이프스타일과 소비 패턴을 분석, 이를 제품 개발에 적용하고 있는 것. 특히 급식 ·식자재 기업이 빅데이터 경영에 주력하고 있다. 풀무원의 계열사 풀무원푸드앤컬처는 KT와 손잡과 'DX 기반의 주방 스마트화 공동연구'에 대한 업무...\n",
      "------------------------------------------------------------\n",
      "도 빅데이터위원회 개최…올해 경기도 마이데이터 플랫폼 개시\n",
      "https://cp.news.search.daum.net/p/115226578\n",
      "활용, 관리할 수 있는 ‘경기도 마이데이터 플랫폼’ 서비스를 시작한다. 경기도는 18일 수원시 경기도RDB센터에서 2022년 빅데이터위원회 제1차 회의를 개최했다. 위원회에서는 위원장(공병훈 협성대 교수)을 포함해 당연직·위촉직 위원 등 총 12명이 참석한...\n",
      "------------------------------------------------------------\n",
      "[칼럼] 올해 빅데이터 정책 특화교육 디지털 전환 촉진\n",
      "https://cp.news.search.daum.net/p/115217602\n",
      "경기도는 데이터 기반의 산업 혁신과 디지털로 전환 촉진 기반을 마련하기 위해 노력하고 있다”라며 “빅데이터위원회에서 논의된 사항을 바탕으로 데이터 기반 혁신 사업을 성공적으로 추진하기 위해 최선을 다하겠다. 그러면서 경기도는 도정의 디지털전환과...\n",
      "------------------------------------------------------------\n",
      "서초구, 빅데이터로 우범지역 찾고 행인 손동작으로 범죄가능성 잡는다\n",
      "http://v.media.daum.net/v/20220119180600001?f=o\n",
      "빅데이터 기반 '예측범죄지도 시스템' 개발\n",
      "------------------------------------------------------------\n",
      "최저임금 여론 분석을 빅데이터로?...\"새로운 시도지만 활용도 낮아\"\n",
      "https://cp.news.search.daum.net/p/115223767\n",
      "회의에 2022년도 적용 최저임금이 9160원으로 의결됐다는 내용이 표시돼 있다. (사진=뉴시스) 최저임금위원회(최저임금위)에서 빅데이터를 통해 여론을 분석하자는 연구가 진행됐지만 적극적인 활용은 어려울 것이라는 전망이 나왔다. 최저임금위는 빅데이터 활용...\n",
      "------------------------------------------------------------\n"
     ]
    }
   ],
   "source": [
    "import requests\n",
    "from bs4 import BeautifulSoup\n",
    "\n",
    "url = ('https://search.daum.net/search?w=news&nil_search=btn&DA=NTB&enc=utf8&cluster=y&cluster_page=1&q=%EB%B9%85%EB%8D%B0%EC%9D%B4%ED%84%B0')\n",
    "\n",
    "res = requests.get(url)\n",
    "\n",
    "soup = BeautifulSoup(res.text, 'html.parser')\n",
    "\n",
    "path = ('#newsColl > div.cont_divider > ul > li > div.wrap_cont')\n",
    "\n",
    "lis = soup.select(path)\n",
    "\n",
    "# lis\n",
    "\n",
    "for li in (lis):\n",
    "    print(li.select('a.tit_main')[0].text)\n",
    "    print(li.select('a')[0]['href'])\n",
    "    print(li.p.text)\n",
    "    print('-'*60)\n",
    "    "
   ]
  },
  {
   "cell_type": "code",
   "execution_count": 4,
   "id": "9eb30378",
   "metadata": {
    "collapsed": true
   },
   "outputs": [
    {
     "name": "stdout",
     "output_type": "stream",
     "text": [
      "검색어백신패스\n",
      "영국 다시 마스크 벗고 백신패스 없앤다..자가격리도 곧 폐지(종합)\n",
      "http://v.media.daum.net/v/20220119223913629?f=o\n",
      "재택근무 권고 등 '플랜B' 종료..확진자 크게 줄었지만 여전히 하루 9만명대존슨 총리 \"오미크론 변이 정점 지나..팬데믹은 지속\"\n",
      "----------------------------------------------------------------------\n",
      "영국, 다시 마스크 벗어던진다..백신패스 등 방역 조치 해제\n",
      "http://v.media.daum.net/v/20220119225948792?f=o\n",
      "재택근무 권고 등 '플랜B' 종료확산세 꺾였지만 사망자 11개월 만에 최대현지 매체 \"관심 돌려 정치적 위기 모면하려는 시도\"\n",
      "----------------------------------------------------------------------\n",
      "美 워싱턴DC 백신패스 전면 도입..\"대유행 종식 아직 멀었다\"\n",
      "http://v.media.daum.net/v/20220119204610635?f=o\n",
      "앵커 ▶ 미국은 일부 지역에서는 마스크 착용 조차 강제하지 않고 있지만 대도시를 중심으로는 백신 패스가 확대되고 있습니다. 수도인 워싱턴DC에 백신패스를 전면 도입했고요. 열 두살 이상 청소년에 대한 백신 접종도 의무화했습니다. 워싱턴에서 김수진 특파원이...\n",
      "----------------------------------------------------------------------\n",
      "[속보] 영국, 마스크·백신패스 등 방역규제 없앤다\n",
      "http://v.media.daum.net/v/20220119222608432?f=o\n",
      "재택근무 권고 등 '플랜B' 종료..확진자 자가격리는 유지\n",
      "----------------------------------------------------------------------\n",
      "영국, 하루 9만명대 불구 마스크 벗고 백신패스 없앤다\n",
      "http://v.media.daum.net/v/20220119222920457?f=o\n",
      "연합뉴스 신종 코로나 바이러스 감염증(코로나19) 신규 확진자 9만명대를 기록한 영국이 실내 마스크 착용 의무화를 중지하고, 백신패스를 없애기로 했다. 이런 정책은 다음 주쯤 시행될 예정이다. 보리스 존슨 영국 총리는 19일(현지시각) 실내 마스크 착용, 재택...\n",
      "----------------------------------------------------------------------\n",
      "영국, 다음주 마스크 벗고 백신패스 없앤다\n",
      "http://v.media.daum.net/v/20220119221547320?f=o\n",
      "현행 방역 플랜B 다음주 폐지 예고\n",
      "----------------------------------------------------------------------\n",
      "[2보]하루 9만명대 영국, 다시 마스크 벗고 백신패스 없앤다\n",
      "http://v.media.daum.net/v/20220119220428118?f=o\n",
      "재택근무 권고 등 '플랜B' 종료..확진자 자가격리는 유지\n",
      "----------------------------------------------------------------------\n",
      "영국, 실내 마스크 착용·백신패스 다음 주 종료..\"오미크론 변이 정점 지나\"\n",
      "http://v.media.daum.net/v/20220119222239412?f=o\n",
      "보리스 존슨 영국 총리는 현지시간 19일 실내 마스크 착용, 재택근무 권고, 대형 행사장 백신패스 사용 등을 담은 방역조치인 ‘플랜B’를 다음 주에 종료한다고 밝혔습니다. 존슨 총리는 세컨더리스쿨(중등학교) 교실에서의 마스크 착용 조치는 바로 없어진다고...\n",
      "----------------------------------------------------------------------\n",
      "백신 이상반응 입원자 '방역패스 예외' 인정\n",
      "http://v.media.daum.net/v/20220119222025390?f=o\n",
      "박성욱 앵커> 정부가 방역패스 적용 예외 범위를 확대했습니다. 백신 접종 후 이상 반응으로 입원 치료를 받았다면, '방역패스 예외'로 인정됩니다. 이혜진 기자입니다. 이혜진 기자> 오는 24일부터 방역패스 예외 대상에 두 가지 사례가 추가됩니다. 우선, 백신...\n",
      "----------------------------------------------------------------------\n",
      "'백신 이상 반응' 방역패스 예외 확대..임신부는 제외\n",
      "http://v.media.daum.net/v/20220119194910262?f=o\n",
      "[뉴스데스크] ◀ 앵커 ▶ 정부가 방역패스의 예외 대상을 확대했습니다. 백신을 접종하고 입원을 했다거나 접종과 이상반응의 인과성이 충분하지 않다고 판정이 나와도 인정해주기로 한 건데요. 다만, 임신부는 예외가 아닙니다. 박진주 기자가 설명해드립니다...\n",
      "----------------------------------------------------------------------\n"
     ]
    }
   ],
   "source": [
    "# 검색어를 입력 받은 후 해당 검색어로 다음 뉴스 페이지에서 검색한 결과의 제목, url, summary를 크롤링하시오\n",
    "# (url을 조사)\n",
    "# 함수\n",
    "\n",
    "import requests\n",
    "from bs4 import BeautifulSoup\n",
    "\n",
    "s = input('검색어')\n",
    "\n",
    "url = ('https://search.daum.net/search?nil_suggest=btn&w=news&DA=SBC&q={}')\n",
    "\n",
    "url = url.format(s)\n",
    "\n",
    "res = requests.get(url)\n",
    "\n",
    "soup = BeautifulSoup(res.text, 'html.parser')\n",
    "\n",
    "path = ('#newsColl > div.cont_divider > ul > li > div.wrap_cont ')\n",
    "\n",
    "tag = soup.select(path)\n",
    "\n",
    "# tag\n",
    "\n",
    "for i in (tag):\n",
    "    print(i.select('a.tit_main')[0].text)\n",
    "    print(i.select('a')[0]['href'])\n",
    "    print(i.p.text)\n",
    "    print('-'*70)"
   ]
  },
  {
   "cell_type": "code",
   "execution_count": 5,
   "id": "2544fbfd",
   "metadata": {
    "collapsed": true
   },
   "outputs": [
    {
     "name": "stdout",
     "output_type": "stream",
     "text": [
      "검색어백신패스\n",
      "영국 다시 마스크 벗고 백신패스 없앤다..자가격리도 곧 폐지(종합)\n",
      "http://v.media.daum.net/v/20220119223913629?f=o\n",
      "재택근무 권고 등 '플랜B' 종료..확진자 크게 줄었지만 여전히 하루 9만명대존슨 총리 \"오미크론 변이 정점 지나..팬데믹은 지속\"\n",
      "----------------------------------------------------------------------\n",
      "영국, 다시 마스크 벗어던진다..백신패스 등 방역 조치 해제\n",
      "http://v.media.daum.net/v/20220119225948792?f=o\n",
      "재택근무 권고 등 '플랜B' 종료확산세 꺾였지만 사망자 11개월 만에 최대현지 매체 \"관심 돌려 정치적 위기 모면하려는 시도\"\n",
      "----------------------------------------------------------------------\n",
      "美 워싱턴DC 백신패스 전면 도입..\"대유행 종식 아직 멀었다\"\n",
      "http://v.media.daum.net/v/20220119204610635?f=o\n",
      "앵커 ▶ 미국은 일부 지역에서는 마스크 착용 조차 강제하지 않고 있지만 대도시를 중심으로는 백신 패스가 확대되고 있습니다. 수도인 워싱턴DC에 백신패스를 전면 도입했고요. 열 두살 이상 청소년에 대한 백신 접종도 의무화했습니다. 워싱턴에서 김수진 특파원이...\n",
      "----------------------------------------------------------------------\n",
      "[속보] 영국, 마스크·백신패스 등 방역규제 없앤다\n",
      "http://v.media.daum.net/v/20220119222608432?f=o\n",
      "재택근무 권고 등 '플랜B' 종료..확진자 자가격리는 유지\n",
      "----------------------------------------------------------------------\n",
      "영국, 하루 9만명대 불구 마스크 벗고 백신패스 없앤다\n",
      "http://v.media.daum.net/v/20220119222920457?f=o\n",
      "연합뉴스 신종 코로나 바이러스 감염증(코로나19) 신규 확진자 9만명대를 기록한 영국이 실내 마스크 착용 의무화를 중지하고, 백신패스를 없애기로 했다. 이런 정책은 다음 주쯤 시행될 예정이다. 보리스 존슨 영국 총리는 19일(현지시각) 실내 마스크 착용, 재택...\n",
      "----------------------------------------------------------------------\n",
      "영국, 다음주 마스크 벗고 백신패스 없앤다\n",
      "http://v.media.daum.net/v/20220119221547320?f=o\n",
      "현행 방역 플랜B 다음주 폐지 예고\n",
      "----------------------------------------------------------------------\n",
      "'하루 9만명대' 영국, 마스크 벗고 백신패스 없앤다\n",
      "http://v.media.daum.net/v/20220119221615330?f=o\n",
      "[한국경제TV 조시형 기자] 영국이 다시 마스크를 벗고 백신패스를 없애는 등 오미크론 변이 등장 이전으로 돌아간다. 보리스 존슨 영국 총리는 19일(현지시간) 실내 마스크 착용, 재택근무 권고, 대형 행사장 백신패스 사용 등을 담은 '플랜B'를 다음 주에 종료...\n",
      "----------------------------------------------------------------------\n",
      "영국, 실내 마스크 착용·백신패스 다음 주 종료..\"오미크론 변이 정점 지나\"\n",
      "http://v.media.daum.net/v/20220119222239412?f=o\n",
      "보리스 존슨 영국 총리는 현지시간 19일 실내 마스크 착용, 재택근무 권고, 대형 행사장 백신패스 사용 등을 담은 방역조치인 ‘플랜B’를 다음 주에 종료한다고 밝혔습니다. 존슨 총리는 세컨더리스쿨(중등학교) 교실에서의 마스크 착용 조치는 바로 없어진다고...\n",
      "----------------------------------------------------------------------\n",
      "백신 이상반응 입원자 '방역패스 예외' 인정\n",
      "http://v.media.daum.net/v/20220119222025390?f=o\n",
      "박성욱 앵커> 정부가 방역패스 적용 예외 범위를 확대했습니다. 백신 접종 후 이상 반응으로 입원 치료를 받았다면, '방역패스 예외'로 인정됩니다. 이혜진 기자입니다. 이혜진 기자> 오는 24일부터 방역패스 예외 대상에 두 가지 사례가 추가됩니다. 우선, 백신...\n",
      "----------------------------------------------------------------------\n",
      "'백신 이상 반응' 방역패스 예외 확대..임신부는 제외\n",
      "http://v.media.daum.net/v/20220119194910262?f=o\n",
      "[뉴스데스크] ◀ 앵커 ▶ 정부가 방역패스의 예외 대상을 확대했습니다. 백신을 접종하고 입원을 했다거나 접종과 이상반응의 인과성이 충분하지 않다고 판정이 나와도 인정해주기로 한 건데요. 다만, 임신부는 예외가 아닙니다. 박진주 기자가 설명해드립니다...\n",
      "----------------------------------------------------------------------\n"
     ]
    }
   ],
   "source": [
    "def serch(s):\n",
    "    url = ('https://search.daum.net/search?nil_suggest=btn&w=news&DA=SBC&q={}')\n",
    "\n",
    "    url = url.format(s)\n",
    "\n",
    "    res = requests.get(url)\n",
    "\n",
    "    soup = BeautifulSoup(res.text, 'html.parser')\n",
    "\n",
    "    path = ('#newsColl > div.cont_divider > ul > li > div.wrap_cont ')\n",
    "\n",
    "    tag = soup.select(path)\n",
    "\n",
    "    # tag\n",
    "\n",
    "    for i in (tag):\n",
    "        print(i.select('a.tit_main')[0].text)\n",
    "        print(i.select('a')[0]['href'])\n",
    "        print(i.p.text)\n",
    "        print('-'*70)\n",
    "    \n",
    "s = input('검색어')\n",
    "\n",
    "serch(s)"
   ]
  },
  {
   "cell_type": "code",
   "execution_count": 10,
   "id": "3087b552",
   "metadata": {},
   "outputs": [
    {
     "name": "stdout",
     "output_type": "stream",
     "text": [
      "키워드백신패스\n",
      "페이지수5\n",
      "영국 다시 마스크 벗고 백신패스 없앤다..자가격리도 곧 폐지(종합)\n",
      "http://v.media.daum.net/v/20220119223913629?f=o\n",
      "재택근무 권고 등 '플랜B' 종료..확진자 크게 줄었지만 여전히 하루 9만명대존슨 총리 \"오미크론 변이 정점 지나..팬데믹은 지속\"\n",
      "연합뉴스\n",
      "1시간전\n",
      "----------------------------------------------------------------------\n",
      "美 워싱턴DC 백신패스 전면 도입..\"대유행 종식 아직 멀었다\"\n",
      "http://v.media.daum.net/v/20220119204610635?f=o\n",
      "앵커 ▶ 미국은 일부 지역에서는 마스크 착용 조차 강제하지 않고 있지만 대도시를 중심으로는 백신 패스가 확대되고 있습니다. 수도인 워싱턴DC에 백신패스를 전면 도입했고요. 열 두살 이상 청소년에 대한 백신 접종도 의무화했습니다. 워싱턴에서 김수진 특파원이...\n",
      "MBC\n",
      "2시간전\n",
      "----------------------------------------------------------------------\n",
      "영국, 다시 마스크 벗어던진다..백신패스 등 방역 조치 해제\n",
      "http://v.media.daum.net/v/20220119225948792?f=o\n",
      "재택근무 권고 등 '플랜B' 종료확산세 꺾였지만 사망자 11개월 만에 최대현지 매체 \"관심 돌려 정치적 위기 모면하려는 시도\"\n",
      "국민일보\n",
      "40분전\n",
      "----------------------------------------------------------------------\n",
      "하루 9만 명대 영국, 다시 마스크 벗고 백신패스 없앤다\n",
      "http://v.media.daum.net/v/20220119225700779?f=o\n",
      "영국이 다시 마스크를 벗고 백신패스를 없애는 등 코로나19 오미크론 변이 등장 이전으로 돌아갑니다. 보리스 존슨 영국 총리는 현지시각 19일 실내 마스크 착용과 재택근무 권고, 대형 행사장 백신패스 사용 등을 담은 '플랜B'를 다음 주에 종료한다고 발표했습니다...\n",
      "YTN\n",
      "43분전\n",
      "----------------------------------------------------------------------\n",
      "[속보] 영국, 마스크·백신패스 등 방역규제 없앤다\n",
      "http://v.media.daum.net/v/20220119222608432?f=o\n",
      "재택근무 권고 등 '플랜B' 종료..확진자 자가격리는 유지\n",
      "디지털타임스\n",
      "1시간전\n",
      "----------------------------------------------------------------------\n"
     ]
    }
   ],
   "source": [
    "# 키워드와 크롤링할 페이지수를 입력받은 후 다음 뉴스페이지에서 \n",
    "# 제목, URL, summry, 언론사, 시간을 크롤링 해서 출력하는 함수를 만드시오\n",
    "\n",
    "import requests\n",
    "from bs4 import BeautifulSoup\n",
    "\n",
    "key = input('키워드')\n",
    "page = input('페이지수')\n",
    "\n",
    "url = ('https://search.daum.net/search?nil_suggest=btn&w=news&DA=SBC&q={}')\n",
    "url = url.format(key)\n",
    "\n",
    "res = requests.get(url)\n",
    "\n",
    "soup = BeautifulSoup(res.text, 'html.parser')\n",
    "\n",
    "path = ('#newsColl > div.cont_divider > ul > li > div.wrap_cont ')\n",
    "\n",
    "abc = soup.select(path)\n",
    "\n",
    "# abc\n",
    "\n",
    "for i in range(5):\n",
    "    print(abc[i].select('a.tit_main')[0].text)\n",
    "    print(abc[i].select('a')[0]['href'])\n",
    "    print(abc[i].p.text)\n",
    "    print(abc[i].select('span.f_nb')[0].text)\n",
    "    print(abc[i].select('span.f_nb')[1].text)\n",
    "    print('-'*70)\n"
   ]
  },
  {
   "cell_type": "code",
   "execution_count": 11,
   "id": "87356ba6",
   "metadata": {},
   "outputs": [],
   "source": [
    "html = \"\"\"\n",
    "<html>\n",
    "<head>\n",
    "    <title>The Dormouse's story</title>\n",
    "</head>\n",
    "<body>\n",
    "    <h1>this is h1 area</h1>\n",
    "    <h2>this is h2 area</h2>\n",
    "    <p class=\"title\">\n",
    "        <b>The Dormouse's story</b>\n",
    "    </p>\n",
    "    <p class=\"story\">\n",
    "        Once upon a time there were three little sisters\n",
    "        <a href=\"http://example.com/elsie\" class=\"sister\" id=\"link1\">Elsie</a>\n",
    "        <a href=\"http://example.com/lacie\" class=\"sister\" id=\"link2\">Lacie</a>\n",
    "        <a data-io=\"link3\" href=\"http://example.com/tillie\" class=\"brother\" id=\"link3\">Tillie</a>\n",
    "        <b> \n",
    "            test\n",
    "            <a href=\"http://example.com/test\" class=\"brother\" id=\"link4\">TEST</a>\n",
    "        </b>\n",
    "\n",
    "    </p>\n",
    "    <p class=\"story\">story...</p>\n",
    "</body>\n",
    "</html>\n",
    "\"\"\""
   ]
  },
  {
   "cell_type": "code",
   "execution_count": 16,
   "id": "0c3bf640",
   "metadata": {
    "collapsed": true
   },
   "outputs": [
    {
     "data": {
      "text/plain": [
       "'Elsie'"
      ]
     },
     "execution_count": 16,
     "metadata": {},
     "output_type": "execute_result"
    }
   ],
   "source": [
    "# 퀴즈..\n",
    "# 'The Dormouse's story'를 출력하시오..\n",
    "# 'Elsie'를 출력하시오.\n",
    "# \"http://example.com/lacie\"를 출력하시오\n",
    "# 'test'를 출력하시오\n",
    "# 'story...'를 출력하시오\n",
    "\n",
    "from bs4 import BeautifulSoup\n",
    "\n",
    "r = BeautifulSoup(html, 'html.parser')"
   ]
  },
  {
   "cell_type": "code",
   "execution_count": 21,
   "id": "bcc7d718",
   "metadata": {},
   "outputs": [
    {
     "data": {
      "text/plain": [
       "\"The Dormouse's story\""
      ]
     },
     "execution_count": 21,
     "metadata": {},
     "output_type": "execute_result"
    }
   ],
   "source": [
    "# 'The Dormouse's story'를 출력하시오..\n",
    "r.select('b')[0].text"
   ]
  },
  {
   "cell_type": "code",
   "execution_count": 22,
   "id": "8e033ba4",
   "metadata": {},
   "outputs": [
    {
     "data": {
      "text/plain": [
       "'Elsie'"
      ]
     },
     "execution_count": 22,
     "metadata": {},
     "output_type": "execute_result"
    }
   ],
   "source": [
    "# 'Elsie'를 출력하시오.\n",
    "r.select('a')[0].text"
   ]
  },
  {
   "cell_type": "code",
   "execution_count": 18,
   "id": "22829b3e",
   "metadata": {},
   "outputs": [
    {
     "data": {
      "text/plain": [
       "'http://example.com/lacie'"
      ]
     },
     "execution_count": 18,
     "metadata": {},
     "output_type": "execute_result"
    }
   ],
   "source": [
    "# \"http://example.com/lacie\"를 출력하시오\n",
    "r.select('a')[1]['href']"
   ]
  },
  {
   "cell_type": "code",
   "execution_count": 19,
   "id": "3704e997",
   "metadata": {},
   "outputs": [
    {
     "data": {
      "text/plain": [
       "'TEST'"
      ]
     },
     "execution_count": 19,
     "metadata": {},
     "output_type": "execute_result"
    }
   ],
   "source": [
    "# 'test'를 출력하시오\n",
    "r.select('a')[3].text"
   ]
  },
  {
   "cell_type": "code",
   "execution_count": 20,
   "id": "2233e692",
   "metadata": {},
   "outputs": [
    {
     "data": {
      "text/plain": [
       "'story...'"
      ]
     },
     "execution_count": 20,
     "metadata": {},
     "output_type": "execute_result"
    }
   ],
   "source": [
    "# 'story...'를 출력하시오\n",
    "r.select('p')[2].text"
   ]
  }
 ],
 "metadata": {
  "kernelspec": {
   "display_name": "Python 3 (ipykernel)",
   "language": "python",
   "name": "python3"
  },
  "language_info": {
   "codemirror_mode": {
    "name": "ipython",
    "version": 3
   },
   "file_extension": ".py",
   "mimetype": "text/x-python",
   "name": "python",
   "nbconvert_exporter": "python",
   "pygments_lexer": "ipython3",
   "version": "3.9.7"
  }
 },
 "nbformat": 4,
 "nbformat_minor": 5
}
