{
 "cells": [
  {
   "cell_type": "code",
   "execution_count": 35,
   "id": "0035e3ae",
   "metadata": {},
   "outputs": [],
   "source": [
    "html = \"\"\"\n",
    "<body>\n",
    "<div>\n",
    "    <div class='snack'>\n",
    "        <p id='first'> 양파링</p>\n",
    "        <p id='second'> 새우깡</p>\n",
    "        <p> 초코파이</p>\n",
    "        <p class='sweet'> 맛동산 </p>\n",
    "        \n",
    "    <div class='icecream'>\n",
    "        <p> 빵빠레</p>\n",
    "        <p id='third'> 죠스바</p>\n",
    "        <p> 꼬깔콘</p>\n",
    "        <p class='sweet'> 쭈쭈바</p>\n",
    "    </div>\n",
    "</div>\n",
    "</body>\n",
    "\"\"\"\n",
    "\n",
    "#p태그를 모두 출력하시오\n",
    "# '양파링'을 출력하시오\n",
    "#'죠스바'를 출력하시오\n",
    "# '맛동산'을 출력하시오"
   ]
  },
  {
   "cell_type": "code",
   "execution_count": 38,
   "id": "fe94646b",
   "metadata": {},
   "outputs": [],
   "source": [
    "from bs4 import BeautifulSoup\n",
    "\n",
    "soup = BeautifulSoup(html, 'html.parser')"
   ]
  },
  {
   "cell_type": "code",
   "execution_count": 39,
   "id": "dbe86cfb",
   "metadata": {
    "collapsed": true
   },
   "outputs": [
    {
     "data": {
      "text/plain": [
       "[<p id=\"first\"> 양파링</p>,\n",
       " <p id=\"second\"> 새우깡</p>,\n",
       " <p> 초코파이</p>,\n",
       " <p class=\"sweet\"> 맛동산 </p>,\n",
       " <p> 빵빠레</p>,\n",
       " <p id=\"third\"> 죠스바</p>,\n",
       " <p> 꼬깔콘</p>,\n",
       " <p class=\"sweet\"> 쭈쭈바</p>]"
      ]
     },
     "execution_count": 39,
     "metadata": {},
     "output_type": "execute_result"
    }
   ],
   "source": [
    "#p태그를 모두 출력하시오\n",
    "soup.select('p')"
   ]
  },
  {
   "cell_type": "code",
   "execution_count": 40,
   "id": "6c1b1a42",
   "metadata": {
    "collapsed": true
   },
   "outputs": [
    {
     "name": "stdout",
     "output_type": "stream",
     "text": [
      " 양파링\n",
      " 새우깡\n",
      " 초코파이\n",
      " 맛동산 \n",
      " 빵빠레\n",
      " 죠스바\n",
      " 꼬깔콘\n",
      " 쭈쭈바\n"
     ]
    }
   ],
   "source": [
    "t = soup.select('p')\n",
    "for i in t:\n",
    "    print(i.text)"
   ]
  },
  {
   "cell_type": "code",
   "execution_count": 41,
   "id": "10f1204c",
   "metadata": {},
   "outputs": [
    {
     "data": {
      "text/plain": [
       "' 양파링'"
      ]
     },
     "execution_count": 41,
     "metadata": {},
     "output_type": "execute_result"
    }
   ],
   "source": [
    "# '양파링'을 출력하시오\n",
    "soup.select('p#first')[0].text\n"
   ]
  },
  {
   "cell_type": "code",
   "execution_count": 43,
   "id": "7a8ab389",
   "metadata": {},
   "outputs": [
    {
     "data": {
      "text/plain": [
       "' 죠스바'"
      ]
     },
     "execution_count": 43,
     "metadata": {},
     "output_type": "execute_result"
    }
   ],
   "source": [
    "#'죠스바'를 출력하시오\n",
    "soup.select('p#third')[0].text"
   ]
  },
  {
   "cell_type": "code",
   "execution_count": 44,
   "id": "0d401d92",
   "metadata": {},
   "outputs": [
    {
     "data": {
      "text/plain": [
       "' 맛동산 '"
      ]
     },
     "execution_count": 44,
     "metadata": {},
     "output_type": "execute_result"
    }
   ],
   "source": [
    "# '맛동산'을 출력하시오\n",
    "soup.select('p.sweet')[0].text"
   ]
  },
  {
   "cell_type": "code",
   "execution_count": 68,
   "id": "31f6eafa",
   "metadata": {
    "collapsed": true
   },
   "outputs": [
    {
     "name": "stdout",
     "output_type": "stream",
     "text": [
      "\n",
      "사전\n",
      "뉴스\n",
      "증권\n",
      "부동산\n",
      "지도\n",
      "VIBE\n",
      "책\n",
      "웹툰\n",
      "\n"
     ]
    }
   ],
   "source": [
    "#  네이버 메뉴 크롤링\n",
    "import requests\n",
    "from bs4 import BeautifulSoup\n",
    "\n",
    "res = requests.get('https://www.naver.com/')\n",
    "\n",
    "soup = BeautifulSoup(res.text,'html.parser')\n",
    "\n",
    "path = ('#NM_FAVORITE > div.group_nav > ul.list_nav.NM_FAVORITE_LIST')\n",
    "\n",
    "m = soup.select(path)\n",
    "\n",
    "for i in m:\n",
    "    print(i.text)\n",
    "\n"
   ]
  },
  {
   "cell_type": "code",
   "execution_count": null,
   "id": "d46be75e",
   "metadata": {},
   "outputs": [],
   "source": [
    "# 다음 - 빅데이터 - 뉴스\n",
    "# 제목 : [투데이 窓]빅데이터에서 미래를 읽는 통찰력\n",
    "# URL : http://v.media.daum.net/v/20220119020501044?f=o\n",
    "# summary"
   ]
  },
  {
   "cell_type": "code",
   "execution_count": null,
   "id": "9eb30378",
   "metadata": {},
   "outputs": [],
   "source": [
    "# 검색어를 입력 받은 후 해당 검색어로 다음 뉴스 페이지에서 검색한 결과의 제목, url, summary를 크롤링하시오\n",
    "# (url을 조사)\n",
    "# 함수"
   ]
  },
  {
   "cell_type": "code",
   "execution_count": null,
   "id": "3087b552",
   "metadata": {},
   "outputs": [],
   "source": [
    "# 키워드와 크롤링할 페이지수를 입력받은 후 다음 뉴스페이지에서 \n",
    "# 제목, URL, summry, 언론사, 시간을 크롤링 해서 출력하는 함수를 만드시오"
   ]
  },
  {
   "cell_type": "code",
   "execution_count": null,
   "id": "87356ba6",
   "metadata": {},
   "outputs": [],
   "source": [
    "html = \"\"\"\n",
    "<html>\n",
    "<head>\n",
    "    <title>The Dormouse's story</title>\n",
    "</head>\n",
    "<body>\n",
    "    <h1>this is h1 area</h1>\n",
    "    <h2>this is h2 area</h2>\n",
    "    <p class=\"title\">\n",
    "        <b>The Dormouse's story</b>\n",
    "    </p>\n",
    "    <p class=\"story\">\n",
    "        Once upon a time there were three little sisters\n",
    "        <a href=\"http://example.com/elsie\" class=\"sister\" id=\"link1\">Elsie</a>\n",
    "        <a href=\"http://example.com/lacie\" class=\"sister\" id=\"link2\">Lacie</a>\n",
    "        <a data-io=\"link3\" href=\"http://example.com/tillie\" class=\"brother\" id=\"link3\">Tillie</a>\n",
    "        <b> \n",
    "            test\n",
    "            <a href=\"http://example.com/test\" class=\"brother\" id=\"link4\">TEST</a>\n",
    "        </b>\n",
    "\n",
    "    </p>\n",
    "    <p class=\"story\">story...</p>\n",
    "</body>\n",
    "</html>\n",
    "\"\"\""
   ]
  },
  {
   "cell_type": "code",
   "execution_count": null,
   "id": "0c3bf640",
   "metadata": {},
   "outputs": [],
   "source": [
    "퀴즈..\n",
    "# 'The Dormouse's story'를 출력하시오..\n",
    "# 'Elsie'를 출력하시오.\n",
    "# \"http://example.com/lacie\"를 출력하시오\n",
    "# 'test'를 출력하시오\n",
    "# 'story...'를 출력하시오"
   ]
  },
  {
   "cell_type": "code",
   "execution_count": null,
   "id": "bcc7d718",
   "metadata": {},
   "outputs": [],
   "source": []
  },
  {
   "cell_type": "code",
   "execution_count": null,
   "id": "8e033ba4",
   "metadata": {},
   "outputs": [],
   "source": []
  }
 ],
 "metadata": {
  "kernelspec": {
   "display_name": "Python 3 (ipykernel)",
   "language": "python",
   "name": "python3"
  },
  "language_info": {
   "codemirror_mode": {
    "name": "ipython",
    "version": 3
   },
   "file_extension": ".py",
   "mimetype": "text/x-python",
   "name": "python",
   "nbconvert_exporter": "python",
   "pygments_lexer": "ipython3",
   "version": "3.9.7"
  }
 },
 "nbformat": 4,
 "nbformat_minor": 5
}
