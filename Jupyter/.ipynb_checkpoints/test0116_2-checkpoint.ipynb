{
 "cells": [
  {
   "cell_type": "code",
   "execution_count": 2,
   "id": "d39bd5dc",
   "metadata": {},
   "outputs": [],
   "source": [
    "# If\n",
    "\n",
    "## 임의 정수(n)를 입력받은 후 0부터 n까지의 정수 중 짝수들의 합을 구하시오.\n",
    "\n",
    "# names = {'mary':1520, 'tom':5214, 'park':5478, 'sams':5478}\n",
    "# 이름을 입력받은 후 names dict에 이름이 있으면 값을 출력하고,\n",
    "# 없으면 새로운 값 2000과 함께 dict에 'key':'value'로 추가\n",
    "# setdefault를 사용하지 않음..\n",
    "\n",
    "# 학점 출력.. 점수를 입력받은 후..\n",
    "# 90점 이상이면 \"당신은 'A'학점입니다\"를 출력\n",
    "# 80점 이상이면서 90점 미만이면 \"당신은 'B'학점입니다\"를 출력\n",
    "# 70점 이상이면서 80점 미만이면 \"당신은 'C'학점입니다\"를 출력\n",
    "# 70점 미만이면 \"당신은 D학점입니다\"를 출력"
   ]
  },
  {
   "cell_type": "code",
   "execution_count": 1,
   "id": "50945903",
   "metadata": {},
   "outputs": [
    {
     "name": "stdout",
     "output_type": "stream",
     "text": [
      "정수를 입력하세요5\n",
      "6\n"
     ]
    }
   ],
   "source": [
    "## 임의 정수(n)를 입력받은 후 0부터 n까지의 정수 중 짝수들의 합을 구하시오.\n",
    "n = int(input('정수를 입력하세요'))\n",
    "num = 0\n",
    "for i in range(n):\n",
    "    if i%2 == 0:\n",
    "        num += i\n",
    "\n",
    "print(num)"
   ]
  },
  {
   "cell_type": "code",
   "execution_count": 2,
   "id": "9cbab23d",
   "metadata": {},
   "outputs": [
    {
     "name": "stdout",
     "output_type": "stream",
     "text": [
      "이름을 입력하세요dic\n",
      "2000\n"
     ]
    }
   ],
   "source": [
    "# names = {'mary':1520, 'tom':5214, 'park':5478, 'sams':5478}\n",
    "# 이름을 입력받은 후 names dict에 이름이 있으면 값을 출력하고,\n",
    "# 없으면 새로운 값 2000과 함께 dict에 'key':'value'로 추가\n",
    "# setdefault를 사용하지 않음..\n",
    "\n",
    "names = {'mary':1520, 'tom':5214, 'park':5478, 'sams':5478}\n",
    "na = input('이름을 입력하세요')\n",
    "\n",
    "if na in names:\n",
    "    print(names[na])\n",
    "else:\n",
    "    names[na]=2000\n",
    "    print(names[na])"
   ]
  },
  {
   "cell_type": "code",
   "execution_count": 16,
   "id": "344100bd",
   "metadata": {},
   "outputs": [
    {
     "name": "stdout",
     "output_type": "stream",
     "text": [
      "점수를 입력하세요65\n",
      "당신은 'D'학점입니다\n"
     ]
    }
   ],
   "source": [
    "# 학점 출력.. 점수를 입력받은 후..\n",
    "# 90점 이상이면 \"당신은 'A'학점입니다\"를 출력\n",
    "# 80점 이상이면서 90점 미만이면 \"당신은 'B'학점입니다\"를 출력\n",
    "# 70점 이상이면서 80점 미만이면 \"당신은 'C'학점입니다\"를 출력\n",
    "# 70점 미만이면 \"당신은 D학점입니다\"를 출력\n",
    "\n",
    "score = int(input('점수를 입력하세요'))\n",
    "\n",
    "if score > 90:\n",
    "    print(\"당신은 'A'학점입니다\")\n",
    "elif 80 <= score < 90:\n",
    "    print(\"당신은 'B'학점입니다\")\n",
    "elif 70 <= score < 80:\n",
    "    print(\"당신은 'C'학점입니다\")\n",
    "else:\n",
    "    print(\"당신은 'D'학점입니다\")\n",
    "\n"
   ]
  },
  {
   "cell_type": "code",
   "execution_count": 19,
   "id": "dab1ec82",
   "metadata": {},
   "outputs": [],
   "source": [
    "# For\n",
    "\n",
    "# text = 'python is fun' # text의 character를 모음만 대문자로 전환해서 출력하세요. 참고) 영어모음 = ‘aeiou’\n",
    "\n",
    "# 위의 text의 문자를 index와 함께 출력하시오.\n",
    "\n",
    "# 1~20까지 수에서 짝수만 리스트에 담으세요.\n",
    "# => for문과 while문, list comprehension을 각각 활용\n",
    "\n",
    "# 1~10까지 정수를 출력하는 while문에서 continue와 break를 이용해서 3,4,5,6만 출력하도록 하시오.\n",
    "\n",
    "# x = ['a','b','c','d','e'], y = ['가','나','다','라','마'] 두 리스트의 원소들의 모든 조합을 아래와 같이 출력하시오. =>\n",
    "# [('a','가'), ('a','나'), ('a', '다') ... ('e','라'), ('e', '마')]\n",
    "\n",
    "# computational thinking에서 홀수인덱스만 리스트에 담으세요..\n",
    "\n",
    "# 점수를 5회 입력받은 후 평균을 출력하세요.\n",
    "\n",
    "# text = 'hello world'에서 각 문자를 인덱스와 함께 튜플로 묶어서 출력\n",
    "# (0, 'h'), (1, 'e') ...\n",
    "\n",
    "# 구구단을 출력하시오...\n",
    "\n",
    "        "
   ]
  },
  {
   "cell_type": "code",
   "execution_count": 33,
   "id": "2cda46f0",
   "metadata": {},
   "outputs": [
    {
     "name": "stdout",
     "output_type": "stream",
     "text": [
      "O,I,U,"
     ]
    },
    {
     "data": {
      "text/plain": [
       "'y'"
      ]
     },
     "execution_count": 33,
     "metadata": {},
     "output_type": "execute_result"
    }
   ],
   "source": [
    "# For\n",
    "\n",
    "# text = 'python is fun' # text의 character를 모음만 대문자로 전환해서 출력하세요. 참고) 영어모음 = ‘aeiou’\n",
    "\n",
    "text = 'python is fun'\n",
    "\n",
    "for i in text:\n",
    "    if i in 'aeiouAEIOU':\n",
    "        print(i.upper(), end=\",\")\n",
    "        \n",
    "text[1]"
   ]
  },
  {
   "cell_type": "code",
   "execution_count": 14,
   "id": "3a9fd51e",
   "metadata": {},
   "outputs": [
    {
     "ename": "ValueError",
     "evalue": "empty separator",
     "output_type": "error",
     "traceback": [
      "\u001b[1;31m---------------------------------------------------------------------------\u001b[0m",
      "\u001b[1;31mValueError\u001b[0m                                Traceback (most recent call last)",
      "\u001b[1;32m~\\AppData\\Local\\Temp/ipykernel_15604/3495018937.py\u001b[0m in \u001b[0;36m<module>\u001b[1;34m\u001b[0m\n\u001b[0;32m      4\u001b[0m \u001b[1;33m\u001b[0m\u001b[0m\n\u001b[0;32m      5\u001b[0m \u001b[0mli\u001b[0m\u001b[1;33m=\u001b[0m\u001b[1;33m[\u001b[0m\u001b[1;33m]\u001b[0m\u001b[1;33m\u001b[0m\u001b[1;33m\u001b[0m\u001b[0m\n\u001b[1;32m----> 6\u001b[1;33m \u001b[0mli\u001b[0m \u001b[1;33m=\u001b[0m \u001b[0mtext\u001b[0m\u001b[1;33m.\u001b[0m\u001b[0msplit\u001b[0m\u001b[1;33m(\u001b[0m\u001b[1;34m''\u001b[0m\u001b[1;33m)\u001b[0m\u001b[1;33m\u001b[0m\u001b[1;33m\u001b[0m\u001b[0m\n\u001b[0m\u001b[0;32m      7\u001b[0m \u001b[1;33m\u001b[0m\u001b[0m\n\u001b[0;32m      8\u001b[0m \u001b[1;32mfor\u001b[0m \u001b[0mi\u001b[0m \u001b[1;32min\u001b[0m \u001b[0mrange\u001b[0m\u001b[1;33m(\u001b[0m\u001b[0mtext\u001b[0m\u001b[1;33m)\u001b[0m\u001b[1;33m:\u001b[0m\u001b[1;33m\u001b[0m\u001b[1;33m\u001b[0m\u001b[0m\n",
      "\u001b[1;31mValueError\u001b[0m: empty separator"
     ]
    }
   ],
   "source": [
    "# 위의 text의 문자를 index와 함께 출력하시오.\n",
    "\n",
    "text = 'python is fun'\n",
    "\n",
    "li=[]\n",
    "li = text.split('')\n",
    "\n",
    "for i in range(text):\n",
    "    print(i,text[i])\n",
    "                 "
   ]
  },
  {
   "cell_type": "code",
   "execution_count": 15,
   "id": "2bc394bc",
   "metadata": {},
   "outputs": [
    {
     "name": "stdout",
     "output_type": "stream",
     "text": [
      "[0, 2, 4, 6, 8, 10, 12, 14, 16, 18]\n"
     ]
    }
   ],
   "source": [
    "# 1~20까지 수에서 짝수만 리스트에 담으세요.\n",
    "\n",
    "li = []\n",
    "\n",
    "for i in range(20):\n",
    "    if i%2 == 0:\n",
    "        li.append(i)\n",
    "    \n",
    "    \n",
    "print(li)"
   ]
  },
  {
   "cell_type": "code",
   "execution_count": 16,
   "id": "649dbd6b",
   "metadata": {},
   "outputs": [
    {
     "ename": "SyntaxError",
     "evalue": "invalid syntax (Temp/ipykernel_15604/3414523021.py, line 4)",
     "output_type": "error",
     "traceback": [
      "\u001b[1;36m  File \u001b[1;32m\"C:\\Users\\goejt\\AppData\\Local\\Temp/ipykernel_15604/3414523021.py\"\u001b[1;36m, line \u001b[1;32m4\u001b[0m\n\u001b[1;33m    li = (i while i < 21 )\u001b[0m\n\u001b[1;37m            ^\u001b[0m\n\u001b[1;31mSyntaxError\u001b[0m\u001b[1;31m:\u001b[0m invalid syntax\n"
     ]
    }
   ],
   "source": [
    "# => for문과 while문, list comprehension을 각각 활용\n",
    "li = (i for i in range(20))\n",
    "print(li)\n",
    "li = (i while i < 21 )\n",
    "print(li)"
   ]
  },
  {
   "cell_type": "code",
   "execution_count": 18,
   "id": "0d00f69a",
   "metadata": {},
   "outputs": [
    {
     "ename": "IndentationError",
     "evalue": "expected an indented block (Temp/ipykernel_15604/3996053978.py, line 13)",
     "output_type": "error",
     "traceback": [
      "\u001b[1;36m  File \u001b[1;32m\"C:\\Users\\goejt\\AppData\\Local\\Temp/ipykernel_15604/3996053978.py\"\u001b[1;36m, line \u001b[1;32m13\u001b[0m\n\u001b[1;33m    print(li1)\u001b[0m\n\u001b[1;37m              ^\u001b[0m\n\u001b[1;31mIndentationError\u001b[0m\u001b[1;31m:\u001b[0m expected an indented block\n"
     ]
    }
   ],
   "source": [
    "# 1~10까지 정수를 출력하는 while문에서 continue와 break를 이용해서 3,4,5,6만 출력하도록 하시오.\n",
    "i = 0\n",
    "li1=[]\n",
    "\n",
    "while i < 21:\n",
    "    if i%3 == 0:\n",
    "        li1.append(i)\n",
    "    elif i < 7:\n",
    "        continue\n",
    "    else:\n",
    "        \n",
    "        \n",
    "print(li1)\n",
    "    "
   ]
  },
  {
   "cell_type": "code",
   "execution_count": 23,
   "id": "6e1f6024",
   "metadata": {},
   "outputs": [
    {
     "ename": "TypeError",
     "evalue": "'list' object cannot be interpreted as an integer",
     "output_type": "error",
     "traceback": [
      "\u001b[1;31m---------------------------------------------------------------------------\u001b[0m",
      "\u001b[1;31mTypeError\u001b[0m                                 Traceback (most recent call last)",
      "\u001b[1;32m~\\AppData\\Local\\Temp/ipykernel_15604/1521467411.py\u001b[0m in \u001b[0;36m<module>\u001b[1;34m\u001b[0m\n\u001b[0;32m      5\u001b[0m \u001b[0my\u001b[0m \u001b[1;33m=\u001b[0m \u001b[1;33m[\u001b[0m\u001b[1;34m'가'\u001b[0m\u001b[1;33m,\u001b[0m\u001b[1;34m'나'\u001b[0m\u001b[1;33m,\u001b[0m\u001b[1;34m'다'\u001b[0m\u001b[1;33m,\u001b[0m\u001b[1;34m'라'\u001b[0m\u001b[1;33m,\u001b[0m\u001b[1;34m'마'\u001b[0m\u001b[1;33m]\u001b[0m\u001b[1;33m\u001b[0m\u001b[1;33m\u001b[0m\u001b[0m\n\u001b[0;32m      6\u001b[0m \u001b[1;33m\u001b[0m\u001b[0m\n\u001b[1;32m----> 7\u001b[1;33m \u001b[1;32mfor\u001b[0m \u001b[0mi\u001b[0m \u001b[1;32min\u001b[0m \u001b[0mrange\u001b[0m\u001b[1;33m(\u001b[0m\u001b[0mx\u001b[0m\u001b[1;33m)\u001b[0m\u001b[1;33m:\u001b[0m\u001b[1;33m\u001b[0m\u001b[1;33m\u001b[0m\u001b[0m\n\u001b[0m\u001b[0;32m      8\u001b[0m     \u001b[0mprint\u001b[0m\u001b[1;33m(\u001b[0m\u001b[0mx\u001b[0m\u001b[1;33m[\u001b[0m\u001b[0mi\u001b[0m\u001b[1;33m]\u001b[0m\u001b[1;33m,\u001b[0m\u001b[0my\u001b[0m\u001b[1;33m[\u001b[0m\u001b[0mi\u001b[0m\u001b[1;33m]\u001b[0m\u001b[1;33m)\u001b[0m\u001b[1;33m\u001b[0m\u001b[1;33m\u001b[0m\u001b[0m\n",
      "\u001b[1;31mTypeError\u001b[0m: 'list' object cannot be interpreted as an integer"
     ]
    }
   ],
   "source": [
    "# x = ['a','b','c','d','e'], y = ['가','나','다','라','마'] 두 리스트의 원소들의 모든 조합을 아래와 같이 출력하시오. =>\n",
    "# [('a','가'), ('a','나'), ('a', '다') ... ('e','라'), ('e', '마')]\n",
    "\n",
    "x = ['a','b','c','d','e']\n",
    "y = ['가','나','다','라','마']\n",
    "\n",
    "for i in range(x):\n",
    "    print(x[i],y[i])"
   ]
  },
  {
   "cell_type": "code",
   "execution_count": 25,
   "id": "023644c0",
   "metadata": {},
   "outputs": [
    {
     "ename": "NameError",
     "evalue": "name 'thinking' is not defined",
     "output_type": "error",
     "traceback": [
      "\u001b[1;31m---------------------------------------------------------------------------\u001b[0m",
      "\u001b[1;31mNameError\u001b[0m                                 Traceback (most recent call last)",
      "\u001b[1;32m~\\AppData\\Local\\Temp/ipykernel_15604/1520476113.py\u001b[0m in \u001b[0;36m<module>\u001b[1;34m\u001b[0m\n\u001b[0;32m      1\u001b[0m \u001b[1;31m# computational thinking에서 홀수인덱스만 리스트에 담으세요..\u001b[0m\u001b[1;33m\u001b[0m\u001b[1;33m\u001b[0m\u001b[0m\n\u001b[0;32m      2\u001b[0m \u001b[0ma\u001b[0m \u001b[1;33m=\u001b[0m \u001b[1;34m'thinking'\u001b[0m\u001b[1;33m\u001b[0m\u001b[1;33m\u001b[0m\u001b[0m\n\u001b[1;32m----> 3\u001b[1;33m \u001b[1;33m(\u001b[0m\u001b[1;33m(\u001b[0m\u001b[0mi\u001b[0m\u001b[1;33m%\u001b[0m\u001b[1;36m2\u001b[0m\u001b[1;33m==\u001b[0m\u001b[1;36m1\u001b[0m\u001b[1;33m)\u001b[0m \u001b[1;32mfor\u001b[0m \u001b[0mi\u001b[0m \u001b[1;32min\u001b[0m \u001b[0mthinking\u001b[0m\u001b[1;33m)\u001b[0m\u001b[1;33m\u001b[0m\u001b[1;33m\u001b[0m\u001b[0m\n\u001b[0m",
      "\u001b[1;31mNameError\u001b[0m: name 'thinking' is not defined"
     ]
    }
   ],
   "source": [
    "# computational thinking에서 홀수인덱스만 리스트에 담으세요..\n",
    "a = 'thinking'\n",
    "((i%2==1) for i in thinking)"
   ]
  },
  {
   "cell_type": "code",
   "execution_count": 27,
   "id": "547439b4",
   "metadata": {},
   "outputs": [
    {
     "name": "stdout",
     "output_type": "stream",
     "text": [
      "점수를 입력하세요10\n",
      "점수를 입력하세요10\n",
      "점수를 입력하세요10\n",
      "점수를 입력하세요10\n",
      "점수를 입력하세요10\n",
      "10.0\n"
     ]
    }
   ],
   "source": [
    "# 점수를 5회 입력받은 후 평균을 출력하세요.\n",
    "\n",
    "sum = 0\n",
    "for i in range(5):\n",
    "    score = int(input('점수를 입력하세요'))\n",
    "    sum += score\n",
    "print(sum/5)"
   ]
  },
  {
   "cell_type": "code",
   "execution_count": 33,
   "id": "eac450bb",
   "metadata": {},
   "outputs": [
    {
     "ename": "ValueError",
     "evalue": "empty separator",
     "output_type": "error",
     "traceback": [
      "\u001b[1;31m---------------------------------------------------------------------------\u001b[0m",
      "\u001b[1;31mValueError\u001b[0m                                Traceback (most recent call last)",
      "\u001b[1;32m~\\AppData\\Local\\Temp/ipykernel_15604/3430792007.py\u001b[0m in \u001b[0;36m<module>\u001b[1;34m\u001b[0m\n\u001b[0;32m      3\u001b[0m \u001b[1;33m\u001b[0m\u001b[0m\n\u001b[0;32m      4\u001b[0m \u001b[0mtext\u001b[0m \u001b[1;33m=\u001b[0m \u001b[1;34m'hello world'\u001b[0m\u001b[1;33m\u001b[0m\u001b[1;33m\u001b[0m\u001b[0m\n\u001b[1;32m----> 5\u001b[1;33m \u001b[0mli5\u001b[0m \u001b[1;33m=\u001b[0m \u001b[0mtext\u001b[0m\u001b[1;33m.\u001b[0m\u001b[0msplit\u001b[0m\u001b[1;33m(\u001b[0m\u001b[1;34m''\u001b[0m\u001b[1;33m)\u001b[0m\u001b[1;33m\u001b[0m\u001b[1;33m\u001b[0m\u001b[0m\n\u001b[0m\u001b[0;32m      6\u001b[0m \u001b[1;33m\u001b[0m\u001b[0m\n\u001b[0;32m      7\u001b[0m \u001b[1;32mfor\u001b[0m \u001b[0mi\u001b[0m \u001b[1;32min\u001b[0m \u001b[0mli5\u001b[0m\u001b[1;33m:\u001b[0m\u001b[1;33m\u001b[0m\u001b[1;33m\u001b[0m\u001b[0m\n",
      "\u001b[1;31mValueError\u001b[0m: empty separator"
     ]
    }
   ],
   "source": [
    "# text = 'hello world'에서 각 문자를 인덱스와 함께 튜플로 묶어서 출력\n",
    "# (0, 'h'), (1, 'e') ...\n",
    "\n",
    "text = 'hello world'\n",
    "li5 = text.split('')\n",
    "\n",
    "for i in li5:\n",
    "    print((i,li5[i]))"
   ]
  },
  {
   "cell_type": "code",
   "execution_count": 36,
   "id": "4793ff48",
   "metadata": {},
   "outputs": [
    {
     "ename": "SyntaxError",
     "evalue": "cannot assign to function call (Temp/ipykernel_15604/2957889543.py, line 2)",
     "output_type": "error",
     "traceback": [
      "\u001b[1;36m  File \u001b[1;32m\"C:\\Users\\goejt\\AppData\\Local\\Temp/ipykernel_15604/2957889543.py\"\u001b[1;36m, line \u001b[1;32m2\u001b[0m\n\u001b[1;33m    for int(i) in 10:\u001b[0m\n\u001b[1;37m        ^\u001b[0m\n\u001b[1;31mSyntaxError\u001b[0m\u001b[1;31m:\u001b[0m cannot assign to function call\n"
     ]
    }
   ],
   "source": [
    "# 구구단을 출력하시오...\n",
    "for int(i) in 10:\n",
    "    for int(j) in 10:\n",
    "        print('{} * {} = {}'.format(i,j,i*j))"
   ]
  },
  {
   "cell_type": "code",
   "execution_count": null,
   "id": "d7d4cefd",
   "metadata": {},
   "outputs": [],
   "source": [
    "Function\n",
    "\n",
    "# 매개변수 3개를 받고, 합계, 평균, 최대값을 각각 리턴하는 함수를 만들고 실행하시오.\n",
    "# 임의의 정수를 입력받은 후 절대값을 리턴하는 함수를 만들고 실행하시오.\n",
    "# 임의의 정수를 입력받은 후 0부터 임의의 정수까지의 홀수 합을 리턴하는 함수를 만들고 실행하시오.\n",
    "# 반지름을 입력받은 후 원의 면적을 리턴하는 함수를 구현하고 실행하시오. pi = 3.14, circle_area = (radius**2)*p"
   ]
  },
  {
   "cell_type": "code",
   "execution_count": null,
   "id": "f589184b",
   "metadata": {},
   "outputs": [],
   "source": []
  },
  {
   "cell_type": "code",
   "execution_count": null,
   "id": "ea6e2979",
   "metadata": {},
   "outputs": [],
   "source": []
  }
 ],
 "metadata": {
  "kernelspec": {
   "display_name": "Python 3 (ipykernel)",
   "language": "python",
   "name": "python3"
  },
  "language_info": {
   "codemirror_mode": {
    "name": "ipython",
    "version": 3
   },
   "file_extension": ".py",
   "mimetype": "text/x-python",
   "name": "python",
   "nbconvert_exporter": "python",
   "pygments_lexer": "ipython3",
   "version": "3.9.7"
  }
 },
 "nbformat": 4,
 "nbformat_minor": 5
}
