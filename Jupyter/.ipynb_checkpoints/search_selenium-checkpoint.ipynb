{
 "cells": [
  {
   "cell_type": "code",
   "execution_count": null,
   "id": "6032e65e",
   "metadata": {},
   "outputs": [],
   "source": [
    "#  네이버에 검색어 검색해서 기사 따오기"
   ]
  },
  {
   "cell_type": "code",
   "execution_count": null,
   "id": "f7b3612b",
   "metadata": {},
   "outputs": [],
   "source": [
    "import requests\n",
    "from bs4 import BeautifulSoup\n",
    "\n",
    "from selenium import webdriver\n",
    "from selenium.webdriver.common.keys import Keys"
   ]
  },
  {
   "cell_type": "code",
   "execution_count": 10,
   "id": "bf9a4c7a",
   "metadata": {},
   "outputs": [],
   "source": [
    "driver = webdriver.Chrome()"
   ]
  },
  {
   "cell_type": "code",
   "execution_count": 11,
   "id": "2e775c61",
   "metadata": {},
   "outputs": [],
   "source": [
    "driver.get(\"http://www.naver.com\")"
   ]
  },
  {
   "cell_type": "code",
   "execution_count": 12,
   "id": "3330ad86",
   "metadata": {
    "collapsed": true
   },
   "outputs": [
    {
     "name": "stderr",
     "output_type": "stream",
     "text": [
      "C:\\Users\\bitcamp\\AppData\\Local\\Temp/ipykernel_6372/3348887303.py:1: DeprecationWarning: find_element_by_* commands are deprecated. Please use find_element() instead\n",
      "  elem = driver.find_element_by_id('query')\n"
     ]
    }
   ],
   "source": [
    "elem = driver.find_element_by_id('query')"
   ]
  },
  {
   "cell_type": "code",
   "execution_count": 13,
   "id": "380cb237",
   "metadata": {},
   "outputs": [
    {
     "name": "stdout",
     "output_type": "stream",
     "text": [
      "검색어빅데이터\n"
     ]
    }
   ],
   "source": [
    "s = input('검색어')\n",
    "elem.send_keys(s)"
   ]
  },
  {
   "cell_type": "code",
   "execution_count": 16,
   "id": "cf9cf9ce",
   "metadata": {},
   "outputs": [
    {
     "ename": "WebDriverException",
     "evalue": "Message: chrome not reachable\n  (Session info: chrome=97.0.4692.71)\nStacktrace:\nBacktrace:\n\tOrdinal0 [0x0055FDC3+2555331]\n\tOrdinal0 [0x004F77F1+2127857]\n\tOrdinal0 [0x003F2CD0+1060048]\n\tOrdinal0 [0x003E7BE2+1014754]\n\tOrdinal0 [0x003E83E8+1016808]\n\tOrdinal0 [0x003E9C02+1022978]\n\tOrdinal0 [0x003E3AB9+998073]\n\tOrdinal0 [0x003F4040+1065024]\n\tOrdinal0 [0x00446DC2+1404354]\n\tOrdinal0 [0x00437976+1341814]\n\tOrdinal0 [0x004136B6+1193654]\n\tOrdinal0 [0x00414546+1197382]\n\tGetHandleVerifier [0x006F9622+1619522]\n\tGetHandleVerifier [0x007A882C+2336844]\n\tGetHandleVerifier [0x005F23E1+541697]\n\tGetHandleVerifier [0x005F1443+537699]\n\tOrdinal0 [0x004FD18E+2150798]\n\tOrdinal0 [0x00501518+2168088]\n\tOrdinal0 [0x00501660+2168416]\n\tOrdinal0 [0x0050B330+2208560]\n\tBaseThreadInitThunk [0x76ECFA29+25]\n\tRtlGetAppContainerNamedObjectPath [0x77017A9E+286]\n\tRtlGetAppContainerNamedObjectPath [0x77017A6E+238]\n",
     "output_type": "error",
     "traceback": [
      "\u001b[1;31m---------------------------------------------------------------------------\u001b[0m",
      "\u001b[1;31mWebDriverException\u001b[0m                        Traceback (most recent call last)",
      "\u001b[1;32m~\\AppData\\Local\\Temp/ipykernel_6372/2863394993.py\u001b[0m in \u001b[0;36m<module>\u001b[1;34m\u001b[0m\n\u001b[1;32m----> 1\u001b[1;33m \u001b[0melem\u001b[0m\u001b[1;33m.\u001b[0m\u001b[0msend_keys\u001b[0m\u001b[1;33m(\u001b[0m\u001b[0mKeys\u001b[0m\u001b[1;33m.\u001b[0m\u001b[0mRETURN\u001b[0m\u001b[1;33m)\u001b[0m\u001b[1;33m\u001b[0m\u001b[1;33m\u001b[0m\u001b[0m\n\u001b[0m\u001b[0;32m      2\u001b[0m \u001b[0mpath\u001b[0m \u001b[1;33m=\u001b[0m \u001b[1;34m'#lnb > div.lnb_group > div > ul > li:nth-child(4) > a'\u001b[0m\u001b[1;33m\u001b[0m\u001b[1;33m\u001b[0m\u001b[0m\n\u001b[0;32m      3\u001b[0m \u001b[0mdriver\u001b[0m\u001b[1;33m.\u001b[0m\u001b[0mfind_element_by_css_selector\u001b[0m\u001b[1;33m(\u001b[0m\u001b[0mpath\u001b[0m\u001b[1;33m)\u001b[0m\u001b[1;33m.\u001b[0m\u001b[0mclick\u001b[0m\u001b[1;33m(\u001b[0m\u001b[1;33m)\u001b[0m\u001b[1;33m\u001b[0m\u001b[1;33m\u001b[0m\u001b[0m\n",
      "\u001b[1;32m~\\Anaconda3\\lib\\site-packages\\selenium\\webdriver\\remote\\webelement.py\u001b[0m in \u001b[0;36msend_keys\u001b[1;34m(self, *value)\u001b[0m\n\u001b[0;32m    538\u001b[0m                 \u001b[0mvalue\u001b[0m \u001b[1;33m=\u001b[0m \u001b[1;34m'\\n'\u001b[0m\u001b[1;33m.\u001b[0m\u001b[0mjoin\u001b[0m\u001b[1;33m(\u001b[0m\u001b[0mremote_files\u001b[0m\u001b[1;33m)\u001b[0m\u001b[1;33m\u001b[0m\u001b[1;33m\u001b[0m\u001b[0m\n\u001b[0;32m    539\u001b[0m \u001b[1;33m\u001b[0m\u001b[0m\n\u001b[1;32m--> 540\u001b[1;33m         self._execute(Command.SEND_KEYS_TO_ELEMENT,\n\u001b[0m\u001b[0;32m    541\u001b[0m                       {'text': \"\".join(keys_to_typing(value)),\n\u001b[0;32m    542\u001b[0m                        'value': keys_to_typing(value)})\n",
      "\u001b[1;32m~\\Anaconda3\\lib\\site-packages\\selenium\\webdriver\\remote\\webelement.py\u001b[0m in \u001b[0;36m_execute\u001b[1;34m(self, command, params)\u001b[0m\n\u001b[0;32m    708\u001b[0m             \u001b[0mparams\u001b[0m \u001b[1;33m=\u001b[0m \u001b[1;33m{\u001b[0m\u001b[1;33m}\u001b[0m\u001b[1;33m\u001b[0m\u001b[1;33m\u001b[0m\u001b[0m\n\u001b[0;32m    709\u001b[0m         \u001b[0mparams\u001b[0m\u001b[1;33m[\u001b[0m\u001b[1;34m'id'\u001b[0m\u001b[1;33m]\u001b[0m \u001b[1;33m=\u001b[0m \u001b[0mself\u001b[0m\u001b[1;33m.\u001b[0m\u001b[0m_id\u001b[0m\u001b[1;33m\u001b[0m\u001b[1;33m\u001b[0m\u001b[0m\n\u001b[1;32m--> 710\u001b[1;33m         \u001b[1;32mreturn\u001b[0m \u001b[0mself\u001b[0m\u001b[1;33m.\u001b[0m\u001b[0m_parent\u001b[0m\u001b[1;33m.\u001b[0m\u001b[0mexecute\u001b[0m\u001b[1;33m(\u001b[0m\u001b[0mcommand\u001b[0m\u001b[1;33m,\u001b[0m \u001b[0mparams\u001b[0m\u001b[1;33m)\u001b[0m\u001b[1;33m\u001b[0m\u001b[1;33m\u001b[0m\u001b[0m\n\u001b[0m\u001b[0;32m    711\u001b[0m \u001b[1;33m\u001b[0m\u001b[0m\n\u001b[0;32m    712\u001b[0m     \u001b[1;32mdef\u001b[0m \u001b[0mfind_element\u001b[0m\u001b[1;33m(\u001b[0m\u001b[0mself\u001b[0m\u001b[1;33m,\u001b[0m \u001b[0mby\u001b[0m\u001b[1;33m=\u001b[0m\u001b[0mBy\u001b[0m\u001b[1;33m.\u001b[0m\u001b[0mID\u001b[0m\u001b[1;33m,\u001b[0m \u001b[0mvalue\u001b[0m\u001b[1;33m=\u001b[0m\u001b[1;32mNone\u001b[0m\u001b[1;33m)\u001b[0m\u001b[1;33m:\u001b[0m\u001b[1;33m\u001b[0m\u001b[1;33m\u001b[0m\u001b[0m\n",
      "\u001b[1;32m~\\Anaconda3\\lib\\site-packages\\selenium\\webdriver\\remote\\webdriver.py\u001b[0m in \u001b[0;36mexecute\u001b[1;34m(self, driver_command, params)\u001b[0m\n\u001b[0;32m    422\u001b[0m         \u001b[0mresponse\u001b[0m \u001b[1;33m=\u001b[0m \u001b[0mself\u001b[0m\u001b[1;33m.\u001b[0m\u001b[0mcommand_executor\u001b[0m\u001b[1;33m.\u001b[0m\u001b[0mexecute\u001b[0m\u001b[1;33m(\u001b[0m\u001b[0mdriver_command\u001b[0m\u001b[1;33m,\u001b[0m \u001b[0mparams\u001b[0m\u001b[1;33m)\u001b[0m\u001b[1;33m\u001b[0m\u001b[1;33m\u001b[0m\u001b[0m\n\u001b[0;32m    423\u001b[0m         \u001b[1;32mif\u001b[0m \u001b[0mresponse\u001b[0m\u001b[1;33m:\u001b[0m\u001b[1;33m\u001b[0m\u001b[1;33m\u001b[0m\u001b[0m\n\u001b[1;32m--> 424\u001b[1;33m             \u001b[0mself\u001b[0m\u001b[1;33m.\u001b[0m\u001b[0merror_handler\u001b[0m\u001b[1;33m.\u001b[0m\u001b[0mcheck_response\u001b[0m\u001b[1;33m(\u001b[0m\u001b[0mresponse\u001b[0m\u001b[1;33m)\u001b[0m\u001b[1;33m\u001b[0m\u001b[1;33m\u001b[0m\u001b[0m\n\u001b[0m\u001b[0;32m    425\u001b[0m             response['value'] = self._unwrap_value(\n\u001b[0;32m    426\u001b[0m                 response.get('value', None))\n",
      "\u001b[1;32m~\\Anaconda3\\lib\\site-packages\\selenium\\webdriver\\remote\\errorhandler.py\u001b[0m in \u001b[0;36mcheck_response\u001b[1;34m(self, response)\u001b[0m\n\u001b[0;32m    245\u001b[0m                 \u001b[0malert_text\u001b[0m \u001b[1;33m=\u001b[0m \u001b[0mvalue\u001b[0m\u001b[1;33m[\u001b[0m\u001b[1;34m'alert'\u001b[0m\u001b[1;33m]\u001b[0m\u001b[1;33m.\u001b[0m\u001b[0mget\u001b[0m\u001b[1;33m(\u001b[0m\u001b[1;34m'text'\u001b[0m\u001b[1;33m)\u001b[0m\u001b[1;33m\u001b[0m\u001b[1;33m\u001b[0m\u001b[0m\n\u001b[0;32m    246\u001b[0m             \u001b[1;32mraise\u001b[0m \u001b[0mexception_class\u001b[0m\u001b[1;33m(\u001b[0m\u001b[0mmessage\u001b[0m\u001b[1;33m,\u001b[0m \u001b[0mscreen\u001b[0m\u001b[1;33m,\u001b[0m \u001b[0mstacktrace\u001b[0m\u001b[1;33m,\u001b[0m \u001b[0malert_text\u001b[0m\u001b[1;33m)\u001b[0m  \u001b[1;31m# type: ignore[call-arg]  # mypy is not smart enough here\u001b[0m\u001b[1;33m\u001b[0m\u001b[1;33m\u001b[0m\u001b[0m\n\u001b[1;32m--> 247\u001b[1;33m         \u001b[1;32mraise\u001b[0m \u001b[0mexception_class\u001b[0m\u001b[1;33m(\u001b[0m\u001b[0mmessage\u001b[0m\u001b[1;33m,\u001b[0m \u001b[0mscreen\u001b[0m\u001b[1;33m,\u001b[0m \u001b[0mstacktrace\u001b[0m\u001b[1;33m)\u001b[0m\u001b[1;33m\u001b[0m\u001b[1;33m\u001b[0m\u001b[0m\n\u001b[0m\u001b[0;32m    248\u001b[0m \u001b[1;33m\u001b[0m\u001b[0m\n\u001b[0;32m    249\u001b[0m     \u001b[1;32mdef\u001b[0m \u001b[0m_value_or_default\u001b[0m\u001b[1;33m(\u001b[0m\u001b[0mself\u001b[0m\u001b[1;33m,\u001b[0m \u001b[0mobj\u001b[0m\u001b[1;33m:\u001b[0m \u001b[0mMapping\u001b[0m\u001b[1;33m[\u001b[0m\u001b[0m_KT\u001b[0m\u001b[1;33m,\u001b[0m \u001b[0m_VT\u001b[0m\u001b[1;33m]\u001b[0m\u001b[1;33m,\u001b[0m \u001b[0mkey\u001b[0m\u001b[1;33m:\u001b[0m \u001b[0m_KT\u001b[0m\u001b[1;33m,\u001b[0m \u001b[0mdefault\u001b[0m\u001b[1;33m:\u001b[0m \u001b[0m_VT\u001b[0m\u001b[1;33m)\u001b[0m \u001b[1;33m->\u001b[0m \u001b[0m_VT\u001b[0m\u001b[1;33m:\u001b[0m\u001b[1;33m\u001b[0m\u001b[1;33m\u001b[0m\u001b[0m\n",
      "\u001b[1;31mWebDriverException\u001b[0m: Message: chrome not reachable\n  (Session info: chrome=97.0.4692.71)\nStacktrace:\nBacktrace:\n\tOrdinal0 [0x0055FDC3+2555331]\n\tOrdinal0 [0x004F77F1+2127857]\n\tOrdinal0 [0x003F2CD0+1060048]\n\tOrdinal0 [0x003E7BE2+1014754]\n\tOrdinal0 [0x003E83E8+1016808]\n\tOrdinal0 [0x003E9C02+1022978]\n\tOrdinal0 [0x003E3AB9+998073]\n\tOrdinal0 [0x003F4040+1065024]\n\tOrdinal0 [0x00446DC2+1404354]\n\tOrdinal0 [0x00437976+1341814]\n\tOrdinal0 [0x004136B6+1193654]\n\tOrdinal0 [0x00414546+1197382]\n\tGetHandleVerifier [0x006F9622+1619522]\n\tGetHandleVerifier [0x007A882C+2336844]\n\tGetHandleVerifier [0x005F23E1+541697]\n\tGetHandleVerifier [0x005F1443+537699]\n\tOrdinal0 [0x004FD18E+2150798]\n\tOrdinal0 [0x00501518+2168088]\n\tOrdinal0 [0x00501660+2168416]\n\tOrdinal0 [0x0050B330+2208560]\n\tBaseThreadInitThunk [0x76ECFA29+25]\n\tRtlGetAppContainerNamedObjectPath [0x77017A9E+286]\n\tRtlGetAppContainerNamedObjectPath [0x77017A6E+238]\n"
     ]
    }
   ],
   "source": [
    "elem.send_keys(Keys.RETURN)\n",
    "path = '#lnb > div.lnb_group > div > ul > li:nth-child(4) > a'\n",
    "driver.find_element_by_css_selector(path).click()\n"
   ]
  },
  {
   "cell_type": "code",
   "execution_count": 45,
   "id": "3dd8f294",
   "metadata": {
    "collapsed": true
   },
   "outputs": [
    {
     "data": {
      "text/plain": [
       "[<li class=\"bx\" id=\"sp_nws1\"> <div class=\"news_wrap api_ani_send\"> <div class=\"news_area\"> <div class=\"news_info\"> <div class=\"api_save_group _keep_wrap\"> <a aria-pressed=\"false\" class=\"btn_save _keep_trigger\" data-url=\"http://www.womennews.co.kr/news/articleView.html?idxno=219536\" href=\"#\" onclick=\"tCR('a=nws*h.kep&amp;r=1&amp;i=88000589_000000000000000000093459&amp;u=javascript'); return false;\" role=\"button\"><i class=\"spnew ico_save\">문서 저장하기</i></a> <div class=\"api_ly_save _keep_save_layer\"> <a class=\"spnew_af item item_save _keep_save\" data-cr-off=\"a=nws*h.kepoff&amp;r=1&amp;i=88000589_000000000000000000093459&amp;u=javascript\" data-cr-on=\"a=nws*h.kepon&amp;r=1&amp;i=88000589_000000000000000000093459&amp;u=javascript\" href=\"#\" role=\"button\">Keep에 저장</a> <a class=\"spnew_af item item_quick\" href=\"https://keep.naver.com/\" onclick=\"return goOtherCR(this,'a=nws*h.kephome&amp;r=1&amp;i=88000589_000000000000000000093459&amp;u='+urlencode(this.href));\" target=\"_blank\">Keep 바로가기</a> </div></div><div class=\"info_group\"> <a class=\"info press\" href=\"http://www.womennews.co.kr/\" onclick=\"return goOtherCR(this, 'a=nws*h.prof&amp;r=1&amp;i=88000589_000000000000000000093459&amp;g=310.0000093459&amp;u='+urlencode(this.href));\" target=\"_blank\"><span class=\"thumb_box\"><img alt=\"\" class=\"thumb\" height=\"20\" onerror=\"this.src='data:image/gif;base64,R0lGODlhAQABAIAAAAAAAP///yH5BAEAAAAALAAAAAABAAEAAAIBRAA7';this.className='thumb bg_default_press'\" src=\"https://search.pstatic.net/common/?src=https%3A%2F%2Fmimgnews.pstatic.net%2Fimage%2Fupload%2Foffice_logo%2F310%2F2018%2F10%2F29%2Flogo_310_18_20181029102729.jpg&amp;type=f54_54&amp;expire=24&amp;refresh=true\" width=\"20\"/></span>여성신문<i class=\"spnew ico_pick\">언론사 선정</i></a><span class=\"info\">6시간 전</span><a class=\"info\" href=\"https://news.naver.com/main/read.naver?mode=LSD&amp;mid=sec&amp;sid1=103&amp;oid=310&amp;aid=0000093459\" onclick=\"return goOtherCR(this, 'a=nws*h.nav&amp;r=1&amp;i=88000589_000000000000000000093459&amp;u='+urlencode(this.href));\" target=\"_blank\">네이버뉴스</a> </div></div><a class=\"news_tit\" href=\"http://www.womennews.co.kr/news/articleView.html?idxno=219536\" onclick=\"return goOtherCR(this, 'a=nws*h.tit&amp;r=1&amp;i=88000589_000000000000000000093459&amp;g=310.0000093459&amp;u='+urlencode(this.href));\" target=\"_blank\" title=\"빅데이터로 범죄 막는다...서초구 '예측범죄지도' 도입\"><mark>빅데이터</mark>로 범죄 막는다...서초구 '예측범죄지도' 도입</a> <div class=\"news_dsc\"> <div class=\"dsc_wrap\"> <a class=\"api_txt_lines dsc_txt_wrap\" href=\"http://www.womennews.co.kr/news/articleView.html?idxno=219536\" onclick=\"return goOtherCR(this, 'a=nws*h.body&amp;r=1&amp;i=88000589_000000000000000000093459&amp;g=310.0000093459&amp;u='+urlencode(this.href));\" target=\"_blank\"><mark>빅데이터</mark>로 위험지역 예측 우범 지역 핀셋 관리 서울 서초구가 CCTV 사건‧사고 데이터를 분석, 범죄발생 가능성이 높은 지역을 <mark>빅데이터</mark>로 예측해 시간대별 집중 감시하는 '예측범죄지도(Predictive Crime Map) 시스템'을...</a> </div></div></div><a class=\"dsc_thumb\" href=\"http://www.womennews.co.kr/news/articleView.html?idxno=219536\" onclick=\"return goOtherCR(this, 'a=nws*h.img&amp;r=1&amp;i=88000589_000000000000000000093459&amp;g=310.0000093459&amp;u='+urlencode(this.href));\" target=\"_blank\"><img alt=\"빅데이터로 범죄 막는\" class=\"thumb api_get\" height=\"90\" onerror=\"this.parentNode.style.display='none';\" src=\"https://search.pstatic.net/common/?src=https%3A%2F%2Fimgnews.pstatic.net%2Fimage%2Forigin%2F310%2F2022%2F01%2F20%2F93459.jpg&amp;type=ff264_180&amp;expire=2&amp;refresh=true\" width=\"132\"/></a> </div><div class=\"news_cluster\"> <ul class=\"list_cluster\"> <li class=\"sub_bx\"> <span class=\"sub_wrap\"> <span class=\"sub_area\"> <cite class=\"sub_txt press\" title=\"국민일보\">국민일보</cite><span class=\"sub_txt\">15시간 전</span><a class=\"sub_txt\" href=\"https://news.naver.com/main/read.naver?mode=LSD&amp;mid=sec&amp;sid1=102&amp;oid=005&amp;aid=0001500082\" onclick=\"return goOtherCR(this, 'a=nws*c.nav&amp;r=2&amp;i=8800006F_000000000000000001500082&amp;u='+urlencode(this.href));\" target=\"_blank\">네이버뉴스</a> </span><a class=\"elss sub_tit\" href=\"http://news.kmib.co.kr/article/view.asp?arcid=0924228312&amp;code=11131400&amp;cp=nv\" onclick=\"return goOtherCR(this, 'a=nws*c.tit&amp;r=2&amp;i=8800006F_000000000000000001500082&amp;g=005.0001500082&amp;u='+urlencode(this.href));\" target=\"_blank\" title=\"빅데이터로 범죄 예방한다… 서초구 ‘예측범죄지도’ 도입\"><mark>빅데이터</mark>로 범죄 예방한다… 서초구 ‘예측범죄지도’ 도입</a> </span></li> </ul></div></li>,\n",
       " <li class=\"bx\" id=\"sp_nws3\"> <div class=\"news_wrap api_ani_send\"> <div class=\"news_area\"> <div class=\"news_info\"> <div class=\"api_save_group _keep_wrap\"> <a aria-pressed=\"false\" class=\"btn_save _keep_trigger\" data-url=\"http://www.kdpress.co.kr/news/articleView.html?idxno=110162\" href=\"#\" onclick=\"tCR('a=nws*b.kep&amp;r=3&amp;i=8819br2y_000000000000000000012551&amp;u=javascript'); return false;\" role=\"button\"><i class=\"spnew ico_save\">문서 저장하기</i></a> <div class=\"api_ly_save _keep_save_layer\"> <a class=\"spnew_af item item_save _keep_save\" data-cr-off=\"a=nws*b.kepoff&amp;r=3&amp;i=8819br2y_000000000000000000012551&amp;u=javascript\" data-cr-on=\"a=nws*b.kepon&amp;r=3&amp;i=8819br2y_000000000000000000012551&amp;u=javascript\" href=\"#\" role=\"button\">Keep에 저장</a> <a class=\"spnew_af item item_quick\" href=\"https://keep.naver.com/\" onclick=\"return goOtherCR(this,'a=nws*b.kephome&amp;r=3&amp;i=8819br2y_000000000000000000012551&amp;u='+urlencode(this.href));\" target=\"_blank\">Keep 바로가기</a> </div></div><div class=\"info_group\"> <a class=\"info press\" href=\"http://www.kdpress.co.kr\" onclick=\"return goOtherCR(this, 'a=nws*b.prof&amp;r=3&amp;i=8819br2y_000000000000000000012551&amp;g=5792.0000012551&amp;u='+urlencode(this.href));\" target=\"_blank\"><span class=\"thumb_box\"><img alt=\"\" class=\"thumb bg_default_press\" height=\"20\" onerror=\"this.src='data:image/gif;base64,R0lGODlhAQABAIAAAAAAAP///yH5BAEAAAAALAAAAAABAAEAAAIBRAA7';this.className='thumb bg_default_press'\" src=\"data:image/gif;base64,R0lGODlhAQABAIAAAAAAAP///yH5BAEAAAAALAAAAAABAAEAAAIBRAA7\" width=\"20\"/></span>데일리경제</a><span class=\"info\">3시간 전</span> </div></div><a class=\"news_tit\" href=\"http://www.kdpress.co.kr/news/articleView.html?idxno=110162\" onclick=\"return goOtherCR(this, 'a=nws*b.tit&amp;r=3&amp;i=8819br2y_000000000000000000012551&amp;g=5792.0000012551&amp;u='+urlencode(this.href));\" target=\"_blank\" title=\"스탁엑스(StockX), 빅데이터 통한 '2022현재 문화 지수' 발표\">스탁엑스(StockX), <mark>빅데이터</mark> 통한 '2022현재 문화 지수' 발표</a> <div class=\"news_dsc\"> <div class=\"dsc_wrap\"> <a class=\"api_txt_lines dsc_txt_wrap\" href=\"http://www.kdpress.co.kr/news/articleView.html?idxno=110162\" onclick=\"return goOtherCR(this, 'a=nws*b.body&amp;r=3&amp;i=8819br2y_000000000000000000012551&amp;g=5792.0000012551&amp;u='+urlencode(this.href));\" target=\"_blank\">스탁엑스(StockX)는 이러한 <mark>빅 데이터</mark>를 통해 '빅 팩트(Big Facts)'란 이름의 보고서를 주기적으로 발표하고 있으며 2022년 상반기에도 새로운 통계 자료 발표를 준비하고 있다.</a> </div></div></div><a class=\"dsc_thumb\" href=\"http://www.kdpress.co.kr/news/articleView.html?idxno=110162\" onclick=\"return goOtherCR(this, 'a=nws*b.img&amp;r=3&amp;i=8819br2y_000000000000000000012551&amp;g=5792.0000012551&amp;u='+urlencode(this.href));\" target=\"_blank\"><img alt=\"스탁엑스(StockX), 빅\" class=\"thumb api_get\" height=\"90\" onerror=\"this.parentNode.style.display='none';\" src=\"https://search.pstatic.net/common/?src=https%3A%2F%2Fimgnews.pstatic.net%2Fimage%2Forigin%2F5792%2F2022%2F01%2F20%2F12551.jpg&amp;type=ofullfill264_180_gray&amp;expire=2&amp;refresh=true\" width=\"132\"/></a> </div><div class=\"news_cluster\"> <ul class=\"list_cluster\"> <li class=\"sub_bx\"> <span class=\"sub_wrap\"> <span class=\"sub_area\"> <cite class=\"sub_txt press\" title=\"세계비즈\">세계비즈</cite><span class=\"sub_txt\">3시간 전</span> </span><a class=\"elss sub_tit\" href=\"http://www.segyebiz.com/newsView/20220120514605?OutUrl=naver\" onclick=\"return goOtherCR(this, 'a=nws*d.tit&amp;r=4&amp;i=881844a5_000000000000000000053675&amp;g=5653.0000053675&amp;u='+urlencode(this.href));\" target=\"_blank\" title=\"스탁엑스(StockX), 빅데이터 통한 ‘2022현재 문화 지수’ 공개\">스탁엑스(StockX), <mark>빅데이터</mark> 통한 ‘2022현재 문화 지수’ 공개</a> </span></li> <li class=\"sub_bx\"> <span class=\"sub_wrap\"> <span class=\"sub_area\"> <cite class=\"sub_txt press\" title=\"아시아경제\">아시아경제</cite><span class=\"sub_txt\">4시간 전</span><a class=\"sub_txt\" href=\"https://news.naver.com/main/read.naver?mode=LSD&amp;mid=sec&amp;sid1=101&amp;oid=277&amp;aid=0005033478\" onclick=\"return goOtherCR(this, 'a=nws*c.nav&amp;r=5&amp;i=88000385_000000000000000005033478&amp;u='+urlencode(this.href));\" target=\"_blank\">네이버뉴스</a> </span><a class=\"elss sub_tit\" href=\"https://view.asiae.co.kr/article/2022012014504032243\" onclick=\"return goOtherCR(this, 'a=nws*c.tit&amp;r=5&amp;i=88000385_000000000000000005033478&amp;g=277.0005033478&amp;u='+urlencode(this.href));\" target=\"_blank\" title=\"글로벌 리셀 플랫폼 스탁엑스(StockX), 빅데이터 통한 ‘2022현재 문화 지수’ 발표\">글로벌 리셀 플랫폼 스탁엑스(StockX), <mark>빅데이터</mark> 통한 ‘2022현재 문화 지수’...</a> </span></li> </ul></div></li>,\n",
       " <li class=\"bx\" id=\"sp_nws6\"> <div class=\"news_wrap api_ani_send\"> <div class=\"news_area\"> <div class=\"news_info\"> <div class=\"api_save_group _keep_wrap\"> <a aria-pressed=\"false\" class=\"btn_save _keep_trigger\" data-url=\"https://www.news1.kr/articles/?4560637\" href=\"#\" onclick=\"tCR('a=nws*e.kep&amp;r=6&amp;i=08138263_000000000000000005856573&amp;u=javascript'); return false;\" role=\"button\"><i class=\"spnew ico_save\">문서 저장하기</i></a> <div class=\"api_ly_save _keep_save_layer\"> <a class=\"spnew_af item item_save _keep_save\" data-cr-off=\"a=nws*e.kepoff&amp;r=6&amp;i=08138263_000000000000000005856573&amp;u=javascript\" data-cr-on=\"a=nws*e.kepon&amp;r=6&amp;i=08138263_000000000000000005856573&amp;u=javascript\" href=\"#\" role=\"button\">Keep에 저장</a> <a class=\"spnew_af item item_quick\" href=\"https://keep.naver.com/\" onclick=\"return goOtherCR(this,'a=nws*e.kephome&amp;r=6&amp;i=08138263_000000000000000005856573&amp;u='+urlencode(this.href));\" target=\"_blank\">Keep 바로가기</a> </div></div><div class=\"info_group\"> <a class=\"info press\" href=\"http://news1.kr/\" onclick=\"return goOtherCR(this, 'a=nws*e.prof&amp;r=6&amp;i=08138263_000000000000000005856573&amp;g=421.0005856573&amp;u='+urlencode(this.href));\" target=\"_blank\"><span class=\"thumb_box\"><img alt=\"\" class=\"thumb\" height=\"20\" onerror=\"this.src='data:image/gif;base64,R0lGODlhAQABAIAAAAAAAP///yH5BAEAAAAALAAAAAABAAEAAAIBRAA7';this.className='thumb bg_default_press'\" src=\"https://search.pstatic.net/common/?src=https%3A%2F%2Fmimgnews.pstatic.net%2Fimage%2Fupload%2Foffice_logo%2F421%2F2017%2F01%2F05%2Flogo_421_18_20170105111205.png&amp;type=f54_54&amp;expire=24&amp;refresh=true\" width=\"20\"/></span>뉴스1</a><span class=\"info\">7시간 전</span><a class=\"info\" href=\"https://news.naver.com/main/read.naver?mode=LSD&amp;mid=sec&amp;sid1=102&amp;oid=421&amp;aid=0005856573\" onclick=\"return goOtherCR(this, 'a=nws*e.nav&amp;r=6&amp;i=08138263_000000000000000005856573&amp;u='+urlencode(this.href));\" target=\"_blank\">네이버뉴스</a> </div></div><a class=\"news_tit\" href=\"https://www.news1.kr/articles/?4560637\" onclick=\"return goOtherCR(this, 'a=nws*e.tit&amp;r=6&amp;i=08138263_000000000000000005856573&amp;g=421.0005856573&amp;u='+urlencode(this.href));\" target=\"_blank\" title=\"빅데이터·가상현실…온라인으로 첨단분야 인재 양성 확대한다\"><mark>빅데이터</mark>·가상현실…온라인으로 첨단분야 인재 양성 확대한다</a> <div class=\"news_dsc\"> <div class=\"dsc_wrap\"> <a class=\"api_txt_lines dsc_txt_wrap\" href=\"https://www.news1.kr/articles/?4560637\" onclick=\"return goOtherCR(this, 'a=nws*e.body&amp;r=6&amp;i=08138263_000000000000000005856573&amp;g=421.0005856573&amp;u='+urlencode(this.href));\" target=\"_blank\"><mark>빅데이터</mark>, 드론, 가상·증강현실 등 첨단 신기술 분야 지식과 직무 교육을 온라인으로 받을 수 있는 과정이... 지난해에는 드론, 가상·증강현실, <mark>빅데이터</mark>, 대체에너지 분야가 추가됐다. 올해는 4개 분야를 신규 선정한다....</a> </div></div></div><a class=\"dsc_thumb\" href=\"https://www.news1.kr/articles/?4560637\" onclick=\"return goOtherCR(this, 'a=nws*e.img&amp;r=6&amp;i=08138263_000000000000000005856573&amp;g=421.0005856573&amp;u='+urlencode(this.href));\" target=\"_blank\"><img alt=\"빅데이터·가상현실…\" class=\"thumb api_get\" height=\"90\" onerror=\"this.parentNode.style.display='none';\" src=\"https://search.pstatic.net/common/?src=https%3A%2F%2Fimgnews.pstatic.net%2Fimage%2Forigin%2F421%2F2022%2F01%2F20%2F5856573.jpg&amp;type=ff264_180&amp;expire=2&amp;refresh=true\" width=\"132\"/></a> </div></li>,\n",
       " <li class=\"bx\" id=\"sp_nws7\"> <div class=\"news_wrap api_ani_send\"> <div class=\"news_area\"> <div class=\"news_info\"> <div class=\"api_save_group _keep_wrap\"> <a aria-pressed=\"false\" class=\"btn_save _keep_trigger\" data-url=\"http://www.newsis.com/view/?id=NISX20220119_0001729362&amp;cID=10807&amp;pID=10800\" href=\"#\" onclick=\"tCR('a=nws*a.kep&amp;r=7&amp;i=88000127_000000000000000010952746&amp;u=javascript'); return false;\" role=\"button\"><i class=\"spnew ico_save\">문서 저장하기</i></a> <div class=\"api_ly_save _keep_save_layer\"> <a class=\"spnew_af item item_save _keep_save\" data-cr-off=\"a=nws*a.kepoff&amp;r=7&amp;i=88000127_000000000000000010952746&amp;u=javascript\" data-cr-on=\"a=nws*a.kepon&amp;r=7&amp;i=88000127_000000000000000010952746&amp;u=javascript\" href=\"#\" role=\"button\">Keep에 저장</a> <a class=\"spnew_af item item_quick\" href=\"https://keep.naver.com/\" onclick=\"return goOtherCR(this,'a=nws*a.kephome&amp;r=7&amp;i=88000127_000000000000000010952746&amp;u='+urlencode(this.href));\" target=\"_blank\">Keep 바로가기</a> </div></div> <div class=\"info_group\"> <a class=\"info press\" href=\"http://www.newsis.com\" onclick=\"return goOtherCR(this, 'a=nws*a.prof&amp;r=7&amp;i=88000127_000000000000000010952746&amp;g=003.0010952746&amp;u='+urlencode(this.href));\" target=\"_blank\"><span class=\"thumb_box\"><img alt=\"\" class=\"thumb\" height=\"20\" onerror=\"this.src='data:image/gif;base64,R0lGODlhAQABAIAAAAAAAP///yH5BAEAAAAALAAAAAABAAEAAAIBRAA7';this.className='thumb bg_default_press'\" src=\"https://search.pstatic.net/common/?src=https%3A%2F%2Fmimgnews.pstatic.net%2Fimage%2Fupload%2Foffice_logo%2F003%2F2019%2F02%2F19%2Flogo_003_18_20190219111719.jpg&amp;type=f54_54&amp;expire=24&amp;refresh=true\" width=\"20\"/></span>뉴시스</a><span class=\"info\">1일 전</span><a class=\"info\" href=\"https://news.naver.com/main/read.naver?mode=LSD&amp;mid=sec&amp;sid1=102&amp;oid=003&amp;aid=0010952746\" onclick=\"return goOtherCR(this, 'a=nws*a.nav&amp;r=7&amp;i=88000127_000000000000000010952746&amp;u='+urlencode(this.href));\" target=\"_blank\">네이버뉴스</a> </div></div><a class=\"news_tit\" href=\"http://www.newsis.com/view/?id=NISX20220119_0001729362&amp;cID=10807&amp;pID=10800\" onclick=\"return goOtherCR(this, 'a=nws*a.tit&amp;r=7&amp;i=88000127_000000000000000010952746&amp;g=003.0010952746&amp;u='+urlencode(this.href));\" target=\"_blank\" title=\"대전시, 지역사회건강지도 빅데이터 시스템 구축\">대전시, 지역사회건강지도 <mark>빅데이터</mark> 시스템 구축</a> <div class=\"news_dsc\"> <div class=\"dsc_wrap\"> <a class=\"api_txt_lines dsc_txt_wrap\" href=\"http://www.newsis.com/view/?id=NISX20220119_0001729362&amp;cID=10807&amp;pID=10800\" onclick=\"return goOtherCR(this, 'a=nws*a.body&amp;r=7&amp;i=88000127_000000000000000010952746&amp;g=003.0010952746&amp;u='+urlencode(this.href));\" target=\"_blank\">기사내용 요약흡연·음주·정신건강 등 주요지표 10개 영역 데이터 시각화 1월 중으로 대전시 홈페이지 통해 공개 예정 대전시는 2010년부터 2020년까지 11년간의 지역사회건강조사 <mark>빅데이터</mark>를 활용하여 지역사회건강지도를...</a> </div></div></div><a class=\"dsc_thumb\" href=\"http://www.newsis.com/view/?id=NISX20220119_0001729362&amp;cID=10807&amp;pID=10800\" onclick=\"return goOtherCR(this, 'a=nws*a.img&amp;r=7&amp;i=88000127_000000000000000010952746&amp;g=003.0010952746&amp;u='+urlencode(this.href));\" target=\"_blank\"><img alt=\"대전시, 지역사회건강\" class=\"thumb api_get\" height=\"90\" onerror=\"this.parentNode.style.display='none';\" src=\"https://search.pstatic.net/common/?src=https%3A%2F%2Fimgnews.pstatic.net%2Fimage%2Forigin%2F003%2F2022%2F01%2F19%2F10952746.jpg&amp;type=ff264_180&amp;expire=2&amp;refresh=true\" width=\"132\"/></a> </div><div class=\"news_cluster\"> <ul class=\"list_cluster\"> <li class=\"sub_bx\"> <span class=\"sub_wrap\"> <span class=\"sub_area\"> <cite class=\"sub_txt press\" title=\"노컷뉴스\">노컷뉴스</cite><span class=\"sub_txt\">1일 전</span><a class=\"sub_txt\" href=\"https://news.naver.com/main/read.naver?mode=LSD&amp;mid=sec&amp;sid1=102&amp;oid=079&amp;aid=0003599026\" onclick=\"return goOtherCR(this, 'a=nws*c.nav&amp;r=8&amp;i=88000112_000000000000000003599026&amp;u='+urlencode(this.href));\" target=\"_blank\">네이버뉴스</a> </span><a class=\"elss sub_tit\" href=\"https://www.nocutnews.co.kr/news/5692818\" onclick=\"return goOtherCR(this, 'a=nws*c.tit&amp;r=8&amp;i=88000112_000000000000000003599026&amp;g=079.0003599026&amp;u='+urlencode(this.href));\" target=\"_blank\" title=\"대전시, 빅데이터 활용 지역사회건강지도 구축\">대전시, <mark>빅데이터</mark> 활용 지역사회건강지도 구축</a> </span></li> <li class=\"sub_bx\"> <span class=\"sub_wrap\"> <span class=\"sub_area\"> <cite class=\"sub_txt press\" title=\"파이낸셜뉴스\">파이낸셜뉴스</cite><span class=\"sub_txt\">1일 전</span><a class=\"sub_txt\" href=\"https://news.naver.com/main/read.naver?mode=LSD&amp;mid=sec&amp;sid1=102&amp;oid=014&amp;aid=0004774532\" onclick=\"return goOtherCR(this, 'a=nws*c.nav&amp;r=9&amp;i=880000FF_000000000000000004774532&amp;u='+urlencode(this.href));\" target=\"_blank\">네이버뉴스</a> </span><a class=\"elss sub_tit\" href=\"http://www.fnnews.com/news/202201190829412057\" onclick=\"return goOtherCR(this, 'a=nws*c.tit&amp;r=9&amp;i=880000FF_000000000000000004774532&amp;g=014.0004774532&amp;u='+urlencode(this.href));\" target=\"_blank\" title=\"대전시, 지역사회건강지도 빅데이터 시스템 구축\">대전시, 지역사회건강지도 <mark>빅데이터</mark> 시스템 구축</a> </span></li> <li class=\"sub_bx\"> <span class=\"sub_wrap\"> <span class=\"sub_area\"> <cite class=\"sub_txt press\" title=\"더팩트\">더팩트</cite><span class=\"sub_txt\">1일 전</span><a class=\"sub_txt\" href=\"https://news.naver.com/main/read.naver?mode=LSD&amp;mid=sec&amp;sid1=102&amp;oid=629&amp;aid=0000128161\" onclick=\"return goOtherCR(this, 'a=nws*c.nav&amp;r=10&amp;i=881999s8_000000000000000000128161&amp;u='+urlencode(this.href));\" target=\"_blank\">네이버뉴스</a> </span><a class=\"elss sub_tit\" href=\"http://news.tf.co.kr/read/national/1913430.htm\" onclick=\"return goOtherCR(this, 'a=nws*c.tit&amp;r=10&amp;i=881999s8_000000000000000000128161&amp;g=629.0000128161&amp;u='+urlencode(this.href));\" target=\"_blank\" title=\"대전시, 빅데이터 활용 '지역사회건강지도' 구축\">대전시, <mark>빅데이터</mark> 활용 '지역사회건강지도' 구축</a> </span></li> <li class=\"sub_bx\"> <span class=\"sub_wrap\"> <span class=\"sub_area\"> <cite class=\"sub_txt press\" title=\"데일리한국\">데일리한국</cite><span class=\"sub_txt\">1일 전</span> </span><a class=\"elss sub_tit\" href=\"https://daily.hankooki.com/lpage/society/202201/dh20220119154852148500.htm?s_ref=nv\" onclick=\"return goOtherCR(this, 'a=nws*d.tit&amp;r=11&amp;i=88155e6a_000000000000000000384425&amp;g=5358.0000384425&amp;u='+urlencode(this.href));\" target=\"_blank\" title=\"대전시, 지역사회건강지도 빅데이터 시스템 구축\">대전시, 지역사회건강지도 <mark>빅데이터</mark> 시스템 구축</a> </span></li> </ul></div><a class=\"news_more\" href=\"?where=news&amp;sm=tab_tnw&amp;query=%EB%B9%85%EB%8D%B0%EC%9D%B4%ED%84%B0&amp;sort=0&amp;photo=0&amp;field=0&amp;pd=0&amp;ds=&amp;de=&amp;mynews=0&amp;office_type=0&amp;office_section_code=0&amp;news_office_checked=&amp;related=1&amp;docid=0030010952746&amp;nso=so:r,p:all,a:all\" onclick=\"return goOtherCR(this, 'a=nws*r.more&amp;u='+urlencode(urlexpand(this.href)));\">관련뉴스 6건 전체보기<i class=\"spnew ico_arrow\"></i></a> </li>,\n",
       " <li class=\"bx\" id=\"sp_nws12\"> <div class=\"news_wrap api_ani_send\"> <div class=\"news_area\"> <div class=\"news_info\"> <div class=\"api_save_group _keep_wrap\"> <a aria-pressed=\"false\" class=\"btn_save _keep_trigger\" data-url=\"http://yna.kr/AKR20220119071700003?did=1195m\" href=\"#\" onclick=\"tCR('a=nws*e.kep&amp;r=12&amp;i=880000D8_000000000000000012927431&amp;u=javascript'); return false;\" role=\"button\"><i class=\"spnew ico_save\">문서 저장하기</i></a> <div class=\"api_ly_save _keep_save_layer\"> <a class=\"spnew_af item item_save _keep_save\" data-cr-off=\"a=nws*e.kepoff&amp;r=12&amp;i=880000D8_000000000000000012927431&amp;u=javascript\" data-cr-on=\"a=nws*e.kepon&amp;r=12&amp;i=880000D8_000000000000000012927431&amp;u=javascript\" href=\"#\" role=\"button\">Keep에 저장</a> <a class=\"spnew_af item item_quick\" href=\"https://keep.naver.com/\" onclick=\"return goOtherCR(this,'a=nws*e.kephome&amp;r=12&amp;i=880000D8_000000000000000012927431&amp;u='+urlencode(this.href));\" target=\"_blank\">Keep 바로가기</a> </div></div><div class=\"info_group\"> <a class=\"info press\" href=\"https://www.yna.co.kr/\" onclick=\"return goOtherCR(this, 'a=nws*e.prof&amp;r=12&amp;i=880000D8_000000000000000012927431&amp;g=001.0012927431&amp;u='+urlencode(this.href));\" target=\"_blank\"><span class=\"thumb_box\"><img alt=\"\" class=\"thumb\" height=\"20\" onerror=\"this.src='data:image/gif;base64,R0lGODlhAQABAIAAAAAAAP///yH5BAEAAAAALAAAAAABAAEAAAIBRAA7';this.className='thumb bg_default_press'\" src=\"https://search.pstatic.net/common/?src=https%3A%2F%2Fmimgnews.pstatic.net%2Fimage%2Fupload%2Foffice_logo%2F001%2F2017%2F06%2F29%2Flogo_001_18_20170629160329.png&amp;type=f54_54&amp;expire=24&amp;refresh=true\" width=\"20\"/></span>연합뉴스</a><span class=\"info\">1일 전</span><a class=\"info\" href=\"https://news.naver.com/main/read.naver?mode=LSD&amp;mid=sec&amp;sid1=101&amp;oid=001&amp;aid=0012927431\" onclick=\"return goOtherCR(this, 'a=nws*e.nav&amp;r=12&amp;i=880000D8_000000000000000012927431&amp;u='+urlencode(this.href));\" target=\"_blank\">네이버뉴스</a> </div></div><a class=\"news_tit\" href=\"http://yna.kr/AKR20220119071700003?did=1195m\" onclick=\"return goOtherCR(this, 'a=nws*e.tit&amp;r=12&amp;i=880000D8_000000000000000012927431&amp;g=001.0012927431&amp;u='+urlencode(this.href));\" target=\"_blank\" title=\"국토부, 빅데이터·ICT 접목 부동산 스타트업에 공유오피스 지원\">국토부, <mark>빅데이터</mark>·ICT 접목 부동산 스타트업에 공유오피스 지원</a> <div class=\"news_dsc\"> <div class=\"dsc_wrap\"> <a class=\"api_txt_lines dsc_txt_wrap\" href=\"http://yna.kr/AKR20220119071700003?did=1195m\" onclick=\"return goOtherCR(this, 'a=nws*e.body&amp;r=12&amp;i=880000D8_000000000000000012927431&amp;g=001.0012927431&amp;u='+urlencode(this.href));\" target=\"_blank\"><mark>빅데이터</mark>와 정보통신기술(ICT) 등을 활용해 부동산 관련 서비스를 제공하는 스타트업을 위한... 프롭테크는 부동산(property)과 기술(technology)을 결합한 용어로, 모바일·<mark>빅데이터</mark> 등의 기술을 접목한 부동산 서비스를...</a> </div></div></div><a class=\"dsc_thumb\" href=\"http://yna.kr/AKR20220119071700003?did=1195m\" onclick=\"return goOtherCR(this, 'a=nws*e.img&amp;r=12&amp;i=880000D8_000000000000000012927431&amp;g=001.0012927431&amp;u='+urlencode(this.href));\" target=\"_blank\"><img alt=\"국토부, 빅데이터·IC\" class=\"thumb api_get\" height=\"90\" onerror=\"this.parentNode.style.display='none';\" src=\"https://search.pstatic.net/common/?src=https%3A%2F%2Fimgnews.pstatic.net%2Fimage%2Forigin%2F001%2F2022%2F01%2F19%2F12927431.jpg&amp;type=ff264_180&amp;expire=2&amp;refresh=true\" width=\"132\"/></a> </div></li>,\n",
       " <li class=\"bx\" id=\"sp_nws13\"> <div class=\"news_wrap api_ani_send\"> <div class=\"news_area\"> <div class=\"news_info\"> <div class=\"api_save_group _keep_wrap\"> <a aria-pressed=\"false\" class=\"btn_save _keep_trigger\" data-url=\"http://news.tf.co.kr/read/national/1913456.htm\" href=\"#\" onclick=\"tCR('a=nws*e.kep&amp;r=13&amp;i=881999s8_000000000000000000128192&amp;u=javascript'); return false;\" role=\"button\"><i class=\"spnew ico_save\">문서 저장하기</i></a> <div class=\"api_ly_save _keep_save_layer\"> <a class=\"spnew_af item item_save _keep_save\" data-cr-off=\"a=nws*e.kepoff&amp;r=13&amp;i=881999s8_000000000000000000128192&amp;u=javascript\" data-cr-on=\"a=nws*e.kepon&amp;r=13&amp;i=881999s8_000000000000000000128192&amp;u=javascript\" href=\"#\" role=\"button\">Keep에 저장</a> <a class=\"spnew_af item item_quick\" href=\"https://keep.naver.com/\" onclick=\"return goOtherCR(this,'a=nws*e.kephome&amp;r=13&amp;i=881999s8_000000000000000000128192&amp;u='+urlencode(this.href));\" target=\"_blank\">Keep 바로가기</a> </div></div><div class=\"info_group\"> <a class=\"info press\" href=\"http://www.tf.co.kr/\" onclick=\"return goOtherCR(this, 'a=nws*e.prof&amp;r=13&amp;i=881999s8_000000000000000000128192&amp;g=629.0000128192&amp;u='+urlencode(this.href));\" target=\"_blank\"><span class=\"thumb_box\"><img alt=\"\" class=\"thumb\" height=\"20\" onerror=\"this.src='data:image/gif;base64,R0lGODlhAQABAIAAAAAAAP///yH5BAEAAAAALAAAAAABAAEAAAIBRAA7';this.className='thumb bg_default_press'\" src=\"https://search.pstatic.net/common/?src=https%3A%2F%2Fmimgnews.pstatic.net%2Fimage%2Fupload%2Foffice_logo%2F629%2F2019%2F09%2F26%2Flogo_629_18_20190926182626.png&amp;type=f54_54&amp;expire=24&amp;refresh=true\" width=\"20\"/></span>더팩트</a><span class=\"info\">1일 전</span><a class=\"info\" href=\"https://news.naver.com/main/read.naver?mode=LSD&amp;mid=sec&amp;sid1=102&amp;oid=629&amp;aid=0000128192\" onclick=\"return goOtherCR(this, 'a=nws*e.nav&amp;r=13&amp;i=881999s8_000000000000000000128192&amp;u='+urlencode(this.href));\" target=\"_blank\">네이버뉴스</a> </div></div><a class=\"news_tit\" href=\"http://news.tf.co.kr/read/national/1913456.htm\" onclick=\"return goOtherCR(this, 'a=nws*e.tit&amp;r=13&amp;i=881999s8_000000000000000000128192&amp;g=629.0000128192&amp;u='+urlencode(this.href));\" target=\"_blank\" title=\"산림청 빅데이터 등 과학기술 기반 산불 대응체계 구축\">산림청 <mark>빅데이터</mark> 등 과학기술 기반 산불 대응체계 구축</a> <div class=\"news_dsc\"> <div class=\"dsc_wrap\"> <a class=\"api_txt_lines dsc_txt_wrap\" href=\"http://news.tf.co.kr/read/national/1913456.htm\" onclick=\"return goOtherCR(this, 'a=nws*e.body&amp;r=13&amp;i=881999s8_000000000000000000128192&amp;g=629.0000128192&amp;u='+urlencode(this.href));\" target=\"_blank\"><mark>빅데이터</mark> 등 과학기술에 기반한 대응 체계가 구축된다. 산림청은 19일 이 같은 내용의 '2022년 K-산불방지... 원인별 맞춤형 산불 예방 활동을 위해 <mark>빅데이터</mark>를 기반으로 산불 다발 지역의 입산 통제를 강화하고, 아날로그...</a> </div></div></div><a class=\"dsc_thumb\" href=\"http://news.tf.co.kr/read/national/1913456.htm\" onclick=\"return goOtherCR(this, 'a=nws*e.img&amp;r=13&amp;i=881999s8_000000000000000000128192&amp;g=629.0000128192&amp;u='+urlencode(this.href));\" target=\"_blank\"><img alt=\"산림청 빅데이터 등 과\" class=\"thumb api_get\" height=\"90\" onerror=\"this.parentNode.style.display='none';\" src=\"https://search.pstatic.net/common/?src=https%3A%2F%2Fimgnews.pstatic.net%2Fimage%2Forigin%2F629%2F2022%2F01%2F19%2F128192.jpg&amp;type=ff264_180&amp;expire=2&amp;refresh=true\" width=\"132\"/></a> </div></li>,\n",
       " <li class=\"bx\" id=\"sp_nws14\"> <div class=\"news_wrap api_ani_send\"> <div class=\"news_area\"> <div class=\"news_info\"> <div class=\"api_save_group _keep_wrap\"> <a aria-pressed=\"false\" class=\"btn_save _keep_trigger\" data-url=\"http://news.mk.co.kr/newsRead.php?no=58102&amp;year=2022\" href=\"#\" onclick=\"tCR('a=nws*a.kep&amp;r=14&amp;i=880000BC_000000000000000004911277&amp;u=javascript'); return false;\" role=\"button\"><i class=\"spnew ico_save\">문서 저장하기</i></a> <div class=\"api_ly_save _keep_save_layer\"> <a class=\"spnew_af item item_save _keep_save\" data-cr-off=\"a=nws*a.kepoff&amp;r=14&amp;i=880000BC_000000000000000004911277&amp;u=javascript\" data-cr-on=\"a=nws*a.kepon&amp;r=14&amp;i=880000BC_000000000000000004911277&amp;u=javascript\" href=\"#\" role=\"button\">Keep에 저장</a> <a class=\"spnew_af item item_quick\" href=\"https://keep.naver.com/\" onclick=\"return goOtherCR(this,'a=nws*a.kephome&amp;r=14&amp;i=880000BC_000000000000000004911277&amp;u='+urlencode(this.href));\" target=\"_blank\">Keep 바로가기</a> </div></div><div class=\"info_group\"> <a class=\"info press\" href=\"http://www.mk.co.kr/\" onclick=\"return goOtherCR(this, 'a=nws*a.prof&amp;r=14&amp;i=880000BC_000000000000000004911277&amp;g=009.0004911277&amp;u='+urlencode(this.href));\" target=\"_blank\"><span class=\"thumb_box\"><img alt=\"\" class=\"thumb\" height=\"20\" onerror=\"this.src='data:image/gif;base64,R0lGODlhAQABAIAAAAAAAP///yH5BAEAAAAALAAAAAABAAEAAAIBRAA7';this.className='thumb bg_default_press'\" src=\"https://search.pstatic.net/common/?src=https%3A%2F%2Fmimgnews.pstatic.net%2Fimage%2Fupload%2Foffice_logo%2F009%2F2018%2F03%2F07%2Flogo_009_18_20180307164907.jpg&amp;type=f54_54&amp;expire=24&amp;refresh=true\" width=\"20\"/></span>매일경제</a><span class=\"info\">1일 전</span><a class=\"info\" href=\"https://news.naver.com/main/read.naver?mode=LSD&amp;mid=sec&amp;sid1=102&amp;oid=009&amp;aid=0004911277\" onclick=\"return goOtherCR(this, 'a=nws*a.nav&amp;r=14&amp;i=880000BC_000000000000000004911277&amp;u='+urlencode(this.href));\" target=\"_blank\">네이버뉴스</a> </div></div><a class=\"news_tit\" href=\"http://news.mk.co.kr/newsRead.php?no=58102&amp;year=2022\" onclick=\"return goOtherCR(this, 'a=nws*a.tit&amp;r=14&amp;i=880000BC_000000000000000004911277&amp;g=009.0004911277&amp;u='+urlencode(this.href));\" target=\"_blank\" title=\"서초구, 빅데이터로 우범지역 찾고 행인 손동작으로 범죄가능성 잡는다\">서초구, <mark>빅데이터</mark>로 우범지역 찾고 행인 손동작으로 범죄가능성 잡는다</a> <div class=\"news_dsc\"> <div class=\"dsc_wrap\"> <a class=\"api_txt_lines dsc_txt_wrap\" href=\"http://news.mk.co.kr/newsRead.php?no=58102&amp;year=2022\" onclick=\"return goOtherCR(this, 'a=nws*a.body&amp;r=14&amp;i=880000BC_000000000000000004911277&amp;g=009.0004911277&amp;u='+urlencode(this.href));\" target=\"_blank\"><mark>빅데이터</mark> 기반 '예측범죄지도 시스템' 개발 서초구가 범죄 가능성이 높은 지역을 <mark>빅데이터</mark>로 예측해 집중 감시하는 '예측범죄지도 시스템'을 개발 운영한다. 밤늦게 혼자 가는 여성을 쫓아가는 남성의 손동작, 표정...</a> </div></div></div><a class=\"dsc_thumb\" href=\"http://news.mk.co.kr/newsRead.php?no=58102&amp;year=2022\" onclick=\"return goOtherCR(this, 'a=nws*a.img&amp;r=14&amp;i=880000BC_000000000000000004911277&amp;g=009.0004911277&amp;u='+urlencode(this.href));\" target=\"_blank\"><img alt=\"서초구, 빅데이터로 우\" class=\"thumb api_get\" height=\"90\" onerror=\"this.parentNode.style.display='none';\" src=\"https://search.pstatic.net/common/?src=https%3A%2F%2Fimgnews.pstatic.net%2Fimage%2Forigin%2F009%2F2022%2F01%2F19%2F4911277.jpg&amp;type=ff264_180&amp;expire=2&amp;refresh=true\" width=\"132\"/></a> </div><div class=\"news_cluster\"> <ul class=\"list_cluster\"> <li class=\"sub_bx\"> <span class=\"sub_wrap\"> <span class=\"sub_area\"> <cite class=\"sub_txt press\" title=\"국민일보\">국민일보</cite><span class=\"sub_txt\">1일 전</span><a class=\"sub_txt\" href=\"https://news.naver.com/main/read.naver?mode=LSD&amp;mid=sec&amp;sid1=102&amp;oid=005&amp;aid=0001499957\" onclick=\"return goOtherCR(this, 'a=nws*c.nav&amp;r=15&amp;i=8800006F_000000000000000001499957&amp;u='+urlencode(this.href));\" target=\"_blank\">네이버뉴스</a> </span><a class=\"elss sub_tit\" href=\"http://news.kmib.co.kr/article/view.asp?arcid=0016685420&amp;code=61121111&amp;cp=nv\" onclick=\"return goOtherCR(this, 'a=nws*c.tit&amp;r=15&amp;i=8800006F_000000000000000001499957&amp;g=005.0001499957&amp;u='+urlencode(this.href));\" target=\"_blank\" title=\"‘빅데이터로 범죄예방’…서초구, 예측범죄지도 도입\">‘<mark>빅데이터</mark>로 범죄예방’…서초구, 예측범죄지도 도입</a> </span></li> <li class=\"sub_bx\"> <span class=\"sub_wrap\"> <span class=\"sub_area\"> <cite class=\"sub_txt press\" title=\"연합뉴스\">연합뉴스</cite><span class=\"sub_txt\">1일 전</span><a class=\"sub_txt\" href=\"https://news.naver.com/main/read.naver?mode=LSD&amp;mid=sec&amp;sid1=102&amp;oid=001&amp;aid=0012926997\" onclick=\"return goOtherCR(this, 'a=nws*c.nav&amp;r=16&amp;i=880000D8_000000000000000012926997&amp;u='+urlencode(this.href));\" target=\"_blank\">네이버뉴스</a> </span><a class=\"elss sub_tit\" href=\"http://yna.kr/AKR20220119047700004?did=1195m\" onclick=\"return goOtherCR(this, 'a=nws*c.tit&amp;r=16&amp;i=880000D8_000000000000000012926997&amp;g=001.0012926997&amp;u='+urlencode(this.href));\" target=\"_blank\" title=\"빅데이터로 우범 지역 핀셋 관리…서초구, '예측범죄지도' 도입\"><mark>빅데이터</mark>로 우범 지역 핀셋 관리…서초구, '예측범죄지도' 도입</a> </span></li> <li class=\"sub_bx\"> <span class=\"sub_wrap\"> <span class=\"sub_area\"> <cite class=\"sub_txt press\" title=\"뉴시스\">뉴시스</cite><span class=\"sub_txt\">1일 전</span><a class=\"sub_txt\" href=\"https://news.naver.com/main/read.naver?mode=LSD&amp;mid=sec&amp;sid1=102&amp;oid=003&amp;aid=0010954488\" onclick=\"return goOtherCR(this, 'a=nws*c.nav&amp;r=17&amp;i=88000127_000000000000000010954488&amp;u='+urlencode(this.href));\" target=\"_blank\">네이버뉴스</a> </span><a class=\"elss sub_tit\" href=\"http://www.newsis.com/view/?id=NISX20220119_0001730353&amp;cID=10201&amp;pID=10200\" onclick=\"return goOtherCR(this, 'a=nws*c.tit&amp;r=17&amp;i=88000127_000000000000000010954488&amp;g=003.0010954488&amp;u='+urlencode(this.href));\" target=\"_blank\" title=\"서초구, '예측범죄지도' 도입…빅데이터로 위험지역 예측\">서초구, '예측범죄지도' 도입…<mark>빅데이터</mark>로 위험지역 예측</a> </span></li> </ul></div></li>,\n",
       " <li class=\"bx\" id=\"sp_nws18\"> <div class=\"news_wrap api_ani_send\"> <div class=\"news_area\"> <div class=\"news_info\"> <div class=\"api_save_group _keep_wrap\"> <a aria-pressed=\"false\" class=\"btn_save _keep_trigger\" data-url=\"https://zdnet.co.kr/view/?no=20220120095800\" href=\"#\" onclick=\"tCR('a=nws*e.kep&amp;r=18&amp;i=8800011E_000000000000000002245446&amp;u=javascript'); return false;\" role=\"button\"><i class=\"spnew ico_save\">문서 저장하기</i></a> <div class=\"api_ly_save _keep_save_layer\"> <a class=\"spnew_af item item_save _keep_save\" data-cr-off=\"a=nws*e.kepoff&amp;r=18&amp;i=8800011E_000000000000000002245446&amp;u=javascript\" data-cr-on=\"a=nws*e.kepon&amp;r=18&amp;i=8800011E_000000000000000002245446&amp;u=javascript\" href=\"#\" role=\"button\">Keep에 저장</a> <a class=\"spnew_af item item_quick\" href=\"https://keep.naver.com/\" onclick=\"return goOtherCR(this,'a=nws*e.kephome&amp;r=18&amp;i=8800011E_000000000000000002245446&amp;u='+urlencode(this.href));\" target=\"_blank\">Keep 바로가기</a> </div></div><div class=\"info_group\"> <a class=\"info press\" href=\"https://zdnet.co.kr/\" onclick=\"return goOtherCR(this, 'a=nws*e.prof&amp;r=18&amp;i=8800011E_000000000000000002245446&amp;g=092.0002245446&amp;u='+urlencode(this.href));\" target=\"_blank\"><span class=\"thumb_box\"><img alt=\"\" class=\"thumb\" height=\"20\" onerror=\"this.src='data:image/gif;base64,R0lGODlhAQABAIAAAAAAAP///yH5BAEAAAAALAAAAAABAAEAAAIBRAA7';this.className='thumb bg_default_press'\" src=\"https://search.pstatic.net/common/?src=https%3A%2F%2Fmimgnews.pstatic.net%2Fimage%2Fupload%2Foffice_logo%2F092%2F2017%2F01%2F05%2Flogo_092_18_20170105111205.png&amp;type=f54_54&amp;expire=24&amp;refresh=true\" width=\"20\"/></span>ZDNet Korea</a><span class=\"info\">9시간 전</span><a class=\"info\" href=\"https://news.naver.com/main/read.naver?mode=LSD&amp;mid=sec&amp;sid1=105&amp;oid=092&amp;aid=0002245446\" onclick=\"return goOtherCR(this, 'a=nws*e.nav&amp;r=18&amp;i=8800011E_000000000000000002245446&amp;u='+urlencode(this.href));\" target=\"_blank\">네이버뉴스</a> </div></div><a class=\"news_tit\" href=\"https://zdnet.co.kr/view/?no=20220120095800\" onclick=\"return goOtherCR(this, 'a=nws*e.tit&amp;r=18&amp;i=8800011E_000000000000000002245446&amp;g=092.0002245446&amp;u='+urlencode(this.href));\" target=\"_blank\" title=\"에이블런-지디넷, 'NO코드 빅데이터 활용·분석 과정' 수강생 모집\">에이블런-지디넷, 'NO코드 <mark>빅데이터</mark> 활용·분석 과정' 수강생 모집</a> <div class=\"news_dsc\"> <div class=\"dsc_wrap\"> <a class=\"api_txt_lines dsc_txt_wrap\" href=\"https://zdnet.co.kr/view/?no=20220120095800\" onclick=\"return goOtherCR(this, 'a=nws*e.body&amp;r=18&amp;i=8800011E_000000000000000002245446&amp;g=092.0002245446&amp;u='+urlencode(this.href));\" target=\"_blank\">\"아직도 막막한 데이터리터러시, 새해에는 노코드 데이터분석으로 시작하세요.\" 비전공자를 위한 데이터 활용 교육 기업 에이블런이 지디넷과 공동 교육 과정 NO코드 <mark>빅데이터</mark> 활용 및 분석 과정 교육생을 모집하고 있다....</a> </div></div></div><a class=\"dsc_thumb\" href=\"https://zdnet.co.kr/view/?no=20220120095800\" onclick=\"return goOtherCR(this, 'a=nws*e.img&amp;r=18&amp;i=8800011E_000000000000000002245446&amp;g=092.0002245446&amp;u='+urlencode(this.href));\" target=\"_blank\"><img alt=\"에이블런-지디넷, ‘NO\" class=\"thumb api_get\" height=\"90\" onerror=\"this.parentNode.style.display='none';\" src=\"https://search.pstatic.net/common/?src=https%3A%2F%2Fimgnews.pstatic.net%2Fimage%2Forigin%2F092%2F2022%2F01%2F20%2F2245446.jpg&amp;type=ff264_180&amp;expire=2&amp;refresh=true\" width=\"132\"/></a> </div></li>,\n",
       " <li class=\"bx\" id=\"sp_nws19\"> <div class=\"news_wrap api_ani_send\"> <div class=\"news_area\"> <div class=\"news_info\"> <div class=\"api_save_group _keep_wrap\"> <a aria-pressed=\"false\" class=\"btn_save _keep_trigger\" data-url=\"https://www.news1.kr/articles/?4560169\" href=\"#\" onclick=\"tCR('a=nws*e.kep&amp;r=19&amp;i=08138263_000000000000000005855554&amp;u=javascript'); return false;\" role=\"button\"><i class=\"spnew ico_save\">문서 저장하기</i></a> <div class=\"api_ly_save _keep_save_layer\"> <a class=\"spnew_af item item_save _keep_save\" data-cr-off=\"a=nws*e.kepoff&amp;r=19&amp;i=08138263_000000000000000005855554&amp;u=javascript\" data-cr-on=\"a=nws*e.kepon&amp;r=19&amp;i=08138263_000000000000000005855554&amp;u=javascript\" href=\"#\" role=\"button\">Keep에 저장</a> <a class=\"spnew_af item item_quick\" href=\"https://keep.naver.com/\" onclick=\"return goOtherCR(this,'a=nws*e.kephome&amp;r=19&amp;i=08138263_000000000000000005855554&amp;u='+urlencode(this.href));\" target=\"_blank\">Keep 바로가기</a> </div></div><div class=\"info_group\"> <a class=\"info press\" href=\"http://news1.kr/\" onclick=\"return goOtherCR(this, 'a=nws*e.prof&amp;r=19&amp;i=08138263_000000000000000005855554&amp;g=421.0005855554&amp;u='+urlencode(this.href));\" target=\"_blank\"><span class=\"thumb_box\"><img alt=\"\" class=\"thumb\" height=\"20\" onerror=\"this.src='data:image/gif;base64,R0lGODlhAQABAIAAAAAAAP///yH5BAEAAAAALAAAAAABAAEAAAIBRAA7';this.className='thumb bg_default_press'\" src=\"https://search.pstatic.net/common/?src=https%3A%2F%2Fmimgnews.pstatic.net%2Fimage%2Fupload%2Foffice_logo%2F421%2F2017%2F01%2F05%2Flogo_421_18_20170105111205.png&amp;type=f54_54&amp;expire=24&amp;refresh=true\" width=\"20\"/></span>뉴스1</a><span class=\"info\">10시간 전</span><a class=\"info\" href=\"https://news.naver.com/main/read.naver?mode=LSD&amp;mid=sec&amp;sid1=102&amp;oid=421&amp;aid=0005855554\" onclick=\"return goOtherCR(this, 'a=nws*e.nav&amp;r=19&amp;i=08138263_000000000000000005855554&amp;u='+urlencode(this.href));\" target=\"_blank\">네이버뉴스</a> </div></div><a class=\"news_tit\" href=\"https://www.news1.kr/articles/?4560169\" onclick=\"return goOtherCR(this, 'a=nws*e.tit&amp;r=19&amp;i=08138263_000000000000000005855554&amp;g=421.0005855554&amp;u='+urlencode(this.href));\" target=\"_blank\" title=\"노원구, 지자체 최초 도시여가-상권 빅데이터 분석\">노원구, 지자체 최초 도시여가-상권 <mark>빅데이터</mark> 분석</a> <div class=\"news_dsc\"> <div class=\"dsc_wrap\"> <a class=\"api_txt_lines dsc_txt_wrap\" href=\"https://www.news1.kr/articles/?4560169\" onclick=\"return goOtherCR(this, 'a=nws*e.body&amp;r=19&amp;i=08138263_000000000000000005855554&amp;g=421.0005855554&amp;u='+urlencode(this.href));\" target=\"_blank\">서울 노원구(구청장 오승록)는 KT AI데이터융합지원단, 고려대 디지털혁신추진단과 손잡고 도시여가-상권 <mark>빅데이터</mark> 분석을 시도했다고 20일 밝혔다. 도시 여가 인구의 행동 패턴을 분석한 것은 지자체 최초 사례다....</a> </div></div></div><a class=\"dsc_thumb\" href=\"https://www.news1.kr/articles/?4560169\" onclick=\"return goOtherCR(this, 'a=nws*e.img&amp;r=19&amp;i=08138263_000000000000000005855554&amp;g=421.0005855554&amp;u='+urlencode(this.href));\" target=\"_blank\"><img alt=\"노원구, 지자체 최초 \" class=\"thumb api_get\" height=\"90\" onerror=\"this.parentNode.style.display='none';\" src=\"https://search.pstatic.net/common/?src=https%3A%2F%2Fimgnews.pstatic.net%2Fimage%2Forigin%2F421%2F2022%2F01%2F20%2F5855554.jpg&amp;type=ff264_180&amp;expire=2&amp;refresh=true\" width=\"132\"/></a> </div></li>,\n",
       " <li class=\"bx\" id=\"sp_nws20\"> <div class=\"news_wrap api_ani_send\"> <div class=\"news_area\"> <div class=\"news_info\"> <div class=\"api_save_group _keep_wrap\"> <a aria-pressed=\"false\" class=\"btn_save _keep_trigger\" data-url=\"http://news.heraldcorp.com/view.php?ud=20220120000535\" href=\"#\" onclick=\"tCR('a=nws*a.kep&amp;r=20&amp;i=8800010E_000000000000000001940309&amp;u=javascript'); return false;\" role=\"button\"><i class=\"spnew ico_save\">문서 저장하기</i></a> <div class=\"api_ly_save _keep_save_layer\"> <a class=\"spnew_af item item_save _keep_save\" data-cr-off=\"a=nws*a.kepoff&amp;r=20&amp;i=8800010E_000000000000000001940309&amp;u=javascript\" data-cr-on=\"a=nws*a.kepon&amp;r=20&amp;i=8800010E_000000000000000001940309&amp;u=javascript\" href=\"#\" role=\"button\">Keep에 저장</a> <a class=\"spnew_af item item_quick\" href=\"https://keep.naver.com/\" onclick=\"return goOtherCR(this,'a=nws*a.kephome&amp;r=20&amp;i=8800010E_000000000000000001940309&amp;u='+urlencode(this.href));\" target=\"_blank\">Keep 바로가기</a> </div></div><div class=\"info_group\"> <a class=\"info press\" href=\"http://www.heraldbiz.com/\" onclick=\"return goOtherCR(this, 'a=nws*a.prof&amp;r=20&amp;i=8800010E_000000000000000001940309&amp;g=016.0001940309&amp;u='+urlencode(this.href));\" target=\"_blank\"><span class=\"thumb_box\"><img alt=\"\" class=\"thumb\" height=\"20\" onerror=\"this.src='data:image/gif;base64,R0lGODlhAQABAIAAAAAAAP///yH5BAEAAAAALAAAAAABAAEAAAIBRAA7';this.className='thumb bg_default_press'\" src=\"https://search.pstatic.net/common/?src=https%3A%2F%2Fmimgnews.pstatic.net%2Fimage%2Fupload%2Foffice_logo%2F016%2F2017%2F01%2F05%2Flogo_016_18_20170105111205.png&amp;type=f54_54&amp;expire=24&amp;refresh=true\" width=\"20\"/></span>헤럴드경제</a><span class=\"info\">8시간 전</span><a class=\"info\" href=\"https://news.naver.com/main/read.naver?mode=LSD&amp;mid=sec&amp;sid1=105&amp;oid=016&amp;aid=0001940309\" onclick=\"return goOtherCR(this, 'a=nws*a.nav&amp;r=20&amp;i=8800010E_000000000000000001940309&amp;u='+urlencode(this.href));\" target=\"_blank\">네이버뉴스</a> </div></div><a class=\"news_tit\" href=\"http://news.heraldcorp.com/view.php?ud=20220120000535\" onclick=\"return goOtherCR(this, 'a=nws*a.tit&amp;r=20&amp;i=8800010E_000000000000000001940309&amp;g=016.0001940309&amp;u='+urlencode(this.href));\" target=\"_blank\" title=\"KISTI, 데이터 기반 中企 기술사업화 지원 착수\">KISTI, <mark>데이터</mark> 기반 中企 기술사업화 지원 착수</a> <div class=\"news_dsc\"> <div class=\"dsc_wrap\"> <a class=\"api_txt_lines dsc_txt_wrap\" href=\"http://news.heraldcorp.com/view.php?ud=20220120000535\" onclick=\"return goOtherCR(this, 'a=nws*a.body&amp;r=20&amp;i=8800010E_000000000000000001940309&amp;g=016.0001940309&amp;u='+urlencode(this.href));\" target=\"_blank\">(TIPA)과 <mark>데이터</mark> 기반 중소기업 기술사업화 지원체계 구축을 위한 업무협약(MoU)을 체결했다. KISTI 지능형 기술사업화 모델과 시스템은 TIPA의 중점사업인 중소기업 기술로드맵 수립을 위한 <mark>데이터</mark> 기반 중소기업형...</a> </div></div></div><a class=\"dsc_thumb\" href=\"http://news.heraldcorp.com/view.php?ud=20220120000535\" onclick=\"return goOtherCR(this, 'a=nws*a.img&amp;r=20&amp;i=8800010E_000000000000000001940309&amp;g=016.0001940309&amp;u='+urlencode(this.href));\" target=\"_blank\"><img alt=\"KISTI, 데이터 기반 中\" class=\"thumb api_get\" height=\"90\" onerror=\"this.parentNode.style.display='none';\" src=\"https://search.pstatic.net/common/?src=https%3A%2F%2Fimgnews.pstatic.net%2Fimage%2Forigin%2F016%2F2022%2F01%2F20%2F1940309.jpg&amp;type=ff264_180&amp;expire=2&amp;refresh=true\" width=\"132\"/></a> </div><div class=\"news_cluster\"> <ul class=\"list_cluster\"> <li class=\"sub_bx\"> <span class=\"sub_wrap\"> <span class=\"sub_area\"> <cite class=\"sub_txt press\" title=\"매일일보\">매일일보</cite><span class=\"sub_txt\">3시간 전</span> </span><a class=\"elss sub_tit\" href=\"http://www.m-i.kr/news/articleView.html?idxno=893048\" onclick=\"return goOtherCR(this, 'a=nws*d.tit&amp;r=21&amp;i=88155e4f_000000000000000000522256&amp;g=5385.0000522256&amp;u='+urlencode(this.href));\" target=\"_blank\" title=\"TIPA‧KISTI, 데이터 기반 지원역량 강화 '맞손'\">TIPA‧KISTI, <mark>데이터</mark> 기반 지원역량 강화 '맞손'</a> </span></li> <li class=\"sub_bx\"> <span class=\"sub_wrap\"> <span class=\"sub_area\"> <cite class=\"sub_txt press\" title=\"아시아투데이\">아시아투데이</cite><span class=\"sub_txt\">4시간 전</span> </span><a class=\"elss sub_tit\" href=\"https://www.asiatoday.co.kr/view.php?key=20220120010011929\" onclick=\"return goOtherCR(this, 'a=nws*d.tit&amp;r=22&amp;i=8813C2E8_000000000000000001588573&amp;g=5268.0001588573&amp;u='+urlencode(this.href));\" target=\"_blank\" title=\"TIPA, KISTI와 中企 데이터 기반 지원역량 강화 위해 '맞손'\">TIPA, KISTI와 中企 <mark>데이터</mark> 기반 지원역량 강화 위해 '맞손'</a> </span></li> <li class=\"sub_bx\"> <span class=\"sub_wrap\"> <span class=\"sub_area\"> <cite class=\"sub_txt press\" title=\"뉴시스\">뉴시스</cite><span class=\"sub_txt\">4시간 전</span><a class=\"sub_txt\" href=\"https://news.naver.com/main/read.naver?mode=LSD&amp;mid=sec&amp;sid1=101&amp;oid=003&amp;aid=0010956710\" onclick=\"return goOtherCR(this, 'a=nws*c.nav&amp;r=23&amp;i=88000127_000000000000000010956710&amp;u='+urlencode(this.href));\" target=\"_blank\">네이버뉴스</a> </span><a class=\"elss sub_tit\" href=\"http://www.newsis.com/view/?id=NISX20220120_0001731712&amp;cID=13001&amp;pID=13000\" onclick=\"return goOtherCR(this, 'a=nws*c.tit&amp;r=23&amp;i=88000127_000000000000000010956710&amp;g=003.0010956710&amp;u='+urlencode(this.href));\" target=\"_blank\" title=\"TIPA-KISTI, 중기 데이터 기반 기술혁신 지원 '맞손'\">TIPA-KISTI, 중기 <mark>데이터</mark> 기반 기술혁신 지원 '맞손'</a> </span></li> <li class=\"sub_bx\"> <span class=\"sub_wrap\"> <span class=\"sub_area\"> <cite class=\"sub_txt press\" title=\"충청뉴스\">충청뉴스</cite><span class=\"sub_txt\">4시간 전</span> </span><a class=\"elss sub_tit\" href=\"http://www.ccnnews.co.kr/news/articleView.html?idxno=245723\" onclick=\"return goOtherCR(this, 'a=nws*d.tit&amp;r=24&amp;i=881842b1_000000000000000000109786&amp;g=5569.0000109786&amp;u='+urlencode(this.href));\" target=\"_blank\" title=\"KISTI, TIPA와 데이터 기반 중소기업 지원 나선다\">KISTI, TIPA와 <mark>데이터</mark> 기반 중소기업 지원 나선다</a> </span></li> </ul></div></li>]"
      ]
     },
     "execution_count": 45,
     "metadata": {},
     "output_type": "execute_result"
    }
   ],
   "source": [
    "html = driver.page_source\n",
    "\n",
    "soup = BeautifulSoup(html, 'html.parser')\n",
    "\n",
    "path = '#main_pack > section > div > div.group_news > ul > li'\n",
    "\n",
    "ha = soup.select(path)\n",
    "\n",
    "ha\n"
   ]
  },
  {
   "cell_type": "code",
   "execution_count": 48,
   "id": "8d7d75f7",
   "metadata": {
    "collapsed": true
   },
   "outputs": [
    {
     "name": "stdout",
     "output_type": "stream",
     "text": [
      "title :  빅데이터로 범죄 막는다...서초구 '예측범죄지도' 도입\n",
      "summary :    빅데이터로 위험지역 예측 우범 지역 핀셋 관리 서울 서초구가 CCTV 사건‧사고 데이터를 분석, 범죄발생 가능성이 높은 지역을 빅데이터로 예측해 시간대별 집중 감시하는 '예측범죄지도(Predictive Crime Map) 시스템'을... \n",
      "date :  6시간 전\n",
      "----------------------------------------------------------------------------------------------------\n",
      "title :  스탁엑스(StockX), 빅데이터 통한 '2022현재 문화 지수' 발표\n",
      "summary :    스탁엑스(StockX)는 이러한 빅 데이터를 통해 '빅 팩트(Big Facts)'란 이름의 보고서를 주기적으로 발표하고 있으며 2022년 상반기에도 새로운 통계 자료 발표를 준비하고 있다. \n",
      "date :  3시간 전\n",
      "----------------------------------------------------------------------------------------------------\n",
      "title :  빅데이터·가상현실…온라인으로 첨단분야 인재 양성 확대한다\n",
      "summary :    빅데이터, 드론, 가상·증강현실 등 첨단 신기술 분야 지식과 직무 교육을 온라인으로 받을 수 있는 과정이... 지난해에는 드론, 가상·증강현실, 빅데이터, 대체에너지 분야가 추가됐다. 올해는 4개 분야를 신규 선정한다.... \n",
      "date :  7시간 전\n",
      "----------------------------------------------------------------------------------------------------\n",
      "title :  대전시, 지역사회건강지도 빅데이터 시스템 구축\n",
      "summary :    기사내용 요약흡연·음주·정신건강 등 주요지표 10개 영역 데이터 시각화 1월 중으로 대전시 홈페이지 통해 공개 예정 대전시는 2010년부터 2020년까지 11년간의 지역사회건강조사 빅데이터를 활용하여 지역사회건강지도를... \n",
      "date :  1일 전\n",
      "----------------------------------------------------------------------------------------------------\n",
      "title :  국토부, 빅데이터·ICT 접목 부동산 스타트업에 공유오피스 지원\n",
      "summary :    빅데이터와 정보통신기술(ICT) 등을 활용해 부동산 관련 서비스를 제공하는 스타트업을 위한... 프롭테크는 부동산(property)과 기술(technology)을 결합한 용어로, 모바일·빅데이터 등의 기술을 접목한 부동산 서비스를... \n",
      "date :  1일 전\n",
      "----------------------------------------------------------------------------------------------------\n",
      "title :  산림청 빅데이터 등 과학기술 기반 산불 대응체계 구축\n",
      "summary :    빅데이터 등 과학기술에 기반한 대응 체계가 구축된다. 산림청은 19일 이 같은 내용의 '2022년 K-산불방지... 원인별 맞춤형 산불 예방 활동을 위해 빅데이터를 기반으로 산불 다발 지역의 입산 통제를 강화하고, 아날로그... \n",
      "date :  1일 전\n",
      "----------------------------------------------------------------------------------------------------\n",
      "title :  서초구, 빅데이터로 우범지역 찾고 행인 손동작으로 범죄가능성 잡는다\n",
      "summary :    빅데이터 기반 '예측범죄지도 시스템' 개발 서초구가 범죄 가능성이 높은 지역을 빅데이터로 예측해 집중 감시하는 '예측범죄지도 시스템'을 개발 운영한다. 밤늦게 혼자 가는 여성을 쫓아가는 남성의 손동작, 표정... \n",
      "date :  1일 전\n",
      "----------------------------------------------------------------------------------------------------\n",
      "title :  에이블런-지디넷, 'NO코드 빅데이터 활용·분석 과정' 수강생 모집\n",
      "summary :    \"아직도 막막한 데이터리터러시, 새해에는 노코드 데이터분석으로 시작하세요.\" 비전공자를 위한 데이터 활용 교육 기업 에이블런이 지디넷과 공동 교육 과정 NO코드 빅데이터 활용 및 분석 과정 교육생을 모집하고 있다.... \n",
      "date :  9시간 전\n",
      "----------------------------------------------------------------------------------------------------\n",
      "title :  노원구, 지자체 최초 도시여가-상권 빅데이터 분석\n",
      "summary :    서울 노원구(구청장 오승록)는 KT AI데이터융합지원단, 고려대 디지털혁신추진단과 손잡고 도시여가-상권 빅데이터 분석을 시도했다고 20일 밝혔다. 도시 여가 인구의 행동 패턴을 분석한 것은 지자체 최초 사례다.... \n",
      "date :  10시간 전\n",
      "----------------------------------------------------------------------------------------------------\n",
      "title :  KISTI, 데이터 기반 中企 기술사업화 지원 착수\n",
      "summary :    (TIPA)과 데이터 기반 중소기업 기술사업화 지원체계 구축을 위한 업무협약(MoU)을 체결했다. KISTI 지능형 기술사업화 모델과 시스템은 TIPA의 중점사업인 중소기업 기술로드맵 수립을 위한 데이터 기반 중소기업형... \n",
      "date :  8시간 전\n",
      "----------------------------------------------------------------------------------------------------\n"
     ]
    }
   ],
   "source": [
    "for i in range(len(ha)):\n",
    "    title = ha[i].select('div.news_area > a')[0].text\n",
    "    summ = ha[i].select('div.news_dsc')[0].text\n",
    "    date = ha[i].select('span.info')[0].text\n",
    "    \n",
    "    print('title : ',title)\n",
    "    print('summary : ',summ)\n",
    "    print('date : ',date)\n",
    "    print('-'*100)\n",
    "\n"
   ]
  },
  {
   "cell_type": "code",
   "execution_count": 49,
   "id": "c952ef84",
   "metadata": {},
   "outputs": [],
   "source": [
    "driver.close()"
   ]
  },
  {
   "cell_type": "code",
   "execution_count": null,
   "id": "7f18a0b9",
   "metadata": {},
   "outputs": [],
   "source": [
    "#  여행사이트에서 검색어 검색해서 글 제목, 지역, 해시태그 따오기"
   ]
  },
  {
   "cell_type": "code",
   "execution_count": 1,
   "id": "9449d093",
   "metadata": {},
   "outputs": [],
   "source": [
    "import requests\n",
    "from bs4 import BeautifulSoup\n",
    "\n",
    "from selenium import webdriver\n",
    "from selenium.webdriver.common.keys import Keys"
   ]
  },
  {
   "cell_type": "code",
   "execution_count": 2,
   "id": "17192d57",
   "metadata": {},
   "outputs": [],
   "source": [
    "driver = webdriver.Chrome()"
   ]
  },
  {
   "cell_type": "code",
   "execution_count": 6,
   "id": "c0d8f64b",
   "metadata": {},
   "outputs": [],
   "source": [
    "driver.get('https://korean.visitkorea.or.kr/main/main.do#home')"
   ]
  },
  {
   "cell_type": "code",
   "execution_count": 7,
   "id": "13205218",
   "metadata": {
    "collapsed": true
   },
   "outputs": [
    {
     "name": "stderr",
     "output_type": "stream",
     "text": [
      "C:\\Users\\bitcamp\\AppData\\Local\\Temp/ipykernel_4144/3015597468.py:1: DeprecationWarning: find_element_by_* commands are deprecated. Please use find_element() instead\n",
      "  elem = driver.find_element_by_id('inp_search')\n"
     ]
    }
   ],
   "source": [
    "elem = driver.find_element_by_id('inp_search')\n",
    "# driver.close()"
   ]
  },
  {
   "cell_type": "code",
   "execution_count": 8,
   "id": "9c93e784",
   "metadata": {
    "collapsed": true
   },
   "outputs": [
    {
     "name": "stdout",
     "output_type": "stream",
     "text": [
      "검색어고성\n"
     ]
    },
    {
     "name": "stderr",
     "output_type": "stream",
     "text": [
      "C:\\Users\\bitcamp\\AppData\\Local\\Temp/ipykernel_4144/2429933378.py:7: DeprecationWarning: find_element_by_* commands are deprecated. Please use find_element() instead\n",
      "  driver.find_element_by_css_selector(path).click()\n"
     ]
    }
   ],
   "source": [
    "s = input('검색어')\n",
    "\n",
    "elem.send_keys(s)\n",
    "\n",
    "\n",
    "path = '#gnbMain > div > div > div.search > span > a'\n",
    "driver.find_element_by_css_selector(path).click()"
   ]
  },
  {
   "cell_type": "code",
   "execution_count": 9,
   "id": "b881bcc7",
   "metadata": {},
   "outputs": [],
   "source": [
    "html = driver.page_source"
   ]
  },
  {
   "cell_type": "code",
   "execution_count": 10,
   "id": "208447e9",
   "metadata": {},
   "outputs": [],
   "source": [
    "soup = BeautifulSoup(html,'html.parser')"
   ]
  },
  {
   "cell_type": "code",
   "execution_count": 14,
   "id": "594c83e8",
   "metadata": {
    "collapsed": true
   },
   "outputs": [
    {
     "name": "stdout",
     "output_type": "stream",
     "text": [
      "공룡발자국 옆 옹기 굽던 바다마을, 고성 옹기랑\n",
      "경상남도 고성군\n",
      "#관광두레#관광두레기사#경남_관광두레#경남#경남고성군#고성#경남고성#체험프로그램#이색체험#옹기랑 \n",
      "고성, 상상하던 모든 것이 현실이 되는 곳\n",
      "경상남도 고성군\n",
      "#공공누리#열린관광_모두의여행#무장애여행지#영유아추천코스#아이와함께#경남고성#영유아추천 \n",
      "보랏빛 향기 타고 고성 DMZ로\n",
      "강원도 고성군\n",
      "#추천생태여행#생태여행#고성DMZ#고성DMZ박물관#DMZ#6월추천가볼만한곳#건봉사#사찰&산사#역사유적지#통일전망대#전망대#625전쟁체험전시관#전시관#체험학습#걷기길#통일안보공원#하늬라벤더팜#금강산화암사#청간정#이승만별장#김일성별장#화진포해수욕장#주말추천여행지#안보여행#생태관광#하늬라벤더팜#생태여행코스 \n",
      "짙푸른 동해와 맞닿은 아름다운 석호, 고성 화진포와 송지호\n",
      "강원도 고성군\n",
      "#추천가볼만한곳#강원도#고성군#송지호#고성통일전망타워#거진항#공공누리 \n",
      "수국 꽃길 따라 우아한 산책, 고성 그레이스정원\n",
      "경상남도 고성군\n",
      "#2021년7월추천가볼만한곳#7월추천가볼만한곳#추천가볼만한곳#경상남도#고성군#그레이스정원#고성그레이스정원#학동마을#문수암#고성공룡박물관#상족암군립공원#공공누리 \n",
      "눈물을 머금은 향기, 고성 하늬라벤더팜\n",
      "강원도 고성군\n",
      "#고성가볼만한곳#풍경여행#꽃여행#친구와함께#힐링#걷기좋은길#강원도여행#가볼만한축제#공공누리#고성축제#하늬라벤더팜#호밀밭#메타세콰이어#라벤더#인생샷#누가_꽃이게?_초여름_꽃잔치 \n",
      "국토 최북단에서 체험하는 분단 현실, 고성 통일전망대와 DMZ박물관\n",
      "강원도 고성군\n",
      "#고성통일전망대#DMZ박물관#화진포해변#화진포의성#거진항#송지호#분단#통일#추천가볼만한곳#고성가볼만한곳#고성1박2일코스#고성맛집#DMZ#고성막국수#2018년2월추천가볼만한곳#2월가볼만한곳#DMZ여행 \n",
      "수국이 만발하는 동화 속 비밀의 숲! 고성 그레이스 정원\n",
      "경상남도 고성군\n",
      "#경남고성여행#경남고성가볼만한곳#고성그레이스정원#그레이스정원#수국#카페도어스#예쁜카페#송학동고분군#상리연꽃공원#연꽃#수련#장산숲#공공누리 \n",
      "이색 해안지형에 공룡 발자국 화석, 고성 상족암군립공원\n",
      "경상남도 고성군\n",
      "#2020년12월추천가볼만한곳#12월추천가볼만한곳#추천가볼만한곳#12월가볼만한곳#지질트레일#고성상족암군립공원#상족암군립공원#공룡#상족암#학동마을#고성학동마을옛담장#송학동고분군#장산숲#문수암#공공누리#경남고성여행#경남고성가볼만한곳 \n",
      "고성에서 몽골까지, 날아라! 고성독수리\n",
      "경상남도 고성군\n",
      "#2020생태테마관광지#2020생태테마사업#생태관광#생태여행코스#생태테마사업#경남고성#고성독수리#고성공룡박물관#상족암#고성탈박물관#고성독수리생태관#체험프로그램이있는#가족여행에좋은#아이와함께가기좋은#혼자가도좋은#2021생태녹색관광지 \n"
     ]
    }
   ],
   "source": [
    "path = \"#listBody > ul > li\"\n",
    "heh = soup.select(path)\n",
    "\n",
    "for he in heh:\n",
    "    if he.select('div.area_txt'):\n",
    "        tit = he.select('div.area_txt > div.tit > a')[0].text\n",
    "        loc = he.select('div.area_txt > div.service > p')[0].text\n",
    "        tag = he.select('div.area_txt > p')[0].text\n",
    "        \n",
    "        print(tit)\n",
    "        print(loc)\n",
    "        print(tag)"
   ]
  },
  {
   "cell_type": "code",
   "execution_count": 16,
   "id": "77772f9f",
   "metadata": {
    "collapsed": true
   },
   "outputs": [
    {
     "name": "stdout",
     "output_type": "stream",
     "text": [
      "#관광두레\n",
      "#관광두레기사\n",
      "#경남_관광두레\n",
      "#경남\n",
      "#경남고성군\n",
      "#고성\n",
      "#경남고성\n",
      "#체험프로그램\n",
      "#이색체험\n",
      "#옹기랑\n",
      "공룡발자국 옆 옹기 굽던 바다마을, 고성 옹기랑\n",
      "경상남도 고성군\n",
      "[<span>#<em></em>관광두레</span>, <span>#<em></em>관광두레기사</span>, <span>#<em></em>경남_관광두레</span>, <span>#<em></em>경남</span>, <span>#<em></em>경남<em>고성</em>군</span>, <span>#<em></em><em>고성</em></span>, <span>#<em></em>경남<em>고성</em></span>, <span>#<em></em>체험프로그램</span>, <span>#<em></em>이색체험</span>, <span>#<em></em>옹기랑</span>]\n",
      "#공공누리\n",
      "#열린관광_모두의여행\n",
      "#무장애여행지\n",
      "#영유아추천코스\n",
      "#아이와함께\n",
      "#경남고성\n",
      "#영유아추천\n",
      "고성, 상상하던 모든 것이 현실이 되는 곳\n",
      "경상남도 고성군\n",
      "[<span>#<em></em>공공누리</span>, <span>#<em></em>열린관광_모두의여행</span>, <span>#<em></em>무장애여행지</span>, <span>#<em></em>영유아추천코스</span>, <span>#<em></em>아이와함께</span>, <span>#<em></em>경남<em>고성</em></span>, <span>#<em></em>영유아추천</span>]\n",
      "#추천생태여행\n",
      "#생태여행\n",
      "#고성DMZ\n",
      "#고성DMZ박물관\n",
      "#DMZ\n",
      "#6월추천가볼만한곳\n",
      "#건봉사\n",
      "#사찰&산사\n",
      "#역사유적지\n",
      "#통일전망대\n",
      "#전망대\n",
      "#625전쟁체험전시관\n",
      "#전시관\n",
      "#체험학습\n",
      "#걷기길\n",
      "#통일안보공원\n",
      "#하늬라벤더팜\n",
      "#금강산화암사\n",
      "#청간정\n",
      "#이승만별장\n",
      "#김일성별장\n",
      "#화진포해수욕장\n",
      "#주말추천여행지\n",
      "#안보여행\n",
      "#생태관광\n",
      "#하늬라벤더팜\n",
      "#생태여행코스\n",
      "보랏빛 향기 타고 고성 DMZ로\n",
      "강원도 고성군\n",
      "[<span>#<em></em>추천생태여행</span>, <span>#<em></em>생태여행</span>, <span>#<em></em><em>고성</em>DMZ</span>, <span>#<em></em><em>고성</em>DMZ박물관</span>, <span>#<em></em>DMZ</span>, <span>#<em></em>6월추천가볼만한곳</span>, <span>#<em></em>건봉사</span>, <span>#<em></em>사찰&amp;산사</span>, <span>#<em></em>역사유적지</span>, <span>#<em></em>통일전망대</span>, <span>#<em></em>전망대</span>, <span>#<em></em>625전쟁체험전시관</span>, <span>#<em></em>전시관</span>, <span>#<em></em>체험학습</span>, <span>#<em></em>걷기길</span>, <span>#<em></em>통일안보공원</span>, <span>#<em></em>하늬라벤더팜</span>, <span>#<em></em>금강산화암사</span>, <span>#<em></em>청간정</span>, <span>#<em></em>이승만별장</span>, <span>#<em></em>김일성별장</span>, <span>#<em></em>화진포해수욕장</span>, <span>#<em></em>주말추천여행지</span>, <span>#<em></em>안보여행</span>, <span>#<em></em>생태관광</span>, <span>#<em></em>하늬라벤더팜</span>, <span>#<em></em>생태여행코스</span>]\n",
      "#추천가볼만한곳\n",
      "#강원도\n",
      "#고성군\n",
      "#송지호\n",
      "#고성통일전망타워\n",
      "#거진항\n",
      "#공공누리\n",
      "짙푸른 동해와 맞닿은 아름다운 석호, 고성 화진포와 송지호\n",
      "강원도 고성군\n",
      "[<span>#<em></em>추천가볼만한곳</span>, <span>#<em></em>강원도</span>, <span>#<em></em><em>고성</em>군</span>, <span>#<em></em>송지호</span>, <span>#<em></em><em>고성</em>통일전망타워</span>, <span>#<em></em>거진항</span>, <span>#<em></em>공공누리</span>]\n",
      "#2021년7월추천가볼만한곳\n",
      "#7월추천가볼만한곳\n",
      "#추천가볼만한곳\n",
      "#경상남도\n",
      "#고성군\n",
      "#그레이스정원\n",
      "#고성그레이스정원\n",
      "#학동마을\n",
      "#문수암\n",
      "#고성공룡박물관\n",
      "#상족암군립공원\n",
      "#공공누리\n",
      "수국 꽃길 따라 우아한 산책, 고성 그레이스정원\n",
      "경상남도 고성군\n",
      "[<span>#<em></em>2021년7월추천가볼만한곳</span>, <span>#<em></em>7월추천가볼만한곳</span>, <span>#<em></em>추천가볼만한곳</span>, <span>#<em></em>경상남도</span>, <span>#<em></em><em>고성</em>군</span>, <span>#<em></em>그레이스정원</span>, <span>#<em></em><em>고성</em>그레이스정원</span>, <span>#<em></em>학동마을</span>, <span>#<em></em>문수암</span>, <span>#<em></em><em>고성</em>공룡박물관</span>, <span>#<em></em>상족암군립공원</span>, <span>#<em></em>공공누리</span>]\n",
      "#고성가볼만한곳\n",
      "#풍경여행\n",
      "#꽃여행\n",
      "#친구와함께\n",
      "#힐링\n",
      "#걷기좋은길\n",
      "#강원도여행\n",
      "#가볼만한축제\n",
      "#공공누리\n",
      "#고성축제\n",
      "#하늬라벤더팜\n",
      "#호밀밭\n",
      "#메타세콰이어\n",
      "#라벤더\n",
      "#인생샷\n",
      "#누가_꽃이게?_초여름_꽃잔치\n",
      "눈물을 머금은 향기, 고성 하늬라벤더팜\n",
      "강원도 고성군\n",
      "[<span>#<em></em><em>고성</em>가볼만한곳</span>, <span>#<em></em>풍경여행</span>, <span>#<em></em>꽃여행</span>, <span>#<em></em>친구와함께</span>, <span>#<em></em>힐링</span>, <span>#<em></em>걷기좋은길</span>, <span>#<em></em>강원도여행</span>, <span>#<em></em>가볼만한축제</span>, <span>#<em></em>공공누리</span>, <span>#<em></em><em>고성</em>축제</span>, <span>#<em></em>하늬라벤더팜</span>, <span>#<em></em>호밀밭</span>, <span>#<em></em>메타세콰이어</span>, <span>#<em></em>라벤더</span>, <span>#<em></em>인생샷</span>, <span>#<em></em>누가_꽃이게?_초여름_꽃잔치</span>]\n",
      "#고성통일전망대\n",
      "#DMZ박물관\n",
      "#화진포해변\n",
      "#화진포의성\n",
      "#거진항\n",
      "#송지호\n",
      "#분단\n",
      "#통일\n",
      "#추천가볼만한곳\n",
      "#고성가볼만한곳\n",
      "#고성1박2일코스\n",
      "#고성맛집\n",
      "#DMZ\n",
      "#고성막국수\n",
      "#2018년2월추천가볼만한곳\n",
      "#2월가볼만한곳\n",
      "#DMZ여행\n",
      "국토 최북단에서 체험하는 분단 현실, 고성 통일전망대와 DMZ박물관\n",
      "강원도 고성군\n",
      "[<span>#<em></em><em>고성</em>통일전망대</span>, <span>#<em></em>DMZ박물관</span>, <span>#<em></em>화진포해변</span>, <span>#<em></em>화진포의성</span>, <span>#<em></em>거진항</span>, <span>#<em></em>송지호</span>, <span>#<em></em>분단</span>, <span>#<em></em>통일</span>, <span>#<em></em>추천가볼만한곳</span>, <span>#<em></em><em>고성</em>가볼만한곳</span>, <span>#<em></em><em>고성</em>1박2일코스</span>, <span>#<em></em><em>고성</em>맛집</span>, <span>#<em></em>DMZ</span>, <span>#<em></em><em>고성</em>막국수</span>, <span>#<em></em>2018년2월추천가볼만한곳</span>, <span>#<em></em>2월가볼만한곳</span>, <span>#<em></em>DMZ여행</span>]\n",
      "#경남고성여행\n",
      "#경남고성가볼만한곳\n",
      "#고성그레이스정원\n",
      "#그레이스정원\n",
      "#수국\n",
      "#카페도어스\n",
      "#예쁜카페\n",
      "#송학동고분군\n",
      "#상리연꽃공원\n",
      "#연꽃\n",
      "#수련\n",
      "#장산숲\n",
      "#공공누리\n",
      "수국이 만발하는 동화 속 비밀의 숲! 고성 그레이스 정원\n",
      "경상남도 고성군\n",
      "[<span>#<em></em>경남<em>고성</em>여행</span>, <span>#<em></em>경남<em>고성</em>가볼만한곳</span>, <span>#<em></em><em>고성</em>그레이스정원</span>, <span>#<em></em>그레이스정원</span>, <span>#<em></em>수국</span>, <span>#<em></em>카페도어스</span>, <span>#<em></em>예쁜카페</span>, <span>#<em></em>송학동고분군</span>, <span>#<em></em>상리연꽃공원</span>, <span>#<em></em>연꽃</span>, <span>#<em></em>수련</span>, <span>#<em></em>장산숲</span>, <span>#<em></em>공공누리</span>]\n",
      "#2020년12월추천가볼만한곳\n",
      "#12월추천가볼만한곳\n",
      "#추천가볼만한곳\n",
      "#12월가볼만한곳\n",
      "#지질트레일\n",
      "#고성상족암군립공원\n",
      "#상족암군립공원\n",
      "#공룡\n",
      "#상족암\n",
      "#학동마을\n",
      "#고성학동마을옛담장\n",
      "#송학동고분군\n",
      "#장산숲\n",
      "#문수암\n",
      "#공공누리\n",
      "#경남고성여행\n",
      "#경남고성가볼만한곳\n",
      "이색 해안지형에 공룡 발자국 화석, 고성 상족암군립공원\n",
      "경상남도 고성군\n",
      "[<span>#<em></em>2020년12월추천가볼만한곳</span>, <span>#<em></em>12월추천가볼만한곳</span>, <span>#<em></em>추천가볼만한곳</span>, <span>#<em></em>12월가볼만한곳</span>, <span>#<em></em>지질트레일</span>, <span>#<em></em><em>고성</em>상족암군립공원</span>, <span>#<em></em>상족암군립공원</span>, <span>#<em></em>공룡</span>, <span>#<em></em>상족암</span>, <span>#<em></em>학동마을</span>, <span>#<em></em><em>고성</em>학동마을옛담장</span>, <span>#<em></em>송학동고분군</span>, <span>#<em></em>장산숲</span>, <span>#<em></em>문수암</span>, <span>#<em></em>공공누리</span>, <span>#<em></em>경남<em>고성</em>여행</span>, <span>#<em></em>경남<em>고성</em>가볼만한곳</span>]\n",
      "#2020생태테마관광지\n",
      "#2020생태테마사업\n",
      "#생태관광\n",
      "#생태여행코스\n",
      "#생태테마사업\n",
      "#경남고성\n",
      "#고성독수리\n",
      "#고성공룡박물관\n",
      "#상족암\n",
      "#고성탈박물관\n",
      "#고성독수리생태관\n",
      "#체험프로그램이있는\n",
      "#가족여행에좋은\n",
      "#아이와함께가기좋은\n",
      "#혼자가도좋은\n",
      "#2021생태녹색관광지\n",
      "고성에서 몽골까지, 날아라! 고성독수리\n",
      "경상남도 고성군\n",
      "[<span>#<em></em>2020생태테마관광지</span>, <span>#<em></em>2020생태테마사업</span>, <span>#<em></em>생태관광</span>, <span>#<em></em>생태여행코스</span>, <span>#<em></em>생태테마사업</span>, <span>#<em></em>경남<em>고성</em></span>, <span>#<em></em><em>고성</em>독수리</span>, <span>#<em></em><em>고성</em>공룡박물관</span>, <span>#<em></em>상족암</span>, <span>#<em></em><em>고성</em>탈박물관</span>, <span>#<em></em><em>고성</em>독수리생태관</span>, <span>#<em></em>체험프로그램이있는</span>, <span>#<em></em>가족여행에좋은</span>, <span>#<em></em>아이와함께가기좋은</span>, <span>#<em></em>혼자가도좋은</span>, <span>#<em></em>2021생태녹색관광지</span>]\n"
     ]
    }
   ],
   "source": [
    "for he in heh:\n",
    "    if he.select('div.area_txt'):\n",
    "        tit = he.select('div.area_txt > div.tit > a')[0].text\n",
    "        loc = he.select('div.area_txt > div.service > p')[0].text\n",
    "        tag = he.select('div.area_txt > p > span')\n",
    "        for t in tag:\n",
    "            print(t.text)\n",
    "        \n",
    "        print(tit)\n",
    "        print(loc)\n",
    "        print(tag)"
   ]
  },
  {
   "cell_type": "code",
   "execution_count": null,
   "id": "0aeeb95e",
   "metadata": {},
   "outputs": [],
   "source": [
    "# title, location, tags 본문까지"
   ]
  },
  {
   "cell_type": "code",
   "execution_count": 17,
   "id": "0bea8118",
   "metadata": {
    "collapsed": true
   },
   "outputs": [
    {
     "name": "stderr",
     "output_type": "stream",
     "text": [
      "C:\\Users\\bitcamp\\AppData\\Local\\Temp/ipykernel_4144/3972459714.py:2: DeprecationWarning: find_element_by_* commands are deprecated. Please use find_element() instead\n",
      "  driver.find_element_by_css_selector(path).click()\n"
     ]
    }
   ],
   "source": [
    "path = '#listBody > ul > li:nth-child(1) > div.area_txt > div.tit > a'\n",
    "driver.find_element_by_css_selector(path).click()"
   ]
  },
  {
   "cell_type": "code",
   "execution_count": 29,
   "id": "97f7a14a",
   "metadata": {},
   "outputs": [],
   "source": [
    "html = driver.page_source\n",
    "\n",
    "soup = BeautifulSoup(html, 'html.parser')"
   ]
  },
  {
   "cell_type": "code",
   "execution_count": 30,
   "id": "203dcdff",
   "metadata": {
    "collapsed": true
   },
   "outputs": [
    {
     "data": {
      "text/plain": [
       "[<div class=\"box_txtPhoto\"><div class=\"img_typeBox typeFix clfix\"><div><button onclick=\"openPhotoView(0);\" type=\"button\"><img alt=\"야외 옹기 전시\" src=\"https://cdn.visitkorea.or.kr/img/call?cmd=VIEW&amp;id=a457f2d0-6305-41af-9d9d-d23eb2a772d6\"/></button><strong class=\"tit\">야외 옹기 전시</strong></div></div><strong class=\"ar_title\">공룡발자국을 지나 옹기마을</strong><div class=\"txt_p\"><p>경상남도 고성은 세계 3대 공룡발자국 화석지다. 중생대 백악기 공룡발자국과 중생대 새발자국을 선명히 확인 할 수 있는 상족암군립공원은 생생한 그 현장이다. 상족암공룡길이자 공룡발자국 따라 걷는 길의 서쪽 끝에 관광두레 주민사업체 ‘옹기랑’이 있는 덕명마을이 위치해 있다.</p></div><div class=\"img_typeBox typeFix clfix\"><div><button onclick=\"openPhotoView(1);\" type=\"button\"><img alt=\"바다에서 바라본 덕명마을\" src=\"https://cdn.visitkorea.or.kr/img/call?cmd=VIEW&amp;id=6ec6657a-7286-451b-8d3c-26b9aa7bc891\"/></button><strong class=\"tit\">바다에서 바라본 덕명마을</strong></div></div><div class=\"txt_p\"><p>덕명마을은 마을 안에 여섯 곳의 가마가 있었던 꽤나 이름난 옹기촌이었다. 그러나 지금은 유일하게 ‘가마랑’ 의 가마터만 남게 됐다. 그렇게 마을의 역사를 상징하는 유산인 가마를 지키기 위해 관광두레 주민사업체 ‘옹기랑’을 꾸렸다.</p></div><div class=\"img_typeBox typeFix clfix\"><div><button onclick=\"openPhotoView(2);\" type=\"button\"><img alt=\"가마랑으로 가는 가마터 계단\" src=\"https://cdn.visitkorea.or.kr/img/call?cmd=VIEW&amp;id=00b78183-f613-4d17-8caf-337b3fab4e4e\"/></button><strong class=\"tit\">가마랑으로 가는 가마터 계단</strong></div></div><div class=\"txt_p\"><p>가마랑은 덕명마을 해안에 위치한 카페 겸 숙박 겸 옹기박물관이다. 마을에서 바다로 이어지는 길 끝에 카페가 보이고 카페에서 해안을 따라 걷다보면 숙박공간과 옹기박물관이 있다. 계단은 가마터와 나란하며 계단 옆이 작은 문을 열면 층층이 이어지는 가마의 봉통이 있다. 조선업을 하던 김 대표가 이 마을에 뿌리내린 것도, 바로 폐허와 잡풀들 사이에서 발견한 이 가마터 때문이다.</p></div><div class=\"img_typeBox typeFix clfix\"><div><button onclick=\"openPhotoView(3);\" type=\"button\"><img alt=\"원형을 최대한 살려 단장한 가마 내부\" src=\"https://cdn.visitkorea.or.kr/img/call?cmd=VIEW&amp;id=a7d21070-338e-43d6-8ffc-061ccec3157d\"/></button><strong class=\"tit\">원형을 최대한 살려 단장한 가마 내부</strong></div></div><strong class=\"ar_title\">옹기랑 체류형관광 빚기</strong><div class=\"txt_p\"><p>옹기랑의 첫 번째 목표는 옹기를 주제로 한 체류형관광 서비스다. 옹기랑은 가마랑이라는 빼어난 숙박시설을 보유하고 있으며 옹기 전시물 또한 풍성하다. 가마뿐이 아니다. 약 20년 동안 수집한 약 2천 개의 옹기가 곳곳에 자리해 옹기 전시장을 방불케 한다. 실내에는 각종 옹기만을 모아둔 별도의 옹기박물관이 있다. 밀주단지, 쌀단지, 병아리물병 등 종류나 모양도 다양하다. 옹기 전시물을 활용한 해설과 옹기를 만드는 도예체험, 옹기의 특징을 살린 음식 등 체험 프로그램을 더할 예정이다.</p></div><div class=\"img_typeBox typeFix clfix\"><div><button onclick=\"openPhotoView(4);\" type=\"button\"><img alt=\"옹기박물관 실내\" src=\"https://cdn.visitkorea.or.kr/img/call?cmd=VIEW&amp;id=27877721-b0db-470b-b2f0-d3d412267750\"/></button><strong class=\"tit\">옹기박물관 실내</strong></div></div><div class=\"img_typeBox typeFix clfix\"><div><button onclick=\"openPhotoView(5);\" type=\"button\"><img alt=\"덕명마을에 옹기 제작을 의뢰한 일본 업체명이 새겨져 있다\" src=\"https://cdn.visitkorea.or.kr/img/call?cmd=VIEW&amp;id=f383ef7a-ea36-49cd-8966-fdfcfac8cdc6\"/></button><strong class=\"tit\">덕명마을에 옹기 제작을 의뢰한 일본 업체명이 새겨져 있다</strong></div></div><div class=\"txt_p\"><p>    해안의 언덕 위에 들어선 숙소와 잔디마당, 야외 덱 등은 남해 전망대 역할을 한다. 푸른 바다와 사량도, 딴독섬 등이 어울려 바다를 멍하니 바라보는 바다멍에 알맞다. 여기에 치유와 명상을 접목한 프로그램도 계획 중이다.</p></div><div class=\"img_typeBox typeFix clfix\"><div><button onclick=\"openPhotoView(6);\" type=\"button\"><img alt=\"가마랑 옹기 너머로 보이는 병풍바위\" src=\"https://cdn.visitkorea.or.kr/img/call?cmd=VIEW&amp;id=1216d3d3-752a-400f-89ab-2ba572d14aab\"/></button><strong class=\"tit\">가마랑 옹기 너머로 보이는 병풍바위</strong></div></div><div class=\"img_typeBox typeFix clfix\"><div><button onclick=\"openPhotoView(7);\" type=\"button\"><img alt=\"옹기가 어우러진 숙박동 풍경\" src=\"https://cdn.visitkorea.or.kr/img/call?cmd=VIEW&amp;id=b261b181-9713-4bc4-a9f0-d2e3738954b3\"/></button><strong class=\"tit\">옹기가 어우러진 숙박동 풍경</strong></div></div><strong class=\"ar_title\">바다에서 보는 밥상다리, 상족암</strong><div class=\"txt_p\"><p>덕명마을은 공룡박물관이나 상족암군립공원 방문객들을 위한 여행 상품도 준비 중이다. 소유한 선박 등을 활용한 해상관광 상품이다. 바다에서 바라보는 상족암군립공원은 공룡발자국을 보며 해안 덱을 걸을 때와는 또 다른 감흥을 준다. 이미 배낚시를 즐기는 낚시꾼들 사이에서는 소문이 난 상족암의 해상 풍광까지 더해 웨딩 로케이션 여행 상품까지 발전시키고자 한다. 상족암군립공원에 새겨질 또 하나의 커다란 발자국이 이제 막 첫발을 떼고 있다.</p></div><div class=\"img_typeBox typeFix clfix\"><div><button onclick=\"openPhotoView(8);\" type=\"button\"><img alt=\"바다에서 보는 상족암\" src=\"https://cdn.visitkorea.or.kr/img/call?cmd=VIEW&amp;id=6c0af871-f341-451c-a19d-31d9c73e9fda\"/></button><strong class=\"tit\">바다에서 보는 상족암</strong></div></div><div class=\"img_typeBox typeFix clfix\"><div><button onclick=\"openPhotoView(9);\" type=\"button\"><img alt=\"바다에서 보는 주상절리 병풍바위\" src=\"https://cdn.visitkorea.or.kr/img/call?cmd=VIEW&amp;id=da7fc485-b1c9-4c57-8d13-1432805ae19d\"/></button><strong class=\"tit\">바다에서 보는 주상절리 병풍바위</strong></div></div><div class=\"img_typeBox typeFix clfix\"><div><button onclick=\"openPhotoView(10);\" type=\"button\"><img alt=\"바다에서 보는 상족암군립공원 데크 탐방로\" src=\"https://cdn.visitkorea.or.kr/img/call?cmd=VIEW&amp;id=b0523124-2b09-4848-9d1c-16aaa0b0c664\"/></button><strong class=\"tit\">바다에서 보는 상족암군립공원 데크 탐방로</strong></div></div><strong class=\"ar_title\" id=\"titTrableInfo\">여행정보</strong><div class=\"txt_p\"><p></p><div> <span style=\"font-weight: bold;\">        경상남도 고성군 하이면 덕명4길 39-5(옹기랑)    </span></div><div>    - 문의 : 055-834-8411</div> <div>        - 이용요금 : 숙박 요금 별도 문의, 체험 프로그램 준비 중으로 요금 미정    </div><p></p></div><strong class=\"ar_title\">숙박정보</strong><div class=\"txt_p\"><p></p><div>        - <span style=\"font-weight: bold;\">가마랑</span> : 경남 고성군 하이면 덕명4길 95 / 055-834-8411</div><div>    - <span style=\"font-weight: bold;\">최필간고택</span> : 경남 고성군 하일면 학동돌담길 55 / 010-3824-4274 / <a href=\"http://cafe.naver.com/maesaoldhouse\" target=\"_blank\"> www.cafe.naver.com/maesaoldhouse</a></div><div>    - <span style=\"font-weight: bold;\">프린스호텔</span> : 경남 고성군 고성읍 남해안대로 2463-21 / 055-673-7477 / <a href=\"http://www.hotelprince.net/\" target=\"_blank\"> www.hotelprince.net</a></div><p></p></div><strong class=\"ar_title\">식당정보</strong><div class=\"txt_p\"><p></p><div>    - <span style=\"font-weight: bold;\">용골횟집</span> : 생선회 / 경남 고성군 하이면 덕명5길 44 / 055-832-3489</div><div>    - <span style=\"font-weight: bold;\">장안숯불갈비 </span>: 콩나물돼지국밥 / 경남 고성군 고성읍 성내로112번길 64 / 055-673-3638 </div><div>    - <span style=\"font-weight: bold;\">온천장칼국수</span> : 칼국수 / 경남 고성군 고성읍 성내로135번길 14-5 / 055-672-6720</div><p></p></div><div class=\"txt_p\"><br/><p> <span style=\"font-weight: bold;\">        글/사진 : 박상준(여행작가)    </span></p><br/><div> <span style=\"color: rgb(194, 24, 91);\">        ※위 정보는 2021년 11월에 작성된 정보로, 이후 변경될 수 있으니 여행 하시기 전에 반드시 확인하시기 바랍니다.    </span></div><div> <span style=\"color: rgb(194, 24, 91);\">        ※이 기사에 사용된 텍스트, 사진, 동영상 등의 정보는 한국관광공사가 저작권을 보유하고 있으므로 기사의 무단 사용을 금합니다.    </span></div><p></p></div></div>]"
      ]
     },
     "execution_count": 30,
     "metadata": {},
     "output_type": "execute_result"
    }
   ],
   "source": [
    "path = '#contents > div:nth-child(2) > div.box_txtPhoto'\n",
    "ha = soup.select(path)\n",
    "soup.select(path)"
   ]
  },
  {
   "cell_type": "code",
   "execution_count": 34,
   "id": "7f2dd2ef",
   "metadata": {},
   "outputs": [
    {
     "ename": "SelectorSyntaxError",
     "evalue": "Malformed attribute selector at position 33\n  line 1:\ndiv.img_typeBox > strong.ar_title[0]\n                                 ^",
     "output_type": "error",
     "traceback": [
      "\u001b[1;31m---------------------------------------------------------------------------\u001b[0m",
      "\u001b[1;31mSelectorSyntaxError\u001b[0m                       Traceback (most recent call last)",
      "\u001b[1;32m~\\AppData\\Local\\Temp/ipykernel_4144/3458097196.py\u001b[0m in \u001b[0;36m<module>\u001b[1;34m\u001b[0m\n\u001b[0;32m      1\u001b[0m \u001b[1;32mfor\u001b[0m \u001b[0mhar\u001b[0m \u001b[1;32min\u001b[0m \u001b[0mha\u001b[0m\u001b[1;33m:\u001b[0m\u001b[1;33m\u001b[0m\u001b[1;33m\u001b[0m\u001b[0m\n\u001b[1;32m----> 2\u001b[1;33m     \u001b[0ms_tit\u001b[0m \u001b[1;33m=\u001b[0m \u001b[0mhar\u001b[0m\u001b[1;33m.\u001b[0m\u001b[0mselect\u001b[0m\u001b[1;33m(\u001b[0m\u001b[1;34m'div.img_typeBox > strong.ar_title[0]'\u001b[0m\u001b[1;33m)\u001b[0m\u001b[1;33m\u001b[0m\u001b[1;33m\u001b[0m\u001b[0m\n\u001b[0m\u001b[0;32m      3\u001b[0m     \u001b[0mprint\u001b[0m\u001b[1;33m(\u001b[0m\u001b[0ms_tit\u001b[0m\u001b[1;33m.\u001b[0m\u001b[0mtext\u001b[0m\u001b[1;33m)\u001b[0m\u001b[1;33m\u001b[0m\u001b[1;33m\u001b[0m\u001b[0m\n\u001b[0;32m      4\u001b[0m \u001b[1;33m\u001b[0m\u001b[0m\n",
      "\u001b[1;32m~\\Anaconda3\\lib\\site-packages\\bs4\\element.py\u001b[0m in \u001b[0;36mselect\u001b[1;34m(self, selector, namespaces, limit, **kwargs)\u001b[0m\n\u001b[0;32m   1947\u001b[0m             )\n\u001b[0;32m   1948\u001b[0m \u001b[1;33m\u001b[0m\u001b[0m\n\u001b[1;32m-> 1949\u001b[1;33m         \u001b[0mresults\u001b[0m \u001b[1;33m=\u001b[0m \u001b[0msoupsieve\u001b[0m\u001b[1;33m.\u001b[0m\u001b[0mselect\u001b[0m\u001b[1;33m(\u001b[0m\u001b[0mselector\u001b[0m\u001b[1;33m,\u001b[0m \u001b[0mself\u001b[0m\u001b[1;33m,\u001b[0m \u001b[0mnamespaces\u001b[0m\u001b[1;33m,\u001b[0m \u001b[0mlimit\u001b[0m\u001b[1;33m,\u001b[0m \u001b[1;33m**\u001b[0m\u001b[0mkwargs\u001b[0m\u001b[1;33m)\u001b[0m\u001b[1;33m\u001b[0m\u001b[1;33m\u001b[0m\u001b[0m\n\u001b[0m\u001b[0;32m   1950\u001b[0m \u001b[1;33m\u001b[0m\u001b[0m\n\u001b[0;32m   1951\u001b[0m         \u001b[1;31m# We do this because it's more consistent and because\u001b[0m\u001b[1;33m\u001b[0m\u001b[1;33m\u001b[0m\u001b[0m\n",
      "\u001b[1;32m~\\Anaconda3\\lib\\site-packages\\soupsieve\\__init__.py\u001b[0m in \u001b[0;36mselect\u001b[1;34m(select, tag, namespaces, limit, flags, **kwargs)\u001b[0m\n\u001b[0;32m     96\u001b[0m     \u001b[1;34m\"\"\"Select the specified tags.\"\"\"\u001b[0m\u001b[1;33m\u001b[0m\u001b[1;33m\u001b[0m\u001b[0m\n\u001b[0;32m     97\u001b[0m \u001b[1;33m\u001b[0m\u001b[0m\n\u001b[1;32m---> 98\u001b[1;33m     \u001b[1;32mreturn\u001b[0m \u001b[0mcompile\u001b[0m\u001b[1;33m(\u001b[0m\u001b[0mselect\u001b[0m\u001b[1;33m,\u001b[0m \u001b[0mnamespaces\u001b[0m\u001b[1;33m,\u001b[0m \u001b[0mflags\u001b[0m\u001b[1;33m,\u001b[0m \u001b[1;33m**\u001b[0m\u001b[0mkwargs\u001b[0m\u001b[1;33m)\u001b[0m\u001b[1;33m.\u001b[0m\u001b[0mselect\u001b[0m\u001b[1;33m(\u001b[0m\u001b[0mtag\u001b[0m\u001b[1;33m,\u001b[0m \u001b[0mlimit\u001b[0m\u001b[1;33m)\u001b[0m\u001b[1;33m\u001b[0m\u001b[1;33m\u001b[0m\u001b[0m\n\u001b[0m\u001b[0;32m     99\u001b[0m \u001b[1;33m\u001b[0m\u001b[0m\n\u001b[0;32m    100\u001b[0m \u001b[1;33m\u001b[0m\u001b[0m\n",
      "\u001b[1;32m~\\Anaconda3\\lib\\site-packages\\soupsieve\\__init__.py\u001b[0m in \u001b[0;36mcompile\u001b[1;34m(pattern, namespaces, flags, **kwargs)\u001b[0m\n\u001b[0;32m     60\u001b[0m         \u001b[1;32mreturn\u001b[0m \u001b[0mpattern\u001b[0m\u001b[1;33m\u001b[0m\u001b[1;33m\u001b[0m\u001b[0m\n\u001b[0;32m     61\u001b[0m \u001b[1;33m\u001b[0m\u001b[0m\n\u001b[1;32m---> 62\u001b[1;33m     \u001b[1;32mreturn\u001b[0m \u001b[0mcp\u001b[0m\u001b[1;33m.\u001b[0m\u001b[0m_cached_css_compile\u001b[0m\u001b[1;33m(\u001b[0m\u001b[0mpattern\u001b[0m\u001b[1;33m,\u001b[0m \u001b[0mnamespaces\u001b[0m\u001b[1;33m,\u001b[0m \u001b[0mcustom\u001b[0m\u001b[1;33m,\u001b[0m \u001b[0mflags\u001b[0m\u001b[1;33m)\u001b[0m\u001b[1;33m\u001b[0m\u001b[1;33m\u001b[0m\u001b[0m\n\u001b[0m\u001b[0;32m     63\u001b[0m \u001b[1;33m\u001b[0m\u001b[0m\n\u001b[0;32m     64\u001b[0m \u001b[1;33m\u001b[0m\u001b[0m\n",
      "\u001b[1;32m~\\Anaconda3\\lib\\site-packages\\soupsieve\\css_parser.py\u001b[0m in \u001b[0;36m_cached_css_compile\u001b[1;34m(pattern, namespaces, custom, flags)\u001b[0m\n\u001b[0;32m    209\u001b[0m     return cm.SoupSieve(\n\u001b[0;32m    210\u001b[0m         \u001b[0mpattern\u001b[0m\u001b[1;33m,\u001b[0m\u001b[1;33m\u001b[0m\u001b[1;33m\u001b[0m\u001b[0m\n\u001b[1;32m--> 211\u001b[1;33m         \u001b[0mCSSParser\u001b[0m\u001b[1;33m(\u001b[0m\u001b[0mpattern\u001b[0m\u001b[1;33m,\u001b[0m \u001b[0mcustom\u001b[0m\u001b[1;33m=\u001b[0m\u001b[0mcustom_selectors\u001b[0m\u001b[1;33m,\u001b[0m \u001b[0mflags\u001b[0m\u001b[1;33m=\u001b[0m\u001b[0mflags\u001b[0m\u001b[1;33m)\u001b[0m\u001b[1;33m.\u001b[0m\u001b[0mprocess_selectors\u001b[0m\u001b[1;33m(\u001b[0m\u001b[1;33m)\u001b[0m\u001b[1;33m,\u001b[0m\u001b[1;33m\u001b[0m\u001b[1;33m\u001b[0m\u001b[0m\n\u001b[0m\u001b[0;32m    212\u001b[0m         \u001b[0mnamespaces\u001b[0m\u001b[1;33m,\u001b[0m\u001b[1;33m\u001b[0m\u001b[1;33m\u001b[0m\u001b[0m\n\u001b[0;32m    213\u001b[0m         \u001b[0mcustom\u001b[0m\u001b[1;33m,\u001b[0m\u001b[1;33m\u001b[0m\u001b[1;33m\u001b[0m\u001b[0m\n",
      "\u001b[1;32m~\\Anaconda3\\lib\\site-packages\\soupsieve\\css_parser.py\u001b[0m in \u001b[0;36mprocess_selectors\u001b[1;34m(self, index, flags)\u001b[0m\n\u001b[0;32m   1056\u001b[0m         \u001b[1;34m\"\"\"Process selectors.\"\"\"\u001b[0m\u001b[1;33m\u001b[0m\u001b[1;33m\u001b[0m\u001b[0m\n\u001b[0;32m   1057\u001b[0m \u001b[1;33m\u001b[0m\u001b[0m\n\u001b[1;32m-> 1058\u001b[1;33m         \u001b[1;32mreturn\u001b[0m \u001b[0mself\u001b[0m\u001b[1;33m.\u001b[0m\u001b[0mparse_selectors\u001b[0m\u001b[1;33m(\u001b[0m\u001b[0mself\u001b[0m\u001b[1;33m.\u001b[0m\u001b[0mselector_iter\u001b[0m\u001b[1;33m(\u001b[0m\u001b[0mself\u001b[0m\u001b[1;33m.\u001b[0m\u001b[0mpattern\u001b[0m\u001b[1;33m)\u001b[0m\u001b[1;33m,\u001b[0m \u001b[0mindex\u001b[0m\u001b[1;33m,\u001b[0m \u001b[0mflags\u001b[0m\u001b[1;33m)\u001b[0m\u001b[1;33m\u001b[0m\u001b[1;33m\u001b[0m\u001b[0m\n\u001b[0m\u001b[0;32m   1059\u001b[0m \u001b[1;33m\u001b[0m\u001b[0m\n\u001b[0;32m   1060\u001b[0m \u001b[1;33m\u001b[0m\u001b[0m\n",
      "\u001b[1;32m~\\Anaconda3\\lib\\site-packages\\soupsieve\\css_parser.py\u001b[0m in \u001b[0;36mparse_selectors\u001b[1;34m(self, iselector, index, flags)\u001b[0m\n\u001b[0;32m    907\u001b[0m         \u001b[1;32mtry\u001b[0m\u001b[1;33m:\u001b[0m\u001b[1;33m\u001b[0m\u001b[1;33m\u001b[0m\u001b[0m\n\u001b[0;32m    908\u001b[0m             \u001b[1;32mwhile\u001b[0m \u001b[1;32mTrue\u001b[0m\u001b[1;33m:\u001b[0m\u001b[1;33m\u001b[0m\u001b[1;33m\u001b[0m\u001b[0m\n\u001b[1;32m--> 909\u001b[1;33m                 \u001b[0mkey\u001b[0m\u001b[1;33m,\u001b[0m \u001b[0mm\u001b[0m \u001b[1;33m=\u001b[0m \u001b[0mnext\u001b[0m\u001b[1;33m(\u001b[0m\u001b[0miselector\u001b[0m\u001b[1;33m)\u001b[0m\u001b[1;33m\u001b[0m\u001b[1;33m\u001b[0m\u001b[0m\n\u001b[0m\u001b[0;32m    910\u001b[0m \u001b[1;33m\u001b[0m\u001b[0m\n\u001b[0;32m    911\u001b[0m                 \u001b[1;31m# Handle parts\u001b[0m\u001b[1;33m\u001b[0m\u001b[1;33m\u001b[0m\u001b[0m\n",
      "\u001b[1;32m~\\Anaconda3\\lib\\site-packages\\soupsieve\\css_parser.py\u001b[0m in \u001b[0;36mselector_iter\u001b[1;34m(self, pattern)\u001b[0m\n\u001b[0;32m   1049\u001b[0m                 \u001b[1;32melse\u001b[0m\u001b[1;33m:\u001b[0m\u001b[1;33m\u001b[0m\u001b[1;33m\u001b[0m\u001b[0m\n\u001b[0;32m   1050\u001b[0m                     \u001b[0mmsg\u001b[0m \u001b[1;33m=\u001b[0m \u001b[1;34m\"Invalid character {!r} position {}\"\u001b[0m\u001b[1;33m.\u001b[0m\u001b[0mformat\u001b[0m\u001b[1;33m(\u001b[0m\u001b[0mc\u001b[0m\u001b[1;33m,\u001b[0m \u001b[0mindex\u001b[0m\u001b[1;33m)\u001b[0m\u001b[1;33m\u001b[0m\u001b[1;33m\u001b[0m\u001b[0m\n\u001b[1;32m-> 1051\u001b[1;33m                 \u001b[1;32mraise\u001b[0m \u001b[0mSelectorSyntaxError\u001b[0m\u001b[1;33m(\u001b[0m\u001b[0mmsg\u001b[0m\u001b[1;33m,\u001b[0m \u001b[0mself\u001b[0m\u001b[1;33m.\u001b[0m\u001b[0mpattern\u001b[0m\u001b[1;33m,\u001b[0m \u001b[0mindex\u001b[0m\u001b[1;33m)\u001b[0m\u001b[1;33m\u001b[0m\u001b[1;33m\u001b[0m\u001b[0m\n\u001b[0m\u001b[0;32m   1052\u001b[0m         \u001b[1;32mif\u001b[0m \u001b[0mself\u001b[0m\u001b[1;33m.\u001b[0m\u001b[0mdebug\u001b[0m\u001b[1;33m:\u001b[0m  \u001b[1;31m# pragma: no cover\u001b[0m\u001b[1;33m\u001b[0m\u001b[1;33m\u001b[0m\u001b[0m\n\u001b[0;32m   1053\u001b[0m             \u001b[0mprint\u001b[0m\u001b[1;33m(\u001b[0m\u001b[1;34m'## END PARSING'\u001b[0m\u001b[1;33m)\u001b[0m\u001b[1;33m\u001b[0m\u001b[1;33m\u001b[0m\u001b[0m\n",
      "\u001b[1;31mSelectorSyntaxError\u001b[0m: Malformed attribute selector at position 33\n  line 1:\ndiv.img_typeBox > strong.ar_title[0]\n                                 ^"
     ]
    }
   ],
   "source": [
    "for har in ha:\n",
    "    s_tit = har.select('div.img_typeBox > strong.ar_title')\n",
    "    print(s_tit.text)\n",
    "    "
   ]
  },
  {
   "cell_type": "code",
   "execution_count": null,
   "id": "8c7abb4f",
   "metadata": {},
   "outputs": [],
   "source": []
  },
  {
   "cell_type": "code",
   "execution_count": null,
   "id": "09a4c984",
   "metadata": {},
   "outputs": [],
   "source": []
  },
  {
   "cell_type": "code",
   "execution_count": null,
   "id": "ca9e849f",
   "metadata": {},
   "outputs": [],
   "source": []
  },
  {
   "cell_type": "code",
   "execution_count": null,
   "id": "bf2d2904",
   "metadata": {},
   "outputs": [],
   "source": []
  }
 ],
 "metadata": {
  "kernelspec": {
   "display_name": "Python 3 (ipykernel)",
   "language": "python",
   "name": "python3"
  },
  "language_info": {
   "codemirror_mode": {
    "name": "ipython",
    "version": 3
   },
   "file_extension": ".py",
   "mimetype": "text/x-python",
   "name": "python",
   "nbconvert_exporter": "python",
   "pygments_lexer": "ipython3",
   "version": "3.9.7"
  }
 },
 "nbformat": 4,
 "nbformat_minor": 5
}
