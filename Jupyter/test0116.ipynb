{
 "cells": [
  {
   "cell_type": "markdown",
   "id": "204d1d9a",
   "metadata": {},
   "source": [
    "### LIST"
   ]
  },
  {
   "cell_type": "code",
   "execution_count": null,
   "id": "980461aa",
   "metadata": {},
   "outputs": [],
   "source": [
    "score = [81, 90, 78, 'python', 'hello', True, [78, 56, 32], (24,25,3)]\n",
    "# 't'를 출력하시오\n",
    "# 56을 출력하시오\n",
    "# 마지막 요소의 최대값을 출력하시오\n",
    "#'python'을 'world'로 수정하시오\n",
    "# 마지막에 'sun'을 추가하시오\n",
    "#'world'가 있는지 확인하시오\n",
    "# 마지막에서 2번째 요소를 내림차순으로 정렬하시오\n",
    "# 90은 몇 번째 인덱스에 있는지 확인하시오\n",
    "# 리스트를 역순으로 정렬하시오\n",
    "# 3번째 인덱스에 'sea'를 추가하시오\n",
    "# True를 False로 수정하시오\n",
    "# 'world'를 제거하시오\n",
    "# 7번째 요소를 제거하시오\n",
    "# 마지막 요소를 제거하시오\n",
    "# 리스트의 길이를 출력하시오\n",
    "# 두번째 요소의 데이터타입을 출력하시오\n",
    "#[78, 56, 32]를 '78:56:32'로 수정하시오\n",
    "# 모든 원소를 제거하시오\n",
    "# 리스트를 삭제하시오"
   ]
  },
  {
   "cell_type": "code",
   "execution_count": 184,
   "id": "b8f1f7c7",
   "metadata": {},
   "outputs": [
    {
     "data": {
      "text/plain": [
       "'t'"
      ]
     },
     "execution_count": 184,
     "metadata": {},
     "output_type": "execute_result"
    }
   ],
   "source": [
    "score = [81, 90, 78, 'python', 'hello', True, [78, 56, 32], (24,25,3)]\n",
    "# 't'를 출력하시오\n",
    "score[3][2]"
   ]
  },
  {
   "cell_type": "code",
   "execution_count": 133,
   "id": "44815414",
   "metadata": {},
   "outputs": [
    {
     "data": {
      "text/plain": [
       "56"
      ]
     },
     "execution_count": 133,
     "metadata": {},
     "output_type": "execute_result"
    }
   ],
   "source": [
    "# 56을 출력하시오\n",
    "score[-2][1]"
   ]
  },
  {
   "cell_type": "code",
   "execution_count": 134,
   "id": "54a64bef",
   "metadata": {},
   "outputs": [
    {
     "data": {
      "text/plain": [
       "25"
      ]
     },
     "execution_count": 134,
     "metadata": {},
     "output_type": "execute_result"
    }
   ],
   "source": [
    "# 마지막 요소의 최대값을 출력하시오\n",
    "max(score[-1])"
   ]
  },
  {
   "cell_type": "code",
   "execution_count": 135,
   "id": "def855db",
   "metadata": {},
   "outputs": [],
   "source": [
    "#'python'을 'world'로 수정하시오\n",
    "score[3] = 'world'"
   ]
  },
  {
   "cell_type": "code",
   "execution_count": 136,
   "id": "635983e4",
   "metadata": {},
   "outputs": [
    {
     "data": {
      "text/plain": [
       "[81, 90, 78, 'world', 'hello', True, [78, 56, 32], (24, 25, 3), 'sun']"
      ]
     },
     "execution_count": 136,
     "metadata": {},
     "output_type": "execute_result"
    }
   ],
   "source": [
    "# 마지막에 'sun'을 추가하시오\n",
    "score.append('sun')\n",
    "score"
   ]
  },
  {
   "cell_type": "code",
   "execution_count": 137,
   "id": "ec7571a3",
   "metadata": {},
   "outputs": [
    {
     "data": {
      "text/plain": [
       "True"
      ]
     },
     "execution_count": 137,
     "metadata": {},
     "output_type": "execute_result"
    }
   ],
   "source": [
    "#'world'가 있는지 확인하시오\n",
    "'world' in score"
   ]
  },
  {
   "cell_type": "code",
   "execution_count": 138,
   "id": "77a4b165",
   "metadata": {},
   "outputs": [
    {
     "data": {
      "text/plain": [
       "[25, 24, 3]"
      ]
     },
     "execution_count": 138,
     "metadata": {},
     "output_type": "execute_result"
    }
   ],
   "source": [
    "# 마지막에서 2번째 요소를 내림차순으로 정렬하시오\n",
    "sorted(score[-2], reverse=True)"
   ]
  },
  {
   "cell_type": "code",
   "execution_count": 140,
   "id": "1292e7c6",
   "metadata": {},
   "outputs": [
    {
     "data": {
      "text/plain": [
       "1"
      ]
     },
     "execution_count": 140,
     "metadata": {},
     "output_type": "execute_result"
    }
   ],
   "source": [
    "# 90은 몇 번째 인덱스에 있는지 확인하시오\n",
    "score.index(90)"
   ]
  },
  {
   "cell_type": "code",
   "execution_count": 141,
   "id": "2ae116b3",
   "metadata": {},
   "outputs": [],
   "source": [
    "# 리스트를 역순으로 정렬하시오\n",
    "score.reverse()"
   ]
  },
  {
   "cell_type": "code",
   "execution_count": 142,
   "id": "3e38b984",
   "metadata": {},
   "outputs": [],
   "source": [
    "# 3번째 인덱스에 'sea'를 추가하시오\n",
    "score.insert(3, 'sea')"
   ]
  },
  {
   "cell_type": "code",
   "execution_count": 144,
   "id": "c54611e5",
   "metadata": {},
   "outputs": [
    {
     "data": {
      "text/plain": [
       "['sun', (24, 25, 3), [78, 56, 32], 'sea', False, 'hello', 'world', 78, 90, 81]"
      ]
     },
     "execution_count": 144,
     "metadata": {},
     "output_type": "execute_result"
    }
   ],
   "source": [
    "# True를 False로 수정하시오\n",
    "score[score.index(True)] = False\n",
    "score"
   ]
  },
  {
   "cell_type": "code",
   "execution_count": 145,
   "id": "baf08ced",
   "metadata": {},
   "outputs": [
    {
     "data": {
      "text/plain": [
       "['sun', (24, 25, 3), [78, 56, 32], 'sea', False, 'hello', 78, 90, 81]"
      ]
     },
     "execution_count": 145,
     "metadata": {},
     "output_type": "execute_result"
    }
   ],
   "source": [
    "# 'world'를 제거하시오\n",
    "score.remove('world')\n",
    "score"
   ]
  },
  {
   "cell_type": "code",
   "execution_count": 146,
   "id": "0e78fcb2",
   "metadata": {},
   "outputs": [
    {
     "data": {
      "text/plain": [
       "['sun', (24, 25, 3), [78, 56, 32], 'sea', False, 'hello', 78, 81]"
      ]
     },
     "execution_count": 146,
     "metadata": {},
     "output_type": "execute_result"
    }
   ],
   "source": [
    "# 7번째 요소를 제거하시오\n",
    "score.pop(7)\n",
    "score"
   ]
  },
  {
   "cell_type": "code",
   "execution_count": 147,
   "id": "238014a2",
   "metadata": {},
   "outputs": [
    {
     "data": {
      "text/plain": [
       "['sun', (24, 25, 3), [78, 56, 32], 'sea', False, 'hello', 78]"
      ]
     },
     "execution_count": 147,
     "metadata": {},
     "output_type": "execute_result"
    }
   ],
   "source": [
    "# 마지막 요소를 제거하시오\n",
    "score.pop()\n",
    "score"
   ]
  },
  {
   "cell_type": "code",
   "execution_count": 148,
   "id": "deb2d0bc",
   "metadata": {},
   "outputs": [
    {
     "data": {
      "text/plain": [
       "7"
      ]
     },
     "execution_count": 148,
     "metadata": {},
     "output_type": "execute_result"
    }
   ],
   "source": [
    "# 리스트의 길이를 출력하시오\n",
    "len(score)"
   ]
  },
  {
   "cell_type": "code",
   "execution_count": 149,
   "id": "7596eb10",
   "metadata": {},
   "outputs": [
    {
     "data": {
      "text/plain": [
       "tuple"
      ]
     },
     "execution_count": 149,
     "metadata": {},
     "output_type": "execute_result"
    }
   ],
   "source": [
    "# 두번째 요소의 데이터타입을 출력하시오\n",
    "type(score[1])"
   ]
  },
  {
   "cell_type": "code",
   "execution_count": 185,
   "id": "d45a4530",
   "metadata": {},
   "outputs": [
    {
     "data": {
      "text/plain": [
       "[81, 90, 78, 'python', 'hello', True, '78:56:32', (24, 25, 3)]"
      ]
     },
     "execution_count": 185,
     "metadata": {},
     "output_type": "execute_result"
    }
   ],
   "source": [
    "#[78, 56, 32]를 '78:56:32'로 수정하시오\n",
    "score[score.index([78,56,32])] = ':'.join([str(s) for s in [78,56,32]])\n",
    "score"
   ]
  },
  {
   "cell_type": "code",
   "execution_count": 154,
   "id": "d756f4c3",
   "metadata": {},
   "outputs": [
    {
     "data": {
      "text/plain": [
       "[]"
      ]
     },
     "execution_count": 154,
     "metadata": {},
     "output_type": "execute_result"
    }
   ],
   "source": [
    "# 모든 원소를 제거하시오\n",
    "score.clear()\n",
    "score\n"
   ]
  },
  {
   "cell_type": "code",
   "execution_count": 155,
   "id": "9e59a132",
   "metadata": {},
   "outputs": [],
   "source": [
    "# 리스트를 삭제하시오\n",
    "del score"
   ]
  },
  {
   "cell_type": "markdown",
   "id": "94c46e96",
   "metadata": {},
   "source": [
    "### String"
   ]
  },
  {
   "cell_type": "code",
   "execution_count": null,
   "id": "84fe8ff5",
   "metadata": {},
   "outputs": [],
   "source": [
    "txt1 = '  A tale that was not right  '\n",
    "txt2 = '이 또한 지나가리라  '\n",
    "\n",
    "# ---------------------------------\n",
    "\n",
    "# tale을 출력하시오\n",
    "# '지'를 출력하시오\n",
    "# 'a'는 몇 개가 존재하는가?\n",
    "# txt1에서 모음의 갯수는 몇 개인가?\n",
    "# '또한'을 '것도'로 수정하시오\n",
    "# txt1을 대문자로 출력하시오\n",
    "# txt1에서 right은 몇 번째 인덱스에 등장하는가?\n",
    "# txt1을 space를 기준으로 나누어서 리스트에 담으시오\n",
    "# txt2의 길이는 얼마인가?\n",
    "# txt2를 character 단위로 나누어서 리스트에 담으시오\n",
    "# txt1의 좌우 공백을 제거하시오\n",
    "# txt2를 역순으로 출력하시오\n",
    "# txt1에서 짝수 인덱스만 출력하시오\n",
    "# txt2를 두 번 반복하시오\n",
    "# txt1과 txt2를 연결하여 하나의 문자열로 만드시오\n",
    "# txt1에서 'right'가 존재하는지 확인하시오\n",
    "# txt1에서 뒤에서 5번째 문자를 출력하시오\n",
    "# txt1의 문자를 index와 튜플로 묶어서 리스에 담으시오\n",
    "url = 'http://www.naver.com/news/today=20221230'\n",
    "#url 중 도메인만 출력하시오\n",
    "log = 'name : 홍길동, age : 17, sex : 남성, nation : 대한민국'\n",
    "# 아래와 같이 출력하시오\n",
    "# name =>\n",
    "# age => 17\n",
    "# sex =>"
   ]
  },
  {
   "cell_type": "code",
   "execution_count": 156,
   "id": "c5ca3d51",
   "metadata": {},
   "outputs": [
    {
     "data": {
      "text/plain": [
       "'tale'"
      ]
     },
     "execution_count": 156,
     "metadata": {},
     "output_type": "execute_result"
    }
   ],
   "source": [
    "txt1 = '  A tale that was not right  '\n",
    "txt2 = '이 또한 지나가리라  '\n",
    "\n",
    "# ---------------------------------\n",
    "\n",
    "# tale을 출력하시오\n",
    "txt1[4:8]"
   ]
  },
  {
   "cell_type": "code",
   "execution_count": 157,
   "id": "9d87469f",
   "metadata": {},
   "outputs": [
    {
     "data": {
      "text/plain": [
       "'지'"
      ]
     },
     "execution_count": 157,
     "metadata": {},
     "output_type": "execute_result"
    }
   ],
   "source": [
    "# '지'를 출력하시오\n",
    "txt2[5]"
   ]
  },
  {
   "cell_type": "code",
   "execution_count": 158,
   "id": "94c72b95",
   "metadata": {},
   "outputs": [
    {
     "data": {
      "text/plain": [
       "3"
      ]
     },
     "execution_count": 158,
     "metadata": {},
     "output_type": "execute_result"
    }
   ],
   "source": [
    "# 'a'는 몇 개가 존재하는가?\n",
    "txt1.count('a')"
   ]
  },
  {
   "cell_type": "code",
   "execution_count": 159,
   "id": "55b9d575",
   "metadata": {},
   "outputs": [
    {
     "data": {
      "text/plain": [
       "0"
      ]
     },
     "execution_count": 159,
     "metadata": {},
     "output_type": "execute_result"
    }
   ],
   "source": [
    "# txt1에서 모음의 갯수는 몇 개인가?\n",
    "c = 0\n",
    "for i in txt1:\n",
    "    if i == 'aeiouAEIOU':\n",
    "        c += 1\n",
    "c"
   ]
  },
  {
   "cell_type": "code",
   "execution_count": 160,
   "id": "8761368e",
   "metadata": {},
   "outputs": [
    {
     "data": {
      "text/plain": [
       "'이 것도 지나가리라  '"
      ]
     },
     "execution_count": 160,
     "metadata": {},
     "output_type": "execute_result"
    }
   ],
   "source": [
    "# '또한'을 '것도'로 수정하시오\n",
    "txt2.replace('또한','것도')"
   ]
  },
  {
   "cell_type": "code",
   "execution_count": 161,
   "id": "bee33ae0",
   "metadata": {},
   "outputs": [
    {
     "data": {
      "text/plain": [
       "'  A TALE THAT WAS NOT RIGHT  '"
      ]
     },
     "execution_count": 161,
     "metadata": {},
     "output_type": "execute_result"
    }
   ],
   "source": [
    "# txt1을 대문자로 출력하시오\n",
    "txt1.upper()"
   ]
  },
  {
   "cell_type": "code",
   "execution_count": 162,
   "id": "8be36949",
   "metadata": {},
   "outputs": [
    {
     "data": {
      "text/plain": [
       "22"
      ]
     },
     "execution_count": 162,
     "metadata": {},
     "output_type": "execute_result"
    }
   ],
   "source": [
    "# txt1에서 right은 몇 번째 인덱스에 등장하는가?\n",
    "txt1.index('right')"
   ]
  },
  {
   "cell_type": "code",
   "execution_count": 163,
   "id": "64dd47ad",
   "metadata": {},
   "outputs": [
    {
     "data": {
      "text/plain": [
       "['', '', 'A', 'tale', 'that', 'was', 'not', 'right', '', '']"
      ]
     },
     "execution_count": 163,
     "metadata": {},
     "output_type": "execute_result"
    }
   ],
   "source": [
    "# txt1을 space를 기준으로 나누어서 리스트에 담으시오\n",
    "txt1.split(' ')"
   ]
  },
  {
   "cell_type": "code",
   "execution_count": 164,
   "id": "44a17bfe",
   "metadata": {},
   "outputs": [
    {
     "data": {
      "text/plain": [
       "12"
      ]
     },
     "execution_count": 164,
     "metadata": {},
     "output_type": "execute_result"
    }
   ],
   "source": [
    "# txt2의 길이는 얼마인가?\n",
    "len(txt2)"
   ]
  },
  {
   "cell_type": "code",
   "execution_count": 165,
   "id": "bc173fa7",
   "metadata": {},
   "outputs": [
    {
     "data": {
      "text/plain": [
       "['이 또한 지나가리라  ']"
      ]
     },
     "execution_count": 165,
     "metadata": {},
     "output_type": "execute_result"
    }
   ],
   "source": [
    "# txt2를 character 단위로 나누어서 리스트에 담으시오\n",
    "txt2.split('character')"
   ]
  },
  {
   "cell_type": "code",
   "execution_count": 166,
   "id": "29a0a849",
   "metadata": {},
   "outputs": [
    {
     "data": {
      "text/plain": [
       "'A tale that was not right'"
      ]
     },
     "execution_count": 166,
     "metadata": {},
     "output_type": "execute_result"
    }
   ],
   "source": [
    "# txt1의 좌우 공백을 제거하시오\n",
    "txt1.strip()"
   ]
  },
  {
   "cell_type": "code",
   "execution_count": 167,
   "id": "5fa82889",
   "metadata": {},
   "outputs": [
    {
     "data": {
      "text/plain": [
       "'  라리가나지 한또 이'"
      ]
     },
     "execution_count": 167,
     "metadata": {},
     "output_type": "execute_result"
    }
   ],
   "source": [
    "# txt2를 역순으로 출력하시오\n",
    "txt2[::-1]"
   ]
  },
  {
   "cell_type": "code",
   "execution_count": 169,
   "id": "bf865aee",
   "metadata": {},
   "outputs": [
    {
     "data": {
      "text/plain": [
       "'  aeta a o ih '"
      ]
     },
     "execution_count": 169,
     "metadata": {},
     "output_type": "execute_result"
    }
   ],
   "source": [
    "# txt1에서 짝수 인덱스만 출력하시오\n",
    "txt1[1:30:2]"
   ]
  },
  {
   "cell_type": "code",
   "execution_count": 170,
   "id": "e7ceab40",
   "metadata": {},
   "outputs": [
    {
     "data": {
      "text/plain": [
       "'이 또한 지나가리라  이 또한 지나가리라  '"
      ]
     },
     "execution_count": 170,
     "metadata": {},
     "output_type": "execute_result"
    }
   ],
   "source": [
    "# txt2를 두 번 반복하시오\n",
    "txt2 * 2"
   ]
  },
  {
   "cell_type": "code",
   "execution_count": 171,
   "id": "725c7fb8",
   "metadata": {},
   "outputs": [
    {
     "data": {
      "text/plain": [
       "'  A tale that was not right  이 또한 지나가리라  '"
      ]
     },
     "execution_count": 171,
     "metadata": {},
     "output_type": "execute_result"
    }
   ],
   "source": [
    "# txt1과 txt2를 연결하여 하나의 문자열로 만드시오\n",
    "txt1+txt2"
   ]
  },
  {
   "cell_type": "code",
   "execution_count": 172,
   "id": "e7f57b82",
   "metadata": {},
   "outputs": [
    {
     "data": {
      "text/plain": [
       "True"
      ]
     },
     "execution_count": 172,
     "metadata": {},
     "output_type": "execute_result"
    }
   ],
   "source": [
    "# txt1에서 'right'가 존재하는지 확인하시오\n",
    "'right' in txt1"
   ]
  },
  {
   "cell_type": "code",
   "execution_count": 173,
   "id": "c859291d",
   "metadata": {},
   "outputs": [
    {
     "data": {
      "text/plain": [
       "'g'"
      ]
     },
     "execution_count": 173,
     "metadata": {},
     "output_type": "execute_result"
    }
   ],
   "source": [
    "# txt1에서 뒤에서 5번째 문자를 출력하시오\n",
    "txt1[-5]"
   ]
  },
  {
   "cell_type": "code",
   "execution_count": 174,
   "id": "8b02af15",
   "metadata": {},
   "outputs": [
    {
     "data": {
      "text/plain": [
       "[(0, ' '),\n",
       " (1, ' '),\n",
       " (2, 'A'),\n",
       " (3, ' '),\n",
       " (4, 't'),\n",
       " (5, 'a'),\n",
       " (6, 'l'),\n",
       " (7, 'e'),\n",
       " (8, ' '),\n",
       " (9, 't'),\n",
       " (10, 'h'),\n",
       " (11, 'a'),\n",
       " (12, 't'),\n",
       " (13, ' '),\n",
       " (14, 'w'),\n",
       " (15, 'a'),\n",
       " (16, 's'),\n",
       " (17, ' '),\n",
       " (18, 'n'),\n",
       " (19, 'o'),\n",
       " (20, 't'),\n",
       " (21, ' '),\n",
       " (22, 'r'),\n",
       " (23, 'i'),\n",
       " (24, 'g'),\n",
       " (25, 'h'),\n",
       " (26, 't'),\n",
       " (27, ' '),\n",
       " (28, ' ')]"
      ]
     },
     "execution_count": 174,
     "metadata": {},
     "output_type": "execute_result"
    }
   ],
   "source": [
    "# txt1의 문자를 index와 튜플로 묶어서 리스에 담으시오\n",
    "[(i,a) for i,a in enumerate(txt1)]"
   ]
  },
  {
   "cell_type": "code",
   "execution_count": 175,
   "id": "0da1ee4f",
   "metadata": {},
   "outputs": [
    {
     "data": {
      "text/plain": [
       "'www.naver.com'"
      ]
     },
     "execution_count": 175,
     "metadata": {},
     "output_type": "execute_result"
    }
   ],
   "source": [
    "url = 'http://www.naver.com/news/today=20221230'\n",
    "#url 중 도메인만 출력하시오\n",
    "url.split('/')[2]"
   ]
  },
  {
   "cell_type": "code",
   "execution_count": 179,
   "id": "b740e388",
   "metadata": {},
   "outputs": [
    {
     "name": "stdout",
     "output_type": "stream",
     "text": [
      "name => 홍길동, age\n"
     ]
    }
   ],
   "source": [
    "log = 'name : 홍길동, age : 17, sex : 남성, nation : 대한민국'\n",
    "# 아래와 같이 출력하시오\n",
    "# name =>\n",
    "# age => 17\n",
    "# sex =>\n",
    "\n",
    "for i in log.split('/'):\n",
    "    print(i.split(':')[0].strip(), '=>', i.split(':')[1].strip())"
   ]
  },
  {
   "cell_type": "code",
   "execution_count": 186,
   "id": "8fc63fb9",
   "metadata": {},
   "outputs": [],
   "source": [
    "# String\n",
    "# txt1 = 'A tale that was not right'\n",
    "# 'ale' 이 출력..\n",
    "# 'A tale' 출력\n",
    "# 'not' 출력\n",
    "# txt1을 소문자 전환\n",
    "# txt1을 대문자 전환\n",
    "# 'o'가 몇 개 존재하는가?\n",
    "# 'o'가 몇 번 인덱스에 존재하는가?\n",
    "# txt1의 길이는 어떻게 되는가?\n",
    "# space를 기준으로 나누어서 List에 담으세요..\n",
    "# 'tale'을 'story'로 바꾸세요..\n",
    "# txt1 안에 'right'가 존재하는지 확인"
   ]
  },
  {
   "cell_type": "code",
   "execution_count": 348,
   "id": "01a94fc5",
   "metadata": {},
   "outputs": [
    {
     "data": {
      "text/plain": [
       "'ale '"
      ]
     },
     "execution_count": 348,
     "metadata": {},
     "output_type": "execute_result"
    }
   ],
   "source": [
    "# txt1 = 'A tale that was not right'\n",
    "# 'ale' 이 출력..\n",
    "txt1[5:9]"
   ]
  },
  {
   "cell_type": "code",
   "execution_count": 349,
   "id": "5c509f2f",
   "metadata": {},
   "outputs": [
    {
     "data": {
      "text/plain": [
       "'  A tale '"
      ]
     },
     "execution_count": 349,
     "metadata": {},
     "output_type": "execute_result"
    }
   ],
   "source": [
    "# 'A tale' 출력\n",
    "txt1[:9]"
   ]
  },
  {
   "cell_type": "code",
   "execution_count": 352,
   "id": "f416c68e",
   "metadata": {},
   "outputs": [
    {
     "data": {
      "text/plain": [
       "'not'"
      ]
     },
     "execution_count": 352,
     "metadata": {},
     "output_type": "execute_result"
    }
   ],
   "source": [
    "# 'not' 출력\n",
    "txt1[18:21]"
   ]
  },
  {
   "cell_type": "code",
   "execution_count": 353,
   "id": "03a4ba97",
   "metadata": {},
   "outputs": [
    {
     "data": {
      "text/plain": [
       "'  a tale that was not right  '"
      ]
     },
     "execution_count": 353,
     "metadata": {},
     "output_type": "execute_result"
    }
   ],
   "source": [
    "# txt1을 소문자 전환\n",
    "txt1.lower()"
   ]
  },
  {
   "cell_type": "code",
   "execution_count": 354,
   "id": "69beabfd",
   "metadata": {},
   "outputs": [
    {
     "data": {
      "text/plain": [
       "'  A TALE THAT WAS NOT RIGHT  '"
      ]
     },
     "execution_count": 354,
     "metadata": {},
     "output_type": "execute_result"
    }
   ],
   "source": [
    "# txt1을 대문자 전환\n",
    "txt1.upper()"
   ]
  },
  {
   "cell_type": "code",
   "execution_count": 355,
   "id": "5acf3fae",
   "metadata": {},
   "outputs": [
    {
     "data": {
      "text/plain": [
       "1"
      ]
     },
     "execution_count": 355,
     "metadata": {},
     "output_type": "execute_result"
    }
   ],
   "source": [
    "# 'o'가 몇 개 존재하는가?\n",
    "txt1.count('o')"
   ]
  },
  {
   "cell_type": "code",
   "execution_count": 356,
   "id": "8b87d002",
   "metadata": {},
   "outputs": [
    {
     "data": {
      "text/plain": [
       "19"
      ]
     },
     "execution_count": 356,
     "metadata": {},
     "output_type": "execute_result"
    }
   ],
   "source": [
    "# 'o'가 몇 번 인덱스에 존재하는가?\n",
    "txt1.index('o')"
   ]
  },
  {
   "cell_type": "code",
   "execution_count": null,
   "id": "4e55bc39",
   "metadata": {},
   "outputs": [],
   "source": [
    "# txt1의 길이는 어떻게 되는가?\n",
    "len(txt1)"
   ]
  },
  {
   "cell_type": "code",
   "execution_count": 358,
   "id": "37c4df7f",
   "metadata": {},
   "outputs": [
    {
     "data": {
      "text/plain": [
       "['', '', 'A', 'tale', 'that', 'was', 'not', 'right', '', '']"
      ]
     },
     "execution_count": 358,
     "metadata": {},
     "output_type": "execute_result"
    }
   ],
   "source": [
    "# space를 기준으로 나누어서 List에 담으세요..\n",
    "txt1.split(' ')"
   ]
  },
  {
   "cell_type": "code",
   "execution_count": 359,
   "id": "8f99cfe9",
   "metadata": {},
   "outputs": [
    {
     "data": {
      "text/plain": [
       "'  A story that was not right  '"
      ]
     },
     "execution_count": 359,
     "metadata": {},
     "output_type": "execute_result"
    }
   ],
   "source": [
    "# 'tale'을 'story'로 바꾸세요..\n",
    "txt1.replace('tale','story')"
   ]
  },
  {
   "cell_type": "code",
   "execution_count": 361,
   "id": "2a3a6333",
   "metadata": {},
   "outputs": [
    {
     "data": {
      "text/plain": [
       "True"
      ]
     },
     "execution_count": 361,
     "metadata": {},
     "output_type": "execute_result"
    }
   ],
   "source": [
    "# txt1 안에 'right'가 존재하는지 확인\n",
    "'right' in txt1"
   ]
  },
  {
   "cell_type": "code",
   "execution_count": null,
   "id": "01fb49de",
   "metadata": {},
   "outputs": [],
   "source": [
    "# List\n",
    "sol = ['태양','수성','금성','지구','화성','목성','지구']\n",
    "sol1 = ['토성','천황성','해왕성']\n",
    "planet = '지구'\n",
    "\n",
    "# 1. sol에서 ['수성','금성']을 출력\n",
    "# 2. sol에서 '지구' 위치 인덱스 출력\n",
    "# 3. sol에서 '화성'을 '해왕성'으로 수정\n",
    "# 4. '수성'자리에 '명왕성' 삽입\n",
    "# 5. '토성'을 맨 끝에 삽입\n",
    "# 6. 맨 끝 요소를 삭제하고 리턴\n",
    "# 7. '금성'을 제거\n",
    "# 8. 1번 인덱스에서 3번 인덱스까지 삭제\n",
    "# 9. 인덱스 2번 요소 삭제\n",
    "# 10. sol과 sol1을 합치세요\n",
    "# 11. 내림차순 정렬\n",
    "# 12. 오름차순 정렬\n",
    "# 13. '만리장성'이 있는지 확인\n",
    "# 14. so1을 3번 반복하세요\n",
    "# 15. 길이를 출력하세요\n",
    "# 16. '지구'가 몇 개 포함되어있는지 확인.\n",
    "# 17. 모든 원소를 지우세요.\n",
    "# 18. sol리스트를 삭제하세요..\n"
   ]
  },
  {
   "cell_type": "code",
   "execution_count": 362,
   "id": "475bbebd",
   "metadata": {},
   "outputs": [
    {
     "data": {
      "text/plain": [
       "['수성', '금성']"
      ]
     },
     "execution_count": 362,
     "metadata": {},
     "output_type": "execute_result"
    }
   ],
   "source": [
    "# List\n",
    "sol = ['태양','수성','금성','지구','화성','목성','지구']\n",
    "sol1 = ['토성','천황성','해왕성']\n",
    "planet = '지구'\n",
    "\n",
    "# 1. sol에서 ['수성','금성']을 출력\n",
    "sol[1:3]"
   ]
  },
  {
   "cell_type": "code",
   "execution_count": 363,
   "id": "37f99494",
   "metadata": {},
   "outputs": [
    {
     "data": {
      "text/plain": [
       "3"
      ]
     },
     "execution_count": 363,
     "metadata": {},
     "output_type": "execute_result"
    }
   ],
   "source": [
    "# 2. sol에서 '지구' 위치 인덱스 출력\n",
    "sol.index('지구')"
   ]
  },
  {
   "cell_type": "code",
   "execution_count": 364,
   "id": "5c4a1dde",
   "metadata": {},
   "outputs": [
    {
     "data": {
      "text/plain": [
       "['태양', '수성', '금성', '지구', '해왕성', '목성', '지구']"
      ]
     },
     "execution_count": 364,
     "metadata": {},
     "output_type": "execute_result"
    }
   ],
   "source": [
    "# 3. sol에서 '화성'을 '해왕성'으로 수정\n",
    "sol[sol.index('화성')]='해왕성'\n",
    "sol"
   ]
  },
  {
   "cell_type": "code",
   "execution_count": 365,
   "id": "2791d2e1",
   "metadata": {},
   "outputs": [
    {
     "data": {
      "text/plain": [
       "['태양', '명왕성', '금성', '지구', '해왕성', '목성', '지구']"
      ]
     },
     "execution_count": 365,
     "metadata": {},
     "output_type": "execute_result"
    }
   ],
   "source": [
    "# 4. '수성'자리에 '명왕성' 삽입\n",
    "sol[sol.index('수성')]='명왕성'\n",
    "sol"
   ]
  },
  {
   "cell_type": "code",
   "execution_count": 366,
   "id": "6cc0daa9",
   "metadata": {},
   "outputs": [],
   "source": [
    "# 5. '토성'을 맨 끝에 삽입\n",
    "sol.append('토성')"
   ]
  },
  {
   "cell_type": "code",
   "execution_count": 367,
   "id": "3bc9ce24",
   "metadata": {},
   "outputs": [
    {
     "data": {
      "text/plain": [
       "['태양', '명왕성', '금성', '지구', '해왕성', '목성', '지구']"
      ]
     },
     "execution_count": 367,
     "metadata": {},
     "output_type": "execute_result"
    }
   ],
   "source": [
    "# 6. 맨 끝 요소를 삭제하고 리턴\n",
    "sol.pop()\n",
    "sol"
   ]
  },
  {
   "cell_type": "code",
   "execution_count": 368,
   "id": "e0982370",
   "metadata": {},
   "outputs": [
    {
     "data": {
      "text/plain": [
       "['태양', '명왕성', '지구', '해왕성', '목성', '지구']"
      ]
     },
     "execution_count": 368,
     "metadata": {},
     "output_type": "execute_result"
    }
   ],
   "source": [
    "# 7. '금성'을 제거\n",
    "sol.remove('금성')\n",
    "sol"
   ]
  },
  {
   "cell_type": "code",
   "execution_count": 369,
   "id": "3deb9756",
   "metadata": {},
   "outputs": [
    {
     "data": {
      "text/plain": [
       "['태양', '해왕성', '목성', '지구']"
      ]
     },
     "execution_count": 369,
     "metadata": {},
     "output_type": "execute_result"
    }
   ],
   "source": [
    "# 8. 1번 인덱스에서 3번 인덱스까지 삭제\n",
    "del sol[1:3]\n",
    "sol"
   ]
  },
  {
   "cell_type": "code",
   "execution_count": 370,
   "id": "21973fef",
   "metadata": {},
   "outputs": [],
   "source": [
    "# 9. 인덱스 2번 요소 삭제\n",
    "del sol[2]"
   ]
  },
  {
   "cell_type": "code",
   "execution_count": 372,
   "id": "c476eee5",
   "metadata": {},
   "outputs": [
    {
     "data": {
      "text/plain": [
       "['태양', '해왕성', '지구', '토성', '천황성', '해왕성']"
      ]
     },
     "execution_count": 372,
     "metadata": {},
     "output_type": "execute_result"
    }
   ],
   "source": [
    "# 10. sol과 sol1을 합치세요\n",
    "sol+sol1\n"
   ]
  },
  {
   "cell_type": "code",
   "execution_count": 373,
   "id": "9135d131",
   "metadata": {},
   "outputs": [
    {
     "data": {
      "text/plain": [
       "['해왕성', '태양', '지구']"
      ]
     },
     "execution_count": 373,
     "metadata": {},
     "output_type": "execute_result"
    }
   ],
   "source": [
    "# 11. 내림차순 정렬\n",
    "sorted(sol, reverse = True)"
   ]
  },
  {
   "cell_type": "code",
   "execution_count": 374,
   "id": "8b6d04e6",
   "metadata": {},
   "outputs": [
    {
     "data": {
      "text/plain": [
       "['지구', '태양', '해왕성']"
      ]
     },
     "execution_count": 374,
     "metadata": {},
     "output_type": "execute_result"
    }
   ],
   "source": [
    "# 12. 오름차순 정렬\n",
    "sorted(sol, reverse = False)"
   ]
  },
  {
   "cell_type": "code",
   "execution_count": 375,
   "id": "214a34ea",
   "metadata": {},
   "outputs": [
    {
     "data": {
      "text/plain": [
       "False"
      ]
     },
     "execution_count": 375,
     "metadata": {},
     "output_type": "execute_result"
    }
   ],
   "source": [
    "# 13. '만리장성'이 있는지 확인\n",
    "'만리장성' in sol"
   ]
  },
  {
   "cell_type": "code",
   "execution_count": 376,
   "id": "db1471ad",
   "metadata": {},
   "outputs": [
    {
     "data": {
      "text/plain": [
       "['태양', '해왕성', '지구', '태양', '해왕성', '지구', '태양', '해왕성', '지구']"
      ]
     },
     "execution_count": 376,
     "metadata": {},
     "output_type": "execute_result"
    }
   ],
   "source": [
    "# 14. so1을 3번 반복하세요\n",
    "sol * 3"
   ]
  },
  {
   "cell_type": "code",
   "execution_count": 377,
   "id": "2edf4cdd",
   "metadata": {},
   "outputs": [
    {
     "data": {
      "text/plain": [
       "3"
      ]
     },
     "execution_count": 377,
     "metadata": {},
     "output_type": "execute_result"
    }
   ],
   "source": [
    "# 15. 길이를 출력하세요\n",
    "len(sol)"
   ]
  },
  {
   "cell_type": "code",
   "execution_count": 378,
   "id": "77086d57",
   "metadata": {},
   "outputs": [
    {
     "data": {
      "text/plain": [
       "1"
      ]
     },
     "execution_count": 378,
     "metadata": {},
     "output_type": "execute_result"
    }
   ],
   "source": [
    "# 16. '지구'가 몇 개 포함되어있는지 확인.\n",
    "sol.count('지구')"
   ]
  },
  {
   "cell_type": "code",
   "execution_count": 379,
   "id": "28b1e623",
   "metadata": {},
   "outputs": [
    {
     "data": {
      "text/plain": [
       "[]"
      ]
     },
     "execution_count": 379,
     "metadata": {},
     "output_type": "execute_result"
    }
   ],
   "source": [
    "# 17. 모든 원소를 지우세요.\n",
    "sol.clear()\n",
    "sol"
   ]
  },
  {
   "cell_type": "code",
   "execution_count": 380,
   "id": "b1e193fa",
   "metadata": {},
   "outputs": [],
   "source": [
    "# 18. sol리스트를 삭제하세요..\n",
    "del sol"
   ]
  },
  {
   "cell_type": "code",
   "execution_count": null,
   "id": "128f35da",
   "metadata": {},
   "outputs": [],
   "source": [
    "# Tuple\n",
    "myTuple = ('tuple', (1,2,3) , [4,5,6,7,8] ,'7', '8', '9')\n",
    "\n",
    "# 'tuple'을 출력하세요\n",
    "# 3을 출력하세요\n",
    "# 4,5를 출력하세요\n",
    "# [4,5,6]을 출력하세요\n",
    "# tuple의 길이를 리턴하세요 ( 요소의 갯수가 몇 개인지 )\n",
    "# '7'이 있는지 확인하세요\n",
    "# '7'의 인덱스를 출력하세요.\n",
    "# '7'이 몇 개 있는지 확인하세요\n",
    "# 인데스 2번를 출력하세요\n",
    "# 인데스 2번에서 최대값을 출력하세요\n",
    "# 인데스 2번에서 최소값을 출력하세요\n",
    "# 인데스 2번에서 총합을 출력하세요\n",
    "# 인데스 2번에서 평균을 출력하세요\n",
    "# 인데스 2번를 내림차순 정렬해서 출력하세요."
   ]
  },
  {
   "cell_type": "code",
   "execution_count": 71,
   "id": "f3efaef8",
   "metadata": {},
   "outputs": [
    {
     "name": "stdout",
     "output_type": "stream",
     "text": [
      "('tuple', (1, 2, 3), [4, 5, 6, 7, 8], '7', '8', '9')\n"
     ]
    }
   ],
   "source": [
    "# Tuple\n",
    "myTuple = ('tuple', (1,2,3) , [4,5,6,7,8] ,'7', '8', '9')\n",
    "\n",
    "# 'tuple'을 출력하세요\n",
    "print(myTuple)"
   ]
  },
  {
   "cell_type": "code",
   "execution_count": 72,
   "id": "30487b78",
   "metadata": {},
   "outputs": [
    {
     "data": {
      "text/plain": [
       "3"
      ]
     },
     "execution_count": 72,
     "metadata": {},
     "output_type": "execute_result"
    }
   ],
   "source": [
    "# 3을 출력하세요\n",
    "myTuple[1][2]"
   ]
  },
  {
   "cell_type": "code",
   "execution_count": 74,
   "id": "b5dea45e",
   "metadata": {},
   "outputs": [
    {
     "data": {
      "text/plain": [
       "[4, 5]"
      ]
     },
     "execution_count": 74,
     "metadata": {},
     "output_type": "execute_result"
    }
   ],
   "source": [
    "# 4,5를 출력하세요\n",
    "myTuple[2][:2]"
   ]
  },
  {
   "cell_type": "code",
   "execution_count": 75,
   "id": "fdcc0109",
   "metadata": {},
   "outputs": [
    {
     "data": {
      "text/plain": [
       "[4, 5, 6]"
      ]
     },
     "execution_count": 75,
     "metadata": {},
     "output_type": "execute_result"
    }
   ],
   "source": [
    "# [4,5,6]을 출력하세요\n",
    "myTuple[2][:3]"
   ]
  },
  {
   "cell_type": "code",
   "execution_count": 76,
   "id": "39b5f82c",
   "metadata": {},
   "outputs": [
    {
     "data": {
      "text/plain": [
       "6"
      ]
     },
     "execution_count": 76,
     "metadata": {},
     "output_type": "execute_result"
    }
   ],
   "source": [
    "# tuple의 길이를 리턴하세요 ( 요소의 갯수가 몇 개인지 )\n",
    "len(myTuple)"
   ]
  },
  {
   "cell_type": "code",
   "execution_count": 77,
   "id": "b4175604",
   "metadata": {},
   "outputs": [
    {
     "data": {
      "text/plain": [
       "True"
      ]
     },
     "execution_count": 77,
     "metadata": {},
     "output_type": "execute_result"
    }
   ],
   "source": [
    "# '7'이 있는지 확인하세요\n",
    "'7' in myTuple"
   ]
  },
  {
   "cell_type": "code",
   "execution_count": 78,
   "id": "71e6203c",
   "metadata": {},
   "outputs": [
    {
     "data": {
      "text/plain": [
       "3"
      ]
     },
     "execution_count": 78,
     "metadata": {},
     "output_type": "execute_result"
    }
   ],
   "source": [
    "# '7'의 인덱스를 출력하세요.\n",
    "myTuple.index('7')"
   ]
  },
  {
   "cell_type": "code",
   "execution_count": 79,
   "id": "b8e3e6c8",
   "metadata": {},
   "outputs": [
    {
     "data": {
      "text/plain": [
       "1"
      ]
     },
     "execution_count": 79,
     "metadata": {},
     "output_type": "execute_result"
    }
   ],
   "source": [
    "# '7'이 몇 개 있는지 확인하세요\n",
    "myTuple.count('7')"
   ]
  },
  {
   "cell_type": "code",
   "execution_count": 80,
   "id": "6e23e107",
   "metadata": {},
   "outputs": [
    {
     "data": {
      "text/plain": [
       "[4, 5, 6, 7, 8]"
      ]
     },
     "execution_count": 80,
     "metadata": {},
     "output_type": "execute_result"
    }
   ],
   "source": [
    "# 인데스 2번를 출력하세요\n",
    "myTuple[2]"
   ]
  },
  {
   "cell_type": "code",
   "execution_count": 82,
   "id": "22c358b2",
   "metadata": {},
   "outputs": [
    {
     "data": {
      "text/plain": [
       "8"
      ]
     },
     "execution_count": 82,
     "metadata": {},
     "output_type": "execute_result"
    }
   ],
   "source": [
    "# 인데스 2번에서 최대값을 출력하세요\n",
    "max(myTuple[2])"
   ]
  },
  {
   "cell_type": "code",
   "execution_count": 83,
   "id": "f66df7ff",
   "metadata": {},
   "outputs": [
    {
     "data": {
      "text/plain": [
       "4"
      ]
     },
     "execution_count": 83,
     "metadata": {},
     "output_type": "execute_result"
    }
   ],
   "source": [
    "# 인데스 2번에서 최소값을 출력하세요\n",
    "min(myTuple[2])"
   ]
  },
  {
   "cell_type": "code",
   "execution_count": 84,
   "id": "3c0f326d",
   "metadata": {},
   "outputs": [
    {
     "data": {
      "text/plain": [
       "30"
      ]
     },
     "execution_count": 84,
     "metadata": {},
     "output_type": "execute_result"
    }
   ],
   "source": [
    "# 인데스 2번에서 총합을 출력하세요\n",
    "sum(myTuple[2])"
   ]
  },
  {
   "cell_type": "code",
   "execution_count": 85,
   "id": "f3874134",
   "metadata": {},
   "outputs": [
    {
     "data": {
      "text/plain": [
       "5.0"
      ]
     },
     "execution_count": 85,
     "metadata": {},
     "output_type": "execute_result"
    }
   ],
   "source": [
    "# 인데스 2번에서 평균을 출력하세요\n",
    "sum(myTuple[2])/len(myTuple)"
   ]
  },
  {
   "cell_type": "code",
   "execution_count": 86,
   "id": "cb505d8c",
   "metadata": {},
   "outputs": [
    {
     "data": {
      "text/plain": [
       "[8, 7, 6, 5, 4]"
      ]
     },
     "execution_count": 86,
     "metadata": {},
     "output_type": "execute_result"
    }
   ],
   "source": [
    "# 인데스 2번를 내림차순 정렬해서 출력하세요.\n",
    "sorted(myTuple[2], reverse = True)"
   ]
  },
  {
   "cell_type": "code",
   "execution_count": null,
   "id": "6a6400ac",
   "metadata": {},
   "outputs": [],
   "source": [
    "# Set\n",
    "\n",
    "# 원소가 없는 set인 s를 만드세요\n",
    "# s에 원소 'sky'와 'earth'를 추가하세요\n",
    "# s에 1,2 두 원소를 추가하세요\n",
    "# s에서 'sky'를 삭제하세요\n",
    "\n",
    "A = {1,2,3,4,5,6}\n",
    "B = {1,2,3,7,8,9}\n",
    "C = {1,2,3}\n",
    "# 두 집합의 합집합을 출력\n",
    "# 두 집합의 교집합을 출력\n",
    "# A의 B에 대한 차집합\n",
    "# 대칭차집합\n",
    "# C가 A의 부분집합인지 확인\n",
    "# A가 C를 포함하는지 확인\n",
    "\n",
    "# 집합 B의 길이를 출력\n",
    "# 집합 B의 최대값 출력\n",
    "# 집합 B의 최소값 출력\n",
    "# 집합 B의 합을 출력\n",
    "# 집합 B의 평균출력\n",
    "# 집합 B의 내림차순 출력\n",
    "# 집합 B에 5가 포함되어 있는지 확인"
   ]
  },
  {
   "cell_type": "code",
   "execution_count": 87,
   "id": "67235649",
   "metadata": {},
   "outputs": [],
   "source": [
    "# Set\n",
    "\n",
    "# 원소가 없는 set인 s를 만드세요\n",
    "s = set()"
   ]
  },
  {
   "cell_type": "code",
   "execution_count": 88,
   "id": "b7960cf9",
   "metadata": {},
   "outputs": [
    {
     "data": {
      "text/plain": [
       "{'earth', 'sky'}"
      ]
     },
     "execution_count": 88,
     "metadata": {},
     "output_type": "execute_result"
    }
   ],
   "source": [
    "# s에 원소 'sky'와 'earth'를 추가하세요\n",
    "s.add('sky')\n",
    "s.add('earth')\n",
    "s"
   ]
  },
  {
   "cell_type": "code",
   "execution_count": 89,
   "id": "f857c041",
   "metadata": {},
   "outputs": [],
   "source": [
    "# s에 1,2 두 원소를 추가하세요\n",
    "set.update({1,2})"
   ]
  },
  {
   "cell_type": "code",
   "execution_count": 90,
   "id": "1de9d51d",
   "metadata": {},
   "outputs": [
    {
     "data": {
      "text/plain": [
       "{'earth'}"
      ]
     },
     "execution_count": 90,
     "metadata": {},
     "output_type": "execute_result"
    }
   ],
   "source": [
    "# s에서 'sky'를 삭제하세요\n",
    "s.remove('sky')\n",
    "s"
   ]
  },
  {
   "cell_type": "code",
   "execution_count": 91,
   "id": "b1407dc0",
   "metadata": {},
   "outputs": [
    {
     "data": {
      "text/plain": [
       "{1, 2, 3, 4, 5, 6, 7, 8, 9}"
      ]
     },
     "execution_count": 91,
     "metadata": {},
     "output_type": "execute_result"
    }
   ],
   "source": [
    "A = {1,2,3,4,5,6}\n",
    "B = {1,2,3,7,8,9}\n",
    "C = {1,2,3}\n",
    "# 두 집합의 합집합을 출력\n",
    "A.union(B)"
   ]
  },
  {
   "cell_type": "code",
   "execution_count": 92,
   "id": "5f1bbcef",
   "metadata": {},
   "outputs": [
    {
     "data": {
      "text/plain": [
       "{1, 2, 3}"
      ]
     },
     "execution_count": 92,
     "metadata": {},
     "output_type": "execute_result"
    }
   ],
   "source": [
    "# 두 집합의 교집합을 출력\n",
    "A.intersection(B)"
   ]
  },
  {
   "cell_type": "code",
   "execution_count": 93,
   "id": "0b6b6448",
   "metadata": {},
   "outputs": [
    {
     "data": {
      "text/plain": [
       "{4, 5, 6}"
      ]
     },
     "execution_count": 93,
     "metadata": {},
     "output_type": "execute_result"
    }
   ],
   "source": [
    "# A의 B에 대한 차집합\n",
    "A.difference(B)"
   ]
  },
  {
   "cell_type": "code",
   "execution_count": 94,
   "id": "3cc8e85d",
   "metadata": {},
   "outputs": [
    {
     "data": {
      "text/plain": [
       "{4, 5, 6, 7, 8, 9}"
      ]
     },
     "execution_count": 94,
     "metadata": {},
     "output_type": "execute_result"
    }
   ],
   "source": [
    "# 대칭차집합\n",
    "A.symmetric_difference(B)"
   ]
  },
  {
   "cell_type": "code",
   "execution_count": 96,
   "id": "80fdeb15",
   "metadata": {},
   "outputs": [
    {
     "data": {
      "text/plain": [
       "True"
      ]
     },
     "execution_count": 96,
     "metadata": {},
     "output_type": "execute_result"
    }
   ],
   "source": [
    "# C가 A의 부분집합인지 확인\n",
    "C.issubset(A)"
   ]
  },
  {
   "cell_type": "code",
   "execution_count": 97,
   "id": "4b512de6",
   "metadata": {},
   "outputs": [
    {
     "data": {
      "text/plain": [
       "False"
      ]
     },
     "execution_count": 97,
     "metadata": {},
     "output_type": "execute_result"
    }
   ],
   "source": [
    "# A가 C를 포함하는지 확인\n",
    "C.issuperset(A)"
   ]
  },
  {
   "cell_type": "code",
   "execution_count": 98,
   "id": "179d7f8d",
   "metadata": {},
   "outputs": [
    {
     "data": {
      "text/plain": [
       "6"
      ]
     },
     "execution_count": 98,
     "metadata": {},
     "output_type": "execute_result"
    }
   ],
   "source": [
    "# 집합 B의 길이를 출력\n",
    "len(B)"
   ]
  },
  {
   "cell_type": "code",
   "execution_count": 99,
   "id": "2648df38",
   "metadata": {},
   "outputs": [
    {
     "data": {
      "text/plain": [
       "9"
      ]
     },
     "execution_count": 99,
     "metadata": {},
     "output_type": "execute_result"
    }
   ],
   "source": [
    "# 집합 B의 최대값 출력\n",
    "max(B)"
   ]
  },
  {
   "cell_type": "code",
   "execution_count": 100,
   "id": "897094dc",
   "metadata": {},
   "outputs": [
    {
     "data": {
      "text/plain": [
       "1"
      ]
     },
     "execution_count": 100,
     "metadata": {},
     "output_type": "execute_result"
    }
   ],
   "source": [
    "# 집합 B의 최소값 출력\n",
    "min(B)"
   ]
  },
  {
   "cell_type": "code",
   "execution_count": 101,
   "id": "1e0bc823",
   "metadata": {},
   "outputs": [
    {
     "data": {
      "text/plain": [
       "30"
      ]
     },
     "execution_count": 101,
     "metadata": {},
     "output_type": "execute_result"
    }
   ],
   "source": [
    "# 집합 B의 합을 출력\n",
    "sum(B)"
   ]
  },
  {
   "cell_type": "code",
   "execution_count": 102,
   "id": "8fa68aa8",
   "metadata": {},
   "outputs": [
    {
     "data": {
      "text/plain": [
       "5.0"
      ]
     },
     "execution_count": 102,
     "metadata": {},
     "output_type": "execute_result"
    }
   ],
   "source": [
    "# 집합 B의 평균출력\n",
    "sum(B)/len(B)"
   ]
  },
  {
   "cell_type": "code",
   "execution_count": 103,
   "id": "85e665b3",
   "metadata": {},
   "outputs": [
    {
     "data": {
      "text/plain": [
       "[9, 8, 7, 3, 2, 1]"
      ]
     },
     "execution_count": 103,
     "metadata": {},
     "output_type": "execute_result"
    }
   ],
   "source": [
    "# 집합 B의 내림차순 출력\n",
    "sorted(B, reverse = True)"
   ]
  },
  {
   "cell_type": "code",
   "execution_count": 104,
   "id": "33cc50ec",
   "metadata": {},
   "outputs": [
    {
     "data": {
      "text/plain": [
       "False"
      ]
     },
     "execution_count": 104,
     "metadata": {},
     "output_type": "execute_result"
    }
   ],
   "source": [
    "# 집합 B에 5가 포함되어 있는지 확인\n",
    "5 in B"
   ]
  },
  {
   "cell_type": "code",
   "execution_count": null,
   "id": "9cca22af",
   "metadata": {},
   "outputs": [],
   "source": [
    "# Dictionary\n",
    "\n",
    "# 'mydict'라는 딕셔너리를 만드세요.\n",
    "# 'red':4, 'blue':3, 'green':1 세 요소를 추가하세요.\n",
    "# key에 'blue'가 있는지 확인하세요.\n",
    "# mydict의 길이를 출력하세요.\n",
    "# 'red'의 값을 출력하세요.\n",
    "# 'red'의 값을 10으로 수정하세요.\n",
    "# key값만 출력하세요\n",
    "# value값만 출력하세요\n",
    "# key와 value를 튜플로 출력하세요.\n",
    "# (key기준으로 정렬하세요.)\n",
    "# (value기준으로 정렬하세요)\n",
    "# key 'blue'요소를 삭제하세요\n",
    "# key 'pink'요소 값을 출력하되 오류가 없도록 하세요\n",
    "# key 'pink' 값을 출력하되 없으면, value 20으로 새로이 추가하세요\n",
    "# value에 20이 있는지 확인하세요.\n",
    "# key는 'yellow'에 value는 30을 추가하세요.\n",
    "# yourdict = {'파랑':50, '빨강':70}을 합하세요.."
   ]
  },
  {
   "cell_type": "code",
   "execution_count": 107,
   "id": "c895a7b1",
   "metadata": {},
   "outputs": [],
   "source": [
    "# Dictionary\n",
    "\n",
    "# 'mydict'라는 딕셔너리를 만드세요.\n",
    "d = {}"
   ]
  },
  {
   "cell_type": "code",
   "execution_count": 108,
   "id": "37069218",
   "metadata": {},
   "outputs": [
    {
     "data": {
      "text/plain": [
       "{'red': 4, 'blue': 3, 'green': 1}"
      ]
     },
     "execution_count": 108,
     "metadata": {},
     "output_type": "execute_result"
    }
   ],
   "source": [
    "# 'red':4, 'blue':3, 'green':1 세 요소를 추가하세요.\n",
    "d['red'] = 4\n",
    "d['blue'] = 3\n",
    "d['green'] = 1\n",
    "d"
   ]
  },
  {
   "cell_type": "code",
   "execution_count": 110,
   "id": "72f05bad",
   "metadata": {},
   "outputs": [
    {
     "data": {
      "text/plain": [
       "True"
      ]
     },
     "execution_count": 110,
     "metadata": {},
     "output_type": "execute_result"
    }
   ],
   "source": [
    "# key에 'blue'가 있는지 확인하세요.\n",
    "'blue' in d"
   ]
  },
  {
   "cell_type": "code",
   "execution_count": 111,
   "id": "e27f7d10",
   "metadata": {},
   "outputs": [
    {
     "data": {
      "text/plain": [
       "3"
      ]
     },
     "execution_count": 111,
     "metadata": {},
     "output_type": "execute_result"
    }
   ],
   "source": [
    "# mydict의 길이를 출력하세요.\n",
    "len(d)"
   ]
  },
  {
   "cell_type": "code",
   "execution_count": 112,
   "id": "15c308f8",
   "metadata": {},
   "outputs": [
    {
     "data": {
      "text/plain": [
       "4"
      ]
     },
     "execution_count": 112,
     "metadata": {},
     "output_type": "execute_result"
    }
   ],
   "source": [
    "# 'red'의 값을 출력하세요.\n",
    "d['red']"
   ]
  },
  {
   "cell_type": "code",
   "execution_count": 113,
   "id": "517978b5",
   "metadata": {},
   "outputs": [
    {
     "data": {
      "text/plain": [
       "{'red': 10, 'blue': 3, 'green': 1}"
      ]
     },
     "execution_count": 113,
     "metadata": {},
     "output_type": "execute_result"
    }
   ],
   "source": [
    "# 'red'의 값을 10으로 수정하세요.\n",
    "d['red']=10\n",
    "d"
   ]
  },
  {
   "cell_type": "code",
   "execution_count": 114,
   "id": "7dc0dc04",
   "metadata": {},
   "outputs": [
    {
     "data": {
      "text/plain": [
       "dict_keys(['red', 'blue', 'green'])"
      ]
     },
     "execution_count": 114,
     "metadata": {},
     "output_type": "execute_result"
    }
   ],
   "source": [
    "# key값만 출력하세요\n",
    "d.keys()"
   ]
  },
  {
   "cell_type": "code",
   "execution_count": 115,
   "id": "9e5e0c2b",
   "metadata": {},
   "outputs": [
    {
     "data": {
      "text/plain": [
       "dict_values([10, 3, 1])"
      ]
     },
     "execution_count": 115,
     "metadata": {},
     "output_type": "execute_result"
    }
   ],
   "source": [
    "# value값만 출력하세요\n",
    "d.values()"
   ]
  },
  {
   "cell_type": "code",
   "execution_count": 116,
   "id": "fc1f84c7",
   "metadata": {},
   "outputs": [
    {
     "data": {
      "text/plain": [
       "dict_items([('red', 10), ('blue', 3), ('green', 1)])"
      ]
     },
     "execution_count": 116,
     "metadata": {},
     "output_type": "execute_result"
    }
   ],
   "source": [
    "# key와 value를 튜플로 출력하세요.\n",
    "d.items()"
   ]
  },
  {
   "cell_type": "code",
   "execution_count": 128,
   "id": "370defbb",
   "metadata": {},
   "outputs": [
    {
     "data": {
      "text/plain": [
       "[('blue', 3), ('green', 1), ('red', 10)]"
      ]
     },
     "execution_count": 128,
     "metadata": {},
     "output_type": "execute_result"
    }
   ],
   "source": [
    "# (key기준으로 정렬하세요.)\n",
    "sorted(d.items(), key = lambda x:x[0])"
   ]
  },
  {
   "cell_type": "code",
   "execution_count": 127,
   "id": "dbcee323",
   "metadata": {},
   "outputs": [
    {
     "data": {
      "text/plain": [
       "[('green', 1), ('blue', 3), ('red', 10)]"
      ]
     },
     "execution_count": 127,
     "metadata": {},
     "output_type": "execute_result"
    }
   ],
   "source": [
    "# (value기준으로 정렬하세요)\n",
    "sorted(d.items(), key = lambda x:x [1])"
   ]
  },
  {
   "cell_type": "code",
   "execution_count": 129,
   "id": "f8dcb690",
   "metadata": {},
   "outputs": [
    {
     "data": {
      "text/plain": [
       "{'red': 10, 'green': 1}"
      ]
     },
     "execution_count": 129,
     "metadata": {},
     "output_type": "execute_result"
    }
   ],
   "source": [
    "# key 'blue'요소를 삭제하세요\n",
    "d.pop('blue')\n",
    "d"
   ]
  },
  {
   "cell_type": "code",
   "execution_count": 130,
   "id": "5350b8ea",
   "metadata": {},
   "outputs": [],
   "source": [
    "# key 'pink'요소 값을 출력하되 오류가 없도록 하세요\n",
    "d.get('pink')"
   ]
  },
  {
   "cell_type": "code",
   "execution_count": 134,
   "id": "8ec00b6b",
   "metadata": {},
   "outputs": [
    {
     "data": {
      "text/plain": [
       "{'red': 10, 'green': 1, 'pink': 20}"
      ]
     },
     "execution_count": 134,
     "metadata": {},
     "output_type": "execute_result"
    }
   ],
   "source": [
    "# key 'pink' 값을 출력하되 없으면, value 20으로 새로이 추가하세요\n",
    "d.setdefault('pink', 20)\n",
    "d"
   ]
  },
  {
   "cell_type": "code",
   "execution_count": 135,
   "id": "e990b50c",
   "metadata": {},
   "outputs": [
    {
     "data": {
      "text/plain": [
       "False"
      ]
     },
     "execution_count": 135,
     "metadata": {},
     "output_type": "execute_result"
    }
   ],
   "source": [
    "# value에 20이 있는지 확인하세요.\n",
    "20 in d"
   ]
  },
  {
   "cell_type": "code",
   "execution_count": 136,
   "id": "3643e709",
   "metadata": {},
   "outputs": [],
   "source": [
    "# key는 'yellow'에 value는 30을 추가하세요.\n",
    "d['yellow']=30"
   ]
  },
  {
   "cell_type": "code",
   "execution_count": 137,
   "id": "c109c3d9",
   "metadata": {},
   "outputs": [
    {
     "data": {
      "text/plain": [
       "{'red': 10, 'green': 1, 'pink': 20, 'yellow': 30, '파랑': 50, '빨강': 70}"
      ]
     },
     "execution_count": 137,
     "metadata": {},
     "output_type": "execute_result"
    }
   ],
   "source": [
    "# yourdict = {'파랑':50, '빨강':70}을 합하세요..\n",
    "yourdict = {'파랑':50, '빨강':70}\n",
    "d.update(yourdict)\n",
    "d"
   ]
  }
 ],
 "metadata": {
  "kernelspec": {
   "display_name": "Python 3 (ipykernel)",
   "language": "python",
   "name": "python3"
  },
  "language_info": {
   "codemirror_mode": {
    "name": "ipython",
    "version": 3
   },
   "file_extension": ".py",
   "mimetype": "text/x-python",
   "name": "python",
   "nbconvert_exporter": "python",
   "pygments_lexer": "ipython3",
   "version": "3.9.7"
  }
 },
 "nbformat": 4,
 "nbformat_minor": 5
}
