{
 "cells": [
  {
   "cell_type": "code",
   "execution_count": 1,
   "id": "f31bb284",
   "metadata": {},
   "outputs": [],
   "source": [
    "import pandas as pd\n",
    "import numpy as np\n",
    "import matplotlib.pyplot as plt\n",
    "import seaborn as sns\n",
    "import warnings\n",
    "warnings.filterwarnings(action='ignore') \n",
    "\n",
    "import requests\n",
    "from bs4 import BeautifulSoup\n",
    "from selenium import webdriver\n",
    "\n",
    "import MySQLdb\n",
    "import re"
   ]
  },
  {
   "cell_type": "code",
   "execution_count": 2,
   "id": "84cc7302",
   "metadata": {},
   "outputs": [],
   "source": [
    "driver = webdriver.Chrome()\n",
    "\n",
    "url = 'http://www.cine21.com/rank/person'\n",
    "\n",
    "elem = driver.get(url)"
   ]
  },
  {
   "cell_type": "code",
   "execution_count": 3,
   "id": "72ba8f01",
   "metadata": {},
   "outputs": [],
   "source": [
    "html = driver.page_source\n",
    "soup = BeautifulSoup(html, 'html.parser')"
   ]
  },
  {
   "cell_type": "code",
   "execution_count": 4,
   "id": "8ef72a7d",
   "metadata": {},
   "outputs": [],
   "source": [
    "path = '#rank_holder > ul > li'\n",
    "\n",
    "dd = soup.select(path)"
   ]
  },
  {
   "cell_type": "code",
   "execution_count": 5,
   "id": "59137aa0",
   "metadata": {},
   "outputs": [
    {
     "data": {
      "text/plain": [
       "'강하늘(2편)'"
      ]
     },
     "execution_count": 5,
     "metadata": {},
     "output_type": "execute_result"
    }
   ],
   "source": [
    "name = dd[0].select('div > a')[0].text\n",
    "name"
   ]
  },
  {
   "cell_type": "code",
   "execution_count": 6,
   "id": "25b717dd",
   "metadata": {},
   "outputs": [],
   "source": [
    "actor_dict = dict()"
   ]
  },
  {
   "cell_type": "code",
   "execution_count": 31,
   "id": "715d6dec",
   "metadata": {},
   "outputs": [],
   "source": [
    "rank = []\n",
    "name = []\n",
    "like = []\n",
    "movie = []\n",
    "movie_li = []\n",
    "\n",
    "\n",
    "\n",
    "for i in dd:\n",
    "    rank.append(i.select('span.grade')[0].text)\n",
    "    name.append(i.select('div > a')[0].text[:3])\n",
    "    like.append(i.select(' ul.num_info > li > strong')[0].text.replace(',',''))\n",
    "           \n",
    "    \n",
    "    \n",
    "# print(rank)\n",
    "# print(name)\n",
    "# print(like)\n",
    "    \n"
   ]
  },
  {
   "cell_type": "code",
   "execution_count": 32,
   "id": "b50c245f",
   "metadata": {},
   "outputs": [],
   "source": [
    "ff = soup.select('li.people_li ul.mov_list')\n",
    "for s in ff:\n",
    "    actor_movie = []\n",
    "    for l in s.select('span'):\n",
    "        actor_movie.append(l.text.strip())\n",
    "    movie_li.append(actor_movie)"
   ]
  },
  {
   "cell_type": "code",
   "execution_count": 40,
   "id": "6a55e023",
   "metadata": {},
   "outputs": [
    {
     "data": {
      "text/plain": [
       "[['해적: 도깨비 깃발', '해피 뉴 이어'],\n",
       " ['해적: 도깨비 깃발'],\n",
       " ['해적: 도깨비 깃발', '해피 뉴 이어'],\n",
       " ['해적: 도깨비 깃발'],\n",
       " ['경관의 피', '1984 최동원'],\n",
       " ['경관의 피'],\n",
       " ['해적: 도깨비 깃발']]"
      ]
     },
     "execution_count": 40,
     "metadata": {},
     "output_type": "execute_result"
    }
   ],
   "source": [
    "movie_li"
   ]
  },
  {
   "cell_type": "code",
   "execution_count": 34,
   "id": "50553a0d",
   "metadata": {},
   "outputs": [
    {
     "data": {
      "text/plain": [
       "{'rank': ['1', '2', '3', '4', '5', '6', '7'],\n",
       " 'name': ['강하늘', '한효주', '이광수', '권상우', '조진웅', '박희순', '채수빈'],\n",
       " 'like': ['79146', '67355', '59495', '48111', '46097', '40924', '38489'],\n",
       " 'movie': [['해적: 도깨비 깃발', '해피 뉴 이어'],\n",
       "  ['해적: 도깨비 깃발'],\n",
       "  ['해적: 도깨비 깃발', '해피 뉴 이어'],\n",
       "  ['해적: 도깨비 깃발'],\n",
       "  ['경관의 피', '1984 최동원'],\n",
       "  ['경관의 피'],\n",
       "  ['해적: 도깨비 깃발']]}"
      ]
     },
     "execution_count": 34,
     "metadata": {},
     "output_type": "execute_result"
    }
   ],
   "source": [
    "actor_dict['rank'] = rank\n",
    "actor_dict['name'] = name\n",
    "actor_dict['like'] = like\n",
    "actor_dict['movie'] = movie_li\n",
    "actor_dict"
   ]
  },
  {
   "cell_type": "code",
   "execution_count": null,
   "id": "c21bde9f",
   "metadata": {},
   "outputs": [],
   "source": []
  },
  {
   "cell_type": "code",
   "execution_count": 108,
   "id": "a36348bf",
   "metadata": {},
   "outputs": [
    {
     "data": {
      "text/plain": [
       "['http://www.cine21.com//db/person/info/?person_id=78487',\n",
       " 'http://www.cine21.com//db/person/info/?person_id=56311',\n",
       " 'http://www.cine21.com//db/person/info/?person_id=71308',\n",
       " 'http://www.cine21.com//db/person/info/?person_id=15225',\n",
       " 'http://www.cine21.com//db/person/info/?person_id=60358',\n",
       " 'http://www.cine21.com//db/person/info/?person_id=20772',\n",
       " 'http://www.cine21.com//db/person/info/?person_id=95811']"
      ]
     },
     "execution_count": 108,
     "metadata": {},
     "output_type": "execute_result"
    }
   ],
   "source": [
    "main_url = 'http://www.cine21.com/'\n",
    "actor_url = []\n",
    "\n",
    "for i in dd:\n",
    "    actor_url.append(main_url+i.select('div > a')[0]['href'])\n",
    "    \n",
    "actor_url"
   ]
  },
  {
   "cell_type": "code",
   "execution_count": 109,
   "id": "5bd507f0",
   "metadata": {},
   "outputs": [],
   "source": [
    "actor_info_li = []\n",
    "actor_info = dict()\n"
   ]
  },
  {
   "cell_type": "code",
   "execution_count": 106,
   "id": "1a141957",
   "metadata": {},
   "outputs": [],
   "source": [
    "driver.get(actor_url[0])"
   ]
  },
  {
   "cell_type": "code",
   "execution_count": 107,
   "id": "026ec8a2",
   "metadata": {},
   "outputs": [
    {
     "data": {
      "text/plain": [
       "{'다른 이름': '김하늘',\n",
       " '직업': '배우',\n",
       " '생년월일': '1990-02-21',\n",
       " '성별': '남',\n",
       " '홈페이지': 'http://weibo.com/galpos3?is_hot=1',\n",
       " '신장/체중': '181cm, 70kg',\n",
       " '학교': '중앙대학교 연극학과',\n",
       " '취미': '영화감상',\n",
       " '소속사': '킹콩엔터테인먼트'}"
      ]
     },
     "execution_count": 107,
     "metadata": {},
     "output_type": "execute_result"
    }
   ],
   "source": [
    "html = driver.page_source\n",
    "soup = BeautifulSoup(html,'html.parser')\n",
    "\n",
    "sub_path = '#info_content > div.default_info_area > ul '\n",
    "\n",
    "sub = soup.select(sub_path)\n",
    "\n",
    "actor = sub[0].select('li')\n",
    "\n",
    "actor\n",
    "\n",
    "for i in actor:\n",
    "    key = i.select('span')[0].text\n",
    "    li = re.sub(\"<span.*?>.*?</span>\", '', str(i))\n",
    "    value = re.sub(\"<.+?>\", \"\", li)\n",
    "#     print(value.strip())\n",
    "    \n",
    "    actor_info[key] = value.strip()\n",
    "\n",
    "        \n",
    "actor_info\n"
   ]
  },
  {
   "cell_type": "code",
   "execution_count": 110,
   "id": "8d72e533",
   "metadata": {},
   "outputs": [],
   "source": [
    "\n",
    "\n",
    "for i in actor_url:\n",
    "    actor_info = dict()\n",
    "    driver.get(i)\n",
    "    html = driver.page_source\n",
    "    soup = BeautifulSoup(html,'html.parser')\n",
    "\n",
    "    sub_path = '#info_content > div.default_info_area > ul '\n",
    "\n",
    "    sub = soup.select(sub_path)\n",
    "\n",
    "    actor = sub[0].select('li')\n",
    "\n",
    "    actor\n",
    "\n",
    "    for i in actor:\n",
    "        key = i.select('span')[0].text\n",
    "        li = re.sub(\"<span.*?>.*?</span>\", '', str(i))\n",
    "        value = re.sub(\"<.+?>\", \"\", li)\n",
    "#     print(value.strip())\n",
    "    \n",
    "        actor_info[key] = value.strip()\n",
    "    actor_info_li.append(actor_info)\n",
    "        \n"
   ]
  },
  {
   "cell_type": "code",
   "execution_count": 111,
   "id": "3269fa43",
   "metadata": {},
   "outputs": [
    {
     "data": {
      "text/plain": [
       "[{'다른 이름': '김하늘',\n",
       "  '직업': '배우',\n",
       "  '생년월일': '1990-02-21',\n",
       "  '성별': '남',\n",
       "  '홈페이지': 'http://weibo.com/galpos3?is_hot=1',\n",
       "  '신장/체중': '181cm, 70kg',\n",
       "  '학교': '중앙대학교 연극학과'},\n",
       " {'직업': '배우',\n",
       "  '생년월일': '1987-02-22',\n",
       "  '성별': '여',\n",
       "  '홈페이지': 'https://www.facebook.com/hhj.official',\n",
       "  '신장/체중': '170cm',\n",
       "  '학교': '동국대학교 연극영화',\n",
       "  '취미': '영화감상'},\n",
       " {'직업': '배우',\n",
       "  '생년월일': '1985-07-14',\n",
       "  '성별': '남',\n",
       "  '홈페이지': 'https://twitter.com/masijacoke85\\nhttps://www.instagram.com/masijacoke850714/',\n",
       "  '신장/체중': '190cm',\n",
       "  '소속사': '킹콩엔터테인먼트'},\n",
       " {'다른 이름': 'Kwon Sang Woo',\n",
       "  '직업': '배우',\n",
       "  '생년월일': '1976-08-05',\n",
       "  '성별': '남',\n",
       "  '신장/체중': '183cm, 72kg',\n",
       "  '학교': '한남대학교 미술교육학 학사',\n",
       "  '취미': '수영, 헬스, 복싱',\n",
       "  '특기': '농구',\n",
       "  '소속사': '벨액터스 엔터테인먼트'},\n",
       " {'다른 이름': '조원준',\n",
       "  '직업': '배우',\n",
       "  '생년월일': '1976-03-03',\n",
       "  '성별': '남',\n",
       "  '홈페이지': 'http://www.facebook.com/saram.chojinwoong',\n",
       "  '신장/체중': '185cm, 98kg',\n",
       "  '학교': '경성대학교 연극영화',\n",
       "  '특기': '진도 북춤',\n",
       "  '소속사': '㈜사람엔터테인먼트'},\n",
       " {'직업': '배우',\n",
       "  '생년월일': '1970-02-13',\n",
       "  '성별': '남',\n",
       "  '홈페이지': 'https://twitter.com/sulebari',\n",
       "  '신장/체중': '180cm, 70kg',\n",
       "  '학교': '서울예술대학 연극과'},\n",
       " {'직업': '배우',\n",
       "  '생년월일': '1994-07-10',\n",
       "  '성별': '여',\n",
       "  '홈페이지': 'https://instagram.com/soobinms/\\nhttps://www.facebook.com/OfficialChaesoobin'}]"
      ]
     },
     "execution_count": 111,
     "metadata": {},
     "output_type": "execute_result"
    }
   ],
   "source": [
    "actor_info_li"
   ]
  },
  {
   "cell_type": "markdown",
   "id": "88e1ce3a",
   "metadata": {},
   "source": [
    "# 데이터프레임 만들기"
   ]
  },
  {
   "cell_type": "code",
   "execution_count": 37,
   "id": "a5a71e37",
   "metadata": {},
   "outputs": [],
   "source": [
    "df_actor = pd.DataFrame(actor_dict)"
   ]
  },
  {
   "cell_type": "code",
   "execution_count": 38,
   "id": "0b5fffcf",
   "metadata": {},
   "outputs": [
    {
     "data": {
      "text/html": [
       "<div>\n",
       "<style scoped>\n",
       "    .dataframe tbody tr th:only-of-type {\n",
       "        vertical-align: middle;\n",
       "    }\n",
       "\n",
       "    .dataframe tbody tr th {\n",
       "        vertical-align: top;\n",
       "    }\n",
       "\n",
       "    .dataframe thead th {\n",
       "        text-align: right;\n",
       "    }\n",
       "</style>\n",
       "<table border=\"1\" class=\"dataframe\">\n",
       "  <thead>\n",
       "    <tr style=\"text-align: right;\">\n",
       "      <th></th>\n",
       "      <th>rank</th>\n",
       "      <th>name</th>\n",
       "      <th>like</th>\n",
       "      <th>movie</th>\n",
       "    </tr>\n",
       "  </thead>\n",
       "  <tbody>\n",
       "    <tr>\n",
       "      <th>0</th>\n",
       "      <td>1</td>\n",
       "      <td>강하늘</td>\n",
       "      <td>79146</td>\n",
       "      <td>[해적: 도깨비 깃발, 해피 뉴 이어]</td>\n",
       "    </tr>\n",
       "    <tr>\n",
       "      <th>1</th>\n",
       "      <td>2</td>\n",
       "      <td>한효주</td>\n",
       "      <td>67355</td>\n",
       "      <td>[해적: 도깨비 깃발]</td>\n",
       "    </tr>\n",
       "    <tr>\n",
       "      <th>2</th>\n",
       "      <td>3</td>\n",
       "      <td>이광수</td>\n",
       "      <td>59495</td>\n",
       "      <td>[해적: 도깨비 깃발, 해피 뉴 이어]</td>\n",
       "    </tr>\n",
       "    <tr>\n",
       "      <th>3</th>\n",
       "      <td>4</td>\n",
       "      <td>권상우</td>\n",
       "      <td>48111</td>\n",
       "      <td>[해적: 도깨비 깃발]</td>\n",
       "    </tr>\n",
       "    <tr>\n",
       "      <th>4</th>\n",
       "      <td>5</td>\n",
       "      <td>조진웅</td>\n",
       "      <td>46097</td>\n",
       "      <td>[경관의 피, 1984 최동원]</td>\n",
       "    </tr>\n",
       "    <tr>\n",
       "      <th>5</th>\n",
       "      <td>6</td>\n",
       "      <td>박희순</td>\n",
       "      <td>40924</td>\n",
       "      <td>[경관의 피]</td>\n",
       "    </tr>\n",
       "    <tr>\n",
       "      <th>6</th>\n",
       "      <td>7</td>\n",
       "      <td>채수빈</td>\n",
       "      <td>38489</td>\n",
       "      <td>[해적: 도깨비 깃발]</td>\n",
       "    </tr>\n",
       "  </tbody>\n",
       "</table>\n",
       "</div>"
      ],
      "text/plain": [
       "  rank name   like                  movie\n",
       "0    1  강하늘  79146  [해적: 도깨비 깃발, 해피 뉴 이어]\n",
       "1    2  한효주  67355           [해적: 도깨비 깃발]\n",
       "2    3  이광수  59495  [해적: 도깨비 깃발, 해피 뉴 이어]\n",
       "3    4  권상우  48111           [해적: 도깨비 깃발]\n",
       "4    5  조진웅  46097      [경관의 피, 1984 최동원]\n",
       "5    6  박희순  40924                [경관의 피]\n",
       "6    7  채수빈  38489           [해적: 도깨비 깃발]"
      ]
     },
     "execution_count": 38,
     "metadata": {},
     "output_type": "execute_result"
    }
   ],
   "source": [
    "df_actor"
   ]
  },
  {
   "cell_type": "code",
   "execution_count": 112,
   "id": "22feaa2d",
   "metadata": {},
   "outputs": [
    {
     "ename": "ValueError",
     "evalue": "If using all scalar values, you must pass an index",
     "output_type": "error",
     "traceback": [
      "\u001b[1;31m---------------------------------------------------------------------------\u001b[0m",
      "\u001b[1;31mValueError\u001b[0m                                Traceback (most recent call last)",
      "\u001b[1;32m~\\AppData\\Local\\Temp/ipykernel_9416/1754262679.py\u001b[0m in \u001b[0;36m<module>\u001b[1;34m\u001b[0m\n\u001b[1;32m----> 1\u001b[1;33m \u001b[0mdf_actor_info_li\u001b[0m \u001b[1;33m=\u001b[0m \u001b[0mpd\u001b[0m\u001b[1;33m.\u001b[0m\u001b[0mDataFrame\u001b[0m\u001b[1;33m(\u001b[0m\u001b[0mactor_info\u001b[0m\u001b[1;33m)\u001b[0m\u001b[1;33m\u001b[0m\u001b[1;33m\u001b[0m\u001b[0m\n\u001b[0m\u001b[0;32m      2\u001b[0m \u001b[0mdf_actor_info_li\u001b[0m\u001b[1;33m\u001b[0m\u001b[1;33m\u001b[0m\u001b[0m\n",
      "\u001b[1;32m~\\Anaconda3\\lib\\site-packages\\pandas\\core\\frame.py\u001b[0m in \u001b[0;36m__init__\u001b[1;34m(self, data, index, columns, dtype, copy)\u001b[0m\n\u001b[0;32m    612\u001b[0m         \u001b[1;32melif\u001b[0m \u001b[0misinstance\u001b[0m\u001b[1;33m(\u001b[0m\u001b[0mdata\u001b[0m\u001b[1;33m,\u001b[0m \u001b[0mdict\u001b[0m\u001b[1;33m)\u001b[0m\u001b[1;33m:\u001b[0m\u001b[1;33m\u001b[0m\u001b[1;33m\u001b[0m\u001b[0m\n\u001b[0;32m    613\u001b[0m             \u001b[1;31m# GH#38939 de facto copy defaults to False only in non-dict cases\u001b[0m\u001b[1;33m\u001b[0m\u001b[1;33m\u001b[0m\u001b[0m\n\u001b[1;32m--> 614\u001b[1;33m             \u001b[0mmgr\u001b[0m \u001b[1;33m=\u001b[0m \u001b[0mdict_to_mgr\u001b[0m\u001b[1;33m(\u001b[0m\u001b[0mdata\u001b[0m\u001b[1;33m,\u001b[0m \u001b[0mindex\u001b[0m\u001b[1;33m,\u001b[0m \u001b[0mcolumns\u001b[0m\u001b[1;33m,\u001b[0m \u001b[0mdtype\u001b[0m\u001b[1;33m=\u001b[0m\u001b[0mdtype\u001b[0m\u001b[1;33m,\u001b[0m \u001b[0mcopy\u001b[0m\u001b[1;33m=\u001b[0m\u001b[0mcopy\u001b[0m\u001b[1;33m,\u001b[0m \u001b[0mtyp\u001b[0m\u001b[1;33m=\u001b[0m\u001b[0mmanager\u001b[0m\u001b[1;33m)\u001b[0m\u001b[1;33m\u001b[0m\u001b[1;33m\u001b[0m\u001b[0m\n\u001b[0m\u001b[0;32m    615\u001b[0m         \u001b[1;32melif\u001b[0m \u001b[0misinstance\u001b[0m\u001b[1;33m(\u001b[0m\u001b[0mdata\u001b[0m\u001b[1;33m,\u001b[0m \u001b[0mma\u001b[0m\u001b[1;33m.\u001b[0m\u001b[0mMaskedArray\u001b[0m\u001b[1;33m)\u001b[0m\u001b[1;33m:\u001b[0m\u001b[1;33m\u001b[0m\u001b[1;33m\u001b[0m\u001b[0m\n\u001b[0;32m    616\u001b[0m             \u001b[1;32mimport\u001b[0m \u001b[0mnumpy\u001b[0m\u001b[1;33m.\u001b[0m\u001b[0mma\u001b[0m\u001b[1;33m.\u001b[0m\u001b[0mmrecords\u001b[0m \u001b[1;32mas\u001b[0m \u001b[0mmrecords\u001b[0m\u001b[1;33m\u001b[0m\u001b[1;33m\u001b[0m\u001b[0m\n",
      "\u001b[1;32m~\\Anaconda3\\lib\\site-packages\\pandas\\core\\internals\\construction.py\u001b[0m in \u001b[0;36mdict_to_mgr\u001b[1;34m(data, index, columns, dtype, typ, copy)\u001b[0m\n\u001b[0;32m    462\u001b[0m         \u001b[1;31m# TODO: can we get rid of the dt64tz special case above?\u001b[0m\u001b[1;33m\u001b[0m\u001b[1;33m\u001b[0m\u001b[0m\n\u001b[0;32m    463\u001b[0m \u001b[1;33m\u001b[0m\u001b[0m\n\u001b[1;32m--> 464\u001b[1;33m     return arrays_to_mgr(\n\u001b[0m\u001b[0;32m    465\u001b[0m         \u001b[0marrays\u001b[0m\u001b[1;33m,\u001b[0m \u001b[0mdata_names\u001b[0m\u001b[1;33m,\u001b[0m \u001b[0mindex\u001b[0m\u001b[1;33m,\u001b[0m \u001b[0mcolumns\u001b[0m\u001b[1;33m,\u001b[0m \u001b[0mdtype\u001b[0m\u001b[1;33m=\u001b[0m\u001b[0mdtype\u001b[0m\u001b[1;33m,\u001b[0m \u001b[0mtyp\u001b[0m\u001b[1;33m=\u001b[0m\u001b[0mtyp\u001b[0m\u001b[1;33m,\u001b[0m \u001b[0mconsolidate\u001b[0m\u001b[1;33m=\u001b[0m\u001b[0mcopy\u001b[0m\u001b[1;33m\u001b[0m\u001b[1;33m\u001b[0m\u001b[0m\n\u001b[0;32m    466\u001b[0m     )\n",
      "\u001b[1;32m~\\Anaconda3\\lib\\site-packages\\pandas\\core\\internals\\construction.py\u001b[0m in \u001b[0;36marrays_to_mgr\u001b[1;34m(arrays, arr_names, index, columns, dtype, verify_integrity, typ, consolidate)\u001b[0m\n\u001b[0;32m    117\u001b[0m         \u001b[1;31m# figure out the index, if necessary\u001b[0m\u001b[1;33m\u001b[0m\u001b[1;33m\u001b[0m\u001b[0m\n\u001b[0;32m    118\u001b[0m         \u001b[1;32mif\u001b[0m \u001b[0mindex\u001b[0m \u001b[1;32mis\u001b[0m \u001b[1;32mNone\u001b[0m\u001b[1;33m:\u001b[0m\u001b[1;33m\u001b[0m\u001b[1;33m\u001b[0m\u001b[0m\n\u001b[1;32m--> 119\u001b[1;33m             \u001b[0mindex\u001b[0m \u001b[1;33m=\u001b[0m \u001b[0m_extract_index\u001b[0m\u001b[1;33m(\u001b[0m\u001b[0marrays\u001b[0m\u001b[1;33m)\u001b[0m\u001b[1;33m\u001b[0m\u001b[1;33m\u001b[0m\u001b[0m\n\u001b[0m\u001b[0;32m    120\u001b[0m         \u001b[1;32melse\u001b[0m\u001b[1;33m:\u001b[0m\u001b[1;33m\u001b[0m\u001b[1;33m\u001b[0m\u001b[0m\n\u001b[0;32m    121\u001b[0m             \u001b[0mindex\u001b[0m \u001b[1;33m=\u001b[0m \u001b[0mensure_index\u001b[0m\u001b[1;33m(\u001b[0m\u001b[0mindex\u001b[0m\u001b[1;33m)\u001b[0m\u001b[1;33m\u001b[0m\u001b[1;33m\u001b[0m\u001b[0m\n",
      "\u001b[1;32m~\\Anaconda3\\lib\\site-packages\\pandas\\core\\internals\\construction.py\u001b[0m in \u001b[0;36m_extract_index\u001b[1;34m(data)\u001b[0m\n\u001b[0;32m    623\u001b[0m \u001b[1;33m\u001b[0m\u001b[0m\n\u001b[0;32m    624\u001b[0m         \u001b[1;32mif\u001b[0m \u001b[1;32mnot\u001b[0m \u001b[0mindexes\u001b[0m \u001b[1;32mand\u001b[0m \u001b[1;32mnot\u001b[0m \u001b[0mraw_lengths\u001b[0m\u001b[1;33m:\u001b[0m\u001b[1;33m\u001b[0m\u001b[1;33m\u001b[0m\u001b[0m\n\u001b[1;32m--> 625\u001b[1;33m             \u001b[1;32mraise\u001b[0m \u001b[0mValueError\u001b[0m\u001b[1;33m(\u001b[0m\u001b[1;34m\"If using all scalar values, you must pass an index\"\u001b[0m\u001b[1;33m)\u001b[0m\u001b[1;33m\u001b[0m\u001b[1;33m\u001b[0m\u001b[0m\n\u001b[0m\u001b[0;32m    626\u001b[0m \u001b[1;33m\u001b[0m\u001b[0m\n\u001b[0;32m    627\u001b[0m         \u001b[1;32mif\u001b[0m \u001b[0mhave_series\u001b[0m\u001b[1;33m:\u001b[0m\u001b[1;33m\u001b[0m\u001b[1;33m\u001b[0m\u001b[0m\n",
      "\u001b[1;31mValueError\u001b[0m: If using all scalar values, you must pass an index"
     ]
    }
   ],
   "source": [
    "df_actor_info_li = pd.DataFrame(actor_info)\n",
    "df_actor_info_li"
   ]
  },
  {
   "cell_type": "code",
   "execution_count": null,
   "id": "d5ee1b73",
   "metadata": {},
   "outputs": [],
   "source": []
  },
  {
   "cell_type": "code",
   "execution_count": null,
   "id": "9e59af7c",
   "metadata": {},
   "outputs": [],
   "source": []
  },
  {
   "cell_type": "code",
   "execution_count": null,
   "id": "88732380",
   "metadata": {},
   "outputs": [],
   "source": []
  },
  {
   "cell_type": "code",
   "execution_count": null,
   "id": "08d8feab",
   "metadata": {},
   "outputs": [],
   "source": []
  },
  {
   "cell_type": "code",
   "execution_count": null,
   "id": "7e33f5c8",
   "metadata": {},
   "outputs": [],
   "source": []
  },
  {
   "cell_type": "code",
   "execution_count": null,
   "id": "f855eabc",
   "metadata": {},
   "outputs": [],
   "source": []
  },
  {
   "cell_type": "code",
   "execution_count": null,
   "id": "f49a4ab9",
   "metadata": {},
   "outputs": [],
   "source": []
  },
  {
   "cell_type": "code",
   "execution_count": null,
   "id": "b924e40d",
   "metadata": {},
   "outputs": [],
   "source": []
  }
 ],
 "metadata": {
  "kernelspec": {
   "display_name": "Python 3 (ipykernel)",
   "language": "python",
   "name": "python3"
  },
  "language_info": {
   "codemirror_mode": {
    "name": "ipython",
    "version": 3
   },
   "file_extension": ".py",
   "mimetype": "text/x-python",
   "name": "python",
   "nbconvert_exporter": "python",
   "pygments_lexer": "ipython3",
   "version": "3.9.7"
  },
  "varInspector": {
   "cols": {
    "lenName": 16,
    "lenType": 16,
    "lenVar": 40
   },
   "kernels_config": {
    "python": {
     "delete_cmd_postfix": "",
     "delete_cmd_prefix": "del ",
     "library": "var_list.py",
     "varRefreshCmd": "print(var_dic_list())"
    },
    "r": {
     "delete_cmd_postfix": ") ",
     "delete_cmd_prefix": "rm(",
     "library": "var_list.r",
     "varRefreshCmd": "cat(var_dic_list()) "
    }
   },
   "types_to_exclude": [
    "module",
    "function",
    "builtin_function_or_method",
    "instance",
    "_Feature"
   ],
   "window_display": false
  }
 },
 "nbformat": 4,
 "nbformat_minor": 5
}
