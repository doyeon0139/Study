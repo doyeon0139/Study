{
 "cells": [
  {
   "cell_type": "code",
   "execution_count": 1,
   "id": "f31bb284",
   "metadata": {},
   "outputs": [],
   "source": [
    "import pandas as pd\n",
    "import numpy as np\n",
    "import matplotlib.pyplot as plt\n",
    "import seaborn as sns\n",
    "import warnings\n",
    "warnings.filterwarnings(action='ignore') \n",
    "\n",
    "import requests\n",
    "from bs4 import BeautifulSoup\n",
    "from selenium import webdriver\n",
    "\n",
    "import MySQLdb\n",
    "import re"
   ]
  },
  {
   "cell_type": "code",
   "execution_count": 8,
   "id": "84cc7302",
   "metadata": {},
   "outputs": [],
   "source": [
    "driver = webdriver.Chrome()\n",
    "\n",
    "url = 'http://www.cine21.com/rank/person'\n",
    "\n",
    "elem = driver.get(url)"
   ]
  },
  {
   "cell_type": "code",
   "execution_count": 9,
   "id": "72ba8f01",
   "metadata": {},
   "outputs": [],
   "source": [
    "html = driver.page_source\n",
    "soup = BeautifulSoup(html, 'html.parser')"
   ]
  },
  {
   "cell_type": "code",
   "execution_count": 11,
   "id": "8ef72a7d",
   "metadata": {},
   "outputs": [],
   "source": [
    "path = '#rank_holder > ul > li'\n",
    "\n",
    "dd = soup.select(path)"
   ]
  },
  {
   "cell_type": "code",
   "execution_count": 16,
   "id": "59137aa0",
   "metadata": {
    "collapsed": true
   },
   "outputs": [
    {
     "data": {
      "text/plain": [
       "'강하늘(2편)'"
      ]
     },
     "execution_count": 16,
     "metadata": {},
     "output_type": "execute_result"
    }
   ],
   "source": [
    "name = dd[0].select('div > a')[0].text\n",
    "name"
   ]
  },
  {
   "cell_type": "code",
   "execution_count": 83,
   "id": "25b717dd",
   "metadata": {},
   "outputs": [],
   "source": [
    "actor_dict = dict()"
   ]
  },
  {
   "cell_type": "code",
   "execution_count": 107,
   "id": "715d6dec",
   "metadata": {},
   "outputs": [
    {
     "name": "stdout",
     "output_type": "stream",
     "text": [
      "['해적: 도깨비 깃발', '해적: 도깨비 깃발', '해적: 도깨비 깃발', '해적: 도깨비 깃발', '해적: 도깨비 깃발', '해적: 도깨비 깃발', '경관의 피', '경관의 피', '경관의 피', '해적: 도깨비 깃발']\n"
     ]
    }
   ],
   "source": [
    "rank = []\n",
    "name = []\n",
    "like = []\n",
    "movie = []\n",
    "\n",
    "\n",
    "\n",
    "for i in dd:\n",
    "    rank.append(i.select('span.grade')[0].text)\n",
    "    name.append(i.select('div > a')[0].text[:3])\n",
    "    like.append(i.select(' ul.num_info > li > strong')[0].text.replace(',',''))\n",
    "    \n",
    "            movie_title_list = list()\n",
    "        for movie_title in movie_titles:\n",
    "            movie_title_list.append(movie_title.text)\n",
    "    for j in i.select('ul.mov_list > li > a > span'):\n",
    "        movie.append(i.select('ul.mov_list > li > a > span')[0].text)\n",
    "        \n",
    "#     movie.append(i.select('ul.mov_list > li > a > span')[0].text)\n",
    "    \n",
    "    \n",
    "# print(rank)\n",
    "# print(name)\n",
    "# print(like)\n",
    "print(movie)\n",
    "    \n"
   ]
  },
  {
   "cell_type": "code",
   "execution_count": 65,
   "id": "f97df5c9",
   "metadata": {},
   "outputs": [
    {
     "data": {
      "text/plain": [
       "'http://www.cine21.com/db/person/info/?person_id=78487'"
      ]
     },
     "execution_count": 65,
     "metadata": {},
     "output_type": "execute_result"
    }
   ],
   "source": [
    "actor_url = dd[0].select('div > a')[0]['href']\n",
    "actor_url\n",
    "main_url = 'http://www.cine21.com'\n",
    "main_url+actor_url"
   ]
  },
  {
   "cell_type": "code",
   "execution_count": 66,
   "id": "38315e3b",
   "metadata": {},
   "outputs": [],
   "source": [
    "url = main_url+actor_url\n",
    "\n",
    "# driver.get(url)"
   ]
  },
  {
   "cell_type": "code",
   "execution_count": 64,
   "id": "a36348bf",
   "metadata": {},
   "outputs": [
    {
     "data": {
      "text/plain": [
       "['http://www.cine21.com/db/person/db/person/info/?person_id=78487',\n",
       " 'http://www.cine21.com/db/person/db/person/info/?person_id=56311',\n",
       " 'http://www.cine21.com/db/person/db/person/info/?person_id=71308',\n",
       " 'http://www.cine21.com/db/person/db/person/info/?person_id=15225',\n",
       " 'http://www.cine21.com/db/person/db/person/info/?person_id=60358',\n",
       " 'http://www.cine21.com/db/person/db/person/info/?person_id=20772',\n",
       " 'http://www.cine21.com/db/person/db/person/info/?person_id=95811']"
      ]
     },
     "execution_count": 64,
     "metadata": {},
     "output_type": "execute_result"
    }
   ],
   "source": [
    "main_url = 'http://www.cine21.com/db/person'\n",
    "actor_url = []\n",
    "\n",
    "for i in dd:\n",
    "    actor_url.append(main_url+i.select('div > a')[0]['href'])\n",
    "    \n",
    "\n",
    "    actor_url"
   ]
  },
  {
   "cell_type": "code",
   "execution_count": null,
   "id": "c8385f1b",
   "metadata": {},
   "outputs": [],
   "source": [
    "for "
   ]
  },
  {
   "cell_type": "code",
   "execution_count": 102,
   "id": "5bd507f0",
   "metadata": {},
   "outputs": [],
   "source": [
    "actor_info = dict()"
   ]
  },
  {
   "cell_type": "code",
   "execution_count": 104,
   "id": "026ec8a2",
   "metadata": {},
   "outputs": [
    {
     "data": {
      "text/plain": [
       "{'다른 이름': '김하늘',\n",
       " '직업': '배우',\n",
       " '생년월일': '1990-02-21',\n",
       " '성별': '남',\n",
       " '홈페이지': 'http://weibo.com/galpos3?is_hot=1',\n",
       " '신장/체중': '181cm, 70kg',\n",
       " '학교': '중앙대학교 연극학과'}"
      ]
     },
     "execution_count": 104,
     "metadata": {},
     "output_type": "execute_result"
    }
   ],
   "source": [
    "html = driver.page_source\n",
    "soup = BeautifulSoup(html,'html.parser')\n",
    "\n",
    "sub_path = '#info_content > div.default_info_area > ul '\n",
    "\n",
    "sub = soup.select(sub_path)\n",
    "\n",
    "actor = sub[0].select('li')\n",
    "\n",
    "actor\n",
    "\n",
    "for i in actor:\n",
    "    key = i.select('span')[0].text\n",
    "    li = re.sub(\"<span.*?>.*?</span>\", '', str(i))\n",
    "    value = re.sub(\"<.+?>\", \"\", li)\n",
    "#     print(value.strip())\n",
    "    \n",
    "    actor_info[key] = value.strip()\n",
    "\n",
    "        \n",
    "actor_info\n"
   ]
  },
  {
   "cell_type": "code",
   "execution_count": null,
   "id": "ad76ce7a",
   "metadata": {},
   "outputs": [],
   "source": []
  },
  {
   "cell_type": "code",
   "execution_count": null,
   "id": "a5a71e37",
   "metadata": {},
   "outputs": [],
   "source": []
  },
  {
   "cell_type": "code",
   "execution_count": null,
   "id": "0b5fffcf",
   "metadata": {},
   "outputs": [],
   "source": []
  },
  {
   "cell_type": "code",
   "execution_count": null,
   "id": "22feaa2d",
   "metadata": {},
   "outputs": [],
   "source": []
  },
  {
   "cell_type": "code",
   "execution_count": null,
   "id": "d5ee1b73",
   "metadata": {},
   "outputs": [],
   "source": []
  },
  {
   "cell_type": "code",
   "execution_count": null,
   "id": "9e59af7c",
   "metadata": {},
   "outputs": [],
   "source": []
  },
  {
   "cell_type": "code",
   "execution_count": null,
   "id": "88732380",
   "metadata": {},
   "outputs": [],
   "source": []
  },
  {
   "cell_type": "code",
   "execution_count": null,
   "id": "08d8feab",
   "metadata": {},
   "outputs": [],
   "source": []
  },
  {
   "cell_type": "code",
   "execution_count": null,
   "id": "7e33f5c8",
   "metadata": {},
   "outputs": [],
   "source": []
  },
  {
   "cell_type": "code",
   "execution_count": null,
   "id": "f855eabc",
   "metadata": {},
   "outputs": [],
   "source": []
  },
  {
   "cell_type": "code",
   "execution_count": null,
   "id": "f49a4ab9",
   "metadata": {},
   "outputs": [],
   "source": []
  },
  {
   "cell_type": "code",
   "execution_count": null,
   "id": "b924e40d",
   "metadata": {},
   "outputs": [],
   "source": []
  }
 ],
 "metadata": {
  "kernelspec": {
   "display_name": "Python 3 (ipykernel)",
   "language": "python",
   "name": "python3"
  },
  "language_info": {
   "codemirror_mode": {
    "name": "ipython",
    "version": 3
   },
   "file_extension": ".py",
   "mimetype": "text/x-python",
   "name": "python",
   "nbconvert_exporter": "python",
   "pygments_lexer": "ipython3",
   "version": "3.9.7"
  },
  "varInspector": {
   "cols": {
    "lenName": 16,
    "lenType": 16,
    "lenVar": 40
   },
   "kernels_config": {
    "python": {
     "delete_cmd_postfix": "",
     "delete_cmd_prefix": "del ",
     "library": "var_list.py",
     "varRefreshCmd": "print(var_dic_list())"
    },
    "r": {
     "delete_cmd_postfix": ") ",
     "delete_cmd_prefix": "rm(",
     "library": "var_list.r",
     "varRefreshCmd": "cat(var_dic_list()) "
    }
   },
   "types_to_exclude": [
    "module",
    "function",
    "builtin_function_or_method",
    "instance",
    "_Feature"
   ],
   "window_display": false
  }
 },
 "nbformat": 4,
 "nbformat_minor": 5
}
